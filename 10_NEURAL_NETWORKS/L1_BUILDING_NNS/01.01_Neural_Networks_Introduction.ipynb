{
 "cells": [
  {
   "cell_type": "code",
   "execution_count": 1,
   "id": "95dd32ca-986e-463a-b09c-6174c3946552",
   "metadata": {},
   "outputs": [],
   "source": [
    "# INTRODUCTION TO NEURAL NETWORKS\n",
    "# This lesson introduces neural networks, whihc are another kind of machine learning algorithm tha can solve classification and regression problems.\n",
    "# Uniquely among machine learning algorithms, neural networks can learn complex, nonlinear models that are commonly found in the financial realm.\n",
    "# Conceptually, neural networks were inspired by neurons in the human brain.\n",
    "# They can similarly scale to meet the complex environments where they operate.\n",
    "# Neural networks are not 'plug and play' - that is, they're not appropriate for every situation.\n",
    "# However, they are flexible in their applications.\n",
    "# And, when used as intended, they are powerful prediction tools.\n",
    "# In this lesson, you will learn how to build and use a neural network.\n",
    "# You will use components of the Keras and TensorFlow neural network model to preprocess input data and construct a neural network architecture."
   ]
  },
  {
   "cell_type": "code",
   "execution_count": 2,
   "id": "f78010ed-925a-4dab-af36-f5b98b93d218",
   "metadata": {},
   "outputs": [],
   "source": [
    "# WHAT IS A NEURAL NETWORK\n",
    "# Neural networks, also known as ARTIFICIAL NEURAL NETWORKS (ANN), are a set of algorithms that are modeled after the human brain.\n",
    "# They are an advanced form of machine learning that recognizes patterns and features of input data and provides a clear quantitative output.\n",
    "# In its simplest form, a neural network contains layers of neurons that perform individual computations.\n",
    "# These computations are connected and weighed against one another until the neurons reach the final layer.\n",
    "# In the final layer, the neurons return either a numerical result or an encoded categorical result.\n",
    "# Using a neural network instead of a traditional statistical or machine learning model has many advantages.\n",
    "# For instance, neural networks can effectively detect complex relationships within data.\n",
    "# A neural network might be able to predict future shopping behavior based on credit card transactions, or a loan applicant's likelihood of defaulting on a loan based on their application.\n",
    "# Additionally, neural networks have greater tolerance for messy data.\n",
    "# They can learn to ignore noisy characteristics within a large dataset.\n",
    "# There are two primary disadvantages to using a neural network:\n",
    "    # 1. The neural network algorithmns can be too copmlex for humans to dissect and understand (creating a black box issue).\n",
    "    # 2. Neural networks are prone to overfitting (characterizing the training data so well that the model does not effectively generalize to test data).\n",
    "# However, we can use various model designs and optimization techniques to account for and mitigate both of these disadvantages.\n",
    "# We will review how to do this later in the module.\n",
    "# Neural networks serve multiple purposes in the finance industry:\n",
    "    # 1. Fraud Detection: (https://www.javelinstrategy.com/coverage-area/future-proofing-card-authorization)\n",
    "    # 2. Risk Management: \n",
    "    # 3. Money Laundering Prevention: (https://www.unodc.org/unodc/en/money-laundering/overview.html#:~:text=The%20estimated%20amount%20of%20money,goes%20through%20the%20laundering%20cycle)\n",
    "    # 4. Algorithmic Trading: Thanks to trading algorithms that incorporate neural networks, you can automate your trading strategies and increase your trading profits.    "
   ]
  },
  {
   "cell_type": "code",
   "execution_count": 3,
   "id": "bf6eb850-b2f1-492e-8e0c-b6eb971acfeb",
   "metadata": {},
   "outputs": [],
   "source": [
    "# PERCEPTRON, THE COMPUTATIONAL NEURON\n",
    "# Artificial neural networks have become popular in recent years.\n",
    "# But the original design for computational neurons (and, subsequently, the neural network) dates back as far as the late 1950s.\n",
    "# That's when Frank Rosenblatt, a pioneer in the field of artificial intelligence, created the perceptron, a machine for training the first neural network.\n",
    "# The PERCEPTRON MODEL is a single neural network unit.\n",
    "# It mimics a biological neuron by receiving input data, weighting the information, and producing a clear output.\n",
    "# The perceptron model has four major components:\n",
    "    # 1. INPUT VALUES, typically labaeled x (chi, pronounced kaai, as in eye).\n",
    "    # 2. A WEIGHT COEFFICIENT for each input value, typically labeled w or omega.\n",
    "        # The weight coefficient determines the input value's strength - that is, the impact the input value has on the network.\n",
    "    # 3. A constant value called BIAS, which is added to the inputs in order to help best fit the model for a given dataset.\n",
    "        # It is typically w0. So, no matter how many inputs we have, there will be an additional value to 'stir the pot'.\n",
    "    # 4. A NET SUMMARY FUNCTION that aggregates all weighted inputs.\n",
    "# In fact, a moder neural network model is essentially a structure composed of several connected perceptrons that learn from input data to produce an output."
   ]
  },
  {
   "cell_type": "code",
   "execution_count": 4,
   "id": "bb248ebb-c470-4915-8455-a615c18def0c",
   "metadata": {},
   "outputs": [],
   "source": [
    "# ANATOMY OF A NEURAL NETWORK\n",
    "# Now that we understand the structure of a single neuron, let's look at the structure of a neural network.\n",
    "    # 1. An INPUT LAYER of input values transformed by weight coefficients.\n",
    "    # 2. A HIDDEN LAYER that can contain a single neuron or multiple neurons.\n",
    "    # 3. An OUTPUT LAYER that reports the outcome of the value."
   ]
  },
  {
   "cell_type": "code",
   "execution_count": 5,
   "id": "a74b66e4-264b-462b-b120-eb7019e6c4ee",
   "metadata": {},
   "outputs": [],
   "source": [
    "# ACTIVATION FUNCTIONS\n",
    "# As you've learned, neural networks work by linking together neurons that process input to produce a clear, quantitative output.\n",
    "# But if each neuron produces its own output, how does the neural network combine all of these outputs into a single classifier or regression model.\n",
    "# It uses an activation function.\n",
    "# The ACTIVATION FUNCTION is a mathematical function applied to the end of each neuron (that is, each individual perceptron model).\n",
    "# This function transforms each neuron's output into a quantitative value.\n",
    "# The quantitative output value is then used as the input value for the next layer in the neural network model.\n",
    "# Although activation functions can introduce both linear and nonlinear properties to a neural network, nonlinear activation functions are more common.\n",
    "# A wide variety of activation functions exist, and each has a specific purpose.\n",
    "# However, most neural networks will use one of the following activation functions:\n",
    "    # 1. The LINEAR FUNCTION returns the sum of the weighted inputs without transformation.\n",
    "    # 2. The SIGMOID FUNCTION transforms the neuron's output to a range between 0 and 1, which is especially useful predicting probabilities. A neural network that uses the sigmoid function will output a model with a characteristic S curve.\n",
    "    # 3. The TAHN FUNCTION transforms the output to a range between -1 and 1, and the resulting model also forms a characteristic S curve. The tahn function is primarily used for classification between two classes.\n",
    "    # 4. The RECTIFIED LINEAR UNIT (ReLU) FUNCTION returns a value from 0 to infinity. It is the most commonly used activation function in neural networks due to its faster learning and simplified output. However, it's not always appropriate for simpler models.\n",
    "    # 5. The LEAKY ReLU FUNCTION is a 'leaky' alternative to the ReLU function. This means that instead of transforming negative values to 0, it transforms negative input values into much smaller negative values."
   ]
  },
  {
   "cell_type": "code",
   "execution_count": null,
   "id": "579c160f-8266-4de2-be74-9ba5dfd88c5e",
   "metadata": {},
   "outputs": [],
   "source": [
    "# DEEP DIVE\n",
    "# When desinging a neural network, developers usually test different activation function combinations.\n",
    "# You can learn more about the formulas and the mathematical fundamentals behind each function from the following articles:\n",
    "    # 1. https://en.wikipedia.org/wiki/Activation_function\n",
    "    # 2. https://ml-cheatsheet.readthedocs.io/en/latest/activation_functions.html"
   ]
  }
 ],
 "metadata": {
  "kernelspec": {
   "display_name": "Python 3 (ipykernel)",
   "language": "python",
   "name": "python3"
  },
  "language_info": {
   "codemirror_mode": {
    "name": "ipython",
    "version": 3
   },
   "file_extension": ".py",
   "mimetype": "text/x-python",
   "name": "python",
   "nbconvert_exporter": "python",
   "pygments_lexer": "ipython3",
   "version": "3.9.13"
  }
 },
 "nbformat": 4,
 "nbformat_minor": 5
}

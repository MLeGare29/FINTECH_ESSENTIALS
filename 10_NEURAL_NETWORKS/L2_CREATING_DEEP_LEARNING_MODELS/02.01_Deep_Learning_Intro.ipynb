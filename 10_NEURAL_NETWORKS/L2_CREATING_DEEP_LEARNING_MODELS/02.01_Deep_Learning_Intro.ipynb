{
 "cells": [
  {
   "cell_type": "code",
   "execution_count": 1,
   "id": "b214eaaa-3a7c-4d14-8d17-101ea2f79aa3",
   "metadata": {},
   "outputs": [],
   "source": [
    "# INTRODUCTION TO DEEP LEARNING MODELS\n",
    "# In the previous lesson, we learned how neural networks operate and constructed our first neural network models.\n",
    "# Neural networks are powerful machine learning algorithms that discover relationships among data and predict future data points.\n",
    "# But what happens if our data includes complex, nonlinear relationships?\n",
    "# To solve these problems, we'll examine one type of neural network model closely: The DEEP LEARNING MODEL.\n",
    "# Deep learning models are more effective than traditional machine learning algorithms at discovering nonlinear relationships among data.\n",
    "# At a high level, a deep learning model is a neural network with more than one hidden layer.\n",
    "# In this lesson, you'll learn how to construct deep learning models with real-world data.\n",
    "# You'll continue working with TensorFlow and Keras, and you'll learn how to use these tools to build deep learning models.\n",
    "# We'll also explore some similarities and differences between neural networks and deep neural networks."
   ]
  },
  {
   "cell_type": "code",
   "execution_count": 2,
   "id": "7a028f7b-ee32-475d-a603-2e4476b04083",
   "metadata": {},
   "outputs": [],
   "source": [
    "# WHAT IS DEEP LEARNING\n",
    "# Deep learning models are neural networks with multiple hidden layers.\n",
    "# Unlike most other machine learning algorithms, including simple neural networks like the ones we created in the previous lesson, these models can discover nonlinear relationships among data.\n",
    "# Therefore, deep learning models often perform better than other models when analyzing complex or unstructured data, such as images, text, or voice.\n",
    "# As we learned in the previous lesson, neural networks work by weighing various input data and then transforming the data into a quantitative output value.\n",
    "# The network then passes the transformed data on to the next layer of neurons.\n",
    "# This continues until th edata reaches the output layer. \n",
    "# The output layer makes the final prediction for the data point's category, or numerical value.\n",
    "# The number of hidden layers within a neural network model determines whether th emodel is considered deep learning.\n",
    "# Precise definitions vary by source.\n",
    "# In this course, we'll classify any neural network with more than one hidden layer as 'deep'. \n",
    "# The prevalence of deep learning models has been facilitated in recent years by the abundance and decreasing cost of computing power.\n",
    "# What advantage does adding layers to a neural network offer?\n",
    "# Each additional layer of neurons makes it possible to model more complex relationships and concepts.\n",
    "# For example: Imagine that we want a neural network to classify whether a picture contains a cat.\n",
    "# To solve this problem, the model might first check whetehr any animal exists in the picture, \n",
    "# Then, drilling deeper, the model might check for the presence of paws, pointed ears, or other 'cat' features.\n",
    "# The model will contine breaking down the challenge in this way until it reaches raw input - the picture's individual pixels.\n",
    "# If we, the developers, correctly specify the problem, the model will process each of these conceptual steps on a different neuron layer."
   ]
  },
  {
   "cell_type": "code",
   "execution_count": null,
   "id": "aa28c253-2487-4503-87fd-7977a36f4687",
   "metadata": {},
   "outputs": [],
   "source": []
  }
 ],
 "metadata": {
  "kernelspec": {
   "display_name": "Python 3 (ipykernel)",
   "language": "python",
   "name": "python3"
  },
  "language_info": {
   "codemirror_mode": {
    "name": "ipython",
    "version": 3
   },
   "file_extension": ".py",
   "mimetype": "text/x-python",
   "name": "python",
   "nbconvert_exporter": "python",
   "pygments_lexer": "ipython3",
   "version": "3.9.13"
  }
 },
 "nbformat": 4,
 "nbformat_minor": 5
}

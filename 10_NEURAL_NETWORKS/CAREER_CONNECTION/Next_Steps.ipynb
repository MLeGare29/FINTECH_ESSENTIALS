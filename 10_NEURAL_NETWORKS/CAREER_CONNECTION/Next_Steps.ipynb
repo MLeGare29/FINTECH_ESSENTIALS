{
 "cells": [
  {
   "cell_type": "code",
   "execution_count": null,
   "id": "dcb2b8e9-395c-4ba8-b743-12625ad11961",
   "metadata": {},
   "outputs": [],
   "source": [
    "# CAREER CONNECTION\n",
    "# Add the following skills to your LinkedIn profile:\n",
    "    # 1. Neural Networks\n",
    "    # 2. Deep Learning\n",
    "    # 3. TensorFlow\n",
    "    # 4. Keras"
   ]
  }
 ],
 "metadata": {
  "kernelspec": {
   "display_name": "Python 3 (ipykernel)",
   "language": "python",
   "name": "python3"
  },
  "language_info": {
   "codemirror_mode": {
    "name": "ipython",
    "version": 3
   },
   "file_extension": ".py",
   "mimetype": "text/x-python",
   "name": "python",
   "nbconvert_exporter": "python",
   "pygments_lexer": "ipython3",
   "version": "3.9.13"
  }
 },
 "nbformat": 4,
 "nbformat_minor": 5
}

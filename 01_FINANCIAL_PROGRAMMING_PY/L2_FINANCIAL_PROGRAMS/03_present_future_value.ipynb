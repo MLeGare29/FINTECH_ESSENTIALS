{
 "cells": [
  {
   "cell_type": "code",
   "execution_count": 2,
   "id": "2d717170-a5c1-4133-9fbf-2e88bdf2c9f3",
   "metadata": {},
   "outputs": [],
   "source": [
    "# MAKING DATA DRIVEN DECISIONS: PRESENT VALUE AND FUTURE VALUE\n",
    "# Present and Future Value are key concepts in finance. \n",
    "# They represent the fundamental truth about money:\n",
    "# A dollar received today is worth more than a dollar received in the future.\n",
    "# A currency's current worth is its PRESENT VALUE.\n",
    "# But if you take today's money and apply interest to it, that value is its FUTURE VALUE."
   ]
  },
  {
   "cell_type": "code",
   "execution_count": null,
   "id": "23a782d5-dfdd-4346-a9c5-36b412297513",
   "metadata": {},
   "outputs": [],
   "source": [
    "# VALUE EQUATIONS IN FINANCE\n",
    "# ANNUAL PRESENT VALUE: present_value = (future_value)/(1+annual_hurdle_rate)**years\n",
    "# MONTHLY PRESENT VALUE: present_value = (future_value)/(1+annual_hurdle_rate/12)**number_of_months"
   ]
  }
 ],
 "metadata": {
  "kernelspec": {
   "display_name": "Python 3 (ipykernel)",
   "language": "python",
   "name": "python3"
  },
  "language_info": {
   "codemirror_mode": {
    "name": "ipython",
    "version": 3
   },
   "file_extension": ".py",
   "mimetype": "text/x-python",
   "name": "python",
   "nbconvert_exporter": "python",
   "pygments_lexer": "ipython3",
   "version": "3.9.13"
  }
 },
 "nbformat": 4,
 "nbformat_minor": 5
}

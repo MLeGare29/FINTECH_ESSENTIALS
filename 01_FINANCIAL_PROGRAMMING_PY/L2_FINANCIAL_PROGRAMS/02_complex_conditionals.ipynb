{
 "cells": [
  {
   "cell_type": "code",
   "execution_count": 3,
   "id": "1fb25490-3e9a-4e50-8951-be685ef09462",
   "metadata": {},
   "outputs": [
    {
     "name": "stdout",
     "output_type": "stream",
     "text": [
      "The currency is $ 30.0\n"
     ]
    }
   ],
   "source": [
    "# MULTIPLE CONDITIONALS\n",
    "# In certain situations, the decision logic may become more complex than a simple IF-ELSE statement can test.\n",
    "# In these situations, we need to either expand the test to multiple conditions or nest the conditional logic.\n",
    "# Both of these techniques are simple.\n",
    "# When testing for multiple conditions, we can add conditions using the ELIF keyword.\n",
    "# The keyword ELIF stands for ELSE-IF, and you must use the ELIF syntax to add additional conditional tests.\n",
    "# The final catch-all case will use ELSE.\n",
    "\n",
    "# Create a variable that identifies currency\n",
    "issue_currency = \"USD\"\n",
    "\n",
    "# Create a variable that identifies price \n",
    "price = 30.0\n",
    "\n",
    "# If the currency is USD, print the price (Don't forget the colon).\n",
    "if issue_currency == \"USD\":\n",
    "    print(\"The currency is $\", price)\n",
    "\n",
    "# If the currency is Euro, display the following statement.\n",
    "elif issue_currency == \"EUR\":\n",
    "    print(\"The currency is Euros\", price)\n",
    "\n",
    "# If the currency is anything other than USD or Euro, display:\n",
    "else:\n",
    "    print(\"The currency is not in USD or EUR.\")"
   ]
  },
  {
   "cell_type": "code",
   "execution_count": 4,
   "id": "45d8935f-d638-4ede-83cc-329f7fdf7fbe",
   "metadata": {},
   "outputs": [
    {
     "name": "stdout",
     "output_type": "stream",
     "text": [
      "The currency is $ 30.0\n"
     ]
    }
   ],
   "source": [
    "# NESTED CONDITIONS\n",
    "# Python allows us to NEST the truth tests.\n",
    "# When the tests are nested, the outer test is checked first\n",
    "# Only if that test is TRUE is the inner test checked.\n",
    "# Here, we'll first test to ensure that the price isn't a negative number.\n",
    "# Then, only if the price isn't negative will it test the equality of issue_currency.\n",
    "# See the following code and pay attention to the comments, which highlight what's happening at each steps:\n",
    "\n",
    "issue_currency = \"USD\"\n",
    "price = 30.0\n",
    "\n",
    "# Check if price is not negative (greater than equal to 0)\n",
    "if price >= 0:\n",
    "    # If price is not negative and currency is 'USD' (dollar).\n",
    "    if issue_currency == \"USD\":\n",
    "        print(\"The currency is $\", price)\n",
    "    # If price is not negative and currency is 'EUR' (Euro).\n",
    "    elif issue_currency == \"EUR\":\n",
    "        print(\"The currency is e\", price)\n",
    "    # If anything other than the above.\n",
    "    else:\n",
    "        print(\"The currency is not in USD or EUR.\")\n",
    "else:\n",
    "    # If price is negative.\n",
    "    print(\"Error, the price listed is a negative number.\")"
   ]
  }
 ],
 "metadata": {
  "kernelspec": {
   "display_name": "Python 3 (ipykernel)",
   "language": "python",
   "name": "python3"
  },
  "language_info": {
   "codemirror_mode": {
    "name": "ipython",
    "version": 3
   },
   "file_extension": ".py",
   "mimetype": "text/x-python",
   "name": "python",
   "nbconvert_exporter": "python",
   "pygments_lexer": "ipython3",
   "version": "3.9.13"
  }
 },
 "nbformat": 4,
 "nbformat_minor": 5
}

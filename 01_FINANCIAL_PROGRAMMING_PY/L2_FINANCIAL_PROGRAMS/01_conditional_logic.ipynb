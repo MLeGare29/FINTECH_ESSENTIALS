{
 "cells": [
  {
   "cell_type": "code",
   "execution_count": 1,
   "id": "930a56a6-4a2d-426f-bd37-9194533582ae",
   "metadata": {},
   "outputs": [],
   "source": [
    "# FINANCIAL DECISIONS AND PYTHON\n",
    "# In finance, decisions often need to be made quickly, without human intervention.\n",
    "# Behind the browser of a credit card application, your information is being channeled through an algorithm.\n",
    "# Then compared to historical data on millions of past borrowers to determine the probability that you'll make on-time payments.\n",
    "# Or consider high-frequency trading.\n",
    "# A single algorithm is run on a server and buys and sells millions of securities in the time it takes to read this sentence.\n",
    "# Both examples feature the application of answering simple yes or no questions."
   ]
  },
  {
   "cell_type": "code",
   "execution_count": 2,
   "id": "b9a5efc0-24b6-4c4a-a646-424b97935498",
   "metadata": {},
   "outputs": [],
   "source": [
    "# CONDITIONAL LOGIC IN PYTHON\n",
    "# Decision-making in code is done through CONDITIONALS.\n",
    "# A CONDITIONAL is a yes-or-no question wriiten in computer syntax.\n",
    "# We've already used Python to store results in variables that can be used later.\n",
    "# Now we'll take automation a step further to automate financial decisions.\n",
    "# Programming languages offer a way to automate decision making throught conditional logic.\n",
    "# CONDITIONAL LOGIC is a fundamental building block of all computer programs.\n",
    "# It's a way to control which code does or doesn't get executed and when. \n",
    "# In other words, conditional logic refers to decision making code."
   ]
  },
  {
   "cell_type": "code",
   "execution_count": 5,
   "id": "de55b667-b438-4cc0-a422-7105f3c9472c",
   "metadata": {},
   "outputs": [],
   "source": [
    "# CONDITIONALS IN FINANCE\n",
    "# We'll use the following example to see how conditionals are applied in a financial context:\n",
    "\n",
    "# if stock_price < estimated_value:\n",
    "    # print(\"Buy this stock because it is on sale!\")\n",
    "# else:\n",
    "    # print(\"Don't buy this stock because it's too expensive right now.\")\n",
    "    \n",
    "# In the preceding code, we've created a conditional situation:\n",
    "    # If stock_price < estimated_value is either TRUE or FALSE the following results populate:\n",
    "        # If the statement is TRUE, the first message is printed.\n",
    "        # If the statement is FALSE, the second message is printed.\n",
    "# The conditional logic allows the program to decide to do something or not."
   ]
  },
  {
   "cell_type": "code",
   "execution_count": 6,
   "id": "dc3ba4c1-a315-4859-8778-83979ad2f6d6",
   "metadata": {},
   "outputs": [],
   "source": [
    "# BOOLEANS\n",
    "# In Python, any variable that is assigned a TRUE or FALSE value (or is resolved to one of those values) is considered a Boolean.\n",
    "task_completed = True\n",
    "all_tasks_completed = False\n",
    "\n",
    "# In the preceding code, the Booleans are directly declared.\n",
    "# But they can also be created using conditional logic\n",
    "# For example, suppose a stock price is currently cheaper than what it is estimated to actually be worth in estimated_value, making it a good buy.\n",
    "    # buy_stock = stock_price < estimated_value\n",
    "    \n",
    "# If the stock_price is less than the estimated_value, the variable buy_stock will contain the Boolean value of TRUE."
   ]
  },
  {
   "cell_type": "code",
   "execution_count": 7,
   "id": "8f93e67f-5ae7-4f66-b40d-bf682abcdbc8",
   "metadata": {},
   "outputs": [
    {
     "name": "stdout",
     "output_type": "stream",
     "text": [
      "Don't forget to bring your umbrella.\n"
     ]
    }
   ],
   "source": [
    "# IF-ELSE STATEMENTS\n",
    "# To make decisions with Booleans and Boolean expressions in a computer program, we often need to test the TRUTH VALUE or true/false.\n",
    "# We've already seen this with the if-else syntax.\n",
    "# In Python, IF and ELSE keywords test the truth of a Boolean or Boolean expression.\n",
    "# At a high level, the Python syntax for an IF-ELSE statement looks like this:\n",
    "    \n",
    "    # if condition evaluates True:\n",
    "        # Perform some action\n",
    "    # else:\n",
    "        # Perform some other action\n",
    "        \n",
    "# The following code shows how this syntax is applied:\n",
    "is_raining = True\n",
    "\n",
    "if is_raining:\n",
    "    print(\"Don't forget to bring your umbrella.\")\n",
    "else:\n",
    "    print(\"You will need your sunglasses today!\")\n",
    "    \n",
    "# This code provides personal accessory recommendations based on whether the forecast calls for rain:\n",
    "# If the is_raining variable contains the value TRUE, the first message will populate."
   ]
  },
  {
   "cell_type": "code",
   "execution_count": 8,
   "id": "b6a044bf-bd88-4900-8091-9bb94cf9740b",
   "metadata": {},
   "outputs": [
    {
     "name": "stdout",
     "output_type": "stream",
     "text": [
      "The price is $ 30.0\n"
     ]
    }
   ],
   "source": [
    "# IF-ELSE STATEMENTS AND COMPARISON OPERATORS\n",
    "# IF-ELSE statements can also calcualte TRUE or FALSE value using the double equals (==) operator, also called the COMPARISON OPERATOR. \n",
    "# Comparison operators are a more explicit way to write if-else statements.\n",
    "# The following examples use double equals operator to determine whether a variable's value is equal to \"USD\":\n",
    "\n",
    "issue_currency = \"USD\"\n",
    "price = 30.0\n",
    "\n",
    "if issue_currency == \"USD\":\n",
    "    print(\"The price is $\", price)\n",
    "else:\n",
    "    print(\"The currency is not in USD\")\n",
    "    \n",
    "# Now to break the code down:\n",
    "    # The single equals (=) means that issue_currency is a variable that is newly created with the value \"USD\".\n",
    "    # We verify that issue_currency contains the value \"USD\" by using the double equals (==) operator.\n",
    "    # Because we know that issue_currency is, in fact, \"USD\", issue_currency == \"USD\" will return a value of TRUE."
   ]
  },
  {
   "cell_type": "code",
   "execution_count": 9,
   "id": "d2e35c76-0c76-44f5-a8de-dbc0197b6c5e",
   "metadata": {},
   "outputs": [
    {
     "name": "stdout",
     "output_type": "stream",
     "text": [
      "The price is $ 30.0\n"
     ]
    }
   ],
   "source": [
    "# IF-ELSE STATEMENTS AND LOGICAL OPERATORS\n",
    "# We can even combine conditional statements using logical operators like AND, OR, or NOT.\n",
    "# LOGICAL OPERATORS chain together conditional statements.\n",
    "# They can show that two conditions must be true at once - for example, when an investment must be in US dollars AND below a maximum price.\n",
    "# They can help us write more complex conditionals - the investment must be in US dollars or British pounds but must NOT be more than $500.\n",
    "# Such cases are called COMPOUND TESTS, and they will only be TRUE if both conditional statements are TRUE.\n",
    "# In the following example, the code checks whether the currency is in USD and that price is less than $40:\n",
    "\n",
    "issue_currency = \"USD\"\n",
    "price = 30.0\n",
    "\n",
    "if issue_currency == \"USD\" and price < 40.0:\n",
    "    print(\"The price is $\", price)\n",
    "else: \n",
    "    print(\"The currency is not in USD.\")"
   ]
  }
 ],
 "metadata": {
  "kernelspec": {
   "display_name": "Python 3 (ipykernel)",
   "language": "python",
   "name": "python3"
  },
  "language_info": {
   "codemirror_mode": {
    "name": "ipython",
    "version": 3
   },
   "file_extension": ".py",
   "mimetype": "text/x-python",
   "name": "python",
   "nbconvert_exporter": "python",
   "pygments_lexer": "ipython3",
   "version": "3.9.13"
  }
 },
 "nbformat": 4,
 "nbformat_minor": 5
}

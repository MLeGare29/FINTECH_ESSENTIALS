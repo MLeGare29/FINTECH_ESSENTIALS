{
 "cells": [
  {
   "cell_type": "code",
   "execution_count": 1,
   "id": "545d70f0-de65-476a-86f2-c42072d84db3",
   "metadata": {},
   "outputs": [],
   "source": [
    "# DATA CONTAINERS\n",
    "# Variables are a useful and fundamental construct of programming languages.\n",
    "# They let you use descriptive names for your data and reuse them throughout the program.\n",
    "# However, what happens when you have hundreds or thousands of data values?\n",
    "# For example, what if you needed to store every company stock price in the S&P 500? That would be a very tedious process.\n",
    "# To assist with this, Python provides some special data containers to more easily manage the organization and collection of related data.\n",
    "# The two fundamental data containers that will now be used are LISTS and DICTIONARIES."
   ]
  },
  {
   "cell_type": "code",
   "execution_count": 2,
   "id": "e90fd78f-762b-48e4-9945-3928a359b823",
   "metadata": {},
   "outputs": [
    {
     "name": "stdout",
     "output_type": "stream",
     "text": [
      "['Samuel L. Jackson', 'Denzel Washington', 'Halle Berry', 'Viola Davis', 'Eddie Murphy', 'Tiffany Haddish']\n"
     ]
    }
   ],
   "source": [
    "# USING LISTS\n",
    "# In Python, we can store sequences of multiple data or values in a container called a LIST.\n",
    "# LISTS are a collection of ordered and changable items.\n",
    "# Lists are defined as a DATA STRUCTURE, or a construct that holds a group or collection of related data elements together\n",
    "# Lists are always represented as square brackets, or [].\n",
    "# Here's an example of a movie star list using Python lists:\n",
    "great_movie_stars = ['Samuel L. Jackson', 'Denzel Washington', 'Halle Berry', 'Viola Davis', 'Eddie Murphy', 'Tiffany Haddish']\n",
    "print(great_movie_stars)"
   ]
  },
  {
   "cell_type": "code",
   "execution_count": 4,
   "id": "6639c303-169a-4607-b96c-d7944416e5e2",
   "metadata": {},
   "outputs": [
    {
     "name": "stdout",
     "output_type": "stream",
     "text": [
      "Samuel L. Jackson Viola Davis\n"
     ]
    }
   ],
   "source": [
    "# LIST INDEXING\n",
    "# Let's say someone wants to single out a specific entertainer from the list, this can be done by specifying the index, or position, of the item in the list.\n",
    "# Indexing begins at 0 being the first position. So in our example, index 0 would be Sam Jackson and index 3 would be Viola Davis.\n",
    "star_select = great_movie_stars[0]\n",
    "star_select_2 = great_movie_stars[3]\n",
    "print(star_select, star_select_2)"
   ]
  },
  {
   "cell_type": "code",
   "execution_count": 11,
   "id": "07224638-94ba-433e-bd66-d0b6466c9de9",
   "metadata": {},
   "outputs": [
    {
     "name": "stdout",
     "output_type": "stream",
     "text": [
      "['Samuel L. Jackson', 'Denzel Washington', 'Halle Berry']\n"
     ]
    }
   ],
   "source": [
    "# LIST SLICES\n",
    "# What it you only needed a subset or slice of a list?\n",
    "# Python allows you to select a range of values if you provide the starting and ending positions.\n",
    "# The value will be returned from the start and stop indexes\n",
    "print(great_movie_stars[0:3])"
   ]
  },
  {
   "cell_type": "code",
   "execution_count": 13,
   "id": "62819dc1-fe57-4a89-9aba-93c977096a00",
   "metadata": {},
   "outputs": [
    {
     "name": "stdout",
     "output_type": "stream",
     "text": [
      "['MSFT', 'AAPL', 'GOOG', 'AMZN']\n"
     ]
    }
   ],
   "source": [
    "# ADD ITEMS TO A LIST\n",
    "# So far, we've been creating lists using a predetermined number of items\n",
    "# However, Python also let's you add new items to a list\n",
    "# Consider the following empty list, which is currently just a set of square brackets with no values inside.\n",
    "\n",
    "# Empty List\n",
    "tech_stocks = []\n",
    "\n",
    "# Let's say that we want to add three of the major tech stocks to this list.\n",
    "# To do that, we can use append(), which is a built in method that can be used for lists\n",
    "# append() can also be used to add values to lists containing values already\n",
    "\n",
    "# append() stocks\n",
    "tech_stocks.append('AAPL')\n",
    "tech_stocks.append('GOOG')\n",
    "tech_stocks.append('AMZN')\n",
    "print(tech_stocks)"
   ]
  },
  {
   "cell_type": "code",
   "execution_count": 21,
   "id": "1f33e84b-a2ce-4c08-932c-7cb286f8112f",
   "metadata": {},
   "outputs": [
    {
     "data": {
      "text/plain": [
       "12.9"
      ]
     },
     "metadata": {},
     "output_type": "display_data"
    },
    {
     "data": {
      "text/plain": [
       "12.01"
      ]
     },
     "metadata": {},
     "output_type": "display_data"
    },
    {
     "data": {
      "text/plain": [
       "5"
      ]
     },
     "metadata": {},
     "output_type": "display_data"
    }
   ],
   "source": [
    "# LIST OPERATIONS\n",
    "# Suppose we have five days of closing stock prices for a company, and we want the highest stock price in that list.\n",
    "# With Python, we can use a function called max() to tell us the highest value in the list.\n",
    "# We can also use min() to find the lowest price in the list.\n",
    "closing_prices = [12.3, 12.8, 12.54, 12.9, 12.01]\n",
    "highest_closing_price = max(closing_prices)\n",
    "lowest_closing_price = min(closing_prices)\n",
    "display(highest_closing_price)\n",
    "display(lowest_closing_price)\n",
    "\n",
    "# Now let's say that you're given a huge list of closing prices and you need to determine how many prices are in the list.\n",
    "# For this you will use the len() function to find the length of the list.\n",
    "display(number_of_prices)"
   ]
  }
 ],
 "metadata": {
  "kernelspec": {
   "display_name": "Python 3 (ipykernel)",
   "language": "python",
   "name": "python3"
  },
  "language_info": {
   "codemirror_mode": {
    "name": "ipython",
    "version": 3
   },
   "file_extension": ".py",
   "mimetype": "text/x-python",
   "name": "python",
   "nbconvert_exporter": "python",
   "pygments_lexer": "ipython3",
   "version": "3.9.13"
  }
 },
 "nbformat": 4,
 "nbformat_minor": 5
}

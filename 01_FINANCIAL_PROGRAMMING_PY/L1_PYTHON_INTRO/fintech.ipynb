{
 "cells": [
  {
   "cell_type": "code",
   "execution_count": null,
   "id": "29633e2b-f959-47c3-9a29-7b57b77529e9",
   "metadata": {},
   "outputs": [],
   "source": [
    "# FINTECH JOB ROLES:\n",
    "    # Financial Analysts\n",
    "    # Risk Analysts\n",
    "    # Quantitative Traders\n",
    "    # Investment Data Analysts\n",
    "    # Software Engineers\n",
    "    # Technology Consultants\n",
    "    # Financial Managers\n",
    "    # Research Analysts\n",
    "    # Financial Applications Developers"
   ]
  }
 ],
 "metadata": {
  "kernelspec": {
   "display_name": "Python 3 (ipykernel)",
   "language": "python",
   "name": "python3"
  },
  "language_info": {
   "codemirror_mode": {
    "name": "ipython",
    "version": 3
   },
   "file_extension": ".py",
   "mimetype": "text/x-python",
   "name": "python",
   "nbconvert_exporter": "python",
   "pygments_lexer": "ipython3",
   "version": "3.9.13"
  }
 },
 "nbformat": 4,
 "nbformat_minor": 5
}

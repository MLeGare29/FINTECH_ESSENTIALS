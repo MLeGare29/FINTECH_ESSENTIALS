{
 "cells": [
  {
   "cell_type": "code",
   "execution_count": 5,
   "id": "8e4b0d4c-339e-4fd4-b587-0e3c43477c25",
   "metadata": {},
   "outputs": [
    {
     "data": {
      "text/plain": [
       "'Halle Berry films:'"
      ]
     },
     "metadata": {},
     "output_type": "display_data"
    },
    {
     "data": {
      "text/plain": [
       "105"
      ]
     },
     "metadata": {},
     "output_type": "display_data"
    },
    {
     "data": {
      "text/plain": [
       "'Viola Davis films:'"
      ]
     },
     "metadata": {},
     "output_type": "display_data"
    },
    {
     "data": {
      "text/plain": [
       "114"
      ]
     },
     "metadata": {},
     "output_type": "display_data"
    },
    {
     "data": {
      "text/plain": [
       "'Tiffany Hadish films:'"
      ]
     },
     "metadata": {},
     "output_type": "display_data"
    },
    {
     "data": {
      "text/plain": [
       "70"
      ]
     },
     "metadata": {},
     "output_type": "display_data"
    }
   ],
   "source": [
    "# USING DICTIONARIES\n",
    "# Lists are useful for storing and accessing items when order is important.\n",
    "# However, we can also access data by a name or key, this is where dictionaries come in.\n",
    "# DICTIONARIES are data containers for pairs of labels (or keys) and values\n",
    "films = {\n",
    "    'Halle': 105,\n",
    "    'Viola': 114, \n",
    "    'Tiffany': 70\n",
    "}\n",
    "display('Halle Berry films:', films['Halle'])\n",
    "display('Viola Davis films:', films['Viola'])\n",
    "display('Tiffany Hadish films:', films['Tiffany'])\n",
    "\n",
    "# The KEY is the name of the movie star.\n",
    "# The VALUE is the number of films they've appeared in."
   ]
  },
  {
   "cell_type": "code",
   "execution_count": 6,
   "id": "9dcfd880-e323-4c81-935b-310f18882164",
   "metadata": {},
   "outputs": [],
   "source": [
    "# KEY-VALUE PAIRS\n",
    "# Elements in a dictionary are stored in KEY-VALUE PAIRS:\n",
    "    # Keys and values are separated by colons.\n",
    "    # The key-value pairs are separated by commas.\n",
    "    # Keys are generally coded as strings or numbers (usually integers). The values can be any data type, including lists or even other dictionaries.\n",
    "\n",
    "# There are some critical differences between lists and dictionaries. \n",
    "# The most significant difference is that lists have an order in which values can be retrieved by their index position (great_movie_stars[0]).\n",
    "# Dictionaries are stored in random order and are retrieved by their key or label (films['Halle'])"
   ]
  },
  {
   "cell_type": "code",
   "execution_count": 9,
   "id": "82cfa106-a1c0-4996-b581-e0915fac6999",
   "metadata": {},
   "outputs": [
    {
     "name": "stdout",
     "output_type": "stream",
     "text": [
      "{'January': 'Micah', 'July': 'Malcolm', 'September': 'Marcus'}\n",
      "{'January': 'Allison', 'July': 'Malcolm', 'September': 'Marcus'}\n"
     ]
    }
   ],
   "source": [
    "# CREATE DICTIONARY ITEMS\n",
    "# Adding new items to dictionaries in Python is a straightforward process:\n",
    "    # Simply provide a key-value pair for the item you want to add:\n",
    "top_traders_per_month = {}\n",
    "\n",
    "# We can add a new trader to the dictionary by providing a unique key (label) and the value.\n",
    "# In this dictionary, the month of trading represents the key.\n",
    "# The top trader for that month is the value, as follows:\n",
    "top_traders_per_month['January'] = 'Micah'\n",
    "top_traders_per_month['July'] = 'Malcolm'\n",
    "top_traders_per_month['September'] = 'Marcus'\n",
    "print(top_traders_per_month)\n",
    "\n",
    "# updating a dictionary is also straightforward: Provied the existing key and a new value\n",
    "top_traders_per_month['January'] = 'Allison'\n",
    "print(top_traders_per_month)"
   ]
  },
  {
   "cell_type": "code",
   "execution_count": 10,
   "id": "f8589633-24e2-4aeb-9ce5-2cb5de197d70",
   "metadata": {},
   "outputs": [
    {
     "name": "stdout",
     "output_type": "stream",
     "text": [
      "{'January': 'Allison', 'July': 'Malcolm'}\n"
     ]
    }
   ],
   "source": [
    "# DELETE DICTIONARY ITEMS\n",
    "# You can also delete items from a dictionary if you know the key.\n",
    "# Delete the key-value pair for September\n",
    "del top_traders_per_month['September']\n",
    "print(top_traders_per_month)"
   ]
  }
 ],
 "metadata": {
  "kernelspec": {
   "display_name": "Python 3 (ipykernel)",
   "language": "python",
   "name": "python3"
  },
  "language_info": {
   "codemirror_mode": {
    "name": "ipython",
    "version": 3
   },
   "file_extension": ".py",
   "mimetype": "text/x-python",
   "name": "python",
   "nbconvert_exporter": "python",
   "pygments_lexer": "ipython3",
   "version": "3.9.13"
  }
 },
 "nbformat": 4,
 "nbformat_minor": 5
}

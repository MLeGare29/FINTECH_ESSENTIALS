{
 "cells": [
  {
   "cell_type": "code",
   "execution_count": 2,
   "id": "dc36738d-b010-4c0e-afaf-566787efd2e0",
   "metadata": {},
   "outputs": [],
   "source": [
    "# USING PYTHON IN THE FINTECH WORLD\n",
    "# When it comes to finance, Python has become the standard programming language for the industry.\n",
    "# A lot of coding involves storing and interacting the with data: \n",
    "# The more data you have, the more sense it makes to automate these collaborations in a user-friendly manner."
   ]
  },
  {
   "cell_type": "code",
   "execution_count": 3,
   "id": "3a61b413-49f8-43d9-9b8d-081baa64d06b",
   "metadata": {},
   "outputs": [],
   "source": [
    "# VARIABLES IN FINANCE\n",
    "# Variables are a fundamental building block of all programming languages.\n",
    "# They serve two primary functions: \n",
    "    # They hold data in your code.\n",
    "    # They use names that make sense to humans."
   ]
  },
  {
   "cell_type": "code",
   "execution_count": 5,
   "id": "3b0c363a-d30c-4dd5-b989-55f3bb446fef",
   "metadata": {},
   "outputs": [
    {
     "name": "stdout",
     "output_type": "stream",
     "text": [
      "14.35\n"
     ]
    }
   ],
   "source": [
    "# FINANCIAL VARIABLES IN ACTION:\n",
    "# Let's think about variables using the example of a company's stock price.\n",
    "# The name of the company is defined as company_abc_stock_price, and the value is 14.35.\n",
    "company_abc_stock_price = 14.35\n",
    "\n",
    "# Whenever we want to use that data (14.35) later in the program, we can just refer to the variable name.\n",
    "# You can PRINT this any time you want to display text in the terminal, as follows:\n",
    "print(company_abc_stock_price)"
   ]
  },
  {
   "cell_type": "code",
   "execution_count": 6,
   "id": "8845f8d4-094a-47c4-98e1-be053e0f0e71",
   "metadata": {},
   "outputs": [],
   "source": [
    "# CREATE A VARIABLE\n",
    "# To create a variable in Python, you give it a name.\n",
    "# Giving a name to a variable is known as DECLARING it. \n",
    "# This name is how you'll refer to the variable throughout the remainder of the program.\n",
    "# You can create as many variables in as you require and they can be created at any point in the program."
   ]
  },
  {
   "cell_type": "code",
   "execution_count": 7,
   "id": "0585e857-714b-4159-a6f3-e588ca36903c",
   "metadata": {},
   "outputs": [],
   "source": [
    "# NAMING VARIABLES\n",
    "# You should always assign descriptive names to variables, so that you and any other programmers will know what the variable name represents.\n",
    "# Well-named variables significantly increase the readability of the code. \n",
    "# For example, instead of using names like score_a and score_b, you could use the more descriptive home_team_score and away_team_score.\n",
    "# Or in place of a vague name like portfolio, you could use microfinance_loan_portfolio."
   ]
  },
  {
   "cell_type": "code",
   "execution_count": 8,
   "id": "076669bc-288c-41d8-b482-c3a036f9a7e8",
   "metadata": {},
   "outputs": [
    {
     "name": "stdout",
     "output_type": "stream",
     "text": [
      "14.35\n"
     ]
    }
   ],
   "source": [
    "# ASSIGNING DATA TO THE VARIABLE\n",
    "# Once you've described the variable via the name, you can assign data to that variable.\n",
    "# You'll use an ASSIGNMENT OPERATOR, or in this case, an equal sign, to correlate the variable and the data/value.\n",
    "# EXAMPLE: company_abc_stock_price = 14.35\n",
    "# Variables can also be assigned to other variables.\n",
    "current_price = 14.35\n",
    "company_abc_stock_price = current_price\n",
    "print(company_abc_stock_price)"
   ]
  },
  {
   "cell_type": "code",
   "execution_count": 11,
   "id": "2e0136b0-fab5-4a48-8b71-43e1382c3218",
   "metadata": {},
   "outputs": [
    {
     "name": "stdout",
     "output_type": "stream",
     "text": [
      "14.35 13.1\n"
     ]
    }
   ],
   "source": [
    "# USING VARIABLES TO HOLD CALCULATION RESULTS\n",
    "# Variables can also hold the results from a calculation, which is a constant occurence for financial programmers.\n",
    "# In this example, we'll create a variable called adjusted_price and subtract 1.25 from the current_price.\n",
    "adjusted_price = current_price - 1.25\n",
    "print(current_price, adjusted_price)"
   ]
  },
  {
   "cell_type": "code",
   "execution_count": 14,
   "id": "f66a0120-710b-412d-86dd-93a10e758cba",
   "metadata": {},
   "outputs": [
    {
     "name": "stdout",
     "output_type": "stream",
     "text": [
      "The current price is 14.35. The adjusted price is 13.1.\n"
     ]
    }
   ],
   "source": [
    "# FORMATTING VARIABLES AS STRINGS\n",
    "# Now that calculations have been saved as variables, let's focus on formatting the results.\n",
    "# As you saw in the previous cell, printing the two variables simply creates a numeric output.\n",
    "# To help format and explain the output, we can add text to variables using FORMAT STRING LITERALS or F-STRINGS.\n",
    "# In Python, f-strings let us embed variable values in the text that we want to print.\n",
    "# We'll create an f-string for the current_price and the adjusted_price:\n",
    "current_price = 14.35\n",
    "adjusted_price = current_price - 1.25\n",
    "print(f\"The current price is {current_price}. The adjusted price is {adjusted_price}.\")\n",
    "\n",
    "# Now to break down what's happening:\n",
    "# First, we create an f-string by starting the text string with the character 'f'.\n",
    "    # This tells Python that the follwoing text may have varibales embedded inside.\n",
    "# Next, notice that the variables are encolosed in curly braces, or brackets: {current_price}, {adjusted_price}.\n",
    "    # This special syntax tells Python to inser whatever is inside the curly braces directly into the text.    "
   ]
  },
  {
   "cell_type": "code",
   "execution_count": null,
   "id": "590d2d88-54f3-4089-84fc-0be242b57484",
   "metadata": {},
   "outputs": [],
   "source": []
  }
 ],
 "metadata": {
  "kernelspec": {
   "display_name": "Python 3 (ipykernel)",
   "language": "python",
   "name": "python3"
  },
  "language_info": {
   "codemirror_mode": {
    "name": "ipython",
    "version": 3
   },
   "file_extension": ".py",
   "mimetype": "text/x-python",
   "name": "python",
   "nbconvert_exporter": "python",
   "pygments_lexer": "ipython3",
   "version": "3.9.13"
  }
 },
 "nbformat": 4,
 "nbformat_minor": 5
}

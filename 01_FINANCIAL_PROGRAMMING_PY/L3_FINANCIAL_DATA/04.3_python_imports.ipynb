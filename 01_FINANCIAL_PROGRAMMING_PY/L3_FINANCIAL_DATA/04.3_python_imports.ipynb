{
 "cells": [
  {
   "cell_type": "code",
   "execution_count": 1,
   "id": "cba06748-72ba-4134-9019-1b895c2bd600",
   "metadata": {},
   "outputs": [],
   "source": [
    "# PYTHON IMPORTS\n",
    "# Before we can import the CSV library, we need to understand imports in Python.\n",
    "# Imports enable programmers to include a special library of tools in the code.\n",
    "# Think of Python as a toolbox.\n",
    "# It has tools for almost anything you can imagine, but sometimes a tool, or library, isn't included by default.\n",
    "# Instead, you need to import that extra tool or library when you need it.\n",
    "# To import libraries, we use the `import` keyword.\n",
    "# Let's start by importing `pathlib`, a library of tools designed for working with local file paths on your computer."
   ]
  },
  {
   "cell_type": "code",
   "execution_count": 3,
   "id": "1885b039-9a34-4278-bd28-1a46359dafa7",
   "metadata": {},
   "outputs": [
    {
     "name": "stdout",
     "output_type": "stream",
     "text": [
      ".\n",
      "data.csv\n"
     ]
    }
   ],
   "source": [
    "# IMPORT THE PATHLIB LIBRARY\n",
    "# To import the `pathlib` library, use the following code:\n",
    "\n",
    "import pathlib\n",
    "\n",
    "# This tells Python that you want to use the `pathlib` library in your code.\n",
    "# Often, we just want to use one specific function from a library. \n",
    "# In these cases, we can use the format `from ``import x`` ``import y```.\n",
    "# However, in this case, we really just want the `Path` function from the `pathlib` library.\n",
    "# Therefore, we input the following:\n",
    "\n",
    "from pathlib import Path\n",
    "\n",
    "# Now that `Path` from the `pathlib` library is imported, you can use it to create a path to the same folder that the code file sits in.\n",
    "# In the following code, remember that \".\" represents the current directory:\n",
    "\n",
    "my_directory = Path(\".\")\n",
    "print(my_directory)\n",
    "\n",
    "# This code creates a path object.\n",
    "# A PATH OBJECT contains information about the location of the file on your computer.\n",
    "# Let's say we have a CSV file named data.csv in the same location as the Python file.\n",
    "# We can use the `Path` operator from the `pathlib` library to retrieve it.\n",
    "# To use just one component of a library, use the syntax `from library import operator`:\n",
    "\n",
    "from pathlib import Path\n",
    "csvpath = Path(\"data.csv\")\n",
    "print(csvpath)\n",
    "\n",
    "# Programmers often use RELATIVE PATHS to find files or folders on their computer.\n",
    "# For instance, the path for this lesson is as follows:\n",
    "    # legar@LAPTOP-0U9QHAUI MINGW64 ~/desktop/COMPUTER_SCIENCE/FINPLAN_PYTHON/LESSON_3"
   ]
  }
 ],
 "metadata": {
  "kernelspec": {
   "display_name": "Python 3 (ipykernel)",
   "language": "python",
   "name": "python3"
  },
  "language_info": {
   "codemirror_mode": {
    "name": "ipython",
    "version": 3
   },
   "file_extension": ".py",
   "mimetype": "text/x-python",
   "name": "python",
   "nbconvert_exporter": "python",
   "pygments_lexer": "ipython3",
   "version": "3.9.13"
  }
 },
 "nbformat": 4,
 "nbformat_minor": 5
}

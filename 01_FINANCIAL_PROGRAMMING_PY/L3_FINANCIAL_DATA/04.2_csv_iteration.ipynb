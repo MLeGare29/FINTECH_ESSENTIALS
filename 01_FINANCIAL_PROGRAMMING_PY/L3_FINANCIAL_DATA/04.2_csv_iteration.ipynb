{
 "cells": [
  {
   "cell_type": "code",
   "execution_count": 1,
   "id": "70afc238-a804-479c-9f74-ffa8bf3cead6",
   "metadata": {},
   "outputs": [],
   "source": [
    "# ITERATING CSV FILES\n",
    "# Most financial data exists outside of Python.\n",
    "# Usually in spreadsheets or other files. \n",
    "# With this in mind, we need a way to read and write data to those files.\n",
    "# READING data from a file means that you want to take the data from a file and use it in Python.\n",
    "# WRITING data to a file is taking data you have in Python and saving it to a file."
   ]
  },
  {
   "cell_type": "code",
   "execution_count": null,
   "id": "53580b42-0edc-4441-8608-60b2f9929c1b",
   "metadata": {},
   "outputs": [],
   "source": [
    "# CSV FILES\n",
    "# CSV or COMMA-SEPARATED VALUES, is a simple file format used to store spreadsheet data.\n",
    "# Spreadsheet data is ofter called TABULAR DATA or TABLE DATA.\n",
    "# Table data is organize in a table format with rows and columns.\n",
    "# A CSV file follows a tabular format:\n",
    "    # The first line is usually a HEADER containing the column names.\n",
    "    # Each subsequent line is a ROW containing the values that intersect with each row-column pair.\n",
    "# CSV files use DELIMITERS like commas to separate the rows and columns in a table.\n",
    "# To work with spreadsheet data in a CSV file, we need to bring in another tool.\n",
    "# We'll import and use a Python library that helps us work with CSV files."
   ]
  }
 ],
 "metadata": {
  "kernelspec": {
   "display_name": "Python 3 (ipykernel)",
   "language": "python",
   "name": "python3"
  },
  "language_info": {
   "codemirror_mode": {
    "name": "ipython",
    "version": 3
   },
   "file_extension": ".py",
   "mimetype": "text/x-python",
   "name": "python",
   "nbconvert_exporter": "python",
   "pygments_lexer": "ipython3",
   "version": "3.9.13"
  }
 },
 "nbformat": 4,
 "nbformat_minor": 5
}

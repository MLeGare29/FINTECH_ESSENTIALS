{
 "cells": [
  {
   "cell_type": "code",
   "execution_count": 1,
   "id": "4ed64deb-d5ad-4846-a4a8-747da108ca25",
   "metadata": {},
   "outputs": [],
   "source": [
    "# AUTOMATION WITH PYTHON\n",
    "# Think of the largest spreadsheet you've ever worked with:\n",
    "# Did it comprise of hundreds, even thousands, of rows and columns?\n",
    "# What would you do if you needed to process data from thousands of spreadsheets that each contained thousands of rows and columns?\n",
    "# Python has the answer: We've already seen how Python can automate data storage, calculations, and decision-making.\n",
    "# Now you'll see how it streamlines repeated tasks.\n",
    "# For example - on the job, it's time consuming, if not impossible, to manually call a function thousands of times.\n",
    "# As a solution, Python provides something called an iterator.\n",
    "# An iterator is a programming construct that handles repetition for us. \n",
    "# In this lesson, we'll work through how to use Python iterators like FOR LOOPS."
   ]
  },
  {
   "cell_type": "code",
   "execution_count": 3,
   "id": "43cdbd2a-b9d7-4894-87d9-f1cbeeb001b5",
   "metadata": {},
   "outputs": [
    {
     "name": "stdout",
     "output_type": "stream",
     "text": [
      "ECOWAS\n",
      "GHANA\n",
      "NIGERIA\n",
      "MALI\n",
      "BURKINA FASO\n"
     ]
    }
   ],
   "source": [
    "# PYTHON ITERATORS\n",
    "# In the following code, an iterator, or FOR LOOP, converts a list of lowercase text strings to uppercase:\n",
    "\n",
    "words = [\"ecowas\", \"ghana\", \"nigeria\", \"mali\", \"burkina faso\"]\n",
    "\n",
    "for word in words:\n",
    "    print(word.upper())"
   ]
  },
  {
   "cell_type": "code",
   "execution_count": 4,
   "id": "a03b8613-31c5-49ce-9706-69d0e986b26e",
   "metadata": {},
   "outputs": [],
   "source": [
    "# ITERABLE OBJECTS\n",
    "# Python treats certain things as iterable.\n",
    "# This means that an object, like a list, can return each item in the list one at a time.\n",
    "# For example:\n",
    "\n",
    "words = [\"ecowas\", \"ghana\", \"nigeria\", \"mali\", \"burkina faso\"]"
   ]
  },
  {
   "cell_type": "code",
   "execution_count": 5,
   "id": "5efe20be-ea76-49be-ba94-ab9985c6fb23",
   "metadata": {},
   "outputs": [
    {
     "name": "stdout",
     "output_type": "stream",
     "text": [
      "ECOWAS\n",
      "GHANA\n",
      "NIGERIA\n",
      "MALI\n",
      "BURKINA FASO\n"
     ]
    }
   ],
   "source": [
    "# ITERATORS\n",
    "# The FOR keyword in Python is an iterator.\n",
    "# An ITERATOR is something that can grab each item from an iterable object (like a list), one item at a time.\n",
    "# For example:\n",
    "\n",
    "for word in words:\n",
    "    print(word.upper())"
   ]
  },
  {
   "cell_type": "code",
   "execution_count": 9,
   "id": "6e5bb1a9-9c4a-40b8-9790-ea0eef00b074",
   "metadata": {},
   "outputs": [
    {
     "name": "stdout",
     "output_type": "stream",
     "text": [
      "ECOWAS\n",
      "GHANA\n",
      "NIGERIA\n",
      "MALI\n",
      "BURKINA FASO\n",
      "Original Word:  ecowas\n",
      "Uppercase Word:  ECOWAS\n",
      "Titlecase Word:  Ecowas\n",
      "Original Word:  ghana\n",
      "Uppercase Word:  GHANA\n",
      "Titlecase Word:  Ghana\n",
      "Original Word:  nigeria\n",
      "Uppercase Word:  NIGERIA\n",
      "Titlecase Word:  Nigeria\n",
      "Original Word:  mali\n",
      "Uppercase Word:  MALI\n",
      "Titlecase Word:  Mali\n",
      "Original Word:  burkina faso\n",
      "Uppercase Word:  BURKINA FASO\n",
      "Titlecase Word:  Burkina Faso\n",
      "I'm outside of the for loop, so I only print once after all the words have been selected.\n"
     ]
    }
   ],
   "source": [
    "# FOR LOOPS\n",
    "# Remember how lists are useful because we don't have to create a variable name for each item in the list?\n",
    "# When we work with loops, we're grabbing single items from the list to use with code, which means that the variable name is very useful.\n",
    "# For loops allow us to do this.\n",
    "# In the example code, `word` is a variable name for the current item that was grabbed from the list.\n",
    "# However, we can make this anything we want, as demonstrated in the following:\n",
    "\n",
    "for west_african_countries in words:\n",
    "    print(west_african_countries.upper())\n",
    "\n",
    "# Notice that the code inside the for loop is indented.\n",
    "# Like a function, any indented code belongs to the for loop.\n",
    "# In other words, the indented code is the code that runs each time a new item is selected from the list. \n",
    "# Suppose every time we ask for a new word, we want to do several things instead of just one thing.\n",
    "# For example, maybe printing the original word, then the uppercase version, and finally a title case version.\n",
    "# We can do this by including each of those print statements inside the for loop.\n",
    "# Each indented line of code (the print statements in this case) will be executed for each new word from the list:\n",
    "\n",
    "for west_african_countries in words:\n",
    "    print(\"Original Word: \", west_african_countries)\n",
    "    print(\"Uppercase Word: \", west_african_countries.upper())\n",
    "    print(\"Titlecase Word: \", west_african_countries.title())\n",
    "print(\"I'm outside of the for loop, so I only print once after all the words have been selected.\")"
   ]
  },
  {
   "cell_type": "code",
   "execution_count": null,
   "id": "fa78efa8-f30f-427c-a0e4-8e2ffa5a707f",
   "metadata": {},
   "outputs": [],
   "source": []
  }
 ],
 "metadata": {
  "kernelspec": {
   "display_name": "Python 3 (ipykernel)",
   "language": "python",
   "name": "python3"
  },
  "language_info": {
   "codemirror_mode": {
    "name": "ipython",
    "version": 3
   },
   "file_extension": ".py",
   "mimetype": "text/x-python",
   "name": "python",
   "nbconvert_exporter": "python",
   "pygments_lexer": "ipython3",
   "version": "3.9.13"
  }
 },
 "nbformat": 4,
 "nbformat_minor": 5
}

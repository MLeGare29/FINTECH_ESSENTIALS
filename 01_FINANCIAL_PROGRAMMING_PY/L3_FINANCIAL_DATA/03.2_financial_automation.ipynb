{
 "cells": [
  {
   "cell_type": "code",
   "execution_count": 9,
   "id": "4c9b563e-9f54-482e-849b-b49d821da878",
   "metadata": {},
   "outputs": [
    {
     "name": "stdout",
     "output_type": "stream",
     "text": [
      "Your interest will be  10630.48.\n",
      "Your interest will be  6914.97.\n",
      "Your interest will be  10217.65.\n",
      "Your interest will be  10320.86.\n"
     ]
    }
   ],
   "source": [
    "# USING ITERATORS FOR FINANCIAL AUTOMATION\n",
    "# Let's apply iteration to financial concepts.\n",
    "# The following code is more complex, grabbing a number fro a list and using it in a calcualtion:\n",
    "\n",
    "principle = 103208.56\n",
    "interest_rates = [.103, .067, .099, .10]\n",
    "\n",
    "for rate in interest_rates:\n",
    "    interest = rate * principle\n",
    "    print(f\"Your interest will be {interest: .2f}.\")"
   ]
  },
  {
   "cell_type": "code",
   "execution_count": 8,
   "id": "45697777-7e06-4055-b41d-2a323e29ecd5",
   "metadata": {},
   "outputs": [
    {
     "name": "stdout",
     "output_type": "stream",
     "text": [
      "Your interest will be  10630.48.\n",
      "Your interest will be  6914.97.\n",
      "Your interest will be  10217.65.\n",
      "Your interest will be  10320.86.\n",
      "The total interest is:  38083.96.\n"
     ]
    }
   ],
   "source": [
    "# SKILL DRILL\n",
    "# Update the previous code so that it tracks a running total of the interest.\n",
    "# Create a variable outside the loop and set it to 0.0, then update it inside the loop:\n",
    "\n",
    "principle = 103208.56\n",
    "interest_rates = [.103, .067, .099, .10]\n",
    "total_interest = 0.0\n",
    "\n",
    "for rate in interest_rates:\n",
    "    interest = rate * principle\n",
    "    total_interest = total_interest + interest\n",
    "    print(f\"Your interest will be {interest: .2f}.\")\n",
    "print(f\"The total interest is: {total_interest: .2f}.\")"
   ]
  },
  {
   "cell_type": "code",
   "execution_count": null,
   "id": "bcdbdf34-cbbd-4f6a-aaa2-1a7f28f4f485",
   "metadata": {},
   "outputs": [],
   "source": []
  }
 ],
 "metadata": {
  "kernelspec": {
   "display_name": "Python 3 (ipykernel)",
   "language": "python",
   "name": "python3"
  },
  "language_info": {
   "codemirror_mode": {
    "name": "ipython",
    "version": 3
   },
   "file_extension": ".py",
   "mimetype": "text/x-python",
   "name": "python",
   "nbconvert_exporter": "python",
   "pygments_lexer": "ipython3",
   "version": "3.9.13"
  }
 },
 "nbformat": 4,
 "nbformat_minor": 5
}

{
 "cells": [
  {
   "cell_type": "code",
   "execution_count": 1,
   "id": "4aace154-0267-4dad-b592-01271a047e30",
   "metadata": {},
   "outputs": [
    {
     "name": "stdout",
     "output_type": "stream",
     "text": [
      "Your total is:  9900\n"
     ]
    }
   ],
   "source": [
    "# MAKING FUNCTIONS DYNAMIC\n",
    "# Let's consider a function that can add two numbers, as follows:\n",
    "\n",
    "def add():\n",
    "    first_number = 3500\n",
    "    second_number = 6400\n",
    "    total = first_number + second_number\n",
    "    print(\"Your total is: \", total)\n",
    "add()\n",
    "\n",
    "# This function isn't very useful; if we wanted to add anything other than 3500 + 6400, we'd need to modify the function definition.\n",
    "# We can improve this function by using function parameters."
   ]
  },
  {
   "cell_type": "code",
   "execution_count": 2,
   "id": "eb62a0e9-c37e-453e-9938-38b75b81c88b",
   "metadata": {},
   "outputs": [
    {
     "name": "stdout",
     "output_type": "stream",
     "text": [
      "Your total is:  9900\n",
      "Your total is:  18770\n",
      "Your total is:  23800\n"
     ]
    }
   ],
   "source": [
    "# FUNCTION PARAMETERS\n",
    "# FUNCTION PARAMETERS are variables in the function definition that can be used in the function body.\n",
    "# Let's modify the previous example to use parameters, called first_number & second_number:\n",
    "\n",
    "def add(first_number, second_number):\n",
    "    total = first_number + second_number\n",
    "    print(\"Your total is: \", total)\n",
    "add(3500, 6400)\n",
    "add(7880, 10890)\n",
    "add(20500, 3300)\n",
    "\n",
    "# Parameters allow us to create dynamic functions that can accept values.\n",
    "# We use variable names for parameters because the function doesn't know what values those will hold until we call the function."
   ]
  },
  {
   "cell_type": "code",
   "execution_count": 3,
   "id": "48625e83-c342-478b-acb9-8e03ae17fbf7",
   "metadata": {},
   "outputs": [
    {
     "name": "stdout",
     "output_type": "stream",
     "text": [
      "The sum of the numbers is:  52470\n"
     ]
    }
   ],
   "source": [
    "# PARAMETERS AND DATA CONTAINERS\n",
    "# Function parameters can also be data containers like lists or dictionaries.\n",
    "# In this example, we can calculate the sum of a list of numbers, as follows:\n",
    "\n",
    "def add_numbers(numbers):\n",
    "    total = sum(numbers)\n",
    "    print(\"The sum of the numbers is: \", total)\n",
    "add_numbers([3300, 3500, 6400, 7880, 10890, 20500])\n",
    "\n",
    "# Let's break down the code:\n",
    "    # The function add_numbers uses the sum() function, which is specifically for list operations.\n",
    "    # The list numbers is summed and then saved to the variable named \"total\".\n",
    "    # Finally, the total is printed"
   ]
  },
  {
   "cell_type": "code",
   "execution_count": 4,
   "id": "87b4948e-bfff-49f0-9e53-fea5c195b0e5",
   "metadata": {},
   "outputs": [],
   "source": [
    "# FUNCTION PARAMETERS VS. FUNCTION ARGUMENTS\n",
    "# Be aware that programmers often use the terms PARAMETERS and ARGUMENTS interchangeably, even though they're slightly different.\n",
    "# When we call a function, arguments are passed to the parameters. \n",
    "    # (first_number, second_number) are the parameters\n",
    "    # (3500, 6400) are the arguments.\n",
    "# The parameters are the foundation of the function, while the arguments are the materials.\n",
    "# The parameter remains as it is, while the arguments are subject to change based on the desired values."
   ]
  },
  {
   "cell_type": "code",
   "execution_count": 12,
   "id": "89114c7e-22f5-40fe-b64d-0f51cded0d75",
   "metadata": {},
   "outputs": [
    {
     "name": "stdout",
     "output_type": "stream",
     "text": [
      "The average is:  19967.75\n"
     ]
    }
   ],
   "source": [
    "# RETURN VALUES FROM FUNCTIONS\n",
    "# The last thing to discuss about functions is the function return.\n",
    "\n",
    "def average_numbers(numbers):\n",
    "    average = sum(numbers) / len(numbers)\n",
    "    print(\"The average is: \", average)\n",
    "\n",
    "average_numbers([15770, 18436, 21110, 24555])\n",
    "\n",
    "# This funciton takes in a list of numbers, sums them, and divides by their count.\n",
    "# It then prints the resulting average."
   ]
  },
  {
   "cell_type": "code",
   "execution_count": 18,
   "id": "5b58afa7-bca1-4662-b31f-6324c5b63565",
   "metadata": {},
   "outputs": [
    {
     "name": "stdout",
     "output_type": "stream",
     "text": [
      "The first average is 7020.0. The second average is 60103.0.\n"
     ]
    }
   ],
   "source": [
    "# If we wanted to use the results of this calculation in other calculations, Python easily facilitates that.\n",
    "\n",
    "def average_numbers(numbers):\n",
    "    average = sum(numbers) / len(numbers)\n",
    "    return average\n",
    "    \n",
    "first_average = average_numbers([3300, 6400, 7880, 10500])\n",
    "second_average = average_numbers([50990, 55757, 46665, 87000])\n",
    "print(f\"The first average is {first_average}. The second average is {second_average}.\")\n",
    "\n",
    "# In this code, the function returns the value that's stored in the variable 'average'.\n",
    "# This can then be assigned to other variables or even be used in larger calculations."
   ]
  }
 ],
 "metadata": {
  "kernelspec": {
   "display_name": "Python 3 (ipykernel)",
   "language": "python",
   "name": "python3"
  },
  "language_info": {
   "codemirror_mode": {
    "name": "ipython",
    "version": 3
   },
   "file_extension": ".py",
   "mimetype": "text/x-python",
   "name": "python",
   "nbconvert_exporter": "python",
   "pygments_lexer": "ipython3",
   "version": "3.9.13"
  }
 },
 "nbformat": 4,
 "nbformat_minor": 5
}

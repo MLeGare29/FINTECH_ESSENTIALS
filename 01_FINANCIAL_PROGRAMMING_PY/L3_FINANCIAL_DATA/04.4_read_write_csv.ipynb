{
 "cells": [
  {
   "cell_type": "code",
   "execution_count": 2,
   "id": "f4c69e1c-cfb2-4f4e-bc30-e592694bafe4",
   "metadata": {},
   "outputs": [],
   "source": [
    "# READ AND WRITE TO CSV FILES\n",
    "# Now that we know how to find the path for a CSV file, we can use this information to read and write to the CSV."
   ]
  },
  {
   "cell_type": "code",
   "execution_count": 3,
   "id": "0660b525-62c5-4d0d-93c3-5c04f406e4f9",
   "metadata": {},
   "outputs": [],
   "source": [
    "# IMPORT THE CSV LIBRARY\n",
    "# Notice that we're using the import statement in the code below, just as we do for the pathlib library.\n",
    "# Specifically, we can use the following code to import the `csv` library:\n",
    "import csv\n",
    "from pathlib import Path"
   ]
  },
  {
   "cell_type": "code",
   "execution_count": 10,
   "id": "d3d6c82a-3620-4ac6-b27b-e66a04352802",
   "metadata": {},
   "outputs": [
    {
     "name": "stdout",
     "output_type": "stream",
     "text": [
      "['Jan', '123.456', '10000']\n",
      "['Feb', '100.0', '10001']\n",
      "['Mar', '199.34', '12000']\n",
      "<_io.TextIOWrapper name='quarterly_data.csv' mode='r' encoding='cp1252'>\n",
      "<_csv.reader object at 0x000002DA1FED63A0>\n",
      "['Jan', '123.456', '10000']\n",
      "['Feb', '100.0', '10001']\n",
      "['Mar', '199.34', '12000']\n"
     ]
    }
   ],
   "source": [
    "# READ A CSV FILE\n",
    "# The following is an example for reading a CSV file:\n",
    "\n",
    "csvpath = Path(\"quarterly_data.csv\")\n",
    "with open(csvpath) as csvfile:\n",
    "    data = csv.reader(csvfile)\n",
    "    for row in data:\n",
    "        print(row)\n",
    "        \n",
    "# Let's break this block of code down:\n",
    "# The keywords `with` & `open` open a connection from the Python program to the file you're working with, in this case 'csvfile'.\n",
    "# Before tackling the code in full, let's assemble the pieces, consider the following:\n",
    "\n",
    "with open(csvpath) as csvfile:\n",
    "    print(csvfile)\n",
    "    \n",
    "# Note that output of this code:\n",
    "# The `open()` method in the code returned a `TextIOWrapper` object.\n",
    "# The `TextIOWrapper` object is an interface from Python to the CSV file on the computer.\n",
    "# Now we need to get the data using the csv library.\n",
    "# This library includes a tool for reading file objects.\n",
    "# We'll use this to retrieve the data from the file using the following code:\n",
    "\n",
    "with open(csvpath) as csvfile:\n",
    "    data = csv.reader(csvfile)\n",
    "    print(data)\n",
    "    \n",
    "# Note that after this block of code, another Python object is in the output.\n",
    "# Given that this isn't the data we need, we'll make one last adjustment to iterate through this object.\n",
    "# We'll now print each item of data from the csv file:\n",
    "\n",
    "quarterly_data_path = Path(\"quarterly_data.csv\")\n",
    "with open(quarterly_data_path) as csvfile:\n",
    "    data = csv.reader(csvfile)\n",
    "    for row in data:\n",
    "        print(row)"
   ]
  },
  {
   "cell_type": "code",
   "execution_count": 14,
   "id": "7df3d99e-56e2-4ce7-92b6-d8bd3f248a95",
   "metadata": {},
   "outputs": [],
   "source": [
    "# WRITE CSV FILES\n",
    "# Now that we've read a CSV file, let's learn the process of writing one:\n",
    "\n",
    "data = [\n",
    "    {\n",
    "        \"first_name\": \"Maurice\",\n",
    "        \"last_name\": \"LeGare\",\n",
    "        \"pin\": 123\n",
    "    },\n",
    "    {\n",
    "        \"first_name\": \"Allison\",\n",
    "        \"last_name\": \"Williams\",\n",
    "        \"pin\": 456\n",
    "    }\n",
    "]\n",
    "\n",
    "header = [\"first_name\", \"last_name\", \"pin\"]\n",
    "\n",
    "csvpath = Path(\"my_output.csv\")\n",
    "with open(csvpath, 'w', newline='') as csvfile:\n",
    "    csvwriter = csv.writer(csvfile)\n",
    "    # Write the header row first\n",
    "    csvwriter.writerow(header)\n",
    "    # Then write the data rows\n",
    "    for row in data:\n",
    "        csvwriter.writerow(row.values())\n",
    "        \n",
    "# Let's break this code down piece by piece:\n",
    "\n",
    "# `with open(csvpath, 'w', newline='') as csvfile:\n",
    "    # `w` indicates that we're writing to a file, not reading a file.\n",
    "    # This twlls Python to open a file in write mode, which allows ust to write data from the Python program to a file on the computer.\n",
    "    # `newline=''` is also required so that the csv library can handle any special characters that might be in the data.\n",
    "\n",
    "# After we open the CSV file in write mode, we need to create a `csvwriter` that we can use to write data to the file.\n",
    "# We do this with the following code:\n",
    "# `csvwriter = csv.writer(csvfile)\n",
    "    # Now that we have the `csvwriter`, we can use it to write data directly to the file.\n",
    "\n",
    "# `csvwriter` has a function called `writerow` that will automatically convert a Python list to a row of data in the CSV file:\n",
    "# `csv.writerow(row.values())\n",
    "    # We can use the `values()` tool to write the dictionary values as rows of data in the csv file."
   ]
  }
 ],
 "metadata": {
  "kernelspec": {
   "display_name": "Python 3 (ipykernel)",
   "language": "python",
   "name": "python3"
  },
  "language_info": {
   "codemirror_mode": {
    "name": "ipython",
    "version": 3
   },
   "file_extension": ".py",
   "mimetype": "text/x-python",
   "name": "python",
   "nbconvert_exporter": "python",
   "pygments_lexer": "ipython3",
   "version": "3.9.13"
  }
 },
 "nbformat": 4,
 "nbformat_minor": 5
}

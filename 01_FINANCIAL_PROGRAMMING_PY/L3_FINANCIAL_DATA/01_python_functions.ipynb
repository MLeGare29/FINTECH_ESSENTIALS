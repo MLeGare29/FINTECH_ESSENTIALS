{
 "cells": [
  {
   "cell_type": "code",
   "execution_count": 1,
   "id": "ad17d580-ad52-4d67-a443-bacd940cce60",
   "metadata": {},
   "outputs": [],
   "source": [
    "# FUNCTIONS AND DRY CODE\n",
    "# Experienced programmers love the mantra, \"Don't repeat yourself.\"\n",
    "# Efficient programmers always look for wayst to simplify and reuse common code."
   ]
  },
  {
   "cell_type": "code",
   "execution_count": 3,
   "id": "134a8d14-797a-4d81-90bd-ec9bdb3bf510",
   "metadata": {},
   "outputs": [
    {
     "name": "stdout",
     "output_type": "stream",
     "text": [
      "Your total is:  6000\n"
     ]
    }
   ],
   "source": [
    "# PYTHON FUNCTIONS\n",
    "# We have already encountered functions such as sum(), max(), min() etc. \n",
    "# FUNCTIONS are programming constructs that let you group blocks of code and then reuse that code throughout the program.\n",
    "# The following is an example of a Python function:\n",
    "\n",
    "def add(first_number, second_number):\n",
    "    total = first_number + second_number\n",
    "    print(\"Your total is: \", total)\n",
    "\n",
    "# Let's break down this code:\n",
    "    # 1. The first line tells Python that we're dealing with a function. DEF stands for define, which indicates that we're defining a function.\n",
    "    # 2. The two indented lines that follow contain the actual code of the function. This function adds two numbers and then prints the result.\n",
    "# Now we can use this function however we like, such as in the following example:\n",
    "\n",
    "# Add 1 + 1\n",
    "add(3000, 3000)\n",
    "\n",
    "# As you can see, instead of having to copy and paste lines any time the two numbers being summed up change, all we have to do is input the numbers into the add() function."
   ]
  },
  {
   "cell_type": "code",
   "execution_count": 4,
   "id": "8bad81c1-1483-44fa-b2f9-419cb065419a",
   "metadata": {},
   "outputs": [],
   "source": [
    "# DEFINING FUNCTIONS\n",
    "# Defining a function is a straightforward process:\n",
    "    # def: Keyword\n",
    "    # add: Function name\n",
    "    # (first_number, second_number): Parameter\n",
    "    # total = first_number + second_number: Return value\n",
    "    # return total/print: Return value"
   ]
  },
  {
   "cell_type": "code",
   "execution_count": 6,
   "id": "01572c5b-4e05-474e-9c2e-c9e2c9c57e87",
   "metadata": {},
   "outputs": [],
   "source": [
    "# FUNCTION DEFINITION\n",
    "# similar to variables, function names are descriptive and indicate the task being executed by the function.\n",
    "# The name of the function should be followed by a set of parentheses and a colon, :.\n",
    "# This line of code is an example of a FUNCTION DEFINITION:\n",
    "    # def descriptive_function_name()"
   ]
  },
  {
   "cell_type": "code",
   "execution_count": 8,
   "id": "d2fbbb79-075a-4ff4-9732-2a2ebab6bd1d",
   "metadata": {},
   "outputs": [
    {
     "name": "stdout",
     "output_type": "stream",
     "text": [
      "Africa must unite!\n",
      "Africa must unite!\n",
      "Africa must unite!\n",
      "Africa for Africans, at home and abroad!\n"
     ]
    }
   ],
   "source": [
    "# FUNCTION BODY\n",
    "# After defining the function, you can then put any code that you want in the FUNCTION BODY.\n",
    "# The secret, however, is that the code in the function body must be indented.\n",
    "def africa_unite():\n",
    "    print(\"Africa must unite!\")\n",
    "africa_unite()\n",
    "africa_unite()\n",
    "africa_unite()\n",
    "print(\"Africa for Africans, at home and abroad!\")\n",
    "\n",
    "# In this example, only the print statment that's indented belongs to the function.\n",
    "# Anything else is just considered part of the normal program, but it won't be included when you use the function.\n",
    "def print_coffee_cup():\n",
    "    print(\"c[_]\")\n",
    "# Notice that when you run this code, nothing happens: This is not a mistake!\n",
    "# We need to discuss another important part of functions - the function call."
   ]
  },
  {
   "cell_type": "code",
   "execution_count": 9,
   "id": "c4e2c359-a01c-45f2-859c-9982ce81dae2",
   "metadata": {},
   "outputs": [
    {
     "name": "stdout",
     "output_type": "stream",
     "text": [
      "Africa must unite!\n"
     ]
    }
   ],
   "source": [
    "# CALLING FUNCTIONS\n",
    "# In the previous examples, we were actually both defining the function and calling it.\n",
    "\n",
    "def africa_unite():\n",
    "    print(\"Africa must unite!\")\n",
    "africa_unite()\n",
    "\n",
    "# Let's break down this code:\n",
    "    # Line 1 is the function definition.\n",
    "    # Line 2 is the function body.\n",
    "    # Line 3 is the function call.\n",
    "# You can think of lines 1 and 2 like the blueprint of a house.\n",
    "# They tell Python that there's a block of code with a function name, but it doesn't run the code until you need it.\n",
    "# Line 3 is what tells Python to actually run, or execute, the code inside the function.\n",
    "# As we saw earlier in the section, you can call a function as many times as you need."
   ]
  }
 ],
 "metadata": {
  "kernelspec": {
   "display_name": "Python 3 (ipykernel)",
   "language": "python",
   "name": "python3"
  },
  "language_info": {
   "codemirror_mode": {
    "name": "ipython",
    "version": 3
   },
   "file_extension": ".py",
   "mimetype": "text/x-python",
   "name": "python",
   "nbconvert_exporter": "python",
   "pygments_lexer": "ipython3",
   "version": "3.9.13"
  }
 },
 "nbformat": 4,
 "nbformat_minor": 5
}

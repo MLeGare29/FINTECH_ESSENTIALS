{
 "cells": [
  {
   "cell_type": "code",
   "execution_count": 2,
   "id": "32c9b24c-dabf-4b61-b653-647dd09c165e",
   "metadata": {},
   "outputs": [],
   "source": [
    "# QUANTITATIVE ANALYSIS, RISK, AND PORTFOLIO DIVERSIFICATION\n",
    "# Risk management and portfolio diversification are two key aims of quantitative analysis.\n",
    "# So far you've learned to quantify risk using standard deviation and the Sharpe Ratio.\n",
    "# By understanding how to measure risk, you can manage it within a portfolio.\n",
    "# Now you'll learn how to build a diversified portfolio.\n",
    "# Such a portfolio consists of an assortment of assets that have different risk profiles, like stocks and bonds.\n",
    "# In a diversified portfolio, you combine assets in such a way that you assume the least amount of risk for the maximum reward."
   ]
  },
  {
   "cell_type": "code",
   "execution_count": 3,
   "id": "84b804f2-4dce-4106-98aa-2e7d4276f2a2",
   "metadata": {},
   "outputs": [],
   "source": [
    "# BUILDING AND MANAGING A DIVERSIFIED PORTFOLIO\n",
    "# An investment portfolio consists of a combination of assets.\n",
    "# Each asset has it's own risk-reward profile based on its performance history.\n",
    "# Portfolio management involves a few key factors. One is the concept of risk tolerance.\n",
    "# Another is diversification."
   ]
  },
  {
   "cell_type": "code",
   "execution_count": 4,
   "id": "932852a9-ff18-46cd-a684-f909f1d7154d",
   "metadata": {},
   "outputs": [],
   "source": [
    "# ASSESSING RISK TOLERANCE\n",
    "# Every investor has their own RISK TOLERANCE, or the amount of risk they feel willing to take on.\n",
    "# For example, younger people are more prone to having higher risk tolerances due to their age, while older people are more conservative with their investments due to the time window.\n",
    "# This dynamic is applied to portfolios.\n",
    "# Investment advisors and publications encourage young investors to have portfolios that contain 80% stocks and 20% bonds.\n",
    "# Stocks have a sizably greater risk profile than bonds.\n",
    "# Though this portfolio has greater risk, it can attain solid growth over time.\n",
    "# As investors age, it is advised for them to evolve their portfolio allocation to 40% stocks and 60% bonds.\n",
    "# The investor will still incur some risk, while allowing the portfolio to take advantage of economic growth.\n",
    "# However, a healthy bond allocation offsets the risk for that growth, protecting a large part of their investment."
   ]
  },
  {
   "cell_type": "code",
   "execution_count": null,
   "id": "31823f24-c349-402b-969b-ed73603ffc79",
   "metadata": {},
   "outputs": [],
   "source": [
    "# ASSESS DIVERSIFICATION\n",
    "# One way to manage risk within a portfolio is to own various stocks in the stock SLEEVE, or section, of the portfolio and various bonds in the bond sleeve.\n",
    "# Investing the entire stock portion of your portfolio in one stock is risky.\n",
    "# This is especially true if that stock has large values for risk metrics like the standard deviation and Sharpe Ratio.\n",
    "# In contrast, if that stock has small values for risk metrics, you might miss out on the portfolio's return.\n",
    "# A well managed stock sleeve has a combination of stocks from various industries and sectors, all of which exhibit different risk characteristics.\n",
    "# Splitting a portfolio among multiple stocks and bonds demonstrates PORTFOLIO DIVERSIFICATION.\n",
    "# This risk management strategy combines various assets into an investment portfolio to reduce its overall risk.\n",
    "# Portfolio diversification helps investors meet their investment goals while managing the risk they take on to reach those goals.\n",
    "# The portfolio diversification strategy can change over time as the investor's goals change.\n",
    "# In addition to managing risk, portfolio diversification aims to outperform the market.\n",
    "# The market acts as a benchmark for measuring the performance of investment portfolios.\n",
    "# In this lesson, you'll use the S&P 500 to represent the market, because it has numerous stocks that do business all over the world."
   ]
  }
 ],
 "metadata": {
  "kernelspec": {
   "display_name": "Python 3 (ipykernel)",
   "language": "python",
   "name": "python3"
  },
  "language_info": {
   "codemirror_mode": {
    "name": "ipython",
    "version": 3
   },
   "file_extension": ".py",
   "mimetype": "text/x-python",
   "name": "python",
   "nbconvert_exporter": "python",
   "pygments_lexer": "ipython3",
   "version": "3.9.13"
  }
 },
 "nbformat": 4,
 "nbformat_minor": 5
}

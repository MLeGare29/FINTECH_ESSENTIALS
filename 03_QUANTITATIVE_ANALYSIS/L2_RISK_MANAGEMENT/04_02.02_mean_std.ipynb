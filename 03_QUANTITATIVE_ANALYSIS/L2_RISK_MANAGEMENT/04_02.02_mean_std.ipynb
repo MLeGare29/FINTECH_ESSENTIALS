{
 "cells": [
  {
   "cell_type": "code",
   "execution_count": 1,
   "id": "93ce66b9-6fcb-4c25-9346-fef0da6829bf",
   "metadata": {},
   "outputs": [],
   "source": [
    "import pandas as pd\n",
    "from pathlib import Path\n",
    "import numpy as np\n",
    "%matplotlib inline"
   ]
  },
  {
   "cell_type": "code",
   "execution_count": 2,
   "id": "c15eb9fc-fa6c-416f-93cd-a37ec9344814",
   "metadata": {},
   "outputs": [],
   "source": [
    "# MEASURING RISK VIA THE MEAN AND STANDARD DEVIATION\n",
    "# As FinTech professionals, we need a quantitative way to measure risk that goes well with our hunches.\n",
    "# In this section, you'll explore two key metrics that we often use together to quantify investment risk:\n",
    "    # 1. The Mean\n",
    "    # 2. The Standard Deviation"
   ]
  },
  {
   "cell_type": "code",
   "execution_count": 3,
   "id": "400e4a40-191b-4f04-8b25-3a9e0478b3f6",
   "metadata": {},
   "outputs": [
    {
     "data": {
      "text/plain": [
       "11.911428571428571"
      ]
     },
     "metadata": {},
     "output_type": "display_data"
    },
    {
     "data": {
      "text/plain": [
       "close    11.911429\n",
       "dtype: float64"
      ]
     },
     "metadata": {},
     "output_type": "display_data"
    }
   ],
   "source": [
    "# MEASURE RISK VIA THE MEAN\n",
    "# One metric we use to quantify risk is the mean, or the average value, of a stock or portfolio over time.\n",
    "# The mean serves as a baseline for the performance of an asset over a particular time period.\n",
    "# Once a baseline is established, we can measure how a stock performs relative to that baseline.\n",
    "# For example, we consider an asset with dramatic daily fluctuations from the mean riskier than one with consistent, smaller movements.\n",
    "# Assume that we want to calculate the mean of a Series, or column, of numbers:\n",
    "    # 1. First step is to sum up the values in the Series\n",
    "    # 2. Then we divide the sum of the Series by the count, or the number of elements in the Series.\n",
    "    \n",
    "# Calculating the mean using `sum` and `count`\n",
    "stock_abc = pd.DataFrame({'close': [11.25, 11.98, 10.74, 11.16, 12.35, 12.87, 13.03]})\n",
    "stock_abc_mean_1 = stock_abc['close'].sum() / stock_abc['close'].count()\n",
    "\n",
    "# Review the results\n",
    "display(stock_abc_mean_1)\n",
    "\n",
    "# Conversely, and more simply, you can use the `mean()` function to execute the same calculation\n",
    "stock_abc_mean_2 = stock_abc.mean()\n",
    "\n",
    "# Review the results\n",
    "display(stock_abc_mean_2)"
   ]
  },
  {
   "cell_type": "code",
   "execution_count": 4,
   "id": "d3182b27-8806-4582-8ddb-5ca563993dfe",
   "metadata": {},
   "outputs": [],
   "source": [
    "# As you can see, there are multiple ways to get to the same answer, but the `mean()` function is a more efficient way.\n",
    "# We consider the mean to be a MEASURE OF CENTRAL TENDENCY, or a central value for a distribution (or Series) of values.\n",
    "# This is a key value for assessing the risk of an asset."
   ]
  },
  {
   "cell_type": "code",
   "execution_count": 5,
   "id": "9b3d8cca-54d6-4a64-973d-ddf32b3a2960",
   "metadata": {},
   "outputs": [],
   "source": [
    "# MEASURE RISK VIA THE STANDARD DEVIATION\n",
    "# Another metric that we use to quantify risk is the STANDARD DEVIATION.\n",
    "# STANDARD DEVIATION measures the volatility of an asset's price compared to its historical mean over a particular period of time.\n",
    "# A small standard deviation indicates that the daily return values of the asset don't move far from the average.\n",
    "# A large standard deviation indicates that the asset is quite volatile, fluctuating a lot in thedaily return values.\n",
    "# Assets values existing +/-1 standard deviation of the mean are not considered volatile.\n",
    "# Stocks with larger standard deviations tend to have daily return values that exist far from the mean.\n",
    "# These values are called OUTLIERS, as they exist outside of the usual range of values.\n",
    "# The standard deviation is of prime importance in finanace. For more info: https://www.investopedia.com/terms/s/standarddeviation.asp"
   ]
  },
  {
   "cell_type": "code",
   "execution_count": 6,
   "id": "6075c4f1-3540-410d-b280-191b51095e11",
   "metadata": {},
   "outputs": [],
   "source": [
    "# CALCULATING THE STANADARD DEVIATION\n",
    "# We use the standard deviation to measure the volatility of an asset's price relative to its historical mean price.\n",
    "# It's a fundamental measurement for the quantitative analysis of a financial asset.\n",
    "# As an example, we'll calculate the Standard Deviation for some tech stock data.\n",
    "# The standard in the finance industry is to calculate the standard deviation by using daily return.\n",
    "# In contrast to analyzing information for stocks with wildly different prices, using daily return data makes it easier to compare information across assets.\n",
    "# To calculate the daily return, we use the `pct_change()` function as we have."
   ]
  },
  {
   "cell_type": "code",
   "execution_count": 7,
   "id": "097cdecc-d35e-4759-8dbe-19822162a5a6",
   "metadata": {},
   "outputs": [
    {
     "data": {
      "text/html": [
       "<div>\n",
       "<style scoped>\n",
       "    .dataframe tbody tr th:only-of-type {\n",
       "        vertical-align: middle;\n",
       "    }\n",
       "\n",
       "    .dataframe tbody tr th {\n",
       "        vertical-align: top;\n",
       "    }\n",
       "\n",
       "    .dataframe thead th {\n",
       "        text-align: right;\n",
       "    }\n",
       "</style>\n",
       "<table border=\"1\" class=\"dataframe\">\n",
       "  <thead>\n",
       "    <tr style=\"text-align: right;\">\n",
       "      <th></th>\n",
       "      <th>AAPL</th>\n",
       "      <th>MSFT</th>\n",
       "      <th>GOOG</th>\n",
       "      <th>FB</th>\n",
       "      <th>AMZN</th>\n",
       "    </tr>\n",
       "    <tr>\n",
       "      <th>Date</th>\n",
       "      <th></th>\n",
       "      <th></th>\n",
       "      <th></th>\n",
       "      <th></th>\n",
       "      <th></th>\n",
       "    </tr>\n",
       "  </thead>\n",
       "  <tbody>\n",
       "    <tr>\n",
       "      <th>2018-01-02</th>\n",
       "      <td>168.339050</td>\n",
       "      <td>84.128128</td>\n",
       "      <td>1065.000000</td>\n",
       "      <td>181.419998</td>\n",
       "      <td>1189.010010</td>\n",
       "    </tr>\n",
       "    <tr>\n",
       "      <th>2018-01-03</th>\n",
       "      <td>168.309738</td>\n",
       "      <td>84.519646</td>\n",
       "      <td>1082.479980</td>\n",
       "      <td>184.669998</td>\n",
       "      <td>1204.199951</td>\n",
       "    </tr>\n",
       "    <tr>\n",
       "      <th>2018-01-04</th>\n",
       "      <td>169.091522</td>\n",
       "      <td>85.263542</td>\n",
       "      <td>1086.400024</td>\n",
       "      <td>184.330002</td>\n",
       "      <td>1209.589966</td>\n",
       "    </tr>\n",
       "    <tr>\n",
       "      <th>2018-01-05</th>\n",
       "      <td>171.016678</td>\n",
       "      <td>86.320648</td>\n",
       "      <td>1102.229980</td>\n",
       "      <td>186.850006</td>\n",
       "      <td>1229.140015</td>\n",
       "    </tr>\n",
       "    <tr>\n",
       "      <th>2018-01-08</th>\n",
       "      <td>170.381485</td>\n",
       "      <td>86.408737</td>\n",
       "      <td>1106.939941</td>\n",
       "      <td>188.279999</td>\n",
       "      <td>1246.869995</td>\n",
       "    </tr>\n",
       "  </tbody>\n",
       "</table>\n",
       "</div>"
      ],
      "text/plain": [
       "                  AAPL       MSFT         GOOG          FB         AMZN\n",
       "Date                                                                   \n",
       "2018-01-02  168.339050  84.128128  1065.000000  181.419998  1189.010010\n",
       "2018-01-03  168.309738  84.519646  1082.479980  184.669998  1204.199951\n",
       "2018-01-04  169.091522  85.263542  1086.400024  184.330002  1209.589966\n",
       "2018-01-05  171.016678  86.320648  1102.229980  186.850006  1229.140015\n",
       "2018-01-08  170.381485  86.408737  1106.939941  188.279999  1246.869995"
      ]
     },
     "metadata": {},
     "output_type": "display_data"
    },
    {
     "data": {
      "text/html": [
       "<div>\n",
       "<style scoped>\n",
       "    .dataframe tbody tr th:only-of-type {\n",
       "        vertical-align: middle;\n",
       "    }\n",
       "\n",
       "    .dataframe tbody tr th {\n",
       "        vertical-align: top;\n",
       "    }\n",
       "\n",
       "    .dataframe thead th {\n",
       "        text-align: right;\n",
       "    }\n",
       "</style>\n",
       "<table border=\"1\" class=\"dataframe\">\n",
       "  <thead>\n",
       "    <tr style=\"text-align: right;\">\n",
       "      <th></th>\n",
       "      <th>AAPL</th>\n",
       "      <th>MSFT</th>\n",
       "      <th>GOOG</th>\n",
       "      <th>FB</th>\n",
       "      <th>AMZN</th>\n",
       "    </tr>\n",
       "    <tr>\n",
       "      <th>Date</th>\n",
       "      <th></th>\n",
       "      <th></th>\n",
       "      <th></th>\n",
       "      <th></th>\n",
       "      <th></th>\n",
       "    </tr>\n",
       "  </thead>\n",
       "  <tbody>\n",
       "    <tr>\n",
       "      <th>2018-12-24</th>\n",
       "      <td>145.642090</td>\n",
       "      <td>93.729706</td>\n",
       "      <td>976.219971</td>\n",
       "      <td>124.059998</td>\n",
       "      <td>1343.959961</td>\n",
       "    </tr>\n",
       "    <tr>\n",
       "      <th>2018-12-26</th>\n",
       "      <td>155.898438</td>\n",
       "      <td>100.132362</td>\n",
       "      <td>1039.459961</td>\n",
       "      <td>134.179993</td>\n",
       "      <td>1470.900024</td>\n",
       "    </tr>\n",
       "    <tr>\n",
       "      <th>2018-12-27</th>\n",
       "      <td>154.886688</td>\n",
       "      <td>100.749725</td>\n",
       "      <td>1043.880005</td>\n",
       "      <td>134.520004</td>\n",
       "      <td>1461.640015</td>\n",
       "    </tr>\n",
       "    <tr>\n",
       "      <th>2018-12-28</th>\n",
       "      <td>154.966034</td>\n",
       "      <td>99.963089</td>\n",
       "      <td>1037.079956</td>\n",
       "      <td>133.199997</td>\n",
       "      <td>1478.020020</td>\n",
       "    </tr>\n",
       "    <tr>\n",
       "      <th>2018-12-31</th>\n",
       "      <td>156.463837</td>\n",
       "      <td>101.138069</td>\n",
       "      <td>1035.609985</td>\n",
       "      <td>131.089996</td>\n",
       "      <td>1501.969971</td>\n",
       "    </tr>\n",
       "  </tbody>\n",
       "</table>\n",
       "</div>"
      ],
      "text/plain": [
       "                  AAPL        MSFT         GOOG          FB         AMZN\n",
       "Date                                                                    \n",
       "2018-12-24  145.642090   93.729706   976.219971  124.059998  1343.959961\n",
       "2018-12-26  155.898438  100.132362  1039.459961  134.179993  1470.900024\n",
       "2018-12-27  154.886688  100.749725  1043.880005  134.520004  1461.640015\n",
       "2018-12-28  154.966034   99.963089  1037.079956  133.199997  1478.020020\n",
       "2018-12-31  156.463837  101.138069  1035.609985  131.089996  1501.969971"
      ]
     },
     "metadata": {},
     "output_type": "display_data"
    }
   ],
   "source": [
    "# Create a tech_stocks DataFrame using the the tech_stocks_closing_value_2018.csv file:\n",
    "tech_stocks_df = pd.read_csv(\n",
    "    Path('tech_stocks_closing_value_2018.csv'),\n",
    "    index_col='Date',\n",
    "    parse_dates=True,\n",
    "    infer_datetime_format=True\n",
    ")\n",
    "\n",
    "# Review the beginning and end of the DataFrame:\n",
    "display(tech_stocks_df.head())\n",
    "display(tech_stocks_df.tail())"
   ]
  },
  {
   "cell_type": "code",
   "execution_count": 8,
   "id": "5a14d007-f6c5-4b45-9b3a-2921618f982e",
   "metadata": {},
   "outputs": [
    {
     "data": {
      "text/html": [
       "<div>\n",
       "<style scoped>\n",
       "    .dataframe tbody tr th:only-of-type {\n",
       "        vertical-align: middle;\n",
       "    }\n",
       "\n",
       "    .dataframe tbody tr th {\n",
       "        vertical-align: top;\n",
       "    }\n",
       "\n",
       "    .dataframe thead th {\n",
       "        text-align: right;\n",
       "    }\n",
       "</style>\n",
       "<table border=\"1\" class=\"dataframe\">\n",
       "  <thead>\n",
       "    <tr style=\"text-align: right;\">\n",
       "      <th></th>\n",
       "      <th>AAPL</th>\n",
       "      <th>MSFT</th>\n",
       "      <th>GOOG</th>\n",
       "      <th>FB</th>\n",
       "      <th>AMZN</th>\n",
       "    </tr>\n",
       "    <tr>\n",
       "      <th>Date</th>\n",
       "      <th></th>\n",
       "      <th></th>\n",
       "      <th></th>\n",
       "      <th></th>\n",
       "      <th></th>\n",
       "    </tr>\n",
       "  </thead>\n",
       "  <tbody>\n",
       "    <tr>\n",
       "      <th>2018-01-03</th>\n",
       "      <td>-0.000174</td>\n",
       "      <td>0.004654</td>\n",
       "      <td>0.016413</td>\n",
       "      <td>0.017914</td>\n",
       "      <td>0.012775</td>\n",
       "    </tr>\n",
       "    <tr>\n",
       "      <th>2018-01-04</th>\n",
       "      <td>0.004645</td>\n",
       "      <td>0.008801</td>\n",
       "      <td>0.003621</td>\n",
       "      <td>-0.001841</td>\n",
       "      <td>0.004476</td>\n",
       "    </tr>\n",
       "    <tr>\n",
       "      <th>2018-01-05</th>\n",
       "      <td>0.011385</td>\n",
       "      <td>0.012398</td>\n",
       "      <td>0.014571</td>\n",
       "      <td>0.013671</td>\n",
       "      <td>0.016163</td>\n",
       "    </tr>\n",
       "    <tr>\n",
       "      <th>2018-01-08</th>\n",
       "      <td>-0.003714</td>\n",
       "      <td>0.001020</td>\n",
       "      <td>0.004273</td>\n",
       "      <td>0.007653</td>\n",
       "      <td>0.014425</td>\n",
       "    </tr>\n",
       "    <tr>\n",
       "      <th>2018-01-09</th>\n",
       "      <td>-0.000115</td>\n",
       "      <td>-0.000680</td>\n",
       "      <td>-0.000614</td>\n",
       "      <td>-0.002178</td>\n",
       "      <td>0.004676</td>\n",
       "    </tr>\n",
       "  </tbody>\n",
       "</table>\n",
       "</div>"
      ],
      "text/plain": [
       "                AAPL      MSFT      GOOG        FB      AMZN\n",
       "Date                                                        \n",
       "2018-01-03 -0.000174  0.004654  0.016413  0.017914  0.012775\n",
       "2018-01-04  0.004645  0.008801  0.003621 -0.001841  0.004476\n",
       "2018-01-05  0.011385  0.012398  0.014571  0.013671  0.016163\n",
       "2018-01-08 -0.003714  0.001020  0.004273  0.007653  0.014425\n",
       "2018-01-09 -0.000115 -0.000680 -0.000614 -0.002178  0.004676"
      ]
     },
     "execution_count": 8,
     "metadata": {},
     "output_type": "execute_result"
    }
   ],
   "source": [
    "# Using the `pct_change()` function, create a `daily_returns` DataFrame to calculate the daily returns:\n",
    "daily_returns = tech_stocks_df.pct_change().dropna()\n",
    "\n",
    "# Review the DataFrame:\n",
    "daily_returns.head()"
   ]
  },
  {
   "cell_type": "code",
   "execution_count": 9,
   "id": "87e4be42-8482-481c-9086-1d59da94dcdc",
   "metadata": {},
   "outputs": [
    {
     "data": {
      "text/plain": [
       "AAPL    0.018106\n",
       "MSFT    0.017839\n",
       "GOOG    0.017724\n",
       "FB      0.023949\n",
       "AMZN    0.022768\n",
       "dtype: float64"
      ]
     },
     "metadata": {},
     "output_type": "display_data"
    }
   ],
   "source": [
    "# Now we can calculate the standard deviation by using the `std()` function.\n",
    "    # Behind the scenes this function calculates the mean return\n",
    "    # It then evaluates how far from the mean each daily return data point it:\n",
    "    \n",
    "# Calculate the standard deviation of each of the tech stocks using the `std()` function:\n",
    "standard_deviation = daily_returns.std()\n",
    "\n",
    "# Review the results\n",
    "display(standard_deviation.head())"
   ]
  },
  {
   "cell_type": "code",
   "execution_count": 10,
   "id": "d7fa08e2-edd6-4519-b017-7345a112228f",
   "metadata": {},
   "outputs": [
    {
     "data": {
      "text/plain": [
       "GOOG    0.017724\n",
       "MSFT    0.017839\n",
       "AAPL    0.018106\n",
       "AMZN    0.022768\n",
       "FB      0.023949\n",
       "dtype: float64"
      ]
     },
     "execution_count": 10,
     "metadata": {},
     "output_type": "execute_result"
    }
   ],
   "source": [
    "# Next, we'll sort this output in ascending order by using the `sort_values` function.\n",
    "# This orders the assets from smallest amount of risk to the largest:\n",
    "standard_deviation_sorted = standard_deviation.sort_values()\n",
    "\n",
    "# Display the results\n",
    "standard_deviation_sorted"
   ]
  },
  {
   "cell_type": "code",
   "execution_count": 11,
   "id": "e4e15b81-9679-4426-bfd0-24fc2640577f",
   "metadata": {},
   "outputs": [
    {
     "data": {
      "text/html": [
       "<div>\n",
       "<style scoped>\n",
       "    .dataframe tbody tr th:only-of-type {\n",
       "        vertical-align: middle;\n",
       "    }\n",
       "\n",
       "    .dataframe tbody tr th {\n",
       "        vertical-align: top;\n",
       "    }\n",
       "\n",
       "    .dataframe thead th {\n",
       "        text-align: right;\n",
       "    }\n",
       "</style>\n",
       "<table border=\"1\" class=\"dataframe\">\n",
       "  <thead>\n",
       "    <tr style=\"text-align: right;\">\n",
       "      <th></th>\n",
       "      <th>stock_abc</th>\n",
       "      <th>stock_def</th>\n",
       "      <th>stock_efg</th>\n",
       "    </tr>\n",
       "  </thead>\n",
       "  <tbody>\n",
       "    <tr>\n",
       "      <th>0</th>\n",
       "      <td>17.89</td>\n",
       "      <td>124.37</td>\n",
       "      <td>5.45</td>\n",
       "    </tr>\n",
       "    <tr>\n",
       "      <th>1</th>\n",
       "      <td>16.43</td>\n",
       "      <td>125.21</td>\n",
       "      <td>5.50</td>\n",
       "    </tr>\n",
       "    <tr>\n",
       "      <th>2</th>\n",
       "      <td>16.25</td>\n",
       "      <td>125.75</td>\n",
       "      <td>5.75</td>\n",
       "    </tr>\n",
       "    <tr>\n",
       "      <th>3</th>\n",
       "      <td>15.74</td>\n",
       "      <td>126.51</td>\n",
       "      <td>5.10</td>\n",
       "    </tr>\n",
       "    <tr>\n",
       "      <th>4</th>\n",
       "      <td>15.36</td>\n",
       "      <td>127.25</td>\n",
       "      <td>4.90</td>\n",
       "    </tr>\n",
       "  </tbody>\n",
       "</table>\n",
       "</div>"
      ],
      "text/plain": [
       "   stock_abc  stock_def  stock_efg\n",
       "0      17.89     124.37       5.45\n",
       "1      16.43     125.21       5.50\n",
       "2      16.25     125.75       5.75\n",
       "3      15.74     126.51       5.10\n",
       "4      15.36     127.25       4.90"
      ]
     },
     "execution_count": 11,
     "metadata": {},
     "output_type": "execute_result"
    }
   ],
   "source": [
    "# SKILL DRILL\n",
    "# Create the `stocks` DataFrame\n",
    "stocks = pd.DataFrame({\n",
    "    'stock_abc' : [17.89, 16.43, 16.25, 15.74, 15.36, 18.29, 18.00, 18.15, 18.30, 18.50],\n",
    "    'stock_def' : [124.37, 125.21, 125.75, 126.51, 127.25, 127.00, 127.10, 126.89, 126.99, 127.75],\n",
    "    'stock_efg' : [5.45, 5.50, 5.75, 5.10, 4.90, 4.75, 4.70, 4.80, 4.29, 4.33]\n",
    "})\n",
    "stocks.head()"
   ]
  },
  {
   "cell_type": "code",
   "execution_count": 12,
   "id": "132fc843-e69d-41d4-b1c2-91c4f34f9523",
   "metadata": {},
   "outputs": [
    {
     "data": {
      "text/html": [
       "<div>\n",
       "<style scoped>\n",
       "    .dataframe tbody tr th:only-of-type {\n",
       "        vertical-align: middle;\n",
       "    }\n",
       "\n",
       "    .dataframe tbody tr th {\n",
       "        vertical-align: top;\n",
       "    }\n",
       "\n",
       "    .dataframe thead th {\n",
       "        text-align: right;\n",
       "    }\n",
       "</style>\n",
       "<table border=\"1\" class=\"dataframe\">\n",
       "  <thead>\n",
       "    <tr style=\"text-align: right;\">\n",
       "      <th></th>\n",
       "      <th>stock_abc</th>\n",
       "      <th>stock_def</th>\n",
       "      <th>stock_efg</th>\n",
       "    </tr>\n",
       "  </thead>\n",
       "  <tbody>\n",
       "    <tr>\n",
       "      <th>1</th>\n",
       "      <td>-0.081610</td>\n",
       "      <td>0.006754</td>\n",
       "      <td>0.009174</td>\n",
       "    </tr>\n",
       "    <tr>\n",
       "      <th>2</th>\n",
       "      <td>-0.010956</td>\n",
       "      <td>0.004313</td>\n",
       "      <td>0.045455</td>\n",
       "    </tr>\n",
       "    <tr>\n",
       "      <th>3</th>\n",
       "      <td>-0.031385</td>\n",
       "      <td>0.006044</td>\n",
       "      <td>-0.113043</td>\n",
       "    </tr>\n",
       "    <tr>\n",
       "      <th>4</th>\n",
       "      <td>-0.024142</td>\n",
       "      <td>0.005849</td>\n",
       "      <td>-0.039216</td>\n",
       "    </tr>\n",
       "    <tr>\n",
       "      <th>5</th>\n",
       "      <td>0.190755</td>\n",
       "      <td>-0.001965</td>\n",
       "      <td>-0.030612</td>\n",
       "    </tr>\n",
       "  </tbody>\n",
       "</table>\n",
       "</div>"
      ],
      "text/plain": [
       "   stock_abc  stock_def  stock_efg\n",
       "1  -0.081610   0.006754   0.009174\n",
       "2  -0.010956   0.004313   0.045455\n",
       "3  -0.031385   0.006044  -0.113043\n",
       "4  -0.024142   0.005849  -0.039216\n",
       "5   0.190755  -0.001965  -0.030612"
      ]
     },
     "execution_count": 12,
     "metadata": {},
     "output_type": "execute_result"
    }
   ],
   "source": [
    "# Create a `stocks_daily_returns` DataFrame using the `pct_change` function.\n",
    "# Be sure to `dropna`:\n",
    "stocks_daily_returns = stocks.pct_change().dropna()\n",
    "\n",
    "# Review the DataFrame\n",
    "stocks_daily_returns.head()"
   ]
  },
  {
   "cell_type": "code",
   "execution_count": 13,
   "id": "77b21d37-e6fb-4b05-905c-66b4e3f9f671",
   "metadata": {},
   "outputs": [
    {
     "data": {
      "text/plain": [
       "stock_abc    0.006037\n",
       "stock_def    0.002989\n",
       "stock_efg   -0.023824\n",
       "dtype: float64"
      ]
     },
     "execution_count": 13,
     "metadata": {},
     "output_type": "execute_result"
    }
   ],
   "source": [
    "# Using the `stocks_daily_returns` DataFrame, determine the mean of the values:\n",
    "stocks_daily_returns.mean()"
   ]
  },
  {
   "cell_type": "code",
   "execution_count": 14,
   "id": "03c524c7-a560-4238-a84c-561ab30bea2a",
   "metadata": {},
   "outputs": [
    {
     "data": {
      "text/plain": [
       "stock_def    0.003503\n",
       "stock_efg    0.055040\n",
       "stock_abc    0.074930\n",
       "dtype: float64"
      ]
     },
     "execution_count": 14,
     "metadata": {},
     "output_type": "execute_result"
    }
   ],
   "source": [
    "# Use the `std()` and `sort_values()` functions to determine the standard deviation from least to greatest:\n",
    "stocks_std = stocks_daily_returns.std().sort_values()\n",
    "\n",
    "# Review the DataFrame:\n",
    "stocks_std"
   ]
  },
  {
   "cell_type": "code",
   "execution_count": 15,
   "id": "8da89e75-40d8-42f7-976e-ebd5e7a4545b",
   "metadata": {},
   "outputs": [],
   "source": [
    "# EVALUATE THE STANDARD DEVIATION\n",
    "# By inspecting the five values from the `tech_stocks` DataFrame, you can observe that FB has the largest standard deviation.\n",
    "# This means that Facebook (Meta) is the most volatile and risky, because it deviates the most from its average return.\n",
    "# By contrast, Google has the smallest standard deviation, which indicates it's the least risky.\n",
    "# Let's say you want to compare these values to the standard deviations of non-tech stocks or to the market as a whole.\n",
    "# Before doing that, we need to dig a bit more deeply.\n",
    "# Generally, we measure the standard deviation for three key time periods: daily, monthly, annually.\n",
    "# We do this by calculating daily returns, monthly returns, and an annualized standard deviation, respecitvely.\n",
    "# Financial publications such as the Wall Street Journal, often report the annualized standard deviation.\n",
    "# Particularly because it offers the greatest insight into the long-term volatility trends for an asset.\n",
    "# This makes annualized standard deviation the most relevant for financial analysts building portfolios."
   ]
  },
  {
   "cell_type": "code",
   "execution_count": 16,
   "id": "67036f02-1ac0-465f-9158-a7a3313fce4a",
   "metadata": {},
   "outputs": [
    {
     "data": {
      "text/plain": [
       "GOOG    0.281354\n",
       "MSFT    0.283180\n",
       "AAPL    0.287428\n",
       "AMZN    0.361434\n",
       "FB      0.380172\n",
       "dtype: float64"
      ]
     },
     "execution_count": 16,
     "metadata": {},
     "output_type": "execute_result"
    }
   ],
   "source": [
    "# FIND THE ANNUALIZED STANDARD DEVIATION\n",
    "# We'll calculate the annualized standard deviation (std) by using the daily returns we generated from the tech_stocks DataFrame.\n",
    "# To do this, we need to mulitply the square root of the number of trading days in a year by the standard deviation.\n",
    "# Additionally, we'll use the NumPy `sqrt` function:\n",
    "annualized_standard_deviation = standard_deviation * np.sqrt(252)\n",
    "\n",
    "# Review the results:\n",
    "annualized_standard_deviation.sort_values()"
   ]
  },
  {
   "cell_type": "code",
   "execution_count": 17,
   "id": "a4cd71cf-7bd5-4e94-b68b-d3ba86d0f015",
   "metadata": {},
   "outputs": [],
   "source": [
    "# Notice that the annualized standard deviations have changed compared to the calculated standard deviations.\n",
    "# However, the order of the stocks from lowest to highest risk has stayed the same.\n",
    "# Regardless of the time frame, the less risky stocks have a smaller value than the riskier stocks.\n",
    "# Just be sure that you're using the same time frame to evaluate all the stocks."
   ]
  },
  {
   "cell_type": "code",
   "execution_count": 18,
   "id": "a16afc52-57a2-49ba-b441-17c59f709ac6",
   "metadata": {},
   "outputs": [
    {
     "data": {
      "text/plain": [
       "stock_def    0.055613\n",
       "stock_efg    0.873733\n",
       "stock_abc    1.189478\n",
       "dtype: float64"
      ]
     },
     "execution_count": 18,
     "metadata": {},
     "output_type": "execute_result"
    }
   ],
   "source": [
    "# SKILL DRILL\n",
    "# Determine the annualized standard deviation of `stocks_std`:\n",
    "annualized_stocks_std = stocks_std * np.sqrt(252)\n",
    "\n",
    "# Review the results:\n",
    "annualized_stocks_std.sort_values()"
   ]
  },
  {
   "cell_type": "code",
   "execution_count": 19,
   "id": "878d50c6-46fb-4e10-9a86-2e5af5b94082",
   "metadata": {},
   "outputs": [
    {
     "data": {
      "text/plain": [
       "<AxesSubplot:title={'center':'Box Plot of Daily Returns Data - 5 Tech Stocks'}>"
      ]
     },
     "execution_count": 19,
     "metadata": {},
     "output_type": "execute_result"
    },
    {
     "data": {
      "image/png": "[encoded data removed]",
      "text/plain": [
       "<Figure size 640x480 with 1 Axes>"
      ]
     },
     "metadata": {},
     "output_type": "display_data"
    }
   ],
   "source": [
    "# VISUALIZE THE STANDARD DEVIATION VIA BOX PLOTS\n",
    "# One of the primary visualizations that we use with measures of standard deviationis the Pandas box plots.\n",
    "# The box plot has become the standard for displaying standard deviation, it illustrates the total spread of the data.\n",
    "# That is, it shows the mean value, the 50% of data that's clustered around the mean, and the outliers.\n",
    "\n",
    "# Plot the box plot:\n",
    "daily_returns.plot.box(title='Box Plot of Daily Returns Data - 5 Tech Stocks')"
   ]
  },
  {
   "cell_type": "code",
   "execution_count": 20,
   "id": "25601213-9bd6-4bbc-92e1-e2a25d79cd67",
   "metadata": {},
   "outputs": [],
   "source": [
    "# Let's break down the plot:\n",
    "    # The horizonal green line in the middle of each box is the mean value of the data.\\\n",
    "    # Each box represents 50% of the data points clustered around the mean.\n",
    "        # This area is referred to as the INTERQUARTILE RANGE. The longer the box, the more spread out the 50% is.\n",
    "        # A longer box indicates greater volatility in the daily returns data.\n",
    "    # The vertical lines are the whiskers, which represent the range, or spread, of the data.\n",
    "        # Longer whiskers indicate greater volatility in the data.\n",
    "    # Any data points that extend beyond the whiskers are the outliers, which also indicate volatility and risk.\n",
    "# A box plot that displays a long box, long whiskers, and several outliers are high risk, and volatile assets.    "
   ]
  },
  {
   "cell_type": "code",
   "execution_count": null,
   "id": "f4e10cfa-d5f6-4d2e-a4a6-a61ddbca7fbe",
   "metadata": {},
   "outputs": [],
   "source": [
    "# Based on this plot, it appears that the daily return data for GOOG is the least volatile.\n",
    "# The GOOG box plot has the least number of outilers, and the whiskers seem to be among the shortest.\n",
    "# This makes sense, because GOOG has the smallest standart deviation, which is another measure of volatility.\n",
    "# Additionally, FB & AMZN are in close contention for the most volatile.\n",
    "# They both seem to have longer whiskers with several outliers.\n",
    "# If you notice that one FB outlier way down at the bottom of the plot, that data point is probably what won FB the title of most volatile of the five stocks.\n",
    "# As you study these plots, remember that the greater the spread, the greater the risk.\n",
    "# The greater the risk, the greater the potential for outsized earnings or outsized losses. (But outsized losses get more attention.)\n",
    "# With annualized standard deviation metrics and box plots, quantitative financial analysts can determine the potential risk that's associated with an assets.\n",
    "# Either stocks with large annualized standard deviations or box plots with large boxes and long whiskers can keep a portfolio manager up at night.\n",
    "# However, risk isn't always about the possibility of losing money when a stock price declines or, worse, collapses.\n",
    "# High-risk stocks can also lead to big gains.\n",
    "# Therefore, we should evaluate risk in terms of an asset's potential ROI.\n",
    "# The Sharpe ratio, is a metric that allows us to account for both risk and return in work."
   ]
  }
 ],
 "metadata": {
  "kernelspec": {
   "display_name": "Python 3 (ipykernel)",
   "language": "python",
   "name": "python3"
  },
  "language_info": {
   "codemirror_mode": {
    "name": "ipython",
    "version": 3
   },
   "file_extension": ".py",
   "mimetype": "text/x-python",
   "name": "python",
   "nbconvert_exporter": "python",
   "pygments_lexer": "ipython3",
   "version": "3.9.13"
  }
 },
 "nbformat": 4,
 "nbformat_minor": 5
}

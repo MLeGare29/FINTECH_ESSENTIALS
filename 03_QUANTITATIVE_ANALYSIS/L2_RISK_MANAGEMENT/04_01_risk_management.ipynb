{
 "cells": [
  {
   "cell_type": "code",
   "execution_count": 1,
   "id": "ffea09bc-c6c0-445b-8b5d-ab5766e9dd8f",
   "metadata": {},
   "outputs": [],
   "source": [
    "# EVALUATING FINANCIAL RISK\n",
    "# Quantitative financial analysts must explore beyond daily and cumulative returns to evaluate an asset for investment.\n",
    "# They need to measure the asset's risk.\n",
    "# RISK is the chance that an investment's acutal return will differ from its expected or predicted return.\n",
    "# In this context, we usually asses risk by quantifying historical patterns and outcomes.\n",
    "# Risk helps quantify the possibility of making $20,000 from a $10,000 investment, or making $0, or even losing money.\n",
    "# We balance the risk metric of an investment by that investment's return.\n",
    "# Quantitative financial analysts have a primary goal of RISK MANAGEMENT.\n",
    "# This means determining the amount of return that an investment generates for each unit of risk that's associated with the investment.\n",
    "# When creating an investment portfolio, we need to evaluate the risk-return relationship.\n",
    "# The goal is to generate the largest cumulative return for the least amount of assumed risk.\n",
    "# In this lesson, you'll use Pandas to generate statistics and visualizations.\n",
    "# The purpose is to measure the risk of a single investment and to compare risk measures across multiple investments.\n",
    "# By measuring risk, you can better assess and manage the risk-return profile of a portfolio for better investment results."
   ]
  },
  {
   "cell_type": "code",
   "execution_count": null,
   "id": "fdcb98ac-c3d7-4669-a569-1944d0770857",
   "metadata": {},
   "outputs": [],
   "source": []
  }
 ],
 "metadata": {
  "kernelspec": {
   "display_name": "Python 3 (ipykernel)",
   "language": "python",
   "name": "python3"
  },
  "language_info": {
   "codemirror_mode": {
    "name": "ipython",
    "version": 3
   },
   "file_extension": ".py",
   "mimetype": "text/x-python",
   "name": "python",
   "nbconvert_exporter": "python",
   "pygments_lexer": "ipython3",
   "version": "3.9.13"
  }
 },
 "nbformat": 4,
 "nbformat_minor": 5
}

{
 "cells": [
  {
   "cell_type": "code",
   "execution_count": 4,
   "id": "569e659c-be79-48c0-be16-d88deadb46fc",
   "metadata": {},
   "outputs": [],
   "source": [
    "# Import the dependencies:\n",
    "import pandas as pd\n",
    "from pathlib import Path\n",
    "import sqlalchemy\n",
    "import numpy as np"
   ]
  },
  {
   "cell_type": "code",
   "execution_count": 5,
   "id": "a96bc599-7788-4870-8220-84d9ac3c6797",
   "metadata": {},
   "outputs": [],
   "source": [
    "# DATABASE QUERIES\n",
    "# Before you can use CRUD operations to build financial applications, you need to be able to efficiently query databases.\n",
    "# Imagine a large e-commerce company that maintains databases for tens of millions of customers, having terabytes of records.\n",
    "# We can't pull that data into a DataFrame or a Python application, because our computers don't have the necessary storage capacity.\n",
    "# Instead, we need to selectively query a database by using SQL to access only the data we need for our application.\n",
    "# This is one reason why SQL is such an in-demand skill in the FinTech industry."
   ]
  },
  {
   "cell_type": "code",
   "execution_count": 6,
   "id": "0d8bd94d-b9a3-40ff-9828-d1b3fd03b28c",
   "metadata": {},
   "outputs": [],
   "source": [
    "# SELECTING COLUMNS\n",
    "# A single database table can consist of a hundred columns and a thousand rows of data.\n",
    "# In most cases, all the inforamtion in a table of that size doesn't have relevance for an analysis.\n",
    "# To access only the information that we need for a particular analysis, we need to make a targeted query.\n",
    "# One way to do so involves specifying only the columns containing the information that we need."
   ]
  },
  {
   "cell_type": "code",
   "execution_count": 7,
   "id": "269e20ee-3788-4a01-a844-bfbfa99a9cf8",
   "metadata": {},
   "outputs": [],
   "source": [
    "# REFRESHER: THE SQL SELECT STATEMENT\n",
    "# Reminder: The syntax for a SQL `SELECT` statement is as follows:\n",
    "    # SELECT column_name, column_name, ...\n",
    "    # FROM table_name\n",
    "    # WHERE condition;"
   ]
  },
  {
   "cell_type": "code",
   "execution_count": 8,
   "id": "21957833-db8f-4f14-a518-84c8b98cb752",
   "metadata": {},
   "outputs": [],
   "source": [
    "# Create a temporary sqlite database:\n",
    "database_connection_string = 'sqlite:///'\n",
    "\n",
    "# Create the temporary database engine:\n",
    "engine = sqlalchemy.create_engine(database_connection_string)"
   ]
  },
  {
   "cell_type": "code",
   "execution_count": 9,
   "id": "1ef0d2b5-8a71-49db-8dce-60e63f34b2b7",
   "metadata": {},
   "outputs": [
    {
     "name": "stderr",
     "output_type": "stream",
     "text": [
      "C:\\Users\\legar\\AppData\\Local\\Temp\\ipykernel_6740\\1298180748.py:8: SADeprecationWarning: The Engine.table_names() method is deprecated and will be removed in a future release.  Please refer to Inspector.get_table_names(). (deprecated since: 1.4)\n",
      "  engine.table_names()\n"
     ]
    },
    {
     "data": {
      "text/plain": [
       "['stocks']"
      ]
     },
     "execution_count": 9,
     "metadata": {},
     "output_type": "execute_result"
    }
   ],
   "source": [
    "# Create a DataFrame for AAPL and GOOG:\n",
    "stocks = pd.DataFrame({'AAPL': [1,2,3], 'GOOG': [4,5,6]})\n",
    "\n",
    "# Store the DataFrame as a table in the database:\n",
    "stocks.to_sql('stocks', engine, index=False, if_exists='replace')\n",
    "\n",
    "# Confirm that the table was created:\n",
    "engine.table_names()"
   ]
  },
  {
   "cell_type": "code",
   "execution_count": 10,
   "id": "26df0f55-b01f-4192-9283-8f88100565df",
   "metadata": {},
   "outputs": [
    {
     "data": {
      "text/plain": [
       "[(1,), (2,), (3,)]"
      ]
     },
     "execution_count": 10,
     "metadata": {},
     "output_type": "execute_result"
    }
   ],
   "source": [
    "# Finally, we'll use the `SELECT` statement to choose the columns that we want to get.\n",
    "# In this case, we'll get all the AAPL data by selecting the 'AAPL' column from our table:\n",
    "query = \"\"\"\n",
    "SELECT \"AAPL\" \n",
    "FROM stocks;\n",
    "\"\"\"\n",
    "results = engine.execute(query)\n",
    "list(results)"
   ]
  },
  {
   "cell_type": "code",
   "execution_count": 11,
   "id": "0bbf9698-e5f4-4492-a961-88a65e631c50",
   "metadata": {},
   "outputs": [
    {
     "data": {
      "text/plain": [
       "<AxesSubplot:>"
      ]
     },
     "execution_count": 11,
     "metadata": {},
     "output_type": "execute_result"
    },
    {
     "data": {
      "image/png": "[encoded data removed]",
      "text/plain": [
       "<Figure size 640x480 with 1 Axes>"
      ]
     },
     "metadata": {},
     "output_type": "display_data"
    }
   ],
   "source": [
    "# To complete this refresher, we'll use Pandas to read the data back into a DataFrame.\n",
    "# In the previous lesson, we used the `read_sql_table` function to read the table back into a DataFrame.\n",
    "# In this case, however, we want to read only the \"AAPL\" column.\n",
    "# To do so, we'll use the `read_sql_query` function instead.\n",
    "# To use the `read_sql_query` function, we need to pass it the query string and the engine as parameters.\n",
    "# We'll also plot the new DataFrame:\n",
    "df = pd.read_sql_query(query, con=engine)\n",
    "df.plot()"
   ]
  },
  {
   "cell_type": "code",
   "execution_count": 12,
   "id": "2c782c5a-a0b5-47f0-bdcd-739d3c6d356f",
   "metadata": {},
   "outputs": [],
   "source": [
    "# The plot function generates a plot with the DataFrame on which it is called.\n",
    "# It uses the columns' data as the Y axis and the index values as the X axis."
   ]
  },
  {
   "cell_type": "code",
   "execution_count": 13,
   "id": "358370ea-832d-48ae-b10b-4efe970958d1",
   "metadata": {},
   "outputs": [],
   "source": [
    "# USING CONDITIONAL SELECTION\n",
    "# In the previous example, we improved our data selection process with the help of the `SELECT` statement.\n",
    "# But what happens when we work with millions or even billions of rows of data in those columns that we select?\n",
    "# We need to be even more selective with our data.\n",
    "# In these cases, we can add CONDITIONAL SELECTION to SQL queries by using the `WHERE` clause.\n",
    "# With the `WHERE` clause, we can create conditional statements that a SQL query uses to match data to the values that we define.\n",
    "# This resembles the conditional logic that we used with the `loc` and `iloc` functions.\n",
    "# In SQL, we can use conditional statements to select only the data that we care about.\n",
    "# This proves more efficient when we work with large amounts of data."
   ]
  },
  {
   "cell_type": "code",
   "execution_count": 14,
   "id": "28fc3fb5-3010-4e70-a191-3086870626f1",
   "metadata": {},
   "outputs": [],
   "source": [
    "# REWIND: CONDITIONAL OPERATORS\n",
    "# Conditional selection is based on the use of CONDITIONAL OPERATORS to evaluate the values we want to get from the database.\n",
    "# The conditional operators that SQL queries use resemble the ones that conditional statements in Python use.\n",
    "# They are the following:\n",
    "    # 1. (=): This means equals. Note that SQL uses an equal sign, whereas Python uses double equals.\n",
    "    # 2. (>): Greater than\n",
    "    # 3. (<): Less than\n",
    "    # 4. (>=): Greater than or equal to \n",
    "    # 5. (<=): Less than or equal to"
   ]
  },
  {
   "cell_type": "code",
   "execution_count": 15,
   "id": "5abbdc4a-4b1e-41e5-a0e7-d54f8bc54d55",
   "metadata": {},
   "outputs": [
    {
     "data": {
      "text/html": [
       "<div>\n",
       "<style scoped>\n",
       "    .dataframe tbody tr th:only-of-type {\n",
       "        vertical-align: middle;\n",
       "    }\n",
       "\n",
       "    .dataframe tbody tr th {\n",
       "        vertical-align: top;\n",
       "    }\n",
       "\n",
       "    .dataframe thead th {\n",
       "        text-align: right;\n",
       "    }\n",
       "</style>\n",
       "<table border=\"1\" class=\"dataframe\">\n",
       "  <thead>\n",
       "    <tr style=\"text-align: right;\">\n",
       "      <th></th>\n",
       "      <th>AAPL</th>\n",
       "    </tr>\n",
       "  </thead>\n",
       "  <tbody>\n",
       "    <tr>\n",
       "      <th>0</th>\n",
       "      <td>1</td>\n",
       "    </tr>\n",
       "    <tr>\n",
       "      <th>1</th>\n",
       "      <td>2</td>\n",
       "    </tr>\n",
       "  </tbody>\n",
       "</table>\n",
       "</div>"
      ],
      "text/plain": [
       "   AAPL\n",
       "0     1\n",
       "1     2"
      ]
     },
     "execution_count": 15,
     "metadata": {},
     "output_type": "execute_result"
    }
   ],
   "source": [
    "# USE THE WHERE CLAUSE\n",
    "# As an example, we'll attach a `WHERE` clause to our earlier `SELECT` statement.\n",
    "# This time, we'll select only the values that are less than 3 from the 'AAPL' column:\n",
    "query = \"\"\"\n",
    "SELECT AAPL\n",
    "FROM stocks\n",
    "WHERE AAPL < 3;\n",
    "\"\"\"\n",
    "aapl_df = pd.read_sql_query(query, con=engine)\n",
    "aapl_df"
   ]
  },
  {
   "cell_type": "code",
   "execution_count": 16,
   "id": "78e65866-746d-4e33-86f0-d38a1a30547c",
   "metadata": {},
   "outputs": [],
   "source": [
    "# Note that the output consists of a DataFrame that contains a single column named \"AAPL\". \n",
    "# This column has two rows of data that contain the values 1 and 2.\n",
    "# The DataFrame doesn't include a row with the value 3, because this value doesn't meet the condition that the `WHERE` clause specified. "
   ]
  },
  {
   "cell_type": "code",
   "execution_count": 17,
   "id": "91ee4a49-cdea-474b-84f2-f4731193b9a7",
   "metadata": {},
   "outputs": [
    {
     "data": {
      "text/html": [
       "<div>\n",
       "<style scoped>\n",
       "    .dataframe tbody tr th:only-of-type {\n",
       "        vertical-align: middle;\n",
       "    }\n",
       "\n",
       "    .dataframe tbody tr th {\n",
       "        vertical-align: top;\n",
       "    }\n",
       "\n",
       "    .dataframe thead th {\n",
       "        text-align: right;\n",
       "    }\n",
       "</style>\n",
       "<table border=\"1\" class=\"dataframe\">\n",
       "  <thead>\n",
       "    <tr style=\"text-align: right;\">\n",
       "      <th></th>\n",
       "      <th>AAPL</th>\n",
       "    </tr>\n",
       "  </thead>\n",
       "  <tbody>\n",
       "    <tr>\n",
       "      <th>0</th>\n",
       "      <td>1</td>\n",
       "    </tr>\n",
       "    <tr>\n",
       "      <th>1</th>\n",
       "      <td>3</td>\n",
       "    </tr>\n",
       "  </tbody>\n",
       "</table>\n",
       "</div>"
      ],
      "text/plain": [
       "   AAPL\n",
       "0     1\n",
       "1     3"
      ]
     },
     "execution_count": 17,
     "metadata": {},
     "output_type": "execute_result"
    }
   ],
   "source": [
    "# JOIN CONDITIONAL STATEMENTS\n",
    "# We can also use the `WHERE` clause to join conditional statements together, just like we did in Python.\n",
    "# To do so, we'll use logical operators such as `AND`, `OR`, & `NOT`.\n",
    "# Let's change our previous query so that we find any 'AAPL' values that match 1 or 3.\n",
    "# We thus change the query to request the values where the 'AAPL' value equals 1 `OR` the 'AAPL' value equals 3:\n",
    "query = \"\"\"\n",
    "SELECT AAPL\n",
    "FROM stocks\n",
    "WHERE AAPL = 1 OR AAPL = 3;\n",
    "\"\"\"\n",
    "df = pd.read_sql_query(query, con=engine)\n",
    "df"
   ]
  },
  {
   "cell_type": "code",
   "execution_count": 19,
   "id": "b5f841e4-dc01-478c-9575-3c6940fd414e",
   "metadata": {},
   "outputs": [],
   "source": []
  },
  {
   "cell_type": "code",
   "execution_count": 22,
   "id": "3adabaf4-a228-45ba-8b7f-67a392a90537",
   "metadata": {},
   "outputs": [
    {
     "data": {
      "text/html": [
       "<div>\n",
       "<style scoped>\n",
       "    .dataframe tbody tr th:only-of-type {\n",
       "        vertical-align: middle;\n",
       "    }\n",
       "\n",
       "    .dataframe tbody tr th {\n",
       "        vertical-align: top;\n",
       "    }\n",
       "\n",
       "    .dataframe thead th {\n",
       "        text-align: right;\n",
       "    }\n",
       "</style>\n",
       "<table border=\"1\" class=\"dataframe\">\n",
       "  <thead>\n",
       "    <tr style=\"text-align: right;\">\n",
       "      <th></th>\n",
       "      <th>AAPL</th>\n",
       "      <th>GOOG</th>\n",
       "    </tr>\n",
       "  </thead>\n",
       "  <tbody>\n",
       "    <tr>\n",
       "      <th>0</th>\n",
       "      <td>44</td>\n",
       "      <td>47</td>\n",
       "    </tr>\n",
       "    <tr>\n",
       "      <th>1</th>\n",
       "      <td>64</td>\n",
       "      <td>67</td>\n",
       "    </tr>\n",
       "    <tr>\n",
       "      <th>2</th>\n",
       "      <td>67</td>\n",
       "      <td>9</td>\n",
       "    </tr>\n",
       "  </tbody>\n",
       "</table>\n",
       "</div>"
      ],
      "text/plain": [
       "   AAPL  GOOG\n",
       "0    44    47\n",
       "1    64    67\n",
       "2    67     9"
      ]
     },
     "metadata": {},
     "output_type": "display_data"
    },
    {
     "data": {
      "text/html": [
       "<div>\n",
       "<style scoped>\n",
       "    .dataframe tbody tr th:only-of-type {\n",
       "        vertical-align: middle;\n",
       "    }\n",
       "\n",
       "    .dataframe tbody tr th {\n",
       "        vertical-align: top;\n",
       "    }\n",
       "\n",
       "    .dataframe thead th {\n",
       "        text-align: right;\n",
       "    }\n",
       "</style>\n",
       "<table border=\"1\" class=\"dataframe\">\n",
       "  <thead>\n",
       "    <tr style=\"text-align: right;\">\n",
       "      <th></th>\n",
       "      <th>AAPL</th>\n",
       "      <th>GOOG</th>\n",
       "    </tr>\n",
       "  </thead>\n",
       "  <tbody>\n",
       "    <tr>\n",
       "      <th>0</th>\n",
       "      <td>44</td>\n",
       "      <td>47</td>\n",
       "    </tr>\n",
       "    <tr>\n",
       "      <th>1</th>\n",
       "      <td>64</td>\n",
       "      <td>67</td>\n",
       "    </tr>\n",
       "    <tr>\n",
       "      <th>2</th>\n",
       "      <td>67</td>\n",
       "      <td>9</td>\n",
       "    </tr>\n",
       "  </tbody>\n",
       "</table>\n",
       "</div>"
      ],
      "text/plain": [
       "   AAPL  GOOG\n",
       "0    44    47\n",
       "1    64    67\n",
       "2    67     9"
      ]
     },
     "metadata": {},
     "output_type": "display_data"
    }
   ],
   "source": []
  },
  {
   "cell_type": "code",
   "execution_count": 23,
   "id": "06f09407-d16e-40e5-89b0-e7139486207c",
   "metadata": {},
   "outputs": [
    {
     "data": {
      "text/html": [
       "<div>\n",
       "<style scoped>\n",
       "    .dataframe tbody tr th:only-of-type {\n",
       "        vertical-align: middle;\n",
       "    }\n",
       "\n",
       "    .dataframe tbody tr th {\n",
       "        vertical-align: top;\n",
       "    }\n",
       "\n",
       "    .dataframe thead th {\n",
       "        text-align: right;\n",
       "    }\n",
       "</style>\n",
       "<table border=\"1\" class=\"dataframe\">\n",
       "  <thead>\n",
       "    <tr style=\"text-align: right;\">\n",
       "      <th></th>\n",
       "      <th>AAPL</th>\n",
       "      <th>GOOG</th>\n",
       "    </tr>\n",
       "  </thead>\n",
       "  <tbody>\n",
       "    <tr>\n",
       "      <th>0</th>\n",
       "      <td>44</td>\n",
       "      <td>47</td>\n",
       "    </tr>\n",
       "    <tr>\n",
       "      <th>1</th>\n",
       "      <td>64</td>\n",
       "      <td>67</td>\n",
       "    </tr>\n",
       "    <tr>\n",
       "      <th>2</th>\n",
       "      <td>67</td>\n",
       "      <td>9</td>\n",
       "    </tr>\n",
       "  </tbody>\n",
       "</table>\n",
       "</div>"
      ],
      "text/plain": [
       "   AAPL  GOOG\n",
       "0    44    47\n",
       "1    64    67\n",
       "2    67     9"
      ]
     },
     "execution_count": 23,
     "metadata": {},
     "output_type": "execute_result"
    }
   ],
   "source": []
  },
  {
   "cell_type": "code",
   "execution_count": 24,
   "id": "0d122fa1-35c2-40cf-a3d8-746fb3b162b8",
   "metadata": {},
   "outputs": [
    {
     "data": {
      "text/html": [
       "<div>\n",
       "<style scoped>\n",
       "    .dataframe tbody tr th:only-of-type {\n",
       "        vertical-align: middle;\n",
       "    }\n",
       "\n",
       "    .dataframe tbody tr th {\n",
       "        vertical-align: top;\n",
       "    }\n",
       "\n",
       "    .dataframe thead th {\n",
       "        text-align: right;\n",
       "    }\n",
       "</style>\n",
       "<table border=\"1\" class=\"dataframe\">\n",
       "  <thead>\n",
       "    <tr style=\"text-align: right;\">\n",
       "      <th></th>\n",
       "      <th>AAPL</th>\n",
       "      <th>GOOG</th>\n",
       "    </tr>\n",
       "  </thead>\n",
       "  <tbody>\n",
       "    <tr>\n",
       "      <th>0</th>\n",
       "      <td>44</td>\n",
       "      <td>47</td>\n",
       "    </tr>\n",
       "    <tr>\n",
       "      <th>1</th>\n",
       "      <td>36</td>\n",
       "      <td>87</td>\n",
       "    </tr>\n",
       "    <tr>\n",
       "      <th>2</th>\n",
       "      <td>39</td>\n",
       "      <td>87</td>\n",
       "    </tr>\n",
       "  </tbody>\n",
       "</table>\n",
       "</div>"
      ],
      "text/plain": [
       "   AAPL  GOOG\n",
       "0    44    47\n",
       "1    36    87\n",
       "2    39    87"
      ]
     },
     "execution_count": 24,
     "metadata": {},
     "output_type": "execute_result"
    }
   ],
   "source": []
  },
  {
   "cell_type": "code",
   "execution_count": 25,
   "id": "18d4e857-c859-4d20-b400-50613ca88b39",
   "metadata": {},
   "outputs": [],
   "source": []
  },
  {
   "cell_type": "code",
   "execution_count": 26,
   "id": "2318eae7-5043-459d-96f4-e4c72fb47e67",
   "metadata": {},
   "outputs": [
    {
     "data": {
      "text/html": [
       "<div>\n",
       "<style scoped>\n",
       "    .dataframe tbody tr th:only-of-type {\n",
       "        vertical-align: middle;\n",
       "    }\n",
       "\n",
       "    .dataframe tbody tr th {\n",
       "        vertical-align: top;\n",
       "    }\n",
       "\n",
       "    .dataframe thead th {\n",
       "        text-align: right;\n",
       "    }\n",
       "</style>\n",
       "<table border=\"1\" class=\"dataframe\">\n",
       "  <thead>\n",
       "    <tr style=\"text-align: right;\">\n",
       "      <th></th>\n",
       "      <th>AAPL</th>\n",
       "      <th>GOOG</th>\n",
       "    </tr>\n",
       "  </thead>\n",
       "  <tbody>\n",
       "    <tr>\n",
       "      <th>0</th>\n",
       "      <td>46</td>\n",
       "      <td>88</td>\n",
       "    </tr>\n",
       "    <tr>\n",
       "      <th>1</th>\n",
       "      <td>44</td>\n",
       "      <td>47</td>\n",
       "    </tr>\n",
       "    <tr>\n",
       "      <th>2</th>\n",
       "      <td>39</td>\n",
       "      <td>87</td>\n",
       "    </tr>\n",
       "  </tbody>\n",
       "</table>\n",
       "</div>"
      ],
      "text/plain": [
       "   AAPL  GOOG\n",
       "0    46    88\n",
       "1    44    47\n",
       "2    39    87"
      ]
     },
     "execution_count": 26,
     "metadata": {},
     "output_type": "execute_result"
    }
   ],
   "source": []
  },
  {
   "cell_type": "code",
   "execution_count": null,
   "id": "e6f421b8-5c7e-4169-a24e-00a4f36b0834",
   "metadata": {},
   "outputs": [],
   "source": []
  }
 ],
 "metadata": {
  "kernelspec": {
   "display_name": "Python 3 (ipykernel)",
   "language": "python",
   "name": "python3"
  },
  "language_info": {
   "codemirror_mode": {
    "name": "ipython",
    "version": 3
   },
   "file_extension": ".py",
   "mimetype": "text/x-python",
   "name": "python",
   "nbconvert_exporter": "python",
   "pygments_lexer": "ipython3",
   "version": "3.9.13"
  }
 },
 "nbformat": 4,
 "nbformat_minor": 5
}

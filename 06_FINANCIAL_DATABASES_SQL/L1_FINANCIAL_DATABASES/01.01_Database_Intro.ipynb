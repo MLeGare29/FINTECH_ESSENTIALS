{
 "cells": [
  {
   "cell_type": "code",
   "execution_count": 37,
   "id": "aebcf248-9760-4a2a-8aea-936cfa313f12",
   "metadata": {},
   "outputs": [],
   "source": [
    "# INTRODUCTION TO FINANCIAL DATABASES\n",
    "# In finance, vast amounts of data are generated and stored daily.\n",
    "# Because of the speed, size, and dynamic nature of the data, companies need tools to sotre and access the data in an organized way.\n",
    "# They do this through repositories known as DATABASES.\n",
    "# Companies use financial databases in particular to build all sorts of financial applications and APIs.\n",
    "# With financial databases, companies can store, organize, and analyze large amounts of data.\n",
    "# SQL is a language that was designed to help manage and analyze data within databases.\n",
    "# We can also use it with Python to build applications that interact with databases.\n",
    "# SQL has become a standard language for people in roles that involve working with data, such as data engineers, data analysts, and data modelers."
   ]
  },
  {
   "cell_type": "code",
   "execution_count": 38,
   "id": "0e83d8d1-8fc5-418e-ae56-5fcfa74f7204",
   "metadata": {},
   "outputs": [],
   "source": [
    "# DATABASES vs. DATAFRAMES\n",
    "# To understand databases, we'll first revisit CSV files and DataFrames.\n",
    "# So far, besides when APIs were the main source of data in Module 5, most of the data provided has been TABULAR DATA, or CSV files.\n",
    "# TABULAR DATA is good for storing small amounts of data that don't change much.\n",
    "# However, you've observed the dynamic and varied nature of financial data, therefore, text files just aren't sufficient for analyzing or working with dynamic data.\n",
    "# There was a revelation that financial technologists needed more dynamic ways to access and work with data.\n",
    "# So a data container in Python, called a DataFrame, was created. \n",
    "# A DataFrame stores the rows and columns of CSV data in a container that many tools can access.\n",
    "# These tools help us manipulate and analyze the data. \n",
    "# Databases are thus like DataFrames in that they're designed to store, access, and analyze data.\n",
    "# Unlike DataFrames, however, databases exist outside Python."
   ]
  },
  {
   "cell_type": "code",
   "execution_count": 39,
   "id": "9c5bfdb2-36ef-4e68-a8c7-adfa7e3b811f",
   "metadata": {},
   "outputs": [],
   "source": [
    "# TYPES OF DATABASES\n",
    "# Databases offer a wide range of benefits, which include the ability to handle vast amounts of data and spread them across many computers and networks.\n",
    "# This environment of range is often referred to as THE CLOUD.\n",
    "# While many types of databases exist, we'll focus on relational databases.\n",
    "# This type of database stores its data in a table format.\n",
    "# The best way to learn how to interact with a database is to use Python and SQL.\n",
    "# In this lesson, we'll work with a database called SQLite, which we can interact with via Python.\n",
    "# However, you can apply thses skills that you learn to any relational database, including:\n",
    "    # 1. PostgreSQL\n",
    "    # 2. MySQL\n",
    "    # 3. Cloud Databases"
   ]
  },
  {
   "cell_type": "code",
   "execution_count": 40,
   "id": "cae694f3-f427-41f6-8863-1e8650774f6d",
   "metadata": {},
   "outputs": [],
   "source": [
    "# ACCESSING FINANCIAL DATABASES WITH PYTHON\n",
    "# In a professional FinTech environment, you'll likely access databases via the firm's computer network or internet.\n",
    "# The latter will likely be the case if a cloud infrastructure, like Amazon Web Services (AWS) or Microsoft Azure, stores the database.\n",
    "# However, it's possible to mimic the functionality of a financial database on your local computer.\n",
    "# To do this, you can use the SQLAlchemy Python library.\n",
    "# This library facilitates the communication between Python program and a database that you create from a Jupyter notebook.\n",
    "# As always, you begin by importing the library."
   ]
  },
  {
   "cell_type": "code",
   "execution_count": 41,
   "id": "ff5e1612-1852-43e1-8920-925fa931a82c",
   "metadata": {},
   "outputs": [],
   "source": [
    "# IMPORT SQLALCHEMY\n",
    "# Because databases exist outside Python, we need to import a new tool that allows us to communicate with those databases.\n",
    "\n",
    "# IMPORTANT\n",
    "# The examples in this lesson use the SQLite database, but the same principles apply to any relational database.\n",
    "\n",
    "# Import the dependencies:\n",
    "import pandas as pd\n",
    "import sqlalchemy"
   ]
  },
  {
   "cell_type": "code",
   "execution_count": 42,
   "id": "823d7f96-a193-4e40-b326-9d45927dbe2e",
   "metadata": {},
   "outputs": [
    {
     "data": {
      "text/plain": [
       "Engine(sqlite:///)"
      ]
     },
     "execution_count": 42,
     "metadata": {},
     "output_type": "execute_result"
    }
   ],
   "source": [
    "# CREATE A DATABASE ENGINE\n",
    "# An ENGINE is a tool that can communicate with our database.\n",
    "# Think of it as a smart connection that knows the DIALECT, or type, of database that we have and how to connect and interact with it.\n",
    "# First, we need to define a connection string to connect to our database.\n",
    "# The CONNECTION STRING tells the engine the type of database that we're using and other important connection details, like a password, server name, port number, or IP address.\n",
    "# We'll assign a value to the connection string that creates a temporary SQLite database, as the following code shows:\n",
    "\n",
    "# Create a temporary sqlite database:\n",
    "database_connection_string = 'sqlite:///'\n",
    "\n",
    "# Now that we have our connection string, we'll pass it to the `create_engine` function:\n",
    "engine = sqlalchemy.create_engine(database_connection_string)\n",
    "engine\n",
    "\n",
    "# Now we can the engine to do all sorts of things. We'll start by reviewing the tables in the database."
   ]
  },
  {
   "cell_type": "code",
   "execution_count": 43,
   "id": "0562db8e-45a1-4c9a-bfdc-4c24863199b4",
   "metadata": {},
   "outputs": [
    {
     "name": "stderr",
     "output_type": "stream",
     "text": [
      "C:\\Users\\legar\\AppData\\Local\\Temp\\ipykernel_17608\\1409668034.py:3: SADeprecationWarning: The Engine.table_names() method is deprecated and will be removed in a future release.  Please refer to Inspector.get_table_names(). (deprecated since: 1.4)\n",
      "  engine.table_names()\n"
     ]
    },
    {
     "data": {
      "text/plain": [
       "[]"
      ]
     },
     "execution_count": 43,
     "metadata": {},
     "output_type": "execute_result"
    }
   ],
   "source": [
    "# VIEW AND CREATE TABLES\n",
    "# To view the tables in the database, we run the following code:\n",
    "engine.table_names()"
   ]
  },
  {
   "cell_type": "code",
   "execution_count": 44,
   "id": "091d8e33-1d19-4747-9235-11e90624047d",
   "metadata": {},
   "outputs": [
    {
     "data": {
      "text/html": [
       "<div>\n",
       "<style scoped>\n",
       "    .dataframe tbody tr th:only-of-type {\n",
       "        vertical-align: middle;\n",
       "    }\n",
       "\n",
       "    .dataframe tbody tr th {\n",
       "        vertical-align: top;\n",
       "    }\n",
       "\n",
       "    .dataframe thead th {\n",
       "        text-align: right;\n",
       "    }\n",
       "</style>\n",
       "<table border=\"1\" class=\"dataframe\">\n",
       "  <thead>\n",
       "    <tr style=\"text-align: right;\">\n",
       "      <th></th>\n",
       "      <th>AAPL</th>\n",
       "      <th>GOOG</th>\n",
       "    </tr>\n",
       "  </thead>\n",
       "  <tbody>\n",
       "    <tr>\n",
       "      <th>0</th>\n",
       "      <td>1</td>\n",
       "      <td>3</td>\n",
       "    </tr>\n",
       "    <tr>\n",
       "      <th>1</th>\n",
       "      <td>2</td>\n",
       "      <td>4</td>\n",
       "    </tr>\n",
       "  </tbody>\n",
       "</table>\n",
       "</div>"
      ],
      "text/plain": [
       "   AAPL  GOOG\n",
       "0     1     3\n",
       "1     2     4"
      ]
     },
     "execution_count": 44,
     "metadata": {},
     "output_type": "execute_result"
    }
   ],
   "source": [
    "# As you can see, the output is empty brackets. \n",
    "# This indicates that no tables exist, which makes sense because we haven't created any yet.\n",
    "# Let's create a Pandas DataFrame to represent a table.\n",
    "# We'll name the DataFrame `stocks_dataframe` and give it two columns AAPL and GOOG, that contain fictional pricing data:\n",
    "stocks_dataframe = pd.DataFrame({'AAPL': [1, 2], 'GOOG': [3, 4]})\n",
    "stocks_dataframe"
   ]
  },
  {
   "cell_type": "code",
   "execution_count": 45,
   "id": "ac9f766f-f281-4c59-aab4-75eca4c73da7",
   "metadata": {},
   "outputs": [
    {
     "data": {
      "text/plain": [
       "2"
      ]
     },
     "execution_count": 45,
     "metadata": {},
     "output_type": "execute_result"
    }
   ],
   "source": [
    "# Next, we'll use this DataFrame to create a table of data in the SQLite database.\n",
    "# To do so, we'll use the `to_sql` function. \n",
    "# This function accepts a table name and a database engine and then converts the Pandas DataFrame to a database table:\n",
    "stocks_dataframe.to_sql('stocks_dataframe', engine)"
   ]
  },
  {
   "cell_type": "code",
   "execution_count": 46,
   "id": "4563da54-1f80-41eb-9b55-0cc1786d21c7",
   "metadata": {},
   "outputs": [
    {
     "name": "stderr",
     "output_type": "stream",
     "text": [
      "C:\\Users\\legar\\AppData\\Local\\Temp\\ipykernel_17608\\564300729.py:2: SADeprecationWarning: The Engine.table_names() method is deprecated and will be removed in a future release.  Please refer to Inspector.get_table_names(). (deprecated since: 1.4)\n",
      "  engine.table_names()\n"
     ]
    },
    {
     "data": {
      "text/plain": [
       "['stocks_dataframe']"
      ]
     },
     "execution_count": 46,
     "metadata": {},
     "output_type": "execute_result"
    }
   ],
   "source": [
    "# Now, let's query the database engine again to make sure that the table now exists:\n",
    "engine.table_names()"
   ]
  },
  {
   "cell_type": "code",
   "execution_count": 47,
   "id": "39b92b35-750a-4a4e-9754-ff68e80b385c",
   "metadata": {},
   "outputs": [],
   "source": [
    "# IMPORTANT:\n",
    "# People often use the term QUERY when referring to a SQL database.\n",
    "# A database query can refer to either a select query or an action query.\n",
    "# A SELECT QUERY requests information from a database.\n",
    "# An ACTION QUERY requests that the database apply an action - such as an addition, update, or deletion - to its information.\n",
    "# People also use the term query to refer to any SQL statement that the database engine acts on.\n",
    "# Specific queries will be covered later in this module."
   ]
  },
  {
   "cell_type": "code",
   "execution_count": 48,
   "id": "a345aadd-f16e-49b4-b559-ecf344d92367",
   "metadata": {},
   "outputs": [],
   "source": [
    "# Do you wonder where the database is and how to get data from it?\n",
    "# Currently, your SQLite database resides in your computer's memory - but only temporarily.\n",
    "# As soon as you close your Jupyter notebook, the database will disappear.\n",
    "# If you want to save the database to access it in the future, oyu can specify a file name, such as:\n",
    "    # `sqlite:///mydatabase.db\n",
    "# This will save the database information to a file named `mydatabase.db`, which will reside on your computer's hard drive."
   ]
  },
  {
   "cell_type": "code",
   "execution_count": 49,
   "id": "e6c3412e-c742-44da-a5d6-3583d41f00fc",
   "metadata": {},
   "outputs": [
    {
     "data": {
      "text/html": [
       "<div>\n",
       "<style scoped>\n",
       "    .dataframe tbody tr th:only-of-type {\n",
       "        vertical-align: middle;\n",
       "    }\n",
       "\n",
       "    .dataframe tbody tr th {\n",
       "        vertical-align: top;\n",
       "    }\n",
       "\n",
       "    .dataframe thead th {\n",
       "        text-align: right;\n",
       "    }\n",
       "</style>\n",
       "<table border=\"1\" class=\"dataframe\">\n",
       "  <thead>\n",
       "    <tr style=\"text-align: right;\">\n",
       "      <th></th>\n",
       "      <th>index</th>\n",
       "      <th>AAPL</th>\n",
       "      <th>GOOG</th>\n",
       "    </tr>\n",
       "  </thead>\n",
       "  <tbody>\n",
       "    <tr>\n",
       "      <th>0</th>\n",
       "      <td>0</td>\n",
       "      <td>1</td>\n",
       "      <td>3</td>\n",
       "    </tr>\n",
       "    <tr>\n",
       "      <th>1</th>\n",
       "      <td>1</td>\n",
       "      <td>2</td>\n",
       "      <td>4</td>\n",
       "    </tr>\n",
       "  </tbody>\n",
       "</table>\n",
       "</div>"
      ],
      "text/plain": [
       "   index  AAPL  GOOG\n",
       "0      0     1     3\n",
       "1      1     2     4"
      ]
     },
     "execution_count": 49,
     "metadata": {},
     "output_type": "execute_result"
    }
   ],
   "source": [
    "# READ A TABLE INTO A DATAFRAME\n",
    "# The `stocks` table in our database originated from a Pandas DataFrame of health stock closing prices that we called.\n",
    "# Now, we will act as if we're observing the `stocks` table in the database for the first time.\n",
    "# How do we create a Pandas DataFrame from this table?\n",
    "# We can read any database table into a Pandas DataFrame by using the `read_sql_table` function and specifying the name of the table.\n",
    "# We also need to tell Pandas to use our engine as the connection to the database by setting the `con=engine` parameter:\n",
    "sql_stocks_df = pd.read_sql_table('stocks_dataframe', con=engine)\n",
    "sql_stocks_df"
   ]
  },
  {
   "cell_type": "code",
   "execution_count": 50,
   "id": "1e9c4e2b-74be-451e-9168-92ed52597f07",
   "metadata": {},
   "outputs": [
    {
     "data": {
      "text/html": [
       "<div>\n",
       "<style scoped>\n",
       "    .dataframe tbody tr th:only-of-type {\n",
       "        vertical-align: middle;\n",
       "    }\n",
       "\n",
       "    .dataframe tbody tr th {\n",
       "        vertical-align: top;\n",
       "    }\n",
       "\n",
       "    .dataframe thead th {\n",
       "        text-align: right;\n",
       "    }\n",
       "</style>\n",
       "<table border=\"1\" class=\"dataframe\">\n",
       "  <thead>\n",
       "    <tr style=\"text-align: right;\">\n",
       "      <th></th>\n",
       "      <th>AAPL</th>\n",
       "      <th>GOOG</th>\n",
       "    </tr>\n",
       "  </thead>\n",
       "  <tbody>\n",
       "    <tr>\n",
       "      <th>0</th>\n",
       "      <td>1</td>\n",
       "      <td>3</td>\n",
       "    </tr>\n",
       "    <tr>\n",
       "      <th>1</th>\n",
       "      <td>2</td>\n",
       "      <td>4</td>\n",
       "    </tr>\n",
       "  </tbody>\n",
       "</table>\n",
       "</div>"
      ],
      "text/plain": [
       "   AAPL  GOOG\n",
       "0     1     3\n",
       "1     2     4"
      ]
     },
     "execution_count": 50,
     "metadata": {},
     "output_type": "execute_result"
    }
   ],
   "source": [
    "# Notice the index column.\n",
    "# When we originally created the database table, we didn't tell SQL to ignore the index of the DataFrame.\n",
    "# So, it created a column in the database table to store the index.\n",
    "# While this can prove helpful if the index contains important information (such as a date or customer ID number),\n",
    "    # the information in this specific index column doesn't add any value.\n",
    "# We can remove the index column by setting the `index` parameter of the `to_sql` function to `False`.\n",
    "# We'll also add an `if_exists` parameter to the `to_sql` function and set its value to `replace`.\n",
    "# This will remove the existing `stocks_dataframe` table from the database and replace it with the current information.\n",
    "# If we don't set this parameter, we'll receive an error message indicating that a table with the name `stocks_dataframe` already exists.\n",
    "# By setting `if_exists` to `replace`, we remove the original `stocks_dataframe` table and replace it with the new, index-free version.\n",
    "\n",
    "# *IMPORTANT*\n",
    "# The `if_exists` parameter tells the `to_sql` function how to behave if a table with the same name already exists in the database.\n",
    "# The `if_exists` parameter has three option:\n",
    "    # 1. The `replace` value: This removes the existing table and replaces it with the new values.\n",
    "    # 2. The `fail` value: This produces an error message that alerts us to the existence of the original table, and the function takes no other action. This is the default value.\n",
    "    # 3. The `append` value: This adds the new values to the existing table.\n",
    "\n",
    "# Here's the code to remove the index column:\n",
    "stocks_dataframe.to_sql('stocks_dataframe', engine, index=False, if_exists='replace')\n",
    "sql_stocks_df = pd.read_sql_table('stocks_dataframe', con=engine)\n",
    "sql_stocks_df"
   ]
  }
 ],
 "metadata": {
  "kernelspec": {
   "display_name": "Python 3 (ipykernel)",
   "language": "python",
   "name": "python3"
  },
  "language_info": {
   "codemirror_mode": {
    "name": "ipython",
    "version": 3
   },
   "file_extension": ".py",
   "mimetype": "text/x-python",
   "name": "python",
   "nbconvert_exporter": "python",
   "pygments_lexer": "ipython3",
   "version": "3.9.13"
  }
 },
 "nbformat": 4,
 "nbformat_minor": 5
}

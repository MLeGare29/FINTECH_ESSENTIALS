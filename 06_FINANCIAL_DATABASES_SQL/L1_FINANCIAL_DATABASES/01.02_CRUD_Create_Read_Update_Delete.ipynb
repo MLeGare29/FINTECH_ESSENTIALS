{
 "cells": [
  {
   "cell_type": "code",
   "execution_count": 1,
   "id": "2f806147-cb02-4c1e-b589-120b58e89d1a",
   "metadata": {},
   "outputs": [],
   "source": [
    "# EXECUTING RAW SQL QUERIES\n",
    "# Unfortunately, we can't do everything with pure Python and Pandas.\n",
    "# Sometimes, writing and executing SQL queries directly on our databases proves advantageous. \n",
    "# After all, it's called a Structured Query Language, so it's designed to directly interact with databases.\n",
    "# The term RAW SQL refers to code that we write by using SQL syntax and that's specific to a single database."
   ]
  },
  {
   "cell_type": "code",
   "execution_count": 2,
   "id": "8b92f502-cc57-4241-8218-a53c778f0c3c",
   "metadata": {},
   "outputs": [],
   "source": [
    "# WHAT'S CRUD?\n",
    "# CRUD is an acronym that stands for CREATE, READ, UPDATE, DELETE.\n",
    "# If you learn these four operations, you can build just about any application that uses SQL and databases."
   ]
  },
  {
   "cell_type": "code",
   "execution_count": 3,
   "id": "6ad28625-d22d-41d7-a0cc-34908017d32d",
   "metadata": {},
   "outputs": [],
   "source": [
    "import pandas as pd\n",
    "import sqlalchemy"
   ]
  },
  {
   "cell_type": "code",
   "execution_count": 4,
   "id": "054c10ff-2bbe-48b7-a07e-b26c37fa0305",
   "metadata": {},
   "outputs": [
    {
     "data": {
      "text/plain": [
       "Engine(sqlite:///)"
      ]
     },
     "execution_count": 4,
     "metadata": {},
     "output_type": "execute_result"
    }
   ],
   "source": [
    "# Create a temporary sqlite database:\n",
    "database_connection_string = 'sqlite:///'\n",
    "\n",
    "# Create the database engine:\n",
    "engine = sqlalchemy.create_engine(\n",
    "    database_connection_string,\n",
    ")\n",
    "engine"
   ]
  },
  {
   "cell_type": "code",
   "execution_count": 5,
   "id": "303c6060-8387-44d7-bde2-52c1de68fd1f",
   "metadata": {},
   "outputs": [
    {
     "data": {
      "text/html": [
       "<div>\n",
       "<style scoped>\n",
       "    .dataframe tbody tr th:only-of-type {\n",
       "        vertical-align: middle;\n",
       "    }\n",
       "\n",
       "    .dataframe tbody tr th {\n",
       "        vertical-align: top;\n",
       "    }\n",
       "\n",
       "    .dataframe thead th {\n",
       "        text-align: right;\n",
       "    }\n",
       "</style>\n",
       "<table border=\"1\" class=\"dataframe\">\n",
       "  <thead>\n",
       "    <tr style=\"text-align: right;\">\n",
       "      <th></th>\n",
       "      <th>AAPL</th>\n",
       "      <th>GOOG</th>\n",
       "    </tr>\n",
       "  </thead>\n",
       "  <tbody>\n",
       "    <tr>\n",
       "      <th>0</th>\n",
       "      <td>1</td>\n",
       "      <td>3</td>\n",
       "    </tr>\n",
       "    <tr>\n",
       "      <th>1</th>\n",
       "      <td>2</td>\n",
       "      <td>4</td>\n",
       "    </tr>\n",
       "  </tbody>\n",
       "</table>\n",
       "</div>"
      ],
      "text/plain": [
       "   AAPL  GOOG\n",
       "0     1     3\n",
       "1     2     4"
      ]
     },
     "metadata": {},
     "output_type": "display_data"
    },
    {
     "data": {
      "text/html": [
       "<div>\n",
       "<style scoped>\n",
       "    .dataframe tbody tr th:only-of-type {\n",
       "        vertical-align: middle;\n",
       "    }\n",
       "\n",
       "    .dataframe tbody tr th {\n",
       "        vertical-align: top;\n",
       "    }\n",
       "\n",
       "    .dataframe thead th {\n",
       "        text-align: right;\n",
       "    }\n",
       "</style>\n",
       "<table border=\"1\" class=\"dataframe\">\n",
       "  <thead>\n",
       "    <tr style=\"text-align: right;\">\n",
       "      <th></th>\n",
       "      <th>AAPL</th>\n",
       "      <th>GOOG</th>\n",
       "    </tr>\n",
       "  </thead>\n",
       "  <tbody>\n",
       "    <tr>\n",
       "      <th>0</th>\n",
       "      <td>1</td>\n",
       "      <td>3</td>\n",
       "    </tr>\n",
       "    <tr>\n",
       "      <th>1</th>\n",
       "      <td>2</td>\n",
       "      <td>4</td>\n",
       "    </tr>\n",
       "  </tbody>\n",
       "</table>\n",
       "</div>"
      ],
      "text/plain": [
       "   AAPL  GOOG\n",
       "0     1     3\n",
       "1     2     4"
      ]
     },
     "metadata": {},
     "output_type": "display_data"
    }
   ],
   "source": [
    "# Create a Pandas DataFrame table to read into the SQL database:\n",
    "stocks = pd.DataFrame({'AAPL': [1,2], 'GOOG': [3,4]})\n",
    "\n",
    "# Use the `stocks` DataFrame for the data in the SQL database:\n",
    "stocks.to_sql('stocks', engine, index=False, if_exists='replace')\n",
    "display(stocks)\n",
    "\n",
    "# Read the `stocks` DataFrame to a SQL table:\n",
    "sql_stocks_df = pd.read_sql_table('stocks', con=engine)\n",
    "display(sql_stocks_df)"
   ]
  },
  {
   "cell_type": "code",
   "execution_count": 6,
   "id": "41fbabae-0d6b-4539-b18e-9fa0c72fc1b6",
   "metadata": {},
   "outputs": [
    {
     "name": "stdout",
     "output_type": "stream",
     "text": [
      "2024-01-10 22:10:22,090 INFO sqlalchemy.engine.Engine PRAGMA main.table_info(\"stocks\")\n",
      "2024-01-10 22:10:22,090 INFO sqlalchemy.engine.Engine [raw sql] ()\n",
      "2024-01-10 22:10:22,090 INFO sqlalchemy.engine.Engine PRAGMA temp.table_info(\"stocks\")\n",
      "2024-01-10 22:10:22,105 INFO sqlalchemy.engine.Engine [raw sql] ()\n",
      "2024-01-10 22:10:22,105 INFO sqlalchemy.engine.Engine BEGIN (implicit)\n",
      "2024-01-10 22:10:22,105 INFO sqlalchemy.engine.Engine \n",
      "CREATE TABLE stocks (\n",
      "\t\"AAPL\" BIGINT, \n",
      "\t\"GOOG\" BIGINT\n",
      ")\n",
      "\n",
      "\n",
      "2024-01-10 22:10:22,105 INFO sqlalchemy.engine.Engine [no key 0.00119s] ()\n",
      "2024-01-10 22:10:22,105 INFO sqlalchemy.engine.Engine COMMIT\n",
      "2024-01-10 22:10:22,105 INFO sqlalchemy.engine.Engine BEGIN (implicit)\n",
      "2024-01-10 22:10:22,105 INFO sqlalchemy.engine.Engine INSERT INTO stocks (\"AAPL\", \"GOOG\") VALUES (?, ?)\n",
      "2024-01-10 22:10:22,105 INFO sqlalchemy.engine.Engine [generated in 0.00123s] ((1, 3), (2, 4))\n",
      "2024-01-10 22:10:22,121 INFO sqlalchemy.engine.Engine COMMIT\n"
     ]
    },
    {
     "data": {
      "text/plain": [
       "2"
      ]
     },
     "execution_count": 6,
     "metadata": {},
     "output_type": "execute_result"
    }
   ],
   "source": [
    "# CRUD - CREATE DATA \n",
    "# Let's review how Pandas created our `stocks_dataframe` table.\n",
    "# If we change our engine to ECHO, or display, the SQL code back in the notebook, we'll get the raw SQL that created the table.\n",
    "# To do this, we'll create a new engine and set `echo=True`:\n",
    "# Create the database engine\n",
    "engine = sqlalchemy.create_engine(\n",
    "    database_connection_string,\n",
    "    echo=True\n",
    ")\n",
    "\n",
    "# Now we'll use the engine to create the `stocks_database` table again:\n",
    "stocks.to_sql('stocks', engine, index=False, if_exists='replace')"
   ]
  },
  {
   "cell_type": "code",
   "execution_count": 7,
   "id": "c26d2db0-d340-435d-ac29-211a1edba86a",
   "metadata": {},
   "outputs": [],
   "source": [
    "# As you can see, there is a lot displayed. However, we need only pay attention to a few things.\n",
    "# First, the following SQL statement creates the table:\n",
    "    # CREATE TABLE stocks (\n",
    "        # 'AAPL' BIGINT,\n",
    "        # 'GOOG' BIGINT\n",
    "# )\n",
    "# This the raw SQL statement - specifically, the `CREATE TABLE` statement - that creates the empty table.\n",
    "# Let's closely examine the structure of this statement. \n",
    "# The code block starts with the `CREATE TABLE` SQL syntax, and the table name and a set of parentheses follows.\n",
    "# Inside the parentheses is the name for each column in the table along with the data type of the information that the column will contain.\n",
    "# Now consider the following basic syntax of the `CREATE TABLE` statement:\n",
    "    # CREATE TABLE table_name (\n",
    "        # column_name datatype,\n",
    "        # column_name datatype\n",
    "# )\n",
    "# We can apply this syntax  to the SQL statement that created our `stocks` table.\n",
    "# Our statement told the database to created a table named `stocks` that has columns named 'AAPL' and 'GOOG'.\n",
    "# An unfamiliar term, `BIGINT`, represents the data type for the column values - which means big integers.\n",
    "# Simply put, our code created an empty database table.\n",
    "# It doesn't yet contain any data.\n",
    "# The second thing that we should pay attention to in the earlier output is the code for inserting data into the table:\n",
    "    # INSERT INTO stocks ('AAPL', 'GOOG') VALUES (?,?)\n",
    "# And the following:\n",
    "    # ((1,3), (3,4))\n",
    "# These lines of code insert the data directly into the columns of our `stocks` table.\n",
    "# Now that we understand the breakdown of the output, let's use raw SQL to create a new table in our database."
   ]
  },
  {
   "cell_type": "code",
   "execution_count": 8,
   "id": "134ffc9b-1dff-4e33-87ce-d956bd900386",
   "metadata": {},
   "outputs": [
    {
     "data": {
      "text/plain": [
       "'\\nCREATE TABLE stocks(\\n    \"AAPL\" BIGINT,\\n    \"GOOG\" BIGINT\\n)\\n'"
      ]
     },
     "execution_count": 8,
     "metadata": {},
     "output_type": "execute_result"
    }
   ],
   "source": [
    "# CREATE A TABLE VIA A RAW SQL STATEMENT\n",
    "# Let's first create the SQL statement as a multiline string so that we can use it more easily in Python.\n",
    "# To create a multiline string in Python, we use the f-string format with triple quotes:\n",
    "create_table = \"\"\"\n",
    "CREATE TABLE stocks(\n",
    "    \"AAPL\" BIGINT,\n",
    "    \"GOOG\" BIGINT\n",
    ")\n",
    "\"\"\"\n",
    "create_table"
   ]
  },
  {
   "cell_type": "code",
   "execution_count": 9,
   "id": "315b4afa-9079-4183-b917-d385b8fe8364",
   "metadata": {},
   "outputs": [
    {
     "data": {
      "text/plain": [
       "'\\nCREATE TABLE delicious_stocks (\\n    \"EAT\" BIGINT,\\n    \"CAKE\" BIGINT\\n)\\n'"
      ]
     },
     "execution_count": 9,
     "metadata": {},
     "output_type": "execute_result"
    }
   ],
   "source": [
    "# Let's now change this SQL statement a bit and create a table named `delicious_stocks`.\n",
    "# We'll also change the stock tickers to those for Brinker International (\"EAT\") and the Cheesecake Factory (\"CAKE\"):\n",
    "create_table = \"\"\"\n",
    "CREATE TABLE delicious_stocks (\n",
    "    \"EAT\" BIGINT,\n",
    "    \"CAKE\" BIGINT\n",
    ")\n",
    "\"\"\"\n",
    "create_table"
   ]
  },
  {
   "cell_type": "code",
   "execution_count": 10,
   "id": "1753f962-abcd-4aa0-9a3a-06c5bee8b62c",
   "metadata": {},
   "outputs": [
    {
     "name": "stdout",
     "output_type": "stream",
     "text": [
      "2024-01-10 22:10:22,184 INFO sqlalchemy.engine.Engine \n",
      "CREATE TABLE delicious_stocks (\n",
      "    \"EAT\" BIGINT,\n",
      "    \"CAKE\" BIGINT\n",
      ")\n",
      "\n",
      "2024-01-10 22:10:22,184 INFO sqlalchemy.engine.Engine [raw sql] ()\n",
      "2024-01-10 22:10:22,184 INFO sqlalchemy.engine.Engine COMMIT\n"
     ]
    },
    {
     "data": {
      "text/plain": [
       "<sqlalchemy.engine.cursor.LegacyCursorResult at 0x24ba75008b0>"
      ]
     },
     "execution_count": 10,
     "metadata": {},
     "output_type": "execute_result"
    }
   ],
   "source": [
    "# Now that we have the SQL strings, we can execute the SQL statement with our engine by using the `execute` function:\n",
    "engine.execute(create_table)"
   ]
  },
  {
   "cell_type": "code",
   "execution_count": 11,
   "id": "5a01df32-477d-4823-9348-960f49a2c552",
   "metadata": {},
   "outputs": [
    {
     "name": "stdout",
     "output_type": "stream",
     "text": [
      "2024-01-10 22:10:22,215 INFO sqlalchemy.engine.Engine SELECT name FROM sqlite_master WHERE type='table' ORDER BY name\n",
      "2024-01-10 22:10:22,215 INFO sqlalchemy.engine.Engine [raw sql] ()\n"
     ]
    },
    {
     "name": "stderr",
     "output_type": "stream",
     "text": [
      "C:\\Users\\legar\\AppData\\Local\\Temp\\ipykernel_13336\\3763842806.py:4: SADeprecationWarning: The Engine.table_names() method is deprecated and will be removed in a future release.  Please refer to Inspector.get_table_names(). (deprecated since: 1.4)\n",
      "  engine.table_names()\n"
     ]
    },
    {
     "data": {
      "text/plain": [
       "['delicious_stocks', 'stocks']"
      ]
     },
     "execution_count": 11,
     "metadata": {},
     "output_type": "execute_result"
    }
   ],
   "source": [
    "# The preceding output indicates that the engine acknowledged the SQL statement to create the `delicious_stocks` table.\n",
    "# The word `COMMIT`, which appears at the end of the second to last line, confirms that the `CREATE TABLE` command was executed.\n",
    "# Next, let's verify that the `delicious_stocks` table was created:\n",
    "engine.table_names()"
   ]
  },
  {
   "cell_type": "code",
   "execution_count": 12,
   "id": "2780b651-5348-4e45-a069-dfe3508ff7a7",
   "metadata": {},
   "outputs": [
    {
     "name": "stdout",
     "output_type": "stream",
     "text": [
      "2024-01-10 22:10:22,247 INFO sqlalchemy.engine.Engine PRAGMA main.table_info(\"delicious_stocks\")\n",
      "2024-01-10 22:10:22,247 INFO sqlalchemy.engine.Engine [raw sql] ()\n",
      "2024-01-10 22:10:22,247 INFO sqlalchemy.engine.Engine PRAGMA main.table_xinfo(\"delicious_stocks\")\n",
      "2024-01-10 22:10:22,262 INFO sqlalchemy.engine.Engine [raw sql] ()\n",
      "2024-01-10 22:10:22,262 INFO sqlalchemy.engine.Engine SELECT sql FROM  (SELECT * FROM sqlite_master UNION ALL   SELECT * FROM sqlite_temp_master) WHERE name = ? AND type = 'table'\n",
      "2024-01-10 22:10:22,262 INFO sqlalchemy.engine.Engine [raw sql] ('delicious_stocks',)\n",
      "2024-01-10 22:10:22,262 INFO sqlalchemy.engine.Engine PRAGMA main.foreign_key_list(\"delicious_stocks\")\n",
      "2024-01-10 22:10:22,262 INFO sqlalchemy.engine.Engine [raw sql] ()\n",
      "2024-01-10 22:10:22,262 INFO sqlalchemy.engine.Engine PRAGMA temp.foreign_key_list(\"delicious_stocks\")\n",
      "2024-01-10 22:10:22,262 INFO sqlalchemy.engine.Engine [raw sql] ()\n",
      "2024-01-10 22:10:22,262 INFO sqlalchemy.engine.Engine SELECT sql FROM  (SELECT * FROM sqlite_master UNION ALL   SELECT * FROM sqlite_temp_master) WHERE name = ? AND type = 'table'\n",
      "2024-01-10 22:10:22,262 INFO sqlalchemy.engine.Engine [raw sql] ('delicious_stocks',)\n",
      "2024-01-10 22:10:22,262 INFO sqlalchemy.engine.Engine PRAGMA main.index_list(\"delicious_stocks\")\n",
      "2024-01-10 22:10:22,278 INFO sqlalchemy.engine.Engine [raw sql] ()\n",
      "2024-01-10 22:10:22,278 INFO sqlalchemy.engine.Engine PRAGMA temp.index_list(\"delicious_stocks\")\n",
      "2024-01-10 22:10:22,278 INFO sqlalchemy.engine.Engine [raw sql] ()\n",
      "2024-01-10 22:10:22,278 INFO sqlalchemy.engine.Engine PRAGMA main.index_list(\"delicious_stocks\")\n",
      "2024-01-10 22:10:22,278 INFO sqlalchemy.engine.Engine [raw sql] ()\n",
      "2024-01-10 22:10:22,278 INFO sqlalchemy.engine.Engine PRAGMA temp.index_list(\"delicious_stocks\")\n",
      "2024-01-10 22:10:22,278 INFO sqlalchemy.engine.Engine [raw sql] ()\n",
      "2024-01-10 22:10:22,278 INFO sqlalchemy.engine.Engine SELECT sql FROM  (SELECT * FROM sqlite_master UNION ALL   SELECT * FROM sqlite_temp_master) WHERE name = ? AND type = 'table'\n",
      "2024-01-10 22:10:22,278 INFO sqlalchemy.engine.Engine [raw sql] ('delicious_stocks',)\n",
      "2024-01-10 22:10:22,278 INFO sqlalchemy.engine.Engine SELECT delicious_stocks.\"EAT\", delicious_stocks.\"CAKE\" \n",
      "FROM delicious_stocks\n",
      "2024-01-10 22:10:22,294 INFO sqlalchemy.engine.Engine [generated in 0.00116s] ()\n"
     ]
    },
    {
     "data": {
      "text/html": [
       "<div>\n",
       "<style scoped>\n",
       "    .dataframe tbody tr th:only-of-type {\n",
       "        vertical-align: middle;\n",
       "    }\n",
       "\n",
       "    .dataframe tbody tr th {\n",
       "        vertical-align: top;\n",
       "    }\n",
       "\n",
       "    .dataframe thead th {\n",
       "        text-align: right;\n",
       "    }\n",
       "</style>\n",
       "<table border=\"1\" class=\"dataframe\">\n",
       "  <thead>\n",
       "    <tr style=\"text-align: right;\">\n",
       "      <th></th>\n",
       "      <th>EAT</th>\n",
       "      <th>CAKE</th>\n",
       "    </tr>\n",
       "  </thead>\n",
       "  <tbody>\n",
       "  </tbody>\n",
       "</table>\n",
       "</div>"
      ],
      "text/plain": [
       "Empty DataFrame\n",
       "Columns: [EAT, CAKE]\n",
       "Index: []"
      ]
     },
     "execution_count": 12,
     "metadata": {},
     "output_type": "execute_result"
    }
   ],
   "source": [
    "# If we now read the `delicious_stocks` table into Pandas, we should get an empty DataFrame.\n",
    "    # (Remember that the `delicious_stocks DataFrame has two columns, 'EAT'/'CAKE', but no data.\n",
    "delish_sql_df = pd.read_sql_table('delicious_stocks', con=engine)\n",
    "delish_sql_df"
   ]
  },
  {
   "cell_type": "code",
   "execution_count": 13,
   "id": "d44d9525-d408-415a-b2db-cd7ed87a5405",
   "metadata": {},
   "outputs": [
    {
     "name": "stdout",
     "output_type": "stream",
     "text": [
      "2024-01-10 22:10:22,309 INFO sqlalchemy.engine.Engine \n",
      "INSERT INTO delicious_stocks (\"EAT\", \"CAKE\") VALUES (?,?)\n",
      "\n",
      "2024-01-10 22:10:22,309 INFO sqlalchemy.engine.Engine [raw sql] ((10, 30), (20, 40))\n",
      "2024-01-10 22:10:22,309 INFO sqlalchemy.engine.Engine COMMIT\n"
     ]
    },
    {
     "data": {
      "text/plain": [
       "<sqlalchemy.engine.cursor.LegacyCursorResult at 0x24ba7500850>"
      ]
     },
     "execution_count": 13,
     "metadata": {},
     "output_type": "execute_result"
    }
   ],
   "source": [
    "# INSERT DATA INTO A TABLE VIA A RAW SQL STATEMENT\n",
    "# The last line of the preceding output confirms the empty DataFrame.\n",
    "# Since this DataFrame is empty, we will now insert data next.\n",
    "# To insert data into our table, we'll create a multiline string with our raw SQL statement:\n",
    "insert_data = \"\"\"\n",
    "INSERT INTO delicious_stocks (\"EAT\", \"CAKE\") VALUES (?,?)\n",
    "\"\"\"\n",
    "\n",
    "# Let's break down this code as follows:\n",
    "    # 1. The `INSERT INTO` element is the instruction for the database.\n",
    "    # 2. The `delicous_stocks` element is the table to access.\n",
    "    # 3. The \"EAT\" & \"CAKE\" elements are the columns to manipulate.\n",
    "    # 4. The `VALUES` element is the SQL syntax that cues the database to check for new information.\n",
    "    # 5. the question marks (?,?) indicaate that new information is forthcoming.\n",
    "# Next, we insert the data by executing the `insert_data` query stirng with our engine.\n",
    "# We then pass the values to insert as a second parameter:\n",
    "engine.execute(insert_data, ((10, 30), (20, 40)))"
   ]
  },
  {
   "cell_type": "code",
   "execution_count": 14,
   "id": "85e60fe5-f1dd-4c14-acb2-756f70e1887a",
   "metadata": {},
   "outputs": [],
   "source": [
    "# IMPORTANT:\n",
    "# Instead of using the preceding parameterized code, we can simply add the values directly:\n",
    "    # insert_data = \"\"\"\n",
    "    # INSERT INTO delicious_stocks (\"EAT\", \"CAKE\") VALUES (10,30), (20,40)\n",
    "    # \"\"\"\n",
    "    # engine.execute(insert_data)"
   ]
  },
  {
   "cell_type": "code",
   "execution_count": 15,
   "id": "7ab07911-b61f-4f6d-a870-84c451f67ef1",
   "metadata": {},
   "outputs": [
    {
     "name": "stdout",
     "output_type": "stream",
     "text": [
      "2024-01-10 22:10:22,357 INFO sqlalchemy.engine.Engine PRAGMA main.table_info(\"delicious_stocks\")\n",
      "2024-01-10 22:10:22,357 INFO sqlalchemy.engine.Engine [raw sql] ()\n",
      "2024-01-10 22:10:22,357 INFO sqlalchemy.engine.Engine PRAGMA main.table_xinfo(\"delicious_stocks\")\n",
      "2024-01-10 22:10:22,357 INFO sqlalchemy.engine.Engine [raw sql] ()\n",
      "2024-01-10 22:10:22,357 INFO sqlalchemy.engine.Engine SELECT sql FROM  (SELECT * FROM sqlite_master UNION ALL   SELECT * FROM sqlite_temp_master) WHERE name = ? AND type = 'table'\n",
      "2024-01-10 22:10:22,357 INFO sqlalchemy.engine.Engine [raw sql] ('delicious_stocks',)\n",
      "2024-01-10 22:10:22,372 INFO sqlalchemy.engine.Engine PRAGMA main.foreign_key_list(\"delicious_stocks\")\n",
      "2024-01-10 22:10:22,372 INFO sqlalchemy.engine.Engine [raw sql] ()\n",
      "2024-01-10 22:10:22,372 INFO sqlalchemy.engine.Engine PRAGMA temp.foreign_key_list(\"delicious_stocks\")\n",
      "2024-01-10 22:10:22,372 INFO sqlalchemy.engine.Engine [raw sql] ()\n",
      "2024-01-10 22:10:22,372 INFO sqlalchemy.engine.Engine SELECT sql FROM  (SELECT * FROM sqlite_master UNION ALL   SELECT * FROM sqlite_temp_master) WHERE name = ? AND type = 'table'\n",
      "2024-01-10 22:10:22,372 INFO sqlalchemy.engine.Engine [raw sql] ('delicious_stocks',)\n",
      "2024-01-10 22:10:22,372 INFO sqlalchemy.engine.Engine PRAGMA main.index_list(\"delicious_stocks\")\n",
      "2024-01-10 22:10:22,372 INFO sqlalchemy.engine.Engine [raw sql] ()\n",
      "2024-01-10 22:10:22,372 INFO sqlalchemy.engine.Engine PRAGMA temp.index_list(\"delicious_stocks\")\n",
      "2024-01-10 22:10:22,372 INFO sqlalchemy.engine.Engine [raw sql] ()\n",
      "2024-01-10 22:10:22,388 INFO sqlalchemy.engine.Engine PRAGMA main.index_list(\"delicious_stocks\")\n",
      "2024-01-10 22:10:22,388 INFO sqlalchemy.engine.Engine [raw sql] ()\n",
      "2024-01-10 22:10:22,388 INFO sqlalchemy.engine.Engine PRAGMA temp.index_list(\"delicious_stocks\")\n",
      "2024-01-10 22:10:22,388 INFO sqlalchemy.engine.Engine [raw sql] ()\n",
      "2024-01-10 22:10:22,388 INFO sqlalchemy.engine.Engine SELECT sql FROM  (SELECT * FROM sqlite_master UNION ALL   SELECT * FROM sqlite_temp_master) WHERE name = ? AND type = 'table'\n",
      "2024-01-10 22:10:22,388 INFO sqlalchemy.engine.Engine [raw sql] ('delicious_stocks',)\n",
      "2024-01-10 22:10:22,388 INFO sqlalchemy.engine.Engine SELECT delicious_stocks.\"EAT\", delicious_stocks.\"CAKE\" \n",
      "FROM delicious_stocks\n",
      "2024-01-10 22:10:22,388 INFO sqlalchemy.engine.Engine [generated in 0.00154s] ()\n"
     ]
    },
    {
     "data": {
      "text/html": [
       "<div>\n",
       "<style scoped>\n",
       "    .dataframe tbody tr th:only-of-type {\n",
       "        vertical-align: middle;\n",
       "    }\n",
       "\n",
       "    .dataframe tbody tr th {\n",
       "        vertical-align: top;\n",
       "    }\n",
       "\n",
       "    .dataframe thead th {\n",
       "        text-align: right;\n",
       "    }\n",
       "</style>\n",
       "<table border=\"1\" class=\"dataframe\">\n",
       "  <thead>\n",
       "    <tr style=\"text-align: right;\">\n",
       "      <th></th>\n",
       "      <th>EAT</th>\n",
       "      <th>CAKE</th>\n",
       "    </tr>\n",
       "  </thead>\n",
       "  <tbody>\n",
       "    <tr>\n",
       "      <th>0</th>\n",
       "      <td>10</td>\n",
       "      <td>30</td>\n",
       "    </tr>\n",
       "    <tr>\n",
       "      <th>1</th>\n",
       "      <td>20</td>\n",
       "      <td>40</td>\n",
       "    </tr>\n",
       "  </tbody>\n",
       "</table>\n",
       "</div>"
      ],
      "text/plain": [
       "   EAT  CAKE\n",
       "0   10    30\n",
       "1   20    40"
      ]
     },
     "execution_count": 15,
     "metadata": {},
     "output_type": "execute_result"
    }
   ],
   "source": [
    "# To verify that the data was successfully inserted, we run the following code:\n",
    "pd.read_sql_table('delicious_stocks', con=engine)"
   ]
  },
  {
   "cell_type": "code",
   "execution_count": 16,
   "id": "bbc57abf-3dc3-46d9-a98c-eff1cb050b5a",
   "metadata": {},
   "outputs": [
    {
     "name": "stdout",
     "output_type": "stream",
     "text": [
      "2024-01-10 22:10:22,419 INFO sqlalchemy.engine.Engine \n",
      "SELECT \"EAT\", \"CAKE\" FROM delicious_stocks\n",
      "\n",
      "2024-01-10 22:10:22,419 INFO sqlalchemy.engine.Engine [raw sql] ()\n"
     ]
    },
    {
     "data": {
      "text/plain": [
       "<sqlalchemy.engine.cursor.LegacyCursorResult at 0x24b965da070>"
      ]
     },
     "execution_count": 16,
     "metadata": {},
     "output_type": "execute_result"
    }
   ],
   "source": [
    "# READ DATA\n",
    "# To read table data directly from the database by using raw SQL, we use a `SELECT` statement:\n",
    "    # SELECT column_name, column_name, ...\n",
    "    # FROM table_name\n",
    "# Let's examine the structure of the SELECT statement. \n",
    "# In the preceding syntax, we can observe the instructions for the database, which consist of `SELECT` and `FROM`.\n",
    "# We can also observe the needed information - namely, the column names and the table name.\n",
    "# To read all the columns of data from our database, we'll use the following code:\n",
    "read_all_data = \"\"\"\n",
    "SELECT \"EAT\", \"CAKE\" FROM delicious_stocks\n",
    "\"\"\"\n",
    "engine.execute(read_all_data)"
   ]
  },
  {
   "cell_type": "code",
   "execution_count": 17,
   "id": "8b2a7e0b-b66f-4fdd-ae2f-c22dc6fca0f7",
   "metadata": {},
   "outputs": [
    {
     "name": "stdout",
     "output_type": "stream",
     "text": [
      "2024-01-10 22:10:22,451 INFO sqlalchemy.engine.Engine \n",
      "SELECT \"EAT\", \"CAKE\" FROM delicious_stocks\n",
      "\n",
      "2024-01-10 22:10:22,451 INFO sqlalchemy.engine.Engine [raw sql] ()\n",
      "(10, 30)\n",
      "(20, 40)\n"
     ]
    }
   ],
   "source": [
    "# This output shoes that the engine passed the `SELECT` statement request to the database.\n",
    "# We can guess that the data was read, but what happens next?\n",
    "# Making the request to read the data is only the first part. \n",
    "# We also need to tell the program what to do with the data once it's been read.\n",
    "# More specifically, we need to make the data usable outside the SQLAlchemy database.\n",
    "# To do that, we set the engine's execution of the statement equal to a variable named `results`.\n",
    "# Then, we loop through each row of data that was returned as a result of the `SELECT` statement:\n",
    "results = engine.execute(read_all_data)\n",
    "for row in results:\n",
    "    print(row)"
   ]
  },
  {
   "cell_type": "code",
   "execution_count": 18,
   "id": "516aec61-5aa7-4420-bf7d-89781a699142",
   "metadata": {},
   "outputs": [
    {
     "name": "stdout",
     "output_type": "stream",
     "text": [
      "2024-01-10 22:10:22,466 INFO sqlalchemy.engine.Engine \n",
      "SELECT \"EAT\", \"CAKE\" FROM delicious_stocks\n",
      "\n",
      "2024-01-10 22:10:22,466 INFO sqlalchemy.engine.Engine [raw sql] ()\n"
     ]
    },
    {
     "data": {
      "text/plain": [
       "[(10, 30), (20, 40)]"
      ]
     },
     "execution_count": 18,
     "metadata": {},
     "output_type": "execute_result"
    }
   ],
   "source": [
    "# Notice that our output has improved. \n",
    "# It shows the stock values within each row of the table.\n",
    "# We can convert the results to another type of Python data container, such as a list:\n",
    "results = engine.execute(read_all_data)\n",
    "list(results)"
   ]
  },
  {
   "cell_type": "code",
   "execution_count": 19,
   "id": "5aa29965-d0b0-4eea-b837-288e9420fc38",
   "metadata": {},
   "outputs": [
    {
     "name": "stdout",
     "output_type": "stream",
     "text": [
      "2024-01-10 22:10:22,482 INFO sqlalchemy.engine.Engine \n",
      "SELECT * FROM delicious_stocks\n",
      "\n",
      "2024-01-10 22:10:22,482 INFO sqlalchemy.engine.Engine [raw sql] ()\n"
     ]
    },
    {
     "data": {
      "text/plain": [
       "[(10, 30), (20, 40)]"
      ]
     },
     "execution_count": 19,
     "metadata": {},
     "output_type": "execute_result"
    }
   ],
   "source": [
    "# Once a list (or other type of data container) contains the results, we can use them to populate values in a DataFrame.\n",
    "# From there, the options for analysis are endless.\n",
    "# There is also a shortcut for selecting all the columns of data.\n",
    "# Specifically, we use the asterisk (*) as a wildcard with the `SELECT` statement.\n",
    "# This tells SQL to read all the columns of data in the table.\n",
    "# As you will see, with slightly less code, we ge the same output.\n",
    "read_all_data = \"\"\"\n",
    "SELECT * FROM delicious_stocks\n",
    "\"\"\"\n",
    "results = engine.execute(read_all_data)\n",
    "list(results)"
   ]
  },
  {
   "cell_type": "code",
   "execution_count": 20,
   "id": "7f3d4717-14e6-4427-ba33-625b19d3a5ec",
   "metadata": {},
   "outputs": [
    {
     "name": "stdout",
     "output_type": "stream",
     "text": [
      "2024-01-10 22:10:22,513 INFO sqlalchemy.engine.Engine \n",
      "UPDATE delicious_stocks\n",
      "SET CAKE = 100\n",
      "WHERE CAKE = 40\n",
      "\n",
      "2024-01-10 22:10:22,513 INFO sqlalchemy.engine.Engine [raw sql] ()\n",
      "2024-01-10 22:10:22,513 INFO sqlalchemy.engine.Engine COMMIT\n"
     ]
    },
    {
     "data": {
      "text/plain": [
       "<sqlalchemy.engine.cursor.LegacyCursorResult at 0x24ba7605d30>"
      ]
     },
     "execution_count": 20,
     "metadata": {},
     "output_type": "execute_result"
    }
   ],
   "source": [
    "# UPDATE DATA\n",
    "# Just like we sometimes update values in DataFrames by using `loc` and `iloc`, we might need to update data in our database tables.\n",
    "# In SQL, we update values by using the `UPDATE` statement:\n",
    "    # UPDATE table_name\n",
    "    # SET column_name coditional_operator new_table_value\n",
    "    # WHERE column_name conditional_operator current_table_value\n",
    "# Notice that the `UPDATE` statement has a few keywords:\n",
    "    # 1. The `UPDATE` keyword: This specifies the table that we want to update.\n",
    "    # 2. The `SET` keyword: This sets new values in the table.\n",
    "    # 3. The `WHERE` keyword: This finds existing values in the table that meet the specified condiiton.\n",
    "# Let's put all this together to update our `delicious_stocks` table.\n",
    "# We'll find out where any element in the \"CAKE\" column equals 40 and update that value to 100:\n",
    "update_cake = \"\"\"\n",
    "UPDATE delicious_stocks\n",
    "SET CAKE = 100\n",
    "WHERE CAKE = 40\n",
    "\"\"\"\n",
    "engine.execute(update_cake)"
   ]
  },
  {
   "cell_type": "code",
   "execution_count": 21,
   "id": "e7b7443e-e8bc-4fb5-beb7-5f610b78c82d",
   "metadata": {},
   "outputs": [
    {
     "name": "stdout",
     "output_type": "stream",
     "text": [
      "2024-01-10 22:10:22,545 INFO sqlalchemy.engine.Engine \n",
      "SELECT * from delicious_stocks\n",
      "\n",
      "2024-01-10 22:10:22,545 INFO sqlalchemy.engine.Engine [raw sql] ()\n"
     ]
    },
    {
     "data": {
      "text/plain": [
       "[(10, 30), (20, 100)]"
      ]
     },
     "execution_count": 21,
     "metadata": {},
     "output_type": "execute_result"
    }
   ],
   "source": [
    "# Now let's check the table to make sure the changes were made:\n",
    "read_all_data = \"\"\"\n",
    "SELECT * from delicious_stocks\n",
    "\"\"\"\n",
    "results = engine.execute(read_all_data)\n",
    "list(results)"
   ]
  },
  {
   "cell_type": "code",
   "execution_count": 22,
   "id": "f1bd7d19-26a8-4dec-8a85-9a67ae81e089",
   "metadata": {},
   "outputs": [],
   "source": [
    "# Notice that at the end of the output, the 40 has been replaced with 100, just as instructed."
   ]
  },
  {
   "cell_type": "code",
   "execution_count": 23,
   "id": "2a9600ca-6d48-4db8-9ccf-84df374e210e",
   "metadata": {},
   "outputs": [
    {
     "name": "stdout",
     "output_type": "stream",
     "text": [
      "2024-01-10 22:10:22,576 INFO sqlalchemy.engine.Engine \n",
      "DELETE FROM delicious_stocks\n",
      "WHERE EAT = 20\n",
      "\n",
      "2024-01-10 22:10:22,576 INFO sqlalchemy.engine.Engine [raw sql] ()\n",
      "2024-01-10 22:10:22,576 INFO sqlalchemy.engine.Engine COMMIT\n"
     ]
    },
    {
     "data": {
      "text/plain": [
       "<sqlalchemy.engine.cursor.LegacyCursorResult at 0x24ba7605eb0>"
      ]
     },
     "execution_count": 23,
     "metadata": {},
     "output_type": "execute_result"
    }
   ],
   "source": [
    "# DELETE DATA\n",
    "# We'll start this discusson by emphasizing the following: \n",
    "# Don't be the person who accidentally delets all the data in the company database!\n",
    "# Luckily, the SQL `DELETE` statement inlcudes a `WHERE` clause to pinpoint the exact data that you want to delete.\n",
    "\n",
    "# IMPORTANT\n",
    "# To delet data from a table, you need only the table name and the `WHERE` clause.\n",
    "\n",
    "# The `DELETE` syntax is as follows:\n",
    "    # DELETE FROM table_name\n",
    "    # WHERE table_name conditional_operator current_table_value\n",
    "# To return to our `delicious_stocks` example, we'll delete the data where any element in the \"EAT\" column equals 20 by running the following code:\n",
    "delete_eat = \"\"\"\n",
    "DELETE FROM delicious_stocks\n",
    "WHERE EAT = 20\n",
    "\"\"\"\n",
    "engine.execute(delete_eat)"
   ]
  },
  {
   "cell_type": "code",
   "execution_count": 24,
   "id": "55930f92-bdb0-40a9-8725-fb4f8edd75cf",
   "metadata": {},
   "outputs": [
    {
     "name": "stdout",
     "output_type": "stream",
     "text": [
      "2024-01-10 22:12:24,354 INFO sqlalchemy.engine.Engine \n",
      "SELECT * FROM delicious_stocks\n",
      "\n",
      "2024-01-10 22:12:24,354 INFO sqlalchemy.engine.Engine [raw sql] ()\n"
     ]
    },
    {
     "data": {
      "text/plain": [
       "[(10, 30)]"
      ]
     },
     "execution_count": 24,
     "metadata": {},
     "output_type": "execute_result"
    }
   ],
   "source": [
    "# Notice that the output displays the SQL `DELETE` statement and then, two lines later, the confirmation via the `COMMIT` command.\n",
    "# To confirm this action, let's read the table data and then display the output:\n",
    "read_all_data = \"\"\"\n",
    "SELECT * FROM delicious_stocks\n",
    "\"\"\"\n",
    "results = engine.execute(read_all_data)\n",
    "list(results)"
   ]
  },
  {
   "cell_type": "code",
   "execution_count": null,
   "id": "c42a2a0c-ba66-4a21-97df-dc5fafa0c449",
   "metadata": {},
   "outputs": [],
   "source": [
    "# Again, notice the SQL query, which is now a `SELECT` statement.\n",
    "# But, the output then shows only one row of data - specifically, [(10,30)].\n",
    "# We accidentally deleted the entire row that matched the condition!\n",
    "# The output reflects only the values from the first row of data - specifically, [(10,30)].\n",
    "# The values form the second row - [(20,100)] - have disappeared.\n",
    "# LESSON LEARNED: The `DELETE` statement removes the entire row of data that matches the specified condition.\n",
    "# It doesn't remove only the singel element that you intended for deletion.\n",
    "# Unless your intention is to delete the entire row of data, consider using the `UPDATE` statement to change the value of the single element.\n",
    "# For example, you can update the element with a value like 0 or 'N/A'."
   ]
  }
 ],
 "metadata": {
  "kernelspec": {
   "display_name": "Python 3 (ipykernel)",
   "language": "python",
   "name": "python3"
  },
  "language_info": {
   "codemirror_mode": {
    "name": "ipython",
    "version": 3
   },
   "file_extension": ".py",
   "mimetype": "text/x-python",
   "name": "python",
   "nbconvert_exporter": "python",
   "pygments_lexer": "ipython3",
   "version": "3.9.13"
  }
 },
 "nbformat": 4,
 "nbformat_minor": 5
}

{
 "cells": [
  {
   "cell_type": "code",
   "execution_count": 1,
   "id": "0a504222-7c1e-422d-a825-0f31815aaf96",
   "metadata": {},
   "outputs": [],
   "source": [
    "# COMBINING PANDAS WITH APIs AND STATISTICS\n",
    "# With all your experience in quantitative analysis, you decide to start your own wealth management firm.\n",
    "# Your first client is a family member who wants you to evaluate their long-term retirement goals.\n",
    "# Your initial analysis indicates that their portfolio might generate outsized returns that will enable retirement in five years.\n",
    "# However, a chance still exists that the market will collapse, preventing early retirement.\n",
    "# How'd you measure the likelihood, or probability, of that uncertain future scenaria?\n",
    "# We can use the Pandas library and data that we get via APIs to make predictions about the future performance of a portfolio.\n",
    "# However, the fact that no single outcome exists complicates this process.\n",
    "# Rather, a range of possible outcomes are more likely to occur - that is, they're more probable - than others.\n",
    "# In this lesson, you'll measure the probability of financial outcomes by combining Pandas functions, APIs, and statistical concepts.\n",
    "# Applying statistics - like probabilities, probability distributions, and confidence intervals - to portfolio analysis will improve how you manage portfolios and make financial decisions."
   ]
  },
  {
   "cell_type": "code",
   "execution_count": 2,
   "id": "6c4308e1-fbcf-4106-abee-5574dcb90308",
   "metadata": {},
   "outputs": [],
   "source": [
    "# USING PROBABILITY TO MAKE FINANCIAL PROJECTIONS\n",
    "# PROBABILITY is a concept in statistics that describes the chance that a particular event will happen.\n",
    "# In finance, we associate probabilty with the movement of stock prices.\n",
    "# A stock price can increase or decrease, and the magnitude of that changes also varies.\n",
    "# The change in stock price always remains uncertain. \n",
    "# However, by analyzing that past movements in a stock price, we can estimate the likely change in a stock price both near-term and long-term future.\n",
    "# In this section, we'll explore the probability and related statistical concepts that help us make predictions about the movement in an asset's price.\n",
    "# First, we'll discuss the probability distribution, which is key to estimating possible future outcomes of stock and portfolio performance."
   ]
  },
  {
   "cell_type": "code",
   "execution_count": 3,
   "id": "480fbcd3-52cf-4910-bb16-12d9bdde9f0b",
   "metadata": {},
   "outputs": [],
   "source": [
    "# WHAT'S THE PROBABILITY DISTRIBUTION\n",
    "# PROBABILITY DISTRIBUTION is a mathematical function that allows us to visualize the likelihood of probable outcomes for a particular event.\n",
    "# The most-common probability distribution is the normal distribution.\n",
    "# Probability distributions such as the normal distribution help us make educated guesses about what might happen to the performance of a stock, bond, or portfolio in the future, especially the near-term future.\n",
    "\n",
    "# WHAT'S NORMAL DISTRIBUTION?\n",
    "# Various real-world scenarios, from test scores to the daily returns of a stock over time, use the normal distribution.\n",
    "# People commonly refer to NORMAL DISTRIBUTION as the bell curve.\n",
    "# It describes a dataset where values that lie further from the mean occur less frequently than those that lie closer to the mean.\n",
    "# In a normal distribution of numerical data, the probability that a data point equals a particular value follows the 68-95-99.7 RULE.\n",
    "# This rule states that 68%, 95%, and 99.7% (effectively 100%) of possible values lie within one, two, and three standard deviations of the mean.\n",
    "# The standard deviation defines the x-axis of the probability distribution plot.\n",
    "# The standard deviation for a dataset defines its probability distribution.\n",
    "# We associate a standard deviation of zero with the mean of the dataset.\n",
    "# The values of the standard deviations correspond to how the data spreads out around the mean value.\n",
    "# Normal distributions prove particularly useful in finance, because they adequately approximate the volatility of the daily return values for stock prices and other financial assets.\n",
    "# For example, the daily return value from a high-volatility stock, such as Tesla, and from a low-volatility stock, such as Coca Cola, can both demonstrate normal distributions.\n",
    "# This happens despite the differences in company size, customer base, stock price, and market share.\n",
    "# We can calculate and visualize normal distributions of such stocks by using Pandas."
   ]
  },
  {
   "cell_type": "code",
   "execution_count": null,
   "id": "54bf46b0-51fc-47c0-a767-ac41ea12ee96",
   "metadata": {},
   "outputs": [],
   "source": [
    "# IMPORTANT:\n",
    "# The mean of a dataset is a measure of central tendency that describes the center of a dataset.\n",
    "# The standard deviation of a dataset measures ow the data spreads out around the mean value.\n",
    "# While the mean is a measure of central tendency, the standard deviation is a MEASURE OF DISPERSION.\n",
    "# In Pandas, you can find both of these values by using the `describe` function."
   ]
  }
 ],
 "metadata": {
  "kernelspec": {
   "display_name": "Python 3 (ipykernel)",
   "language": "python",
   "name": "python3"
  },
  "language_info": {
   "codemirror_mode": {
    "name": "ipython",
    "version": 3
   },
   "file_extension": ".py",
   "mimetype": "text/x-python",
   "name": "python",
   "nbconvert_exporter": "python",
   "pygments_lexer": "ipython3",
   "version": "3.9.13"
  }
 },
 "nbformat": 4,
 "nbformat_minor": 5
}

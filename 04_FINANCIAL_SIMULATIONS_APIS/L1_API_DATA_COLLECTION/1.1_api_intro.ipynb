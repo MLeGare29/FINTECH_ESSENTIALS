{
 "cells": [
  {
   "cell_type": "code",
   "execution_count": 1,
   "id": "800dec3b-de7b-489d-bd17-33d1af372a47",
   "metadata": {},
   "outputs": [],
   "source": [
    "# INTRODUCTION TO APIs\n",
    "# APPLICATION PROGRAMMING INTERFACE (API) is a set of functions that applications use to automate the back and forth communication between computers.\n",
    "# This communication involves making a call that immediately triggers an exchange between your application and a web service, such as a financial data provider.\n",
    "# Your application makes a REQUEST for the financial data that you need, and the web services sends a RESPONSE.\n",
    "# This response includes data - such as interest rates for different time periods.\n",
    "# The CLIENT-SERVER MODEL defines the exchange between two computers that an API call involves.\n",
    "# The computer that makes the API request, which is known as an API CALL, is the CLIENT.\n",
    "# The one that answers the API request with the response data is the SERVER.\n",
    "# The API is the software that facilitates the communication between the client and the server."
   ]
  },
  {
   "cell_type": "code",
   "execution_count": null,
   "id": "70f9c916-13a1-4664-ae36-4f06325b66d4",
   "metadata": {},
   "outputs": [],
   "source": [
    "# APIs IN FINTECH\n",
    "# We use APIs to extract data from financial service providers (like Nasdaq Data Link and Alpaca).\n",
    "# APIs can be used to connect applications to platforms (like AWS, or Microsoft Azure).\n",
    "# They can also be used to manage personal finances by using services like Plaid.\n",
    "# With APIs, we can gather data, create DataFrames, and program dynamic visualizations.\n",
    "# Best of all, APIs give devs on-demand acces to the most current data that's available.\n",
    "# Because devs build the API calls right into an application, they can automate the calls to request the most reccent data that's available from the provider every time the application loads.\n",
    "# Incorporating real-time data into an application's analysis makes it more accuarate and robust.\n",
    "# APIs are everywhere and can do almost anything, the only thing standing in the way is knowing how to make the API call."
   ]
  }
 ],
 "metadata": {
  "kernelspec": {
   "display_name": "Python 3 (ipykernel)",
   "language": "python",
   "name": "python3"
  },
  "language_info": {
   "codemirror_mode": {
    "name": "ipython",
    "version": 3
   },
   "file_extension": ".py",
   "mimetype": "text/x-python",
   "name": "python",
   "nbconvert_exporter": "python",
   "pygments_lexer": "ipython3",
   "version": "3.9.13"
  }
 },
 "nbformat": 4,
 "nbformat_minor": 5
}

{
 "cells": [
  {
   "cell_type": "code",
   "execution_count": 1,
   "id": "ca5b5550-bfe9-4770-a9ea-8cc4a8dffc3f",
   "metadata": {},
   "outputs": [],
   "source": [
    "# USING AUTHENTICATED APIs\n",
    "# APIs make an incredible amount of data available, and they make a good amount of that publicly available.\n",
    "# As we discovered with the Free Crypto API, we can easily get cryptocurrency pricing information.\n",
    "# Government organizations at all levels also tend to make their information freely accessible.\n",
    "# Most companies and data providers, however, share information with particular people or trustworthy parties.\n",
    "# Because an API request interacts with a company data server, it leaves the company vulnerable to data corruption, fraud, and abuse.\n",
    "# To mitigate these issues, API providers secure their endpoints by providing access only to parties that they trust."
   ]
  },
  {
   "cell_type": "code",
   "execution_count": 2,
   "id": "c8a79df5-3ab7-493f-b80c-c4492f2e25e3",
   "metadata": {},
   "outputs": [],
   "source": [
    "# ON THE JOB\n",
    "# Most financial service companies provide access to their data via APIs to trustworthy customers and strategic partners.\n",
    "# Because of the sensitivity of the data they manage, the APIs are typically authenticated APIs.\n",
    "# The data that an authenticated API supplies tends to be of higher quality than that from a public API.\n",
    "# For example, publicaly accessible APIs tend to supply stock pricing data on an industry standard 20-minute delay.\n",
    "# Authenticated APIs might supply pricing data on only a 5-minute delay, or even in real time, it the API requires payment."
   ]
  },
  {
   "cell_type": "code",
   "execution_count": 3,
   "id": "214b7870-32ea-4ccf-b3aa-d1d7c2173b34",
   "metadata": {},
   "outputs": [],
   "source": [
    "# SECURE YOUR API CALLS WITH API KEYS\n",
    "# To access an authenticated API, a user must sign up for an API key.\n",
    "# An API KEY is a token that serves as a credential (like a username/passowrd).\n",
    "# This toke grants the user the privileges and permissions that they need to submit API requests to the company that issued the API KEY.\n",
    "# Companies use API keys to monitor and control user requests and to receive compensation for their services and intellectual property.\n",
    "# Because API keys detail the privileges and permissions for users, companies can programmatically disable or enable the API privileges.\n",
    "# APIs that require keys will reject any request that doesn't include the API key.\n",
    "# Some companies such as NASDAQ and Alpaca allow you to create an API key free of charge to access some data and services.\n",
    "# However, you need to pay a fee to access the premium functions, like real-time asset pricing or volume data.\n",
    "# Because API keys are unique identifiers 0 they identify the user submitting the API request.\n",
    "# It's important that users protect their API keys. Do NOT make API keys available in public repositories (such as GitHub).\n",
    "# The most professional method of protecting sensitive information like API keys is to use environment variables."
   ]
  },
  {
   "cell_type": "code",
   "execution_count": null,
   "id": "aff79c50-b6a4-4474-a1fb-27336e7eb9af",
   "metadata": {},
   "outputs": [],
   "source": [
    "# WORK WITH ENVIRONMENT VARIABLES\n",
    "# An ENVIRONMENT VARIABLE is a variable with associated values that you can use only inside a specific project or environment that exists on your local computer.\n",
    "# The values of these variables include sensitive information, such as API keys.\n",
    "# For example:\n",
    "test_api_key = \"aaBB3dEfgH1jKlmN0P\"\n",
    "\n",
    "# The professional standard for incorporating environment variables into a procram is to create an environment file (.env) in your project.\n",
    "# This file holds the environment variables that you want to use for your local project.\n",
    "# When you include a `.gitignore` file in your GitHub repo, you also protect the environment variables.\n",
    "# The `.gitignore` file prevents the env file from being uploaded to your public repository.\n",
    "# If your `.gitignore` file doesn't have `.env` listed inside, you need to add that line so that GitHub will exclude the environment file.\n",
    "# To summarize, the enf file, which contains the API key info, is available on your local computer for use in your project.\n",
    "# And the gitignore file ignores the env file, preventing it from being uploaded to the GitHub repo and exposing sensitive information."
   ]
  }
 ],
 "metadata": {
  "kernelspec": {
   "display_name": "Python 3 (ipykernel)",
   "language": "python",
   "name": "python3"
  },
  "language_info": {
   "codemirror_mode": {
    "name": "ipython",
    "version": 3
   },
   "file_extension": ".py",
   "mimetype": "text/x-python",
   "name": "python",
   "nbconvert_exporter": "python",
   "pygments_lexer": "ipython3",
   "version": "3.9.13"
  }
 },
 "nbformat": 4,
 "nbformat_minor": 5
}

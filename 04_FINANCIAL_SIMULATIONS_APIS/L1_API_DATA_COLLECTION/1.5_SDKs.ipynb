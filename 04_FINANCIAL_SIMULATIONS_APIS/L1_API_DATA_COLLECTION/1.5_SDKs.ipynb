{
 "cells": [
  {
   "cell_type": "code",
   "execution_count": 3,
   "id": "76d9a200-e390-46c1-bc16-fcd383b788fa",
   "metadata": {},
   "outputs": [
    {
     "data": {
      "text/plain": [
       "True"
      ]
     },
     "execution_count": 3,
     "metadata": {},
     "output_type": "execute_result"
    }
   ],
   "source": [
    "import pandas as pd\n",
    "import os\n",
    "import requests\n",
    "import json\n",
    "from dotenv import load_dotenv\n",
    "\n",
    "load_dotenv()"
   ]
  },
  {
   "cell_type": "code",
   "execution_count": 1,
   "id": "53f107d8-ea7f-4935-8b6c-7f7a3ceab34d",
   "metadata": {},
   "outputs": [],
   "source": [
    "# MOVING FROM THE REQUESTS LIBRARY TO SDKs\n",
    "# In this section, you'll take the next step in using APIs.\n",
    "# Instead of using the Python Requests library, you'll use SDKs, or Software Development Kits.\n",
    "# These offer more security for companies and a more structured data collection experience for the user."
   ]
  },
  {
   "cell_type": "code",
   "execution_count": null,
   "id": "98d5fb73-1592-43de-b10d-5bd63db69146",
   "metadata": {},
   "outputs": [],
   "source": [
    "# RETRIEVE DATA WITH SDK FUNCTIONS\n",
    "# An SDK is a collection of software tools that come in a single installable package.\n",
    "# Companies develop SDKs to ease accessing their data via API calls.\n",
    "# SDKs require us to use specific syntax when making API calls.\n",
    "# This syntax, which includes company-specific functions, streamlines the ability of the server to respond to API calls.\n",
    "# SDKs often require a level of user authentication that surpasses the level for more-generic API calls.\n",
    "# This is because the data that SDKs supply tend to have better quality - it's often cleaner and more current.\n",
    "# Although we use different syntax to make an API request via an SDK, we follow the same process that we use with the Python Requests library.\n",
    "# For example, to get data via the Alpaca SDK, we use the `get()` function.\n",
    "# SDKs also offer functions for filtering and calculating data that might prove more efficient than passing parameters in a request URL.\n",
    "# The following code example shows the difference between using a request URL and an SDK:\n",
    "\n",
    "# Example API call using a Request URL:\n",
    "requests.get('https://www.nasdaq.com/api/v3/datasets/WIKI/AAPL?api_key=Qu4nD1K3y')\n",
    "\n",
    "# Example API call using the NASDAQ SDK\n",
    "nasdaq.get('WIKI/AAPL', rows=5)\n",
    "\n",
    "# The SDK code is cleaner and more straightfoward.\n",
    "# This is because SDKs offer built-in functions that we can use with the APIs.\n",
    "# SDKs also add a layer of security - because they avoid passing sensitive parameters, such as API keys, as plain text in a request URL."
   ]
  },
  {
   "cell_type": "code",
   "execution_count": null,
   "id": "35c693e1-63f5-472c-9110-9b71a5c38897",
   "metadata": {},
   "outputs": [],
   "source": [
    "# ON THE JOB\n",
    "# In the FinTech industry, you'll encounter APIs that offer SDKs and others that don't.\n",
    "# That's why you need to understand both how to install and operate SDKs and how to access an API via a request URL using the Python Requests Library."
   ]
  }
 ],
 "metadata": {
  "kernelspec": {
   "display_name": "Python 3 (ipykernel)",
   "language": "python",
   "name": "python3"
  },
  "language_info": {
   "codemirror_mode": {
    "name": "ipython",
    "version": 3
   },
   "file_extension": ".py",
   "mimetype": "text/x-python",
   "name": "python",
   "nbconvert_exporter": "python",
   "pygments_lexer": "ipython3",
   "version": "3.9.13"
  }
 },
 "nbformat": 4,
 "nbformat_minor": 5
}

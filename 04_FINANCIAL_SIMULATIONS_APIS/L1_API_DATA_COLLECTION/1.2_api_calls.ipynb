{
 "cells": [
  {
   "cell_type": "code",
   "execution_count": 1,
   "id": "8216d85f-a639-4fd4-8921-3f71c2333697",
   "metadata": {},
   "outputs": [],
   "source": [
    "# MAKING API CALLS WITH THE REQUESTS LIBRARY\n",
    "# One of the most straightfoward ways to make an API call is by using the PYTHON REQUESTS LIBRARY.\n",
    "# We also need the JSON library to work with files in JavaScript Object Notation (JSON) format, which is currently the standard for API responses.\n",
    "# Anaconda comes with both the Requests and JSON libraries, so you don't need to install anything.\n",
    "# However, you do need to import these libraries into your Jupyter Notebook file:\n",
    "\n",
    "# Import the required libraries and dependencies:\n",
    "import pandas as pd\n",
    "import requests\n",
    "import json"
   ]
  },
  {
   "cell_type": "code",
   "execution_count": 4,
   "id": "873fd1bb-be30-48da-bfc2-5c577cd6d561",
   "metadata": {},
   "outputs": [],
   "source": [
    "# MAKE AN API REQUEST\n",
    "# Making an API request and then displaying the response data requires just the following lines of code:\n",
    "\n",
    "# Make the API request:\n",
    "# response = requests.get(\"endpoint\").json()\n",
    "\n",
    "# Display the response data:\n",
    "# print(json.dumps(response, indent=4, sort_keys=True))\n",
    "\n",
    "# CODE BREAKDOWN:\n",
    "# Let's look at the first function: `requests.get()`\n",
    "    # The `requests` library has a series of related functions that act as instructions to the API.\n",
    "    # The `get` function lets the API know that the client wants to get information from the server.\n",
    "# Next, notice the `endpoint` that the `requests.get()` function includes:\n",
    "    # An ENDPOINT is the URL, or web address, that maps to the data server.\n",
    "    # It's the key to making a successful API call.\n",
    "    # The endpoint point to the specific location on the server that the client uses to access the data that the API request details.\n",
    "    # For example, when you make a request to the https://amazon.com/ endpoint, the Amazon web server sends you a response that consists of the Amazon homepage and possibly your account info.\n",
    "# Finally, the `print` function which references the `json.dumps()` function with the following parameters:   \n",
    "    # 1. `response`: This refers to the `response` variable that the code is set to - the result of the API call - by using `requests.get()`.\n",
    "        # This variable contains the response data that the server sent back.\n",
    "        # The response data from the API call comes in a series of key-value pairs, just like a Python dictionary.\n",
    "    # 2. `indent=4`: This controls the number of spaces to indent each nested level of the response data.\n",
    "        # Nesting will be discussed in greater detail when we review the API response.\n",
    "    # 3. `sort_keys=True`: This tells the application to render the keys that the response data specifies in a sorted order.\n",
    "        # The sort order is alphabetical within each level of nesting.\n",
    "# Overall, the `json.dumps()` function formats the response data to make it readable for humans."
   ]
  },
  {
   "cell_type": "code",
   "execution_count": 7,
   "id": "b9831759-e1f4-4937-ad4b-bae350389c0a",
   "metadata": {},
   "outputs": [
    {
     "name": "stdout",
     "output_type": "stream",
     "text": [
      "{\n",
      "    \"data\": {\n",
      "        \"52\": {\n",
      "            \"circulating_supply\": 53652766196,\n",
      "            \"id\": 52,\n",
      "            \"last_updated\": 1699675796,\n",
      "            \"max_supply\": 99988240531,\n",
      "            \"name\": \"XRP\",\n",
      "            \"quotes\": {\n",
      "                \"USD\": {\n",
      "                    \"market_cap\": 34872157018,\n",
      "                    \"percent_change_1h\": -0.558441993714702,\n",
      "                    \"percent_change_24h\": -2.57302772290652,\n",
      "                    \"percent_change_7d\": 6.28609740648958,\n",
      "                    \"percentage_change_1h\": -0.558441993714702,\n",
      "                    \"percentage_change_24h\": -2.57302772290652,\n",
      "                    \"percentage_change_7d\": 6.28609740648958,\n",
      "                    \"price\": 0.649416,\n",
      "                    \"volume_24h\": 1739154876\n",
      "                }\n",
      "            },\n",
      "            \"rank\": 6,\n",
      "            \"symbol\": \"XRP\",\n",
      "            \"total_supply\": 53652766196,\n",
      "            \"website_slug\": \"ripple\"\n",
      "        }\n",
      "    },\n",
      "    \"metadata\": {\n",
      "        \"error\": null,\n",
      "        \"num_cryptocurrencies\": 3119,\n",
      "        \"timestamp\": 1699675796\n",
      "    }\n",
      "}\n"
     ]
    }
   ],
   "source": [
    "# MAKE A REQUEST TO THE FREE CRYPTO API\n",
    "# Say that we want to get the price of Ripple crypto (symobl: XRP) from the Free Crypto API:\n",
    "\n",
    "# Set the Ripple Endpoint:\n",
    "xrp_url = 'https://api.alternative.me/v2/ticker/Ripple/'\n",
    "\n",
    "# Fetch the current Ripple price\n",
    "response_xrp = requests.get(xrp_url).json()\n",
    "\n",
    "# Display the response data:\n",
    "print(json.dumps(response, indent=4, sort_keys=True))\n",
    "\n",
    "# CODE BREAKDOWN:\n",
    "    # 1. We reference the endpoint URL and specify that we're seeking information about Ripple.\n",
    "    # 2. We set the endpoint URL equal to the `xrp_url` variable that we call inside the `requests.get()` function.\n",
    "    # 3. The `json.dumps` function and its parameters create an API response to display a readable, indented JSON file.\n",
    "        # The parameters are the `response` variable, `indent=4`, and `sort_keys=True`.\n",
    "\n",
    "# NOTE:\n",
    "# When running this code in your notebook, you'll get a different result.\n",
    "# This is because an API call gets the most recent data that's available.\n",
    "# You'll get a different Ripple price than the one I got in my code because you called the Free Crypto API at a different time."
   ]
  },
  {
   "cell_type": "code",
   "execution_count": 8,
   "id": "c4c2bf6f-72bd-46d2-878a-d9a2bf169af9",
   "metadata": {},
   "outputs": [
    {
     "name": "stdout",
     "output_type": "stream",
     "text": [
      "The symbol for Ripple is XRP.\n",
      "The price of Ripple is 0.674242.\n"
     ]
    }
   ],
   "source": [
    "# PARSE THE JSON RESPONSE\n",
    "# The data returned from an API call is called a JSON RESPONSE OBJECT.\n",
    "# JSON is an open standard file format that converts response jargon (which reads like gibberish) into a human-readable object.\n",
    "# We can more easily PARSE this object, or break it down into its parts.\n",
    "# If you closely examine the response object in the code block and screenshot in the previous section, you'll notice that it resembles a Python dictionary.\n",
    "# The object stores the data as a series of key-value pairs. In the response from the Free Crypto API, the top-level is `\"data\"`.\n",
    "# The value that's associated with that `\"data\"` key is another, nested, dictionary, which consists of another key-value pair.\n",
    "# In this case, the key, which is a second-level key, is `\"52\". \n",
    "# The value that's associated with the `\"52\"` key is yet another nested dictionary, which consists of an array of key-value pairs.\n",
    "# One of the pairs is `\"symbol\":\"XRP\"`.\n",
    "# When you navigate to your chosen key, you can access its value.\n",
    "# For example, let's get the values for the `symbol` and `price` keys.\n",
    "# For this, we use bracket notation. \n",
    "# To navigate through the levels of nesting, we reference the key at each level in a set of brackets ([]):\n",
    "\n",
    "xrp_symbol = response_xrp['data']['52']['symbol']\n",
    "print(f'The symbol for Ripple is {xrp_symbol}.')\n",
    "\n",
    "xrp_price =  response_xrp['data']['52']['quotes']['USD']['price']\n",
    "print(f'The price of Ripple is {xrp_price}.')"
   ]
  },
  {
   "cell_type": "code",
   "execution_count": 10,
   "id": "be08f64b-a53c-46d7-88b1-1d5407c9a36f",
   "metadata": {},
   "outputs": [],
   "source": [
    "# OVERVIEW\n",
    "# Reviewing the original response object again, we can trace the levels of nesting to get the value associated with the `symbol` key. \n",
    "    # 1. The `data` key represents the first level of nesting, \n",
    "    # 2. The `\"52\"` key represents the second level.\n",
    "    # 3. The 'symbol` key represents the third level.\n",
    "    # 4. Lastly, the `price` key represents the fourth level.\n",
    "# Getting pieces of data from a JSON object usually involves some trial and error.\n",
    "# It might take one or two tries before you successfully detail each level and arrive at the piece of data that you need."
   ]
  },
  {
   "cell_type": "code",
   "execution_count": null,
   "id": "66513f05-d0e4-4a84-8c05-3f65267f3e1c",
   "metadata": {},
   "outputs": [],
   "source": []
  }
 ],
 "metadata": {
  "kernelspec": {
   "display_name": "Python 3 (ipykernel)",
   "language": "python",
   "name": "python3"
  },
  "language_info": {
   "codemirror_mode": {
    "name": "ipython",
    "version": 3
   },
   "file_extension": ".py",
   "mimetype": "text/x-python",
   "name": "python",
   "nbconvert_exporter": "python",
   "pygments_lexer": "ipython3",
   "version": "3.9.13"
  }
 },
 "nbformat": 4,
 "nbformat_minor": 5
}

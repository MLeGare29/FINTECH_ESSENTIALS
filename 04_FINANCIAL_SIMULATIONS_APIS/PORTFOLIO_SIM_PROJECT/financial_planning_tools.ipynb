{
 "cells": [
  {
   "cell_type": "markdown",
   "metadata": {},
   "source": [
    "# Financial Planning with APIs and Simulations\n",
    "\n",
    "In this Challenge, you’ll create two financial analysis tools by using a single Jupyter notebook:\n",
    "\n",
    "Part 1: A financial planner for emergencies. The members will be able to use this tool to visualize their current savings. The members can then determine if they have enough reserves for an emergency fund.\n",
    "\n",
    "Part 2: A financial planner for retirement. This tool will forecast the performance of their retirement portfolio in 30 years. To do this, the tool will make an Alpaca API call via the Alpaca SDK to get historical price data for use in Monte Carlo simulations.\n",
    "\n",
    "You’ll use the information from the Monte Carlo simulation to answer questions about the portfolio in your Jupyter notebook.\n",
    "\n"
   ]
  },
  {
   "cell_type": "code",
   "execution_count": 1,
   "metadata": {},
   "outputs": [],
   "source": [
    "# Import the required libraries and dependencies\n",
    "import os\n",
    "import requests\n",
    "import json\n",
    "import pandas as pd\n",
    "from dotenv import load_dotenv\n",
    "import alpaca_trade_api as tradeapi\n",
    "from MCForecastTools import MCSimulation\n",
    "\n",
    "%matplotlib inline"
   ]
  },
  {
   "cell_type": "code",
   "execution_count": 2,
   "metadata": {},
   "outputs": [
    {
     "data": {
      "text/plain": [
       "True"
      ]
     },
     "execution_count": 2,
     "metadata": {},
     "output_type": "execute_result"
    }
   ],
   "source": [
    "# Load the environment variables from the .env file\n",
    "#by calling the load_dotenv function\n",
    "load_dotenv()"
   ]
  },
  {
   "cell_type": "markdown",
   "metadata": {},
   "source": [
    "## Part 1: Create a Financial Planner for Emergencies"
   ]
  },
  {
   "cell_type": "markdown",
   "metadata": {},
   "source": [
    "### Evaluate the Cryptocurrency Wallet by Using the Requests Library\n",
    "\n",
    "In this section, you’ll determine the current value of a member’s cryptocurrency wallet. You’ll collect the current prices for the Bitcoin and Ethereum cryptocurrencies by using the Python Requests library. For the prototype, you’ll assume that the member holds the 1.2 Bitcoins (BTC) and 5.3 Ethereum coins (ETH). To do all this, complete the following steps:\n",
    "\n",
    "1. Create a variable named `monthly_income`, and set its value to `12000`.\n",
    "\n",
    "2. Use the Requests library to get the current price (in US dollars) of Bitcoin (BTC) and Ethereum (ETH) by using the API endpoints that the starter code supplies.\n",
    "\n",
    "3. Navigate the JSON response object to access the current price of each coin, and store each in a variable.\n",
    "\n",
    "    > **Hint** Note the specific identifier for each cryptocurrency in the API JSON response. The Bitcoin identifier is `1`, and the Ethereum identifier is `1027`.\n",
    "\n",
    "4. Calculate the value, in US dollars, of the current amount of each cryptocurrency and of the entire cryptocurrency wallet.\n",
    "\n"
   ]
  },
  {
   "cell_type": "code",
   "execution_count": 3,
   "metadata": {},
   "outputs": [],
   "source": [
    "# The current number of coins for each cryptocurrency asset held in the portfolio.\n",
    "btc_coins = 1.2\n",
    "eth_coins = 5.3"
   ]
  },
  {
   "cell_type": "markdown",
   "metadata": {},
   "source": [
    "#### Step 1: Create a variable named `monthly_income`, and set its value to `12000`."
   ]
  },
  {
   "cell_type": "code",
   "execution_count": 4,
   "metadata": {},
   "outputs": [],
   "source": [
    "# The monthly amount for the member's household income\n",
    "monthly_income = 12000"
   ]
  },
  {
   "cell_type": "markdown",
   "metadata": {},
   "source": [
    "#### Review the endpoint URLs for the API calls to Free Crypto API in order to get the current pricing information for both BTC and ETH."
   ]
  },
  {
   "cell_type": "code",
   "execution_count": 5,
   "metadata": {},
   "outputs": [],
   "source": [
    "# The Free Crypto API Call endpoint URLs for the held cryptocurrency assets\n",
    "btc_url = \"https://api.alternative.me/v2/ticker/Bitcoin/?convert=USD\"\n",
    "eth_url = \"https://api.alternative.me/v2/ticker/Ethereum/?convert=USD\""
   ]
  },
  {
   "cell_type": "markdown",
   "metadata": {},
   "source": [
    "#### Step 2. Use the Requests library to get the current price (in US dollars) of Bitcoin (BTC) and Ethereum (ETH) by using the API endpoints that the starter code supplied."
   ]
  },
  {
   "cell_type": "code",
   "execution_count": 6,
   "metadata": {},
   "outputs": [
    {
     "name": "stdout",
     "output_type": "stream",
     "text": [
      "{\n",
      "    \"data\": {\n",
      "        \"1\": {\n",
      "            \"circulating_supply\": 19568287,\n",
      "            \"id\": 1,\n",
      "            \"last_updated\": 1702426493,\n",
      "            \"max_supply\": 21000000,\n",
      "            \"name\": \"Bitcoin\",\n",
      "            \"quotes\": {\n",
      "                \"USD\": {\n",
      "                    \"market_cap\": 809413454893,\n",
      "                    \"percent_change_1h\": 0.181471303470864,\n",
      "                    \"percent_change_24h\": 0.433802594316661,\n",
      "                    \"percent_change_7d\": -6.21378589724245,\n",
      "                    \"percentage_change_1h\": 0.181471303470864,\n",
      "                    \"percentage_change_24h\": 0.433802594316661,\n",
      "                    \"percentage_change_7d\": -6.21378589724245,\n",
      "                    \"price\": 41365.0,\n",
      "                    \"volume_24h\": 21630241873\n",
      "                }\n",
      "            },\n",
      "            \"rank\": 1,\n",
      "            \"symbol\": \"BTC\",\n",
      "            \"total_supply\": 19568287,\n",
      "            \"website_slug\": \"bitcoin\"\n",
      "        }\n",
      "    },\n",
      "    \"metadata\": {\n",
      "        \"error\": null,\n",
      "        \"num_cryptocurrencies\": 3119,\n",
      "        \"timestamp\": 1702426493\n",
      "    }\n",
      "}\n"
     ]
    }
   ],
   "source": [
    "# Using the Python requests library, make an API call to access the current price of BTC\n",
    "btc_response = requests.get(btc_url).json()\n",
    "\n",
    "# Use the json.dumps function to review the response data from the API call\n",
    "# Use the indent and sort_keys parameters to make the response object readable\n",
    "print(json.dumps(btc_response, indent=4, sort_keys=True))"
   ]
  },
  {
   "cell_type": "code",
   "execution_count": 7,
   "metadata": {},
   "outputs": [
    {
     "name": "stdout",
     "output_type": "stream",
     "text": [
      "{\n",
      "    \"data\": {\n",
      "        \"1027\": {\n",
      "            \"circulating_supply\": 120214009,\n",
      "            \"id\": 1027,\n",
      "            \"last_updated\": 1702426485,\n",
      "            \"max_supply\": 120214009,\n",
      "            \"name\": \"Ethereum\",\n",
      "            \"quotes\": {\n",
      "                \"USD\": {\n",
      "                    \"market_cap\": 264547576570,\n",
      "                    \"percent_change_1h\": 0.390849766003982,\n",
      "                    \"percent_change_24h\": -1.00430814316476,\n",
      "                    \"percent_change_7d\": -4.07611341406932,\n",
      "                    \"percentage_change_1h\": 0.390849766003982,\n",
      "                    \"percentage_change_24h\": -1.00430814316476,\n",
      "                    \"percentage_change_7d\": -4.07611341406932,\n",
      "                    \"price\": 2200.59,\n",
      "                    \"volume_24h\": 13449453000\n",
      "                }\n",
      "            },\n",
      "            \"rank\": 2,\n",
      "            \"symbol\": \"ETH\",\n",
      "            \"total_supply\": 120214009,\n",
      "            \"website_slug\": \"ethereum\"\n",
      "        }\n",
      "    },\n",
      "    \"metadata\": {\n",
      "        \"error\": null,\n",
      "        \"num_cryptocurrencies\": 3119,\n",
      "        \"timestamp\": 1702426485\n",
      "    }\n",
      "}\n"
     ]
    }
   ],
   "source": [
    "# Using the Python requests library, make an API call to access the current price ETH\n",
    "eth_response = requests.get(eth_url).json()\n",
    "\n",
    "# Use the json.dumps function to review the response data from the API call\n",
    "# Use the indent and sort_keys parameters to make the response object readable\n",
    "print(json.dumps(eth_response, indent=4, sort_keys=True))"
   ]
  },
  {
   "cell_type": "markdown",
   "metadata": {},
   "source": [
    "#### Step 3: Navigate the JSON response object to access the current price of each coin, and store each in a variable."
   ]
  },
  {
   "cell_type": "code",
   "execution_count": 8,
   "metadata": {},
   "outputs": [
    {
     "name": "stdout",
     "output_type": "stream",
     "text": [
      "The current price of BitCoin is $41365.0.\n"
     ]
    }
   ],
   "source": [
    "# Navigate the BTC response object to access the current price of BTC\n",
    "btc_price = btc_response['data']['1']['quotes']['USD']['price']\n",
    "\n",
    "# Print the current price of BTC\n",
    "print(f'The current price of BitCoin is ${btc_price}.')"
   ]
  },
  {
   "cell_type": "code",
   "execution_count": 9,
   "metadata": {},
   "outputs": [
    {
     "name": "stdout",
     "output_type": "stream",
     "text": [
      "The current price of Ethereum is $2200.59.\n"
     ]
    }
   ],
   "source": [
    "# Navigate the BTC response object to access the current price of ETH\n",
    "eth_price = eth_response['data']['1027']['quotes']['USD']['price']\n",
    "\n",
    "# Print the current price of ETH\n",
    "print(f'The current price of Ethereum is ${eth_price}.')"
   ]
  },
  {
   "cell_type": "markdown",
   "metadata": {},
   "source": [
    "### Step 4: Calculate the value, in US dollars, of the current amount of each cryptocurrency and of the entire cryptocurrency wallet."
   ]
  },
  {
   "cell_type": "code",
   "execution_count": 10,
   "metadata": {},
   "outputs": [
    {
     "name": "stdout",
     "output_type": "stream",
     "text": [
      "The current value of your BTC holdings is $49638.00.\n"
     ]
    }
   ],
   "source": [
    "# Compute the current value of the BTC holding \n",
    "btc_value = btc_price * btc_coins\n",
    "\n",
    "# Print current value of your holding in BTC\n",
    "print(f'The current value of your BTC holdings is ${btc_value:.2f}.')"
   ]
  },
  {
   "cell_type": "code",
   "execution_count": 11,
   "metadata": {},
   "outputs": [
    {
     "name": "stdout",
     "output_type": "stream",
     "text": [
      "The current value of your ETH holdings is $11663.13.\n"
     ]
    }
   ],
   "source": [
    "# Compute the current value of the ETH holding \n",
    "eth_value = eth_price * eth_coins\n",
    "\n",
    "# Print current value of your holding in ETH\n",
    "print(f'The current value of your ETH holdings is ${eth_value:.2f}.')"
   ]
  },
  {
   "cell_type": "code",
   "execution_count": 12,
   "metadata": {},
   "outputs": [
    {
     "name": "stdout",
     "output_type": "stream",
     "text": [
      "The total value of all of your cryptocurrency holdings is $61301.13.\n"
     ]
    }
   ],
   "source": [
    "# Compute the total value of the cryptocurrency wallet\n",
    "# Add the value of the BTC holding to the value of the ETH holding\n",
    "total_crypto_wallet = btc_value + eth_value\n",
    "\n",
    "# Print current cryptocurrency wallet balance\n",
    "print(f'The total value of all of your cryptocurrency holdings is ${total_crypto_wallet:.2f}.')"
   ]
  },
  {
   "cell_type": "markdown",
   "metadata": {},
   "source": [
    "### Evaluate the Stock and Bond Holdings by Using the Alpaca SDK\n",
    "\n",
    "In this section, you’ll determine the current value of a member’s stock and bond holdings. You’ll make an API call to Alpaca via the Alpaca SDK to get the current closing prices of the SPDR S&P 500 ETF Trust (ticker: SPY) and of the iShares Core US Aggregate Bond ETF (ticker: AGG). For the prototype, assume that the member holds 110 shares of SPY, which represents the stock portion of their portfolio, and 200 shares of AGG, which represents the bond portion. To do all this, complete the following steps:\n",
    "\n",
    "1. In the `Starter_Code` folder, create an environment file (`.env`) to store the values of your Alpaca API key and Alpaca secret key.\n",
    "\n",
    "2. Set the variables for the Alpaca API and secret keys. Using the Alpaca SDK, create the Alpaca `tradeapi.REST` object. In this object, include the parameters for the Alpaca API key, the secret key, and the version number.\n",
    "\n",
    "3. Set the following parameters for the Alpaca API call:\n",
    "\n",
    "    - `tickers`: Use the tickers for the member’s stock and bond holdings.\n",
    "\n",
    "    - `timeframe`: Use a time frame of one day.\n",
    "\n",
    "    - `start_date` and `end_date`: Use the same date for these parameters, and format them with the date of the previous weekday (or `2020-08-07`). This is because you want the one closing price for the most-recent trading day.\n",
    "\n",
    "4. Get the current closing prices for `SPY` and `AGG` by using the Alpaca `get_bars` function. Format the response as a Pandas DataFrame by including the `df` property at the end of the `get_bars` function.\n",
    "\n",
    "5. Navigating the Alpaca response DataFrame, select the `SPY` and `AGG` closing prices, and store them as variables.\n",
    "\n",
    "6. Calculate the value, in US dollars, of the current amount of shares in each of the stock and bond portions of the portfolio, and print the results.\n"
   ]
  },
  {
   "cell_type": "markdown",
   "metadata": {},
   "source": [
    "#### Review the total number of shares held in both (SPY) and (AGG)."
   ]
  },
  {
   "cell_type": "code",
   "execution_count": 13,
   "metadata": {},
   "outputs": [],
   "source": [
    "# Current amount of shares held in both the stock (SPY) and bond (AGG) portion of the portfolio.\n",
    "spy_shares = 110\n",
    "agg_shares = 200\n"
   ]
  },
  {
   "cell_type": "markdown",
   "metadata": {},
   "source": [
    "#### Step 1: In the `Starter_Code` folder, create an environment file (`.env`) to store the values of your Alpaca API key and Alpaca secret key."
   ]
  },
  {
   "cell_type": "markdown",
   "metadata": {},
   "source": [
    "#### Step 2: Set the variables for the Alpaca API and secret keys. Using the Alpaca SDK, create the Alpaca `tradeapi.REST` object. In this object, include the parameters for the Alpaca API key, the secret key, and the version number."
   ]
  },
  {
   "cell_type": "code",
   "execution_count": 14,
   "metadata": {},
   "outputs": [],
   "source": [
    "# Set the variables for the Alpaca API and secret keys\n",
    "alpaca_api_key = os.getenv('APCA_API_KEY_ID')\n",
    "alpaca_secret_key = os.getenv('APCA_API_SECRET_KEY')\n",
    "\n",
    "# Create the Alpaca tradeapi.REST object\n",
    "alpaca = tradeapi.REST(\n",
    "    alpaca_api_key,\n",
    "    alpaca_secret_key,\n",
    "    api_version='v2'\n",
    ")"
   ]
  },
  {
   "cell_type": "markdown",
   "metadata": {},
   "source": [
    "#### Step 3: Set the following parameters for the Alpaca API call:\n",
    "\n",
    "- `tickers`: Use the tickers for the member’s stock and bond holdings.\n",
    "\n",
    "- `timeframe`: Use a time frame of one day.\n",
    "\n",
    "- `start_date` and `end_date`: Use the same date for these parameters, and format them with the date of the previous weekday (or `2020-08-07`). This is because you want the one closing price for the most-recent trading day.\n"
   ]
  },
  {
   "cell_type": "code",
   "execution_count": 15,
   "metadata": {},
   "outputs": [],
   "source": [
    "# Set the tickers for both the bond and stock portion of the portfolio\n",
    "tickers = ['SPY', 'AGG']\n",
    "\n",
    "# Set timeframe to 1Day\n",
    "timeframe = '1Day'\n",
    "\n",
    "# Format current date as ISO format\n",
    "# Set both the start and end date at the date of your prior weekday \n",
    "# This will give you the closing price of the previous trading day\n",
    "# Alternatively you can use a start and end date of 2020-08-07\n",
    "start_date = pd.Timestamp('2023-12-11', tz='America/New_York').isoformat()\n",
    "end_date = pd.Timestamp('2023-12-11', tz='America/New_York').isoformat()"
   ]
  },
  {
   "cell_type": "markdown",
   "metadata": {},
   "source": [
    "#### Step 4: Get the current closing prices for `SPY` and `AGG` by using the Alpaca `get_bars` function. Format the response as a Pandas DataFrame by including the `df` property at the end of the `get_bars` function."
   ]
  },
  {
   "cell_type": "code",
   "execution_count": 16,
   "metadata": {},
   "outputs": [
    {
     "data": {
      "text/html": [
       "<div>\n",
       "<style scoped>\n",
       "    .dataframe tbody tr th:only-of-type {\n",
       "        vertical-align: middle;\n",
       "    }\n",
       "\n",
       "    .dataframe tbody tr th {\n",
       "        vertical-align: top;\n",
       "    }\n",
       "\n",
       "    .dataframe thead tr th {\n",
       "        text-align: left;\n",
       "    }\n",
       "\n",
       "    .dataframe thead tr:last-of-type th {\n",
       "        text-align: right;\n",
       "    }\n",
       "</style>\n",
       "<table border=\"1\" class=\"dataframe\">\n",
       "  <thead>\n",
       "    <tr>\n",
       "      <th></th>\n",
       "      <th colspan=\"7\" halign=\"left\">SPY</th>\n",
       "      <th colspan=\"7\" halign=\"left\">AGG</th>\n",
       "    </tr>\n",
       "    <tr>\n",
       "      <th></th>\n",
       "      <th>close</th>\n",
       "      <th>high</th>\n",
       "      <th>low</th>\n",
       "      <th>trade_count</th>\n",
       "      <th>open</th>\n",
       "      <th>volume</th>\n",
       "      <th>vwap</th>\n",
       "      <th>close</th>\n",
       "      <th>high</th>\n",
       "      <th>low</th>\n",
       "      <th>trade_count</th>\n",
       "      <th>open</th>\n",
       "      <th>volume</th>\n",
       "      <th>vwap</th>\n",
       "    </tr>\n",
       "    <tr>\n",
       "      <th>timestamp</th>\n",
       "      <th></th>\n",
       "      <th></th>\n",
       "      <th></th>\n",
       "      <th></th>\n",
       "      <th></th>\n",
       "      <th></th>\n",
       "      <th></th>\n",
       "      <th></th>\n",
       "      <th></th>\n",
       "      <th></th>\n",
       "      <th></th>\n",
       "      <th></th>\n",
       "      <th></th>\n",
       "      <th></th>\n",
       "    </tr>\n",
       "  </thead>\n",
       "  <tbody>\n",
       "    <tr>\n",
       "      <th>2023-12-11 05:00:00+00:00</th>\n",
       "      <td>461.99</td>\n",
       "      <td>462.17</td>\n",
       "      <td>459.47</td>\n",
       "      <td>460590</td>\n",
       "      <td>459.69</td>\n",
       "      <td>64934025</td>\n",
       "      <td>460.922403</td>\n",
       "      <td>96.9</td>\n",
       "      <td>96.95</td>\n",
       "      <td>96.6</td>\n",
       "      <td>40934</td>\n",
       "      <td>96.8</td>\n",
       "      <td>15008723</td>\n",
       "      <td>96.808225</td>\n",
       "    </tr>\n",
       "  </tbody>\n",
       "</table>\n",
       "</div>"
      ],
      "text/plain": [
       "                              SPY                                      \\\n",
       "                            close    high     low trade_count    open   \n",
       "timestamp                                                               \n",
       "2023-12-11 05:00:00+00:00  461.99  462.17  459.47      460590  459.69   \n",
       "\n",
       "                                                  AGG               \\\n",
       "                             volume        vwap close   high   low   \n",
       "timestamp                                                            \n",
       "2023-12-11 05:00:00+00:00  64934025  460.922403  96.9  96.95  96.6   \n",
       "\n",
       "                                                                  \n",
       "                          trade_count  open    volume       vwap  \n",
       "timestamp                                                         \n",
       "2023-12-11 05:00:00+00:00       40934  96.8  15008723  96.808225  "
      ]
     },
     "metadata": {},
     "output_type": "display_data"
    },
    {
     "data": {
      "text/html": [
       "<div>\n",
       "<style scoped>\n",
       "    .dataframe tbody tr th:only-of-type {\n",
       "        vertical-align: middle;\n",
       "    }\n",
       "\n",
       "    .dataframe tbody tr th {\n",
       "        vertical-align: top;\n",
       "    }\n",
       "\n",
       "    .dataframe thead tr th {\n",
       "        text-align: left;\n",
       "    }\n",
       "\n",
       "    .dataframe thead tr:last-of-type th {\n",
       "        text-align: right;\n",
       "    }\n",
       "</style>\n",
       "<table border=\"1\" class=\"dataframe\">\n",
       "  <thead>\n",
       "    <tr>\n",
       "      <th></th>\n",
       "      <th colspan=\"7\" halign=\"left\">SPY</th>\n",
       "      <th colspan=\"7\" halign=\"left\">AGG</th>\n",
       "    </tr>\n",
       "    <tr>\n",
       "      <th></th>\n",
       "      <th>close</th>\n",
       "      <th>high</th>\n",
       "      <th>low</th>\n",
       "      <th>trade_count</th>\n",
       "      <th>open</th>\n",
       "      <th>volume</th>\n",
       "      <th>vwap</th>\n",
       "      <th>close</th>\n",
       "      <th>high</th>\n",
       "      <th>low</th>\n",
       "      <th>trade_count</th>\n",
       "      <th>open</th>\n",
       "      <th>volume</th>\n",
       "      <th>vwap</th>\n",
       "    </tr>\n",
       "    <tr>\n",
       "      <th>timestamp</th>\n",
       "      <th></th>\n",
       "      <th></th>\n",
       "      <th></th>\n",
       "      <th></th>\n",
       "      <th></th>\n",
       "      <th></th>\n",
       "      <th></th>\n",
       "      <th></th>\n",
       "      <th></th>\n",
       "      <th></th>\n",
       "      <th></th>\n",
       "      <th></th>\n",
       "      <th></th>\n",
       "      <th></th>\n",
       "    </tr>\n",
       "  </thead>\n",
       "  <tbody>\n",
       "    <tr>\n",
       "      <th>2023-12-11 05:00:00+00:00</th>\n",
       "      <td>461.99</td>\n",
       "      <td>462.17</td>\n",
       "      <td>459.47</td>\n",
       "      <td>460590</td>\n",
       "      <td>459.69</td>\n",
       "      <td>64934025</td>\n",
       "      <td>460.922403</td>\n",
       "      <td>96.9</td>\n",
       "      <td>96.95</td>\n",
       "      <td>96.6</td>\n",
       "      <td>40934</td>\n",
       "      <td>96.8</td>\n",
       "      <td>15008723</td>\n",
       "      <td>96.808225</td>\n",
       "    </tr>\n",
       "  </tbody>\n",
       "</table>\n",
       "</div>"
      ],
      "text/plain": [
       "                              SPY                                      \\\n",
       "                            close    high     low trade_count    open   \n",
       "timestamp                                                               \n",
       "2023-12-11 05:00:00+00:00  461.99  462.17  459.47      460590  459.69   \n",
       "\n",
       "                                                  AGG               \\\n",
       "                             volume        vwap close   high   low   \n",
       "timestamp                                                            \n",
       "2023-12-11 05:00:00+00:00  64934025  460.922403  96.9  96.95  96.6   \n",
       "\n",
       "                                                                  \n",
       "                          trade_count  open    volume       vwap  \n",
       "timestamp                                                         \n",
       "2023-12-11 05:00:00+00:00       40934  96.8  15008723  96.808225  "
      ]
     },
     "metadata": {},
     "output_type": "display_data"
    }
   ],
   "source": [
    "# Use the Alpaca get_bars function to get current closing prices the portfolio\n",
    "# Be sure to set the `df` property after the function to format the response object as a DataFrame\n",
    "prices_df = alpaca.get_bars(\n",
    "    tickers, \n",
    "    timeframe,\n",
    "    start=start_date,\n",
    "    end=end_date\n",
    ").df\n",
    "\n",
    "# Reorganize the DataFrame\n",
    "# Separate ticker data\n",
    "SPY = prices_df[prices_df['symbol']=='SPY'].drop('symbol', axis=1)\n",
    "AGG = prices_df[prices_df['symbol']=='AGG'].drop('symbol', axis=1)\n",
    "\n",
    "# Concatenate the ticker DataFrames\n",
    "prices_df = pd.concat([SPY, AGG], axis=1, keys=['SPY', 'AGG'])\n",
    "\n",
    "# Review the first 5 rows of the Alpaca DataFrame\n",
    "display(prices_df.head())\n",
    "display(prices_df.tail())"
   ]
  },
  {
   "cell_type": "markdown",
   "metadata": {},
   "source": [
    "#### Step 5: Navigating the Alpaca response DataFrame, select the `SPY` and `AGG` closing prices, and store them as variables."
   ]
  },
  {
   "cell_type": "code",
   "execution_count": 17,
   "metadata": {},
   "outputs": [
    {
     "name": "stdout",
     "output_type": "stream",
     "text": [
      "The closing price for AGG is $96.90.\n"
     ]
    }
   ],
   "source": [
    "# Access the closing price for AGG from the Alpaca DataFrame\n",
    "# Converting the value to a floating point number\n",
    "agg_close_price = float(prices_df['AGG']['close'])\n",
    "\n",
    "# Print the AGG closing price\n",
    "print(f'The closing price for AGG is ${agg_close_price:.2f}.')"
   ]
  },
  {
   "cell_type": "code",
   "execution_count": 18,
   "metadata": {},
   "outputs": [
    {
     "name": "stdout",
     "output_type": "stream",
     "text": [
      "The closing price for SPY is $461.99.\n"
     ]
    }
   ],
   "source": [
    "# Access the closing price for SPY from the Alpaca DataFrame\n",
    "# Converting the value to a floating point number\n",
    "spy_close_price = float(prices_df['SPY']['close'])\n",
    "\n",
    "# Print the SPY closing price\n",
    "print(f'The closing price for SPY is ${spy_close_price:.2f}.')"
   ]
  },
  {
   "cell_type": "markdown",
   "metadata": {},
   "source": [
    "#### Step 6: Calculate the value, in US dollars, of the current amount of shares in each of the stock and bond portions of the portfolio, and print the results."
   ]
  },
  {
   "cell_type": "code",
   "execution_count": 19,
   "metadata": {},
   "outputs": [
    {
     "name": "stdout",
     "output_type": "stream",
     "text": [
      "The current value of the bond portfolio is $19380.00.\n"
     ]
    }
   ],
   "source": [
    "# Calculate the current value of the bond portion of the portfolio\n",
    "agg_value = agg_close_price * agg_shares\n",
    "\n",
    "# Print the current value of the bond portfolio\n",
    "print(f'The current value of the bond portfolio is ${agg_value:.2f}.')"
   ]
  },
  {
   "cell_type": "code",
   "execution_count": 20,
   "metadata": {},
   "outputs": [
    {
     "name": "stdout",
     "output_type": "stream",
     "text": [
      "The total value of the stock portfolio is $50818.90.\n"
     ]
    }
   ],
   "source": [
    "# Calculate the current value of the stock portion of the portfolio\n",
    "spy_value = spy_close_price * spy_shares\n",
    "\n",
    "# Print the current value of the stock portfolio\n",
    "print(f'The total value of the stock portfolio is ${spy_value:.2f}.')"
   ]
  },
  {
   "cell_type": "code",
   "execution_count": 21,
   "metadata": {},
   "outputs": [
    {
     "name": "stdout",
     "output_type": "stream",
     "text": [
      "The combined value of the stock and bond portfolio is $70198.90.\n"
     ]
    }
   ],
   "source": [
    "# Calculate the total value of the stock and bond portion of the portfolio\n",
    "total_stocks_bonds = spy_value + agg_value\n",
    "\n",
    "# Print the current balance of the stock and bond portion of the portfolio\n",
    "print(f'The combined value of the stock and bond portfolio is ${total_stocks_bonds:.2f}.')"
   ]
  },
  {
   "cell_type": "code",
   "execution_count": 22,
   "metadata": {},
   "outputs": [
    {
     "name": "stdout",
     "output_type": "stream",
     "text": [
      "The value of the entire portfolio - comprised of crytocurrencies, stocks, and bonds - is $131500.03.\n"
     ]
    }
   ],
   "source": [
    "# Calculate the total value of the member's entire savings portfolio\n",
    "# Add the value of the cryptocurrency walled to the value of the total stocks and bonds\n",
    "total_portfolio = total_stocks_bonds + total_crypto_wallet\n",
    "\n",
    "# Print current cryptocurrency wallet balance\n",
    "print(f'The value of the entire portfolio - comprised of crytocurrencies, stocks, and bonds -'\n",
    "      f' is ${total_portfolio:.2f}.')"
   ]
  },
  {
   "cell_type": "markdown",
   "metadata": {},
   "source": [
    "### Evaluate the Emergency Fund\n",
    "\n",
    "In this section, you’ll use the valuations for the cryptocurrency wallet and for the stock and bond portions of the portfolio to determine if the credit union member has enough savings to build an emergency fund into their financial plan. To do this, complete the following steps:\n",
    "\n",
    "1. Create a Python list named `savings_data` that has two elements. The first element contains the total value of the cryptocurrency wallet. The second element contains the total value of the stock and bond portions of the portfolio.\n",
    "\n",
    "2. Use the `savings_data` list to create a Pandas DataFrame named `savings_df`, and then display this DataFrame. The function to create the DataFrame should take the following three parameters:\n",
    "\n",
    "    - `savings_data`: Use the list that you just created.\n",
    "\n",
    "    - `columns`: Set this parameter equal to a Python list with a single value called `amount`.\n",
    "\n",
    "    - `index`: Set this parameter equal to a Python list with the values of `crypto` and `stock/bond`.\n",
    "\n",
    "3. Use the `savings_df` DataFrame to plot a pie chart that visualizes the composition of the member’s portfolio. The y-axis of the pie chart uses `amount`. Be sure to add a title.\n",
    "\n",
    "4. Using Python, determine if the current portfolio has enough to create an emergency fund as part of the member’s financial plan. Ideally, an emergency fund should equal to three times the member’s monthly income. To do this, implement the following steps:\n",
    "\n",
    "    1. Create a variable named `emergency_fund_value`, and set it equal to three times the value of the member’s `monthly_income` of $12000. (You set this earlier in Part 1).\n",
    "\n",
    "    2. Create a series of three if statements to determine if the member’s total portfolio is large enough to fund the emergency portfolio:\n",
    "\n",
    "        1. If the total portfolio value is greater than the emergency fund value, display a message congratulating the member for having enough money in this fund.\n",
    "\n",
    "        2. Else if the total portfolio value is equal to the emergency fund value, display a message congratulating the member on reaching this important financial goal.\n",
    "\n",
    "        3. Else the total portfolio is less than the emergency fund value, so display a message showing how many dollars away the member is from reaching the goal. (Subtract the total portfolio value from the emergency fund value.)\n"
   ]
  },
  {
   "cell_type": "markdown",
   "metadata": {},
   "source": [
    "#### Step 1: Create a Python list named `savings_data` that has two elements. The first element contains the total value of the cryptocurrency wallet. The second element contains the total value of the stock and bond portions of the portfolio."
   ]
  },
  {
   "cell_type": "code",
   "execution_count": 23,
   "metadata": {},
   "outputs": [
    {
     "data": {
      "text/plain": [
       "[61301.127, 70198.9]"
      ]
     },
     "execution_count": 23,
     "metadata": {},
     "output_type": "execute_result"
    }
   ],
   "source": [
    "# Consolidate financial assets data into a Python list\n",
    "savings_data = [total_crypto_wallet, total_stocks_bonds]\n",
    "\n",
    "# Review the Python list savings_data\n",
    "savings_data    "
   ]
  },
  {
   "cell_type": "markdown",
   "metadata": {},
   "source": [
    "#### Step 2: Use the `savings_data` list to create a Pandas DataFrame named `savings_df`, and then display this DataFrame. The function to create the DataFrame should take the following three parameters:\n",
    "\n",
    "- `savings_data`: Use the list that you just created.\n",
    "\n",
    "- `columns`: Set this parameter equal to a Python list with a single value called `amount`.\n",
    "\n",
    "- `index`: Set this parameter equal to a Python list with the values of `crypto` and `stock/bond`.\n"
   ]
  },
  {
   "cell_type": "code",
   "execution_count": 24,
   "metadata": {},
   "outputs": [
    {
     "data": {
      "text/html": [
       "<div>\n",
       "<style scoped>\n",
       "    .dataframe tbody tr th:only-of-type {\n",
       "        vertical-align: middle;\n",
       "    }\n",
       "\n",
       "    .dataframe tbody tr th {\n",
       "        vertical-align: top;\n",
       "    }\n",
       "\n",
       "    .dataframe thead th {\n",
       "        text-align: right;\n",
       "    }\n",
       "</style>\n",
       "<table border=\"1\" class=\"dataframe\">\n",
       "  <thead>\n",
       "    <tr style=\"text-align: right;\">\n",
       "      <th></th>\n",
       "      <th>Amount</th>\n",
       "    </tr>\n",
       "  </thead>\n",
       "  <tbody>\n",
       "    <tr>\n",
       "      <th>Crypto</th>\n",
       "      <td>61301.127</td>\n",
       "    </tr>\n",
       "    <tr>\n",
       "      <th>Stock/Bond</th>\n",
       "      <td>70198.900</td>\n",
       "    </tr>\n",
       "  </tbody>\n",
       "</table>\n",
       "</div>"
      ],
      "text/plain": [
       "               Amount\n",
       "Crypto      61301.127\n",
       "Stock/Bond  70198.900"
      ]
     },
     "execution_count": 24,
     "metadata": {},
     "output_type": "execute_result"
    }
   ],
   "source": [
    "# Create a Pandas DataFrame called savings_df \n",
    "savings_df = pd.DataFrame(\n",
    "    savings_data,\n",
    "    columns=['Amount'],\n",
    "    index=['Crypto', 'Stock/Bond']\n",
    ")\n",
    "\n",
    "# Display the savings_df DataFrame\n",
    "savings_df"
   ]
  },
  {
   "cell_type": "markdown",
   "metadata": {},
   "source": [
    "#### Step 3: Use the `savings_df` DataFrame to plot a pie chart that visualizes the composition of the member’s portfolio. The y-axis of the pie chart uses `amount`. Be sure to add a title."
   ]
  },
  {
   "cell_type": "code",
   "execution_count": 25,
   "metadata": {},
   "outputs": [
    {
     "data": {
      "text/plain": [
       "<AxesSubplot:title={'center':'Portfolio Pie Chart'}, ylabel='Amount'>"
      ]
     },
     "execution_count": 25,
     "metadata": {},
     "output_type": "execute_result"
    },
    {
     "data": {
      "image/png": "[encoded data removed]",
      "text/plain": [
       "<Figure size 640x480 with 1 Axes>"
      ]
     },
     "metadata": {},
     "output_type": "display_data"
    }
   ],
   "source": [
    "# Plot the total value of the member's portfolio (crypto and stock/bond) in a pie chart\n",
    "savings_df.plot.pie(y='Amount', title='Portfolio Pie Chart')"
   ]
  },
  {
   "cell_type": "markdown",
   "metadata": {},
   "source": [
    "#### Step 4: Using Python, determine if the current portfolio has enough to create an emergency fund as part of the member’s financial plan. Ideally, an emergency fund should equal to three times the member’s monthly income. To do this, implement the following steps:\n",
    "\n",
    "Step 1. Create a variable named `emergency_fund_value`, and set it equal to three times the value of the member’s `monthly_income` of 12000. (You set this earlier in Part 1).\n",
    "\n",
    "Step 2. Create a series of three if statements to determine if the member’s total portfolio is large enough to fund the emergency portfolio:\n",
    "\n",
    "* If the total portfolio value is greater than the emergency fund value, display a message congratulating the member for having enough money in this fund.\n",
    "\n",
    "* Else if the total portfolio value is equal to the emergency fund value, display a message congratulating the member on reaching this important financial goal.\n",
    "\n",
    "* Else the total portfolio is less than the emergency fund value, so display a message showing how many dollars away the member is from reaching the goal. (Subtract the total portfolio value from the emergency fund value.)\n"
   ]
  },
  {
   "cell_type": "markdown",
   "metadata": {},
   "source": [
    "##### Step 4-1: Create a variable named `emergency_fund_value`, and set it equal to three times the value of the member’s `monthly_income` of 12000. (You set this earlier in Part 1)."
   ]
  },
  {
   "cell_type": "code",
   "execution_count": 26,
   "metadata": {},
   "outputs": [
    {
     "data": {
      "text/plain": [
       "36000"
      ]
     },
     "execution_count": 26,
     "metadata": {},
     "output_type": "execute_result"
    }
   ],
   "source": [
    "# Create a variable named emergency_fund_value\n",
    "emergency_fund_value = 3 * monthly_income\n",
    "\n",
    "# Review the results\n",
    "emergency_fund_value"
   ]
  },
  {
   "cell_type": "markdown",
   "metadata": {},
   "source": [
    "##### Step 4-2: Create a series of three if statements to determine if the member’s total portfolio is large enough to fund the emergency portfolio:\n",
    "\n",
    "* If the total portfolio value is greater than the emergency fund value, display a message congratulating the member for having enough money in this fund.\n",
    "\n",
    "* Else if the total portfolio value is equal to the emergency fund value, display a message congratulating the member on reaching this important financial goal.\n",
    "\n",
    "* Else the total portfolio is less than the emergency fund value, so display a message showing how many dollars away the member is from reaching the goal. (Subtract the total portfolio value from the emergency fund value.)"
   ]
  },
  {
   "cell_type": "code",
   "execution_count": 27,
   "metadata": {},
   "outputs": [
    {
     "name": "stdout",
     "output_type": "stream",
     "text": [
      "Congratulations, you have the adequate revenue amount within this fund!\n"
     ]
    }
   ],
   "source": [
    "# Evaluate the possibility of creating an emergency fund with 3 conditions:\n",
    "if total_portfolio >= emergency_fund_value:\n",
    "    print('Congratulations, you have the adequate revenue amount within this fund!')\n",
    "elif total_portfolio == emergency_fund_value:\n",
    "    print('Congratulations, you are at a breakeven point, therefore, you have the adequate revenue amount within this fund!')\n",
    "else:\n",
    "    print(f'Unfortunately, you do not have the adequate funds at this time. You are currently ${total_portfolio:.2f - emergency_fund_value:.2f} way from your goal.')"
   ]
  },
  {
   "cell_type": "markdown",
   "metadata": {},
   "source": [
    "## Part 2: Create a Financial Planner for Retirement"
   ]
  },
  {
   "cell_type": "markdown",
   "metadata": {},
   "source": [
    "### Create the Monte Carlo Simulation\n",
    "\n",
    "In this section, you’ll use the MCForecastTools library to create a Monte Carlo simulation for the member’s savings portfolio. To do this, complete the following steps:\n",
    "\n",
    "1. Make an API call via the Alpaca SDK to get 3 years of historical closing prices for a traditional 60/40 portfolio split: 60% stocks (SPY) and 40% bonds (AGG).\n",
    "\n",
    "2. Run a Monte Carlo simulation of 500 samples and 30 years for the 60/40 portfolio, and then plot the results.The following image shows the overlay line plot resulting from a simulation with these characteristics. However, because a random number generator is used to run each live Monte Carlo simulation, your image will differ slightly from this exact image:\n",
    "\n",
    "![A screenshot depicts the resulting plot.](Images/5-4-monte-carlo-line-plot.png)\n",
    "\n",
    "3. Plot the probability distribution of the Monte Carlo simulation. Plot the probability distribution of the Monte Carlo simulation. The following image shows the histogram plot resulting from a simulation with these characteristics. However, because a random number generator is used to run each live Monte Carlo simulation, your image will differ slightly from this exact image:\n",
    "\n",
    "![A screenshot depicts the histogram plot.](Images/5-4-monte-carlo-histogram.png)\n",
    "\n",
    "4. Generate the summary statistics for the Monte Carlo simulation.\n",
    "\n"
   ]
  },
  {
   "cell_type": "markdown",
   "metadata": {},
   "source": [
    "#### Step 1: Make an API call via the Alpaca SDK to get 3 years of historical closing prices for a traditional 60/40 portfolio split: 60% stocks (SPY) and 40% bonds (AGG)."
   ]
  },
  {
   "cell_type": "code",
   "execution_count": 28,
   "metadata": {},
   "outputs": [],
   "source": [
    "# Set start and end dates of 3 years back from your current date\n",
    "# Alternatively, you can use an end date of 2020-08-07 and work 3 years back from that date \n",
    "MC_start_date = pd.Timestamp('2020-12-11', tz='America/New_York').isoformat()\n",
    "MC_end_date = pd.Timestamp('2023-12-11', tz='America/New_York').isoformat()"
   ]
  },
  {
   "cell_type": "code",
   "execution_count": 29,
   "metadata": {},
   "outputs": [
    {
     "data": {
      "text/html": [
       "<div>\n",
       "<style scoped>\n",
       "    .dataframe tbody tr th:only-of-type {\n",
       "        vertical-align: middle;\n",
       "    }\n",
       "\n",
       "    .dataframe tbody tr th {\n",
       "        vertical-align: top;\n",
       "    }\n",
       "\n",
       "    .dataframe thead tr th {\n",
       "        text-align: left;\n",
       "    }\n",
       "\n",
       "    .dataframe thead tr:last-of-type th {\n",
       "        text-align: right;\n",
       "    }\n",
       "</style>\n",
       "<table border=\"1\" class=\"dataframe\">\n",
       "  <thead>\n",
       "    <tr>\n",
       "      <th></th>\n",
       "      <th colspan=\"7\" halign=\"left\">SPY</th>\n",
       "      <th colspan=\"7\" halign=\"left\">AGG</th>\n",
       "    </tr>\n",
       "    <tr>\n",
       "      <th></th>\n",
       "      <th>close</th>\n",
       "      <th>high</th>\n",
       "      <th>low</th>\n",
       "      <th>trade_count</th>\n",
       "      <th>open</th>\n",
       "      <th>volume</th>\n",
       "      <th>vwap</th>\n",
       "      <th>close</th>\n",
       "      <th>high</th>\n",
       "      <th>low</th>\n",
       "      <th>trade_count</th>\n",
       "      <th>open</th>\n",
       "      <th>volume</th>\n",
       "      <th>vwap</th>\n",
       "    </tr>\n",
       "    <tr>\n",
       "      <th>timestamp</th>\n",
       "      <th></th>\n",
       "      <th></th>\n",
       "      <th></th>\n",
       "      <th></th>\n",
       "      <th></th>\n",
       "      <th></th>\n",
       "      <th></th>\n",
       "      <th></th>\n",
       "      <th></th>\n",
       "      <th></th>\n",
       "      <th></th>\n",
       "      <th></th>\n",
       "      <th></th>\n",
       "      <th></th>\n",
       "    </tr>\n",
       "  </thead>\n",
       "  <tbody>\n",
       "    <tr>\n",
       "      <th>2020-12-11 05:00:00+00:00</th>\n",
       "      <td>366.14</td>\n",
       "      <td>366.7402</td>\n",
       "      <td>363.2600</td>\n",
       "      <td>305545</td>\n",
       "      <td>364.90</td>\n",
       "      <td>58659075</td>\n",
       "      <td>365.476504</td>\n",
       "      <td>118.03</td>\n",
       "      <td>118.090</td>\n",
       "      <td>117.9500</td>\n",
       "      <td>26054</td>\n",
       "      <td>118.01</td>\n",
       "      <td>5755499</td>\n",
       "      <td>118.017461</td>\n",
       "    </tr>\n",
       "    <tr>\n",
       "      <th>2020-12-14 05:00:00+00:00</th>\n",
       "      <td>364.90</td>\n",
       "      <td>369.8000</td>\n",
       "      <td>364.4700</td>\n",
       "      <td>353011</td>\n",
       "      <td>368.64</td>\n",
       "      <td>70722353</td>\n",
       "      <td>366.553861</td>\n",
       "      <td>117.96</td>\n",
       "      <td>118.025</td>\n",
       "      <td>117.7969</td>\n",
       "      <td>11800</td>\n",
       "      <td>117.86</td>\n",
       "      <td>6325304</td>\n",
       "      <td>117.950273</td>\n",
       "    </tr>\n",
       "    <tr>\n",
       "      <th>2020-12-15 05:00:00+00:00</th>\n",
       "      <td>369.56</td>\n",
       "      <td>369.5900</td>\n",
       "      <td>365.9200</td>\n",
       "      <td>285594</td>\n",
       "      <td>367.40</td>\n",
       "      <td>65591667</td>\n",
       "      <td>367.880381</td>\n",
       "      <td>118.03</td>\n",
       "      <td>118.030</td>\n",
       "      <td>117.9000</td>\n",
       "      <td>16067</td>\n",
       "      <td>117.95</td>\n",
       "      <td>4647760</td>\n",
       "      <td>117.975184</td>\n",
       "    </tr>\n",
       "    <tr>\n",
       "      <th>2020-12-16 05:00:00+00:00</th>\n",
       "      <td>370.06</td>\n",
       "      <td>371.1600</td>\n",
       "      <td>368.8676</td>\n",
       "      <td>289564</td>\n",
       "      <td>369.82</td>\n",
       "      <td>59534034</td>\n",
       "      <td>369.945485</td>\n",
       "      <td>117.98</td>\n",
       "      <td>118.033</td>\n",
       "      <td>117.7610</td>\n",
       "      <td>17218</td>\n",
       "      <td>117.83</td>\n",
       "      <td>4640620</td>\n",
       "      <td>117.930225</td>\n",
       "    </tr>\n",
       "    <tr>\n",
       "      <th>2020-12-17 05:00:00+00:00</th>\n",
       "      <td>372.19</td>\n",
       "      <td>372.4600</td>\n",
       "      <td>371.0500</td>\n",
       "      <td>264948</td>\n",
       "      <td>371.94</td>\n",
       "      <td>66592842</td>\n",
       "      <td>371.612642</td>\n",
       "      <td>117.85</td>\n",
       "      <td>118.060</td>\n",
       "      <td>117.7299</td>\n",
       "      <td>24629</td>\n",
       "      <td>118.01</td>\n",
       "      <td>6989164</td>\n",
       "      <td>117.867602</td>\n",
       "    </tr>\n",
       "  </tbody>\n",
       "</table>\n",
       "</div>"
      ],
      "text/plain": [
       "                              SPY                                          \\\n",
       "                            close      high       low trade_count    open   \n",
       "timestamp                                                                   \n",
       "2020-12-11 05:00:00+00:00  366.14  366.7402  363.2600      305545  364.90   \n",
       "2020-12-14 05:00:00+00:00  364.90  369.8000  364.4700      353011  368.64   \n",
       "2020-12-15 05:00:00+00:00  369.56  369.5900  365.9200      285594  367.40   \n",
       "2020-12-16 05:00:00+00:00  370.06  371.1600  368.8676      289564  369.82   \n",
       "2020-12-17 05:00:00+00:00  372.19  372.4600  371.0500      264948  371.94   \n",
       "\n",
       "                                                    AGG                     \\\n",
       "                             volume        vwap   close     high       low   \n",
       "timestamp                                                                    \n",
       "2020-12-11 05:00:00+00:00  58659075  365.476504  118.03  118.090  117.9500   \n",
       "2020-12-14 05:00:00+00:00  70722353  366.553861  117.96  118.025  117.7969   \n",
       "2020-12-15 05:00:00+00:00  65591667  367.880381  118.03  118.030  117.9000   \n",
       "2020-12-16 05:00:00+00:00  59534034  369.945485  117.98  118.033  117.7610   \n",
       "2020-12-17 05:00:00+00:00  66592842  371.612642  117.85  118.060  117.7299   \n",
       "\n",
       "                                                                    \n",
       "                          trade_count    open   volume        vwap  \n",
       "timestamp                                                           \n",
       "2020-12-11 05:00:00+00:00       26054  118.01  5755499  118.017461  \n",
       "2020-12-14 05:00:00+00:00       11800  117.86  6325304  117.950273  \n",
       "2020-12-15 05:00:00+00:00       16067  117.95  4647760  117.975184  \n",
       "2020-12-16 05:00:00+00:00       17218  117.83  4640620  117.930225  \n",
       "2020-12-17 05:00:00+00:00       24629  118.01  6989164  117.867602  "
      ]
     },
     "metadata": {},
     "output_type": "display_data"
    },
    {
     "data": {
      "text/html": [
       "<div>\n",
       "<style scoped>\n",
       "    .dataframe tbody tr th:only-of-type {\n",
       "        vertical-align: middle;\n",
       "    }\n",
       "\n",
       "    .dataframe tbody tr th {\n",
       "        vertical-align: top;\n",
       "    }\n",
       "\n",
       "    .dataframe thead tr th {\n",
       "        text-align: left;\n",
       "    }\n",
       "\n",
       "    .dataframe thead tr:last-of-type th {\n",
       "        text-align: right;\n",
       "    }\n",
       "</style>\n",
       "<table border=\"1\" class=\"dataframe\">\n",
       "  <thead>\n",
       "    <tr>\n",
       "      <th></th>\n",
       "      <th colspan=\"7\" halign=\"left\">SPY</th>\n",
       "      <th colspan=\"7\" halign=\"left\">AGG</th>\n",
       "    </tr>\n",
       "    <tr>\n",
       "      <th></th>\n",
       "      <th>close</th>\n",
       "      <th>high</th>\n",
       "      <th>low</th>\n",
       "      <th>trade_count</th>\n",
       "      <th>open</th>\n",
       "      <th>volume</th>\n",
       "      <th>vwap</th>\n",
       "      <th>close</th>\n",
       "      <th>high</th>\n",
       "      <th>low</th>\n",
       "      <th>trade_count</th>\n",
       "      <th>open</th>\n",
       "      <th>volume</th>\n",
       "      <th>vwap</th>\n",
       "    </tr>\n",
       "    <tr>\n",
       "      <th>timestamp</th>\n",
       "      <th></th>\n",
       "      <th></th>\n",
       "      <th></th>\n",
       "      <th></th>\n",
       "      <th></th>\n",
       "      <th></th>\n",
       "      <th></th>\n",
       "      <th></th>\n",
       "      <th></th>\n",
       "      <th></th>\n",
       "      <th></th>\n",
       "      <th></th>\n",
       "      <th></th>\n",
       "      <th></th>\n",
       "    </tr>\n",
       "  </thead>\n",
       "  <tbody>\n",
       "    <tr>\n",
       "      <th>2023-12-05 05:00:00+00:00</th>\n",
       "      <td>456.60</td>\n",
       "      <td>457.590</td>\n",
       "      <td>454.87</td>\n",
       "      <td>483242</td>\n",
       "      <td>455.26</td>\n",
       "      <td>69793569</td>\n",
       "      <td>456.319673</td>\n",
       "      <td>97.10</td>\n",
       "      <td>97.145</td>\n",
       "      <td>96.7850</td>\n",
       "      <td>32726</td>\n",
       "      <td>96.85</td>\n",
       "      <td>8850641</td>\n",
       "      <td>97.045567</td>\n",
       "    </tr>\n",
       "    <tr>\n",
       "      <th>2023-12-06 05:00:00+00:00</th>\n",
       "      <td>454.76</td>\n",
       "      <td>458.840</td>\n",
       "      <td>454.31</td>\n",
       "      <td>465901</td>\n",
       "      <td>458.81</td>\n",
       "      <td>69124885</td>\n",
       "      <td>456.130868</td>\n",
       "      <td>97.35</td>\n",
       "      <td>97.490</td>\n",
       "      <td>97.1500</td>\n",
       "      <td>31593</td>\n",
       "      <td>97.24</td>\n",
       "      <td>11111225</td>\n",
       "      <td>97.379466</td>\n",
       "    </tr>\n",
       "    <tr>\n",
       "      <th>2023-12-07 05:00:00+00:00</th>\n",
       "      <td>458.23</td>\n",
       "      <td>458.900</td>\n",
       "      <td>456.29</td>\n",
       "      <td>458079</td>\n",
       "      <td>456.91</td>\n",
       "      <td>67002346</td>\n",
       "      <td>457.663703</td>\n",
       "      <td>97.38</td>\n",
       "      <td>97.560</td>\n",
       "      <td>97.2200</td>\n",
       "      <td>26731</td>\n",
       "      <td>97.22</td>\n",
       "      <td>7157947</td>\n",
       "      <td>97.396928</td>\n",
       "    </tr>\n",
       "    <tr>\n",
       "      <th>2023-12-08 05:00:00+00:00</th>\n",
       "      <td>460.20</td>\n",
       "      <td>460.745</td>\n",
       "      <td>457.21</td>\n",
       "      <td>524786</td>\n",
       "      <td>457.46</td>\n",
       "      <td>83124965</td>\n",
       "      <td>459.278999</td>\n",
       "      <td>96.89</td>\n",
       "      <td>97.065</td>\n",
       "      <td>96.7217</td>\n",
       "      <td>24997</td>\n",
       "      <td>96.99</td>\n",
       "      <td>6696783</td>\n",
       "      <td>96.893926</td>\n",
       "    </tr>\n",
       "    <tr>\n",
       "      <th>2023-12-11 05:00:00+00:00</th>\n",
       "      <td>461.99</td>\n",
       "      <td>462.170</td>\n",
       "      <td>459.47</td>\n",
       "      <td>460590</td>\n",
       "      <td>459.69</td>\n",
       "      <td>64934025</td>\n",
       "      <td>460.922403</td>\n",
       "      <td>96.90</td>\n",
       "      <td>96.950</td>\n",
       "      <td>96.6000</td>\n",
       "      <td>40934</td>\n",
       "      <td>96.80</td>\n",
       "      <td>15008723</td>\n",
       "      <td>96.808225</td>\n",
       "    </tr>\n",
       "  </tbody>\n",
       "</table>\n",
       "</div>"
      ],
      "text/plain": [
       "                              SPY                                       \\\n",
       "                            close     high     low trade_count    open   \n",
       "timestamp                                                                \n",
       "2023-12-05 05:00:00+00:00  456.60  457.590  454.87      483242  455.26   \n",
       "2023-12-06 05:00:00+00:00  454.76  458.840  454.31      465901  458.81   \n",
       "2023-12-07 05:00:00+00:00  458.23  458.900  456.29      458079  456.91   \n",
       "2023-12-08 05:00:00+00:00  460.20  460.745  457.21      524786  457.46   \n",
       "2023-12-11 05:00:00+00:00  461.99  462.170  459.47      460590  459.69   \n",
       "\n",
       "                                                   AGG                   \\\n",
       "                             volume        vwap  close    high      low   \n",
       "timestamp                                                                 \n",
       "2023-12-05 05:00:00+00:00  69793569  456.319673  97.10  97.145  96.7850   \n",
       "2023-12-06 05:00:00+00:00  69124885  456.130868  97.35  97.490  97.1500   \n",
       "2023-12-07 05:00:00+00:00  67002346  457.663703  97.38  97.560  97.2200   \n",
       "2023-12-08 05:00:00+00:00  83124965  459.278999  96.89  97.065  96.7217   \n",
       "2023-12-11 05:00:00+00:00  64934025  460.922403  96.90  96.950  96.6000   \n",
       "\n",
       "                                                                   \n",
       "                          trade_count   open    volume       vwap  \n",
       "timestamp                                                          \n",
       "2023-12-05 05:00:00+00:00       32726  96.85   8850641  97.045567  \n",
       "2023-12-06 05:00:00+00:00       31593  97.24  11111225  97.379466  \n",
       "2023-12-07 05:00:00+00:00       26731  97.22   7157947  97.396928  \n",
       "2023-12-08 05:00:00+00:00       24997  96.99   6696783  96.893926  \n",
       "2023-12-11 05:00:00+00:00       40934  96.80  15008723  96.808225  "
      ]
     },
     "metadata": {},
     "output_type": "display_data"
    }
   ],
   "source": [
    "# Use the Alpaca get_bars function to make the API call to get the 3 years worth of pricing data\n",
    "# The tickers and timeframe parameters should have been set in Part 1 of this activity \n",
    "# The start and end dates should be updated with the information set above\n",
    "# Remember to add the df property to the end of the call so the response is returned as a DataFrame\n",
    "MC_df = alpaca.get_bars(\n",
    "    tickers,\n",
    "    timeframe,\n",
    "    start=MC_start_date,\n",
    "    end=MC_end_date\n",
    ").df\n",
    "\n",
    "# Reorganize the DataFrame\n",
    "# Separate ticker data\n",
    "SPY = MC_df[MC_df['symbol']=='SPY'].drop('symbol', axis=1)\n",
    "AGG = MC_df[MC_df['symbol']=='AGG'].drop('symbol', axis=1)\n",
    "\n",
    "# Concatenate the ticker DataFrames\n",
    "MC_df = pd.concat([SPY, AGG], axis=1, keys=['SPY', 'AGG'])\n",
    "\n",
    "\n",
    "# Display both the first and last five rows of the DataFrame\n",
    "display(MC_df.head())\n",
    "display(MC_df.tail())"
   ]
  },
  {
   "cell_type": "markdown",
   "metadata": {},
   "source": [
    "#### Step 2: Run a Monte Carlo simulation of 500 samples and 30 years for the 60/40 portfolio, and then plot the results."
   ]
  },
  {
   "cell_type": "code",
   "execution_count": 30,
   "metadata": {},
   "outputs": [
    {
     "data": {
      "text/html": [
       "<div>\n",
       "<style scoped>\n",
       "    .dataframe tbody tr th:only-of-type {\n",
       "        vertical-align: middle;\n",
       "    }\n",
       "\n",
       "    .dataframe tbody tr th {\n",
       "        vertical-align: top;\n",
       "    }\n",
       "\n",
       "    .dataframe thead tr th {\n",
       "        text-align: left;\n",
       "    }\n",
       "\n",
       "    .dataframe thead tr:last-of-type th {\n",
       "        text-align: right;\n",
       "    }\n",
       "</style>\n",
       "<table border=\"1\" class=\"dataframe\">\n",
       "  <thead>\n",
       "    <tr>\n",
       "      <th></th>\n",
       "      <th colspan=\"8\" halign=\"left\">SPY</th>\n",
       "      <th colspan=\"8\" halign=\"left\">AGG</th>\n",
       "    </tr>\n",
       "    <tr>\n",
       "      <th></th>\n",
       "      <th>close</th>\n",
       "      <th>high</th>\n",
       "      <th>low</th>\n",
       "      <th>trade_count</th>\n",
       "      <th>open</th>\n",
       "      <th>volume</th>\n",
       "      <th>vwap</th>\n",
       "      <th>daily_return</th>\n",
       "      <th>close</th>\n",
       "      <th>high</th>\n",
       "      <th>low</th>\n",
       "      <th>trade_count</th>\n",
       "      <th>open</th>\n",
       "      <th>volume</th>\n",
       "      <th>vwap</th>\n",
       "      <th>daily_return</th>\n",
       "    </tr>\n",
       "    <tr>\n",
       "      <th>timestamp</th>\n",
       "      <th></th>\n",
       "      <th></th>\n",
       "      <th></th>\n",
       "      <th></th>\n",
       "      <th></th>\n",
       "      <th></th>\n",
       "      <th></th>\n",
       "      <th></th>\n",
       "      <th></th>\n",
       "      <th></th>\n",
       "      <th></th>\n",
       "      <th></th>\n",
       "      <th></th>\n",
       "      <th></th>\n",
       "      <th></th>\n",
       "      <th></th>\n",
       "    </tr>\n",
       "  </thead>\n",
       "  <tbody>\n",
       "    <tr>\n",
       "      <th>2020-12-11 05:00:00+00:00</th>\n",
       "      <td>366.14</td>\n",
       "      <td>366.7402</td>\n",
       "      <td>363.2600</td>\n",
       "      <td>305545</td>\n",
       "      <td>364.90</td>\n",
       "      <td>58659075</td>\n",
       "      <td>365.476504</td>\n",
       "      <td>NaN</td>\n",
       "      <td>118.03</td>\n",
       "      <td>118.090</td>\n",
       "      <td>117.9500</td>\n",
       "      <td>26054</td>\n",
       "      <td>118.01</td>\n",
       "      <td>5755499</td>\n",
       "      <td>118.017461</td>\n",
       "      <td>NaN</td>\n",
       "    </tr>\n",
       "    <tr>\n",
       "      <th>2020-12-14 05:00:00+00:00</th>\n",
       "      <td>364.90</td>\n",
       "      <td>369.8000</td>\n",
       "      <td>364.4700</td>\n",
       "      <td>353011</td>\n",
       "      <td>368.64</td>\n",
       "      <td>70722353</td>\n",
       "      <td>366.553861</td>\n",
       "      <td>-0.003387</td>\n",
       "      <td>117.96</td>\n",
       "      <td>118.025</td>\n",
       "      <td>117.7969</td>\n",
       "      <td>11800</td>\n",
       "      <td>117.86</td>\n",
       "      <td>6325304</td>\n",
       "      <td>117.950273</td>\n",
       "      <td>-0.000593</td>\n",
       "    </tr>\n",
       "    <tr>\n",
       "      <th>2020-12-15 05:00:00+00:00</th>\n",
       "      <td>369.56</td>\n",
       "      <td>369.5900</td>\n",
       "      <td>365.9200</td>\n",
       "      <td>285594</td>\n",
       "      <td>367.40</td>\n",
       "      <td>65591667</td>\n",
       "      <td>367.880381</td>\n",
       "      <td>0.012771</td>\n",
       "      <td>118.03</td>\n",
       "      <td>118.030</td>\n",
       "      <td>117.9000</td>\n",
       "      <td>16067</td>\n",
       "      <td>117.95</td>\n",
       "      <td>4647760</td>\n",
       "      <td>117.975184</td>\n",
       "      <td>0.000593</td>\n",
       "    </tr>\n",
       "    <tr>\n",
       "      <th>2020-12-16 05:00:00+00:00</th>\n",
       "      <td>370.06</td>\n",
       "      <td>371.1600</td>\n",
       "      <td>368.8676</td>\n",
       "      <td>289564</td>\n",
       "      <td>369.82</td>\n",
       "      <td>59534034</td>\n",
       "      <td>369.945485</td>\n",
       "      <td>0.001353</td>\n",
       "      <td>117.98</td>\n",
       "      <td>118.033</td>\n",
       "      <td>117.7610</td>\n",
       "      <td>17218</td>\n",
       "      <td>117.83</td>\n",
       "      <td>4640620</td>\n",
       "      <td>117.930225</td>\n",
       "      <td>-0.000424</td>\n",
       "    </tr>\n",
       "    <tr>\n",
       "      <th>2020-12-17 05:00:00+00:00</th>\n",
       "      <td>372.19</td>\n",
       "      <td>372.4600</td>\n",
       "      <td>371.0500</td>\n",
       "      <td>264948</td>\n",
       "      <td>371.94</td>\n",
       "      <td>66592842</td>\n",
       "      <td>371.612642</td>\n",
       "      <td>0.005756</td>\n",
       "      <td>117.85</td>\n",
       "      <td>118.060</td>\n",
       "      <td>117.7299</td>\n",
       "      <td>24629</td>\n",
       "      <td>118.01</td>\n",
       "      <td>6989164</td>\n",
       "      <td>117.867602</td>\n",
       "      <td>-0.001102</td>\n",
       "    </tr>\n",
       "  </tbody>\n",
       "</table>\n",
       "</div>"
      ],
      "text/plain": [
       "                              SPY                                          \\\n",
       "                            close      high       low trade_count    open   \n",
       "timestamp                                                                   \n",
       "2020-12-11 05:00:00+00:00  366.14  366.7402  363.2600      305545  364.90   \n",
       "2020-12-14 05:00:00+00:00  364.90  369.8000  364.4700      353011  368.64   \n",
       "2020-12-15 05:00:00+00:00  369.56  369.5900  365.9200      285594  367.40   \n",
       "2020-12-16 05:00:00+00:00  370.06  371.1600  368.8676      289564  369.82   \n",
       "2020-12-17 05:00:00+00:00  372.19  372.4600  371.0500      264948  371.94   \n",
       "\n",
       "                                                                 AGG           \\\n",
       "                             volume        vwap daily_return   close     high   \n",
       "timestamp                                                                       \n",
       "2020-12-11 05:00:00+00:00  58659075  365.476504          NaN  118.03  118.090   \n",
       "2020-12-14 05:00:00+00:00  70722353  366.553861    -0.003387  117.96  118.025   \n",
       "2020-12-15 05:00:00+00:00  65591667  367.880381     0.012771  118.03  118.030   \n",
       "2020-12-16 05:00:00+00:00  59534034  369.945485     0.001353  117.98  118.033   \n",
       "2020-12-17 05:00:00+00:00  66592842  371.612642     0.005756  117.85  118.060   \n",
       "\n",
       "                                                                              \\\n",
       "                                low trade_count    open   volume        vwap   \n",
       "timestamp                                                                      \n",
       "2020-12-11 05:00:00+00:00  117.9500       26054  118.01  5755499  118.017461   \n",
       "2020-12-14 05:00:00+00:00  117.7969       11800  117.86  6325304  117.950273   \n",
       "2020-12-15 05:00:00+00:00  117.9000       16067  117.95  4647760  117.975184   \n",
       "2020-12-16 05:00:00+00:00  117.7610       17218  117.83  4640620  117.930225   \n",
       "2020-12-17 05:00:00+00:00  117.7299       24629  118.01  6989164  117.867602   \n",
       "\n",
       "                                        \n",
       "                          daily_return  \n",
       "timestamp                               \n",
       "2020-12-11 05:00:00+00:00          NaN  \n",
       "2020-12-14 05:00:00+00:00    -0.000593  \n",
       "2020-12-15 05:00:00+00:00     0.000593  \n",
       "2020-12-16 05:00:00+00:00    -0.000424  \n",
       "2020-12-17 05:00:00+00:00    -0.001102  "
      ]
     },
     "metadata": {},
     "output_type": "display_data"
    },
    {
     "data": {
      "text/html": [
       "<div>\n",
       "<style scoped>\n",
       "    .dataframe tbody tr th:only-of-type {\n",
       "        vertical-align: middle;\n",
       "    }\n",
       "\n",
       "    .dataframe tbody tr th {\n",
       "        vertical-align: top;\n",
       "    }\n",
       "\n",
       "    .dataframe thead tr th {\n",
       "        text-align: left;\n",
       "    }\n",
       "\n",
       "    .dataframe thead tr:last-of-type th {\n",
       "        text-align: right;\n",
       "    }\n",
       "</style>\n",
       "<table border=\"1\" class=\"dataframe\">\n",
       "  <thead>\n",
       "    <tr>\n",
       "      <th></th>\n",
       "      <th colspan=\"8\" halign=\"left\">SPY</th>\n",
       "      <th colspan=\"8\" halign=\"left\">AGG</th>\n",
       "    </tr>\n",
       "    <tr>\n",
       "      <th></th>\n",
       "      <th>close</th>\n",
       "      <th>high</th>\n",
       "      <th>low</th>\n",
       "      <th>trade_count</th>\n",
       "      <th>open</th>\n",
       "      <th>volume</th>\n",
       "      <th>vwap</th>\n",
       "      <th>daily_return</th>\n",
       "      <th>close</th>\n",
       "      <th>high</th>\n",
       "      <th>low</th>\n",
       "      <th>trade_count</th>\n",
       "      <th>open</th>\n",
       "      <th>volume</th>\n",
       "      <th>vwap</th>\n",
       "      <th>daily_return</th>\n",
       "    </tr>\n",
       "    <tr>\n",
       "      <th>timestamp</th>\n",
       "      <th></th>\n",
       "      <th></th>\n",
       "      <th></th>\n",
       "      <th></th>\n",
       "      <th></th>\n",
       "      <th></th>\n",
       "      <th></th>\n",
       "      <th></th>\n",
       "      <th></th>\n",
       "      <th></th>\n",
       "      <th></th>\n",
       "      <th></th>\n",
       "      <th></th>\n",
       "      <th></th>\n",
       "      <th></th>\n",
       "      <th></th>\n",
       "    </tr>\n",
       "  </thead>\n",
       "  <tbody>\n",
       "    <tr>\n",
       "      <th>2023-12-05 05:00:00+00:00</th>\n",
       "      <td>456.60</td>\n",
       "      <td>457.590</td>\n",
       "      <td>454.87</td>\n",
       "      <td>483242</td>\n",
       "      <td>455.26</td>\n",
       "      <td>69793569</td>\n",
       "      <td>456.319673</td>\n",
       "      <td>-0.000197</td>\n",
       "      <td>97.10</td>\n",
       "      <td>97.145</td>\n",
       "      <td>96.7850</td>\n",
       "      <td>32726</td>\n",
       "      <td>96.85</td>\n",
       "      <td>8850641</td>\n",
       "      <td>97.045567</td>\n",
       "      <td>0.006635</td>\n",
       "    </tr>\n",
       "    <tr>\n",
       "      <th>2023-12-06 05:00:00+00:00</th>\n",
       "      <td>454.76</td>\n",
       "      <td>458.840</td>\n",
       "      <td>454.31</td>\n",
       "      <td>465901</td>\n",
       "      <td>458.81</td>\n",
       "      <td>69124885</td>\n",
       "      <td>456.130868</td>\n",
       "      <td>-0.004030</td>\n",
       "      <td>97.35</td>\n",
       "      <td>97.490</td>\n",
       "      <td>97.1500</td>\n",
       "      <td>31593</td>\n",
       "      <td>97.24</td>\n",
       "      <td>11111225</td>\n",
       "      <td>97.379466</td>\n",
       "      <td>0.002575</td>\n",
       "    </tr>\n",
       "    <tr>\n",
       "      <th>2023-12-07 05:00:00+00:00</th>\n",
       "      <td>458.23</td>\n",
       "      <td>458.900</td>\n",
       "      <td>456.29</td>\n",
       "      <td>458079</td>\n",
       "      <td>456.91</td>\n",
       "      <td>67002346</td>\n",
       "      <td>457.663703</td>\n",
       "      <td>0.007630</td>\n",
       "      <td>97.38</td>\n",
       "      <td>97.560</td>\n",
       "      <td>97.2200</td>\n",
       "      <td>26731</td>\n",
       "      <td>97.22</td>\n",
       "      <td>7157947</td>\n",
       "      <td>97.396928</td>\n",
       "      <td>0.000308</td>\n",
       "    </tr>\n",
       "    <tr>\n",
       "      <th>2023-12-08 05:00:00+00:00</th>\n",
       "      <td>460.20</td>\n",
       "      <td>460.745</td>\n",
       "      <td>457.21</td>\n",
       "      <td>524786</td>\n",
       "      <td>457.46</td>\n",
       "      <td>83124965</td>\n",
       "      <td>459.278999</td>\n",
       "      <td>0.004299</td>\n",
       "      <td>96.89</td>\n",
       "      <td>97.065</td>\n",
       "      <td>96.7217</td>\n",
       "      <td>24997</td>\n",
       "      <td>96.99</td>\n",
       "      <td>6696783</td>\n",
       "      <td>96.893926</td>\n",
       "      <td>-0.005032</td>\n",
       "    </tr>\n",
       "    <tr>\n",
       "      <th>2023-12-11 05:00:00+00:00</th>\n",
       "      <td>461.99</td>\n",
       "      <td>462.170</td>\n",
       "      <td>459.47</td>\n",
       "      <td>460590</td>\n",
       "      <td>459.69</td>\n",
       "      <td>64934025</td>\n",
       "      <td>460.922403</td>\n",
       "      <td>0.003890</td>\n",
       "      <td>96.90</td>\n",
       "      <td>96.950</td>\n",
       "      <td>96.6000</td>\n",
       "      <td>40934</td>\n",
       "      <td>96.80</td>\n",
       "      <td>15008723</td>\n",
       "      <td>96.808225</td>\n",
       "      <td>0.000103</td>\n",
       "    </tr>\n",
       "  </tbody>\n",
       "</table>\n",
       "</div>"
      ],
      "text/plain": [
       "                              SPY                                       \\\n",
       "                            close     high     low trade_count    open   \n",
       "timestamp                                                                \n",
       "2023-12-05 05:00:00+00:00  456.60  457.590  454.87      483242  455.26   \n",
       "2023-12-06 05:00:00+00:00  454.76  458.840  454.31      465901  458.81   \n",
       "2023-12-07 05:00:00+00:00  458.23  458.900  456.29      458079  456.91   \n",
       "2023-12-08 05:00:00+00:00  460.20  460.745  457.21      524786  457.46   \n",
       "2023-12-11 05:00:00+00:00  461.99  462.170  459.47      460590  459.69   \n",
       "\n",
       "                                                                AGG          \\\n",
       "                             volume        vwap daily_return  close    high   \n",
       "timestamp                                                                     \n",
       "2023-12-05 05:00:00+00:00  69793569  456.319673    -0.000197  97.10  97.145   \n",
       "2023-12-06 05:00:00+00:00  69124885  456.130868    -0.004030  97.35  97.490   \n",
       "2023-12-07 05:00:00+00:00  67002346  457.663703     0.007630  97.38  97.560   \n",
       "2023-12-08 05:00:00+00:00  83124965  459.278999     0.004299  96.89  97.065   \n",
       "2023-12-11 05:00:00+00:00  64934025  460.922403     0.003890  96.90  96.950   \n",
       "\n",
       "                                                                            \\\n",
       "                               low trade_count   open    volume       vwap   \n",
       "timestamp                                                                    \n",
       "2023-12-05 05:00:00+00:00  96.7850       32726  96.85   8850641  97.045567   \n",
       "2023-12-06 05:00:00+00:00  97.1500       31593  97.24  11111225  97.379466   \n",
       "2023-12-07 05:00:00+00:00  97.2200       26731  97.22   7157947  97.396928   \n",
       "2023-12-08 05:00:00+00:00  96.7217       24997  96.99   6696783  96.893926   \n",
       "2023-12-11 05:00:00+00:00  96.6000       40934  96.80  15008723  96.808225   \n",
       "\n",
       "                                        \n",
       "                          daily_return  \n",
       "timestamp                               \n",
       "2023-12-05 05:00:00+00:00     0.006635  \n",
       "2023-12-06 05:00:00+00:00     0.002575  \n",
       "2023-12-07 05:00:00+00:00     0.000308  \n",
       "2023-12-08 05:00:00+00:00    -0.005032  \n",
       "2023-12-11 05:00:00+00:00     0.000103  "
      ]
     },
     "metadata": {},
     "output_type": "display_data"
    }
   ],
   "source": [
    "# Configure the Monte Carlo simulation to forecast 30 years cumulative returns\n",
    "# The weights should be split 40% to AGG and 60% to SPY.\n",
    "# Run 500 samples.\n",
    "MC_30_df = MCSimulation(\n",
    "    portfolio_data=MC_df,\n",
    "    weights=[.6, .4],\n",
    "    num_simulation=500,\n",
    "    num_trading_days=252*30\n",
    ")\n",
    "\n",
    "# Review the simulation input data\n",
    "display(MC_30_df.portfolio_data.head())\n",
    "display(MC_30_df.portfolio_data.tail())"
   ]
  },
  {
   "cell_type": "code",
   "execution_count": 31,
   "metadata": {},
   "outputs": [
    {
     "name": "stdout",
     "output_type": "stream",
     "text": [
      "Running Monte Carlo simulation number 0.\n",
      "Running Monte Carlo simulation number 10.\n",
      "Running Monte Carlo simulation number 20.\n",
      "Running Monte Carlo simulation number 30.\n",
      "Running Monte Carlo simulation number 40.\n",
      "Running Monte Carlo simulation number 50.\n",
      "Running Monte Carlo simulation number 60.\n",
      "Running Monte Carlo simulation number 70.\n",
      "Running Monte Carlo simulation number 80.\n",
      "Running Monte Carlo simulation number 90.\n",
      "Running Monte Carlo simulation number 100.\n"
     ]
    },
    {
     "name": "stderr",
     "output_type": "stream",
     "text": [
      "C:\\Users\\legar\\Desktop\\COMPUTER_SCIENCE\\05_FINANCIAL_SIMULATIONS_APIS\\PORTFOLIO_SIM_PROJECT\\MCForecastTools.py:117: PerformanceWarning: DataFrame is highly fragmented.  This is usually the result of calling `frame.insert` many times, which has poor performance.  Consider joining all columns at once using pd.concat(axis=1) instead. To get a de-fragmented frame, use `newframe = frame.copy()`\n",
      "  portfolio_cumulative_returns[n] = (1 + sim_df.fillna(0)).cumprod()\n",
      "C:\\Users\\legar\\Desktop\\COMPUTER_SCIENCE\\05_FINANCIAL_SIMULATIONS_APIS\\PORTFOLIO_SIM_PROJECT\\MCForecastTools.py:117: PerformanceWarning: DataFrame is highly fragmented.  This is usually the result of calling `frame.insert` many times, which has poor performance.  Consider joining all columns at once using pd.concat(axis=1) instead. To get a de-fragmented frame, use `newframe = frame.copy()`\n",
      "  portfolio_cumulative_returns[n] = (1 + sim_df.fillna(0)).cumprod()\n",
      "C:\\Users\\legar\\Desktop\\COMPUTER_SCIENCE\\05_FINANCIAL_SIMULATIONS_APIS\\PORTFOLIO_SIM_PROJECT\\MCForecastTools.py:117: PerformanceWarning: DataFrame is highly fragmented.  This is usually the result of calling `frame.insert` many times, which has poor performance.  Consider joining all columns at once using pd.concat(axis=1) instead. To get a de-fragmented frame, use `newframe = frame.copy()`\n",
      "  portfolio_cumulative_returns[n] = (1 + sim_df.fillna(0)).cumprod()\n",
      "C:\\Users\\legar\\Desktop\\COMPUTER_SCIENCE\\05_FINANCIAL_SIMULATIONS_APIS\\PORTFOLIO_SIM_PROJECT\\MCForecastTools.py:117: PerformanceWarning: DataFrame is highly fragmented.  This is usually the result of calling `frame.insert` many times, which has poor performance.  Consider joining all columns at once using pd.concat(axis=1) instead. To get a de-fragmented frame, use `newframe = frame.copy()`\n",
      "  portfolio_cumulative_returns[n] = (1 + sim_df.fillna(0)).cumprod()\n",
      "C:\\Users\\legar\\Desktop\\COMPUTER_SCIENCE\\05_FINANCIAL_SIMULATIONS_APIS\\PORTFOLIO_SIM_PROJECT\\MCForecastTools.py:117: PerformanceWarning: DataFrame is highly fragmented.  This is usually the result of calling `frame.insert` many times, which has poor performance.  Consider joining all columns at once using pd.concat(axis=1) instead. To get a de-fragmented frame, use `newframe = frame.copy()`\n",
      "  portfolio_cumulative_returns[n] = (1 + sim_df.fillna(0)).cumprod()\n",
      "C:\\Users\\legar\\Desktop\\COMPUTER_SCIENCE\\05_FINANCIAL_SIMULATIONS_APIS\\PORTFOLIO_SIM_PROJECT\\MCForecastTools.py:117: PerformanceWarning: DataFrame is highly fragmented.  This is usually the result of calling `frame.insert` many times, which has poor performance.  Consider joining all columns at once using pd.concat(axis=1) instead. To get a de-fragmented frame, use `newframe = frame.copy()`\n",
      "  portfolio_cumulative_returns[n] = (1 + sim_df.fillna(0)).cumprod()\n",
      "C:\\Users\\legar\\Desktop\\COMPUTER_SCIENCE\\05_FINANCIAL_SIMULATIONS_APIS\\PORTFOLIO_SIM_PROJECT\\MCForecastTools.py:117: PerformanceWarning: DataFrame is highly fragmented.  This is usually the result of calling `frame.insert` many times, which has poor performance.  Consider joining all columns at once using pd.concat(axis=1) instead. To get a de-fragmented frame, use `newframe = frame.copy()`\n",
      "  portfolio_cumulative_returns[n] = (1 + sim_df.fillna(0)).cumprod()\n",
      "C:\\Users\\legar\\Desktop\\COMPUTER_SCIENCE\\05_FINANCIAL_SIMULATIONS_APIS\\PORTFOLIO_SIM_PROJECT\\MCForecastTools.py:117: PerformanceWarning: DataFrame is highly fragmented.  This is usually the result of calling `frame.insert` many times, which has poor performance.  Consider joining all columns at once using pd.concat(axis=1) instead. To get a de-fragmented frame, use `newframe = frame.copy()`\n",
      "  portfolio_cumulative_returns[n] = (1 + sim_df.fillna(0)).cumprod()\n",
      "C:\\Users\\legar\\Desktop\\COMPUTER_SCIENCE\\05_FINANCIAL_SIMULATIONS_APIS\\PORTFOLIO_SIM_PROJECT\\MCForecastTools.py:117: PerformanceWarning: DataFrame is highly fragmented.  This is usually the result of calling `frame.insert` many times, which has poor performance.  Consider joining all columns at once using pd.concat(axis=1) instead. To get a de-fragmented frame, use `newframe = frame.copy()`\n",
      "  portfolio_cumulative_returns[n] = (1 + sim_df.fillna(0)).cumprod()\n",
      "C:\\Users\\legar\\Desktop\\COMPUTER_SCIENCE\\05_FINANCIAL_SIMULATIONS_APIS\\PORTFOLIO_SIM_PROJECT\\MCForecastTools.py:117: PerformanceWarning: DataFrame is highly fragmented.  This is usually the result of calling `frame.insert` many times, which has poor performance.  Consider joining all columns at once using pd.concat(axis=1) instead. To get a de-fragmented frame, use `newframe = frame.copy()`\n",
      "  portfolio_cumulative_returns[n] = (1 + sim_df.fillna(0)).cumprod()\n",
      "C:\\Users\\legar\\Desktop\\COMPUTER_SCIENCE\\05_FINANCIAL_SIMULATIONS_APIS\\PORTFOLIO_SIM_PROJECT\\MCForecastTools.py:117: PerformanceWarning: DataFrame is highly fragmented.  This is usually the result of calling `frame.insert` many times, which has poor performance.  Consider joining all columns at once using pd.concat(axis=1) instead. To get a de-fragmented frame, use `newframe = frame.copy()`\n",
      "  portfolio_cumulative_returns[n] = (1 + sim_df.fillna(0)).cumprod()\n"
     ]
    },
    {
     "name": "stdout",
     "output_type": "stream",
     "text": [
      "Running Monte Carlo simulation number 110.\n"
     ]
    },
    {
     "name": "stderr",
     "output_type": "stream",
     "text": [
      "C:\\Users\\legar\\Desktop\\COMPUTER_SCIENCE\\05_FINANCIAL_SIMULATIONS_APIS\\PORTFOLIO_SIM_PROJECT\\MCForecastTools.py:117: PerformanceWarning: DataFrame is highly fragmented.  This is usually the result of calling `frame.insert` many times, which has poor performance.  Consider joining all columns at once using pd.concat(axis=1) instead. To get a de-fragmented frame, use `newframe = frame.copy()`\n",
      "  portfolio_cumulative_returns[n] = (1 + sim_df.fillna(0)).cumprod()\n",
      "C:\\Users\\legar\\Desktop\\COMPUTER_SCIENCE\\05_FINANCIAL_SIMULATIONS_APIS\\PORTFOLIO_SIM_PROJECT\\MCForecastTools.py:117: PerformanceWarning: DataFrame is highly fragmented.  This is usually the result of calling `frame.insert` many times, which has poor performance.  Consider joining all columns at once using pd.concat(axis=1) instead. To get a de-fragmented frame, use `newframe = frame.copy()`\n",
      "  portfolio_cumulative_returns[n] = (1 + sim_df.fillna(0)).cumprod()\n",
      "C:\\Users\\legar\\Desktop\\COMPUTER_SCIENCE\\05_FINANCIAL_SIMULATIONS_APIS\\PORTFOLIO_SIM_PROJECT\\MCForecastTools.py:117: PerformanceWarning: DataFrame is highly fragmented.  This is usually the result of calling `frame.insert` many times, which has poor performance.  Consider joining all columns at once using pd.concat(axis=1) instead. To get a de-fragmented frame, use `newframe = frame.copy()`\n",
      "  portfolio_cumulative_returns[n] = (1 + sim_df.fillna(0)).cumprod()\n",
      "C:\\Users\\legar\\Desktop\\COMPUTER_SCIENCE\\05_FINANCIAL_SIMULATIONS_APIS\\PORTFOLIO_SIM_PROJECT\\MCForecastTools.py:117: PerformanceWarning: DataFrame is highly fragmented.  This is usually the result of calling `frame.insert` many times, which has poor performance.  Consider joining all columns at once using pd.concat(axis=1) instead. To get a de-fragmented frame, use `newframe = frame.copy()`\n",
      "  portfolio_cumulative_returns[n] = (1 + sim_df.fillna(0)).cumprod()\n",
      "C:\\Users\\legar\\Desktop\\COMPUTER_SCIENCE\\05_FINANCIAL_SIMULATIONS_APIS\\PORTFOLIO_SIM_PROJECT\\MCForecastTools.py:117: PerformanceWarning: DataFrame is highly fragmented.  This is usually the result of calling `frame.insert` many times, which has poor performance.  Consider joining all columns at once using pd.concat(axis=1) instead. To get a de-fragmented frame, use `newframe = frame.copy()`\n",
      "  portfolio_cumulative_returns[n] = (1 + sim_df.fillna(0)).cumprod()\n",
      "C:\\Users\\legar\\Desktop\\COMPUTER_SCIENCE\\05_FINANCIAL_SIMULATIONS_APIS\\PORTFOLIO_SIM_PROJECT\\MCForecastTools.py:117: PerformanceWarning: DataFrame is highly fragmented.  This is usually the result of calling `frame.insert` many times, which has poor performance.  Consider joining all columns at once using pd.concat(axis=1) instead. To get a de-fragmented frame, use `newframe = frame.copy()`\n",
      "  portfolio_cumulative_returns[n] = (1 + sim_df.fillna(0)).cumprod()\n",
      "C:\\Users\\legar\\Desktop\\COMPUTER_SCIENCE\\05_FINANCIAL_SIMULATIONS_APIS\\PORTFOLIO_SIM_PROJECT\\MCForecastTools.py:117: PerformanceWarning: DataFrame is highly fragmented.  This is usually the result of calling `frame.insert` many times, which has poor performance.  Consider joining all columns at once using pd.concat(axis=1) instead. To get a de-fragmented frame, use `newframe = frame.copy()`\n",
      "  portfolio_cumulative_returns[n] = (1 + sim_df.fillna(0)).cumprod()\n",
      "C:\\Users\\legar\\Desktop\\COMPUTER_SCIENCE\\05_FINANCIAL_SIMULATIONS_APIS\\PORTFOLIO_SIM_PROJECT\\MCForecastTools.py:117: PerformanceWarning: DataFrame is highly fragmented.  This is usually the result of calling `frame.insert` many times, which has poor performance.  Consider joining all columns at once using pd.concat(axis=1) instead. To get a de-fragmented frame, use `newframe = frame.copy()`\n",
      "  portfolio_cumulative_returns[n] = (1 + sim_df.fillna(0)).cumprod()\n",
      "C:\\Users\\legar\\Desktop\\COMPUTER_SCIENCE\\05_FINANCIAL_SIMULATIONS_APIS\\PORTFOLIO_SIM_PROJECT\\MCForecastTools.py:117: PerformanceWarning: DataFrame is highly fragmented.  This is usually the result of calling `frame.insert` many times, which has poor performance.  Consider joining all columns at once using pd.concat(axis=1) instead. To get a de-fragmented frame, use `newframe = frame.copy()`\n",
      "  portfolio_cumulative_returns[n] = (1 + sim_df.fillna(0)).cumprod()\n",
      "C:\\Users\\legar\\Desktop\\COMPUTER_SCIENCE\\05_FINANCIAL_SIMULATIONS_APIS\\PORTFOLIO_SIM_PROJECT\\MCForecastTools.py:117: PerformanceWarning: DataFrame is highly fragmented.  This is usually the result of calling `frame.insert` many times, which has poor performance.  Consider joining all columns at once using pd.concat(axis=1) instead. To get a de-fragmented frame, use `newframe = frame.copy()`\n",
      "  portfolio_cumulative_returns[n] = (1 + sim_df.fillna(0)).cumprod()\n"
     ]
    },
    {
     "name": "stdout",
     "output_type": "stream",
     "text": [
      "Running Monte Carlo simulation number 120.\n"
     ]
    },
    {
     "name": "stderr",
     "output_type": "stream",
     "text": [
      "C:\\Users\\legar\\Desktop\\COMPUTER_SCIENCE\\05_FINANCIAL_SIMULATIONS_APIS\\PORTFOLIO_SIM_PROJECT\\MCForecastTools.py:117: PerformanceWarning: DataFrame is highly fragmented.  This is usually the result of calling `frame.insert` many times, which has poor performance.  Consider joining all columns at once using pd.concat(axis=1) instead. To get a de-fragmented frame, use `newframe = frame.copy()`\n",
      "  portfolio_cumulative_returns[n] = (1 + sim_df.fillna(0)).cumprod()\n",
      "C:\\Users\\legar\\Desktop\\COMPUTER_SCIENCE\\05_FINANCIAL_SIMULATIONS_APIS\\PORTFOLIO_SIM_PROJECT\\MCForecastTools.py:117: PerformanceWarning: DataFrame is highly fragmented.  This is usually the result of calling `frame.insert` many times, which has poor performance.  Consider joining all columns at once using pd.concat(axis=1) instead. To get a de-fragmented frame, use `newframe = frame.copy()`\n",
      "  portfolio_cumulative_returns[n] = (1 + sim_df.fillna(0)).cumprod()\n",
      "C:\\Users\\legar\\Desktop\\COMPUTER_SCIENCE\\05_FINANCIAL_SIMULATIONS_APIS\\PORTFOLIO_SIM_PROJECT\\MCForecastTools.py:117: PerformanceWarning: DataFrame is highly fragmented.  This is usually the result of calling `frame.insert` many times, which has poor performance.  Consider joining all columns at once using pd.concat(axis=1) instead. To get a de-fragmented frame, use `newframe = frame.copy()`\n",
      "  portfolio_cumulative_returns[n] = (1 + sim_df.fillna(0)).cumprod()\n",
      "C:\\Users\\legar\\Desktop\\COMPUTER_SCIENCE\\05_FINANCIAL_SIMULATIONS_APIS\\PORTFOLIO_SIM_PROJECT\\MCForecastTools.py:117: PerformanceWarning: DataFrame is highly fragmented.  This is usually the result of calling `frame.insert` many times, which has poor performance.  Consider joining all columns at once using pd.concat(axis=1) instead. To get a de-fragmented frame, use `newframe = frame.copy()`\n",
      "  portfolio_cumulative_returns[n] = (1 + sim_df.fillna(0)).cumprod()\n",
      "C:\\Users\\legar\\Desktop\\COMPUTER_SCIENCE\\05_FINANCIAL_SIMULATIONS_APIS\\PORTFOLIO_SIM_PROJECT\\MCForecastTools.py:117: PerformanceWarning: DataFrame is highly fragmented.  This is usually the result of calling `frame.insert` many times, which has poor performance.  Consider joining all columns at once using pd.concat(axis=1) instead. To get a de-fragmented frame, use `newframe = frame.copy()`\n",
      "  portfolio_cumulative_returns[n] = (1 + sim_df.fillna(0)).cumprod()\n",
      "C:\\Users\\legar\\Desktop\\COMPUTER_SCIENCE\\05_FINANCIAL_SIMULATIONS_APIS\\PORTFOLIO_SIM_PROJECT\\MCForecastTools.py:117: PerformanceWarning: DataFrame is highly fragmented.  This is usually the result of calling `frame.insert` many times, which has poor performance.  Consider joining all columns at once using pd.concat(axis=1) instead. To get a de-fragmented frame, use `newframe = frame.copy()`\n",
      "  portfolio_cumulative_returns[n] = (1 + sim_df.fillna(0)).cumprod()\n",
      "C:\\Users\\legar\\Desktop\\COMPUTER_SCIENCE\\05_FINANCIAL_SIMULATIONS_APIS\\PORTFOLIO_SIM_PROJECT\\MCForecastTools.py:117: PerformanceWarning: DataFrame is highly fragmented.  This is usually the result of calling `frame.insert` many times, which has poor performance.  Consider joining all columns at once using pd.concat(axis=1) instead. To get a de-fragmented frame, use `newframe = frame.copy()`\n",
      "  portfolio_cumulative_returns[n] = (1 + sim_df.fillna(0)).cumprod()\n",
      "C:\\Users\\legar\\Desktop\\COMPUTER_SCIENCE\\05_FINANCIAL_SIMULATIONS_APIS\\PORTFOLIO_SIM_PROJECT\\MCForecastTools.py:117: PerformanceWarning: DataFrame is highly fragmented.  This is usually the result of calling `frame.insert` many times, which has poor performance.  Consider joining all columns at once using pd.concat(axis=1) instead. To get a de-fragmented frame, use `newframe = frame.copy()`\n",
      "  portfolio_cumulative_returns[n] = (1 + sim_df.fillna(0)).cumprod()\n",
      "C:\\Users\\legar\\Desktop\\COMPUTER_SCIENCE\\05_FINANCIAL_SIMULATIONS_APIS\\PORTFOLIO_SIM_PROJECT\\MCForecastTools.py:117: PerformanceWarning: DataFrame is highly fragmented.  This is usually the result of calling `frame.insert` many times, which has poor performance.  Consider joining all columns at once using pd.concat(axis=1) instead. To get a de-fragmented frame, use `newframe = frame.copy()`\n",
      "  portfolio_cumulative_returns[n] = (1 + sim_df.fillna(0)).cumprod()\n",
      "C:\\Users\\legar\\Desktop\\COMPUTER_SCIENCE\\05_FINANCIAL_SIMULATIONS_APIS\\PORTFOLIO_SIM_PROJECT\\MCForecastTools.py:117: PerformanceWarning: DataFrame is highly fragmented.  This is usually the result of calling `frame.insert` many times, which has poor performance.  Consider joining all columns at once using pd.concat(axis=1) instead. To get a de-fragmented frame, use `newframe = frame.copy()`\n",
      "  portfolio_cumulative_returns[n] = (1 + sim_df.fillna(0)).cumprod()\n"
     ]
    },
    {
     "name": "stdout",
     "output_type": "stream",
     "text": [
      "Running Monte Carlo simulation number 130.\n"
     ]
    },
    {
     "name": "stderr",
     "output_type": "stream",
     "text": [
      "C:\\Users\\legar\\Desktop\\COMPUTER_SCIENCE\\05_FINANCIAL_SIMULATIONS_APIS\\PORTFOLIO_SIM_PROJECT\\MCForecastTools.py:117: PerformanceWarning: DataFrame is highly fragmented.  This is usually the result of calling `frame.insert` many times, which has poor performance.  Consider joining all columns at once using pd.concat(axis=1) instead. To get a de-fragmented frame, use `newframe = frame.copy()`\n",
      "  portfolio_cumulative_returns[n] = (1 + sim_df.fillna(0)).cumprod()\n",
      "C:\\Users\\legar\\Desktop\\COMPUTER_SCIENCE\\05_FINANCIAL_SIMULATIONS_APIS\\PORTFOLIO_SIM_PROJECT\\MCForecastTools.py:117: PerformanceWarning: DataFrame is highly fragmented.  This is usually the result of calling `frame.insert` many times, which has poor performance.  Consider joining all columns at once using pd.concat(axis=1) instead. To get a de-fragmented frame, use `newframe = frame.copy()`\n",
      "  portfolio_cumulative_returns[n] = (1 + sim_df.fillna(0)).cumprod()\n",
      "C:\\Users\\legar\\Desktop\\COMPUTER_SCIENCE\\05_FINANCIAL_SIMULATIONS_APIS\\PORTFOLIO_SIM_PROJECT\\MCForecastTools.py:117: PerformanceWarning: DataFrame is highly fragmented.  This is usually the result of calling `frame.insert` many times, which has poor performance.  Consider joining all columns at once using pd.concat(axis=1) instead. To get a de-fragmented frame, use `newframe = frame.copy()`\n",
      "  portfolio_cumulative_returns[n] = (1 + sim_df.fillna(0)).cumprod()\n",
      "C:\\Users\\legar\\Desktop\\COMPUTER_SCIENCE\\05_FINANCIAL_SIMULATIONS_APIS\\PORTFOLIO_SIM_PROJECT\\MCForecastTools.py:117: PerformanceWarning: DataFrame is highly fragmented.  This is usually the result of calling `frame.insert` many times, which has poor performance.  Consider joining all columns at once using pd.concat(axis=1) instead. To get a de-fragmented frame, use `newframe = frame.copy()`\n",
      "  portfolio_cumulative_returns[n] = (1 + sim_df.fillna(0)).cumprod()\n",
      "C:\\Users\\legar\\Desktop\\COMPUTER_SCIENCE\\05_FINANCIAL_SIMULATIONS_APIS\\PORTFOLIO_SIM_PROJECT\\MCForecastTools.py:117: PerformanceWarning: DataFrame is highly fragmented.  This is usually the result of calling `frame.insert` many times, which has poor performance.  Consider joining all columns at once using pd.concat(axis=1) instead. To get a de-fragmented frame, use `newframe = frame.copy()`\n",
      "  portfolio_cumulative_returns[n] = (1 + sim_df.fillna(0)).cumprod()\n",
      "C:\\Users\\legar\\Desktop\\COMPUTER_SCIENCE\\05_FINANCIAL_SIMULATIONS_APIS\\PORTFOLIO_SIM_PROJECT\\MCForecastTools.py:117: PerformanceWarning: DataFrame is highly fragmented.  This is usually the result of calling `frame.insert` many times, which has poor performance.  Consider joining all columns at once using pd.concat(axis=1) instead. To get a de-fragmented frame, use `newframe = frame.copy()`\n",
      "  portfolio_cumulative_returns[n] = (1 + sim_df.fillna(0)).cumprod()\n",
      "C:\\Users\\legar\\Desktop\\COMPUTER_SCIENCE\\05_FINANCIAL_SIMULATIONS_APIS\\PORTFOLIO_SIM_PROJECT\\MCForecastTools.py:117: PerformanceWarning: DataFrame is highly fragmented.  This is usually the result of calling `frame.insert` many times, which has poor performance.  Consider joining all columns at once using pd.concat(axis=1) instead. To get a de-fragmented frame, use `newframe = frame.copy()`\n",
      "  portfolio_cumulative_returns[n] = (1 + sim_df.fillna(0)).cumprod()\n",
      "C:\\Users\\legar\\Desktop\\COMPUTER_SCIENCE\\05_FINANCIAL_SIMULATIONS_APIS\\PORTFOLIO_SIM_PROJECT\\MCForecastTools.py:117: PerformanceWarning: DataFrame is highly fragmented.  This is usually the result of calling `frame.insert` many times, which has poor performance.  Consider joining all columns at once using pd.concat(axis=1) instead. To get a de-fragmented frame, use `newframe = frame.copy()`\n",
      "  portfolio_cumulative_returns[n] = (1 + sim_df.fillna(0)).cumprod()\n",
      "C:\\Users\\legar\\Desktop\\COMPUTER_SCIENCE\\05_FINANCIAL_SIMULATIONS_APIS\\PORTFOLIO_SIM_PROJECT\\MCForecastTools.py:117: PerformanceWarning: DataFrame is highly fragmented.  This is usually the result of calling `frame.insert` many times, which has poor performance.  Consider joining all columns at once using pd.concat(axis=1) instead. To get a de-fragmented frame, use `newframe = frame.copy()`\n",
      "  portfolio_cumulative_returns[n] = (1 + sim_df.fillna(0)).cumprod()\n",
      "C:\\Users\\legar\\Desktop\\COMPUTER_SCIENCE\\05_FINANCIAL_SIMULATIONS_APIS\\PORTFOLIO_SIM_PROJECT\\MCForecastTools.py:117: PerformanceWarning: DataFrame is highly fragmented.  This is usually the result of calling `frame.insert` many times, which has poor performance.  Consider joining all columns at once using pd.concat(axis=1) instead. To get a de-fragmented frame, use `newframe = frame.copy()`\n",
      "  portfolio_cumulative_returns[n] = (1 + sim_df.fillna(0)).cumprod()\n"
     ]
    },
    {
     "name": "stdout",
     "output_type": "stream",
     "text": [
      "Running Monte Carlo simulation number 140.\n"
     ]
    },
    {
     "name": "stderr",
     "output_type": "stream",
     "text": [
      "C:\\Users\\legar\\Desktop\\COMPUTER_SCIENCE\\05_FINANCIAL_SIMULATIONS_APIS\\PORTFOLIO_SIM_PROJECT\\MCForecastTools.py:117: PerformanceWarning: DataFrame is highly fragmented.  This is usually the result of calling `frame.insert` many times, which has poor performance.  Consider joining all columns at once using pd.concat(axis=1) instead. To get a de-fragmented frame, use `newframe = frame.copy()`\n",
      "  portfolio_cumulative_returns[n] = (1 + sim_df.fillna(0)).cumprod()\n",
      "C:\\Users\\legar\\Desktop\\COMPUTER_SCIENCE\\05_FINANCIAL_SIMULATIONS_APIS\\PORTFOLIO_SIM_PROJECT\\MCForecastTools.py:117: PerformanceWarning: DataFrame is highly fragmented.  This is usually the result of calling `frame.insert` many times, which has poor performance.  Consider joining all columns at once using pd.concat(axis=1) instead. To get a de-fragmented frame, use `newframe = frame.copy()`\n",
      "  portfolio_cumulative_returns[n] = (1 + sim_df.fillna(0)).cumprod()\n",
      "C:\\Users\\legar\\Desktop\\COMPUTER_SCIENCE\\05_FINANCIAL_SIMULATIONS_APIS\\PORTFOLIO_SIM_PROJECT\\MCForecastTools.py:117: PerformanceWarning: DataFrame is highly fragmented.  This is usually the result of calling `frame.insert` many times, which has poor performance.  Consider joining all columns at once using pd.concat(axis=1) instead. To get a de-fragmented frame, use `newframe = frame.copy()`\n",
      "  portfolio_cumulative_returns[n] = (1 + sim_df.fillna(0)).cumprod()\n",
      "C:\\Users\\legar\\Desktop\\COMPUTER_SCIENCE\\05_FINANCIAL_SIMULATIONS_APIS\\PORTFOLIO_SIM_PROJECT\\MCForecastTools.py:117: PerformanceWarning: DataFrame is highly fragmented.  This is usually the result of calling `frame.insert` many times, which has poor performance.  Consider joining all columns at once using pd.concat(axis=1) instead. To get a de-fragmented frame, use `newframe = frame.copy()`\n",
      "  portfolio_cumulative_returns[n] = (1 + sim_df.fillna(0)).cumprod()\n",
      "C:\\Users\\legar\\Desktop\\COMPUTER_SCIENCE\\05_FINANCIAL_SIMULATIONS_APIS\\PORTFOLIO_SIM_PROJECT\\MCForecastTools.py:117: PerformanceWarning: DataFrame is highly fragmented.  This is usually the result of calling `frame.insert` many times, which has poor performance.  Consider joining all columns at once using pd.concat(axis=1) instead. To get a de-fragmented frame, use `newframe = frame.copy()`\n",
      "  portfolio_cumulative_returns[n] = (1 + sim_df.fillna(0)).cumprod()\n",
      "C:\\Users\\legar\\Desktop\\COMPUTER_SCIENCE\\05_FINANCIAL_SIMULATIONS_APIS\\PORTFOLIO_SIM_PROJECT\\MCForecastTools.py:117: PerformanceWarning: DataFrame is highly fragmented.  This is usually the result of calling `frame.insert` many times, which has poor performance.  Consider joining all columns at once using pd.concat(axis=1) instead. To get a de-fragmented frame, use `newframe = frame.copy()`\n",
      "  portfolio_cumulative_returns[n] = (1 + sim_df.fillna(0)).cumprod()\n",
      "C:\\Users\\legar\\Desktop\\COMPUTER_SCIENCE\\05_FINANCIAL_SIMULATIONS_APIS\\PORTFOLIO_SIM_PROJECT\\MCForecastTools.py:117: PerformanceWarning: DataFrame is highly fragmented.  This is usually the result of calling `frame.insert` many times, which has poor performance.  Consider joining all columns at once using pd.concat(axis=1) instead. To get a de-fragmented frame, use `newframe = frame.copy()`\n",
      "  portfolio_cumulative_returns[n] = (1 + sim_df.fillna(0)).cumprod()\n",
      "C:\\Users\\legar\\Desktop\\COMPUTER_SCIENCE\\05_FINANCIAL_SIMULATIONS_APIS\\PORTFOLIO_SIM_PROJECT\\MCForecastTools.py:117: PerformanceWarning: DataFrame is highly fragmented.  This is usually the result of calling `frame.insert` many times, which has poor performance.  Consider joining all columns at once using pd.concat(axis=1) instead. To get a de-fragmented frame, use `newframe = frame.copy()`\n",
      "  portfolio_cumulative_returns[n] = (1 + sim_df.fillna(0)).cumprod()\n",
      "C:\\Users\\legar\\Desktop\\COMPUTER_SCIENCE\\05_FINANCIAL_SIMULATIONS_APIS\\PORTFOLIO_SIM_PROJECT\\MCForecastTools.py:117: PerformanceWarning: DataFrame is highly fragmented.  This is usually the result of calling `frame.insert` many times, which has poor performance.  Consider joining all columns at once using pd.concat(axis=1) instead. To get a de-fragmented frame, use `newframe = frame.copy()`\n",
      "  portfolio_cumulative_returns[n] = (1 + sim_df.fillna(0)).cumprod()\n"
     ]
    },
    {
     "name": "stdout",
     "output_type": "stream",
     "text": [
      "Running Monte Carlo simulation number 150.\n"
     ]
    },
    {
     "name": "stderr",
     "output_type": "stream",
     "text": [
      "C:\\Users\\legar\\Desktop\\COMPUTER_SCIENCE\\05_FINANCIAL_SIMULATIONS_APIS\\PORTFOLIO_SIM_PROJECT\\MCForecastTools.py:117: PerformanceWarning: DataFrame is highly fragmented.  This is usually the result of calling `frame.insert` many times, which has poor performance.  Consider joining all columns at once using pd.concat(axis=1) instead. To get a de-fragmented frame, use `newframe = frame.copy()`\n",
      "  portfolio_cumulative_returns[n] = (1 + sim_df.fillna(0)).cumprod()\n",
      "C:\\Users\\legar\\Desktop\\COMPUTER_SCIENCE\\05_FINANCIAL_SIMULATIONS_APIS\\PORTFOLIO_SIM_PROJECT\\MCForecastTools.py:117: PerformanceWarning: DataFrame is highly fragmented.  This is usually the result of calling `frame.insert` many times, which has poor performance.  Consider joining all columns at once using pd.concat(axis=1) instead. To get a de-fragmented frame, use `newframe = frame.copy()`\n",
      "  portfolio_cumulative_returns[n] = (1 + sim_df.fillna(0)).cumprod()\n",
      "C:\\Users\\legar\\Desktop\\COMPUTER_SCIENCE\\05_FINANCIAL_SIMULATIONS_APIS\\PORTFOLIO_SIM_PROJECT\\MCForecastTools.py:117: PerformanceWarning: DataFrame is highly fragmented.  This is usually the result of calling `frame.insert` many times, which has poor performance.  Consider joining all columns at once using pd.concat(axis=1) instead. To get a de-fragmented frame, use `newframe = frame.copy()`\n",
      "  portfolio_cumulative_returns[n] = (1 + sim_df.fillna(0)).cumprod()\n",
      "C:\\Users\\legar\\Desktop\\COMPUTER_SCIENCE\\05_FINANCIAL_SIMULATIONS_APIS\\PORTFOLIO_SIM_PROJECT\\MCForecastTools.py:117: PerformanceWarning: DataFrame is highly fragmented.  This is usually the result of calling `frame.insert` many times, which has poor performance.  Consider joining all columns at once using pd.concat(axis=1) instead. To get a de-fragmented frame, use `newframe = frame.copy()`\n",
      "  portfolio_cumulative_returns[n] = (1 + sim_df.fillna(0)).cumprod()\n",
      "C:\\Users\\legar\\Desktop\\COMPUTER_SCIENCE\\05_FINANCIAL_SIMULATIONS_APIS\\PORTFOLIO_SIM_PROJECT\\MCForecastTools.py:117: PerformanceWarning: DataFrame is highly fragmented.  This is usually the result of calling `frame.insert` many times, which has poor performance.  Consider joining all columns at once using pd.concat(axis=1) instead. To get a de-fragmented frame, use `newframe = frame.copy()`\n",
      "  portfolio_cumulative_returns[n] = (1 + sim_df.fillna(0)).cumprod()\n",
      "C:\\Users\\legar\\Desktop\\COMPUTER_SCIENCE\\05_FINANCIAL_SIMULATIONS_APIS\\PORTFOLIO_SIM_PROJECT\\MCForecastTools.py:117: PerformanceWarning: DataFrame is highly fragmented.  This is usually the result of calling `frame.insert` many times, which has poor performance.  Consider joining all columns at once using pd.concat(axis=1) instead. To get a de-fragmented frame, use `newframe = frame.copy()`\n",
      "  portfolio_cumulative_returns[n] = (1 + sim_df.fillna(0)).cumprod()\n",
      "C:\\Users\\legar\\Desktop\\COMPUTER_SCIENCE\\05_FINANCIAL_SIMULATIONS_APIS\\PORTFOLIO_SIM_PROJECT\\MCForecastTools.py:117: PerformanceWarning: DataFrame is highly fragmented.  This is usually the result of calling `frame.insert` many times, which has poor performance.  Consider joining all columns at once using pd.concat(axis=1) instead. To get a de-fragmented frame, use `newframe = frame.copy()`\n",
      "  portfolio_cumulative_returns[n] = (1 + sim_df.fillna(0)).cumprod()\n",
      "C:\\Users\\legar\\Desktop\\COMPUTER_SCIENCE\\05_FINANCIAL_SIMULATIONS_APIS\\PORTFOLIO_SIM_PROJECT\\MCForecastTools.py:117: PerformanceWarning: DataFrame is highly fragmented.  This is usually the result of calling `frame.insert` many times, which has poor performance.  Consider joining all columns at once using pd.concat(axis=1) instead. To get a de-fragmented frame, use `newframe = frame.copy()`\n",
      "  portfolio_cumulative_returns[n] = (1 + sim_df.fillna(0)).cumprod()\n",
      "C:\\Users\\legar\\Desktop\\COMPUTER_SCIENCE\\05_FINANCIAL_SIMULATIONS_APIS\\PORTFOLIO_SIM_PROJECT\\MCForecastTools.py:117: PerformanceWarning: DataFrame is highly fragmented.  This is usually the result of calling `frame.insert` many times, which has poor performance.  Consider joining all columns at once using pd.concat(axis=1) instead. To get a de-fragmented frame, use `newframe = frame.copy()`\n",
      "  portfolio_cumulative_returns[n] = (1 + sim_df.fillna(0)).cumprod()\n",
      "C:\\Users\\legar\\Desktop\\COMPUTER_SCIENCE\\05_FINANCIAL_SIMULATIONS_APIS\\PORTFOLIO_SIM_PROJECT\\MCForecastTools.py:117: PerformanceWarning: DataFrame is highly fragmented.  This is usually the result of calling `frame.insert` many times, which has poor performance.  Consider joining all columns at once using pd.concat(axis=1) instead. To get a de-fragmented frame, use `newframe = frame.copy()`\n",
      "  portfolio_cumulative_returns[n] = (1 + sim_df.fillna(0)).cumprod()\n"
     ]
    },
    {
     "name": "stdout",
     "output_type": "stream",
     "text": [
      "Running Monte Carlo simulation number 160.\n"
     ]
    },
    {
     "name": "stderr",
     "output_type": "stream",
     "text": [
      "C:\\Users\\legar\\Desktop\\COMPUTER_SCIENCE\\05_FINANCIAL_SIMULATIONS_APIS\\PORTFOLIO_SIM_PROJECT\\MCForecastTools.py:117: PerformanceWarning: DataFrame is highly fragmented.  This is usually the result of calling `frame.insert` many times, which has poor performance.  Consider joining all columns at once using pd.concat(axis=1) instead. To get a de-fragmented frame, use `newframe = frame.copy()`\n",
      "  portfolio_cumulative_returns[n] = (1 + sim_df.fillna(0)).cumprod()\n",
      "C:\\Users\\legar\\Desktop\\COMPUTER_SCIENCE\\05_FINANCIAL_SIMULATIONS_APIS\\PORTFOLIO_SIM_PROJECT\\MCForecastTools.py:117: PerformanceWarning: DataFrame is highly fragmented.  This is usually the result of calling `frame.insert` many times, which has poor performance.  Consider joining all columns at once using pd.concat(axis=1) instead. To get a de-fragmented frame, use `newframe = frame.copy()`\n",
      "  portfolio_cumulative_returns[n] = (1 + sim_df.fillna(0)).cumprod()\n",
      "C:\\Users\\legar\\Desktop\\COMPUTER_SCIENCE\\05_FINANCIAL_SIMULATIONS_APIS\\PORTFOLIO_SIM_PROJECT\\MCForecastTools.py:117: PerformanceWarning: DataFrame is highly fragmented.  This is usually the result of calling `frame.insert` many times, which has poor performance.  Consider joining all columns at once using pd.concat(axis=1) instead. To get a de-fragmented frame, use `newframe = frame.copy()`\n",
      "  portfolio_cumulative_returns[n] = (1 + sim_df.fillna(0)).cumprod()\n",
      "C:\\Users\\legar\\Desktop\\COMPUTER_SCIENCE\\05_FINANCIAL_SIMULATIONS_APIS\\PORTFOLIO_SIM_PROJECT\\MCForecastTools.py:117: PerformanceWarning: DataFrame is highly fragmented.  This is usually the result of calling `frame.insert` many times, which has poor performance.  Consider joining all columns at once using pd.concat(axis=1) instead. To get a de-fragmented frame, use `newframe = frame.copy()`\n",
      "  portfolio_cumulative_returns[n] = (1 + sim_df.fillna(0)).cumprod()\n",
      "C:\\Users\\legar\\Desktop\\COMPUTER_SCIENCE\\05_FINANCIAL_SIMULATIONS_APIS\\PORTFOLIO_SIM_PROJECT\\MCForecastTools.py:117: PerformanceWarning: DataFrame is highly fragmented.  This is usually the result of calling `frame.insert` many times, which has poor performance.  Consider joining all columns at once using pd.concat(axis=1) instead. To get a de-fragmented frame, use `newframe = frame.copy()`\n",
      "  portfolio_cumulative_returns[n] = (1 + sim_df.fillna(0)).cumprod()\n",
      "C:\\Users\\legar\\Desktop\\COMPUTER_SCIENCE\\05_FINANCIAL_SIMULATIONS_APIS\\PORTFOLIO_SIM_PROJECT\\MCForecastTools.py:117: PerformanceWarning: DataFrame is highly fragmented.  This is usually the result of calling `frame.insert` many times, which has poor performance.  Consider joining all columns at once using pd.concat(axis=1) instead. To get a de-fragmented frame, use `newframe = frame.copy()`\n",
      "  portfolio_cumulative_returns[n] = (1 + sim_df.fillna(0)).cumprod()\n",
      "C:\\Users\\legar\\Desktop\\COMPUTER_SCIENCE\\05_FINANCIAL_SIMULATIONS_APIS\\PORTFOLIO_SIM_PROJECT\\MCForecastTools.py:117: PerformanceWarning: DataFrame is highly fragmented.  This is usually the result of calling `frame.insert` many times, which has poor performance.  Consider joining all columns at once using pd.concat(axis=1) instead. To get a de-fragmented frame, use `newframe = frame.copy()`\n",
      "  portfolio_cumulative_returns[n] = (1 + sim_df.fillna(0)).cumprod()\n",
      "C:\\Users\\legar\\Desktop\\COMPUTER_SCIENCE\\05_FINANCIAL_SIMULATIONS_APIS\\PORTFOLIO_SIM_PROJECT\\MCForecastTools.py:117: PerformanceWarning: DataFrame is highly fragmented.  This is usually the result of calling `frame.insert` many times, which has poor performance.  Consider joining all columns at once using pd.concat(axis=1) instead. To get a de-fragmented frame, use `newframe = frame.copy()`\n",
      "  portfolio_cumulative_returns[n] = (1 + sim_df.fillna(0)).cumprod()\n",
      "C:\\Users\\legar\\Desktop\\COMPUTER_SCIENCE\\05_FINANCIAL_SIMULATIONS_APIS\\PORTFOLIO_SIM_PROJECT\\MCForecastTools.py:117: PerformanceWarning: DataFrame is highly fragmented.  This is usually the result of calling `frame.insert` many times, which has poor performance.  Consider joining all columns at once using pd.concat(axis=1) instead. To get a de-fragmented frame, use `newframe = frame.copy()`\n",
      "  portfolio_cumulative_returns[n] = (1 + sim_df.fillna(0)).cumprod()\n",
      "C:\\Users\\legar\\Desktop\\COMPUTER_SCIENCE\\05_FINANCIAL_SIMULATIONS_APIS\\PORTFOLIO_SIM_PROJECT\\MCForecastTools.py:117: PerformanceWarning: DataFrame is highly fragmented.  This is usually the result of calling `frame.insert` many times, which has poor performance.  Consider joining all columns at once using pd.concat(axis=1) instead. To get a de-fragmented frame, use `newframe = frame.copy()`\n",
      "  portfolio_cumulative_returns[n] = (1 + sim_df.fillna(0)).cumprod()\n"
     ]
    },
    {
     "name": "stdout",
     "output_type": "stream",
     "text": [
      "Running Monte Carlo simulation number 170.\n"
     ]
    },
    {
     "name": "stderr",
     "output_type": "stream",
     "text": [
      "C:\\Users\\legar\\Desktop\\COMPUTER_SCIENCE\\05_FINANCIAL_SIMULATIONS_APIS\\PORTFOLIO_SIM_PROJECT\\MCForecastTools.py:117: PerformanceWarning: DataFrame is highly fragmented.  This is usually the result of calling `frame.insert` many times, which has poor performance.  Consider joining all columns at once using pd.concat(axis=1) instead. To get a de-fragmented frame, use `newframe = frame.copy()`\n",
      "  portfolio_cumulative_returns[n] = (1 + sim_df.fillna(0)).cumprod()\n",
      "C:\\Users\\legar\\Desktop\\COMPUTER_SCIENCE\\05_FINANCIAL_SIMULATIONS_APIS\\PORTFOLIO_SIM_PROJECT\\MCForecastTools.py:117: PerformanceWarning: DataFrame is highly fragmented.  This is usually the result of calling `frame.insert` many times, which has poor performance.  Consider joining all columns at once using pd.concat(axis=1) instead. To get a de-fragmented frame, use `newframe = frame.copy()`\n",
      "  portfolio_cumulative_returns[n] = (1 + sim_df.fillna(0)).cumprod()\n",
      "C:\\Users\\legar\\Desktop\\COMPUTER_SCIENCE\\05_FINANCIAL_SIMULATIONS_APIS\\PORTFOLIO_SIM_PROJECT\\MCForecastTools.py:117: PerformanceWarning: DataFrame is highly fragmented.  This is usually the result of calling `frame.insert` many times, which has poor performance.  Consider joining all columns at once using pd.concat(axis=1) instead. To get a de-fragmented frame, use `newframe = frame.copy()`\n",
      "  portfolio_cumulative_returns[n] = (1 + sim_df.fillna(0)).cumprod()\n",
      "C:\\Users\\legar\\Desktop\\COMPUTER_SCIENCE\\05_FINANCIAL_SIMULATIONS_APIS\\PORTFOLIO_SIM_PROJECT\\MCForecastTools.py:117: PerformanceWarning: DataFrame is highly fragmented.  This is usually the result of calling `frame.insert` many times, which has poor performance.  Consider joining all columns at once using pd.concat(axis=1) instead. To get a de-fragmented frame, use `newframe = frame.copy()`\n",
      "  portfolio_cumulative_returns[n] = (1 + sim_df.fillna(0)).cumprod()\n",
      "C:\\Users\\legar\\Desktop\\COMPUTER_SCIENCE\\05_FINANCIAL_SIMULATIONS_APIS\\PORTFOLIO_SIM_PROJECT\\MCForecastTools.py:117: PerformanceWarning: DataFrame is highly fragmented.  This is usually the result of calling `frame.insert` many times, which has poor performance.  Consider joining all columns at once using pd.concat(axis=1) instead. To get a de-fragmented frame, use `newframe = frame.copy()`\n",
      "  portfolio_cumulative_returns[n] = (1 + sim_df.fillna(0)).cumprod()\n",
      "C:\\Users\\legar\\Desktop\\COMPUTER_SCIENCE\\05_FINANCIAL_SIMULATIONS_APIS\\PORTFOLIO_SIM_PROJECT\\MCForecastTools.py:117: PerformanceWarning: DataFrame is highly fragmented.  This is usually the result of calling `frame.insert` many times, which has poor performance.  Consider joining all columns at once using pd.concat(axis=1) instead. To get a de-fragmented frame, use `newframe = frame.copy()`\n",
      "  portfolio_cumulative_returns[n] = (1 + sim_df.fillna(0)).cumprod()\n",
      "C:\\Users\\legar\\Desktop\\COMPUTER_SCIENCE\\05_FINANCIAL_SIMULATIONS_APIS\\PORTFOLIO_SIM_PROJECT\\MCForecastTools.py:117: PerformanceWarning: DataFrame is highly fragmented.  This is usually the result of calling `frame.insert` many times, which has poor performance.  Consider joining all columns at once using pd.concat(axis=1) instead. To get a de-fragmented frame, use `newframe = frame.copy()`\n",
      "  portfolio_cumulative_returns[n] = (1 + sim_df.fillna(0)).cumprod()\n",
      "C:\\Users\\legar\\Desktop\\COMPUTER_SCIENCE\\05_FINANCIAL_SIMULATIONS_APIS\\PORTFOLIO_SIM_PROJECT\\MCForecastTools.py:117: PerformanceWarning: DataFrame is highly fragmented.  This is usually the result of calling `frame.insert` many times, which has poor performance.  Consider joining all columns at once using pd.concat(axis=1) instead. To get a de-fragmented frame, use `newframe = frame.copy()`\n",
      "  portfolio_cumulative_returns[n] = (1 + sim_df.fillna(0)).cumprod()\n",
      "C:\\Users\\legar\\Desktop\\COMPUTER_SCIENCE\\05_FINANCIAL_SIMULATIONS_APIS\\PORTFOLIO_SIM_PROJECT\\MCForecastTools.py:117: PerformanceWarning: DataFrame is highly fragmented.  This is usually the result of calling `frame.insert` many times, which has poor performance.  Consider joining all columns at once using pd.concat(axis=1) instead. To get a de-fragmented frame, use `newframe = frame.copy()`\n",
      "  portfolio_cumulative_returns[n] = (1 + sim_df.fillna(0)).cumprod()\n",
      "C:\\Users\\legar\\Desktop\\COMPUTER_SCIENCE\\05_FINANCIAL_SIMULATIONS_APIS\\PORTFOLIO_SIM_PROJECT\\MCForecastTools.py:117: PerformanceWarning: DataFrame is highly fragmented.  This is usually the result of calling `frame.insert` many times, which has poor performance.  Consider joining all columns at once using pd.concat(axis=1) instead. To get a de-fragmented frame, use `newframe = frame.copy()`\n",
      "  portfolio_cumulative_returns[n] = (1 + sim_df.fillna(0)).cumprod()\n",
      "C:\\Users\\legar\\Desktop\\COMPUTER_SCIENCE\\05_FINANCIAL_SIMULATIONS_APIS\\PORTFOLIO_SIM_PROJECT\\MCForecastTools.py:117: PerformanceWarning: DataFrame is highly fragmented.  This is usually the result of calling `frame.insert` many times, which has poor performance.  Consider joining all columns at once using pd.concat(axis=1) instead. To get a de-fragmented frame, use `newframe = frame.copy()`\n",
      "  portfolio_cumulative_returns[n] = (1 + sim_df.fillna(0)).cumprod()\n"
     ]
    },
    {
     "name": "stdout",
     "output_type": "stream",
     "text": [
      "Running Monte Carlo simulation number 180.\n"
     ]
    },
    {
     "name": "stderr",
     "output_type": "stream",
     "text": [
      "C:\\Users\\legar\\Desktop\\COMPUTER_SCIENCE\\05_FINANCIAL_SIMULATIONS_APIS\\PORTFOLIO_SIM_PROJECT\\MCForecastTools.py:117: PerformanceWarning: DataFrame is highly fragmented.  This is usually the result of calling `frame.insert` many times, which has poor performance.  Consider joining all columns at once using pd.concat(axis=1) instead. To get a de-fragmented frame, use `newframe = frame.copy()`\n",
      "  portfolio_cumulative_returns[n] = (1 + sim_df.fillna(0)).cumprod()\n",
      "C:\\Users\\legar\\Desktop\\COMPUTER_SCIENCE\\05_FINANCIAL_SIMULATIONS_APIS\\PORTFOLIO_SIM_PROJECT\\MCForecastTools.py:117: PerformanceWarning: DataFrame is highly fragmented.  This is usually the result of calling `frame.insert` many times, which has poor performance.  Consider joining all columns at once using pd.concat(axis=1) instead. To get a de-fragmented frame, use `newframe = frame.copy()`\n",
      "  portfolio_cumulative_returns[n] = (1 + sim_df.fillna(0)).cumprod()\n",
      "C:\\Users\\legar\\Desktop\\COMPUTER_SCIENCE\\05_FINANCIAL_SIMULATIONS_APIS\\PORTFOLIO_SIM_PROJECT\\MCForecastTools.py:117: PerformanceWarning: DataFrame is highly fragmented.  This is usually the result of calling `frame.insert` many times, which has poor performance.  Consider joining all columns at once using pd.concat(axis=1) instead. To get a de-fragmented frame, use `newframe = frame.copy()`\n",
      "  portfolio_cumulative_returns[n] = (1 + sim_df.fillna(0)).cumprod()\n",
      "C:\\Users\\legar\\Desktop\\COMPUTER_SCIENCE\\05_FINANCIAL_SIMULATIONS_APIS\\PORTFOLIO_SIM_PROJECT\\MCForecastTools.py:117: PerformanceWarning: DataFrame is highly fragmented.  This is usually the result of calling `frame.insert` many times, which has poor performance.  Consider joining all columns at once using pd.concat(axis=1) instead. To get a de-fragmented frame, use `newframe = frame.copy()`\n",
      "  portfolio_cumulative_returns[n] = (1 + sim_df.fillna(0)).cumprod()\n",
      "C:\\Users\\legar\\Desktop\\COMPUTER_SCIENCE\\05_FINANCIAL_SIMULATIONS_APIS\\PORTFOLIO_SIM_PROJECT\\MCForecastTools.py:117: PerformanceWarning: DataFrame is highly fragmented.  This is usually the result of calling `frame.insert` many times, which has poor performance.  Consider joining all columns at once using pd.concat(axis=1) instead. To get a de-fragmented frame, use `newframe = frame.copy()`\n",
      "  portfolio_cumulative_returns[n] = (1 + sim_df.fillna(0)).cumprod()\n",
      "C:\\Users\\legar\\Desktop\\COMPUTER_SCIENCE\\05_FINANCIAL_SIMULATIONS_APIS\\PORTFOLIO_SIM_PROJECT\\MCForecastTools.py:117: PerformanceWarning: DataFrame is highly fragmented.  This is usually the result of calling `frame.insert` many times, which has poor performance.  Consider joining all columns at once using pd.concat(axis=1) instead. To get a de-fragmented frame, use `newframe = frame.copy()`\n",
      "  portfolio_cumulative_returns[n] = (1 + sim_df.fillna(0)).cumprod()\n",
      "C:\\Users\\legar\\Desktop\\COMPUTER_SCIENCE\\05_FINANCIAL_SIMULATIONS_APIS\\PORTFOLIO_SIM_PROJECT\\MCForecastTools.py:117: PerformanceWarning: DataFrame is highly fragmented.  This is usually the result of calling `frame.insert` many times, which has poor performance.  Consider joining all columns at once using pd.concat(axis=1) instead. To get a de-fragmented frame, use `newframe = frame.copy()`\n",
      "  portfolio_cumulative_returns[n] = (1 + sim_df.fillna(0)).cumprod()\n",
      "C:\\Users\\legar\\Desktop\\COMPUTER_SCIENCE\\05_FINANCIAL_SIMULATIONS_APIS\\PORTFOLIO_SIM_PROJECT\\MCForecastTools.py:117: PerformanceWarning: DataFrame is highly fragmented.  This is usually the result of calling `frame.insert` many times, which has poor performance.  Consider joining all columns at once using pd.concat(axis=1) instead. To get a de-fragmented frame, use `newframe = frame.copy()`\n",
      "  portfolio_cumulative_returns[n] = (1 + sim_df.fillna(0)).cumprod()\n",
      "C:\\Users\\legar\\Desktop\\COMPUTER_SCIENCE\\05_FINANCIAL_SIMULATIONS_APIS\\PORTFOLIO_SIM_PROJECT\\MCForecastTools.py:117: PerformanceWarning: DataFrame is highly fragmented.  This is usually the result of calling `frame.insert` many times, which has poor performance.  Consider joining all columns at once using pd.concat(axis=1) instead. To get a de-fragmented frame, use `newframe = frame.copy()`\n",
      "  portfolio_cumulative_returns[n] = (1 + sim_df.fillna(0)).cumprod()\n"
     ]
    },
    {
     "name": "stdout",
     "output_type": "stream",
     "text": [
      "Running Monte Carlo simulation number 190.\n"
     ]
    },
    {
     "name": "stderr",
     "output_type": "stream",
     "text": [
      "C:\\Users\\legar\\Desktop\\COMPUTER_SCIENCE\\05_FINANCIAL_SIMULATIONS_APIS\\PORTFOLIO_SIM_PROJECT\\MCForecastTools.py:117: PerformanceWarning: DataFrame is highly fragmented.  This is usually the result of calling `frame.insert` many times, which has poor performance.  Consider joining all columns at once using pd.concat(axis=1) instead. To get a de-fragmented frame, use `newframe = frame.copy()`\n",
      "  portfolio_cumulative_returns[n] = (1 + sim_df.fillna(0)).cumprod()\n",
      "C:\\Users\\legar\\Desktop\\COMPUTER_SCIENCE\\05_FINANCIAL_SIMULATIONS_APIS\\PORTFOLIO_SIM_PROJECT\\MCForecastTools.py:117: PerformanceWarning: DataFrame is highly fragmented.  This is usually the result of calling `frame.insert` many times, which has poor performance.  Consider joining all columns at once using pd.concat(axis=1) instead. To get a de-fragmented frame, use `newframe = frame.copy()`\n",
      "  portfolio_cumulative_returns[n] = (1 + sim_df.fillna(0)).cumprod()\n",
      "C:\\Users\\legar\\Desktop\\COMPUTER_SCIENCE\\05_FINANCIAL_SIMULATIONS_APIS\\PORTFOLIO_SIM_PROJECT\\MCForecastTools.py:117: PerformanceWarning: DataFrame is highly fragmented.  This is usually the result of calling `frame.insert` many times, which has poor performance.  Consider joining all columns at once using pd.concat(axis=1) instead. To get a de-fragmented frame, use `newframe = frame.copy()`\n",
      "  portfolio_cumulative_returns[n] = (1 + sim_df.fillna(0)).cumprod()\n",
      "C:\\Users\\legar\\Desktop\\COMPUTER_SCIENCE\\05_FINANCIAL_SIMULATIONS_APIS\\PORTFOLIO_SIM_PROJECT\\MCForecastTools.py:117: PerformanceWarning: DataFrame is highly fragmented.  This is usually the result of calling `frame.insert` many times, which has poor performance.  Consider joining all columns at once using pd.concat(axis=1) instead. To get a de-fragmented frame, use `newframe = frame.copy()`\n",
      "  portfolio_cumulative_returns[n] = (1 + sim_df.fillna(0)).cumprod()\n",
      "C:\\Users\\legar\\Desktop\\COMPUTER_SCIENCE\\05_FINANCIAL_SIMULATIONS_APIS\\PORTFOLIO_SIM_PROJECT\\MCForecastTools.py:117: PerformanceWarning: DataFrame is highly fragmented.  This is usually the result of calling `frame.insert` many times, which has poor performance.  Consider joining all columns at once using pd.concat(axis=1) instead. To get a de-fragmented frame, use `newframe = frame.copy()`\n",
      "  portfolio_cumulative_returns[n] = (1 + sim_df.fillna(0)).cumprod()\n",
      "C:\\Users\\legar\\Desktop\\COMPUTER_SCIENCE\\05_FINANCIAL_SIMULATIONS_APIS\\PORTFOLIO_SIM_PROJECT\\MCForecastTools.py:117: PerformanceWarning: DataFrame is highly fragmented.  This is usually the result of calling `frame.insert` many times, which has poor performance.  Consider joining all columns at once using pd.concat(axis=1) instead. To get a de-fragmented frame, use `newframe = frame.copy()`\n",
      "  portfolio_cumulative_returns[n] = (1 + sim_df.fillna(0)).cumprod()\n",
      "C:\\Users\\legar\\Desktop\\COMPUTER_SCIENCE\\05_FINANCIAL_SIMULATIONS_APIS\\PORTFOLIO_SIM_PROJECT\\MCForecastTools.py:117: PerformanceWarning: DataFrame is highly fragmented.  This is usually the result of calling `frame.insert` many times, which has poor performance.  Consider joining all columns at once using pd.concat(axis=1) instead. To get a de-fragmented frame, use `newframe = frame.copy()`\n",
      "  portfolio_cumulative_returns[n] = (1 + sim_df.fillna(0)).cumprod()\n",
      "C:\\Users\\legar\\Desktop\\COMPUTER_SCIENCE\\05_FINANCIAL_SIMULATIONS_APIS\\PORTFOLIO_SIM_PROJECT\\MCForecastTools.py:117: PerformanceWarning: DataFrame is highly fragmented.  This is usually the result of calling `frame.insert` many times, which has poor performance.  Consider joining all columns at once using pd.concat(axis=1) instead. To get a de-fragmented frame, use `newframe = frame.copy()`\n",
      "  portfolio_cumulative_returns[n] = (1 + sim_df.fillna(0)).cumprod()\n",
      "C:\\Users\\legar\\Desktop\\COMPUTER_SCIENCE\\05_FINANCIAL_SIMULATIONS_APIS\\PORTFOLIO_SIM_PROJECT\\MCForecastTools.py:117: PerformanceWarning: DataFrame is highly fragmented.  This is usually the result of calling `frame.insert` many times, which has poor performance.  Consider joining all columns at once using pd.concat(axis=1) instead. To get a de-fragmented frame, use `newframe = frame.copy()`\n",
      "  portfolio_cumulative_returns[n] = (1 + sim_df.fillna(0)).cumprod()\n",
      "C:\\Users\\legar\\Desktop\\COMPUTER_SCIENCE\\05_FINANCIAL_SIMULATIONS_APIS\\PORTFOLIO_SIM_PROJECT\\MCForecastTools.py:117: PerformanceWarning: DataFrame is highly fragmented.  This is usually the result of calling `frame.insert` many times, which has poor performance.  Consider joining all columns at once using pd.concat(axis=1) instead. To get a de-fragmented frame, use `newframe = frame.copy()`\n",
      "  portfolio_cumulative_returns[n] = (1 + sim_df.fillna(0)).cumprod()\n"
     ]
    },
    {
     "name": "stdout",
     "output_type": "stream",
     "text": [
      "Running Monte Carlo simulation number 200.\n"
     ]
    },
    {
     "name": "stderr",
     "output_type": "stream",
     "text": [
      "C:\\Users\\legar\\Desktop\\COMPUTER_SCIENCE\\05_FINANCIAL_SIMULATIONS_APIS\\PORTFOLIO_SIM_PROJECT\\MCForecastTools.py:117: PerformanceWarning: DataFrame is highly fragmented.  This is usually the result of calling `frame.insert` many times, which has poor performance.  Consider joining all columns at once using pd.concat(axis=1) instead. To get a de-fragmented frame, use `newframe = frame.copy()`\n",
      "  portfolio_cumulative_returns[n] = (1 + sim_df.fillna(0)).cumprod()\n",
      "C:\\Users\\legar\\Desktop\\COMPUTER_SCIENCE\\05_FINANCIAL_SIMULATIONS_APIS\\PORTFOLIO_SIM_PROJECT\\MCForecastTools.py:117: PerformanceWarning: DataFrame is highly fragmented.  This is usually the result of calling `frame.insert` many times, which has poor performance.  Consider joining all columns at once using pd.concat(axis=1) instead. To get a de-fragmented frame, use `newframe = frame.copy()`\n",
      "  portfolio_cumulative_returns[n] = (1 + sim_df.fillna(0)).cumprod()\n",
      "C:\\Users\\legar\\Desktop\\COMPUTER_SCIENCE\\05_FINANCIAL_SIMULATIONS_APIS\\PORTFOLIO_SIM_PROJECT\\MCForecastTools.py:117: PerformanceWarning: DataFrame is highly fragmented.  This is usually the result of calling `frame.insert` many times, which has poor performance.  Consider joining all columns at once using pd.concat(axis=1) instead. To get a de-fragmented frame, use `newframe = frame.copy()`\n",
      "  portfolio_cumulative_returns[n] = (1 + sim_df.fillna(0)).cumprod()\n",
      "C:\\Users\\legar\\Desktop\\COMPUTER_SCIENCE\\05_FINANCIAL_SIMULATIONS_APIS\\PORTFOLIO_SIM_PROJECT\\MCForecastTools.py:117: PerformanceWarning: DataFrame is highly fragmented.  This is usually the result of calling `frame.insert` many times, which has poor performance.  Consider joining all columns at once using pd.concat(axis=1) instead. To get a de-fragmented frame, use `newframe = frame.copy()`\n",
      "  portfolio_cumulative_returns[n] = (1 + sim_df.fillna(0)).cumprod()\n",
      "C:\\Users\\legar\\Desktop\\COMPUTER_SCIENCE\\05_FINANCIAL_SIMULATIONS_APIS\\PORTFOLIO_SIM_PROJECT\\MCForecastTools.py:117: PerformanceWarning: DataFrame is highly fragmented.  This is usually the result of calling `frame.insert` many times, which has poor performance.  Consider joining all columns at once using pd.concat(axis=1) instead. To get a de-fragmented frame, use `newframe = frame.copy()`\n",
      "  portfolio_cumulative_returns[n] = (1 + sim_df.fillna(0)).cumprod()\n",
      "C:\\Users\\legar\\Desktop\\COMPUTER_SCIENCE\\05_FINANCIAL_SIMULATIONS_APIS\\PORTFOLIO_SIM_PROJECT\\MCForecastTools.py:117: PerformanceWarning: DataFrame is highly fragmented.  This is usually the result of calling `frame.insert` many times, which has poor performance.  Consider joining all columns at once using pd.concat(axis=1) instead. To get a de-fragmented frame, use `newframe = frame.copy()`\n",
      "  portfolio_cumulative_returns[n] = (1 + sim_df.fillna(0)).cumprod()\n",
      "C:\\Users\\legar\\Desktop\\COMPUTER_SCIENCE\\05_FINANCIAL_SIMULATIONS_APIS\\PORTFOLIO_SIM_PROJECT\\MCForecastTools.py:117: PerformanceWarning: DataFrame is highly fragmented.  This is usually the result of calling `frame.insert` many times, which has poor performance.  Consider joining all columns at once using pd.concat(axis=1) instead. To get a de-fragmented frame, use `newframe = frame.copy()`\n",
      "  portfolio_cumulative_returns[n] = (1 + sim_df.fillna(0)).cumprod()\n",
      "C:\\Users\\legar\\Desktop\\COMPUTER_SCIENCE\\05_FINANCIAL_SIMULATIONS_APIS\\PORTFOLIO_SIM_PROJECT\\MCForecastTools.py:117: PerformanceWarning: DataFrame is highly fragmented.  This is usually the result of calling `frame.insert` many times, which has poor performance.  Consider joining all columns at once using pd.concat(axis=1) instead. To get a de-fragmented frame, use `newframe = frame.copy()`\n",
      "  portfolio_cumulative_returns[n] = (1 + sim_df.fillna(0)).cumprod()\n",
      "C:\\Users\\legar\\Desktop\\COMPUTER_SCIENCE\\05_FINANCIAL_SIMULATIONS_APIS\\PORTFOLIO_SIM_PROJECT\\MCForecastTools.py:117: PerformanceWarning: DataFrame is highly fragmented.  This is usually the result of calling `frame.insert` many times, which has poor performance.  Consider joining all columns at once using pd.concat(axis=1) instead. To get a de-fragmented frame, use `newframe = frame.copy()`\n",
      "  portfolio_cumulative_returns[n] = (1 + sim_df.fillna(0)).cumprod()\n",
      "C:\\Users\\legar\\Desktop\\COMPUTER_SCIENCE\\05_FINANCIAL_SIMULATIONS_APIS\\PORTFOLIO_SIM_PROJECT\\MCForecastTools.py:117: PerformanceWarning: DataFrame is highly fragmented.  This is usually the result of calling `frame.insert` many times, which has poor performance.  Consider joining all columns at once using pd.concat(axis=1) instead. To get a de-fragmented frame, use `newframe = frame.copy()`\n",
      "  portfolio_cumulative_returns[n] = (1 + sim_df.fillna(0)).cumprod()\n"
     ]
    },
    {
     "name": "stdout",
     "output_type": "stream",
     "text": [
      "Running Monte Carlo simulation number 210.\n"
     ]
    },
    {
     "name": "stderr",
     "output_type": "stream",
     "text": [
      "C:\\Users\\legar\\Desktop\\COMPUTER_SCIENCE\\05_FINANCIAL_SIMULATIONS_APIS\\PORTFOLIO_SIM_PROJECT\\MCForecastTools.py:117: PerformanceWarning: DataFrame is highly fragmented.  This is usually the result of calling `frame.insert` many times, which has poor performance.  Consider joining all columns at once using pd.concat(axis=1) instead. To get a de-fragmented frame, use `newframe = frame.copy()`\n",
      "  portfolio_cumulative_returns[n] = (1 + sim_df.fillna(0)).cumprod()\n",
      "C:\\Users\\legar\\Desktop\\COMPUTER_SCIENCE\\05_FINANCIAL_SIMULATIONS_APIS\\PORTFOLIO_SIM_PROJECT\\MCForecastTools.py:117: PerformanceWarning: DataFrame is highly fragmented.  This is usually the result of calling `frame.insert` many times, which has poor performance.  Consider joining all columns at once using pd.concat(axis=1) instead. To get a de-fragmented frame, use `newframe = frame.copy()`\n",
      "  portfolio_cumulative_returns[n] = (1 + sim_df.fillna(0)).cumprod()\n",
      "C:\\Users\\legar\\Desktop\\COMPUTER_SCIENCE\\05_FINANCIAL_SIMULATIONS_APIS\\PORTFOLIO_SIM_PROJECT\\MCForecastTools.py:117: PerformanceWarning: DataFrame is highly fragmented.  This is usually the result of calling `frame.insert` many times, which has poor performance.  Consider joining all columns at once using pd.concat(axis=1) instead. To get a de-fragmented frame, use `newframe = frame.copy()`\n",
      "  portfolio_cumulative_returns[n] = (1 + sim_df.fillna(0)).cumprod()\n",
      "C:\\Users\\legar\\Desktop\\COMPUTER_SCIENCE\\05_FINANCIAL_SIMULATIONS_APIS\\PORTFOLIO_SIM_PROJECT\\MCForecastTools.py:117: PerformanceWarning: DataFrame is highly fragmented.  This is usually the result of calling `frame.insert` many times, which has poor performance.  Consider joining all columns at once using pd.concat(axis=1) instead. To get a de-fragmented frame, use `newframe = frame.copy()`\n",
      "  portfolio_cumulative_returns[n] = (1 + sim_df.fillna(0)).cumprod()\n",
      "C:\\Users\\legar\\Desktop\\COMPUTER_SCIENCE\\05_FINANCIAL_SIMULATIONS_APIS\\PORTFOLIO_SIM_PROJECT\\MCForecastTools.py:117: PerformanceWarning: DataFrame is highly fragmented.  This is usually the result of calling `frame.insert` many times, which has poor performance.  Consider joining all columns at once using pd.concat(axis=1) instead. To get a de-fragmented frame, use `newframe = frame.copy()`\n",
      "  portfolio_cumulative_returns[n] = (1 + sim_df.fillna(0)).cumprod()\n",
      "C:\\Users\\legar\\Desktop\\COMPUTER_SCIENCE\\05_FINANCIAL_SIMULATIONS_APIS\\PORTFOLIO_SIM_PROJECT\\MCForecastTools.py:117: PerformanceWarning: DataFrame is highly fragmented.  This is usually the result of calling `frame.insert` many times, which has poor performance.  Consider joining all columns at once using pd.concat(axis=1) instead. To get a de-fragmented frame, use `newframe = frame.copy()`\n",
      "  portfolio_cumulative_returns[n] = (1 + sim_df.fillna(0)).cumprod()\n",
      "C:\\Users\\legar\\Desktop\\COMPUTER_SCIENCE\\05_FINANCIAL_SIMULATIONS_APIS\\PORTFOLIO_SIM_PROJECT\\MCForecastTools.py:117: PerformanceWarning: DataFrame is highly fragmented.  This is usually the result of calling `frame.insert` many times, which has poor performance.  Consider joining all columns at once using pd.concat(axis=1) instead. To get a de-fragmented frame, use `newframe = frame.copy()`\n",
      "  portfolio_cumulative_returns[n] = (1 + sim_df.fillna(0)).cumprod()\n",
      "C:\\Users\\legar\\Desktop\\COMPUTER_SCIENCE\\05_FINANCIAL_SIMULATIONS_APIS\\PORTFOLIO_SIM_PROJECT\\MCForecastTools.py:117: PerformanceWarning: DataFrame is highly fragmented.  This is usually the result of calling `frame.insert` many times, which has poor performance.  Consider joining all columns at once using pd.concat(axis=1) instead. To get a de-fragmented frame, use `newframe = frame.copy()`\n",
      "  portfolio_cumulative_returns[n] = (1 + sim_df.fillna(0)).cumprod()\n",
      "C:\\Users\\legar\\Desktop\\COMPUTER_SCIENCE\\05_FINANCIAL_SIMULATIONS_APIS\\PORTFOLIO_SIM_PROJECT\\MCForecastTools.py:117: PerformanceWarning: DataFrame is highly fragmented.  This is usually the result of calling `frame.insert` many times, which has poor performance.  Consider joining all columns at once using pd.concat(axis=1) instead. To get a de-fragmented frame, use `newframe = frame.copy()`\n",
      "  portfolio_cumulative_returns[n] = (1 + sim_df.fillna(0)).cumprod()\n",
      "C:\\Users\\legar\\Desktop\\COMPUTER_SCIENCE\\05_FINANCIAL_SIMULATIONS_APIS\\PORTFOLIO_SIM_PROJECT\\MCForecastTools.py:117: PerformanceWarning: DataFrame is highly fragmented.  This is usually the result of calling `frame.insert` many times, which has poor performance.  Consider joining all columns at once using pd.concat(axis=1) instead. To get a de-fragmented frame, use `newframe = frame.copy()`\n",
      "  portfolio_cumulative_returns[n] = (1 + sim_df.fillna(0)).cumprod()\n"
     ]
    },
    {
     "name": "stdout",
     "output_type": "stream",
     "text": [
      "Running Monte Carlo simulation number 220.\n"
     ]
    },
    {
     "name": "stderr",
     "output_type": "stream",
     "text": [
      "C:\\Users\\legar\\Desktop\\COMPUTER_SCIENCE\\05_FINANCIAL_SIMULATIONS_APIS\\PORTFOLIO_SIM_PROJECT\\MCForecastTools.py:117: PerformanceWarning: DataFrame is highly fragmented.  This is usually the result of calling `frame.insert` many times, which has poor performance.  Consider joining all columns at once using pd.concat(axis=1) instead. To get a de-fragmented frame, use `newframe = frame.copy()`\n",
      "  portfolio_cumulative_returns[n] = (1 + sim_df.fillna(0)).cumprod()\n",
      "C:\\Users\\legar\\Desktop\\COMPUTER_SCIENCE\\05_FINANCIAL_SIMULATIONS_APIS\\PORTFOLIO_SIM_PROJECT\\MCForecastTools.py:117: PerformanceWarning: DataFrame is highly fragmented.  This is usually the result of calling `frame.insert` many times, which has poor performance.  Consider joining all columns at once using pd.concat(axis=1) instead. To get a de-fragmented frame, use `newframe = frame.copy()`\n",
      "  portfolio_cumulative_returns[n] = (1 + sim_df.fillna(0)).cumprod()\n",
      "C:\\Users\\legar\\Desktop\\COMPUTER_SCIENCE\\05_FINANCIAL_SIMULATIONS_APIS\\PORTFOLIO_SIM_PROJECT\\MCForecastTools.py:117: PerformanceWarning: DataFrame is highly fragmented.  This is usually the result of calling `frame.insert` many times, which has poor performance.  Consider joining all columns at once using pd.concat(axis=1) instead. To get a de-fragmented frame, use `newframe = frame.copy()`\n",
      "  portfolio_cumulative_returns[n] = (1 + sim_df.fillna(0)).cumprod()\n",
      "C:\\Users\\legar\\Desktop\\COMPUTER_SCIENCE\\05_FINANCIAL_SIMULATIONS_APIS\\PORTFOLIO_SIM_PROJECT\\MCForecastTools.py:117: PerformanceWarning: DataFrame is highly fragmented.  This is usually the result of calling `frame.insert` many times, which has poor performance.  Consider joining all columns at once using pd.concat(axis=1) instead. To get a de-fragmented frame, use `newframe = frame.copy()`\n",
      "  portfolio_cumulative_returns[n] = (1 + sim_df.fillna(0)).cumprod()\n",
      "C:\\Users\\legar\\Desktop\\COMPUTER_SCIENCE\\05_FINANCIAL_SIMULATIONS_APIS\\PORTFOLIO_SIM_PROJECT\\MCForecastTools.py:117: PerformanceWarning: DataFrame is highly fragmented.  This is usually the result of calling `frame.insert` many times, which has poor performance.  Consider joining all columns at once using pd.concat(axis=1) instead. To get a de-fragmented frame, use `newframe = frame.copy()`\n",
      "  portfolio_cumulative_returns[n] = (1 + sim_df.fillna(0)).cumprod()\n",
      "C:\\Users\\legar\\Desktop\\COMPUTER_SCIENCE\\05_FINANCIAL_SIMULATIONS_APIS\\PORTFOLIO_SIM_PROJECT\\MCForecastTools.py:117: PerformanceWarning: DataFrame is highly fragmented.  This is usually the result of calling `frame.insert` many times, which has poor performance.  Consider joining all columns at once using pd.concat(axis=1) instead. To get a de-fragmented frame, use `newframe = frame.copy()`\n",
      "  portfolio_cumulative_returns[n] = (1 + sim_df.fillna(0)).cumprod()\n",
      "C:\\Users\\legar\\Desktop\\COMPUTER_SCIENCE\\05_FINANCIAL_SIMULATIONS_APIS\\PORTFOLIO_SIM_PROJECT\\MCForecastTools.py:117: PerformanceWarning: DataFrame is highly fragmented.  This is usually the result of calling `frame.insert` many times, which has poor performance.  Consider joining all columns at once using pd.concat(axis=1) instead. To get a de-fragmented frame, use `newframe = frame.copy()`\n",
      "  portfolio_cumulative_returns[n] = (1 + sim_df.fillna(0)).cumprod()\n",
      "C:\\Users\\legar\\Desktop\\COMPUTER_SCIENCE\\05_FINANCIAL_SIMULATIONS_APIS\\PORTFOLIO_SIM_PROJECT\\MCForecastTools.py:117: PerformanceWarning: DataFrame is highly fragmented.  This is usually the result of calling `frame.insert` many times, which has poor performance.  Consider joining all columns at once using pd.concat(axis=1) instead. To get a de-fragmented frame, use `newframe = frame.copy()`\n",
      "  portfolio_cumulative_returns[n] = (1 + sim_df.fillna(0)).cumprod()\n",
      "C:\\Users\\legar\\Desktop\\COMPUTER_SCIENCE\\05_FINANCIAL_SIMULATIONS_APIS\\PORTFOLIO_SIM_PROJECT\\MCForecastTools.py:117: PerformanceWarning: DataFrame is highly fragmented.  This is usually the result of calling `frame.insert` many times, which has poor performance.  Consider joining all columns at once using pd.concat(axis=1) instead. To get a de-fragmented frame, use `newframe = frame.copy()`\n",
      "  portfolio_cumulative_returns[n] = (1 + sim_df.fillna(0)).cumprod()\n",
      "C:\\Users\\legar\\Desktop\\COMPUTER_SCIENCE\\05_FINANCIAL_SIMULATIONS_APIS\\PORTFOLIO_SIM_PROJECT\\MCForecastTools.py:117: PerformanceWarning: DataFrame is highly fragmented.  This is usually the result of calling `frame.insert` many times, which has poor performance.  Consider joining all columns at once using pd.concat(axis=1) instead. To get a de-fragmented frame, use `newframe = frame.copy()`\n",
      "  portfolio_cumulative_returns[n] = (1 + sim_df.fillna(0)).cumprod()\n"
     ]
    },
    {
     "name": "stdout",
     "output_type": "stream",
     "text": [
      "Running Monte Carlo simulation number 230.\n"
     ]
    },
    {
     "name": "stderr",
     "output_type": "stream",
     "text": [
      "C:\\Users\\legar\\Desktop\\COMPUTER_SCIENCE\\05_FINANCIAL_SIMULATIONS_APIS\\PORTFOLIO_SIM_PROJECT\\MCForecastTools.py:117: PerformanceWarning: DataFrame is highly fragmented.  This is usually the result of calling `frame.insert` many times, which has poor performance.  Consider joining all columns at once using pd.concat(axis=1) instead. To get a de-fragmented frame, use `newframe = frame.copy()`\n",
      "  portfolio_cumulative_returns[n] = (1 + sim_df.fillna(0)).cumprod()\n",
      "C:\\Users\\legar\\Desktop\\COMPUTER_SCIENCE\\05_FINANCIAL_SIMULATIONS_APIS\\PORTFOLIO_SIM_PROJECT\\MCForecastTools.py:117: PerformanceWarning: DataFrame is highly fragmented.  This is usually the result of calling `frame.insert` many times, which has poor performance.  Consider joining all columns at once using pd.concat(axis=1) instead. To get a de-fragmented frame, use `newframe = frame.copy()`\n",
      "  portfolio_cumulative_returns[n] = (1 + sim_df.fillna(0)).cumprod()\n",
      "C:\\Users\\legar\\Desktop\\COMPUTER_SCIENCE\\05_FINANCIAL_SIMULATIONS_APIS\\PORTFOLIO_SIM_PROJECT\\MCForecastTools.py:117: PerformanceWarning: DataFrame is highly fragmented.  This is usually the result of calling `frame.insert` many times, which has poor performance.  Consider joining all columns at once using pd.concat(axis=1) instead. To get a de-fragmented frame, use `newframe = frame.copy()`\n",
      "  portfolio_cumulative_returns[n] = (1 + sim_df.fillna(0)).cumprod()\n",
      "C:\\Users\\legar\\Desktop\\COMPUTER_SCIENCE\\05_FINANCIAL_SIMULATIONS_APIS\\PORTFOLIO_SIM_PROJECT\\MCForecastTools.py:117: PerformanceWarning: DataFrame is highly fragmented.  This is usually the result of calling `frame.insert` many times, which has poor performance.  Consider joining all columns at once using pd.concat(axis=1) instead. To get a de-fragmented frame, use `newframe = frame.copy()`\n",
      "  portfolio_cumulative_returns[n] = (1 + sim_df.fillna(0)).cumprod()\n",
      "C:\\Users\\legar\\Desktop\\COMPUTER_SCIENCE\\05_FINANCIAL_SIMULATIONS_APIS\\PORTFOLIO_SIM_PROJECT\\MCForecastTools.py:117: PerformanceWarning: DataFrame is highly fragmented.  This is usually the result of calling `frame.insert` many times, which has poor performance.  Consider joining all columns at once using pd.concat(axis=1) instead. To get a de-fragmented frame, use `newframe = frame.copy()`\n",
      "  portfolio_cumulative_returns[n] = (1 + sim_df.fillna(0)).cumprod()\n",
      "C:\\Users\\legar\\Desktop\\COMPUTER_SCIENCE\\05_FINANCIAL_SIMULATIONS_APIS\\PORTFOLIO_SIM_PROJECT\\MCForecastTools.py:117: PerformanceWarning: DataFrame is highly fragmented.  This is usually the result of calling `frame.insert` many times, which has poor performance.  Consider joining all columns at once using pd.concat(axis=1) instead. To get a de-fragmented frame, use `newframe = frame.copy()`\n",
      "  portfolio_cumulative_returns[n] = (1 + sim_df.fillna(0)).cumprod()\n",
      "C:\\Users\\legar\\Desktop\\COMPUTER_SCIENCE\\05_FINANCIAL_SIMULATIONS_APIS\\PORTFOLIO_SIM_PROJECT\\MCForecastTools.py:117: PerformanceWarning: DataFrame is highly fragmented.  This is usually the result of calling `frame.insert` many times, which has poor performance.  Consider joining all columns at once using pd.concat(axis=1) instead. To get a de-fragmented frame, use `newframe = frame.copy()`\n",
      "  portfolio_cumulative_returns[n] = (1 + sim_df.fillna(0)).cumprod()\n",
      "C:\\Users\\legar\\Desktop\\COMPUTER_SCIENCE\\05_FINANCIAL_SIMULATIONS_APIS\\PORTFOLIO_SIM_PROJECT\\MCForecastTools.py:117: PerformanceWarning: DataFrame is highly fragmented.  This is usually the result of calling `frame.insert` many times, which has poor performance.  Consider joining all columns at once using pd.concat(axis=1) instead. To get a de-fragmented frame, use `newframe = frame.copy()`\n",
      "  portfolio_cumulative_returns[n] = (1 + sim_df.fillna(0)).cumprod()\n",
      "C:\\Users\\legar\\Desktop\\COMPUTER_SCIENCE\\05_FINANCIAL_SIMULATIONS_APIS\\PORTFOLIO_SIM_PROJECT\\MCForecastTools.py:117: PerformanceWarning: DataFrame is highly fragmented.  This is usually the result of calling `frame.insert` many times, which has poor performance.  Consider joining all columns at once using pd.concat(axis=1) instead. To get a de-fragmented frame, use `newframe = frame.copy()`\n",
      "  portfolio_cumulative_returns[n] = (1 + sim_df.fillna(0)).cumprod()\n",
      "C:\\Users\\legar\\Desktop\\COMPUTER_SCIENCE\\05_FINANCIAL_SIMULATIONS_APIS\\PORTFOLIO_SIM_PROJECT\\MCForecastTools.py:117: PerformanceWarning: DataFrame is highly fragmented.  This is usually the result of calling `frame.insert` many times, which has poor performance.  Consider joining all columns at once using pd.concat(axis=1) instead. To get a de-fragmented frame, use `newframe = frame.copy()`\n",
      "  portfolio_cumulative_returns[n] = (1 + sim_df.fillna(0)).cumprod()\n"
     ]
    },
    {
     "name": "stdout",
     "output_type": "stream",
     "text": [
      "Running Monte Carlo simulation number 240.\n"
     ]
    },
    {
     "name": "stderr",
     "output_type": "stream",
     "text": [
      "C:\\Users\\legar\\Desktop\\COMPUTER_SCIENCE\\05_FINANCIAL_SIMULATIONS_APIS\\PORTFOLIO_SIM_PROJECT\\MCForecastTools.py:117: PerformanceWarning: DataFrame is highly fragmented.  This is usually the result of calling `frame.insert` many times, which has poor performance.  Consider joining all columns at once using pd.concat(axis=1) instead. To get a de-fragmented frame, use `newframe = frame.copy()`\n",
      "  portfolio_cumulative_returns[n] = (1 + sim_df.fillna(0)).cumprod()\n",
      "C:\\Users\\legar\\Desktop\\COMPUTER_SCIENCE\\05_FINANCIAL_SIMULATIONS_APIS\\PORTFOLIO_SIM_PROJECT\\MCForecastTools.py:117: PerformanceWarning: DataFrame is highly fragmented.  This is usually the result of calling `frame.insert` many times, which has poor performance.  Consider joining all columns at once using pd.concat(axis=1) instead. To get a de-fragmented frame, use `newframe = frame.copy()`\n",
      "  portfolio_cumulative_returns[n] = (1 + sim_df.fillna(0)).cumprod()\n",
      "C:\\Users\\legar\\Desktop\\COMPUTER_SCIENCE\\05_FINANCIAL_SIMULATIONS_APIS\\PORTFOLIO_SIM_PROJECT\\MCForecastTools.py:117: PerformanceWarning: DataFrame is highly fragmented.  This is usually the result of calling `frame.insert` many times, which has poor performance.  Consider joining all columns at once using pd.concat(axis=1) instead. To get a de-fragmented frame, use `newframe = frame.copy()`\n",
      "  portfolio_cumulative_returns[n] = (1 + sim_df.fillna(0)).cumprod()\n",
      "C:\\Users\\legar\\Desktop\\COMPUTER_SCIENCE\\05_FINANCIAL_SIMULATIONS_APIS\\PORTFOLIO_SIM_PROJECT\\MCForecastTools.py:117: PerformanceWarning: DataFrame is highly fragmented.  This is usually the result of calling `frame.insert` many times, which has poor performance.  Consider joining all columns at once using pd.concat(axis=1) instead. To get a de-fragmented frame, use `newframe = frame.copy()`\n",
      "  portfolio_cumulative_returns[n] = (1 + sim_df.fillna(0)).cumprod()\n",
      "C:\\Users\\legar\\Desktop\\COMPUTER_SCIENCE\\05_FINANCIAL_SIMULATIONS_APIS\\PORTFOLIO_SIM_PROJECT\\MCForecastTools.py:117: PerformanceWarning: DataFrame is highly fragmented.  This is usually the result of calling `frame.insert` many times, which has poor performance.  Consider joining all columns at once using pd.concat(axis=1) instead. To get a de-fragmented frame, use `newframe = frame.copy()`\n",
      "  portfolio_cumulative_returns[n] = (1 + sim_df.fillna(0)).cumprod()\n",
      "C:\\Users\\legar\\Desktop\\COMPUTER_SCIENCE\\05_FINANCIAL_SIMULATIONS_APIS\\PORTFOLIO_SIM_PROJECT\\MCForecastTools.py:117: PerformanceWarning: DataFrame is highly fragmented.  This is usually the result of calling `frame.insert` many times, which has poor performance.  Consider joining all columns at once using pd.concat(axis=1) instead. To get a de-fragmented frame, use `newframe = frame.copy()`\n",
      "  portfolio_cumulative_returns[n] = (1 + sim_df.fillna(0)).cumprod()\n",
      "C:\\Users\\legar\\Desktop\\COMPUTER_SCIENCE\\05_FINANCIAL_SIMULATIONS_APIS\\PORTFOLIO_SIM_PROJECT\\MCForecastTools.py:117: PerformanceWarning: DataFrame is highly fragmented.  This is usually the result of calling `frame.insert` many times, which has poor performance.  Consider joining all columns at once using pd.concat(axis=1) instead. To get a de-fragmented frame, use `newframe = frame.copy()`\n",
      "  portfolio_cumulative_returns[n] = (1 + sim_df.fillna(0)).cumprod()\n",
      "C:\\Users\\legar\\Desktop\\COMPUTER_SCIENCE\\05_FINANCIAL_SIMULATIONS_APIS\\PORTFOLIO_SIM_PROJECT\\MCForecastTools.py:117: PerformanceWarning: DataFrame is highly fragmented.  This is usually the result of calling `frame.insert` many times, which has poor performance.  Consider joining all columns at once using pd.concat(axis=1) instead. To get a de-fragmented frame, use `newframe = frame.copy()`\n",
      "  portfolio_cumulative_returns[n] = (1 + sim_df.fillna(0)).cumprod()\n",
      "C:\\Users\\legar\\Desktop\\COMPUTER_SCIENCE\\05_FINANCIAL_SIMULATIONS_APIS\\PORTFOLIO_SIM_PROJECT\\MCForecastTools.py:117: PerformanceWarning: DataFrame is highly fragmented.  This is usually the result of calling `frame.insert` many times, which has poor performance.  Consider joining all columns at once using pd.concat(axis=1) instead. To get a de-fragmented frame, use `newframe = frame.copy()`\n",
      "  portfolio_cumulative_returns[n] = (1 + sim_df.fillna(0)).cumprod()\n",
      "C:\\Users\\legar\\Desktop\\COMPUTER_SCIENCE\\05_FINANCIAL_SIMULATIONS_APIS\\PORTFOLIO_SIM_PROJECT\\MCForecastTools.py:117: PerformanceWarning: DataFrame is highly fragmented.  This is usually the result of calling `frame.insert` many times, which has poor performance.  Consider joining all columns at once using pd.concat(axis=1) instead. To get a de-fragmented frame, use `newframe = frame.copy()`\n",
      "  portfolio_cumulative_returns[n] = (1 + sim_df.fillna(0)).cumprod()\n"
     ]
    },
    {
     "name": "stdout",
     "output_type": "stream",
     "text": [
      "Running Monte Carlo simulation number 250.\n"
     ]
    },
    {
     "name": "stderr",
     "output_type": "stream",
     "text": [
      "C:\\Users\\legar\\Desktop\\COMPUTER_SCIENCE\\05_FINANCIAL_SIMULATIONS_APIS\\PORTFOLIO_SIM_PROJECT\\MCForecastTools.py:117: PerformanceWarning: DataFrame is highly fragmented.  This is usually the result of calling `frame.insert` many times, which has poor performance.  Consider joining all columns at once using pd.concat(axis=1) instead. To get a de-fragmented frame, use `newframe = frame.copy()`\n",
      "  portfolio_cumulative_returns[n] = (1 + sim_df.fillna(0)).cumprod()\n",
      "C:\\Users\\legar\\Desktop\\COMPUTER_SCIENCE\\05_FINANCIAL_SIMULATIONS_APIS\\PORTFOLIO_SIM_PROJECT\\MCForecastTools.py:117: PerformanceWarning: DataFrame is highly fragmented.  This is usually the result of calling `frame.insert` many times, which has poor performance.  Consider joining all columns at once using pd.concat(axis=1) instead. To get a de-fragmented frame, use `newframe = frame.copy()`\n",
      "  portfolio_cumulative_returns[n] = (1 + sim_df.fillna(0)).cumprod()\n",
      "C:\\Users\\legar\\Desktop\\COMPUTER_SCIENCE\\05_FINANCIAL_SIMULATIONS_APIS\\PORTFOLIO_SIM_PROJECT\\MCForecastTools.py:117: PerformanceWarning: DataFrame is highly fragmented.  This is usually the result of calling `frame.insert` many times, which has poor performance.  Consider joining all columns at once using pd.concat(axis=1) instead. To get a de-fragmented frame, use `newframe = frame.copy()`\n",
      "  portfolio_cumulative_returns[n] = (1 + sim_df.fillna(0)).cumprod()\n",
      "C:\\Users\\legar\\Desktop\\COMPUTER_SCIENCE\\05_FINANCIAL_SIMULATIONS_APIS\\PORTFOLIO_SIM_PROJECT\\MCForecastTools.py:117: PerformanceWarning: DataFrame is highly fragmented.  This is usually the result of calling `frame.insert` many times, which has poor performance.  Consider joining all columns at once using pd.concat(axis=1) instead. To get a de-fragmented frame, use `newframe = frame.copy()`\n",
      "  portfolio_cumulative_returns[n] = (1 + sim_df.fillna(0)).cumprod()\n",
      "C:\\Users\\legar\\Desktop\\COMPUTER_SCIENCE\\05_FINANCIAL_SIMULATIONS_APIS\\PORTFOLIO_SIM_PROJECT\\MCForecastTools.py:117: PerformanceWarning: DataFrame is highly fragmented.  This is usually the result of calling `frame.insert` many times, which has poor performance.  Consider joining all columns at once using pd.concat(axis=1) instead. To get a de-fragmented frame, use `newframe = frame.copy()`\n",
      "  portfolio_cumulative_returns[n] = (1 + sim_df.fillna(0)).cumprod()\n",
      "C:\\Users\\legar\\Desktop\\COMPUTER_SCIENCE\\05_FINANCIAL_SIMULATIONS_APIS\\PORTFOLIO_SIM_PROJECT\\MCForecastTools.py:117: PerformanceWarning: DataFrame is highly fragmented.  This is usually the result of calling `frame.insert` many times, which has poor performance.  Consider joining all columns at once using pd.concat(axis=1) instead. To get a de-fragmented frame, use `newframe = frame.copy()`\n",
      "  portfolio_cumulative_returns[n] = (1 + sim_df.fillna(0)).cumprod()\n",
      "C:\\Users\\legar\\Desktop\\COMPUTER_SCIENCE\\05_FINANCIAL_SIMULATIONS_APIS\\PORTFOLIO_SIM_PROJECT\\MCForecastTools.py:117: PerformanceWarning: DataFrame is highly fragmented.  This is usually the result of calling `frame.insert` many times, which has poor performance.  Consider joining all columns at once using pd.concat(axis=1) instead. To get a de-fragmented frame, use `newframe = frame.copy()`\n",
      "  portfolio_cumulative_returns[n] = (1 + sim_df.fillna(0)).cumprod()\n",
      "C:\\Users\\legar\\Desktop\\COMPUTER_SCIENCE\\05_FINANCIAL_SIMULATIONS_APIS\\PORTFOLIO_SIM_PROJECT\\MCForecastTools.py:117: PerformanceWarning: DataFrame is highly fragmented.  This is usually the result of calling `frame.insert` many times, which has poor performance.  Consider joining all columns at once using pd.concat(axis=1) instead. To get a de-fragmented frame, use `newframe = frame.copy()`\n",
      "  portfolio_cumulative_returns[n] = (1 + sim_df.fillna(0)).cumprod()\n",
      "C:\\Users\\legar\\Desktop\\COMPUTER_SCIENCE\\05_FINANCIAL_SIMULATIONS_APIS\\PORTFOLIO_SIM_PROJECT\\MCForecastTools.py:117: PerformanceWarning: DataFrame is highly fragmented.  This is usually the result of calling `frame.insert` many times, which has poor performance.  Consider joining all columns at once using pd.concat(axis=1) instead. To get a de-fragmented frame, use `newframe = frame.copy()`\n",
      "  portfolio_cumulative_returns[n] = (1 + sim_df.fillna(0)).cumprod()\n",
      "C:\\Users\\legar\\Desktop\\COMPUTER_SCIENCE\\05_FINANCIAL_SIMULATIONS_APIS\\PORTFOLIO_SIM_PROJECT\\MCForecastTools.py:117: PerformanceWarning: DataFrame is highly fragmented.  This is usually the result of calling `frame.insert` many times, which has poor performance.  Consider joining all columns at once using pd.concat(axis=1) instead. To get a de-fragmented frame, use `newframe = frame.copy()`\n",
      "  portfolio_cumulative_returns[n] = (1 + sim_df.fillna(0)).cumprod()\n",
      "C:\\Users\\legar\\Desktop\\COMPUTER_SCIENCE\\05_FINANCIAL_SIMULATIONS_APIS\\PORTFOLIO_SIM_PROJECT\\MCForecastTools.py:117: PerformanceWarning: DataFrame is highly fragmented.  This is usually the result of calling `frame.insert` many times, which has poor performance.  Consider joining all columns at once using pd.concat(axis=1) instead. To get a de-fragmented frame, use `newframe = frame.copy()`\n",
      "  portfolio_cumulative_returns[n] = (1 + sim_df.fillna(0)).cumprod()\n"
     ]
    },
    {
     "name": "stdout",
     "output_type": "stream",
     "text": [
      "Running Monte Carlo simulation number 260.\n"
     ]
    },
    {
     "name": "stderr",
     "output_type": "stream",
     "text": [
      "C:\\Users\\legar\\Desktop\\COMPUTER_SCIENCE\\05_FINANCIAL_SIMULATIONS_APIS\\PORTFOLIO_SIM_PROJECT\\MCForecastTools.py:117: PerformanceWarning: DataFrame is highly fragmented.  This is usually the result of calling `frame.insert` many times, which has poor performance.  Consider joining all columns at once using pd.concat(axis=1) instead. To get a de-fragmented frame, use `newframe = frame.copy()`\n",
      "  portfolio_cumulative_returns[n] = (1 + sim_df.fillna(0)).cumprod()\n",
      "C:\\Users\\legar\\Desktop\\COMPUTER_SCIENCE\\05_FINANCIAL_SIMULATIONS_APIS\\PORTFOLIO_SIM_PROJECT\\MCForecastTools.py:117: PerformanceWarning: DataFrame is highly fragmented.  This is usually the result of calling `frame.insert` many times, which has poor performance.  Consider joining all columns at once using pd.concat(axis=1) instead. To get a de-fragmented frame, use `newframe = frame.copy()`\n",
      "  portfolio_cumulative_returns[n] = (1 + sim_df.fillna(0)).cumprod()\n",
      "C:\\Users\\legar\\Desktop\\COMPUTER_SCIENCE\\05_FINANCIAL_SIMULATIONS_APIS\\PORTFOLIO_SIM_PROJECT\\MCForecastTools.py:117: PerformanceWarning: DataFrame is highly fragmented.  This is usually the result of calling `frame.insert` many times, which has poor performance.  Consider joining all columns at once using pd.concat(axis=1) instead. To get a de-fragmented frame, use `newframe = frame.copy()`\n",
      "  portfolio_cumulative_returns[n] = (1 + sim_df.fillna(0)).cumprod()\n",
      "C:\\Users\\legar\\Desktop\\COMPUTER_SCIENCE\\05_FINANCIAL_SIMULATIONS_APIS\\PORTFOLIO_SIM_PROJECT\\MCForecastTools.py:117: PerformanceWarning: DataFrame is highly fragmented.  This is usually the result of calling `frame.insert` many times, which has poor performance.  Consider joining all columns at once using pd.concat(axis=1) instead. To get a de-fragmented frame, use `newframe = frame.copy()`\n",
      "  portfolio_cumulative_returns[n] = (1 + sim_df.fillna(0)).cumprod()\n",
      "C:\\Users\\legar\\Desktop\\COMPUTER_SCIENCE\\05_FINANCIAL_SIMULATIONS_APIS\\PORTFOLIO_SIM_PROJECT\\MCForecastTools.py:117: PerformanceWarning: DataFrame is highly fragmented.  This is usually the result of calling `frame.insert` many times, which has poor performance.  Consider joining all columns at once using pd.concat(axis=1) instead. To get a de-fragmented frame, use `newframe = frame.copy()`\n",
      "  portfolio_cumulative_returns[n] = (1 + sim_df.fillna(0)).cumprod()\n",
      "C:\\Users\\legar\\Desktop\\COMPUTER_SCIENCE\\05_FINANCIAL_SIMULATIONS_APIS\\PORTFOLIO_SIM_PROJECT\\MCForecastTools.py:117: PerformanceWarning: DataFrame is highly fragmented.  This is usually the result of calling `frame.insert` many times, which has poor performance.  Consider joining all columns at once using pd.concat(axis=1) instead. To get a de-fragmented frame, use `newframe = frame.copy()`\n",
      "  portfolio_cumulative_returns[n] = (1 + sim_df.fillna(0)).cumprod()\n",
      "C:\\Users\\legar\\Desktop\\COMPUTER_SCIENCE\\05_FINANCIAL_SIMULATIONS_APIS\\PORTFOLIO_SIM_PROJECT\\MCForecastTools.py:117: PerformanceWarning: DataFrame is highly fragmented.  This is usually the result of calling `frame.insert` many times, which has poor performance.  Consider joining all columns at once using pd.concat(axis=1) instead. To get a de-fragmented frame, use `newframe = frame.copy()`\n",
      "  portfolio_cumulative_returns[n] = (1 + sim_df.fillna(0)).cumprod()\n",
      "C:\\Users\\legar\\Desktop\\COMPUTER_SCIENCE\\05_FINANCIAL_SIMULATIONS_APIS\\PORTFOLIO_SIM_PROJECT\\MCForecastTools.py:117: PerformanceWarning: DataFrame is highly fragmented.  This is usually the result of calling `frame.insert` many times, which has poor performance.  Consider joining all columns at once using pd.concat(axis=1) instead. To get a de-fragmented frame, use `newframe = frame.copy()`\n",
      "  portfolio_cumulative_returns[n] = (1 + sim_df.fillna(0)).cumprod()\n",
      "C:\\Users\\legar\\Desktop\\COMPUTER_SCIENCE\\05_FINANCIAL_SIMULATIONS_APIS\\PORTFOLIO_SIM_PROJECT\\MCForecastTools.py:117: PerformanceWarning: DataFrame is highly fragmented.  This is usually the result of calling `frame.insert` many times, which has poor performance.  Consider joining all columns at once using pd.concat(axis=1) instead. To get a de-fragmented frame, use `newframe = frame.copy()`\n",
      "  portfolio_cumulative_returns[n] = (1 + sim_df.fillna(0)).cumprod()\n",
      "C:\\Users\\legar\\Desktop\\COMPUTER_SCIENCE\\05_FINANCIAL_SIMULATIONS_APIS\\PORTFOLIO_SIM_PROJECT\\MCForecastTools.py:117: PerformanceWarning: DataFrame is highly fragmented.  This is usually the result of calling `frame.insert` many times, which has poor performance.  Consider joining all columns at once using pd.concat(axis=1) instead. To get a de-fragmented frame, use `newframe = frame.copy()`\n",
      "  portfolio_cumulative_returns[n] = (1 + sim_df.fillna(0)).cumprod()\n"
     ]
    },
    {
     "name": "stdout",
     "output_type": "stream",
     "text": [
      "Running Monte Carlo simulation number 270.\n"
     ]
    },
    {
     "name": "stderr",
     "output_type": "stream",
     "text": [
      "C:\\Users\\legar\\Desktop\\COMPUTER_SCIENCE\\05_FINANCIAL_SIMULATIONS_APIS\\PORTFOLIO_SIM_PROJECT\\MCForecastTools.py:117: PerformanceWarning: DataFrame is highly fragmented.  This is usually the result of calling `frame.insert` many times, which has poor performance.  Consider joining all columns at once using pd.concat(axis=1) instead. To get a de-fragmented frame, use `newframe = frame.copy()`\n",
      "  portfolio_cumulative_returns[n] = (1 + sim_df.fillna(0)).cumprod()\n",
      "C:\\Users\\legar\\Desktop\\COMPUTER_SCIENCE\\05_FINANCIAL_SIMULATIONS_APIS\\PORTFOLIO_SIM_PROJECT\\MCForecastTools.py:117: PerformanceWarning: DataFrame is highly fragmented.  This is usually the result of calling `frame.insert` many times, which has poor performance.  Consider joining all columns at once using pd.concat(axis=1) instead. To get a de-fragmented frame, use `newframe = frame.copy()`\n",
      "  portfolio_cumulative_returns[n] = (1 + sim_df.fillna(0)).cumprod()\n",
      "C:\\Users\\legar\\Desktop\\COMPUTER_SCIENCE\\05_FINANCIAL_SIMULATIONS_APIS\\PORTFOLIO_SIM_PROJECT\\MCForecastTools.py:117: PerformanceWarning: DataFrame is highly fragmented.  This is usually the result of calling `frame.insert` many times, which has poor performance.  Consider joining all columns at once using pd.concat(axis=1) instead. To get a de-fragmented frame, use `newframe = frame.copy()`\n",
      "  portfolio_cumulative_returns[n] = (1 + sim_df.fillna(0)).cumprod()\n",
      "C:\\Users\\legar\\Desktop\\COMPUTER_SCIENCE\\05_FINANCIAL_SIMULATIONS_APIS\\PORTFOLIO_SIM_PROJECT\\MCForecastTools.py:117: PerformanceWarning: DataFrame is highly fragmented.  This is usually the result of calling `frame.insert` many times, which has poor performance.  Consider joining all columns at once using pd.concat(axis=1) instead. To get a de-fragmented frame, use `newframe = frame.copy()`\n",
      "  portfolio_cumulative_returns[n] = (1 + sim_df.fillna(0)).cumprod()\n",
      "C:\\Users\\legar\\Desktop\\COMPUTER_SCIENCE\\05_FINANCIAL_SIMULATIONS_APIS\\PORTFOLIO_SIM_PROJECT\\MCForecastTools.py:117: PerformanceWarning: DataFrame is highly fragmented.  This is usually the result of calling `frame.insert` many times, which has poor performance.  Consider joining all columns at once using pd.concat(axis=1) instead. To get a de-fragmented frame, use `newframe = frame.copy()`\n",
      "  portfolio_cumulative_returns[n] = (1 + sim_df.fillna(0)).cumprod()\n",
      "C:\\Users\\legar\\Desktop\\COMPUTER_SCIENCE\\05_FINANCIAL_SIMULATIONS_APIS\\PORTFOLIO_SIM_PROJECT\\MCForecastTools.py:117: PerformanceWarning: DataFrame is highly fragmented.  This is usually the result of calling `frame.insert` many times, which has poor performance.  Consider joining all columns at once using pd.concat(axis=1) instead. To get a de-fragmented frame, use `newframe = frame.copy()`\n",
      "  portfolio_cumulative_returns[n] = (1 + sim_df.fillna(0)).cumprod()\n",
      "C:\\Users\\legar\\Desktop\\COMPUTER_SCIENCE\\05_FINANCIAL_SIMULATIONS_APIS\\PORTFOLIO_SIM_PROJECT\\MCForecastTools.py:117: PerformanceWarning: DataFrame is highly fragmented.  This is usually the result of calling `frame.insert` many times, which has poor performance.  Consider joining all columns at once using pd.concat(axis=1) instead. To get a de-fragmented frame, use `newframe = frame.copy()`\n",
      "  portfolio_cumulative_returns[n] = (1 + sim_df.fillna(0)).cumprod()\n",
      "C:\\Users\\legar\\Desktop\\COMPUTER_SCIENCE\\05_FINANCIAL_SIMULATIONS_APIS\\PORTFOLIO_SIM_PROJECT\\MCForecastTools.py:117: PerformanceWarning: DataFrame is highly fragmented.  This is usually the result of calling `frame.insert` many times, which has poor performance.  Consider joining all columns at once using pd.concat(axis=1) instead. To get a de-fragmented frame, use `newframe = frame.copy()`\n",
      "  portfolio_cumulative_returns[n] = (1 + sim_df.fillna(0)).cumprod()\n",
      "C:\\Users\\legar\\Desktop\\COMPUTER_SCIENCE\\05_FINANCIAL_SIMULATIONS_APIS\\PORTFOLIO_SIM_PROJECT\\MCForecastTools.py:117: PerformanceWarning: DataFrame is highly fragmented.  This is usually the result of calling `frame.insert` many times, which has poor performance.  Consider joining all columns at once using pd.concat(axis=1) instead. To get a de-fragmented frame, use `newframe = frame.copy()`\n",
      "  portfolio_cumulative_returns[n] = (1 + sim_df.fillna(0)).cumprod()\n",
      "C:\\Users\\legar\\Desktop\\COMPUTER_SCIENCE\\05_FINANCIAL_SIMULATIONS_APIS\\PORTFOLIO_SIM_PROJECT\\MCForecastTools.py:117: PerformanceWarning: DataFrame is highly fragmented.  This is usually the result of calling `frame.insert` many times, which has poor performance.  Consider joining all columns at once using pd.concat(axis=1) instead. To get a de-fragmented frame, use `newframe = frame.copy()`\n",
      "  portfolio_cumulative_returns[n] = (1 + sim_df.fillna(0)).cumprod()\n"
     ]
    },
    {
     "name": "stdout",
     "output_type": "stream",
     "text": [
      "Running Monte Carlo simulation number 280.\n"
     ]
    },
    {
     "name": "stderr",
     "output_type": "stream",
     "text": [
      "C:\\Users\\legar\\Desktop\\COMPUTER_SCIENCE\\05_FINANCIAL_SIMULATIONS_APIS\\PORTFOLIO_SIM_PROJECT\\MCForecastTools.py:117: PerformanceWarning: DataFrame is highly fragmented.  This is usually the result of calling `frame.insert` many times, which has poor performance.  Consider joining all columns at once using pd.concat(axis=1) instead. To get a de-fragmented frame, use `newframe = frame.copy()`\n",
      "  portfolio_cumulative_returns[n] = (1 + sim_df.fillna(0)).cumprod()\n",
      "C:\\Users\\legar\\Desktop\\COMPUTER_SCIENCE\\05_FINANCIAL_SIMULATIONS_APIS\\PORTFOLIO_SIM_PROJECT\\MCForecastTools.py:117: PerformanceWarning: DataFrame is highly fragmented.  This is usually the result of calling `frame.insert` many times, which has poor performance.  Consider joining all columns at once using pd.concat(axis=1) instead. To get a de-fragmented frame, use `newframe = frame.copy()`\n",
      "  portfolio_cumulative_returns[n] = (1 + sim_df.fillna(0)).cumprod()\n",
      "C:\\Users\\legar\\Desktop\\COMPUTER_SCIENCE\\05_FINANCIAL_SIMULATIONS_APIS\\PORTFOLIO_SIM_PROJECT\\MCForecastTools.py:117: PerformanceWarning: DataFrame is highly fragmented.  This is usually the result of calling `frame.insert` many times, which has poor performance.  Consider joining all columns at once using pd.concat(axis=1) instead. To get a de-fragmented frame, use `newframe = frame.copy()`\n",
      "  portfolio_cumulative_returns[n] = (1 + sim_df.fillna(0)).cumprod()\n",
      "C:\\Users\\legar\\Desktop\\COMPUTER_SCIENCE\\05_FINANCIAL_SIMULATIONS_APIS\\PORTFOLIO_SIM_PROJECT\\MCForecastTools.py:117: PerformanceWarning: DataFrame is highly fragmented.  This is usually the result of calling `frame.insert` many times, which has poor performance.  Consider joining all columns at once using pd.concat(axis=1) instead. To get a de-fragmented frame, use `newframe = frame.copy()`\n",
      "  portfolio_cumulative_returns[n] = (1 + sim_df.fillna(0)).cumprod()\n",
      "C:\\Users\\legar\\Desktop\\COMPUTER_SCIENCE\\05_FINANCIAL_SIMULATIONS_APIS\\PORTFOLIO_SIM_PROJECT\\MCForecastTools.py:117: PerformanceWarning: DataFrame is highly fragmented.  This is usually the result of calling `frame.insert` many times, which has poor performance.  Consider joining all columns at once using pd.concat(axis=1) instead. To get a de-fragmented frame, use `newframe = frame.copy()`\n",
      "  portfolio_cumulative_returns[n] = (1 + sim_df.fillna(0)).cumprod()\n",
      "C:\\Users\\legar\\Desktop\\COMPUTER_SCIENCE\\05_FINANCIAL_SIMULATIONS_APIS\\PORTFOLIO_SIM_PROJECT\\MCForecastTools.py:117: PerformanceWarning: DataFrame is highly fragmented.  This is usually the result of calling `frame.insert` many times, which has poor performance.  Consider joining all columns at once using pd.concat(axis=1) instead. To get a de-fragmented frame, use `newframe = frame.copy()`\n",
      "  portfolio_cumulative_returns[n] = (1 + sim_df.fillna(0)).cumprod()\n",
      "C:\\Users\\legar\\Desktop\\COMPUTER_SCIENCE\\05_FINANCIAL_SIMULATIONS_APIS\\PORTFOLIO_SIM_PROJECT\\MCForecastTools.py:117: PerformanceWarning: DataFrame is highly fragmented.  This is usually the result of calling `frame.insert` many times, which has poor performance.  Consider joining all columns at once using pd.concat(axis=1) instead. To get a de-fragmented frame, use `newframe = frame.copy()`\n",
      "  portfolio_cumulative_returns[n] = (1 + sim_df.fillna(0)).cumprod()\n",
      "C:\\Users\\legar\\Desktop\\COMPUTER_SCIENCE\\05_FINANCIAL_SIMULATIONS_APIS\\PORTFOLIO_SIM_PROJECT\\MCForecastTools.py:117: PerformanceWarning: DataFrame is highly fragmented.  This is usually the result of calling `frame.insert` many times, which has poor performance.  Consider joining all columns at once using pd.concat(axis=1) instead. To get a de-fragmented frame, use `newframe = frame.copy()`\n",
      "  portfolio_cumulative_returns[n] = (1 + sim_df.fillna(0)).cumprod()\n",
      "C:\\Users\\legar\\Desktop\\COMPUTER_SCIENCE\\05_FINANCIAL_SIMULATIONS_APIS\\PORTFOLIO_SIM_PROJECT\\MCForecastTools.py:117: PerformanceWarning: DataFrame is highly fragmented.  This is usually the result of calling `frame.insert` many times, which has poor performance.  Consider joining all columns at once using pd.concat(axis=1) instead. To get a de-fragmented frame, use `newframe = frame.copy()`\n",
      "  portfolio_cumulative_returns[n] = (1 + sim_df.fillna(0)).cumprod()\n"
     ]
    },
    {
     "name": "stdout",
     "output_type": "stream",
     "text": [
      "Running Monte Carlo simulation number 290.\n"
     ]
    },
    {
     "name": "stderr",
     "output_type": "stream",
     "text": [
      "C:\\Users\\legar\\Desktop\\COMPUTER_SCIENCE\\05_FINANCIAL_SIMULATIONS_APIS\\PORTFOLIO_SIM_PROJECT\\MCForecastTools.py:117: PerformanceWarning: DataFrame is highly fragmented.  This is usually the result of calling `frame.insert` many times, which has poor performance.  Consider joining all columns at once using pd.concat(axis=1) instead. To get a de-fragmented frame, use `newframe = frame.copy()`\n",
      "  portfolio_cumulative_returns[n] = (1 + sim_df.fillna(0)).cumprod()\n",
      "C:\\Users\\legar\\Desktop\\COMPUTER_SCIENCE\\05_FINANCIAL_SIMULATIONS_APIS\\PORTFOLIO_SIM_PROJECT\\MCForecastTools.py:117: PerformanceWarning: DataFrame is highly fragmented.  This is usually the result of calling `frame.insert` many times, which has poor performance.  Consider joining all columns at once using pd.concat(axis=1) instead. To get a de-fragmented frame, use `newframe = frame.copy()`\n",
      "  portfolio_cumulative_returns[n] = (1 + sim_df.fillna(0)).cumprod()\n",
      "C:\\Users\\legar\\Desktop\\COMPUTER_SCIENCE\\05_FINANCIAL_SIMULATIONS_APIS\\PORTFOLIO_SIM_PROJECT\\MCForecastTools.py:117: PerformanceWarning: DataFrame is highly fragmented.  This is usually the result of calling `frame.insert` many times, which has poor performance.  Consider joining all columns at once using pd.concat(axis=1) instead. To get a de-fragmented frame, use `newframe = frame.copy()`\n",
      "  portfolio_cumulative_returns[n] = (1 + sim_df.fillna(0)).cumprod()\n",
      "C:\\Users\\legar\\Desktop\\COMPUTER_SCIENCE\\05_FINANCIAL_SIMULATIONS_APIS\\PORTFOLIO_SIM_PROJECT\\MCForecastTools.py:117: PerformanceWarning: DataFrame is highly fragmented.  This is usually the result of calling `frame.insert` many times, which has poor performance.  Consider joining all columns at once using pd.concat(axis=1) instead. To get a de-fragmented frame, use `newframe = frame.copy()`\n",
      "  portfolio_cumulative_returns[n] = (1 + sim_df.fillna(0)).cumprod()\n",
      "C:\\Users\\legar\\Desktop\\COMPUTER_SCIENCE\\05_FINANCIAL_SIMULATIONS_APIS\\PORTFOLIO_SIM_PROJECT\\MCForecastTools.py:117: PerformanceWarning: DataFrame is highly fragmented.  This is usually the result of calling `frame.insert` many times, which has poor performance.  Consider joining all columns at once using pd.concat(axis=1) instead. To get a de-fragmented frame, use `newframe = frame.copy()`\n",
      "  portfolio_cumulative_returns[n] = (1 + sim_df.fillna(0)).cumprod()\n",
      "C:\\Users\\legar\\Desktop\\COMPUTER_SCIENCE\\05_FINANCIAL_SIMULATIONS_APIS\\PORTFOLIO_SIM_PROJECT\\MCForecastTools.py:117: PerformanceWarning: DataFrame is highly fragmented.  This is usually the result of calling `frame.insert` many times, which has poor performance.  Consider joining all columns at once using pd.concat(axis=1) instead. To get a de-fragmented frame, use `newframe = frame.copy()`\n",
      "  portfolio_cumulative_returns[n] = (1 + sim_df.fillna(0)).cumprod()\n",
      "C:\\Users\\legar\\Desktop\\COMPUTER_SCIENCE\\05_FINANCIAL_SIMULATIONS_APIS\\PORTFOLIO_SIM_PROJECT\\MCForecastTools.py:117: PerformanceWarning: DataFrame is highly fragmented.  This is usually the result of calling `frame.insert` many times, which has poor performance.  Consider joining all columns at once using pd.concat(axis=1) instead. To get a de-fragmented frame, use `newframe = frame.copy()`\n",
      "  portfolio_cumulative_returns[n] = (1 + sim_df.fillna(0)).cumprod()\n",
      "C:\\Users\\legar\\Desktop\\COMPUTER_SCIENCE\\05_FINANCIAL_SIMULATIONS_APIS\\PORTFOLIO_SIM_PROJECT\\MCForecastTools.py:117: PerformanceWarning: DataFrame is highly fragmented.  This is usually the result of calling `frame.insert` many times, which has poor performance.  Consider joining all columns at once using pd.concat(axis=1) instead. To get a de-fragmented frame, use `newframe = frame.copy()`\n",
      "  portfolio_cumulative_returns[n] = (1 + sim_df.fillna(0)).cumprod()\n",
      "C:\\Users\\legar\\Desktop\\COMPUTER_SCIENCE\\05_FINANCIAL_SIMULATIONS_APIS\\PORTFOLIO_SIM_PROJECT\\MCForecastTools.py:117: PerformanceWarning: DataFrame is highly fragmented.  This is usually the result of calling `frame.insert` many times, which has poor performance.  Consider joining all columns at once using pd.concat(axis=1) instead. To get a de-fragmented frame, use `newframe = frame.copy()`\n",
      "  portfolio_cumulative_returns[n] = (1 + sim_df.fillna(0)).cumprod()\n",
      "C:\\Users\\legar\\Desktop\\COMPUTER_SCIENCE\\05_FINANCIAL_SIMULATIONS_APIS\\PORTFOLIO_SIM_PROJECT\\MCForecastTools.py:117: PerformanceWarning: DataFrame is highly fragmented.  This is usually the result of calling `frame.insert` many times, which has poor performance.  Consider joining all columns at once using pd.concat(axis=1) instead. To get a de-fragmented frame, use `newframe = frame.copy()`\n",
      "  portfolio_cumulative_returns[n] = (1 + sim_df.fillna(0)).cumprod()\n",
      "C:\\Users\\legar\\Desktop\\COMPUTER_SCIENCE\\05_FINANCIAL_SIMULATIONS_APIS\\PORTFOLIO_SIM_PROJECT\\MCForecastTools.py:117: PerformanceWarning: DataFrame is highly fragmented.  This is usually the result of calling `frame.insert` many times, which has poor performance.  Consider joining all columns at once using pd.concat(axis=1) instead. To get a de-fragmented frame, use `newframe = frame.copy()`\n",
      "  portfolio_cumulative_returns[n] = (1 + sim_df.fillna(0)).cumprod()\n"
     ]
    },
    {
     "name": "stdout",
     "output_type": "stream",
     "text": [
      "Running Monte Carlo simulation number 300.\n"
     ]
    },
    {
     "name": "stderr",
     "output_type": "stream",
     "text": [
      "C:\\Users\\legar\\Desktop\\COMPUTER_SCIENCE\\05_FINANCIAL_SIMULATIONS_APIS\\PORTFOLIO_SIM_PROJECT\\MCForecastTools.py:117: PerformanceWarning: DataFrame is highly fragmented.  This is usually the result of calling `frame.insert` many times, which has poor performance.  Consider joining all columns at once using pd.concat(axis=1) instead. To get a de-fragmented frame, use `newframe = frame.copy()`\n",
      "  portfolio_cumulative_returns[n] = (1 + sim_df.fillna(0)).cumprod()\n",
      "C:\\Users\\legar\\Desktop\\COMPUTER_SCIENCE\\05_FINANCIAL_SIMULATIONS_APIS\\PORTFOLIO_SIM_PROJECT\\MCForecastTools.py:117: PerformanceWarning: DataFrame is highly fragmented.  This is usually the result of calling `frame.insert` many times, which has poor performance.  Consider joining all columns at once using pd.concat(axis=1) instead. To get a de-fragmented frame, use `newframe = frame.copy()`\n",
      "  portfolio_cumulative_returns[n] = (1 + sim_df.fillna(0)).cumprod()\n",
      "C:\\Users\\legar\\Desktop\\COMPUTER_SCIENCE\\05_FINANCIAL_SIMULATIONS_APIS\\PORTFOLIO_SIM_PROJECT\\MCForecastTools.py:117: PerformanceWarning: DataFrame is highly fragmented.  This is usually the result of calling `frame.insert` many times, which has poor performance.  Consider joining all columns at once using pd.concat(axis=1) instead. To get a de-fragmented frame, use `newframe = frame.copy()`\n",
      "  portfolio_cumulative_returns[n] = (1 + sim_df.fillna(0)).cumprod()\n",
      "C:\\Users\\legar\\Desktop\\COMPUTER_SCIENCE\\05_FINANCIAL_SIMULATIONS_APIS\\PORTFOLIO_SIM_PROJECT\\MCForecastTools.py:117: PerformanceWarning: DataFrame is highly fragmented.  This is usually the result of calling `frame.insert` many times, which has poor performance.  Consider joining all columns at once using pd.concat(axis=1) instead. To get a de-fragmented frame, use `newframe = frame.copy()`\n",
      "  portfolio_cumulative_returns[n] = (1 + sim_df.fillna(0)).cumprod()\n",
      "C:\\Users\\legar\\Desktop\\COMPUTER_SCIENCE\\05_FINANCIAL_SIMULATIONS_APIS\\PORTFOLIO_SIM_PROJECT\\MCForecastTools.py:117: PerformanceWarning: DataFrame is highly fragmented.  This is usually the result of calling `frame.insert` many times, which has poor performance.  Consider joining all columns at once using pd.concat(axis=1) instead. To get a de-fragmented frame, use `newframe = frame.copy()`\n",
      "  portfolio_cumulative_returns[n] = (1 + sim_df.fillna(0)).cumprod()\n",
      "C:\\Users\\legar\\Desktop\\COMPUTER_SCIENCE\\05_FINANCIAL_SIMULATIONS_APIS\\PORTFOLIO_SIM_PROJECT\\MCForecastTools.py:117: PerformanceWarning: DataFrame is highly fragmented.  This is usually the result of calling `frame.insert` many times, which has poor performance.  Consider joining all columns at once using pd.concat(axis=1) instead. To get a de-fragmented frame, use `newframe = frame.copy()`\n",
      "  portfolio_cumulative_returns[n] = (1 + sim_df.fillna(0)).cumprod()\n",
      "C:\\Users\\legar\\Desktop\\COMPUTER_SCIENCE\\05_FINANCIAL_SIMULATIONS_APIS\\PORTFOLIO_SIM_PROJECT\\MCForecastTools.py:117: PerformanceWarning: DataFrame is highly fragmented.  This is usually the result of calling `frame.insert` many times, which has poor performance.  Consider joining all columns at once using pd.concat(axis=1) instead. To get a de-fragmented frame, use `newframe = frame.copy()`\n",
      "  portfolio_cumulative_returns[n] = (1 + sim_df.fillna(0)).cumprod()\n",
      "C:\\Users\\legar\\Desktop\\COMPUTER_SCIENCE\\05_FINANCIAL_SIMULATIONS_APIS\\PORTFOLIO_SIM_PROJECT\\MCForecastTools.py:117: PerformanceWarning: DataFrame is highly fragmented.  This is usually the result of calling `frame.insert` many times, which has poor performance.  Consider joining all columns at once using pd.concat(axis=1) instead. To get a de-fragmented frame, use `newframe = frame.copy()`\n",
      "  portfolio_cumulative_returns[n] = (1 + sim_df.fillna(0)).cumprod()\n",
      "C:\\Users\\legar\\Desktop\\COMPUTER_SCIENCE\\05_FINANCIAL_SIMULATIONS_APIS\\PORTFOLIO_SIM_PROJECT\\MCForecastTools.py:117: PerformanceWarning: DataFrame is highly fragmented.  This is usually the result of calling `frame.insert` many times, which has poor performance.  Consider joining all columns at once using pd.concat(axis=1) instead. To get a de-fragmented frame, use `newframe = frame.copy()`\n",
      "  portfolio_cumulative_returns[n] = (1 + sim_df.fillna(0)).cumprod()\n",
      "C:\\Users\\legar\\Desktop\\COMPUTER_SCIENCE\\05_FINANCIAL_SIMULATIONS_APIS\\PORTFOLIO_SIM_PROJECT\\MCForecastTools.py:117: PerformanceWarning: DataFrame is highly fragmented.  This is usually the result of calling `frame.insert` many times, which has poor performance.  Consider joining all columns at once using pd.concat(axis=1) instead. To get a de-fragmented frame, use `newframe = frame.copy()`\n",
      "  portfolio_cumulative_returns[n] = (1 + sim_df.fillna(0)).cumprod()\n"
     ]
    },
    {
     "name": "stdout",
     "output_type": "stream",
     "text": [
      "Running Monte Carlo simulation number 310.\n"
     ]
    },
    {
     "name": "stderr",
     "output_type": "stream",
     "text": [
      "C:\\Users\\legar\\Desktop\\COMPUTER_SCIENCE\\05_FINANCIAL_SIMULATIONS_APIS\\PORTFOLIO_SIM_PROJECT\\MCForecastTools.py:117: PerformanceWarning: DataFrame is highly fragmented.  This is usually the result of calling `frame.insert` many times, which has poor performance.  Consider joining all columns at once using pd.concat(axis=1) instead. To get a de-fragmented frame, use `newframe = frame.copy()`\n",
      "  portfolio_cumulative_returns[n] = (1 + sim_df.fillna(0)).cumprod()\n",
      "C:\\Users\\legar\\Desktop\\COMPUTER_SCIENCE\\05_FINANCIAL_SIMULATIONS_APIS\\PORTFOLIO_SIM_PROJECT\\MCForecastTools.py:117: PerformanceWarning: DataFrame is highly fragmented.  This is usually the result of calling `frame.insert` many times, which has poor performance.  Consider joining all columns at once using pd.concat(axis=1) instead. To get a de-fragmented frame, use `newframe = frame.copy()`\n",
      "  portfolio_cumulative_returns[n] = (1 + sim_df.fillna(0)).cumprod()\n",
      "C:\\Users\\legar\\Desktop\\COMPUTER_SCIENCE\\05_FINANCIAL_SIMULATIONS_APIS\\PORTFOLIO_SIM_PROJECT\\MCForecastTools.py:117: PerformanceWarning: DataFrame is highly fragmented.  This is usually the result of calling `frame.insert` many times, which has poor performance.  Consider joining all columns at once using pd.concat(axis=1) instead. To get a de-fragmented frame, use `newframe = frame.copy()`\n",
      "  portfolio_cumulative_returns[n] = (1 + sim_df.fillna(0)).cumprod()\n",
      "C:\\Users\\legar\\Desktop\\COMPUTER_SCIENCE\\05_FINANCIAL_SIMULATIONS_APIS\\PORTFOLIO_SIM_PROJECT\\MCForecastTools.py:117: PerformanceWarning: DataFrame is highly fragmented.  This is usually the result of calling `frame.insert` many times, which has poor performance.  Consider joining all columns at once using pd.concat(axis=1) instead. To get a de-fragmented frame, use `newframe = frame.copy()`\n",
      "  portfolio_cumulative_returns[n] = (1 + sim_df.fillna(0)).cumprod()\n",
      "C:\\Users\\legar\\Desktop\\COMPUTER_SCIENCE\\05_FINANCIAL_SIMULATIONS_APIS\\PORTFOLIO_SIM_PROJECT\\MCForecastTools.py:117: PerformanceWarning: DataFrame is highly fragmented.  This is usually the result of calling `frame.insert` many times, which has poor performance.  Consider joining all columns at once using pd.concat(axis=1) instead. To get a de-fragmented frame, use `newframe = frame.copy()`\n",
      "  portfolio_cumulative_returns[n] = (1 + sim_df.fillna(0)).cumprod()\n",
      "C:\\Users\\legar\\Desktop\\COMPUTER_SCIENCE\\05_FINANCIAL_SIMULATIONS_APIS\\PORTFOLIO_SIM_PROJECT\\MCForecastTools.py:117: PerformanceWarning: DataFrame is highly fragmented.  This is usually the result of calling `frame.insert` many times, which has poor performance.  Consider joining all columns at once using pd.concat(axis=1) instead. To get a de-fragmented frame, use `newframe = frame.copy()`\n",
      "  portfolio_cumulative_returns[n] = (1 + sim_df.fillna(0)).cumprod()\n",
      "C:\\Users\\legar\\Desktop\\COMPUTER_SCIENCE\\05_FINANCIAL_SIMULATIONS_APIS\\PORTFOLIO_SIM_PROJECT\\MCForecastTools.py:117: PerformanceWarning: DataFrame is highly fragmented.  This is usually the result of calling `frame.insert` many times, which has poor performance.  Consider joining all columns at once using pd.concat(axis=1) instead. To get a de-fragmented frame, use `newframe = frame.copy()`\n",
      "  portfolio_cumulative_returns[n] = (1 + sim_df.fillna(0)).cumprod()\n",
      "C:\\Users\\legar\\Desktop\\COMPUTER_SCIENCE\\05_FINANCIAL_SIMULATIONS_APIS\\PORTFOLIO_SIM_PROJECT\\MCForecastTools.py:117: PerformanceWarning: DataFrame is highly fragmented.  This is usually the result of calling `frame.insert` many times, which has poor performance.  Consider joining all columns at once using pd.concat(axis=1) instead. To get a de-fragmented frame, use `newframe = frame.copy()`\n",
      "  portfolio_cumulative_returns[n] = (1 + sim_df.fillna(0)).cumprod()\n",
      "C:\\Users\\legar\\Desktop\\COMPUTER_SCIENCE\\05_FINANCIAL_SIMULATIONS_APIS\\PORTFOLIO_SIM_PROJECT\\MCForecastTools.py:117: PerformanceWarning: DataFrame is highly fragmented.  This is usually the result of calling `frame.insert` many times, which has poor performance.  Consider joining all columns at once using pd.concat(axis=1) instead. To get a de-fragmented frame, use `newframe = frame.copy()`\n",
      "  portfolio_cumulative_returns[n] = (1 + sim_df.fillna(0)).cumprod()\n",
      "C:\\Users\\legar\\Desktop\\COMPUTER_SCIENCE\\05_FINANCIAL_SIMULATIONS_APIS\\PORTFOLIO_SIM_PROJECT\\MCForecastTools.py:117: PerformanceWarning: DataFrame is highly fragmented.  This is usually the result of calling `frame.insert` many times, which has poor performance.  Consider joining all columns at once using pd.concat(axis=1) instead. To get a de-fragmented frame, use `newframe = frame.copy()`\n",
      "  portfolio_cumulative_returns[n] = (1 + sim_df.fillna(0)).cumprod()\n"
     ]
    },
    {
     "name": "stdout",
     "output_type": "stream",
     "text": [
      "Running Monte Carlo simulation number 320.\n"
     ]
    },
    {
     "name": "stderr",
     "output_type": "stream",
     "text": [
      "C:\\Users\\legar\\Desktop\\COMPUTER_SCIENCE\\05_FINANCIAL_SIMULATIONS_APIS\\PORTFOLIO_SIM_PROJECT\\MCForecastTools.py:117: PerformanceWarning: DataFrame is highly fragmented.  This is usually the result of calling `frame.insert` many times, which has poor performance.  Consider joining all columns at once using pd.concat(axis=1) instead. To get a de-fragmented frame, use `newframe = frame.copy()`\n",
      "  portfolio_cumulative_returns[n] = (1 + sim_df.fillna(0)).cumprod()\n",
      "C:\\Users\\legar\\Desktop\\COMPUTER_SCIENCE\\05_FINANCIAL_SIMULATIONS_APIS\\PORTFOLIO_SIM_PROJECT\\MCForecastTools.py:117: PerformanceWarning: DataFrame is highly fragmented.  This is usually the result of calling `frame.insert` many times, which has poor performance.  Consider joining all columns at once using pd.concat(axis=1) instead. To get a de-fragmented frame, use `newframe = frame.copy()`\n",
      "  portfolio_cumulative_returns[n] = (1 + sim_df.fillna(0)).cumprod()\n",
      "C:\\Users\\legar\\Desktop\\COMPUTER_SCIENCE\\05_FINANCIAL_SIMULATIONS_APIS\\PORTFOLIO_SIM_PROJECT\\MCForecastTools.py:117: PerformanceWarning: DataFrame is highly fragmented.  This is usually the result of calling `frame.insert` many times, which has poor performance.  Consider joining all columns at once using pd.concat(axis=1) instead. To get a de-fragmented frame, use `newframe = frame.copy()`\n",
      "  portfolio_cumulative_returns[n] = (1 + sim_df.fillna(0)).cumprod()\n",
      "C:\\Users\\legar\\Desktop\\COMPUTER_SCIENCE\\05_FINANCIAL_SIMULATIONS_APIS\\PORTFOLIO_SIM_PROJECT\\MCForecastTools.py:117: PerformanceWarning: DataFrame is highly fragmented.  This is usually the result of calling `frame.insert` many times, which has poor performance.  Consider joining all columns at once using pd.concat(axis=1) instead. To get a de-fragmented frame, use `newframe = frame.copy()`\n",
      "  portfolio_cumulative_returns[n] = (1 + sim_df.fillna(0)).cumprod()\n",
      "C:\\Users\\legar\\Desktop\\COMPUTER_SCIENCE\\05_FINANCIAL_SIMULATIONS_APIS\\PORTFOLIO_SIM_PROJECT\\MCForecastTools.py:117: PerformanceWarning: DataFrame is highly fragmented.  This is usually the result of calling `frame.insert` many times, which has poor performance.  Consider joining all columns at once using pd.concat(axis=1) instead. To get a de-fragmented frame, use `newframe = frame.copy()`\n",
      "  portfolio_cumulative_returns[n] = (1 + sim_df.fillna(0)).cumprod()\n",
      "C:\\Users\\legar\\Desktop\\COMPUTER_SCIENCE\\05_FINANCIAL_SIMULATIONS_APIS\\PORTFOLIO_SIM_PROJECT\\MCForecastTools.py:117: PerformanceWarning: DataFrame is highly fragmented.  This is usually the result of calling `frame.insert` many times, which has poor performance.  Consider joining all columns at once using pd.concat(axis=1) instead. To get a de-fragmented frame, use `newframe = frame.copy()`\n",
      "  portfolio_cumulative_returns[n] = (1 + sim_df.fillna(0)).cumprod()\n",
      "C:\\Users\\legar\\Desktop\\COMPUTER_SCIENCE\\05_FINANCIAL_SIMULATIONS_APIS\\PORTFOLIO_SIM_PROJECT\\MCForecastTools.py:117: PerformanceWarning: DataFrame is highly fragmented.  This is usually the result of calling `frame.insert` many times, which has poor performance.  Consider joining all columns at once using pd.concat(axis=1) instead. To get a de-fragmented frame, use `newframe = frame.copy()`\n",
      "  portfolio_cumulative_returns[n] = (1 + sim_df.fillna(0)).cumprod()\n",
      "C:\\Users\\legar\\Desktop\\COMPUTER_SCIENCE\\05_FINANCIAL_SIMULATIONS_APIS\\PORTFOLIO_SIM_PROJECT\\MCForecastTools.py:117: PerformanceWarning: DataFrame is highly fragmented.  This is usually the result of calling `frame.insert` many times, which has poor performance.  Consider joining all columns at once using pd.concat(axis=1) instead. To get a de-fragmented frame, use `newframe = frame.copy()`\n",
      "  portfolio_cumulative_returns[n] = (1 + sim_df.fillna(0)).cumprod()\n",
      "C:\\Users\\legar\\Desktop\\COMPUTER_SCIENCE\\05_FINANCIAL_SIMULATIONS_APIS\\PORTFOLIO_SIM_PROJECT\\MCForecastTools.py:117: PerformanceWarning: DataFrame is highly fragmented.  This is usually the result of calling `frame.insert` many times, which has poor performance.  Consider joining all columns at once using pd.concat(axis=1) instead. To get a de-fragmented frame, use `newframe = frame.copy()`\n",
      "  portfolio_cumulative_returns[n] = (1 + sim_df.fillna(0)).cumprod()\n",
      "C:\\Users\\legar\\Desktop\\COMPUTER_SCIENCE\\05_FINANCIAL_SIMULATIONS_APIS\\PORTFOLIO_SIM_PROJECT\\MCForecastTools.py:117: PerformanceWarning: DataFrame is highly fragmented.  This is usually the result of calling `frame.insert` many times, which has poor performance.  Consider joining all columns at once using pd.concat(axis=1) instead. To get a de-fragmented frame, use `newframe = frame.copy()`\n",
      "  portfolio_cumulative_returns[n] = (1 + sim_df.fillna(0)).cumprod()\n"
     ]
    },
    {
     "name": "stdout",
     "output_type": "stream",
     "text": [
      "Running Monte Carlo simulation number 330.\n"
     ]
    },
    {
     "name": "stderr",
     "output_type": "stream",
     "text": [
      "C:\\Users\\legar\\Desktop\\COMPUTER_SCIENCE\\05_FINANCIAL_SIMULATIONS_APIS\\PORTFOLIO_SIM_PROJECT\\MCForecastTools.py:117: PerformanceWarning: DataFrame is highly fragmented.  This is usually the result of calling `frame.insert` many times, which has poor performance.  Consider joining all columns at once using pd.concat(axis=1) instead. To get a de-fragmented frame, use `newframe = frame.copy()`\n",
      "  portfolio_cumulative_returns[n] = (1 + sim_df.fillna(0)).cumprod()\n",
      "C:\\Users\\legar\\Desktop\\COMPUTER_SCIENCE\\05_FINANCIAL_SIMULATIONS_APIS\\PORTFOLIO_SIM_PROJECT\\MCForecastTools.py:117: PerformanceWarning: DataFrame is highly fragmented.  This is usually the result of calling `frame.insert` many times, which has poor performance.  Consider joining all columns at once using pd.concat(axis=1) instead. To get a de-fragmented frame, use `newframe = frame.copy()`\n",
      "  portfolio_cumulative_returns[n] = (1 + sim_df.fillna(0)).cumprod()\n",
      "C:\\Users\\legar\\Desktop\\COMPUTER_SCIENCE\\05_FINANCIAL_SIMULATIONS_APIS\\PORTFOLIO_SIM_PROJECT\\MCForecastTools.py:117: PerformanceWarning: DataFrame is highly fragmented.  This is usually the result of calling `frame.insert` many times, which has poor performance.  Consider joining all columns at once using pd.concat(axis=1) instead. To get a de-fragmented frame, use `newframe = frame.copy()`\n",
      "  portfolio_cumulative_returns[n] = (1 + sim_df.fillna(0)).cumprod()\n",
      "C:\\Users\\legar\\Desktop\\COMPUTER_SCIENCE\\05_FINANCIAL_SIMULATIONS_APIS\\PORTFOLIO_SIM_PROJECT\\MCForecastTools.py:117: PerformanceWarning: DataFrame is highly fragmented.  This is usually the result of calling `frame.insert` many times, which has poor performance.  Consider joining all columns at once using pd.concat(axis=1) instead. To get a de-fragmented frame, use `newframe = frame.copy()`\n",
      "  portfolio_cumulative_returns[n] = (1 + sim_df.fillna(0)).cumprod()\n",
      "C:\\Users\\legar\\Desktop\\COMPUTER_SCIENCE\\05_FINANCIAL_SIMULATIONS_APIS\\PORTFOLIO_SIM_PROJECT\\MCForecastTools.py:117: PerformanceWarning: DataFrame is highly fragmented.  This is usually the result of calling `frame.insert` many times, which has poor performance.  Consider joining all columns at once using pd.concat(axis=1) instead. To get a de-fragmented frame, use `newframe = frame.copy()`\n",
      "  portfolio_cumulative_returns[n] = (1 + sim_df.fillna(0)).cumprod()\n",
      "C:\\Users\\legar\\Desktop\\COMPUTER_SCIENCE\\05_FINANCIAL_SIMULATIONS_APIS\\PORTFOLIO_SIM_PROJECT\\MCForecastTools.py:117: PerformanceWarning: DataFrame is highly fragmented.  This is usually the result of calling `frame.insert` many times, which has poor performance.  Consider joining all columns at once using pd.concat(axis=1) instead. To get a de-fragmented frame, use `newframe = frame.copy()`\n",
      "  portfolio_cumulative_returns[n] = (1 + sim_df.fillna(0)).cumprod()\n",
      "C:\\Users\\legar\\Desktop\\COMPUTER_SCIENCE\\05_FINANCIAL_SIMULATIONS_APIS\\PORTFOLIO_SIM_PROJECT\\MCForecastTools.py:117: PerformanceWarning: DataFrame is highly fragmented.  This is usually the result of calling `frame.insert` many times, which has poor performance.  Consider joining all columns at once using pd.concat(axis=1) instead. To get a de-fragmented frame, use `newframe = frame.copy()`\n",
      "  portfolio_cumulative_returns[n] = (1 + sim_df.fillna(0)).cumprod()\n",
      "C:\\Users\\legar\\Desktop\\COMPUTER_SCIENCE\\05_FINANCIAL_SIMULATIONS_APIS\\PORTFOLIO_SIM_PROJECT\\MCForecastTools.py:117: PerformanceWarning: DataFrame is highly fragmented.  This is usually the result of calling `frame.insert` many times, which has poor performance.  Consider joining all columns at once using pd.concat(axis=1) instead. To get a de-fragmented frame, use `newframe = frame.copy()`\n",
      "  portfolio_cumulative_returns[n] = (1 + sim_df.fillna(0)).cumprod()\n",
      "C:\\Users\\legar\\Desktop\\COMPUTER_SCIENCE\\05_FINANCIAL_SIMULATIONS_APIS\\PORTFOLIO_SIM_PROJECT\\MCForecastTools.py:117: PerformanceWarning: DataFrame is highly fragmented.  This is usually the result of calling `frame.insert` many times, which has poor performance.  Consider joining all columns at once using pd.concat(axis=1) instead. To get a de-fragmented frame, use `newframe = frame.copy()`\n",
      "  portfolio_cumulative_returns[n] = (1 + sim_df.fillna(0)).cumprod()\n"
     ]
    },
    {
     "name": "stdout",
     "output_type": "stream",
     "text": [
      "Running Monte Carlo simulation number 340.\n"
     ]
    },
    {
     "name": "stderr",
     "output_type": "stream",
     "text": [
      "C:\\Users\\legar\\Desktop\\COMPUTER_SCIENCE\\05_FINANCIAL_SIMULATIONS_APIS\\PORTFOLIO_SIM_PROJECT\\MCForecastTools.py:117: PerformanceWarning: DataFrame is highly fragmented.  This is usually the result of calling `frame.insert` many times, which has poor performance.  Consider joining all columns at once using pd.concat(axis=1) instead. To get a de-fragmented frame, use `newframe = frame.copy()`\n",
      "  portfolio_cumulative_returns[n] = (1 + sim_df.fillna(0)).cumprod()\n",
      "C:\\Users\\legar\\Desktop\\COMPUTER_SCIENCE\\05_FINANCIAL_SIMULATIONS_APIS\\PORTFOLIO_SIM_PROJECT\\MCForecastTools.py:117: PerformanceWarning: DataFrame is highly fragmented.  This is usually the result of calling `frame.insert` many times, which has poor performance.  Consider joining all columns at once using pd.concat(axis=1) instead. To get a de-fragmented frame, use `newframe = frame.copy()`\n",
      "  portfolio_cumulative_returns[n] = (1 + sim_df.fillna(0)).cumprod()\n",
      "C:\\Users\\legar\\Desktop\\COMPUTER_SCIENCE\\05_FINANCIAL_SIMULATIONS_APIS\\PORTFOLIO_SIM_PROJECT\\MCForecastTools.py:117: PerformanceWarning: DataFrame is highly fragmented.  This is usually the result of calling `frame.insert` many times, which has poor performance.  Consider joining all columns at once using pd.concat(axis=1) instead. To get a de-fragmented frame, use `newframe = frame.copy()`\n",
      "  portfolio_cumulative_returns[n] = (1 + sim_df.fillna(0)).cumprod()\n",
      "C:\\Users\\legar\\Desktop\\COMPUTER_SCIENCE\\05_FINANCIAL_SIMULATIONS_APIS\\PORTFOLIO_SIM_PROJECT\\MCForecastTools.py:117: PerformanceWarning: DataFrame is highly fragmented.  This is usually the result of calling `frame.insert` many times, which has poor performance.  Consider joining all columns at once using pd.concat(axis=1) instead. To get a de-fragmented frame, use `newframe = frame.copy()`\n",
      "  portfolio_cumulative_returns[n] = (1 + sim_df.fillna(0)).cumprod()\n",
      "C:\\Users\\legar\\Desktop\\COMPUTER_SCIENCE\\05_FINANCIAL_SIMULATIONS_APIS\\PORTFOLIO_SIM_PROJECT\\MCForecastTools.py:117: PerformanceWarning: DataFrame is highly fragmented.  This is usually the result of calling `frame.insert` many times, which has poor performance.  Consider joining all columns at once using pd.concat(axis=1) instead. To get a de-fragmented frame, use `newframe = frame.copy()`\n",
      "  portfolio_cumulative_returns[n] = (1 + sim_df.fillna(0)).cumprod()\n",
      "C:\\Users\\legar\\Desktop\\COMPUTER_SCIENCE\\05_FINANCIAL_SIMULATIONS_APIS\\PORTFOLIO_SIM_PROJECT\\MCForecastTools.py:117: PerformanceWarning: DataFrame is highly fragmented.  This is usually the result of calling `frame.insert` many times, which has poor performance.  Consider joining all columns at once using pd.concat(axis=1) instead. To get a de-fragmented frame, use `newframe = frame.copy()`\n",
      "  portfolio_cumulative_returns[n] = (1 + sim_df.fillna(0)).cumprod()\n",
      "C:\\Users\\legar\\Desktop\\COMPUTER_SCIENCE\\05_FINANCIAL_SIMULATIONS_APIS\\PORTFOLIO_SIM_PROJECT\\MCForecastTools.py:117: PerformanceWarning: DataFrame is highly fragmented.  This is usually the result of calling `frame.insert` many times, which has poor performance.  Consider joining all columns at once using pd.concat(axis=1) instead. To get a de-fragmented frame, use `newframe = frame.copy()`\n",
      "  portfolio_cumulative_returns[n] = (1 + sim_df.fillna(0)).cumprod()\n",
      "C:\\Users\\legar\\Desktop\\COMPUTER_SCIENCE\\05_FINANCIAL_SIMULATIONS_APIS\\PORTFOLIO_SIM_PROJECT\\MCForecastTools.py:117: PerformanceWarning: DataFrame is highly fragmented.  This is usually the result of calling `frame.insert` many times, which has poor performance.  Consider joining all columns at once using pd.concat(axis=1) instead. To get a de-fragmented frame, use `newframe = frame.copy()`\n",
      "  portfolio_cumulative_returns[n] = (1 + sim_df.fillna(0)).cumprod()\n",
      "C:\\Users\\legar\\Desktop\\COMPUTER_SCIENCE\\05_FINANCIAL_SIMULATIONS_APIS\\PORTFOLIO_SIM_PROJECT\\MCForecastTools.py:117: PerformanceWarning: DataFrame is highly fragmented.  This is usually the result of calling `frame.insert` many times, which has poor performance.  Consider joining all columns at once using pd.concat(axis=1) instead. To get a de-fragmented frame, use `newframe = frame.copy()`\n",
      "  portfolio_cumulative_returns[n] = (1 + sim_df.fillna(0)).cumprod()\n",
      "C:\\Users\\legar\\Desktop\\COMPUTER_SCIENCE\\05_FINANCIAL_SIMULATIONS_APIS\\PORTFOLIO_SIM_PROJECT\\MCForecastTools.py:117: PerformanceWarning: DataFrame is highly fragmented.  This is usually the result of calling `frame.insert` many times, which has poor performance.  Consider joining all columns at once using pd.concat(axis=1) instead. To get a de-fragmented frame, use `newframe = frame.copy()`\n",
      "  portfolio_cumulative_returns[n] = (1 + sim_df.fillna(0)).cumprod()\n",
      "C:\\Users\\legar\\Desktop\\COMPUTER_SCIENCE\\05_FINANCIAL_SIMULATIONS_APIS\\PORTFOLIO_SIM_PROJECT\\MCForecastTools.py:117: PerformanceWarning: DataFrame is highly fragmented.  This is usually the result of calling `frame.insert` many times, which has poor performance.  Consider joining all columns at once using pd.concat(axis=1) instead. To get a de-fragmented frame, use `newframe = frame.copy()`\n",
      "  portfolio_cumulative_returns[n] = (1 + sim_df.fillna(0)).cumprod()\n"
     ]
    },
    {
     "name": "stdout",
     "output_type": "stream",
     "text": [
      "Running Monte Carlo simulation number 350.\n"
     ]
    },
    {
     "name": "stderr",
     "output_type": "stream",
     "text": [
      "C:\\Users\\legar\\Desktop\\COMPUTER_SCIENCE\\05_FINANCIAL_SIMULATIONS_APIS\\PORTFOLIO_SIM_PROJECT\\MCForecastTools.py:117: PerformanceWarning: DataFrame is highly fragmented.  This is usually the result of calling `frame.insert` many times, which has poor performance.  Consider joining all columns at once using pd.concat(axis=1) instead. To get a de-fragmented frame, use `newframe = frame.copy()`\n",
      "  portfolio_cumulative_returns[n] = (1 + sim_df.fillna(0)).cumprod()\n",
      "C:\\Users\\legar\\Desktop\\COMPUTER_SCIENCE\\05_FINANCIAL_SIMULATIONS_APIS\\PORTFOLIO_SIM_PROJECT\\MCForecastTools.py:117: PerformanceWarning: DataFrame is highly fragmented.  This is usually the result of calling `frame.insert` many times, which has poor performance.  Consider joining all columns at once using pd.concat(axis=1) instead. To get a de-fragmented frame, use `newframe = frame.copy()`\n",
      "  portfolio_cumulative_returns[n] = (1 + sim_df.fillna(0)).cumprod()\n",
      "C:\\Users\\legar\\Desktop\\COMPUTER_SCIENCE\\05_FINANCIAL_SIMULATIONS_APIS\\PORTFOLIO_SIM_PROJECT\\MCForecastTools.py:117: PerformanceWarning: DataFrame is highly fragmented.  This is usually the result of calling `frame.insert` many times, which has poor performance.  Consider joining all columns at once using pd.concat(axis=1) instead. To get a de-fragmented frame, use `newframe = frame.copy()`\n",
      "  portfolio_cumulative_returns[n] = (1 + sim_df.fillna(0)).cumprod()\n",
      "C:\\Users\\legar\\Desktop\\COMPUTER_SCIENCE\\05_FINANCIAL_SIMULATIONS_APIS\\PORTFOLIO_SIM_PROJECT\\MCForecastTools.py:117: PerformanceWarning: DataFrame is highly fragmented.  This is usually the result of calling `frame.insert` many times, which has poor performance.  Consider joining all columns at once using pd.concat(axis=1) instead. To get a de-fragmented frame, use `newframe = frame.copy()`\n",
      "  portfolio_cumulative_returns[n] = (1 + sim_df.fillna(0)).cumprod()\n",
      "C:\\Users\\legar\\Desktop\\COMPUTER_SCIENCE\\05_FINANCIAL_SIMULATIONS_APIS\\PORTFOLIO_SIM_PROJECT\\MCForecastTools.py:117: PerformanceWarning: DataFrame is highly fragmented.  This is usually the result of calling `frame.insert` many times, which has poor performance.  Consider joining all columns at once using pd.concat(axis=1) instead. To get a de-fragmented frame, use `newframe = frame.copy()`\n",
      "  portfolio_cumulative_returns[n] = (1 + sim_df.fillna(0)).cumprod()\n",
      "C:\\Users\\legar\\Desktop\\COMPUTER_SCIENCE\\05_FINANCIAL_SIMULATIONS_APIS\\PORTFOLIO_SIM_PROJECT\\MCForecastTools.py:117: PerformanceWarning: DataFrame is highly fragmented.  This is usually the result of calling `frame.insert` many times, which has poor performance.  Consider joining all columns at once using pd.concat(axis=1) instead. To get a de-fragmented frame, use `newframe = frame.copy()`\n",
      "  portfolio_cumulative_returns[n] = (1 + sim_df.fillna(0)).cumprod()\n",
      "C:\\Users\\legar\\Desktop\\COMPUTER_SCIENCE\\05_FINANCIAL_SIMULATIONS_APIS\\PORTFOLIO_SIM_PROJECT\\MCForecastTools.py:117: PerformanceWarning: DataFrame is highly fragmented.  This is usually the result of calling `frame.insert` many times, which has poor performance.  Consider joining all columns at once using pd.concat(axis=1) instead. To get a de-fragmented frame, use `newframe = frame.copy()`\n",
      "  portfolio_cumulative_returns[n] = (1 + sim_df.fillna(0)).cumprod()\n",
      "C:\\Users\\legar\\Desktop\\COMPUTER_SCIENCE\\05_FINANCIAL_SIMULATIONS_APIS\\PORTFOLIO_SIM_PROJECT\\MCForecastTools.py:117: PerformanceWarning: DataFrame is highly fragmented.  This is usually the result of calling `frame.insert` many times, which has poor performance.  Consider joining all columns at once using pd.concat(axis=1) instead. To get a de-fragmented frame, use `newframe = frame.copy()`\n",
      "  portfolio_cumulative_returns[n] = (1 + sim_df.fillna(0)).cumprod()\n",
      "C:\\Users\\legar\\Desktop\\COMPUTER_SCIENCE\\05_FINANCIAL_SIMULATIONS_APIS\\PORTFOLIO_SIM_PROJECT\\MCForecastTools.py:117: PerformanceWarning: DataFrame is highly fragmented.  This is usually the result of calling `frame.insert` many times, which has poor performance.  Consider joining all columns at once using pd.concat(axis=1) instead. To get a de-fragmented frame, use `newframe = frame.copy()`\n",
      "  portfolio_cumulative_returns[n] = (1 + sim_df.fillna(0)).cumprod()\n"
     ]
    },
    {
     "name": "stdout",
     "output_type": "stream",
     "text": [
      "Running Monte Carlo simulation number 360.\n"
     ]
    },
    {
     "name": "stderr",
     "output_type": "stream",
     "text": [
      "C:\\Users\\legar\\Desktop\\COMPUTER_SCIENCE\\05_FINANCIAL_SIMULATIONS_APIS\\PORTFOLIO_SIM_PROJECT\\MCForecastTools.py:117: PerformanceWarning: DataFrame is highly fragmented.  This is usually the result of calling `frame.insert` many times, which has poor performance.  Consider joining all columns at once using pd.concat(axis=1) instead. To get a de-fragmented frame, use `newframe = frame.copy()`\n",
      "  portfolio_cumulative_returns[n] = (1 + sim_df.fillna(0)).cumprod()\n",
      "C:\\Users\\legar\\Desktop\\COMPUTER_SCIENCE\\05_FINANCIAL_SIMULATIONS_APIS\\PORTFOLIO_SIM_PROJECT\\MCForecastTools.py:117: PerformanceWarning: DataFrame is highly fragmented.  This is usually the result of calling `frame.insert` many times, which has poor performance.  Consider joining all columns at once using pd.concat(axis=1) instead. To get a de-fragmented frame, use `newframe = frame.copy()`\n",
      "  portfolio_cumulative_returns[n] = (1 + sim_df.fillna(0)).cumprod()\n",
      "C:\\Users\\legar\\Desktop\\COMPUTER_SCIENCE\\05_FINANCIAL_SIMULATIONS_APIS\\PORTFOLIO_SIM_PROJECT\\MCForecastTools.py:117: PerformanceWarning: DataFrame is highly fragmented.  This is usually the result of calling `frame.insert` many times, which has poor performance.  Consider joining all columns at once using pd.concat(axis=1) instead. To get a de-fragmented frame, use `newframe = frame.copy()`\n",
      "  portfolio_cumulative_returns[n] = (1 + sim_df.fillna(0)).cumprod()\n",
      "C:\\Users\\legar\\Desktop\\COMPUTER_SCIENCE\\05_FINANCIAL_SIMULATIONS_APIS\\PORTFOLIO_SIM_PROJECT\\MCForecastTools.py:117: PerformanceWarning: DataFrame is highly fragmented.  This is usually the result of calling `frame.insert` many times, which has poor performance.  Consider joining all columns at once using pd.concat(axis=1) instead. To get a de-fragmented frame, use `newframe = frame.copy()`\n",
      "  portfolio_cumulative_returns[n] = (1 + sim_df.fillna(0)).cumprod()\n",
      "C:\\Users\\legar\\Desktop\\COMPUTER_SCIENCE\\05_FINANCIAL_SIMULATIONS_APIS\\PORTFOLIO_SIM_PROJECT\\MCForecastTools.py:117: PerformanceWarning: DataFrame is highly fragmented.  This is usually the result of calling `frame.insert` many times, which has poor performance.  Consider joining all columns at once using pd.concat(axis=1) instead. To get a de-fragmented frame, use `newframe = frame.copy()`\n",
      "  portfolio_cumulative_returns[n] = (1 + sim_df.fillna(0)).cumprod()\n",
      "C:\\Users\\legar\\Desktop\\COMPUTER_SCIENCE\\05_FINANCIAL_SIMULATIONS_APIS\\PORTFOLIO_SIM_PROJECT\\MCForecastTools.py:117: PerformanceWarning: DataFrame is highly fragmented.  This is usually the result of calling `frame.insert` many times, which has poor performance.  Consider joining all columns at once using pd.concat(axis=1) instead. To get a de-fragmented frame, use `newframe = frame.copy()`\n",
      "  portfolio_cumulative_returns[n] = (1 + sim_df.fillna(0)).cumprod()\n",
      "C:\\Users\\legar\\Desktop\\COMPUTER_SCIENCE\\05_FINANCIAL_SIMULATIONS_APIS\\PORTFOLIO_SIM_PROJECT\\MCForecastTools.py:117: PerformanceWarning: DataFrame is highly fragmented.  This is usually the result of calling `frame.insert` many times, which has poor performance.  Consider joining all columns at once using pd.concat(axis=1) instead. To get a de-fragmented frame, use `newframe = frame.copy()`\n",
      "  portfolio_cumulative_returns[n] = (1 + sim_df.fillna(0)).cumprod()\n",
      "C:\\Users\\legar\\Desktop\\COMPUTER_SCIENCE\\05_FINANCIAL_SIMULATIONS_APIS\\PORTFOLIO_SIM_PROJECT\\MCForecastTools.py:117: PerformanceWarning: DataFrame is highly fragmented.  This is usually the result of calling `frame.insert` many times, which has poor performance.  Consider joining all columns at once using pd.concat(axis=1) instead. To get a de-fragmented frame, use `newframe = frame.copy()`\n",
      "  portfolio_cumulative_returns[n] = (1 + sim_df.fillna(0)).cumprod()\n",
      "C:\\Users\\legar\\Desktop\\COMPUTER_SCIENCE\\05_FINANCIAL_SIMULATIONS_APIS\\PORTFOLIO_SIM_PROJECT\\MCForecastTools.py:117: PerformanceWarning: DataFrame is highly fragmented.  This is usually the result of calling `frame.insert` many times, which has poor performance.  Consider joining all columns at once using pd.concat(axis=1) instead. To get a de-fragmented frame, use `newframe = frame.copy()`\n",
      "  portfolio_cumulative_returns[n] = (1 + sim_df.fillna(0)).cumprod()\n",
      "C:\\Users\\legar\\Desktop\\COMPUTER_SCIENCE\\05_FINANCIAL_SIMULATIONS_APIS\\PORTFOLIO_SIM_PROJECT\\MCForecastTools.py:117: PerformanceWarning: DataFrame is highly fragmented.  This is usually the result of calling `frame.insert` many times, which has poor performance.  Consider joining all columns at once using pd.concat(axis=1) instead. To get a de-fragmented frame, use `newframe = frame.copy()`\n",
      "  portfolio_cumulative_returns[n] = (1 + sim_df.fillna(0)).cumprod()\n",
      "C:\\Users\\legar\\Desktop\\COMPUTER_SCIENCE\\05_FINANCIAL_SIMULATIONS_APIS\\PORTFOLIO_SIM_PROJECT\\MCForecastTools.py:117: PerformanceWarning: DataFrame is highly fragmented.  This is usually the result of calling `frame.insert` many times, which has poor performance.  Consider joining all columns at once using pd.concat(axis=1) instead. To get a de-fragmented frame, use `newframe = frame.copy()`\n",
      "  portfolio_cumulative_returns[n] = (1 + sim_df.fillna(0)).cumprod()\n"
     ]
    },
    {
     "name": "stdout",
     "output_type": "stream",
     "text": [
      "Running Monte Carlo simulation number 370.\n"
     ]
    },
    {
     "name": "stderr",
     "output_type": "stream",
     "text": [
      "C:\\Users\\legar\\Desktop\\COMPUTER_SCIENCE\\05_FINANCIAL_SIMULATIONS_APIS\\PORTFOLIO_SIM_PROJECT\\MCForecastTools.py:117: PerformanceWarning: DataFrame is highly fragmented.  This is usually the result of calling `frame.insert` many times, which has poor performance.  Consider joining all columns at once using pd.concat(axis=1) instead. To get a de-fragmented frame, use `newframe = frame.copy()`\n",
      "  portfolio_cumulative_returns[n] = (1 + sim_df.fillna(0)).cumprod()\n",
      "C:\\Users\\legar\\Desktop\\COMPUTER_SCIENCE\\05_FINANCIAL_SIMULATIONS_APIS\\PORTFOLIO_SIM_PROJECT\\MCForecastTools.py:117: PerformanceWarning: DataFrame is highly fragmented.  This is usually the result of calling `frame.insert` many times, which has poor performance.  Consider joining all columns at once using pd.concat(axis=1) instead. To get a de-fragmented frame, use `newframe = frame.copy()`\n",
      "  portfolio_cumulative_returns[n] = (1 + sim_df.fillna(0)).cumprod()\n",
      "C:\\Users\\legar\\Desktop\\COMPUTER_SCIENCE\\05_FINANCIAL_SIMULATIONS_APIS\\PORTFOLIO_SIM_PROJECT\\MCForecastTools.py:117: PerformanceWarning: DataFrame is highly fragmented.  This is usually the result of calling `frame.insert` many times, which has poor performance.  Consider joining all columns at once using pd.concat(axis=1) instead. To get a de-fragmented frame, use `newframe = frame.copy()`\n",
      "  portfolio_cumulative_returns[n] = (1 + sim_df.fillna(0)).cumprod()\n",
      "C:\\Users\\legar\\Desktop\\COMPUTER_SCIENCE\\05_FINANCIAL_SIMULATIONS_APIS\\PORTFOLIO_SIM_PROJECT\\MCForecastTools.py:117: PerformanceWarning: DataFrame is highly fragmented.  This is usually the result of calling `frame.insert` many times, which has poor performance.  Consider joining all columns at once using pd.concat(axis=1) instead. To get a de-fragmented frame, use `newframe = frame.copy()`\n",
      "  portfolio_cumulative_returns[n] = (1 + sim_df.fillna(0)).cumprod()\n",
      "C:\\Users\\legar\\Desktop\\COMPUTER_SCIENCE\\05_FINANCIAL_SIMULATIONS_APIS\\PORTFOLIO_SIM_PROJECT\\MCForecastTools.py:117: PerformanceWarning: DataFrame is highly fragmented.  This is usually the result of calling `frame.insert` many times, which has poor performance.  Consider joining all columns at once using pd.concat(axis=1) instead. To get a de-fragmented frame, use `newframe = frame.copy()`\n",
      "  portfolio_cumulative_returns[n] = (1 + sim_df.fillna(0)).cumprod()\n",
      "C:\\Users\\legar\\Desktop\\COMPUTER_SCIENCE\\05_FINANCIAL_SIMULATIONS_APIS\\PORTFOLIO_SIM_PROJECT\\MCForecastTools.py:117: PerformanceWarning: DataFrame is highly fragmented.  This is usually the result of calling `frame.insert` many times, which has poor performance.  Consider joining all columns at once using pd.concat(axis=1) instead. To get a de-fragmented frame, use `newframe = frame.copy()`\n",
      "  portfolio_cumulative_returns[n] = (1 + sim_df.fillna(0)).cumprod()\n",
      "C:\\Users\\legar\\Desktop\\COMPUTER_SCIENCE\\05_FINANCIAL_SIMULATIONS_APIS\\PORTFOLIO_SIM_PROJECT\\MCForecastTools.py:117: PerformanceWarning: DataFrame is highly fragmented.  This is usually the result of calling `frame.insert` many times, which has poor performance.  Consider joining all columns at once using pd.concat(axis=1) instead. To get a de-fragmented frame, use `newframe = frame.copy()`\n",
      "  portfolio_cumulative_returns[n] = (1 + sim_df.fillna(0)).cumprod()\n",
      "C:\\Users\\legar\\Desktop\\COMPUTER_SCIENCE\\05_FINANCIAL_SIMULATIONS_APIS\\PORTFOLIO_SIM_PROJECT\\MCForecastTools.py:117: PerformanceWarning: DataFrame is highly fragmented.  This is usually the result of calling `frame.insert` many times, which has poor performance.  Consider joining all columns at once using pd.concat(axis=1) instead. To get a de-fragmented frame, use `newframe = frame.copy()`\n",
      "  portfolio_cumulative_returns[n] = (1 + sim_df.fillna(0)).cumprod()\n",
      "C:\\Users\\legar\\Desktop\\COMPUTER_SCIENCE\\05_FINANCIAL_SIMULATIONS_APIS\\PORTFOLIO_SIM_PROJECT\\MCForecastTools.py:117: PerformanceWarning: DataFrame is highly fragmented.  This is usually the result of calling `frame.insert` many times, which has poor performance.  Consider joining all columns at once using pd.concat(axis=1) instead. To get a de-fragmented frame, use `newframe = frame.copy()`\n",
      "  portfolio_cumulative_returns[n] = (1 + sim_df.fillna(0)).cumprod()\n",
      "C:\\Users\\legar\\Desktop\\COMPUTER_SCIENCE\\05_FINANCIAL_SIMULATIONS_APIS\\PORTFOLIO_SIM_PROJECT\\MCForecastTools.py:117: PerformanceWarning: DataFrame is highly fragmented.  This is usually the result of calling `frame.insert` many times, which has poor performance.  Consider joining all columns at once using pd.concat(axis=1) instead. To get a de-fragmented frame, use `newframe = frame.copy()`\n",
      "  portfolio_cumulative_returns[n] = (1 + sim_df.fillna(0)).cumprod()\n"
     ]
    },
    {
     "name": "stdout",
     "output_type": "stream",
     "text": [
      "Running Monte Carlo simulation number 380.\n"
     ]
    },
    {
     "name": "stderr",
     "output_type": "stream",
     "text": [
      "C:\\Users\\legar\\Desktop\\COMPUTER_SCIENCE\\05_FINANCIAL_SIMULATIONS_APIS\\PORTFOLIO_SIM_PROJECT\\MCForecastTools.py:117: PerformanceWarning: DataFrame is highly fragmented.  This is usually the result of calling `frame.insert` many times, which has poor performance.  Consider joining all columns at once using pd.concat(axis=1) instead. To get a de-fragmented frame, use `newframe = frame.copy()`\n",
      "  portfolio_cumulative_returns[n] = (1 + sim_df.fillna(0)).cumprod()\n",
      "C:\\Users\\legar\\Desktop\\COMPUTER_SCIENCE\\05_FINANCIAL_SIMULATIONS_APIS\\PORTFOLIO_SIM_PROJECT\\MCForecastTools.py:117: PerformanceWarning: DataFrame is highly fragmented.  This is usually the result of calling `frame.insert` many times, which has poor performance.  Consider joining all columns at once using pd.concat(axis=1) instead. To get a de-fragmented frame, use `newframe = frame.copy()`\n",
      "  portfolio_cumulative_returns[n] = (1 + sim_df.fillna(0)).cumprod()\n",
      "C:\\Users\\legar\\Desktop\\COMPUTER_SCIENCE\\05_FINANCIAL_SIMULATIONS_APIS\\PORTFOLIO_SIM_PROJECT\\MCForecastTools.py:117: PerformanceWarning: DataFrame is highly fragmented.  This is usually the result of calling `frame.insert` many times, which has poor performance.  Consider joining all columns at once using pd.concat(axis=1) instead. To get a de-fragmented frame, use `newframe = frame.copy()`\n",
      "  portfolio_cumulative_returns[n] = (1 + sim_df.fillna(0)).cumprod()\n",
      "C:\\Users\\legar\\Desktop\\COMPUTER_SCIENCE\\05_FINANCIAL_SIMULATIONS_APIS\\PORTFOLIO_SIM_PROJECT\\MCForecastTools.py:117: PerformanceWarning: DataFrame is highly fragmented.  This is usually the result of calling `frame.insert` many times, which has poor performance.  Consider joining all columns at once using pd.concat(axis=1) instead. To get a de-fragmented frame, use `newframe = frame.copy()`\n",
      "  portfolio_cumulative_returns[n] = (1 + sim_df.fillna(0)).cumprod()\n",
      "C:\\Users\\legar\\Desktop\\COMPUTER_SCIENCE\\05_FINANCIAL_SIMULATIONS_APIS\\PORTFOLIO_SIM_PROJECT\\MCForecastTools.py:117: PerformanceWarning: DataFrame is highly fragmented.  This is usually the result of calling `frame.insert` many times, which has poor performance.  Consider joining all columns at once using pd.concat(axis=1) instead. To get a de-fragmented frame, use `newframe = frame.copy()`\n",
      "  portfolio_cumulative_returns[n] = (1 + sim_df.fillna(0)).cumprod()\n",
      "C:\\Users\\legar\\Desktop\\COMPUTER_SCIENCE\\05_FINANCIAL_SIMULATIONS_APIS\\PORTFOLIO_SIM_PROJECT\\MCForecastTools.py:117: PerformanceWarning: DataFrame is highly fragmented.  This is usually the result of calling `frame.insert` many times, which has poor performance.  Consider joining all columns at once using pd.concat(axis=1) instead. To get a de-fragmented frame, use `newframe = frame.copy()`\n",
      "  portfolio_cumulative_returns[n] = (1 + sim_df.fillna(0)).cumprod()\n",
      "C:\\Users\\legar\\Desktop\\COMPUTER_SCIENCE\\05_FINANCIAL_SIMULATIONS_APIS\\PORTFOLIO_SIM_PROJECT\\MCForecastTools.py:117: PerformanceWarning: DataFrame is highly fragmented.  This is usually the result of calling `frame.insert` many times, which has poor performance.  Consider joining all columns at once using pd.concat(axis=1) instead. To get a de-fragmented frame, use `newframe = frame.copy()`\n",
      "  portfolio_cumulative_returns[n] = (1 + sim_df.fillna(0)).cumprod()\n",
      "C:\\Users\\legar\\Desktop\\COMPUTER_SCIENCE\\05_FINANCIAL_SIMULATIONS_APIS\\PORTFOLIO_SIM_PROJECT\\MCForecastTools.py:117: PerformanceWarning: DataFrame is highly fragmented.  This is usually the result of calling `frame.insert` many times, which has poor performance.  Consider joining all columns at once using pd.concat(axis=1) instead. To get a de-fragmented frame, use `newframe = frame.copy()`\n",
      "  portfolio_cumulative_returns[n] = (1 + sim_df.fillna(0)).cumprod()\n",
      "C:\\Users\\legar\\Desktop\\COMPUTER_SCIENCE\\05_FINANCIAL_SIMULATIONS_APIS\\PORTFOLIO_SIM_PROJECT\\MCForecastTools.py:117: PerformanceWarning: DataFrame is highly fragmented.  This is usually the result of calling `frame.insert` many times, which has poor performance.  Consider joining all columns at once using pd.concat(axis=1) instead. To get a de-fragmented frame, use `newframe = frame.copy()`\n",
      "  portfolio_cumulative_returns[n] = (1 + sim_df.fillna(0)).cumprod()\n"
     ]
    },
    {
     "name": "stdout",
     "output_type": "stream",
     "text": [
      "Running Monte Carlo simulation number 390.\n"
     ]
    },
    {
     "name": "stderr",
     "output_type": "stream",
     "text": [
      "C:\\Users\\legar\\Desktop\\COMPUTER_SCIENCE\\05_FINANCIAL_SIMULATIONS_APIS\\PORTFOLIO_SIM_PROJECT\\MCForecastTools.py:117: PerformanceWarning: DataFrame is highly fragmented.  This is usually the result of calling `frame.insert` many times, which has poor performance.  Consider joining all columns at once using pd.concat(axis=1) instead. To get a de-fragmented frame, use `newframe = frame.copy()`\n",
      "  portfolio_cumulative_returns[n] = (1 + sim_df.fillna(0)).cumprod()\n",
      "C:\\Users\\legar\\Desktop\\COMPUTER_SCIENCE\\05_FINANCIAL_SIMULATIONS_APIS\\PORTFOLIO_SIM_PROJECT\\MCForecastTools.py:117: PerformanceWarning: DataFrame is highly fragmented.  This is usually the result of calling `frame.insert` many times, which has poor performance.  Consider joining all columns at once using pd.concat(axis=1) instead. To get a de-fragmented frame, use `newframe = frame.copy()`\n",
      "  portfolio_cumulative_returns[n] = (1 + sim_df.fillna(0)).cumprod()\n",
      "C:\\Users\\legar\\Desktop\\COMPUTER_SCIENCE\\05_FINANCIAL_SIMULATIONS_APIS\\PORTFOLIO_SIM_PROJECT\\MCForecastTools.py:117: PerformanceWarning: DataFrame is highly fragmented.  This is usually the result of calling `frame.insert` many times, which has poor performance.  Consider joining all columns at once using pd.concat(axis=1) instead. To get a de-fragmented frame, use `newframe = frame.copy()`\n",
      "  portfolio_cumulative_returns[n] = (1 + sim_df.fillna(0)).cumprod()\n",
      "C:\\Users\\legar\\Desktop\\COMPUTER_SCIENCE\\05_FINANCIAL_SIMULATIONS_APIS\\PORTFOLIO_SIM_PROJECT\\MCForecastTools.py:117: PerformanceWarning: DataFrame is highly fragmented.  This is usually the result of calling `frame.insert` many times, which has poor performance.  Consider joining all columns at once using pd.concat(axis=1) instead. To get a de-fragmented frame, use `newframe = frame.copy()`\n",
      "  portfolio_cumulative_returns[n] = (1 + sim_df.fillna(0)).cumprod()\n",
      "C:\\Users\\legar\\Desktop\\COMPUTER_SCIENCE\\05_FINANCIAL_SIMULATIONS_APIS\\PORTFOLIO_SIM_PROJECT\\MCForecastTools.py:117: PerformanceWarning: DataFrame is highly fragmented.  This is usually the result of calling `frame.insert` many times, which has poor performance.  Consider joining all columns at once using pd.concat(axis=1) instead. To get a de-fragmented frame, use `newframe = frame.copy()`\n",
      "  portfolio_cumulative_returns[n] = (1 + sim_df.fillna(0)).cumprod()\n",
      "C:\\Users\\legar\\Desktop\\COMPUTER_SCIENCE\\05_FINANCIAL_SIMULATIONS_APIS\\PORTFOLIO_SIM_PROJECT\\MCForecastTools.py:117: PerformanceWarning: DataFrame is highly fragmented.  This is usually the result of calling `frame.insert` many times, which has poor performance.  Consider joining all columns at once using pd.concat(axis=1) instead. To get a de-fragmented frame, use `newframe = frame.copy()`\n",
      "  portfolio_cumulative_returns[n] = (1 + sim_df.fillna(0)).cumprod()\n",
      "C:\\Users\\legar\\Desktop\\COMPUTER_SCIENCE\\05_FINANCIAL_SIMULATIONS_APIS\\PORTFOLIO_SIM_PROJECT\\MCForecastTools.py:117: PerformanceWarning: DataFrame is highly fragmented.  This is usually the result of calling `frame.insert` many times, which has poor performance.  Consider joining all columns at once using pd.concat(axis=1) instead. To get a de-fragmented frame, use `newframe = frame.copy()`\n",
      "  portfolio_cumulative_returns[n] = (1 + sim_df.fillna(0)).cumprod()\n",
      "C:\\Users\\legar\\Desktop\\COMPUTER_SCIENCE\\05_FINANCIAL_SIMULATIONS_APIS\\PORTFOLIO_SIM_PROJECT\\MCForecastTools.py:117: PerformanceWarning: DataFrame is highly fragmented.  This is usually the result of calling `frame.insert` many times, which has poor performance.  Consider joining all columns at once using pd.concat(axis=1) instead. To get a de-fragmented frame, use `newframe = frame.copy()`\n",
      "  portfolio_cumulative_returns[n] = (1 + sim_df.fillna(0)).cumprod()\n",
      "C:\\Users\\legar\\Desktop\\COMPUTER_SCIENCE\\05_FINANCIAL_SIMULATIONS_APIS\\PORTFOLIO_SIM_PROJECT\\MCForecastTools.py:117: PerformanceWarning: DataFrame is highly fragmented.  This is usually the result of calling `frame.insert` many times, which has poor performance.  Consider joining all columns at once using pd.concat(axis=1) instead. To get a de-fragmented frame, use `newframe = frame.copy()`\n",
      "  portfolio_cumulative_returns[n] = (1 + sim_df.fillna(0)).cumprod()\n",
      "C:\\Users\\legar\\Desktop\\COMPUTER_SCIENCE\\05_FINANCIAL_SIMULATIONS_APIS\\PORTFOLIO_SIM_PROJECT\\MCForecastTools.py:117: PerformanceWarning: DataFrame is highly fragmented.  This is usually the result of calling `frame.insert` many times, which has poor performance.  Consider joining all columns at once using pd.concat(axis=1) instead. To get a de-fragmented frame, use `newframe = frame.copy()`\n",
      "  portfolio_cumulative_returns[n] = (1 + sim_df.fillna(0)).cumprod()\n"
     ]
    },
    {
     "name": "stdout",
     "output_type": "stream",
     "text": [
      "Running Monte Carlo simulation number 400.\n"
     ]
    },
    {
     "name": "stderr",
     "output_type": "stream",
     "text": [
      "C:\\Users\\legar\\Desktop\\COMPUTER_SCIENCE\\05_FINANCIAL_SIMULATIONS_APIS\\PORTFOLIO_SIM_PROJECT\\MCForecastTools.py:117: PerformanceWarning: DataFrame is highly fragmented.  This is usually the result of calling `frame.insert` many times, which has poor performance.  Consider joining all columns at once using pd.concat(axis=1) instead. To get a de-fragmented frame, use `newframe = frame.copy()`\n",
      "  portfolio_cumulative_returns[n] = (1 + sim_df.fillna(0)).cumprod()\n",
      "C:\\Users\\legar\\Desktop\\COMPUTER_SCIENCE\\05_FINANCIAL_SIMULATIONS_APIS\\PORTFOLIO_SIM_PROJECT\\MCForecastTools.py:117: PerformanceWarning: DataFrame is highly fragmented.  This is usually the result of calling `frame.insert` many times, which has poor performance.  Consider joining all columns at once using pd.concat(axis=1) instead. To get a de-fragmented frame, use `newframe = frame.copy()`\n",
      "  portfolio_cumulative_returns[n] = (1 + sim_df.fillna(0)).cumprod()\n",
      "C:\\Users\\legar\\Desktop\\COMPUTER_SCIENCE\\05_FINANCIAL_SIMULATIONS_APIS\\PORTFOLIO_SIM_PROJECT\\MCForecastTools.py:117: PerformanceWarning: DataFrame is highly fragmented.  This is usually the result of calling `frame.insert` many times, which has poor performance.  Consider joining all columns at once using pd.concat(axis=1) instead. To get a de-fragmented frame, use `newframe = frame.copy()`\n",
      "  portfolio_cumulative_returns[n] = (1 + sim_df.fillna(0)).cumprod()\n",
      "C:\\Users\\legar\\Desktop\\COMPUTER_SCIENCE\\05_FINANCIAL_SIMULATIONS_APIS\\PORTFOLIO_SIM_PROJECT\\MCForecastTools.py:117: PerformanceWarning: DataFrame is highly fragmented.  This is usually the result of calling `frame.insert` many times, which has poor performance.  Consider joining all columns at once using pd.concat(axis=1) instead. To get a de-fragmented frame, use `newframe = frame.copy()`\n",
      "  portfolio_cumulative_returns[n] = (1 + sim_df.fillna(0)).cumprod()\n",
      "C:\\Users\\legar\\Desktop\\COMPUTER_SCIENCE\\05_FINANCIAL_SIMULATIONS_APIS\\PORTFOLIO_SIM_PROJECT\\MCForecastTools.py:117: PerformanceWarning: DataFrame is highly fragmented.  This is usually the result of calling `frame.insert` many times, which has poor performance.  Consider joining all columns at once using pd.concat(axis=1) instead. To get a de-fragmented frame, use `newframe = frame.copy()`\n",
      "  portfolio_cumulative_returns[n] = (1 + sim_df.fillna(0)).cumprod()\n",
      "C:\\Users\\legar\\Desktop\\COMPUTER_SCIENCE\\05_FINANCIAL_SIMULATIONS_APIS\\PORTFOLIO_SIM_PROJECT\\MCForecastTools.py:117: PerformanceWarning: DataFrame is highly fragmented.  This is usually the result of calling `frame.insert` many times, which has poor performance.  Consider joining all columns at once using pd.concat(axis=1) instead. To get a de-fragmented frame, use `newframe = frame.copy()`\n",
      "  portfolio_cumulative_returns[n] = (1 + sim_df.fillna(0)).cumprod()\n",
      "C:\\Users\\legar\\Desktop\\COMPUTER_SCIENCE\\05_FINANCIAL_SIMULATIONS_APIS\\PORTFOLIO_SIM_PROJECT\\MCForecastTools.py:117: PerformanceWarning: DataFrame is highly fragmented.  This is usually the result of calling `frame.insert` many times, which has poor performance.  Consider joining all columns at once using pd.concat(axis=1) instead. To get a de-fragmented frame, use `newframe = frame.copy()`\n",
      "  portfolio_cumulative_returns[n] = (1 + sim_df.fillna(0)).cumprod()\n",
      "C:\\Users\\legar\\Desktop\\COMPUTER_SCIENCE\\05_FINANCIAL_SIMULATIONS_APIS\\PORTFOLIO_SIM_PROJECT\\MCForecastTools.py:117: PerformanceWarning: DataFrame is highly fragmented.  This is usually the result of calling `frame.insert` many times, which has poor performance.  Consider joining all columns at once using pd.concat(axis=1) instead. To get a de-fragmented frame, use `newframe = frame.copy()`\n",
      "  portfolio_cumulative_returns[n] = (1 + sim_df.fillna(0)).cumprod()\n",
      "C:\\Users\\legar\\Desktop\\COMPUTER_SCIENCE\\05_FINANCIAL_SIMULATIONS_APIS\\PORTFOLIO_SIM_PROJECT\\MCForecastTools.py:117: PerformanceWarning: DataFrame is highly fragmented.  This is usually the result of calling `frame.insert` many times, which has poor performance.  Consider joining all columns at once using pd.concat(axis=1) instead. To get a de-fragmented frame, use `newframe = frame.copy()`\n",
      "  portfolio_cumulative_returns[n] = (1 + sim_df.fillna(0)).cumprod()\n",
      "C:\\Users\\legar\\Desktop\\COMPUTER_SCIENCE\\05_FINANCIAL_SIMULATIONS_APIS\\PORTFOLIO_SIM_PROJECT\\MCForecastTools.py:117: PerformanceWarning: DataFrame is highly fragmented.  This is usually the result of calling `frame.insert` many times, which has poor performance.  Consider joining all columns at once using pd.concat(axis=1) instead. To get a de-fragmented frame, use `newframe = frame.copy()`\n",
      "  portfolio_cumulative_returns[n] = (1 + sim_df.fillna(0)).cumprod()\n"
     ]
    },
    {
     "name": "stdout",
     "output_type": "stream",
     "text": [
      "Running Monte Carlo simulation number 410.\n"
     ]
    },
    {
     "name": "stderr",
     "output_type": "stream",
     "text": [
      "C:\\Users\\legar\\Desktop\\COMPUTER_SCIENCE\\05_FINANCIAL_SIMULATIONS_APIS\\PORTFOLIO_SIM_PROJECT\\MCForecastTools.py:117: PerformanceWarning: DataFrame is highly fragmented.  This is usually the result of calling `frame.insert` many times, which has poor performance.  Consider joining all columns at once using pd.concat(axis=1) instead. To get a de-fragmented frame, use `newframe = frame.copy()`\n",
      "  portfolio_cumulative_returns[n] = (1 + sim_df.fillna(0)).cumprod()\n",
      "C:\\Users\\legar\\Desktop\\COMPUTER_SCIENCE\\05_FINANCIAL_SIMULATIONS_APIS\\PORTFOLIO_SIM_PROJECT\\MCForecastTools.py:117: PerformanceWarning: DataFrame is highly fragmented.  This is usually the result of calling `frame.insert` many times, which has poor performance.  Consider joining all columns at once using pd.concat(axis=1) instead. To get a de-fragmented frame, use `newframe = frame.copy()`\n",
      "  portfolio_cumulative_returns[n] = (1 + sim_df.fillna(0)).cumprod()\n",
      "C:\\Users\\legar\\Desktop\\COMPUTER_SCIENCE\\05_FINANCIAL_SIMULATIONS_APIS\\PORTFOLIO_SIM_PROJECT\\MCForecastTools.py:117: PerformanceWarning: DataFrame is highly fragmented.  This is usually the result of calling `frame.insert` many times, which has poor performance.  Consider joining all columns at once using pd.concat(axis=1) instead. To get a de-fragmented frame, use `newframe = frame.copy()`\n",
      "  portfolio_cumulative_returns[n] = (1 + sim_df.fillna(0)).cumprod()\n",
      "C:\\Users\\legar\\Desktop\\COMPUTER_SCIENCE\\05_FINANCIAL_SIMULATIONS_APIS\\PORTFOLIO_SIM_PROJECT\\MCForecastTools.py:117: PerformanceWarning: DataFrame is highly fragmented.  This is usually the result of calling `frame.insert` many times, which has poor performance.  Consider joining all columns at once using pd.concat(axis=1) instead. To get a de-fragmented frame, use `newframe = frame.copy()`\n",
      "  portfolio_cumulative_returns[n] = (1 + sim_df.fillna(0)).cumprod()\n",
      "C:\\Users\\legar\\Desktop\\COMPUTER_SCIENCE\\05_FINANCIAL_SIMULATIONS_APIS\\PORTFOLIO_SIM_PROJECT\\MCForecastTools.py:117: PerformanceWarning: DataFrame is highly fragmented.  This is usually the result of calling `frame.insert` many times, which has poor performance.  Consider joining all columns at once using pd.concat(axis=1) instead. To get a de-fragmented frame, use `newframe = frame.copy()`\n",
      "  portfolio_cumulative_returns[n] = (1 + sim_df.fillna(0)).cumprod()\n",
      "C:\\Users\\legar\\Desktop\\COMPUTER_SCIENCE\\05_FINANCIAL_SIMULATIONS_APIS\\PORTFOLIO_SIM_PROJECT\\MCForecastTools.py:117: PerformanceWarning: DataFrame is highly fragmented.  This is usually the result of calling `frame.insert` many times, which has poor performance.  Consider joining all columns at once using pd.concat(axis=1) instead. To get a de-fragmented frame, use `newframe = frame.copy()`\n",
      "  portfolio_cumulative_returns[n] = (1 + sim_df.fillna(0)).cumprod()\n",
      "C:\\Users\\legar\\Desktop\\COMPUTER_SCIENCE\\05_FINANCIAL_SIMULATIONS_APIS\\PORTFOLIO_SIM_PROJECT\\MCForecastTools.py:117: PerformanceWarning: DataFrame is highly fragmented.  This is usually the result of calling `frame.insert` many times, which has poor performance.  Consider joining all columns at once using pd.concat(axis=1) instead. To get a de-fragmented frame, use `newframe = frame.copy()`\n",
      "  portfolio_cumulative_returns[n] = (1 + sim_df.fillna(0)).cumprod()\n",
      "C:\\Users\\legar\\Desktop\\COMPUTER_SCIENCE\\05_FINANCIAL_SIMULATIONS_APIS\\PORTFOLIO_SIM_PROJECT\\MCForecastTools.py:117: PerformanceWarning: DataFrame is highly fragmented.  This is usually the result of calling `frame.insert` many times, which has poor performance.  Consider joining all columns at once using pd.concat(axis=1) instead. To get a de-fragmented frame, use `newframe = frame.copy()`\n",
      "  portfolio_cumulative_returns[n] = (1 + sim_df.fillna(0)).cumprod()\n",
      "C:\\Users\\legar\\Desktop\\COMPUTER_SCIENCE\\05_FINANCIAL_SIMULATIONS_APIS\\PORTFOLIO_SIM_PROJECT\\MCForecastTools.py:117: PerformanceWarning: DataFrame is highly fragmented.  This is usually the result of calling `frame.insert` many times, which has poor performance.  Consider joining all columns at once using pd.concat(axis=1) instead. To get a de-fragmented frame, use `newframe = frame.copy()`\n",
      "  portfolio_cumulative_returns[n] = (1 + sim_df.fillna(0)).cumprod()\n",
      "C:\\Users\\legar\\Desktop\\COMPUTER_SCIENCE\\05_FINANCIAL_SIMULATIONS_APIS\\PORTFOLIO_SIM_PROJECT\\MCForecastTools.py:117: PerformanceWarning: DataFrame is highly fragmented.  This is usually the result of calling `frame.insert` many times, which has poor performance.  Consider joining all columns at once using pd.concat(axis=1) instead. To get a de-fragmented frame, use `newframe = frame.copy()`\n",
      "  portfolio_cumulative_returns[n] = (1 + sim_df.fillna(0)).cumprod()\n"
     ]
    },
    {
     "name": "stdout",
     "output_type": "stream",
     "text": [
      "Running Monte Carlo simulation number 420.\n"
     ]
    },
    {
     "name": "stderr",
     "output_type": "stream",
     "text": [
      "C:\\Users\\legar\\Desktop\\COMPUTER_SCIENCE\\05_FINANCIAL_SIMULATIONS_APIS\\PORTFOLIO_SIM_PROJECT\\MCForecastTools.py:117: PerformanceWarning: DataFrame is highly fragmented.  This is usually the result of calling `frame.insert` many times, which has poor performance.  Consider joining all columns at once using pd.concat(axis=1) instead. To get a de-fragmented frame, use `newframe = frame.copy()`\n",
      "  portfolio_cumulative_returns[n] = (1 + sim_df.fillna(0)).cumprod()\n",
      "C:\\Users\\legar\\Desktop\\COMPUTER_SCIENCE\\05_FINANCIAL_SIMULATIONS_APIS\\PORTFOLIO_SIM_PROJECT\\MCForecastTools.py:117: PerformanceWarning: DataFrame is highly fragmented.  This is usually the result of calling `frame.insert` many times, which has poor performance.  Consider joining all columns at once using pd.concat(axis=1) instead. To get a de-fragmented frame, use `newframe = frame.copy()`\n",
      "  portfolio_cumulative_returns[n] = (1 + sim_df.fillna(0)).cumprod()\n",
      "C:\\Users\\legar\\Desktop\\COMPUTER_SCIENCE\\05_FINANCIAL_SIMULATIONS_APIS\\PORTFOLIO_SIM_PROJECT\\MCForecastTools.py:117: PerformanceWarning: DataFrame is highly fragmented.  This is usually the result of calling `frame.insert` many times, which has poor performance.  Consider joining all columns at once using pd.concat(axis=1) instead. To get a de-fragmented frame, use `newframe = frame.copy()`\n",
      "  portfolio_cumulative_returns[n] = (1 + sim_df.fillna(0)).cumprod()\n",
      "C:\\Users\\legar\\Desktop\\COMPUTER_SCIENCE\\05_FINANCIAL_SIMULATIONS_APIS\\PORTFOLIO_SIM_PROJECT\\MCForecastTools.py:117: PerformanceWarning: DataFrame is highly fragmented.  This is usually the result of calling `frame.insert` many times, which has poor performance.  Consider joining all columns at once using pd.concat(axis=1) instead. To get a de-fragmented frame, use `newframe = frame.copy()`\n",
      "  portfolio_cumulative_returns[n] = (1 + sim_df.fillna(0)).cumprod()\n",
      "C:\\Users\\legar\\Desktop\\COMPUTER_SCIENCE\\05_FINANCIAL_SIMULATIONS_APIS\\PORTFOLIO_SIM_PROJECT\\MCForecastTools.py:117: PerformanceWarning: DataFrame is highly fragmented.  This is usually the result of calling `frame.insert` many times, which has poor performance.  Consider joining all columns at once using pd.concat(axis=1) instead. To get a de-fragmented frame, use `newframe = frame.copy()`\n",
      "  portfolio_cumulative_returns[n] = (1 + sim_df.fillna(0)).cumprod()\n",
      "C:\\Users\\legar\\Desktop\\COMPUTER_SCIENCE\\05_FINANCIAL_SIMULATIONS_APIS\\PORTFOLIO_SIM_PROJECT\\MCForecastTools.py:117: PerformanceWarning: DataFrame is highly fragmented.  This is usually the result of calling `frame.insert` many times, which has poor performance.  Consider joining all columns at once using pd.concat(axis=1) instead. To get a de-fragmented frame, use `newframe = frame.copy()`\n",
      "  portfolio_cumulative_returns[n] = (1 + sim_df.fillna(0)).cumprod()\n",
      "C:\\Users\\legar\\Desktop\\COMPUTER_SCIENCE\\05_FINANCIAL_SIMULATIONS_APIS\\PORTFOLIO_SIM_PROJECT\\MCForecastTools.py:117: PerformanceWarning: DataFrame is highly fragmented.  This is usually the result of calling `frame.insert` many times, which has poor performance.  Consider joining all columns at once using pd.concat(axis=1) instead. To get a de-fragmented frame, use `newframe = frame.copy()`\n",
      "  portfolio_cumulative_returns[n] = (1 + sim_df.fillna(0)).cumprod()\n",
      "C:\\Users\\legar\\Desktop\\COMPUTER_SCIENCE\\05_FINANCIAL_SIMULATIONS_APIS\\PORTFOLIO_SIM_PROJECT\\MCForecastTools.py:117: PerformanceWarning: DataFrame is highly fragmented.  This is usually the result of calling `frame.insert` many times, which has poor performance.  Consider joining all columns at once using pd.concat(axis=1) instead. To get a de-fragmented frame, use `newframe = frame.copy()`\n",
      "  portfolio_cumulative_returns[n] = (1 + sim_df.fillna(0)).cumprod()\n",
      "C:\\Users\\legar\\Desktop\\COMPUTER_SCIENCE\\05_FINANCIAL_SIMULATIONS_APIS\\PORTFOLIO_SIM_PROJECT\\MCForecastTools.py:117: PerformanceWarning: DataFrame is highly fragmented.  This is usually the result of calling `frame.insert` many times, which has poor performance.  Consider joining all columns at once using pd.concat(axis=1) instead. To get a de-fragmented frame, use `newframe = frame.copy()`\n",
      "  portfolio_cumulative_returns[n] = (1 + sim_df.fillna(0)).cumprod()\n",
      "C:\\Users\\legar\\Desktop\\COMPUTER_SCIENCE\\05_FINANCIAL_SIMULATIONS_APIS\\PORTFOLIO_SIM_PROJECT\\MCForecastTools.py:117: PerformanceWarning: DataFrame is highly fragmented.  This is usually the result of calling `frame.insert` many times, which has poor performance.  Consider joining all columns at once using pd.concat(axis=1) instead. To get a de-fragmented frame, use `newframe = frame.copy()`\n",
      "  portfolio_cumulative_returns[n] = (1 + sim_df.fillna(0)).cumprod()\n"
     ]
    },
    {
     "name": "stdout",
     "output_type": "stream",
     "text": [
      "Running Monte Carlo simulation number 430.\n"
     ]
    },
    {
     "name": "stderr",
     "output_type": "stream",
     "text": [
      "C:\\Users\\legar\\Desktop\\COMPUTER_SCIENCE\\05_FINANCIAL_SIMULATIONS_APIS\\PORTFOLIO_SIM_PROJECT\\MCForecastTools.py:117: PerformanceWarning: DataFrame is highly fragmented.  This is usually the result of calling `frame.insert` many times, which has poor performance.  Consider joining all columns at once using pd.concat(axis=1) instead. To get a de-fragmented frame, use `newframe = frame.copy()`\n",
      "  portfolio_cumulative_returns[n] = (1 + sim_df.fillna(0)).cumprod()\n",
      "C:\\Users\\legar\\Desktop\\COMPUTER_SCIENCE\\05_FINANCIAL_SIMULATIONS_APIS\\PORTFOLIO_SIM_PROJECT\\MCForecastTools.py:117: PerformanceWarning: DataFrame is highly fragmented.  This is usually the result of calling `frame.insert` many times, which has poor performance.  Consider joining all columns at once using pd.concat(axis=1) instead. To get a de-fragmented frame, use `newframe = frame.copy()`\n",
      "  portfolio_cumulative_returns[n] = (1 + sim_df.fillna(0)).cumprod()\n",
      "C:\\Users\\legar\\Desktop\\COMPUTER_SCIENCE\\05_FINANCIAL_SIMULATIONS_APIS\\PORTFOLIO_SIM_PROJECT\\MCForecastTools.py:117: PerformanceWarning: DataFrame is highly fragmented.  This is usually the result of calling `frame.insert` many times, which has poor performance.  Consider joining all columns at once using pd.concat(axis=1) instead. To get a de-fragmented frame, use `newframe = frame.copy()`\n",
      "  portfolio_cumulative_returns[n] = (1 + sim_df.fillna(0)).cumprod()\n",
      "C:\\Users\\legar\\Desktop\\COMPUTER_SCIENCE\\05_FINANCIAL_SIMULATIONS_APIS\\PORTFOLIO_SIM_PROJECT\\MCForecastTools.py:117: PerformanceWarning: DataFrame is highly fragmented.  This is usually the result of calling `frame.insert` many times, which has poor performance.  Consider joining all columns at once using pd.concat(axis=1) instead. To get a de-fragmented frame, use `newframe = frame.copy()`\n",
      "  portfolio_cumulative_returns[n] = (1 + sim_df.fillna(0)).cumprod()\n",
      "C:\\Users\\legar\\Desktop\\COMPUTER_SCIENCE\\05_FINANCIAL_SIMULATIONS_APIS\\PORTFOLIO_SIM_PROJECT\\MCForecastTools.py:117: PerformanceWarning: DataFrame is highly fragmented.  This is usually the result of calling `frame.insert` many times, which has poor performance.  Consider joining all columns at once using pd.concat(axis=1) instead. To get a de-fragmented frame, use `newframe = frame.copy()`\n",
      "  portfolio_cumulative_returns[n] = (1 + sim_df.fillna(0)).cumprod()\n",
      "C:\\Users\\legar\\Desktop\\COMPUTER_SCIENCE\\05_FINANCIAL_SIMULATIONS_APIS\\PORTFOLIO_SIM_PROJECT\\MCForecastTools.py:117: PerformanceWarning: DataFrame is highly fragmented.  This is usually the result of calling `frame.insert` many times, which has poor performance.  Consider joining all columns at once using pd.concat(axis=1) instead. To get a de-fragmented frame, use `newframe = frame.copy()`\n",
      "  portfolio_cumulative_returns[n] = (1 + sim_df.fillna(0)).cumprod()\n",
      "C:\\Users\\legar\\Desktop\\COMPUTER_SCIENCE\\05_FINANCIAL_SIMULATIONS_APIS\\PORTFOLIO_SIM_PROJECT\\MCForecastTools.py:117: PerformanceWarning: DataFrame is highly fragmented.  This is usually the result of calling `frame.insert` many times, which has poor performance.  Consider joining all columns at once using pd.concat(axis=1) instead. To get a de-fragmented frame, use `newframe = frame.copy()`\n",
      "  portfolio_cumulative_returns[n] = (1 + sim_df.fillna(0)).cumprod()\n",
      "C:\\Users\\legar\\Desktop\\COMPUTER_SCIENCE\\05_FINANCIAL_SIMULATIONS_APIS\\PORTFOLIO_SIM_PROJECT\\MCForecastTools.py:117: PerformanceWarning: DataFrame is highly fragmented.  This is usually the result of calling `frame.insert` many times, which has poor performance.  Consider joining all columns at once using pd.concat(axis=1) instead. To get a de-fragmented frame, use `newframe = frame.copy()`\n",
      "  portfolio_cumulative_returns[n] = (1 + sim_df.fillna(0)).cumprod()\n",
      "C:\\Users\\legar\\Desktop\\COMPUTER_SCIENCE\\05_FINANCIAL_SIMULATIONS_APIS\\PORTFOLIO_SIM_PROJECT\\MCForecastTools.py:117: PerformanceWarning: DataFrame is highly fragmented.  This is usually the result of calling `frame.insert` many times, which has poor performance.  Consider joining all columns at once using pd.concat(axis=1) instead. To get a de-fragmented frame, use `newframe = frame.copy()`\n",
      "  portfolio_cumulative_returns[n] = (1 + sim_df.fillna(0)).cumprod()\n",
      "C:\\Users\\legar\\Desktop\\COMPUTER_SCIENCE\\05_FINANCIAL_SIMULATIONS_APIS\\PORTFOLIO_SIM_PROJECT\\MCForecastTools.py:117: PerformanceWarning: DataFrame is highly fragmented.  This is usually the result of calling `frame.insert` many times, which has poor performance.  Consider joining all columns at once using pd.concat(axis=1) instead. To get a de-fragmented frame, use `newframe = frame.copy()`\n",
      "  portfolio_cumulative_returns[n] = (1 + sim_df.fillna(0)).cumprod()\n",
      "C:\\Users\\legar\\Desktop\\COMPUTER_SCIENCE\\05_FINANCIAL_SIMULATIONS_APIS\\PORTFOLIO_SIM_PROJECT\\MCForecastTools.py:117: PerformanceWarning: DataFrame is highly fragmented.  This is usually the result of calling `frame.insert` many times, which has poor performance.  Consider joining all columns at once using pd.concat(axis=1) instead. To get a de-fragmented frame, use `newframe = frame.copy()`\n",
      "  portfolio_cumulative_returns[n] = (1 + sim_df.fillna(0)).cumprod()\n"
     ]
    },
    {
     "name": "stdout",
     "output_type": "stream",
     "text": [
      "Running Monte Carlo simulation number 440.\n"
     ]
    },
    {
     "name": "stderr",
     "output_type": "stream",
     "text": [
      "C:\\Users\\legar\\Desktop\\COMPUTER_SCIENCE\\05_FINANCIAL_SIMULATIONS_APIS\\PORTFOLIO_SIM_PROJECT\\MCForecastTools.py:117: PerformanceWarning: DataFrame is highly fragmented.  This is usually the result of calling `frame.insert` many times, which has poor performance.  Consider joining all columns at once using pd.concat(axis=1) instead. To get a de-fragmented frame, use `newframe = frame.copy()`\n",
      "  portfolio_cumulative_returns[n] = (1 + sim_df.fillna(0)).cumprod()\n",
      "C:\\Users\\legar\\Desktop\\COMPUTER_SCIENCE\\05_FINANCIAL_SIMULATIONS_APIS\\PORTFOLIO_SIM_PROJECT\\MCForecastTools.py:117: PerformanceWarning: DataFrame is highly fragmented.  This is usually the result of calling `frame.insert` many times, which has poor performance.  Consider joining all columns at once using pd.concat(axis=1) instead. To get a de-fragmented frame, use `newframe = frame.copy()`\n",
      "  portfolio_cumulative_returns[n] = (1 + sim_df.fillna(0)).cumprod()\n",
      "C:\\Users\\legar\\Desktop\\COMPUTER_SCIENCE\\05_FINANCIAL_SIMULATIONS_APIS\\PORTFOLIO_SIM_PROJECT\\MCForecastTools.py:117: PerformanceWarning: DataFrame is highly fragmented.  This is usually the result of calling `frame.insert` many times, which has poor performance.  Consider joining all columns at once using pd.concat(axis=1) instead. To get a de-fragmented frame, use `newframe = frame.copy()`\n",
      "  portfolio_cumulative_returns[n] = (1 + sim_df.fillna(0)).cumprod()\n",
      "C:\\Users\\legar\\Desktop\\COMPUTER_SCIENCE\\05_FINANCIAL_SIMULATIONS_APIS\\PORTFOLIO_SIM_PROJECT\\MCForecastTools.py:117: PerformanceWarning: DataFrame is highly fragmented.  This is usually the result of calling `frame.insert` many times, which has poor performance.  Consider joining all columns at once using pd.concat(axis=1) instead. To get a de-fragmented frame, use `newframe = frame.copy()`\n",
      "  portfolio_cumulative_returns[n] = (1 + sim_df.fillna(0)).cumprod()\n",
      "C:\\Users\\legar\\Desktop\\COMPUTER_SCIENCE\\05_FINANCIAL_SIMULATIONS_APIS\\PORTFOLIO_SIM_PROJECT\\MCForecastTools.py:117: PerformanceWarning: DataFrame is highly fragmented.  This is usually the result of calling `frame.insert` many times, which has poor performance.  Consider joining all columns at once using pd.concat(axis=1) instead. To get a de-fragmented frame, use `newframe = frame.copy()`\n",
      "  portfolio_cumulative_returns[n] = (1 + sim_df.fillna(0)).cumprod()\n",
      "C:\\Users\\legar\\Desktop\\COMPUTER_SCIENCE\\05_FINANCIAL_SIMULATIONS_APIS\\PORTFOLIO_SIM_PROJECT\\MCForecastTools.py:117: PerformanceWarning: DataFrame is highly fragmented.  This is usually the result of calling `frame.insert` many times, which has poor performance.  Consider joining all columns at once using pd.concat(axis=1) instead. To get a de-fragmented frame, use `newframe = frame.copy()`\n",
      "  portfolio_cumulative_returns[n] = (1 + sim_df.fillna(0)).cumprod()\n",
      "C:\\Users\\legar\\Desktop\\COMPUTER_SCIENCE\\05_FINANCIAL_SIMULATIONS_APIS\\PORTFOLIO_SIM_PROJECT\\MCForecastTools.py:117: PerformanceWarning: DataFrame is highly fragmented.  This is usually the result of calling `frame.insert` many times, which has poor performance.  Consider joining all columns at once using pd.concat(axis=1) instead. To get a de-fragmented frame, use `newframe = frame.copy()`\n",
      "  portfolio_cumulative_returns[n] = (1 + sim_df.fillna(0)).cumprod()\n",
      "C:\\Users\\legar\\Desktop\\COMPUTER_SCIENCE\\05_FINANCIAL_SIMULATIONS_APIS\\PORTFOLIO_SIM_PROJECT\\MCForecastTools.py:117: PerformanceWarning: DataFrame is highly fragmented.  This is usually the result of calling `frame.insert` many times, which has poor performance.  Consider joining all columns at once using pd.concat(axis=1) instead. To get a de-fragmented frame, use `newframe = frame.copy()`\n",
      "  portfolio_cumulative_returns[n] = (1 + sim_df.fillna(0)).cumprod()\n",
      "C:\\Users\\legar\\Desktop\\COMPUTER_SCIENCE\\05_FINANCIAL_SIMULATIONS_APIS\\PORTFOLIO_SIM_PROJECT\\MCForecastTools.py:117: PerformanceWarning: DataFrame is highly fragmented.  This is usually the result of calling `frame.insert` many times, which has poor performance.  Consider joining all columns at once using pd.concat(axis=1) instead. To get a de-fragmented frame, use `newframe = frame.copy()`\n",
      "  portfolio_cumulative_returns[n] = (1 + sim_df.fillna(0)).cumprod()\n",
      "C:\\Users\\legar\\Desktop\\COMPUTER_SCIENCE\\05_FINANCIAL_SIMULATIONS_APIS\\PORTFOLIO_SIM_PROJECT\\MCForecastTools.py:117: PerformanceWarning: DataFrame is highly fragmented.  This is usually the result of calling `frame.insert` many times, which has poor performance.  Consider joining all columns at once using pd.concat(axis=1) instead. To get a de-fragmented frame, use `newframe = frame.copy()`\n",
      "  portfolio_cumulative_returns[n] = (1 + sim_df.fillna(0)).cumprod()\n"
     ]
    },
    {
     "name": "stdout",
     "output_type": "stream",
     "text": [
      "Running Monte Carlo simulation number 450.\n"
     ]
    },
    {
     "name": "stderr",
     "output_type": "stream",
     "text": [
      "C:\\Users\\legar\\Desktop\\COMPUTER_SCIENCE\\05_FINANCIAL_SIMULATIONS_APIS\\PORTFOLIO_SIM_PROJECT\\MCForecastTools.py:117: PerformanceWarning: DataFrame is highly fragmented.  This is usually the result of calling `frame.insert` many times, which has poor performance.  Consider joining all columns at once using pd.concat(axis=1) instead. To get a de-fragmented frame, use `newframe = frame.copy()`\n",
      "  portfolio_cumulative_returns[n] = (1 + sim_df.fillna(0)).cumprod()\n",
      "C:\\Users\\legar\\Desktop\\COMPUTER_SCIENCE\\05_FINANCIAL_SIMULATIONS_APIS\\PORTFOLIO_SIM_PROJECT\\MCForecastTools.py:117: PerformanceWarning: DataFrame is highly fragmented.  This is usually the result of calling `frame.insert` many times, which has poor performance.  Consider joining all columns at once using pd.concat(axis=1) instead. To get a de-fragmented frame, use `newframe = frame.copy()`\n",
      "  portfolio_cumulative_returns[n] = (1 + sim_df.fillna(0)).cumprod()\n",
      "C:\\Users\\legar\\Desktop\\COMPUTER_SCIENCE\\05_FINANCIAL_SIMULATIONS_APIS\\PORTFOLIO_SIM_PROJECT\\MCForecastTools.py:117: PerformanceWarning: DataFrame is highly fragmented.  This is usually the result of calling `frame.insert` many times, which has poor performance.  Consider joining all columns at once using pd.concat(axis=1) instead. To get a de-fragmented frame, use `newframe = frame.copy()`\n",
      "  portfolio_cumulative_returns[n] = (1 + sim_df.fillna(0)).cumprod()\n",
      "C:\\Users\\legar\\Desktop\\COMPUTER_SCIENCE\\05_FINANCIAL_SIMULATIONS_APIS\\PORTFOLIO_SIM_PROJECT\\MCForecastTools.py:117: PerformanceWarning: DataFrame is highly fragmented.  This is usually the result of calling `frame.insert` many times, which has poor performance.  Consider joining all columns at once using pd.concat(axis=1) instead. To get a de-fragmented frame, use `newframe = frame.copy()`\n",
      "  portfolio_cumulative_returns[n] = (1 + sim_df.fillna(0)).cumprod()\n",
      "C:\\Users\\legar\\Desktop\\COMPUTER_SCIENCE\\05_FINANCIAL_SIMULATIONS_APIS\\PORTFOLIO_SIM_PROJECT\\MCForecastTools.py:117: PerformanceWarning: DataFrame is highly fragmented.  This is usually the result of calling `frame.insert` many times, which has poor performance.  Consider joining all columns at once using pd.concat(axis=1) instead. To get a de-fragmented frame, use `newframe = frame.copy()`\n",
      "  portfolio_cumulative_returns[n] = (1 + sim_df.fillna(0)).cumprod()\n",
      "C:\\Users\\legar\\Desktop\\COMPUTER_SCIENCE\\05_FINANCIAL_SIMULATIONS_APIS\\PORTFOLIO_SIM_PROJECT\\MCForecastTools.py:117: PerformanceWarning: DataFrame is highly fragmented.  This is usually the result of calling `frame.insert` many times, which has poor performance.  Consider joining all columns at once using pd.concat(axis=1) instead. To get a de-fragmented frame, use `newframe = frame.copy()`\n",
      "  portfolio_cumulative_returns[n] = (1 + sim_df.fillna(0)).cumprod()\n",
      "C:\\Users\\legar\\Desktop\\COMPUTER_SCIENCE\\05_FINANCIAL_SIMULATIONS_APIS\\PORTFOLIO_SIM_PROJECT\\MCForecastTools.py:117: PerformanceWarning: DataFrame is highly fragmented.  This is usually the result of calling `frame.insert` many times, which has poor performance.  Consider joining all columns at once using pd.concat(axis=1) instead. To get a de-fragmented frame, use `newframe = frame.copy()`\n",
      "  portfolio_cumulative_returns[n] = (1 + sim_df.fillna(0)).cumprod()\n",
      "C:\\Users\\legar\\Desktop\\COMPUTER_SCIENCE\\05_FINANCIAL_SIMULATIONS_APIS\\PORTFOLIO_SIM_PROJECT\\MCForecastTools.py:117: PerformanceWarning: DataFrame is highly fragmented.  This is usually the result of calling `frame.insert` many times, which has poor performance.  Consider joining all columns at once using pd.concat(axis=1) instead. To get a de-fragmented frame, use `newframe = frame.copy()`\n",
      "  portfolio_cumulative_returns[n] = (1 + sim_df.fillna(0)).cumprod()\n",
      "C:\\Users\\legar\\Desktop\\COMPUTER_SCIENCE\\05_FINANCIAL_SIMULATIONS_APIS\\PORTFOLIO_SIM_PROJECT\\MCForecastTools.py:117: PerformanceWarning: DataFrame is highly fragmented.  This is usually the result of calling `frame.insert` many times, which has poor performance.  Consider joining all columns at once using pd.concat(axis=1) instead. To get a de-fragmented frame, use `newframe = frame.copy()`\n",
      "  portfolio_cumulative_returns[n] = (1 + sim_df.fillna(0)).cumprod()\n",
      "C:\\Users\\legar\\Desktop\\COMPUTER_SCIENCE\\05_FINANCIAL_SIMULATIONS_APIS\\PORTFOLIO_SIM_PROJECT\\MCForecastTools.py:117: PerformanceWarning: DataFrame is highly fragmented.  This is usually the result of calling `frame.insert` many times, which has poor performance.  Consider joining all columns at once using pd.concat(axis=1) instead. To get a de-fragmented frame, use `newframe = frame.copy()`\n",
      "  portfolio_cumulative_returns[n] = (1 + sim_df.fillna(0)).cumprod()\n"
     ]
    },
    {
     "name": "stdout",
     "output_type": "stream",
     "text": [
      "Running Monte Carlo simulation number 460.\n"
     ]
    },
    {
     "name": "stderr",
     "output_type": "stream",
     "text": [
      "C:\\Users\\legar\\Desktop\\COMPUTER_SCIENCE\\05_FINANCIAL_SIMULATIONS_APIS\\PORTFOLIO_SIM_PROJECT\\MCForecastTools.py:117: PerformanceWarning: DataFrame is highly fragmented.  This is usually the result of calling `frame.insert` many times, which has poor performance.  Consider joining all columns at once using pd.concat(axis=1) instead. To get a de-fragmented frame, use `newframe = frame.copy()`\n",
      "  portfolio_cumulative_returns[n] = (1 + sim_df.fillna(0)).cumprod()\n",
      "C:\\Users\\legar\\Desktop\\COMPUTER_SCIENCE\\05_FINANCIAL_SIMULATIONS_APIS\\PORTFOLIO_SIM_PROJECT\\MCForecastTools.py:117: PerformanceWarning: DataFrame is highly fragmented.  This is usually the result of calling `frame.insert` many times, which has poor performance.  Consider joining all columns at once using pd.concat(axis=1) instead. To get a de-fragmented frame, use `newframe = frame.copy()`\n",
      "  portfolio_cumulative_returns[n] = (1 + sim_df.fillna(0)).cumprod()\n",
      "C:\\Users\\legar\\Desktop\\COMPUTER_SCIENCE\\05_FINANCIAL_SIMULATIONS_APIS\\PORTFOLIO_SIM_PROJECT\\MCForecastTools.py:117: PerformanceWarning: DataFrame is highly fragmented.  This is usually the result of calling `frame.insert` many times, which has poor performance.  Consider joining all columns at once using pd.concat(axis=1) instead. To get a de-fragmented frame, use `newframe = frame.copy()`\n",
      "  portfolio_cumulative_returns[n] = (1 + sim_df.fillna(0)).cumprod()\n",
      "C:\\Users\\legar\\Desktop\\COMPUTER_SCIENCE\\05_FINANCIAL_SIMULATIONS_APIS\\PORTFOLIO_SIM_PROJECT\\MCForecastTools.py:117: PerformanceWarning: DataFrame is highly fragmented.  This is usually the result of calling `frame.insert` many times, which has poor performance.  Consider joining all columns at once using pd.concat(axis=1) instead. To get a de-fragmented frame, use `newframe = frame.copy()`\n",
      "  portfolio_cumulative_returns[n] = (1 + sim_df.fillna(0)).cumprod()\n",
      "C:\\Users\\legar\\Desktop\\COMPUTER_SCIENCE\\05_FINANCIAL_SIMULATIONS_APIS\\PORTFOLIO_SIM_PROJECT\\MCForecastTools.py:117: PerformanceWarning: DataFrame is highly fragmented.  This is usually the result of calling `frame.insert` many times, which has poor performance.  Consider joining all columns at once using pd.concat(axis=1) instead. To get a de-fragmented frame, use `newframe = frame.copy()`\n",
      "  portfolio_cumulative_returns[n] = (1 + sim_df.fillna(0)).cumprod()\n",
      "C:\\Users\\legar\\Desktop\\COMPUTER_SCIENCE\\05_FINANCIAL_SIMULATIONS_APIS\\PORTFOLIO_SIM_PROJECT\\MCForecastTools.py:117: PerformanceWarning: DataFrame is highly fragmented.  This is usually the result of calling `frame.insert` many times, which has poor performance.  Consider joining all columns at once using pd.concat(axis=1) instead. To get a de-fragmented frame, use `newframe = frame.copy()`\n",
      "  portfolio_cumulative_returns[n] = (1 + sim_df.fillna(0)).cumprod()\n",
      "C:\\Users\\legar\\Desktop\\COMPUTER_SCIENCE\\05_FINANCIAL_SIMULATIONS_APIS\\PORTFOLIO_SIM_PROJECT\\MCForecastTools.py:117: PerformanceWarning: DataFrame is highly fragmented.  This is usually the result of calling `frame.insert` many times, which has poor performance.  Consider joining all columns at once using pd.concat(axis=1) instead. To get a de-fragmented frame, use `newframe = frame.copy()`\n",
      "  portfolio_cumulative_returns[n] = (1 + sim_df.fillna(0)).cumprod()\n",
      "C:\\Users\\legar\\Desktop\\COMPUTER_SCIENCE\\05_FINANCIAL_SIMULATIONS_APIS\\PORTFOLIO_SIM_PROJECT\\MCForecastTools.py:117: PerformanceWarning: DataFrame is highly fragmented.  This is usually the result of calling `frame.insert` many times, which has poor performance.  Consider joining all columns at once using pd.concat(axis=1) instead. To get a de-fragmented frame, use `newframe = frame.copy()`\n",
      "  portfolio_cumulative_returns[n] = (1 + sim_df.fillna(0)).cumprod()\n",
      "C:\\Users\\legar\\Desktop\\COMPUTER_SCIENCE\\05_FINANCIAL_SIMULATIONS_APIS\\PORTFOLIO_SIM_PROJECT\\MCForecastTools.py:117: PerformanceWarning: DataFrame is highly fragmented.  This is usually the result of calling `frame.insert` many times, which has poor performance.  Consider joining all columns at once using pd.concat(axis=1) instead. To get a de-fragmented frame, use `newframe = frame.copy()`\n",
      "  portfolio_cumulative_returns[n] = (1 + sim_df.fillna(0)).cumprod()\n",
      "C:\\Users\\legar\\Desktop\\COMPUTER_SCIENCE\\05_FINANCIAL_SIMULATIONS_APIS\\PORTFOLIO_SIM_PROJECT\\MCForecastTools.py:117: PerformanceWarning: DataFrame is highly fragmented.  This is usually the result of calling `frame.insert` many times, which has poor performance.  Consider joining all columns at once using pd.concat(axis=1) instead. To get a de-fragmented frame, use `newframe = frame.copy()`\n",
      "  portfolio_cumulative_returns[n] = (1 + sim_df.fillna(0)).cumprod()\n"
     ]
    },
    {
     "name": "stdout",
     "output_type": "stream",
     "text": [
      "Running Monte Carlo simulation number 470.\n"
     ]
    },
    {
     "name": "stderr",
     "output_type": "stream",
     "text": [
      "C:\\Users\\legar\\Desktop\\COMPUTER_SCIENCE\\05_FINANCIAL_SIMULATIONS_APIS\\PORTFOLIO_SIM_PROJECT\\MCForecastTools.py:117: PerformanceWarning: DataFrame is highly fragmented.  This is usually the result of calling `frame.insert` many times, which has poor performance.  Consider joining all columns at once using pd.concat(axis=1) instead. To get a de-fragmented frame, use `newframe = frame.copy()`\n",
      "  portfolio_cumulative_returns[n] = (1 + sim_df.fillna(0)).cumprod()\n",
      "C:\\Users\\legar\\Desktop\\COMPUTER_SCIENCE\\05_FINANCIAL_SIMULATIONS_APIS\\PORTFOLIO_SIM_PROJECT\\MCForecastTools.py:117: PerformanceWarning: DataFrame is highly fragmented.  This is usually the result of calling `frame.insert` many times, which has poor performance.  Consider joining all columns at once using pd.concat(axis=1) instead. To get a de-fragmented frame, use `newframe = frame.copy()`\n",
      "  portfolio_cumulative_returns[n] = (1 + sim_df.fillna(0)).cumprod()\n",
      "C:\\Users\\legar\\Desktop\\COMPUTER_SCIENCE\\05_FINANCIAL_SIMULATIONS_APIS\\PORTFOLIO_SIM_PROJECT\\MCForecastTools.py:117: PerformanceWarning: DataFrame is highly fragmented.  This is usually the result of calling `frame.insert` many times, which has poor performance.  Consider joining all columns at once using pd.concat(axis=1) instead. To get a de-fragmented frame, use `newframe = frame.copy()`\n",
      "  portfolio_cumulative_returns[n] = (1 + sim_df.fillna(0)).cumprod()\n",
      "C:\\Users\\legar\\Desktop\\COMPUTER_SCIENCE\\05_FINANCIAL_SIMULATIONS_APIS\\PORTFOLIO_SIM_PROJECT\\MCForecastTools.py:117: PerformanceWarning: DataFrame is highly fragmented.  This is usually the result of calling `frame.insert` many times, which has poor performance.  Consider joining all columns at once using pd.concat(axis=1) instead. To get a de-fragmented frame, use `newframe = frame.copy()`\n",
      "  portfolio_cumulative_returns[n] = (1 + sim_df.fillna(0)).cumprod()\n",
      "C:\\Users\\legar\\Desktop\\COMPUTER_SCIENCE\\05_FINANCIAL_SIMULATIONS_APIS\\PORTFOLIO_SIM_PROJECT\\MCForecastTools.py:117: PerformanceWarning: DataFrame is highly fragmented.  This is usually the result of calling `frame.insert` many times, which has poor performance.  Consider joining all columns at once using pd.concat(axis=1) instead. To get a de-fragmented frame, use `newframe = frame.copy()`\n",
      "  portfolio_cumulative_returns[n] = (1 + sim_df.fillna(0)).cumprod()\n",
      "C:\\Users\\legar\\Desktop\\COMPUTER_SCIENCE\\05_FINANCIAL_SIMULATIONS_APIS\\PORTFOLIO_SIM_PROJECT\\MCForecastTools.py:117: PerformanceWarning: DataFrame is highly fragmented.  This is usually the result of calling `frame.insert` many times, which has poor performance.  Consider joining all columns at once using pd.concat(axis=1) instead. To get a de-fragmented frame, use `newframe = frame.copy()`\n",
      "  portfolio_cumulative_returns[n] = (1 + sim_df.fillna(0)).cumprod()\n",
      "C:\\Users\\legar\\Desktop\\COMPUTER_SCIENCE\\05_FINANCIAL_SIMULATIONS_APIS\\PORTFOLIO_SIM_PROJECT\\MCForecastTools.py:117: PerformanceWarning: DataFrame is highly fragmented.  This is usually the result of calling `frame.insert` many times, which has poor performance.  Consider joining all columns at once using pd.concat(axis=1) instead. To get a de-fragmented frame, use `newframe = frame.copy()`\n",
      "  portfolio_cumulative_returns[n] = (1 + sim_df.fillna(0)).cumprod()\n",
      "C:\\Users\\legar\\Desktop\\COMPUTER_SCIENCE\\05_FINANCIAL_SIMULATIONS_APIS\\PORTFOLIO_SIM_PROJECT\\MCForecastTools.py:117: PerformanceWarning: DataFrame is highly fragmented.  This is usually the result of calling `frame.insert` many times, which has poor performance.  Consider joining all columns at once using pd.concat(axis=1) instead. To get a de-fragmented frame, use `newframe = frame.copy()`\n",
      "  portfolio_cumulative_returns[n] = (1 + sim_df.fillna(0)).cumprod()\n",
      "C:\\Users\\legar\\Desktop\\COMPUTER_SCIENCE\\05_FINANCIAL_SIMULATIONS_APIS\\PORTFOLIO_SIM_PROJECT\\MCForecastTools.py:117: PerformanceWarning: DataFrame is highly fragmented.  This is usually the result of calling `frame.insert` many times, which has poor performance.  Consider joining all columns at once using pd.concat(axis=1) instead. To get a de-fragmented frame, use `newframe = frame.copy()`\n",
      "  portfolio_cumulative_returns[n] = (1 + sim_df.fillna(0)).cumprod()\n",
      "C:\\Users\\legar\\Desktop\\COMPUTER_SCIENCE\\05_FINANCIAL_SIMULATIONS_APIS\\PORTFOLIO_SIM_PROJECT\\MCForecastTools.py:117: PerformanceWarning: DataFrame is highly fragmented.  This is usually the result of calling `frame.insert` many times, which has poor performance.  Consider joining all columns at once using pd.concat(axis=1) instead. To get a de-fragmented frame, use `newframe = frame.copy()`\n",
      "  portfolio_cumulative_returns[n] = (1 + sim_df.fillna(0)).cumprod()\n"
     ]
    },
    {
     "name": "stdout",
     "output_type": "stream",
     "text": [
      "Running Monte Carlo simulation number 480.\n"
     ]
    },
    {
     "name": "stderr",
     "output_type": "stream",
     "text": [
      "C:\\Users\\legar\\Desktop\\COMPUTER_SCIENCE\\05_FINANCIAL_SIMULATIONS_APIS\\PORTFOLIO_SIM_PROJECT\\MCForecastTools.py:117: PerformanceWarning: DataFrame is highly fragmented.  This is usually the result of calling `frame.insert` many times, which has poor performance.  Consider joining all columns at once using pd.concat(axis=1) instead. To get a de-fragmented frame, use `newframe = frame.copy()`\n",
      "  portfolio_cumulative_returns[n] = (1 + sim_df.fillna(0)).cumprod()\n",
      "C:\\Users\\legar\\Desktop\\COMPUTER_SCIENCE\\05_FINANCIAL_SIMULATIONS_APIS\\PORTFOLIO_SIM_PROJECT\\MCForecastTools.py:117: PerformanceWarning: DataFrame is highly fragmented.  This is usually the result of calling `frame.insert` many times, which has poor performance.  Consider joining all columns at once using pd.concat(axis=1) instead. To get a de-fragmented frame, use `newframe = frame.copy()`\n",
      "  portfolio_cumulative_returns[n] = (1 + sim_df.fillna(0)).cumprod()\n",
      "C:\\Users\\legar\\Desktop\\COMPUTER_SCIENCE\\05_FINANCIAL_SIMULATIONS_APIS\\PORTFOLIO_SIM_PROJECT\\MCForecastTools.py:117: PerformanceWarning: DataFrame is highly fragmented.  This is usually the result of calling `frame.insert` many times, which has poor performance.  Consider joining all columns at once using pd.concat(axis=1) instead. To get a de-fragmented frame, use `newframe = frame.copy()`\n",
      "  portfolio_cumulative_returns[n] = (1 + sim_df.fillna(0)).cumprod()\n",
      "C:\\Users\\legar\\Desktop\\COMPUTER_SCIENCE\\05_FINANCIAL_SIMULATIONS_APIS\\PORTFOLIO_SIM_PROJECT\\MCForecastTools.py:117: PerformanceWarning: DataFrame is highly fragmented.  This is usually the result of calling `frame.insert` many times, which has poor performance.  Consider joining all columns at once using pd.concat(axis=1) instead. To get a de-fragmented frame, use `newframe = frame.copy()`\n",
      "  portfolio_cumulative_returns[n] = (1 + sim_df.fillna(0)).cumprod()\n",
      "C:\\Users\\legar\\Desktop\\COMPUTER_SCIENCE\\05_FINANCIAL_SIMULATIONS_APIS\\PORTFOLIO_SIM_PROJECT\\MCForecastTools.py:117: PerformanceWarning: DataFrame is highly fragmented.  This is usually the result of calling `frame.insert` many times, which has poor performance.  Consider joining all columns at once using pd.concat(axis=1) instead. To get a de-fragmented frame, use `newframe = frame.copy()`\n",
      "  portfolio_cumulative_returns[n] = (1 + sim_df.fillna(0)).cumprod()\n",
      "C:\\Users\\legar\\Desktop\\COMPUTER_SCIENCE\\05_FINANCIAL_SIMULATIONS_APIS\\PORTFOLIO_SIM_PROJECT\\MCForecastTools.py:117: PerformanceWarning: DataFrame is highly fragmented.  This is usually the result of calling `frame.insert` many times, which has poor performance.  Consider joining all columns at once using pd.concat(axis=1) instead. To get a de-fragmented frame, use `newframe = frame.copy()`\n",
      "  portfolio_cumulative_returns[n] = (1 + sim_df.fillna(0)).cumprod()\n",
      "C:\\Users\\legar\\Desktop\\COMPUTER_SCIENCE\\05_FINANCIAL_SIMULATIONS_APIS\\PORTFOLIO_SIM_PROJECT\\MCForecastTools.py:117: PerformanceWarning: DataFrame is highly fragmented.  This is usually the result of calling `frame.insert` many times, which has poor performance.  Consider joining all columns at once using pd.concat(axis=1) instead. To get a de-fragmented frame, use `newframe = frame.copy()`\n",
      "  portfolio_cumulative_returns[n] = (1 + sim_df.fillna(0)).cumprod()\n",
      "C:\\Users\\legar\\Desktop\\COMPUTER_SCIENCE\\05_FINANCIAL_SIMULATIONS_APIS\\PORTFOLIO_SIM_PROJECT\\MCForecastTools.py:117: PerformanceWarning: DataFrame is highly fragmented.  This is usually the result of calling `frame.insert` many times, which has poor performance.  Consider joining all columns at once using pd.concat(axis=1) instead. To get a de-fragmented frame, use `newframe = frame.copy()`\n",
      "  portfolio_cumulative_returns[n] = (1 + sim_df.fillna(0)).cumprod()\n",
      "C:\\Users\\legar\\Desktop\\COMPUTER_SCIENCE\\05_FINANCIAL_SIMULATIONS_APIS\\PORTFOLIO_SIM_PROJECT\\MCForecastTools.py:117: PerformanceWarning: DataFrame is highly fragmented.  This is usually the result of calling `frame.insert` many times, which has poor performance.  Consider joining all columns at once using pd.concat(axis=1) instead. To get a de-fragmented frame, use `newframe = frame.copy()`\n",
      "  portfolio_cumulative_returns[n] = (1 + sim_df.fillna(0)).cumprod()\n",
      "C:\\Users\\legar\\Desktop\\COMPUTER_SCIENCE\\05_FINANCIAL_SIMULATIONS_APIS\\PORTFOLIO_SIM_PROJECT\\MCForecastTools.py:117: PerformanceWarning: DataFrame is highly fragmented.  This is usually the result of calling `frame.insert` many times, which has poor performance.  Consider joining all columns at once using pd.concat(axis=1) instead. To get a de-fragmented frame, use `newframe = frame.copy()`\n",
      "  portfolio_cumulative_returns[n] = (1 + sim_df.fillna(0)).cumprod()\n"
     ]
    },
    {
     "name": "stdout",
     "output_type": "stream",
     "text": [
      "Running Monte Carlo simulation number 490.\n"
     ]
    },
    {
     "name": "stderr",
     "output_type": "stream",
     "text": [
      "C:\\Users\\legar\\Desktop\\COMPUTER_SCIENCE\\05_FINANCIAL_SIMULATIONS_APIS\\PORTFOLIO_SIM_PROJECT\\MCForecastTools.py:117: PerformanceWarning: DataFrame is highly fragmented.  This is usually the result of calling `frame.insert` many times, which has poor performance.  Consider joining all columns at once using pd.concat(axis=1) instead. To get a de-fragmented frame, use `newframe = frame.copy()`\n",
      "  portfolio_cumulative_returns[n] = (1 + sim_df.fillna(0)).cumprod()\n",
      "C:\\Users\\legar\\Desktop\\COMPUTER_SCIENCE\\05_FINANCIAL_SIMULATIONS_APIS\\PORTFOLIO_SIM_PROJECT\\MCForecastTools.py:117: PerformanceWarning: DataFrame is highly fragmented.  This is usually the result of calling `frame.insert` many times, which has poor performance.  Consider joining all columns at once using pd.concat(axis=1) instead. To get a de-fragmented frame, use `newframe = frame.copy()`\n",
      "  portfolio_cumulative_returns[n] = (1 + sim_df.fillna(0)).cumprod()\n",
      "C:\\Users\\legar\\Desktop\\COMPUTER_SCIENCE\\05_FINANCIAL_SIMULATIONS_APIS\\PORTFOLIO_SIM_PROJECT\\MCForecastTools.py:117: PerformanceWarning: DataFrame is highly fragmented.  This is usually the result of calling `frame.insert` many times, which has poor performance.  Consider joining all columns at once using pd.concat(axis=1) instead. To get a de-fragmented frame, use `newframe = frame.copy()`\n",
      "  portfolio_cumulative_returns[n] = (1 + sim_df.fillna(0)).cumprod()\n",
      "C:\\Users\\legar\\Desktop\\COMPUTER_SCIENCE\\05_FINANCIAL_SIMULATIONS_APIS\\PORTFOLIO_SIM_PROJECT\\MCForecastTools.py:117: PerformanceWarning: DataFrame is highly fragmented.  This is usually the result of calling `frame.insert` many times, which has poor performance.  Consider joining all columns at once using pd.concat(axis=1) instead. To get a de-fragmented frame, use `newframe = frame.copy()`\n",
      "  portfolio_cumulative_returns[n] = (1 + sim_df.fillna(0)).cumprod()\n",
      "C:\\Users\\legar\\Desktop\\COMPUTER_SCIENCE\\05_FINANCIAL_SIMULATIONS_APIS\\PORTFOLIO_SIM_PROJECT\\MCForecastTools.py:117: PerformanceWarning: DataFrame is highly fragmented.  This is usually the result of calling `frame.insert` many times, which has poor performance.  Consider joining all columns at once using pd.concat(axis=1) instead. To get a de-fragmented frame, use `newframe = frame.copy()`\n",
      "  portfolio_cumulative_returns[n] = (1 + sim_df.fillna(0)).cumprod()\n",
      "C:\\Users\\legar\\Desktop\\COMPUTER_SCIENCE\\05_FINANCIAL_SIMULATIONS_APIS\\PORTFOLIO_SIM_PROJECT\\MCForecastTools.py:117: PerformanceWarning: DataFrame is highly fragmented.  This is usually the result of calling `frame.insert` many times, which has poor performance.  Consider joining all columns at once using pd.concat(axis=1) instead. To get a de-fragmented frame, use `newframe = frame.copy()`\n",
      "  portfolio_cumulative_returns[n] = (1 + sim_df.fillna(0)).cumprod()\n",
      "C:\\Users\\legar\\Desktop\\COMPUTER_SCIENCE\\05_FINANCIAL_SIMULATIONS_APIS\\PORTFOLIO_SIM_PROJECT\\MCForecastTools.py:117: PerformanceWarning: DataFrame is highly fragmented.  This is usually the result of calling `frame.insert` many times, which has poor performance.  Consider joining all columns at once using pd.concat(axis=1) instead. To get a de-fragmented frame, use `newframe = frame.copy()`\n",
      "  portfolio_cumulative_returns[n] = (1 + sim_df.fillna(0)).cumprod()\n",
      "C:\\Users\\legar\\Desktop\\COMPUTER_SCIENCE\\05_FINANCIAL_SIMULATIONS_APIS\\PORTFOLIO_SIM_PROJECT\\MCForecastTools.py:117: PerformanceWarning: DataFrame is highly fragmented.  This is usually the result of calling `frame.insert` many times, which has poor performance.  Consider joining all columns at once using pd.concat(axis=1) instead. To get a de-fragmented frame, use `newframe = frame.copy()`\n",
      "  portfolio_cumulative_returns[n] = (1 + sim_df.fillna(0)).cumprod()\n",
      "C:\\Users\\legar\\Desktop\\COMPUTER_SCIENCE\\05_FINANCIAL_SIMULATIONS_APIS\\PORTFOLIO_SIM_PROJECT\\MCForecastTools.py:117: PerformanceWarning: DataFrame is highly fragmented.  This is usually the result of calling `frame.insert` many times, which has poor performance.  Consider joining all columns at once using pd.concat(axis=1) instead. To get a de-fragmented frame, use `newframe = frame.copy()`\n",
      "  portfolio_cumulative_returns[n] = (1 + sim_df.fillna(0)).cumprod()\n"
     ]
    },
    {
     "data": {
      "text/html": [
       "<div>\n",
       "<style scoped>\n",
       "    .dataframe tbody tr th:only-of-type {\n",
       "        vertical-align: middle;\n",
       "    }\n",
       "\n",
       "    .dataframe tbody tr th {\n",
       "        vertical-align: top;\n",
       "    }\n",
       "\n",
       "    .dataframe thead th {\n",
       "        text-align: right;\n",
       "    }\n",
       "</style>\n",
       "<table border=\"1\" class=\"dataframe\">\n",
       "  <thead>\n",
       "    <tr style=\"text-align: right;\">\n",
       "      <th></th>\n",
       "      <th>0</th>\n",
       "      <th>1</th>\n",
       "      <th>2</th>\n",
       "      <th>3</th>\n",
       "      <th>4</th>\n",
       "      <th>5</th>\n",
       "      <th>6</th>\n",
       "      <th>7</th>\n",
       "      <th>8</th>\n",
       "      <th>9</th>\n",
       "      <th>...</th>\n",
       "      <th>490</th>\n",
       "      <th>491</th>\n",
       "      <th>492</th>\n",
       "      <th>493</th>\n",
       "      <th>494</th>\n",
       "      <th>495</th>\n",
       "      <th>496</th>\n",
       "      <th>497</th>\n",
       "      <th>498</th>\n",
       "      <th>499</th>\n",
       "    </tr>\n",
       "  </thead>\n",
       "  <tbody>\n",
       "    <tr>\n",
       "      <th>0</th>\n",
       "      <td>1.000000</td>\n",
       "      <td>1.000000</td>\n",
       "      <td>1.000000</td>\n",
       "      <td>1.000000</td>\n",
       "      <td>1.000000</td>\n",
       "      <td>1.000000</td>\n",
       "      <td>1.000000</td>\n",
       "      <td>1.000000</td>\n",
       "      <td>1.000000</td>\n",
       "      <td>1.000000</td>\n",
       "      <td>...</td>\n",
       "      <td>1.000000</td>\n",
       "      <td>1.000000</td>\n",
       "      <td>1.000000</td>\n",
       "      <td>1.000000</td>\n",
       "      <td>1.000000</td>\n",
       "      <td>1.000000</td>\n",
       "      <td>1.000000</td>\n",
       "      <td>1.000000</td>\n",
       "      <td>1.000000</td>\n",
       "      <td>1.000000</td>\n",
       "    </tr>\n",
       "    <tr>\n",
       "      <th>1</th>\n",
       "      <td>0.986684</td>\n",
       "      <td>1.003822</td>\n",
       "      <td>0.993403</td>\n",
       "      <td>1.010626</td>\n",
       "      <td>1.013533</td>\n",
       "      <td>0.996209</td>\n",
       "      <td>1.007015</td>\n",
       "      <td>0.993543</td>\n",
       "      <td>1.003072</td>\n",
       "      <td>1.014845</td>\n",
       "      <td>...</td>\n",
       "      <td>0.997080</td>\n",
       "      <td>1.001549</td>\n",
       "      <td>1.009272</td>\n",
       "      <td>1.008673</td>\n",
       "      <td>0.996434</td>\n",
       "      <td>0.983351</td>\n",
       "      <td>0.994833</td>\n",
       "      <td>1.005837</td>\n",
       "      <td>1.000899</td>\n",
       "      <td>1.004192</td>\n",
       "    </tr>\n",
       "    <tr>\n",
       "      <th>2</th>\n",
       "      <td>0.983036</td>\n",
       "      <td>1.005351</td>\n",
       "      <td>0.993855</td>\n",
       "      <td>1.009469</td>\n",
       "      <td>1.002036</td>\n",
       "      <td>0.993797</td>\n",
       "      <td>1.008286</td>\n",
       "      <td>0.993572</td>\n",
       "      <td>0.994779</td>\n",
       "      <td>1.024767</td>\n",
       "      <td>...</td>\n",
       "      <td>1.005893</td>\n",
       "      <td>1.008198</td>\n",
       "      <td>1.003499</td>\n",
       "      <td>0.996018</td>\n",
       "      <td>0.999809</td>\n",
       "      <td>0.981601</td>\n",
       "      <td>0.989186</td>\n",
       "      <td>1.003139</td>\n",
       "      <td>1.007968</td>\n",
       "      <td>0.999701</td>\n",
       "    </tr>\n",
       "    <tr>\n",
       "      <th>3</th>\n",
       "      <td>0.984259</td>\n",
       "      <td>1.006085</td>\n",
       "      <td>0.989553</td>\n",
       "      <td>1.000198</td>\n",
       "      <td>0.998269</td>\n",
       "      <td>0.999064</td>\n",
       "      <td>1.009785</td>\n",
       "      <td>0.996492</td>\n",
       "      <td>0.997787</td>\n",
       "      <td>1.032684</td>\n",
       "      <td>...</td>\n",
       "      <td>1.011506</td>\n",
       "      <td>1.005445</td>\n",
       "      <td>0.989045</td>\n",
       "      <td>0.995663</td>\n",
       "      <td>0.991718</td>\n",
       "      <td>0.978180</td>\n",
       "      <td>0.992464</td>\n",
       "      <td>0.996270</td>\n",
       "      <td>1.017938</td>\n",
       "      <td>1.013015</td>\n",
       "    </tr>\n",
       "    <tr>\n",
       "      <th>4</th>\n",
       "      <td>0.988822</td>\n",
       "      <td>1.012149</td>\n",
       "      <td>0.988238</td>\n",
       "      <td>0.994361</td>\n",
       "      <td>1.000541</td>\n",
       "      <td>1.007768</td>\n",
       "      <td>1.007710</td>\n",
       "      <td>0.999880</td>\n",
       "      <td>0.995227</td>\n",
       "      <td>1.031993</td>\n",
       "      <td>...</td>\n",
       "      <td>1.028227</td>\n",
       "      <td>0.999381</td>\n",
       "      <td>0.974765</td>\n",
       "      <td>0.993988</td>\n",
       "      <td>0.987435</td>\n",
       "      <td>0.974429</td>\n",
       "      <td>0.990434</td>\n",
       "      <td>0.995700</td>\n",
       "      <td>1.011600</td>\n",
       "      <td>1.010375</td>\n",
       "    </tr>\n",
       "    <tr>\n",
       "      <th>...</th>\n",
       "      <td>...</td>\n",
       "      <td>...</td>\n",
       "      <td>...</td>\n",
       "      <td>...</td>\n",
       "      <td>...</td>\n",
       "      <td>...</td>\n",
       "      <td>...</td>\n",
       "      <td>...</td>\n",
       "      <td>...</td>\n",
       "      <td>...</td>\n",
       "      <td>...</td>\n",
       "      <td>...</td>\n",
       "      <td>...</td>\n",
       "      <td>...</td>\n",
       "      <td>...</td>\n",
       "      <td>...</td>\n",
       "      <td>...</td>\n",
       "      <td>...</td>\n",
       "      <td>...</td>\n",
       "      <td>...</td>\n",
       "      <td>...</td>\n",
       "    </tr>\n",
       "    <tr>\n",
       "      <th>7556</th>\n",
       "      <td>0.770335</td>\n",
       "      <td>1.346524</td>\n",
       "      <td>5.008317</td>\n",
       "      <td>2.479488</td>\n",
       "      <td>1.510104</td>\n",
       "      <td>4.715275</td>\n",
       "      <td>4.172713</td>\n",
       "      <td>0.931471</td>\n",
       "      <td>1.688931</td>\n",
       "      <td>1.970502</td>\n",
       "      <td>...</td>\n",
       "      <td>1.646009</td>\n",
       "      <td>0.946753</td>\n",
       "      <td>1.386953</td>\n",
       "      <td>3.878195</td>\n",
       "      <td>1.579540</td>\n",
       "      <td>1.672323</td>\n",
       "      <td>1.974783</td>\n",
       "      <td>2.383941</td>\n",
       "      <td>0.782916</td>\n",
       "      <td>2.660075</td>\n",
       "    </tr>\n",
       "    <tr>\n",
       "      <th>7557</th>\n",
       "      <td>0.767291</td>\n",
       "      <td>1.353247</td>\n",
       "      <td>4.982081</td>\n",
       "      <td>2.498417</td>\n",
       "      <td>1.515528</td>\n",
       "      <td>4.750801</td>\n",
       "      <td>4.208103</td>\n",
       "      <td>0.939318</td>\n",
       "      <td>1.678011</td>\n",
       "      <td>1.951431</td>\n",
       "      <td>...</td>\n",
       "      <td>1.638455</td>\n",
       "      <td>0.935022</td>\n",
       "      <td>1.384845</td>\n",
       "      <td>3.832387</td>\n",
       "      <td>1.573005</td>\n",
       "      <td>1.638262</td>\n",
       "      <td>1.968187</td>\n",
       "      <td>2.392826</td>\n",
       "      <td>0.774716</td>\n",
       "      <td>2.644121</td>\n",
       "    </tr>\n",
       "    <tr>\n",
       "      <th>7558</th>\n",
       "      <td>0.786064</td>\n",
       "      <td>1.353081</td>\n",
       "      <td>4.964675</td>\n",
       "      <td>2.478648</td>\n",
       "      <td>1.532824</td>\n",
       "      <td>4.760451</td>\n",
       "      <td>4.231478</td>\n",
       "      <td>0.930780</td>\n",
       "      <td>1.673055</td>\n",
       "      <td>1.955555</td>\n",
       "      <td>...</td>\n",
       "      <td>1.644743</td>\n",
       "      <td>0.930159</td>\n",
       "      <td>1.387076</td>\n",
       "      <td>3.823749</td>\n",
       "      <td>1.563744</td>\n",
       "      <td>1.644979</td>\n",
       "      <td>1.975900</td>\n",
       "      <td>2.383682</td>\n",
       "      <td>0.778378</td>\n",
       "      <td>2.648258</td>\n",
       "    </tr>\n",
       "    <tr>\n",
       "      <th>7559</th>\n",
       "      <td>0.794275</td>\n",
       "      <td>1.344220</td>\n",
       "      <td>4.967794</td>\n",
       "      <td>2.450519</td>\n",
       "      <td>1.537236</td>\n",
       "      <td>4.706955</td>\n",
       "      <td>4.216300</td>\n",
       "      <td>0.942940</td>\n",
       "      <td>1.678873</td>\n",
       "      <td>1.941520</td>\n",
       "      <td>...</td>\n",
       "      <td>1.613531</td>\n",
       "      <td>0.932369</td>\n",
       "      <td>1.385749</td>\n",
       "      <td>3.802517</td>\n",
       "      <td>1.567893</td>\n",
       "      <td>1.628452</td>\n",
       "      <td>1.972342</td>\n",
       "      <td>2.374125</td>\n",
       "      <td>0.774343</td>\n",
       "      <td>2.658932</td>\n",
       "    </tr>\n",
       "    <tr>\n",
       "      <th>7560</th>\n",
       "      <td>0.794724</td>\n",
       "      <td>1.333460</td>\n",
       "      <td>4.949272</td>\n",
       "      <td>2.473066</td>\n",
       "      <td>1.517673</td>\n",
       "      <td>4.721260</td>\n",
       "      <td>4.235176</td>\n",
       "      <td>0.944657</td>\n",
       "      <td>1.687741</td>\n",
       "      <td>1.952528</td>\n",
       "      <td>...</td>\n",
       "      <td>1.614568</td>\n",
       "      <td>0.927828</td>\n",
       "      <td>1.386966</td>\n",
       "      <td>3.836408</td>\n",
       "      <td>1.561325</td>\n",
       "      <td>1.630094</td>\n",
       "      <td>1.967184</td>\n",
       "      <td>2.367921</td>\n",
       "      <td>0.767028</td>\n",
       "      <td>2.699222</td>\n",
       "    </tr>\n",
       "  </tbody>\n",
       "</table>\n",
       "<p>7561 rows × 500 columns</p>\n",
       "</div>"
      ],
      "text/plain": [
       "           0         1         2         3         4         5         6    \\\n",
       "0     1.000000  1.000000  1.000000  1.000000  1.000000  1.000000  1.000000   \n",
       "1     0.986684  1.003822  0.993403  1.010626  1.013533  0.996209  1.007015   \n",
       "2     0.983036  1.005351  0.993855  1.009469  1.002036  0.993797  1.008286   \n",
       "3     0.984259  1.006085  0.989553  1.000198  0.998269  0.999064  1.009785   \n",
       "4     0.988822  1.012149  0.988238  0.994361  1.000541  1.007768  1.007710   \n",
       "...        ...       ...       ...       ...       ...       ...       ...   \n",
       "7556  0.770335  1.346524  5.008317  2.479488  1.510104  4.715275  4.172713   \n",
       "7557  0.767291  1.353247  4.982081  2.498417  1.515528  4.750801  4.208103   \n",
       "7558  0.786064  1.353081  4.964675  2.478648  1.532824  4.760451  4.231478   \n",
       "7559  0.794275  1.344220  4.967794  2.450519  1.537236  4.706955  4.216300   \n",
       "7560  0.794724  1.333460  4.949272  2.473066  1.517673  4.721260  4.235176   \n",
       "\n",
       "           7         8         9    ...       490       491       492  \\\n",
       "0     1.000000  1.000000  1.000000  ...  1.000000  1.000000  1.000000   \n",
       "1     0.993543  1.003072  1.014845  ...  0.997080  1.001549  1.009272   \n",
       "2     0.993572  0.994779  1.024767  ...  1.005893  1.008198  1.003499   \n",
       "3     0.996492  0.997787  1.032684  ...  1.011506  1.005445  0.989045   \n",
       "4     0.999880  0.995227  1.031993  ...  1.028227  0.999381  0.974765   \n",
       "...        ...       ...       ...  ...       ...       ...       ...   \n",
       "7556  0.931471  1.688931  1.970502  ...  1.646009  0.946753  1.386953   \n",
       "7557  0.939318  1.678011  1.951431  ...  1.638455  0.935022  1.384845   \n",
       "7558  0.930780  1.673055  1.955555  ...  1.644743  0.930159  1.387076   \n",
       "7559  0.942940  1.678873  1.941520  ...  1.613531  0.932369  1.385749   \n",
       "7560  0.944657  1.687741  1.952528  ...  1.614568  0.927828  1.386966   \n",
       "\n",
       "           493       494       495       496       497       498       499  \n",
       "0     1.000000  1.000000  1.000000  1.000000  1.000000  1.000000  1.000000  \n",
       "1     1.008673  0.996434  0.983351  0.994833  1.005837  1.000899  1.004192  \n",
       "2     0.996018  0.999809  0.981601  0.989186  1.003139  1.007968  0.999701  \n",
       "3     0.995663  0.991718  0.978180  0.992464  0.996270  1.017938  1.013015  \n",
       "4     0.993988  0.987435  0.974429  0.990434  0.995700  1.011600  1.010375  \n",
       "...        ...       ...       ...       ...       ...       ...       ...  \n",
       "7556  3.878195  1.579540  1.672323  1.974783  2.383941  0.782916  2.660075  \n",
       "7557  3.832387  1.573005  1.638262  1.968187  2.392826  0.774716  2.644121  \n",
       "7558  3.823749  1.563744  1.644979  1.975900  2.383682  0.778378  2.648258  \n",
       "7559  3.802517  1.567893  1.628452  1.972342  2.374125  0.774343  2.658932  \n",
       "7560  3.836408  1.561325  1.630094  1.967184  2.367921  0.767028  2.699222  \n",
       "\n",
       "[7561 rows x 500 columns]"
      ]
     },
     "execution_count": 31,
     "metadata": {},
     "output_type": "execute_result"
    }
   ],
   "source": [
    "# Run the Monte Carlo simulation to forecast 30 years cumulative returns\n",
    "MC_30_df.calc_cumulative_return()"
   ]
  },
  {
   "cell_type": "code",
   "execution_count": 32,
   "metadata": {},
   "outputs": [
    {
     "data": {
      "text/plain": [
       "<AxesSubplot:title={'center':'500 Simulations of Cumulative Portfolio Return Trajectories Over the Next 7560 Trading Days.'}>"
      ]
     },
     "execution_count": 32,
     "metadata": {},
     "output_type": "execute_result"
    },
    {
     "data": {
      "image/png": "[encoded data removed]",
      "text/plain": [
       "<Figure size 640x480 with 1 Axes>"
      ]
     },
     "metadata": {},
     "output_type": "display_data"
    }
   ],
   "source": [
    "# Visualize the 30-year Monte Carlo simulation by creating an\n",
    "# overlay line plot\n",
    "MC_30_df.plot_simulation()"
   ]
  },
  {
   "cell_type": "markdown",
   "metadata": {},
   "source": [
    "#### Step 3: Plot the probability distribution of the Monte Carlo simulation."
   ]
  },
  {
   "cell_type": "code",
   "execution_count": 33,
   "metadata": {},
   "outputs": [
    {
     "data": {
      "text/plain": [
       "<AxesSubplot:title={'center':'Distribution of Final Cumuluative Returns Across All 500 Simulations'}, ylabel='Frequency'>"
      ]
     },
     "execution_count": 33,
     "metadata": {},
     "output_type": "execute_result"
    },
    {
     "data": {
      "image/png": "[encoded data removed]",
      "text/plain": [
       "<Figure size 640x480 with 1 Axes>"
      ]
     },
     "metadata": {},
     "output_type": "display_data"
    }
   ],
   "source": [
    "# Visualize the probability distribution of the 30-year Monte Carlo simulation \n",
    "# by plotting a histogram\n",
    "MC_30_df.plot_distribution()"
   ]
  },
  {
   "cell_type": "markdown",
   "metadata": {},
   "source": [
    "#### Step 4: Generate the summary statistics for the Monte Carlo simulation."
   ]
  },
  {
   "cell_type": "code",
   "execution_count": 34,
   "metadata": {},
   "outputs": [
    {
     "name": "stderr",
     "output_type": "stream",
     "text": [
      "C:\\Users\\legar\\Desktop\\COMPUTER_SCIENCE\\05_FINANCIAL_SIMULATIONS_APIS\\PORTFOLIO_SIM_PROJECT\\MCForecastTools.py:172: FutureWarning: The series.append method is deprecated and will be removed from pandas in a future version. Use pandas.concat instead.\n",
      "  return metrics.append(ci_series)\n"
     ]
    },
    {
     "data": {
      "text/plain": [
       "count           500.000000\n",
       "mean              2.484186\n",
       "std               1.667717\n",
       "min               0.409919\n",
       "25%               1.343166\n",
       "50%               2.003125\n",
       "75%               3.149374\n",
       "max              12.833861\n",
       "95% CI Lower      0.698417\n",
       "95% CI Upper      6.312386\n",
       "Name: 7560, dtype: float64"
      ]
     },
     "execution_count": 34,
     "metadata": {},
     "output_type": "execute_result"
    }
   ],
   "source": [
    "# Generate summary statistics from the 30-year Monte Carlo simulation results\n",
    "# Save the results as a variable\n",
    "MC_30_df_stats = MC_30_df.summarize_cumulative_return()\n",
    "\n",
    "\n",
    "# Review the 30-year Monte Carlo summary statistics\n",
    "MC_30_df_stats"
   ]
  },
  {
   "cell_type": "markdown",
   "metadata": {},
   "source": [
    "### Analyze the Retirement Portfolio Forecasts\n",
    "\n",
    "Using the current value of only the stock and bond portion of the member's portfolio and the summary statistics that you generated from the Monte Carlo simulation, answer the following question in your Jupyter notebook:\n",
    "\n",
    "-  What are the lower and upper bounds for the expected value of the portfolio with a 95% confidence interval?\n"
   ]
  },
  {
   "cell_type": "code",
   "execution_count": 35,
   "metadata": {},
   "outputs": [
    {
     "name": "stdout",
     "output_type": "stream",
     "text": [
      "70198.9\n"
     ]
    }
   ],
   "source": [
    "# Print the current balance of the stock and bond portion of the members portfolio\n",
    "print(total_stocks_bonds)"
   ]
  },
  {
   "cell_type": "code",
   "execution_count": 36,
   "metadata": {},
   "outputs": [
    {
     "name": "stdout",
     "output_type": "stream",
     "text": [
      "With your portfolio, valued at $70198.90, as your initial investment, the lower bound projected return for your portfolio is $49028.09 and the upper bound projected return for your portfolio is $443122.57.\n"
     ]
    }
   ],
   "source": [
    "# Use the lower and upper `95%` confidence intervals to calculate the range of the possible outcomes for the current stock/bond portfolio\n",
    "ci_lower_thirty_cumulative_return = MC_30_df_stats[8] * total_stocks_bonds\n",
    "ci_upper_thirty_cumulative_return = MC_30_df_stats[9] * total_stocks_bonds\n",
    "\n",
    "# Print the result of your calculations\n",
    "print(f'With your portfolio, valued at ${total_stocks_bonds:.2f}, as your initial investment,'\n",
    "      f' the lower bound projected return for your portfolio is ${ci_lower_thirty_cumulative_return:.2f}'\n",
    "      f' and the upper bound projected return for your portfolio is ${ci_upper_thirty_cumulative_return:.2f}.')"
   ]
  },
  {
   "cell_type": "markdown",
   "metadata": {},
   "source": [
    "### Forecast Cumulative Returns in 10 Years\n",
    "\n",
    "The CTO of the credit union is impressed with your work on these planning tools but wonders if 30 years is a long time to wait until retirement. So, your next task is to adjust the retirement portfolio and run a new Monte Carlo simulation to find out if the changes will allow members to retire earlier.\n",
    "\n",
    "For this new Monte Carlo simulation, do the following: \n",
    "\n",
    "- Forecast the cumulative returns for 10 years from now. Because of the shortened investment horizon (30 years to 10 years), the portfolio needs to invest more heavily in the riskier asset&mdash;that is, stock&mdash;to help accumulate wealth for retirement. \n",
    "\n",
    "- Adjust the weights of the retirement portfolio so that the composition for the Monte Carlo simulation consists of 20% bonds and 80% stocks. \n",
    "\n",
    "- Run the simulation over 500 samples, and use the same data that the API call to Alpaca generated.\n",
    "\n",
    "- Based on the new Monte Carlo simulation, answer the following questions in your Jupyter notebook:\n",
    "\n",
    "    - Using the current value of only the stock and bond portion of the member's portfolio and the summary statistics that you generated from the new Monte Carlo simulation, what are the lower and upper bounds for the expected value of the portfolio (with the new weights) with a 95% confidence interval?\n",
    "\n",
    "    - Will weighting the portfolio more heavily toward stocks allow the credit union members to retire after only 10 years?\n"
   ]
  },
  {
   "cell_type": "code",
   "execution_count": 37,
   "metadata": {},
   "outputs": [
    {
     "data": {
      "text/html": [
       "<div>\n",
       "<style scoped>\n",
       "    .dataframe tbody tr th:only-of-type {\n",
       "        vertical-align: middle;\n",
       "    }\n",
       "\n",
       "    .dataframe tbody tr th {\n",
       "        vertical-align: top;\n",
       "    }\n",
       "\n",
       "    .dataframe thead tr th {\n",
       "        text-align: left;\n",
       "    }\n",
       "\n",
       "    .dataframe thead tr:last-of-type th {\n",
       "        text-align: right;\n",
       "    }\n",
       "</style>\n",
       "<table border=\"1\" class=\"dataframe\">\n",
       "  <thead>\n",
       "    <tr>\n",
       "      <th></th>\n",
       "      <th colspan=\"8\" halign=\"left\">SPY</th>\n",
       "      <th colspan=\"8\" halign=\"left\">AGG</th>\n",
       "    </tr>\n",
       "    <tr>\n",
       "      <th></th>\n",
       "      <th>close</th>\n",
       "      <th>high</th>\n",
       "      <th>low</th>\n",
       "      <th>trade_count</th>\n",
       "      <th>open</th>\n",
       "      <th>volume</th>\n",
       "      <th>vwap</th>\n",
       "      <th>daily_return</th>\n",
       "      <th>close</th>\n",
       "      <th>high</th>\n",
       "      <th>low</th>\n",
       "      <th>trade_count</th>\n",
       "      <th>open</th>\n",
       "      <th>volume</th>\n",
       "      <th>vwap</th>\n",
       "      <th>daily_return</th>\n",
       "    </tr>\n",
       "    <tr>\n",
       "      <th>timestamp</th>\n",
       "      <th></th>\n",
       "      <th></th>\n",
       "      <th></th>\n",
       "      <th></th>\n",
       "      <th></th>\n",
       "      <th></th>\n",
       "      <th></th>\n",
       "      <th></th>\n",
       "      <th></th>\n",
       "      <th></th>\n",
       "      <th></th>\n",
       "      <th></th>\n",
       "      <th></th>\n",
       "      <th></th>\n",
       "      <th></th>\n",
       "      <th></th>\n",
       "    </tr>\n",
       "  </thead>\n",
       "  <tbody>\n",
       "    <tr>\n",
       "      <th>2020-12-11 05:00:00+00:00</th>\n",
       "      <td>366.14</td>\n",
       "      <td>366.7402</td>\n",
       "      <td>363.2600</td>\n",
       "      <td>305545</td>\n",
       "      <td>364.90</td>\n",
       "      <td>58659075</td>\n",
       "      <td>365.476504</td>\n",
       "      <td>NaN</td>\n",
       "      <td>118.03</td>\n",
       "      <td>118.090</td>\n",
       "      <td>117.9500</td>\n",
       "      <td>26054</td>\n",
       "      <td>118.01</td>\n",
       "      <td>5755499</td>\n",
       "      <td>118.017461</td>\n",
       "      <td>NaN</td>\n",
       "    </tr>\n",
       "    <tr>\n",
       "      <th>2020-12-14 05:00:00+00:00</th>\n",
       "      <td>364.90</td>\n",
       "      <td>369.8000</td>\n",
       "      <td>364.4700</td>\n",
       "      <td>353011</td>\n",
       "      <td>368.64</td>\n",
       "      <td>70722353</td>\n",
       "      <td>366.553861</td>\n",
       "      <td>-0.003387</td>\n",
       "      <td>117.96</td>\n",
       "      <td>118.025</td>\n",
       "      <td>117.7969</td>\n",
       "      <td>11800</td>\n",
       "      <td>117.86</td>\n",
       "      <td>6325304</td>\n",
       "      <td>117.950273</td>\n",
       "      <td>-0.000593</td>\n",
       "    </tr>\n",
       "    <tr>\n",
       "      <th>2020-12-15 05:00:00+00:00</th>\n",
       "      <td>369.56</td>\n",
       "      <td>369.5900</td>\n",
       "      <td>365.9200</td>\n",
       "      <td>285594</td>\n",
       "      <td>367.40</td>\n",
       "      <td>65591667</td>\n",
       "      <td>367.880381</td>\n",
       "      <td>0.012771</td>\n",
       "      <td>118.03</td>\n",
       "      <td>118.030</td>\n",
       "      <td>117.9000</td>\n",
       "      <td>16067</td>\n",
       "      <td>117.95</td>\n",
       "      <td>4647760</td>\n",
       "      <td>117.975184</td>\n",
       "      <td>0.000593</td>\n",
       "    </tr>\n",
       "    <tr>\n",
       "      <th>2020-12-16 05:00:00+00:00</th>\n",
       "      <td>370.06</td>\n",
       "      <td>371.1600</td>\n",
       "      <td>368.8676</td>\n",
       "      <td>289564</td>\n",
       "      <td>369.82</td>\n",
       "      <td>59534034</td>\n",
       "      <td>369.945485</td>\n",
       "      <td>0.001353</td>\n",
       "      <td>117.98</td>\n",
       "      <td>118.033</td>\n",
       "      <td>117.7610</td>\n",
       "      <td>17218</td>\n",
       "      <td>117.83</td>\n",
       "      <td>4640620</td>\n",
       "      <td>117.930225</td>\n",
       "      <td>-0.000424</td>\n",
       "    </tr>\n",
       "    <tr>\n",
       "      <th>2020-12-17 05:00:00+00:00</th>\n",
       "      <td>372.19</td>\n",
       "      <td>372.4600</td>\n",
       "      <td>371.0500</td>\n",
       "      <td>264948</td>\n",
       "      <td>371.94</td>\n",
       "      <td>66592842</td>\n",
       "      <td>371.612642</td>\n",
       "      <td>0.005756</td>\n",
       "      <td>117.85</td>\n",
       "      <td>118.060</td>\n",
       "      <td>117.7299</td>\n",
       "      <td>24629</td>\n",
       "      <td>118.01</td>\n",
       "      <td>6989164</td>\n",
       "      <td>117.867602</td>\n",
       "      <td>-0.001102</td>\n",
       "    </tr>\n",
       "  </tbody>\n",
       "</table>\n",
       "</div>"
      ],
      "text/plain": [
       "                              SPY                                          \\\n",
       "                            close      high       low trade_count    open   \n",
       "timestamp                                                                   \n",
       "2020-12-11 05:00:00+00:00  366.14  366.7402  363.2600      305545  364.90   \n",
       "2020-12-14 05:00:00+00:00  364.90  369.8000  364.4700      353011  368.64   \n",
       "2020-12-15 05:00:00+00:00  369.56  369.5900  365.9200      285594  367.40   \n",
       "2020-12-16 05:00:00+00:00  370.06  371.1600  368.8676      289564  369.82   \n",
       "2020-12-17 05:00:00+00:00  372.19  372.4600  371.0500      264948  371.94   \n",
       "\n",
       "                                                                 AGG           \\\n",
       "                             volume        vwap daily_return   close     high   \n",
       "timestamp                                                                       \n",
       "2020-12-11 05:00:00+00:00  58659075  365.476504          NaN  118.03  118.090   \n",
       "2020-12-14 05:00:00+00:00  70722353  366.553861    -0.003387  117.96  118.025   \n",
       "2020-12-15 05:00:00+00:00  65591667  367.880381     0.012771  118.03  118.030   \n",
       "2020-12-16 05:00:00+00:00  59534034  369.945485     0.001353  117.98  118.033   \n",
       "2020-12-17 05:00:00+00:00  66592842  371.612642     0.005756  117.85  118.060   \n",
       "\n",
       "                                                                              \\\n",
       "                                low trade_count    open   volume        vwap   \n",
       "timestamp                                                                      \n",
       "2020-12-11 05:00:00+00:00  117.9500       26054  118.01  5755499  118.017461   \n",
       "2020-12-14 05:00:00+00:00  117.7969       11800  117.86  6325304  117.950273   \n",
       "2020-12-15 05:00:00+00:00  117.9000       16067  117.95  4647760  117.975184   \n",
       "2020-12-16 05:00:00+00:00  117.7610       17218  117.83  4640620  117.930225   \n",
       "2020-12-17 05:00:00+00:00  117.7299       24629  118.01  6989164  117.867602   \n",
       "\n",
       "                                        \n",
       "                          daily_return  \n",
       "timestamp                               \n",
       "2020-12-11 05:00:00+00:00          NaN  \n",
       "2020-12-14 05:00:00+00:00    -0.000593  \n",
       "2020-12-15 05:00:00+00:00     0.000593  \n",
       "2020-12-16 05:00:00+00:00    -0.000424  \n",
       "2020-12-17 05:00:00+00:00    -0.001102  "
      ]
     },
     "metadata": {},
     "output_type": "display_data"
    },
    {
     "data": {
      "text/html": [
       "<div>\n",
       "<style scoped>\n",
       "    .dataframe tbody tr th:only-of-type {\n",
       "        vertical-align: middle;\n",
       "    }\n",
       "\n",
       "    .dataframe tbody tr th {\n",
       "        vertical-align: top;\n",
       "    }\n",
       "\n",
       "    .dataframe thead tr th {\n",
       "        text-align: left;\n",
       "    }\n",
       "\n",
       "    .dataframe thead tr:last-of-type th {\n",
       "        text-align: right;\n",
       "    }\n",
       "</style>\n",
       "<table border=\"1\" class=\"dataframe\">\n",
       "  <thead>\n",
       "    <tr>\n",
       "      <th></th>\n",
       "      <th colspan=\"8\" halign=\"left\">SPY</th>\n",
       "      <th colspan=\"8\" halign=\"left\">AGG</th>\n",
       "    </tr>\n",
       "    <tr>\n",
       "      <th></th>\n",
       "      <th>close</th>\n",
       "      <th>high</th>\n",
       "      <th>low</th>\n",
       "      <th>trade_count</th>\n",
       "      <th>open</th>\n",
       "      <th>volume</th>\n",
       "      <th>vwap</th>\n",
       "      <th>daily_return</th>\n",
       "      <th>close</th>\n",
       "      <th>high</th>\n",
       "      <th>low</th>\n",
       "      <th>trade_count</th>\n",
       "      <th>open</th>\n",
       "      <th>volume</th>\n",
       "      <th>vwap</th>\n",
       "      <th>daily_return</th>\n",
       "    </tr>\n",
       "    <tr>\n",
       "      <th>timestamp</th>\n",
       "      <th></th>\n",
       "      <th></th>\n",
       "      <th></th>\n",
       "      <th></th>\n",
       "      <th></th>\n",
       "      <th></th>\n",
       "      <th></th>\n",
       "      <th></th>\n",
       "      <th></th>\n",
       "      <th></th>\n",
       "      <th></th>\n",
       "      <th></th>\n",
       "      <th></th>\n",
       "      <th></th>\n",
       "      <th></th>\n",
       "      <th></th>\n",
       "    </tr>\n",
       "  </thead>\n",
       "  <tbody>\n",
       "    <tr>\n",
       "      <th>2023-12-05 05:00:00+00:00</th>\n",
       "      <td>456.60</td>\n",
       "      <td>457.590</td>\n",
       "      <td>454.87</td>\n",
       "      <td>483242</td>\n",
       "      <td>455.26</td>\n",
       "      <td>69793569</td>\n",
       "      <td>456.319673</td>\n",
       "      <td>-0.000197</td>\n",
       "      <td>97.10</td>\n",
       "      <td>97.145</td>\n",
       "      <td>96.7850</td>\n",
       "      <td>32726</td>\n",
       "      <td>96.85</td>\n",
       "      <td>8850641</td>\n",
       "      <td>97.045567</td>\n",
       "      <td>0.006635</td>\n",
       "    </tr>\n",
       "    <tr>\n",
       "      <th>2023-12-06 05:00:00+00:00</th>\n",
       "      <td>454.76</td>\n",
       "      <td>458.840</td>\n",
       "      <td>454.31</td>\n",
       "      <td>465901</td>\n",
       "      <td>458.81</td>\n",
       "      <td>69124885</td>\n",
       "      <td>456.130868</td>\n",
       "      <td>-0.004030</td>\n",
       "      <td>97.35</td>\n",
       "      <td>97.490</td>\n",
       "      <td>97.1500</td>\n",
       "      <td>31593</td>\n",
       "      <td>97.24</td>\n",
       "      <td>11111225</td>\n",
       "      <td>97.379466</td>\n",
       "      <td>0.002575</td>\n",
       "    </tr>\n",
       "    <tr>\n",
       "      <th>2023-12-07 05:00:00+00:00</th>\n",
       "      <td>458.23</td>\n",
       "      <td>458.900</td>\n",
       "      <td>456.29</td>\n",
       "      <td>458079</td>\n",
       "      <td>456.91</td>\n",
       "      <td>67002346</td>\n",
       "      <td>457.663703</td>\n",
       "      <td>0.007630</td>\n",
       "      <td>97.38</td>\n",
       "      <td>97.560</td>\n",
       "      <td>97.2200</td>\n",
       "      <td>26731</td>\n",
       "      <td>97.22</td>\n",
       "      <td>7157947</td>\n",
       "      <td>97.396928</td>\n",
       "      <td>0.000308</td>\n",
       "    </tr>\n",
       "    <tr>\n",
       "      <th>2023-12-08 05:00:00+00:00</th>\n",
       "      <td>460.20</td>\n",
       "      <td>460.745</td>\n",
       "      <td>457.21</td>\n",
       "      <td>524786</td>\n",
       "      <td>457.46</td>\n",
       "      <td>83124965</td>\n",
       "      <td>459.278999</td>\n",
       "      <td>0.004299</td>\n",
       "      <td>96.89</td>\n",
       "      <td>97.065</td>\n",
       "      <td>96.7217</td>\n",
       "      <td>24997</td>\n",
       "      <td>96.99</td>\n",
       "      <td>6696783</td>\n",
       "      <td>96.893926</td>\n",
       "      <td>-0.005032</td>\n",
       "    </tr>\n",
       "    <tr>\n",
       "      <th>2023-12-11 05:00:00+00:00</th>\n",
       "      <td>461.99</td>\n",
       "      <td>462.170</td>\n",
       "      <td>459.47</td>\n",
       "      <td>460590</td>\n",
       "      <td>459.69</td>\n",
       "      <td>64934025</td>\n",
       "      <td>460.922403</td>\n",
       "      <td>0.003890</td>\n",
       "      <td>96.90</td>\n",
       "      <td>96.950</td>\n",
       "      <td>96.6000</td>\n",
       "      <td>40934</td>\n",
       "      <td>96.80</td>\n",
       "      <td>15008723</td>\n",
       "      <td>96.808225</td>\n",
       "      <td>0.000103</td>\n",
       "    </tr>\n",
       "  </tbody>\n",
       "</table>\n",
       "</div>"
      ],
      "text/plain": [
       "                              SPY                                       \\\n",
       "                            close     high     low trade_count    open   \n",
       "timestamp                                                                \n",
       "2023-12-05 05:00:00+00:00  456.60  457.590  454.87      483242  455.26   \n",
       "2023-12-06 05:00:00+00:00  454.76  458.840  454.31      465901  458.81   \n",
       "2023-12-07 05:00:00+00:00  458.23  458.900  456.29      458079  456.91   \n",
       "2023-12-08 05:00:00+00:00  460.20  460.745  457.21      524786  457.46   \n",
       "2023-12-11 05:00:00+00:00  461.99  462.170  459.47      460590  459.69   \n",
       "\n",
       "                                                                AGG          \\\n",
       "                             volume        vwap daily_return  close    high   \n",
       "timestamp                                                                     \n",
       "2023-12-05 05:00:00+00:00  69793569  456.319673    -0.000197  97.10  97.145   \n",
       "2023-12-06 05:00:00+00:00  69124885  456.130868    -0.004030  97.35  97.490   \n",
       "2023-12-07 05:00:00+00:00  67002346  457.663703     0.007630  97.38  97.560   \n",
       "2023-12-08 05:00:00+00:00  83124965  459.278999     0.004299  96.89  97.065   \n",
       "2023-12-11 05:00:00+00:00  64934025  460.922403     0.003890  96.90  96.950   \n",
       "\n",
       "                                                                            \\\n",
       "                               low trade_count   open    volume       vwap   \n",
       "timestamp                                                                    \n",
       "2023-12-05 05:00:00+00:00  96.7850       32726  96.85   8850641  97.045567   \n",
       "2023-12-06 05:00:00+00:00  97.1500       31593  97.24  11111225  97.379466   \n",
       "2023-12-07 05:00:00+00:00  97.2200       26731  97.22   7157947  97.396928   \n",
       "2023-12-08 05:00:00+00:00  96.7217       24997  96.99   6696783  96.893926   \n",
       "2023-12-11 05:00:00+00:00  96.6000       40934  96.80  15008723  96.808225   \n",
       "\n",
       "                                        \n",
       "                          daily_return  \n",
       "timestamp                               \n",
       "2023-12-05 05:00:00+00:00     0.006635  \n",
       "2023-12-06 05:00:00+00:00     0.002575  \n",
       "2023-12-07 05:00:00+00:00     0.000308  \n",
       "2023-12-08 05:00:00+00:00    -0.005032  \n",
       "2023-12-11 05:00:00+00:00     0.000103  "
      ]
     },
     "metadata": {},
     "output_type": "display_data"
    }
   ],
   "source": [
    "# Configure a Monte Carlo simulation to forecast 10 years cumulative returns\n",
    "# The weights should be split 20% to AGG and 80% to SPY.\n",
    "# Run 500 samples.\n",
    "MC_10_df = MCSimulation(\n",
    "    portfolio_data=MC_df,\n",
    "    weights=[.8, .2],\n",
    "    num_simulation=500,\n",
    "    num_trading_days=252*10\n",
    ")    \n",
    "\n",
    "# Review the simulation input data\n",
    "display(MC_10_df.portfolio_data.head())\n",
    "display(MC_10_df.portfolio_data.tail())"
   ]
  },
  {
   "cell_type": "code",
   "execution_count": 38,
   "metadata": {},
   "outputs": [
    {
     "name": "stdout",
     "output_type": "stream",
     "text": [
      "Running Monte Carlo simulation number 0.\n",
      "Running Monte Carlo simulation number 10.\n",
      "Running Monte Carlo simulation number 20.\n",
      "Running Monte Carlo simulation number 30.\n",
      "Running Monte Carlo simulation number 40.\n",
      "Running Monte Carlo simulation number 50.\n",
      "Running Monte Carlo simulation number 60.\n",
      "Running Monte Carlo simulation number 70.\n",
      "Running Monte Carlo simulation number 80.\n",
      "Running Monte Carlo simulation number 90.\n",
      "Running Monte Carlo simulation number 100.\n"
     ]
    },
    {
     "name": "stderr",
     "output_type": "stream",
     "text": [
      "C:\\Users\\legar\\Desktop\\COMPUTER_SCIENCE\\05_FINANCIAL_SIMULATIONS_APIS\\PORTFOLIO_SIM_PROJECT\\MCForecastTools.py:117: PerformanceWarning: DataFrame is highly fragmented.  This is usually the result of calling `frame.insert` many times, which has poor performance.  Consider joining all columns at once using pd.concat(axis=1) instead. To get a de-fragmented frame, use `newframe = frame.copy()`\n",
      "  portfolio_cumulative_returns[n] = (1 + sim_df.fillna(0)).cumprod()\n",
      "C:\\Users\\legar\\Desktop\\COMPUTER_SCIENCE\\05_FINANCIAL_SIMULATIONS_APIS\\PORTFOLIO_SIM_PROJECT\\MCForecastTools.py:117: PerformanceWarning: DataFrame is highly fragmented.  This is usually the result of calling `frame.insert` many times, which has poor performance.  Consider joining all columns at once using pd.concat(axis=1) instead. To get a de-fragmented frame, use `newframe = frame.copy()`\n",
      "  portfolio_cumulative_returns[n] = (1 + sim_df.fillna(0)).cumprod()\n",
      "C:\\Users\\legar\\Desktop\\COMPUTER_SCIENCE\\05_FINANCIAL_SIMULATIONS_APIS\\PORTFOLIO_SIM_PROJECT\\MCForecastTools.py:117: PerformanceWarning: DataFrame is highly fragmented.  This is usually the result of calling `frame.insert` many times, which has poor performance.  Consider joining all columns at once using pd.concat(axis=1) instead. To get a de-fragmented frame, use `newframe = frame.copy()`\n",
      "  portfolio_cumulative_returns[n] = (1 + sim_df.fillna(0)).cumprod()\n",
      "C:\\Users\\legar\\Desktop\\COMPUTER_SCIENCE\\05_FINANCIAL_SIMULATIONS_APIS\\PORTFOLIO_SIM_PROJECT\\MCForecastTools.py:117: PerformanceWarning: DataFrame is highly fragmented.  This is usually the result of calling `frame.insert` many times, which has poor performance.  Consider joining all columns at once using pd.concat(axis=1) instead. To get a de-fragmented frame, use `newframe = frame.copy()`\n",
      "  portfolio_cumulative_returns[n] = (1 + sim_df.fillna(0)).cumprod()\n",
      "C:\\Users\\legar\\Desktop\\COMPUTER_SCIENCE\\05_FINANCIAL_SIMULATIONS_APIS\\PORTFOLIO_SIM_PROJECT\\MCForecastTools.py:117: PerformanceWarning: DataFrame is highly fragmented.  This is usually the result of calling `frame.insert` many times, which has poor performance.  Consider joining all columns at once using pd.concat(axis=1) instead. To get a de-fragmented frame, use `newframe = frame.copy()`\n",
      "  portfolio_cumulative_returns[n] = (1 + sim_df.fillna(0)).cumprod()\n",
      "C:\\Users\\legar\\Desktop\\COMPUTER_SCIENCE\\05_FINANCIAL_SIMULATIONS_APIS\\PORTFOLIO_SIM_PROJECT\\MCForecastTools.py:117: PerformanceWarning: DataFrame is highly fragmented.  This is usually the result of calling `frame.insert` many times, which has poor performance.  Consider joining all columns at once using pd.concat(axis=1) instead. To get a de-fragmented frame, use `newframe = frame.copy()`\n",
      "  portfolio_cumulative_returns[n] = (1 + sim_df.fillna(0)).cumprod()\n",
      "C:\\Users\\legar\\Desktop\\COMPUTER_SCIENCE\\05_FINANCIAL_SIMULATIONS_APIS\\PORTFOLIO_SIM_PROJECT\\MCForecastTools.py:117: PerformanceWarning: DataFrame is highly fragmented.  This is usually the result of calling `frame.insert` many times, which has poor performance.  Consider joining all columns at once using pd.concat(axis=1) instead. To get a de-fragmented frame, use `newframe = frame.copy()`\n",
      "  portfolio_cumulative_returns[n] = (1 + sim_df.fillna(0)).cumprod()\n",
      "C:\\Users\\legar\\Desktop\\COMPUTER_SCIENCE\\05_FINANCIAL_SIMULATIONS_APIS\\PORTFOLIO_SIM_PROJECT\\MCForecastTools.py:117: PerformanceWarning: DataFrame is highly fragmented.  This is usually the result of calling `frame.insert` many times, which has poor performance.  Consider joining all columns at once using pd.concat(axis=1) instead. To get a de-fragmented frame, use `newframe = frame.copy()`\n",
      "  portfolio_cumulative_returns[n] = (1 + sim_df.fillna(0)).cumprod()\n",
      "C:\\Users\\legar\\Desktop\\COMPUTER_SCIENCE\\05_FINANCIAL_SIMULATIONS_APIS\\PORTFOLIO_SIM_PROJECT\\MCForecastTools.py:117: PerformanceWarning: DataFrame is highly fragmented.  This is usually the result of calling `frame.insert` many times, which has poor performance.  Consider joining all columns at once using pd.concat(axis=1) instead. To get a de-fragmented frame, use `newframe = frame.copy()`\n",
      "  portfolio_cumulative_returns[n] = (1 + sim_df.fillna(0)).cumprod()\n",
      "C:\\Users\\legar\\Desktop\\COMPUTER_SCIENCE\\05_FINANCIAL_SIMULATIONS_APIS\\PORTFOLIO_SIM_PROJECT\\MCForecastTools.py:117: PerformanceWarning: DataFrame is highly fragmented.  This is usually the result of calling `frame.insert` many times, which has poor performance.  Consider joining all columns at once using pd.concat(axis=1) instead. To get a de-fragmented frame, use `newframe = frame.copy()`\n",
      "  portfolio_cumulative_returns[n] = (1 + sim_df.fillna(0)).cumprod()\n",
      "C:\\Users\\legar\\Desktop\\COMPUTER_SCIENCE\\05_FINANCIAL_SIMULATIONS_APIS\\PORTFOLIO_SIM_PROJECT\\MCForecastTools.py:117: PerformanceWarning: DataFrame is highly fragmented.  This is usually the result of calling `frame.insert` many times, which has poor performance.  Consider joining all columns at once using pd.concat(axis=1) instead. To get a de-fragmented frame, use `newframe = frame.copy()`\n",
      "  portfolio_cumulative_returns[n] = (1 + sim_df.fillna(0)).cumprod()\n"
     ]
    },
    {
     "name": "stdout",
     "output_type": "stream",
     "text": [
      "Running Monte Carlo simulation number 110.\n"
     ]
    },
    {
     "name": "stderr",
     "output_type": "stream",
     "text": [
      "C:\\Users\\legar\\Desktop\\COMPUTER_SCIENCE\\05_FINANCIAL_SIMULATIONS_APIS\\PORTFOLIO_SIM_PROJECT\\MCForecastTools.py:117: PerformanceWarning: DataFrame is highly fragmented.  This is usually the result of calling `frame.insert` many times, which has poor performance.  Consider joining all columns at once using pd.concat(axis=1) instead. To get a de-fragmented frame, use `newframe = frame.copy()`\n",
      "  portfolio_cumulative_returns[n] = (1 + sim_df.fillna(0)).cumprod()\n",
      "C:\\Users\\legar\\Desktop\\COMPUTER_SCIENCE\\05_FINANCIAL_SIMULATIONS_APIS\\PORTFOLIO_SIM_PROJECT\\MCForecastTools.py:117: PerformanceWarning: DataFrame is highly fragmented.  This is usually the result of calling `frame.insert` many times, which has poor performance.  Consider joining all columns at once using pd.concat(axis=1) instead. To get a de-fragmented frame, use `newframe = frame.copy()`\n",
      "  portfolio_cumulative_returns[n] = (1 + sim_df.fillna(0)).cumprod()\n",
      "C:\\Users\\legar\\Desktop\\COMPUTER_SCIENCE\\05_FINANCIAL_SIMULATIONS_APIS\\PORTFOLIO_SIM_PROJECT\\MCForecastTools.py:117: PerformanceWarning: DataFrame is highly fragmented.  This is usually the result of calling `frame.insert` many times, which has poor performance.  Consider joining all columns at once using pd.concat(axis=1) instead. To get a de-fragmented frame, use `newframe = frame.copy()`\n",
      "  portfolio_cumulative_returns[n] = (1 + sim_df.fillna(0)).cumprod()\n",
      "C:\\Users\\legar\\Desktop\\COMPUTER_SCIENCE\\05_FINANCIAL_SIMULATIONS_APIS\\PORTFOLIO_SIM_PROJECT\\MCForecastTools.py:117: PerformanceWarning: DataFrame is highly fragmented.  This is usually the result of calling `frame.insert` many times, which has poor performance.  Consider joining all columns at once using pd.concat(axis=1) instead. To get a de-fragmented frame, use `newframe = frame.copy()`\n",
      "  portfolio_cumulative_returns[n] = (1 + sim_df.fillna(0)).cumprod()\n",
      "C:\\Users\\legar\\Desktop\\COMPUTER_SCIENCE\\05_FINANCIAL_SIMULATIONS_APIS\\PORTFOLIO_SIM_PROJECT\\MCForecastTools.py:117: PerformanceWarning: DataFrame is highly fragmented.  This is usually the result of calling `frame.insert` many times, which has poor performance.  Consider joining all columns at once using pd.concat(axis=1) instead. To get a de-fragmented frame, use `newframe = frame.copy()`\n",
      "  portfolio_cumulative_returns[n] = (1 + sim_df.fillna(0)).cumprod()\n",
      "C:\\Users\\legar\\Desktop\\COMPUTER_SCIENCE\\05_FINANCIAL_SIMULATIONS_APIS\\PORTFOLIO_SIM_PROJECT\\MCForecastTools.py:117: PerformanceWarning: DataFrame is highly fragmented.  This is usually the result of calling `frame.insert` many times, which has poor performance.  Consider joining all columns at once using pd.concat(axis=1) instead. To get a de-fragmented frame, use `newframe = frame.copy()`\n",
      "  portfolio_cumulative_returns[n] = (1 + sim_df.fillna(0)).cumprod()\n",
      "C:\\Users\\legar\\Desktop\\COMPUTER_SCIENCE\\05_FINANCIAL_SIMULATIONS_APIS\\PORTFOLIO_SIM_PROJECT\\MCForecastTools.py:117: PerformanceWarning: DataFrame is highly fragmented.  This is usually the result of calling `frame.insert` many times, which has poor performance.  Consider joining all columns at once using pd.concat(axis=1) instead. To get a de-fragmented frame, use `newframe = frame.copy()`\n",
      "  portfolio_cumulative_returns[n] = (1 + sim_df.fillna(0)).cumprod()\n",
      "C:\\Users\\legar\\Desktop\\COMPUTER_SCIENCE\\05_FINANCIAL_SIMULATIONS_APIS\\PORTFOLIO_SIM_PROJECT\\MCForecastTools.py:117: PerformanceWarning: DataFrame is highly fragmented.  This is usually the result of calling `frame.insert` many times, which has poor performance.  Consider joining all columns at once using pd.concat(axis=1) instead. To get a de-fragmented frame, use `newframe = frame.copy()`\n",
      "  portfolio_cumulative_returns[n] = (1 + sim_df.fillna(0)).cumprod()\n",
      "C:\\Users\\legar\\Desktop\\COMPUTER_SCIENCE\\05_FINANCIAL_SIMULATIONS_APIS\\PORTFOLIO_SIM_PROJECT\\MCForecastTools.py:117: PerformanceWarning: DataFrame is highly fragmented.  This is usually the result of calling `frame.insert` many times, which has poor performance.  Consider joining all columns at once using pd.concat(axis=1) instead. To get a de-fragmented frame, use `newframe = frame.copy()`\n",
      "  portfolio_cumulative_returns[n] = (1 + sim_df.fillna(0)).cumprod()\n",
      "C:\\Users\\legar\\Desktop\\COMPUTER_SCIENCE\\05_FINANCIAL_SIMULATIONS_APIS\\PORTFOLIO_SIM_PROJECT\\MCForecastTools.py:117: PerformanceWarning: DataFrame is highly fragmented.  This is usually the result of calling `frame.insert` many times, which has poor performance.  Consider joining all columns at once using pd.concat(axis=1) instead. To get a de-fragmented frame, use `newframe = frame.copy()`\n",
      "  portfolio_cumulative_returns[n] = (1 + sim_df.fillna(0)).cumprod()\n",
      "C:\\Users\\legar\\Desktop\\COMPUTER_SCIENCE\\05_FINANCIAL_SIMULATIONS_APIS\\PORTFOLIO_SIM_PROJECT\\MCForecastTools.py:117: PerformanceWarning: DataFrame is highly fragmented.  This is usually the result of calling `frame.insert` many times, which has poor performance.  Consider joining all columns at once using pd.concat(axis=1) instead. To get a de-fragmented frame, use `newframe = frame.copy()`\n",
      "  portfolio_cumulative_returns[n] = (1 + sim_df.fillna(0)).cumprod()\n"
     ]
    },
    {
     "name": "stdout",
     "output_type": "stream",
     "text": [
      "Running Monte Carlo simulation number 120.\n"
     ]
    },
    {
     "name": "stderr",
     "output_type": "stream",
     "text": [
      "C:\\Users\\legar\\Desktop\\COMPUTER_SCIENCE\\05_FINANCIAL_SIMULATIONS_APIS\\PORTFOLIO_SIM_PROJECT\\MCForecastTools.py:117: PerformanceWarning: DataFrame is highly fragmented.  This is usually the result of calling `frame.insert` many times, which has poor performance.  Consider joining all columns at once using pd.concat(axis=1) instead. To get a de-fragmented frame, use `newframe = frame.copy()`\n",
      "  portfolio_cumulative_returns[n] = (1 + sim_df.fillna(0)).cumprod()\n",
      "C:\\Users\\legar\\Desktop\\COMPUTER_SCIENCE\\05_FINANCIAL_SIMULATIONS_APIS\\PORTFOLIO_SIM_PROJECT\\MCForecastTools.py:117: PerformanceWarning: DataFrame is highly fragmented.  This is usually the result of calling `frame.insert` many times, which has poor performance.  Consider joining all columns at once using pd.concat(axis=1) instead. To get a de-fragmented frame, use `newframe = frame.copy()`\n",
      "  portfolio_cumulative_returns[n] = (1 + sim_df.fillna(0)).cumprod()\n",
      "C:\\Users\\legar\\Desktop\\COMPUTER_SCIENCE\\05_FINANCIAL_SIMULATIONS_APIS\\PORTFOLIO_SIM_PROJECT\\MCForecastTools.py:117: PerformanceWarning: DataFrame is highly fragmented.  This is usually the result of calling `frame.insert` many times, which has poor performance.  Consider joining all columns at once using pd.concat(axis=1) instead. To get a de-fragmented frame, use `newframe = frame.copy()`\n",
      "  portfolio_cumulative_returns[n] = (1 + sim_df.fillna(0)).cumprod()\n",
      "C:\\Users\\legar\\Desktop\\COMPUTER_SCIENCE\\05_FINANCIAL_SIMULATIONS_APIS\\PORTFOLIO_SIM_PROJECT\\MCForecastTools.py:117: PerformanceWarning: DataFrame is highly fragmented.  This is usually the result of calling `frame.insert` many times, which has poor performance.  Consider joining all columns at once using pd.concat(axis=1) instead. To get a de-fragmented frame, use `newframe = frame.copy()`\n",
      "  portfolio_cumulative_returns[n] = (1 + sim_df.fillna(0)).cumprod()\n",
      "C:\\Users\\legar\\Desktop\\COMPUTER_SCIENCE\\05_FINANCIAL_SIMULATIONS_APIS\\PORTFOLIO_SIM_PROJECT\\MCForecastTools.py:117: PerformanceWarning: DataFrame is highly fragmented.  This is usually the result of calling `frame.insert` many times, which has poor performance.  Consider joining all columns at once using pd.concat(axis=1) instead. To get a de-fragmented frame, use `newframe = frame.copy()`\n",
      "  portfolio_cumulative_returns[n] = (1 + sim_df.fillna(0)).cumprod()\n",
      "C:\\Users\\legar\\Desktop\\COMPUTER_SCIENCE\\05_FINANCIAL_SIMULATIONS_APIS\\PORTFOLIO_SIM_PROJECT\\MCForecastTools.py:117: PerformanceWarning: DataFrame is highly fragmented.  This is usually the result of calling `frame.insert` many times, which has poor performance.  Consider joining all columns at once using pd.concat(axis=1) instead. To get a de-fragmented frame, use `newframe = frame.copy()`\n",
      "  portfolio_cumulative_returns[n] = (1 + sim_df.fillna(0)).cumprod()\n",
      "C:\\Users\\legar\\Desktop\\COMPUTER_SCIENCE\\05_FINANCIAL_SIMULATIONS_APIS\\PORTFOLIO_SIM_PROJECT\\MCForecastTools.py:117: PerformanceWarning: DataFrame is highly fragmented.  This is usually the result of calling `frame.insert` many times, which has poor performance.  Consider joining all columns at once using pd.concat(axis=1) instead. To get a de-fragmented frame, use `newframe = frame.copy()`\n",
      "  portfolio_cumulative_returns[n] = (1 + sim_df.fillna(0)).cumprod()\n",
      "C:\\Users\\legar\\Desktop\\COMPUTER_SCIENCE\\05_FINANCIAL_SIMULATIONS_APIS\\PORTFOLIO_SIM_PROJECT\\MCForecastTools.py:117: PerformanceWarning: DataFrame is highly fragmented.  This is usually the result of calling `frame.insert` many times, which has poor performance.  Consider joining all columns at once using pd.concat(axis=1) instead. To get a de-fragmented frame, use `newframe = frame.copy()`\n",
      "  portfolio_cumulative_returns[n] = (1 + sim_df.fillna(0)).cumprod()\n"
     ]
    },
    {
     "name": "stdout",
     "output_type": "stream",
     "text": [
      "Running Monte Carlo simulation number 130.\n"
     ]
    },
    {
     "name": "stderr",
     "output_type": "stream",
     "text": [
      "C:\\Users\\legar\\Desktop\\COMPUTER_SCIENCE\\05_FINANCIAL_SIMULATIONS_APIS\\PORTFOLIO_SIM_PROJECT\\MCForecastTools.py:117: PerformanceWarning: DataFrame is highly fragmented.  This is usually the result of calling `frame.insert` many times, which has poor performance.  Consider joining all columns at once using pd.concat(axis=1) instead. To get a de-fragmented frame, use `newframe = frame.copy()`\n",
      "  portfolio_cumulative_returns[n] = (1 + sim_df.fillna(0)).cumprod()\n",
      "C:\\Users\\legar\\Desktop\\COMPUTER_SCIENCE\\05_FINANCIAL_SIMULATIONS_APIS\\PORTFOLIO_SIM_PROJECT\\MCForecastTools.py:117: PerformanceWarning: DataFrame is highly fragmented.  This is usually the result of calling `frame.insert` many times, which has poor performance.  Consider joining all columns at once using pd.concat(axis=1) instead. To get a de-fragmented frame, use `newframe = frame.copy()`\n",
      "  portfolio_cumulative_returns[n] = (1 + sim_df.fillna(0)).cumprod()\n",
      "C:\\Users\\legar\\Desktop\\COMPUTER_SCIENCE\\05_FINANCIAL_SIMULATIONS_APIS\\PORTFOLIO_SIM_PROJECT\\MCForecastTools.py:117: PerformanceWarning: DataFrame is highly fragmented.  This is usually the result of calling `frame.insert` many times, which has poor performance.  Consider joining all columns at once using pd.concat(axis=1) instead. To get a de-fragmented frame, use `newframe = frame.copy()`\n",
      "  portfolio_cumulative_returns[n] = (1 + sim_df.fillna(0)).cumprod()\n",
      "C:\\Users\\legar\\Desktop\\COMPUTER_SCIENCE\\05_FINANCIAL_SIMULATIONS_APIS\\PORTFOLIO_SIM_PROJECT\\MCForecastTools.py:117: PerformanceWarning: DataFrame is highly fragmented.  This is usually the result of calling `frame.insert` many times, which has poor performance.  Consider joining all columns at once using pd.concat(axis=1) instead. To get a de-fragmented frame, use `newframe = frame.copy()`\n",
      "  portfolio_cumulative_returns[n] = (1 + sim_df.fillna(0)).cumprod()\n",
      "C:\\Users\\legar\\Desktop\\COMPUTER_SCIENCE\\05_FINANCIAL_SIMULATIONS_APIS\\PORTFOLIO_SIM_PROJECT\\MCForecastTools.py:117: PerformanceWarning: DataFrame is highly fragmented.  This is usually the result of calling `frame.insert` many times, which has poor performance.  Consider joining all columns at once using pd.concat(axis=1) instead. To get a de-fragmented frame, use `newframe = frame.copy()`\n",
      "  portfolio_cumulative_returns[n] = (1 + sim_df.fillna(0)).cumprod()\n",
      "C:\\Users\\legar\\Desktop\\COMPUTER_SCIENCE\\05_FINANCIAL_SIMULATIONS_APIS\\PORTFOLIO_SIM_PROJECT\\MCForecastTools.py:117: PerformanceWarning: DataFrame is highly fragmented.  This is usually the result of calling `frame.insert` many times, which has poor performance.  Consider joining all columns at once using pd.concat(axis=1) instead. To get a de-fragmented frame, use `newframe = frame.copy()`\n",
      "  portfolio_cumulative_returns[n] = (1 + sim_df.fillna(0)).cumprod()\n",
      "C:\\Users\\legar\\Desktop\\COMPUTER_SCIENCE\\05_FINANCIAL_SIMULATIONS_APIS\\PORTFOLIO_SIM_PROJECT\\MCForecastTools.py:117: PerformanceWarning: DataFrame is highly fragmented.  This is usually the result of calling `frame.insert` many times, which has poor performance.  Consider joining all columns at once using pd.concat(axis=1) instead. To get a de-fragmented frame, use `newframe = frame.copy()`\n",
      "  portfolio_cumulative_returns[n] = (1 + sim_df.fillna(0)).cumprod()\n",
      "C:\\Users\\legar\\Desktop\\COMPUTER_SCIENCE\\05_FINANCIAL_SIMULATIONS_APIS\\PORTFOLIO_SIM_PROJECT\\MCForecastTools.py:117: PerformanceWarning: DataFrame is highly fragmented.  This is usually the result of calling `frame.insert` many times, which has poor performance.  Consider joining all columns at once using pd.concat(axis=1) instead. To get a de-fragmented frame, use `newframe = frame.copy()`\n",
      "  portfolio_cumulative_returns[n] = (1 + sim_df.fillna(0)).cumprod()\n",
      "C:\\Users\\legar\\Desktop\\COMPUTER_SCIENCE\\05_FINANCIAL_SIMULATIONS_APIS\\PORTFOLIO_SIM_PROJECT\\MCForecastTools.py:117: PerformanceWarning: DataFrame is highly fragmented.  This is usually the result of calling `frame.insert` many times, which has poor performance.  Consider joining all columns at once using pd.concat(axis=1) instead. To get a de-fragmented frame, use `newframe = frame.copy()`\n",
      "  portfolio_cumulative_returns[n] = (1 + sim_df.fillna(0)).cumprod()\n",
      "C:\\Users\\legar\\Desktop\\COMPUTER_SCIENCE\\05_FINANCIAL_SIMULATIONS_APIS\\PORTFOLIO_SIM_PROJECT\\MCForecastTools.py:117: PerformanceWarning: DataFrame is highly fragmented.  This is usually the result of calling `frame.insert` many times, which has poor performance.  Consider joining all columns at once using pd.concat(axis=1) instead. To get a de-fragmented frame, use `newframe = frame.copy()`\n",
      "  portfolio_cumulative_returns[n] = (1 + sim_df.fillna(0)).cumprod()\n"
     ]
    },
    {
     "name": "stdout",
     "output_type": "stream",
     "text": [
      "Running Monte Carlo simulation number 140.\n"
     ]
    },
    {
     "name": "stderr",
     "output_type": "stream",
     "text": [
      "C:\\Users\\legar\\Desktop\\COMPUTER_SCIENCE\\05_FINANCIAL_SIMULATIONS_APIS\\PORTFOLIO_SIM_PROJECT\\MCForecastTools.py:117: PerformanceWarning: DataFrame is highly fragmented.  This is usually the result of calling `frame.insert` many times, which has poor performance.  Consider joining all columns at once using pd.concat(axis=1) instead. To get a de-fragmented frame, use `newframe = frame.copy()`\n",
      "  portfolio_cumulative_returns[n] = (1 + sim_df.fillna(0)).cumprod()\n",
      "C:\\Users\\legar\\Desktop\\COMPUTER_SCIENCE\\05_FINANCIAL_SIMULATIONS_APIS\\PORTFOLIO_SIM_PROJECT\\MCForecastTools.py:117: PerformanceWarning: DataFrame is highly fragmented.  This is usually the result of calling `frame.insert` many times, which has poor performance.  Consider joining all columns at once using pd.concat(axis=1) instead. To get a de-fragmented frame, use `newframe = frame.copy()`\n",
      "  portfolio_cumulative_returns[n] = (1 + sim_df.fillna(0)).cumprod()\n",
      "C:\\Users\\legar\\Desktop\\COMPUTER_SCIENCE\\05_FINANCIAL_SIMULATIONS_APIS\\PORTFOLIO_SIM_PROJECT\\MCForecastTools.py:117: PerformanceWarning: DataFrame is highly fragmented.  This is usually the result of calling `frame.insert` many times, which has poor performance.  Consider joining all columns at once using pd.concat(axis=1) instead. To get a de-fragmented frame, use `newframe = frame.copy()`\n",
      "  portfolio_cumulative_returns[n] = (1 + sim_df.fillna(0)).cumprod()\n",
      "C:\\Users\\legar\\Desktop\\COMPUTER_SCIENCE\\05_FINANCIAL_SIMULATIONS_APIS\\PORTFOLIO_SIM_PROJECT\\MCForecastTools.py:117: PerformanceWarning: DataFrame is highly fragmented.  This is usually the result of calling `frame.insert` many times, which has poor performance.  Consider joining all columns at once using pd.concat(axis=1) instead. To get a de-fragmented frame, use `newframe = frame.copy()`\n",
      "  portfolio_cumulative_returns[n] = (1 + sim_df.fillna(0)).cumprod()\n",
      "C:\\Users\\legar\\Desktop\\COMPUTER_SCIENCE\\05_FINANCIAL_SIMULATIONS_APIS\\PORTFOLIO_SIM_PROJECT\\MCForecastTools.py:117: PerformanceWarning: DataFrame is highly fragmented.  This is usually the result of calling `frame.insert` many times, which has poor performance.  Consider joining all columns at once using pd.concat(axis=1) instead. To get a de-fragmented frame, use `newframe = frame.copy()`\n",
      "  portfolio_cumulative_returns[n] = (1 + sim_df.fillna(0)).cumprod()\n",
      "C:\\Users\\legar\\Desktop\\COMPUTER_SCIENCE\\05_FINANCIAL_SIMULATIONS_APIS\\PORTFOLIO_SIM_PROJECT\\MCForecastTools.py:117: PerformanceWarning: DataFrame is highly fragmented.  This is usually the result of calling `frame.insert` many times, which has poor performance.  Consider joining all columns at once using pd.concat(axis=1) instead. To get a de-fragmented frame, use `newframe = frame.copy()`\n",
      "  portfolio_cumulative_returns[n] = (1 + sim_df.fillna(0)).cumprod()\n",
      "C:\\Users\\legar\\Desktop\\COMPUTER_SCIENCE\\05_FINANCIAL_SIMULATIONS_APIS\\PORTFOLIO_SIM_PROJECT\\MCForecastTools.py:117: PerformanceWarning: DataFrame is highly fragmented.  This is usually the result of calling `frame.insert` many times, which has poor performance.  Consider joining all columns at once using pd.concat(axis=1) instead. To get a de-fragmented frame, use `newframe = frame.copy()`\n",
      "  portfolio_cumulative_returns[n] = (1 + sim_df.fillna(0)).cumprod()\n",
      "C:\\Users\\legar\\Desktop\\COMPUTER_SCIENCE\\05_FINANCIAL_SIMULATIONS_APIS\\PORTFOLIO_SIM_PROJECT\\MCForecastTools.py:117: PerformanceWarning: DataFrame is highly fragmented.  This is usually the result of calling `frame.insert` many times, which has poor performance.  Consider joining all columns at once using pd.concat(axis=1) instead. To get a de-fragmented frame, use `newframe = frame.copy()`\n",
      "  portfolio_cumulative_returns[n] = (1 + sim_df.fillna(0)).cumprod()\n",
      "C:\\Users\\legar\\Desktop\\COMPUTER_SCIENCE\\05_FINANCIAL_SIMULATIONS_APIS\\PORTFOLIO_SIM_PROJECT\\MCForecastTools.py:117: PerformanceWarning: DataFrame is highly fragmented.  This is usually the result of calling `frame.insert` many times, which has poor performance.  Consider joining all columns at once using pd.concat(axis=1) instead. To get a de-fragmented frame, use `newframe = frame.copy()`\n",
      "  portfolio_cumulative_returns[n] = (1 + sim_df.fillna(0)).cumprod()\n",
      "C:\\Users\\legar\\Desktop\\COMPUTER_SCIENCE\\05_FINANCIAL_SIMULATIONS_APIS\\PORTFOLIO_SIM_PROJECT\\MCForecastTools.py:117: PerformanceWarning: DataFrame is highly fragmented.  This is usually the result of calling `frame.insert` many times, which has poor performance.  Consider joining all columns at once using pd.concat(axis=1) instead. To get a de-fragmented frame, use `newframe = frame.copy()`\n",
      "  portfolio_cumulative_returns[n] = (1 + sim_df.fillna(0)).cumprod()\n",
      "C:\\Users\\legar\\Desktop\\COMPUTER_SCIENCE\\05_FINANCIAL_SIMULATIONS_APIS\\PORTFOLIO_SIM_PROJECT\\MCForecastTools.py:117: PerformanceWarning: DataFrame is highly fragmented.  This is usually the result of calling `frame.insert` many times, which has poor performance.  Consider joining all columns at once using pd.concat(axis=1) instead. To get a de-fragmented frame, use `newframe = frame.copy()`\n",
      "  portfolio_cumulative_returns[n] = (1 + sim_df.fillna(0)).cumprod()\n"
     ]
    },
    {
     "name": "stdout",
     "output_type": "stream",
     "text": [
      "Running Monte Carlo simulation number 150.\n"
     ]
    },
    {
     "name": "stderr",
     "output_type": "stream",
     "text": [
      "C:\\Users\\legar\\Desktop\\COMPUTER_SCIENCE\\05_FINANCIAL_SIMULATIONS_APIS\\PORTFOLIO_SIM_PROJECT\\MCForecastTools.py:117: PerformanceWarning: DataFrame is highly fragmented.  This is usually the result of calling `frame.insert` many times, which has poor performance.  Consider joining all columns at once using pd.concat(axis=1) instead. To get a de-fragmented frame, use `newframe = frame.copy()`\n",
      "  portfolio_cumulative_returns[n] = (1 + sim_df.fillna(0)).cumprod()\n",
      "C:\\Users\\legar\\Desktop\\COMPUTER_SCIENCE\\05_FINANCIAL_SIMULATIONS_APIS\\PORTFOLIO_SIM_PROJECT\\MCForecastTools.py:117: PerformanceWarning: DataFrame is highly fragmented.  This is usually the result of calling `frame.insert` many times, which has poor performance.  Consider joining all columns at once using pd.concat(axis=1) instead. To get a de-fragmented frame, use `newframe = frame.copy()`\n",
      "  portfolio_cumulative_returns[n] = (1 + sim_df.fillna(0)).cumprod()\n",
      "C:\\Users\\legar\\Desktop\\COMPUTER_SCIENCE\\05_FINANCIAL_SIMULATIONS_APIS\\PORTFOLIO_SIM_PROJECT\\MCForecastTools.py:117: PerformanceWarning: DataFrame is highly fragmented.  This is usually the result of calling `frame.insert` many times, which has poor performance.  Consider joining all columns at once using pd.concat(axis=1) instead. To get a de-fragmented frame, use `newframe = frame.copy()`\n",
      "  portfolio_cumulative_returns[n] = (1 + sim_df.fillna(0)).cumprod()\n",
      "C:\\Users\\legar\\Desktop\\COMPUTER_SCIENCE\\05_FINANCIAL_SIMULATIONS_APIS\\PORTFOLIO_SIM_PROJECT\\MCForecastTools.py:117: PerformanceWarning: DataFrame is highly fragmented.  This is usually the result of calling `frame.insert` many times, which has poor performance.  Consider joining all columns at once using pd.concat(axis=1) instead. To get a de-fragmented frame, use `newframe = frame.copy()`\n",
      "  portfolio_cumulative_returns[n] = (1 + sim_df.fillna(0)).cumprod()\n",
      "C:\\Users\\legar\\Desktop\\COMPUTER_SCIENCE\\05_FINANCIAL_SIMULATIONS_APIS\\PORTFOLIO_SIM_PROJECT\\MCForecastTools.py:117: PerformanceWarning: DataFrame is highly fragmented.  This is usually the result of calling `frame.insert` many times, which has poor performance.  Consider joining all columns at once using pd.concat(axis=1) instead. To get a de-fragmented frame, use `newframe = frame.copy()`\n",
      "  portfolio_cumulative_returns[n] = (1 + sim_df.fillna(0)).cumprod()\n",
      "C:\\Users\\legar\\Desktop\\COMPUTER_SCIENCE\\05_FINANCIAL_SIMULATIONS_APIS\\PORTFOLIO_SIM_PROJECT\\MCForecastTools.py:117: PerformanceWarning: DataFrame is highly fragmented.  This is usually the result of calling `frame.insert` many times, which has poor performance.  Consider joining all columns at once using pd.concat(axis=1) instead. To get a de-fragmented frame, use `newframe = frame.copy()`\n",
      "  portfolio_cumulative_returns[n] = (1 + sim_df.fillna(0)).cumprod()\n",
      "C:\\Users\\legar\\Desktop\\COMPUTER_SCIENCE\\05_FINANCIAL_SIMULATIONS_APIS\\PORTFOLIO_SIM_PROJECT\\MCForecastTools.py:117: PerformanceWarning: DataFrame is highly fragmented.  This is usually the result of calling `frame.insert` many times, which has poor performance.  Consider joining all columns at once using pd.concat(axis=1) instead. To get a de-fragmented frame, use `newframe = frame.copy()`\n",
      "  portfolio_cumulative_returns[n] = (1 + sim_df.fillna(0)).cumprod()\n",
      "C:\\Users\\legar\\Desktop\\COMPUTER_SCIENCE\\05_FINANCIAL_SIMULATIONS_APIS\\PORTFOLIO_SIM_PROJECT\\MCForecastTools.py:117: PerformanceWarning: DataFrame is highly fragmented.  This is usually the result of calling `frame.insert` many times, which has poor performance.  Consider joining all columns at once using pd.concat(axis=1) instead. To get a de-fragmented frame, use `newframe = frame.copy()`\n",
      "  portfolio_cumulative_returns[n] = (1 + sim_df.fillna(0)).cumprod()\n",
      "C:\\Users\\legar\\Desktop\\COMPUTER_SCIENCE\\05_FINANCIAL_SIMULATIONS_APIS\\PORTFOLIO_SIM_PROJECT\\MCForecastTools.py:117: PerformanceWarning: DataFrame is highly fragmented.  This is usually the result of calling `frame.insert` many times, which has poor performance.  Consider joining all columns at once using pd.concat(axis=1) instead. To get a de-fragmented frame, use `newframe = frame.copy()`\n",
      "  portfolio_cumulative_returns[n] = (1 + sim_df.fillna(0)).cumprod()\n",
      "C:\\Users\\legar\\Desktop\\COMPUTER_SCIENCE\\05_FINANCIAL_SIMULATIONS_APIS\\PORTFOLIO_SIM_PROJECT\\MCForecastTools.py:117: PerformanceWarning: DataFrame is highly fragmented.  This is usually the result of calling `frame.insert` many times, which has poor performance.  Consider joining all columns at once using pd.concat(axis=1) instead. To get a de-fragmented frame, use `newframe = frame.copy()`\n",
      "  portfolio_cumulative_returns[n] = (1 + sim_df.fillna(0)).cumprod()\n",
      "C:\\Users\\legar\\Desktop\\COMPUTER_SCIENCE\\05_FINANCIAL_SIMULATIONS_APIS\\PORTFOLIO_SIM_PROJECT\\MCForecastTools.py:117: PerformanceWarning: DataFrame is highly fragmented.  This is usually the result of calling `frame.insert` many times, which has poor performance.  Consider joining all columns at once using pd.concat(axis=1) instead. To get a de-fragmented frame, use `newframe = frame.copy()`\n",
      "  portfolio_cumulative_returns[n] = (1 + sim_df.fillna(0)).cumprod()\n",
      "C:\\Users\\legar\\Desktop\\COMPUTER_SCIENCE\\05_FINANCIAL_SIMULATIONS_APIS\\PORTFOLIO_SIM_PROJECT\\MCForecastTools.py:117: PerformanceWarning: DataFrame is highly fragmented.  This is usually the result of calling `frame.insert` many times, which has poor performance.  Consider joining all columns at once using pd.concat(axis=1) instead. To get a de-fragmented frame, use `newframe = frame.copy()`\n",
      "  portfolio_cumulative_returns[n] = (1 + sim_df.fillna(0)).cumprod()\n"
     ]
    },
    {
     "name": "stdout",
     "output_type": "stream",
     "text": [
      "Running Monte Carlo simulation number 160.\n"
     ]
    },
    {
     "name": "stderr",
     "output_type": "stream",
     "text": [
      "C:\\Users\\legar\\Desktop\\COMPUTER_SCIENCE\\05_FINANCIAL_SIMULATIONS_APIS\\PORTFOLIO_SIM_PROJECT\\MCForecastTools.py:117: PerformanceWarning: DataFrame is highly fragmented.  This is usually the result of calling `frame.insert` many times, which has poor performance.  Consider joining all columns at once using pd.concat(axis=1) instead. To get a de-fragmented frame, use `newframe = frame.copy()`\n",
      "  portfolio_cumulative_returns[n] = (1 + sim_df.fillna(0)).cumprod()\n",
      "C:\\Users\\legar\\Desktop\\COMPUTER_SCIENCE\\05_FINANCIAL_SIMULATIONS_APIS\\PORTFOLIO_SIM_PROJECT\\MCForecastTools.py:117: PerformanceWarning: DataFrame is highly fragmented.  This is usually the result of calling `frame.insert` many times, which has poor performance.  Consider joining all columns at once using pd.concat(axis=1) instead. To get a de-fragmented frame, use `newframe = frame.copy()`\n",
      "  portfolio_cumulative_returns[n] = (1 + sim_df.fillna(0)).cumprod()\n",
      "C:\\Users\\legar\\Desktop\\COMPUTER_SCIENCE\\05_FINANCIAL_SIMULATIONS_APIS\\PORTFOLIO_SIM_PROJECT\\MCForecastTools.py:117: PerformanceWarning: DataFrame is highly fragmented.  This is usually the result of calling `frame.insert` many times, which has poor performance.  Consider joining all columns at once using pd.concat(axis=1) instead. To get a de-fragmented frame, use `newframe = frame.copy()`\n",
      "  portfolio_cumulative_returns[n] = (1 + sim_df.fillna(0)).cumprod()\n",
      "C:\\Users\\legar\\Desktop\\COMPUTER_SCIENCE\\05_FINANCIAL_SIMULATIONS_APIS\\PORTFOLIO_SIM_PROJECT\\MCForecastTools.py:117: PerformanceWarning: DataFrame is highly fragmented.  This is usually the result of calling `frame.insert` many times, which has poor performance.  Consider joining all columns at once using pd.concat(axis=1) instead. To get a de-fragmented frame, use `newframe = frame.copy()`\n",
      "  portfolio_cumulative_returns[n] = (1 + sim_df.fillna(0)).cumprod()\n",
      "C:\\Users\\legar\\Desktop\\COMPUTER_SCIENCE\\05_FINANCIAL_SIMULATIONS_APIS\\PORTFOLIO_SIM_PROJECT\\MCForecastTools.py:117: PerformanceWarning: DataFrame is highly fragmented.  This is usually the result of calling `frame.insert` many times, which has poor performance.  Consider joining all columns at once using pd.concat(axis=1) instead. To get a de-fragmented frame, use `newframe = frame.copy()`\n",
      "  portfolio_cumulative_returns[n] = (1 + sim_df.fillna(0)).cumprod()\n",
      "C:\\Users\\legar\\Desktop\\COMPUTER_SCIENCE\\05_FINANCIAL_SIMULATIONS_APIS\\PORTFOLIO_SIM_PROJECT\\MCForecastTools.py:117: PerformanceWarning: DataFrame is highly fragmented.  This is usually the result of calling `frame.insert` many times, which has poor performance.  Consider joining all columns at once using pd.concat(axis=1) instead. To get a de-fragmented frame, use `newframe = frame.copy()`\n",
      "  portfolio_cumulative_returns[n] = (1 + sim_df.fillna(0)).cumprod()\n",
      "C:\\Users\\legar\\Desktop\\COMPUTER_SCIENCE\\05_FINANCIAL_SIMULATIONS_APIS\\PORTFOLIO_SIM_PROJECT\\MCForecastTools.py:117: PerformanceWarning: DataFrame is highly fragmented.  This is usually the result of calling `frame.insert` many times, which has poor performance.  Consider joining all columns at once using pd.concat(axis=1) instead. To get a de-fragmented frame, use `newframe = frame.copy()`\n",
      "  portfolio_cumulative_returns[n] = (1 + sim_df.fillna(0)).cumprod()\n",
      "C:\\Users\\legar\\Desktop\\COMPUTER_SCIENCE\\05_FINANCIAL_SIMULATIONS_APIS\\PORTFOLIO_SIM_PROJECT\\MCForecastTools.py:117: PerformanceWarning: DataFrame is highly fragmented.  This is usually the result of calling `frame.insert` many times, which has poor performance.  Consider joining all columns at once using pd.concat(axis=1) instead. To get a de-fragmented frame, use `newframe = frame.copy()`\n",
      "  portfolio_cumulative_returns[n] = (1 + sim_df.fillna(0)).cumprod()\n"
     ]
    },
    {
     "name": "stdout",
     "output_type": "stream",
     "text": [
      "Running Monte Carlo simulation number 170.\n"
     ]
    },
    {
     "name": "stderr",
     "output_type": "stream",
     "text": [
      "C:\\Users\\legar\\Desktop\\COMPUTER_SCIENCE\\05_FINANCIAL_SIMULATIONS_APIS\\PORTFOLIO_SIM_PROJECT\\MCForecastTools.py:117: PerformanceWarning: DataFrame is highly fragmented.  This is usually the result of calling `frame.insert` many times, which has poor performance.  Consider joining all columns at once using pd.concat(axis=1) instead. To get a de-fragmented frame, use `newframe = frame.copy()`\n",
      "  portfolio_cumulative_returns[n] = (1 + sim_df.fillna(0)).cumprod()\n",
      "C:\\Users\\legar\\Desktop\\COMPUTER_SCIENCE\\05_FINANCIAL_SIMULATIONS_APIS\\PORTFOLIO_SIM_PROJECT\\MCForecastTools.py:117: PerformanceWarning: DataFrame is highly fragmented.  This is usually the result of calling `frame.insert` many times, which has poor performance.  Consider joining all columns at once using pd.concat(axis=1) instead. To get a de-fragmented frame, use `newframe = frame.copy()`\n",
      "  portfolio_cumulative_returns[n] = (1 + sim_df.fillna(0)).cumprod()\n",
      "C:\\Users\\legar\\Desktop\\COMPUTER_SCIENCE\\05_FINANCIAL_SIMULATIONS_APIS\\PORTFOLIO_SIM_PROJECT\\MCForecastTools.py:117: PerformanceWarning: DataFrame is highly fragmented.  This is usually the result of calling `frame.insert` many times, which has poor performance.  Consider joining all columns at once using pd.concat(axis=1) instead. To get a de-fragmented frame, use `newframe = frame.copy()`\n",
      "  portfolio_cumulative_returns[n] = (1 + sim_df.fillna(0)).cumprod()\n",
      "C:\\Users\\legar\\Desktop\\COMPUTER_SCIENCE\\05_FINANCIAL_SIMULATIONS_APIS\\PORTFOLIO_SIM_PROJECT\\MCForecastTools.py:117: PerformanceWarning: DataFrame is highly fragmented.  This is usually the result of calling `frame.insert` many times, which has poor performance.  Consider joining all columns at once using pd.concat(axis=1) instead. To get a de-fragmented frame, use `newframe = frame.copy()`\n",
      "  portfolio_cumulative_returns[n] = (1 + sim_df.fillna(0)).cumprod()\n",
      "C:\\Users\\legar\\Desktop\\COMPUTER_SCIENCE\\05_FINANCIAL_SIMULATIONS_APIS\\PORTFOLIO_SIM_PROJECT\\MCForecastTools.py:117: PerformanceWarning: DataFrame is highly fragmented.  This is usually the result of calling `frame.insert` many times, which has poor performance.  Consider joining all columns at once using pd.concat(axis=1) instead. To get a de-fragmented frame, use `newframe = frame.copy()`\n",
      "  portfolio_cumulative_returns[n] = (1 + sim_df.fillna(0)).cumprod()\n",
      "C:\\Users\\legar\\Desktop\\COMPUTER_SCIENCE\\05_FINANCIAL_SIMULATIONS_APIS\\PORTFOLIO_SIM_PROJECT\\MCForecastTools.py:117: PerformanceWarning: DataFrame is highly fragmented.  This is usually the result of calling `frame.insert` many times, which has poor performance.  Consider joining all columns at once using pd.concat(axis=1) instead. To get a de-fragmented frame, use `newframe = frame.copy()`\n",
      "  portfolio_cumulative_returns[n] = (1 + sim_df.fillna(0)).cumprod()\n",
      "C:\\Users\\legar\\Desktop\\COMPUTER_SCIENCE\\05_FINANCIAL_SIMULATIONS_APIS\\PORTFOLIO_SIM_PROJECT\\MCForecastTools.py:117: PerformanceWarning: DataFrame is highly fragmented.  This is usually the result of calling `frame.insert` many times, which has poor performance.  Consider joining all columns at once using pd.concat(axis=1) instead. To get a de-fragmented frame, use `newframe = frame.copy()`\n",
      "  portfolio_cumulative_returns[n] = (1 + sim_df.fillna(0)).cumprod()\n",
      "C:\\Users\\legar\\Desktop\\COMPUTER_SCIENCE\\05_FINANCIAL_SIMULATIONS_APIS\\PORTFOLIO_SIM_PROJECT\\MCForecastTools.py:117: PerformanceWarning: DataFrame is highly fragmented.  This is usually the result of calling `frame.insert` many times, which has poor performance.  Consider joining all columns at once using pd.concat(axis=1) instead. To get a de-fragmented frame, use `newframe = frame.copy()`\n",
      "  portfolio_cumulative_returns[n] = (1 + sim_df.fillna(0)).cumprod()\n",
      "C:\\Users\\legar\\Desktop\\COMPUTER_SCIENCE\\05_FINANCIAL_SIMULATIONS_APIS\\PORTFOLIO_SIM_PROJECT\\MCForecastTools.py:117: PerformanceWarning: DataFrame is highly fragmented.  This is usually the result of calling `frame.insert` many times, which has poor performance.  Consider joining all columns at once using pd.concat(axis=1) instead. To get a de-fragmented frame, use `newframe = frame.copy()`\n",
      "  portfolio_cumulative_returns[n] = (1 + sim_df.fillna(0)).cumprod()\n",
      "C:\\Users\\legar\\Desktop\\COMPUTER_SCIENCE\\05_FINANCIAL_SIMULATIONS_APIS\\PORTFOLIO_SIM_PROJECT\\MCForecastTools.py:117: PerformanceWarning: DataFrame is highly fragmented.  This is usually the result of calling `frame.insert` many times, which has poor performance.  Consider joining all columns at once using pd.concat(axis=1) instead. To get a de-fragmented frame, use `newframe = frame.copy()`\n",
      "  portfolio_cumulative_returns[n] = (1 + sim_df.fillna(0)).cumprod()\n",
      "C:\\Users\\legar\\Desktop\\COMPUTER_SCIENCE\\05_FINANCIAL_SIMULATIONS_APIS\\PORTFOLIO_SIM_PROJECT\\MCForecastTools.py:117: PerformanceWarning: DataFrame is highly fragmented.  This is usually the result of calling `frame.insert` many times, which has poor performance.  Consider joining all columns at once using pd.concat(axis=1) instead. To get a de-fragmented frame, use `newframe = frame.copy()`\n",
      "  portfolio_cumulative_returns[n] = (1 + sim_df.fillna(0)).cumprod()\n",
      "C:\\Users\\legar\\Desktop\\COMPUTER_SCIENCE\\05_FINANCIAL_SIMULATIONS_APIS\\PORTFOLIO_SIM_PROJECT\\MCForecastTools.py:117: PerformanceWarning: DataFrame is highly fragmented.  This is usually the result of calling `frame.insert` many times, which has poor performance.  Consider joining all columns at once using pd.concat(axis=1) instead. To get a de-fragmented frame, use `newframe = frame.copy()`\n",
      "  portfolio_cumulative_returns[n] = (1 + sim_df.fillna(0)).cumprod()\n"
     ]
    },
    {
     "name": "stdout",
     "output_type": "stream",
     "text": [
      "Running Monte Carlo simulation number 180.\n"
     ]
    },
    {
     "name": "stderr",
     "output_type": "stream",
     "text": [
      "C:\\Users\\legar\\Desktop\\COMPUTER_SCIENCE\\05_FINANCIAL_SIMULATIONS_APIS\\PORTFOLIO_SIM_PROJECT\\MCForecastTools.py:117: PerformanceWarning: DataFrame is highly fragmented.  This is usually the result of calling `frame.insert` many times, which has poor performance.  Consider joining all columns at once using pd.concat(axis=1) instead. To get a de-fragmented frame, use `newframe = frame.copy()`\n",
      "  portfolio_cumulative_returns[n] = (1 + sim_df.fillna(0)).cumprod()\n",
      "C:\\Users\\legar\\Desktop\\COMPUTER_SCIENCE\\05_FINANCIAL_SIMULATIONS_APIS\\PORTFOLIO_SIM_PROJECT\\MCForecastTools.py:117: PerformanceWarning: DataFrame is highly fragmented.  This is usually the result of calling `frame.insert` many times, which has poor performance.  Consider joining all columns at once using pd.concat(axis=1) instead. To get a de-fragmented frame, use `newframe = frame.copy()`\n",
      "  portfolio_cumulative_returns[n] = (1 + sim_df.fillna(0)).cumprod()\n",
      "C:\\Users\\legar\\Desktop\\COMPUTER_SCIENCE\\05_FINANCIAL_SIMULATIONS_APIS\\PORTFOLIO_SIM_PROJECT\\MCForecastTools.py:117: PerformanceWarning: DataFrame is highly fragmented.  This is usually the result of calling `frame.insert` many times, which has poor performance.  Consider joining all columns at once using pd.concat(axis=1) instead. To get a de-fragmented frame, use `newframe = frame.copy()`\n",
      "  portfolio_cumulative_returns[n] = (1 + sim_df.fillna(0)).cumprod()\n",
      "C:\\Users\\legar\\Desktop\\COMPUTER_SCIENCE\\05_FINANCIAL_SIMULATIONS_APIS\\PORTFOLIO_SIM_PROJECT\\MCForecastTools.py:117: PerformanceWarning: DataFrame is highly fragmented.  This is usually the result of calling `frame.insert` many times, which has poor performance.  Consider joining all columns at once using pd.concat(axis=1) instead. To get a de-fragmented frame, use `newframe = frame.copy()`\n",
      "  portfolio_cumulative_returns[n] = (1 + sim_df.fillna(0)).cumprod()\n",
      "C:\\Users\\legar\\Desktop\\COMPUTER_SCIENCE\\05_FINANCIAL_SIMULATIONS_APIS\\PORTFOLIO_SIM_PROJECT\\MCForecastTools.py:117: PerformanceWarning: DataFrame is highly fragmented.  This is usually the result of calling `frame.insert` many times, which has poor performance.  Consider joining all columns at once using pd.concat(axis=1) instead. To get a de-fragmented frame, use `newframe = frame.copy()`\n",
      "  portfolio_cumulative_returns[n] = (1 + sim_df.fillna(0)).cumprod()\n",
      "C:\\Users\\legar\\Desktop\\COMPUTER_SCIENCE\\05_FINANCIAL_SIMULATIONS_APIS\\PORTFOLIO_SIM_PROJECT\\MCForecastTools.py:117: PerformanceWarning: DataFrame is highly fragmented.  This is usually the result of calling `frame.insert` many times, which has poor performance.  Consider joining all columns at once using pd.concat(axis=1) instead. To get a de-fragmented frame, use `newframe = frame.copy()`\n",
      "  portfolio_cumulative_returns[n] = (1 + sim_df.fillna(0)).cumprod()\n",
      "C:\\Users\\legar\\Desktop\\COMPUTER_SCIENCE\\05_FINANCIAL_SIMULATIONS_APIS\\PORTFOLIO_SIM_PROJECT\\MCForecastTools.py:117: PerformanceWarning: DataFrame is highly fragmented.  This is usually the result of calling `frame.insert` many times, which has poor performance.  Consider joining all columns at once using pd.concat(axis=1) instead. To get a de-fragmented frame, use `newframe = frame.copy()`\n",
      "  portfolio_cumulative_returns[n] = (1 + sim_df.fillna(0)).cumprod()\n",
      "C:\\Users\\legar\\Desktop\\COMPUTER_SCIENCE\\05_FINANCIAL_SIMULATIONS_APIS\\PORTFOLIO_SIM_PROJECT\\MCForecastTools.py:117: PerformanceWarning: DataFrame is highly fragmented.  This is usually the result of calling `frame.insert` many times, which has poor performance.  Consider joining all columns at once using pd.concat(axis=1) instead. To get a de-fragmented frame, use `newframe = frame.copy()`\n",
      "  portfolio_cumulative_returns[n] = (1 + sim_df.fillna(0)).cumprod()\n"
     ]
    },
    {
     "name": "stdout",
     "output_type": "stream",
     "text": [
      "Running Monte Carlo simulation number 190.\n"
     ]
    },
    {
     "name": "stderr",
     "output_type": "stream",
     "text": [
      "C:\\Users\\legar\\Desktop\\COMPUTER_SCIENCE\\05_FINANCIAL_SIMULATIONS_APIS\\PORTFOLIO_SIM_PROJECT\\MCForecastTools.py:117: PerformanceWarning: DataFrame is highly fragmented.  This is usually the result of calling `frame.insert` many times, which has poor performance.  Consider joining all columns at once using pd.concat(axis=1) instead. To get a de-fragmented frame, use `newframe = frame.copy()`\n",
      "  portfolio_cumulative_returns[n] = (1 + sim_df.fillna(0)).cumprod()\n",
      "C:\\Users\\legar\\Desktop\\COMPUTER_SCIENCE\\05_FINANCIAL_SIMULATIONS_APIS\\PORTFOLIO_SIM_PROJECT\\MCForecastTools.py:117: PerformanceWarning: DataFrame is highly fragmented.  This is usually the result of calling `frame.insert` many times, which has poor performance.  Consider joining all columns at once using pd.concat(axis=1) instead. To get a de-fragmented frame, use `newframe = frame.copy()`\n",
      "  portfolio_cumulative_returns[n] = (1 + sim_df.fillna(0)).cumprod()\n",
      "C:\\Users\\legar\\Desktop\\COMPUTER_SCIENCE\\05_FINANCIAL_SIMULATIONS_APIS\\PORTFOLIO_SIM_PROJECT\\MCForecastTools.py:117: PerformanceWarning: DataFrame is highly fragmented.  This is usually the result of calling `frame.insert` many times, which has poor performance.  Consider joining all columns at once using pd.concat(axis=1) instead. To get a de-fragmented frame, use `newframe = frame.copy()`\n",
      "  portfolio_cumulative_returns[n] = (1 + sim_df.fillna(0)).cumprod()\n",
      "C:\\Users\\legar\\Desktop\\COMPUTER_SCIENCE\\05_FINANCIAL_SIMULATIONS_APIS\\PORTFOLIO_SIM_PROJECT\\MCForecastTools.py:117: PerformanceWarning: DataFrame is highly fragmented.  This is usually the result of calling `frame.insert` many times, which has poor performance.  Consider joining all columns at once using pd.concat(axis=1) instead. To get a de-fragmented frame, use `newframe = frame.copy()`\n",
      "  portfolio_cumulative_returns[n] = (1 + sim_df.fillna(0)).cumprod()\n",
      "C:\\Users\\legar\\Desktop\\COMPUTER_SCIENCE\\05_FINANCIAL_SIMULATIONS_APIS\\PORTFOLIO_SIM_PROJECT\\MCForecastTools.py:117: PerformanceWarning: DataFrame is highly fragmented.  This is usually the result of calling `frame.insert` many times, which has poor performance.  Consider joining all columns at once using pd.concat(axis=1) instead. To get a de-fragmented frame, use `newframe = frame.copy()`\n",
      "  portfolio_cumulative_returns[n] = (1 + sim_df.fillna(0)).cumprod()\n",
      "C:\\Users\\legar\\Desktop\\COMPUTER_SCIENCE\\05_FINANCIAL_SIMULATIONS_APIS\\PORTFOLIO_SIM_PROJECT\\MCForecastTools.py:117: PerformanceWarning: DataFrame is highly fragmented.  This is usually the result of calling `frame.insert` many times, which has poor performance.  Consider joining all columns at once using pd.concat(axis=1) instead. To get a de-fragmented frame, use `newframe = frame.copy()`\n",
      "  portfolio_cumulative_returns[n] = (1 + sim_df.fillna(0)).cumprod()\n",
      "C:\\Users\\legar\\Desktop\\COMPUTER_SCIENCE\\05_FINANCIAL_SIMULATIONS_APIS\\PORTFOLIO_SIM_PROJECT\\MCForecastTools.py:117: PerformanceWarning: DataFrame is highly fragmented.  This is usually the result of calling `frame.insert` many times, which has poor performance.  Consider joining all columns at once using pd.concat(axis=1) instead. To get a de-fragmented frame, use `newframe = frame.copy()`\n",
      "  portfolio_cumulative_returns[n] = (1 + sim_df.fillna(0)).cumprod()\n",
      "C:\\Users\\legar\\Desktop\\COMPUTER_SCIENCE\\05_FINANCIAL_SIMULATIONS_APIS\\PORTFOLIO_SIM_PROJECT\\MCForecastTools.py:117: PerformanceWarning: DataFrame is highly fragmented.  This is usually the result of calling `frame.insert` many times, which has poor performance.  Consider joining all columns at once using pd.concat(axis=1) instead. To get a de-fragmented frame, use `newframe = frame.copy()`\n",
      "  portfolio_cumulative_returns[n] = (1 + sim_df.fillna(0)).cumprod()\n",
      "C:\\Users\\legar\\Desktop\\COMPUTER_SCIENCE\\05_FINANCIAL_SIMULATIONS_APIS\\PORTFOLIO_SIM_PROJECT\\MCForecastTools.py:117: PerformanceWarning: DataFrame is highly fragmented.  This is usually the result of calling `frame.insert` many times, which has poor performance.  Consider joining all columns at once using pd.concat(axis=1) instead. To get a de-fragmented frame, use `newframe = frame.copy()`\n",
      "  portfolio_cumulative_returns[n] = (1 + sim_df.fillna(0)).cumprod()\n",
      "C:\\Users\\legar\\Desktop\\COMPUTER_SCIENCE\\05_FINANCIAL_SIMULATIONS_APIS\\PORTFOLIO_SIM_PROJECT\\MCForecastTools.py:117: PerformanceWarning: DataFrame is highly fragmented.  This is usually the result of calling `frame.insert` many times, which has poor performance.  Consider joining all columns at once using pd.concat(axis=1) instead. To get a de-fragmented frame, use `newframe = frame.copy()`\n",
      "  portfolio_cumulative_returns[n] = (1 + sim_df.fillna(0)).cumprod()\n",
      "C:\\Users\\legar\\Desktop\\COMPUTER_SCIENCE\\05_FINANCIAL_SIMULATIONS_APIS\\PORTFOLIO_SIM_PROJECT\\MCForecastTools.py:117: PerformanceWarning: DataFrame is highly fragmented.  This is usually the result of calling `frame.insert` many times, which has poor performance.  Consider joining all columns at once using pd.concat(axis=1) instead. To get a de-fragmented frame, use `newframe = frame.copy()`\n",
      "  portfolio_cumulative_returns[n] = (1 + sim_df.fillna(0)).cumprod()\n"
     ]
    },
    {
     "name": "stdout",
     "output_type": "stream",
     "text": [
      "Running Monte Carlo simulation number 200.\n"
     ]
    },
    {
     "name": "stderr",
     "output_type": "stream",
     "text": [
      "C:\\Users\\legar\\Desktop\\COMPUTER_SCIENCE\\05_FINANCIAL_SIMULATIONS_APIS\\PORTFOLIO_SIM_PROJECT\\MCForecastTools.py:117: PerformanceWarning: DataFrame is highly fragmented.  This is usually the result of calling `frame.insert` many times, which has poor performance.  Consider joining all columns at once using pd.concat(axis=1) instead. To get a de-fragmented frame, use `newframe = frame.copy()`\n",
      "  portfolio_cumulative_returns[n] = (1 + sim_df.fillna(0)).cumprod()\n",
      "C:\\Users\\legar\\Desktop\\COMPUTER_SCIENCE\\05_FINANCIAL_SIMULATIONS_APIS\\PORTFOLIO_SIM_PROJECT\\MCForecastTools.py:117: PerformanceWarning: DataFrame is highly fragmented.  This is usually the result of calling `frame.insert` many times, which has poor performance.  Consider joining all columns at once using pd.concat(axis=1) instead. To get a de-fragmented frame, use `newframe = frame.copy()`\n",
      "  portfolio_cumulative_returns[n] = (1 + sim_df.fillna(0)).cumprod()\n",
      "C:\\Users\\legar\\Desktop\\COMPUTER_SCIENCE\\05_FINANCIAL_SIMULATIONS_APIS\\PORTFOLIO_SIM_PROJECT\\MCForecastTools.py:117: PerformanceWarning: DataFrame is highly fragmented.  This is usually the result of calling `frame.insert` many times, which has poor performance.  Consider joining all columns at once using pd.concat(axis=1) instead. To get a de-fragmented frame, use `newframe = frame.copy()`\n",
      "  portfolio_cumulative_returns[n] = (1 + sim_df.fillna(0)).cumprod()\n",
      "C:\\Users\\legar\\Desktop\\COMPUTER_SCIENCE\\05_FINANCIAL_SIMULATIONS_APIS\\PORTFOLIO_SIM_PROJECT\\MCForecastTools.py:117: PerformanceWarning: DataFrame is highly fragmented.  This is usually the result of calling `frame.insert` many times, which has poor performance.  Consider joining all columns at once using pd.concat(axis=1) instead. To get a de-fragmented frame, use `newframe = frame.copy()`\n",
      "  portfolio_cumulative_returns[n] = (1 + sim_df.fillna(0)).cumprod()\n",
      "C:\\Users\\legar\\Desktop\\COMPUTER_SCIENCE\\05_FINANCIAL_SIMULATIONS_APIS\\PORTFOLIO_SIM_PROJECT\\MCForecastTools.py:117: PerformanceWarning: DataFrame is highly fragmented.  This is usually the result of calling `frame.insert` many times, which has poor performance.  Consider joining all columns at once using pd.concat(axis=1) instead. To get a de-fragmented frame, use `newframe = frame.copy()`\n",
      "  portfolio_cumulative_returns[n] = (1 + sim_df.fillna(0)).cumprod()\n",
      "C:\\Users\\legar\\Desktop\\COMPUTER_SCIENCE\\05_FINANCIAL_SIMULATIONS_APIS\\PORTFOLIO_SIM_PROJECT\\MCForecastTools.py:117: PerformanceWarning: DataFrame is highly fragmented.  This is usually the result of calling `frame.insert` many times, which has poor performance.  Consider joining all columns at once using pd.concat(axis=1) instead. To get a de-fragmented frame, use `newframe = frame.copy()`\n",
      "  portfolio_cumulative_returns[n] = (1 + sim_df.fillna(0)).cumprod()\n",
      "C:\\Users\\legar\\Desktop\\COMPUTER_SCIENCE\\05_FINANCIAL_SIMULATIONS_APIS\\PORTFOLIO_SIM_PROJECT\\MCForecastTools.py:117: PerformanceWarning: DataFrame is highly fragmented.  This is usually the result of calling `frame.insert` many times, which has poor performance.  Consider joining all columns at once using pd.concat(axis=1) instead. To get a de-fragmented frame, use `newframe = frame.copy()`\n",
      "  portfolio_cumulative_returns[n] = (1 + sim_df.fillna(0)).cumprod()\n",
      "C:\\Users\\legar\\Desktop\\COMPUTER_SCIENCE\\05_FINANCIAL_SIMULATIONS_APIS\\PORTFOLIO_SIM_PROJECT\\MCForecastTools.py:117: PerformanceWarning: DataFrame is highly fragmented.  This is usually the result of calling `frame.insert` many times, which has poor performance.  Consider joining all columns at once using pd.concat(axis=1) instead. To get a de-fragmented frame, use `newframe = frame.copy()`\n",
      "  portfolio_cumulative_returns[n] = (1 + sim_df.fillna(0)).cumprod()\n"
     ]
    },
    {
     "name": "stdout",
     "output_type": "stream",
     "text": [
      "Running Monte Carlo simulation number 210.\n"
     ]
    },
    {
     "name": "stderr",
     "output_type": "stream",
     "text": [
      "C:\\Users\\legar\\Desktop\\COMPUTER_SCIENCE\\05_FINANCIAL_SIMULATIONS_APIS\\PORTFOLIO_SIM_PROJECT\\MCForecastTools.py:117: PerformanceWarning: DataFrame is highly fragmented.  This is usually the result of calling `frame.insert` many times, which has poor performance.  Consider joining all columns at once using pd.concat(axis=1) instead. To get a de-fragmented frame, use `newframe = frame.copy()`\n",
      "  portfolio_cumulative_returns[n] = (1 + sim_df.fillna(0)).cumprod()\n",
      "C:\\Users\\legar\\Desktop\\COMPUTER_SCIENCE\\05_FINANCIAL_SIMULATIONS_APIS\\PORTFOLIO_SIM_PROJECT\\MCForecastTools.py:117: PerformanceWarning: DataFrame is highly fragmented.  This is usually the result of calling `frame.insert` many times, which has poor performance.  Consider joining all columns at once using pd.concat(axis=1) instead. To get a de-fragmented frame, use `newframe = frame.copy()`\n",
      "  portfolio_cumulative_returns[n] = (1 + sim_df.fillna(0)).cumprod()\n",
      "C:\\Users\\legar\\Desktop\\COMPUTER_SCIENCE\\05_FINANCIAL_SIMULATIONS_APIS\\PORTFOLIO_SIM_PROJECT\\MCForecastTools.py:117: PerformanceWarning: DataFrame is highly fragmented.  This is usually the result of calling `frame.insert` many times, which has poor performance.  Consider joining all columns at once using pd.concat(axis=1) instead. To get a de-fragmented frame, use `newframe = frame.copy()`\n",
      "  portfolio_cumulative_returns[n] = (1 + sim_df.fillna(0)).cumprod()\n",
      "C:\\Users\\legar\\Desktop\\COMPUTER_SCIENCE\\05_FINANCIAL_SIMULATIONS_APIS\\PORTFOLIO_SIM_PROJECT\\MCForecastTools.py:117: PerformanceWarning: DataFrame is highly fragmented.  This is usually the result of calling `frame.insert` many times, which has poor performance.  Consider joining all columns at once using pd.concat(axis=1) instead. To get a de-fragmented frame, use `newframe = frame.copy()`\n",
      "  portfolio_cumulative_returns[n] = (1 + sim_df.fillna(0)).cumprod()\n",
      "C:\\Users\\legar\\Desktop\\COMPUTER_SCIENCE\\05_FINANCIAL_SIMULATIONS_APIS\\PORTFOLIO_SIM_PROJECT\\MCForecastTools.py:117: PerformanceWarning: DataFrame is highly fragmented.  This is usually the result of calling `frame.insert` many times, which has poor performance.  Consider joining all columns at once using pd.concat(axis=1) instead. To get a de-fragmented frame, use `newframe = frame.copy()`\n",
      "  portfolio_cumulative_returns[n] = (1 + sim_df.fillna(0)).cumprod()\n",
      "C:\\Users\\legar\\Desktop\\COMPUTER_SCIENCE\\05_FINANCIAL_SIMULATIONS_APIS\\PORTFOLIO_SIM_PROJECT\\MCForecastTools.py:117: PerformanceWarning: DataFrame is highly fragmented.  This is usually the result of calling `frame.insert` many times, which has poor performance.  Consider joining all columns at once using pd.concat(axis=1) instead. To get a de-fragmented frame, use `newframe = frame.copy()`\n",
      "  portfolio_cumulative_returns[n] = (1 + sim_df.fillna(0)).cumprod()\n",
      "C:\\Users\\legar\\Desktop\\COMPUTER_SCIENCE\\05_FINANCIAL_SIMULATIONS_APIS\\PORTFOLIO_SIM_PROJECT\\MCForecastTools.py:117: PerformanceWarning: DataFrame is highly fragmented.  This is usually the result of calling `frame.insert` many times, which has poor performance.  Consider joining all columns at once using pd.concat(axis=1) instead. To get a de-fragmented frame, use `newframe = frame.copy()`\n",
      "  portfolio_cumulative_returns[n] = (1 + sim_df.fillna(0)).cumprod()\n",
      "C:\\Users\\legar\\Desktop\\COMPUTER_SCIENCE\\05_FINANCIAL_SIMULATIONS_APIS\\PORTFOLIO_SIM_PROJECT\\MCForecastTools.py:117: PerformanceWarning: DataFrame is highly fragmented.  This is usually the result of calling `frame.insert` many times, which has poor performance.  Consider joining all columns at once using pd.concat(axis=1) instead. To get a de-fragmented frame, use `newframe = frame.copy()`\n",
      "  portfolio_cumulative_returns[n] = (1 + sim_df.fillna(0)).cumprod()\n",
      "C:\\Users\\legar\\Desktop\\COMPUTER_SCIENCE\\05_FINANCIAL_SIMULATIONS_APIS\\PORTFOLIO_SIM_PROJECT\\MCForecastTools.py:117: PerformanceWarning: DataFrame is highly fragmented.  This is usually the result of calling `frame.insert` many times, which has poor performance.  Consider joining all columns at once using pd.concat(axis=1) instead. To get a de-fragmented frame, use `newframe = frame.copy()`\n",
      "  portfolio_cumulative_returns[n] = (1 + sim_df.fillna(0)).cumprod()\n",
      "C:\\Users\\legar\\Desktop\\COMPUTER_SCIENCE\\05_FINANCIAL_SIMULATIONS_APIS\\PORTFOLIO_SIM_PROJECT\\MCForecastTools.py:117: PerformanceWarning: DataFrame is highly fragmented.  This is usually the result of calling `frame.insert` many times, which has poor performance.  Consider joining all columns at once using pd.concat(axis=1) instead. To get a de-fragmented frame, use `newframe = frame.copy()`\n",
      "  portfolio_cumulative_returns[n] = (1 + sim_df.fillna(0)).cumprod()\n",
      "C:\\Users\\legar\\Desktop\\COMPUTER_SCIENCE\\05_FINANCIAL_SIMULATIONS_APIS\\PORTFOLIO_SIM_PROJECT\\MCForecastTools.py:117: PerformanceWarning: DataFrame is highly fragmented.  This is usually the result of calling `frame.insert` many times, which has poor performance.  Consider joining all columns at once using pd.concat(axis=1) instead. To get a de-fragmented frame, use `newframe = frame.copy()`\n",
      "  portfolio_cumulative_returns[n] = (1 + sim_df.fillna(0)).cumprod()\n"
     ]
    },
    {
     "name": "stdout",
     "output_type": "stream",
     "text": [
      "Running Monte Carlo simulation number 220.\n"
     ]
    },
    {
     "name": "stderr",
     "output_type": "stream",
     "text": [
      "C:\\Users\\legar\\Desktop\\COMPUTER_SCIENCE\\05_FINANCIAL_SIMULATIONS_APIS\\PORTFOLIO_SIM_PROJECT\\MCForecastTools.py:117: PerformanceWarning: DataFrame is highly fragmented.  This is usually the result of calling `frame.insert` many times, which has poor performance.  Consider joining all columns at once using pd.concat(axis=1) instead. To get a de-fragmented frame, use `newframe = frame.copy()`\n",
      "  portfolio_cumulative_returns[n] = (1 + sim_df.fillna(0)).cumprod()\n",
      "C:\\Users\\legar\\Desktop\\COMPUTER_SCIENCE\\05_FINANCIAL_SIMULATIONS_APIS\\PORTFOLIO_SIM_PROJECT\\MCForecastTools.py:117: PerformanceWarning: DataFrame is highly fragmented.  This is usually the result of calling `frame.insert` many times, which has poor performance.  Consider joining all columns at once using pd.concat(axis=1) instead. To get a de-fragmented frame, use `newframe = frame.copy()`\n",
      "  portfolio_cumulative_returns[n] = (1 + sim_df.fillna(0)).cumprod()\n",
      "C:\\Users\\legar\\Desktop\\COMPUTER_SCIENCE\\05_FINANCIAL_SIMULATIONS_APIS\\PORTFOLIO_SIM_PROJECT\\MCForecastTools.py:117: PerformanceWarning: DataFrame is highly fragmented.  This is usually the result of calling `frame.insert` many times, which has poor performance.  Consider joining all columns at once using pd.concat(axis=1) instead. To get a de-fragmented frame, use `newframe = frame.copy()`\n",
      "  portfolio_cumulative_returns[n] = (1 + sim_df.fillna(0)).cumprod()\n",
      "C:\\Users\\legar\\Desktop\\COMPUTER_SCIENCE\\05_FINANCIAL_SIMULATIONS_APIS\\PORTFOLIO_SIM_PROJECT\\MCForecastTools.py:117: PerformanceWarning: DataFrame is highly fragmented.  This is usually the result of calling `frame.insert` many times, which has poor performance.  Consider joining all columns at once using pd.concat(axis=1) instead. To get a de-fragmented frame, use `newframe = frame.copy()`\n",
      "  portfolio_cumulative_returns[n] = (1 + sim_df.fillna(0)).cumprod()\n",
      "C:\\Users\\legar\\Desktop\\COMPUTER_SCIENCE\\05_FINANCIAL_SIMULATIONS_APIS\\PORTFOLIO_SIM_PROJECT\\MCForecastTools.py:117: PerformanceWarning: DataFrame is highly fragmented.  This is usually the result of calling `frame.insert` many times, which has poor performance.  Consider joining all columns at once using pd.concat(axis=1) instead. To get a de-fragmented frame, use `newframe = frame.copy()`\n",
      "  portfolio_cumulative_returns[n] = (1 + sim_df.fillna(0)).cumprod()\n",
      "C:\\Users\\legar\\Desktop\\COMPUTER_SCIENCE\\05_FINANCIAL_SIMULATIONS_APIS\\PORTFOLIO_SIM_PROJECT\\MCForecastTools.py:117: PerformanceWarning: DataFrame is highly fragmented.  This is usually the result of calling `frame.insert` many times, which has poor performance.  Consider joining all columns at once using pd.concat(axis=1) instead. To get a de-fragmented frame, use `newframe = frame.copy()`\n",
      "  portfolio_cumulative_returns[n] = (1 + sim_df.fillna(0)).cumprod()\n",
      "C:\\Users\\legar\\Desktop\\COMPUTER_SCIENCE\\05_FINANCIAL_SIMULATIONS_APIS\\PORTFOLIO_SIM_PROJECT\\MCForecastTools.py:117: PerformanceWarning: DataFrame is highly fragmented.  This is usually the result of calling `frame.insert` many times, which has poor performance.  Consider joining all columns at once using pd.concat(axis=1) instead. To get a de-fragmented frame, use `newframe = frame.copy()`\n",
      "  portfolio_cumulative_returns[n] = (1 + sim_df.fillna(0)).cumprod()\n",
      "C:\\Users\\legar\\Desktop\\COMPUTER_SCIENCE\\05_FINANCIAL_SIMULATIONS_APIS\\PORTFOLIO_SIM_PROJECT\\MCForecastTools.py:117: PerformanceWarning: DataFrame is highly fragmented.  This is usually the result of calling `frame.insert` many times, which has poor performance.  Consider joining all columns at once using pd.concat(axis=1) instead. To get a de-fragmented frame, use `newframe = frame.copy()`\n",
      "  portfolio_cumulative_returns[n] = (1 + sim_df.fillna(0)).cumprod()\n",
      "C:\\Users\\legar\\Desktop\\COMPUTER_SCIENCE\\05_FINANCIAL_SIMULATIONS_APIS\\PORTFOLIO_SIM_PROJECT\\MCForecastTools.py:117: PerformanceWarning: DataFrame is highly fragmented.  This is usually the result of calling `frame.insert` many times, which has poor performance.  Consider joining all columns at once using pd.concat(axis=1) instead. To get a de-fragmented frame, use `newframe = frame.copy()`\n",
      "  portfolio_cumulative_returns[n] = (1 + sim_df.fillna(0)).cumprod()\n",
      "C:\\Users\\legar\\Desktop\\COMPUTER_SCIENCE\\05_FINANCIAL_SIMULATIONS_APIS\\PORTFOLIO_SIM_PROJECT\\MCForecastTools.py:117: PerformanceWarning: DataFrame is highly fragmented.  This is usually the result of calling `frame.insert` many times, which has poor performance.  Consider joining all columns at once using pd.concat(axis=1) instead. To get a de-fragmented frame, use `newframe = frame.copy()`\n",
      "  portfolio_cumulative_returns[n] = (1 + sim_df.fillna(0)).cumprod()\n",
      "C:\\Users\\legar\\Desktop\\COMPUTER_SCIENCE\\05_FINANCIAL_SIMULATIONS_APIS\\PORTFOLIO_SIM_PROJECT\\MCForecastTools.py:117: PerformanceWarning: DataFrame is highly fragmented.  This is usually the result of calling `frame.insert` many times, which has poor performance.  Consider joining all columns at once using pd.concat(axis=1) instead. To get a de-fragmented frame, use `newframe = frame.copy()`\n",
      "  portfolio_cumulative_returns[n] = (1 + sim_df.fillna(0)).cumprod()\n"
     ]
    },
    {
     "name": "stdout",
     "output_type": "stream",
     "text": [
      "Running Monte Carlo simulation number 230.\n"
     ]
    },
    {
     "name": "stderr",
     "output_type": "stream",
     "text": [
      "C:\\Users\\legar\\Desktop\\COMPUTER_SCIENCE\\05_FINANCIAL_SIMULATIONS_APIS\\PORTFOLIO_SIM_PROJECT\\MCForecastTools.py:117: PerformanceWarning: DataFrame is highly fragmented.  This is usually the result of calling `frame.insert` many times, which has poor performance.  Consider joining all columns at once using pd.concat(axis=1) instead. To get a de-fragmented frame, use `newframe = frame.copy()`\n",
      "  portfolio_cumulative_returns[n] = (1 + sim_df.fillna(0)).cumprod()\n",
      "C:\\Users\\legar\\Desktop\\COMPUTER_SCIENCE\\05_FINANCIAL_SIMULATIONS_APIS\\PORTFOLIO_SIM_PROJECT\\MCForecastTools.py:117: PerformanceWarning: DataFrame is highly fragmented.  This is usually the result of calling `frame.insert` many times, which has poor performance.  Consider joining all columns at once using pd.concat(axis=1) instead. To get a de-fragmented frame, use `newframe = frame.copy()`\n",
      "  portfolio_cumulative_returns[n] = (1 + sim_df.fillna(0)).cumprod()\n",
      "C:\\Users\\legar\\Desktop\\COMPUTER_SCIENCE\\05_FINANCIAL_SIMULATIONS_APIS\\PORTFOLIO_SIM_PROJECT\\MCForecastTools.py:117: PerformanceWarning: DataFrame is highly fragmented.  This is usually the result of calling `frame.insert` many times, which has poor performance.  Consider joining all columns at once using pd.concat(axis=1) instead. To get a de-fragmented frame, use `newframe = frame.copy()`\n",
      "  portfolio_cumulative_returns[n] = (1 + sim_df.fillna(0)).cumprod()\n",
      "C:\\Users\\legar\\Desktop\\COMPUTER_SCIENCE\\05_FINANCIAL_SIMULATIONS_APIS\\PORTFOLIO_SIM_PROJECT\\MCForecastTools.py:117: PerformanceWarning: DataFrame is highly fragmented.  This is usually the result of calling `frame.insert` many times, which has poor performance.  Consider joining all columns at once using pd.concat(axis=1) instead. To get a de-fragmented frame, use `newframe = frame.copy()`\n",
      "  portfolio_cumulative_returns[n] = (1 + sim_df.fillna(0)).cumprod()\n",
      "C:\\Users\\legar\\Desktop\\COMPUTER_SCIENCE\\05_FINANCIAL_SIMULATIONS_APIS\\PORTFOLIO_SIM_PROJECT\\MCForecastTools.py:117: PerformanceWarning: DataFrame is highly fragmented.  This is usually the result of calling `frame.insert` many times, which has poor performance.  Consider joining all columns at once using pd.concat(axis=1) instead. To get a de-fragmented frame, use `newframe = frame.copy()`\n",
      "  portfolio_cumulative_returns[n] = (1 + sim_df.fillna(0)).cumprod()\n",
      "C:\\Users\\legar\\Desktop\\COMPUTER_SCIENCE\\05_FINANCIAL_SIMULATIONS_APIS\\PORTFOLIO_SIM_PROJECT\\MCForecastTools.py:117: PerformanceWarning: DataFrame is highly fragmented.  This is usually the result of calling `frame.insert` many times, which has poor performance.  Consider joining all columns at once using pd.concat(axis=1) instead. To get a de-fragmented frame, use `newframe = frame.copy()`\n",
      "  portfolio_cumulative_returns[n] = (1 + sim_df.fillna(0)).cumprod()\n",
      "C:\\Users\\legar\\Desktop\\COMPUTER_SCIENCE\\05_FINANCIAL_SIMULATIONS_APIS\\PORTFOLIO_SIM_PROJECT\\MCForecastTools.py:117: PerformanceWarning: DataFrame is highly fragmented.  This is usually the result of calling `frame.insert` many times, which has poor performance.  Consider joining all columns at once using pd.concat(axis=1) instead. To get a de-fragmented frame, use `newframe = frame.copy()`\n",
      "  portfolio_cumulative_returns[n] = (1 + sim_df.fillna(0)).cumprod()\n",
      "C:\\Users\\legar\\Desktop\\COMPUTER_SCIENCE\\05_FINANCIAL_SIMULATIONS_APIS\\PORTFOLIO_SIM_PROJECT\\MCForecastTools.py:117: PerformanceWarning: DataFrame is highly fragmented.  This is usually the result of calling `frame.insert` many times, which has poor performance.  Consider joining all columns at once using pd.concat(axis=1) instead. To get a de-fragmented frame, use `newframe = frame.copy()`\n",
      "  portfolio_cumulative_returns[n] = (1 + sim_df.fillna(0)).cumprod()\n",
      "C:\\Users\\legar\\Desktop\\COMPUTER_SCIENCE\\05_FINANCIAL_SIMULATIONS_APIS\\PORTFOLIO_SIM_PROJECT\\MCForecastTools.py:117: PerformanceWarning: DataFrame is highly fragmented.  This is usually the result of calling `frame.insert` many times, which has poor performance.  Consider joining all columns at once using pd.concat(axis=1) instead. To get a de-fragmented frame, use `newframe = frame.copy()`\n",
      "  portfolio_cumulative_returns[n] = (1 + sim_df.fillna(0)).cumprod()\n",
      "C:\\Users\\legar\\Desktop\\COMPUTER_SCIENCE\\05_FINANCIAL_SIMULATIONS_APIS\\PORTFOLIO_SIM_PROJECT\\MCForecastTools.py:117: PerformanceWarning: DataFrame is highly fragmented.  This is usually the result of calling `frame.insert` many times, which has poor performance.  Consider joining all columns at once using pd.concat(axis=1) instead. To get a de-fragmented frame, use `newframe = frame.copy()`\n",
      "  portfolio_cumulative_returns[n] = (1 + sim_df.fillna(0)).cumprod()\n",
      "C:\\Users\\legar\\Desktop\\COMPUTER_SCIENCE\\05_FINANCIAL_SIMULATIONS_APIS\\PORTFOLIO_SIM_PROJECT\\MCForecastTools.py:117: PerformanceWarning: DataFrame is highly fragmented.  This is usually the result of calling `frame.insert` many times, which has poor performance.  Consider joining all columns at once using pd.concat(axis=1) instead. To get a de-fragmented frame, use `newframe = frame.copy()`\n",
      "  portfolio_cumulative_returns[n] = (1 + sim_df.fillna(0)).cumprod()\n"
     ]
    },
    {
     "name": "stdout",
     "output_type": "stream",
     "text": [
      "Running Monte Carlo simulation number 240.\n"
     ]
    },
    {
     "name": "stderr",
     "output_type": "stream",
     "text": [
      "C:\\Users\\legar\\Desktop\\COMPUTER_SCIENCE\\05_FINANCIAL_SIMULATIONS_APIS\\PORTFOLIO_SIM_PROJECT\\MCForecastTools.py:117: PerformanceWarning: DataFrame is highly fragmented.  This is usually the result of calling `frame.insert` many times, which has poor performance.  Consider joining all columns at once using pd.concat(axis=1) instead. To get a de-fragmented frame, use `newframe = frame.copy()`\n",
      "  portfolio_cumulative_returns[n] = (1 + sim_df.fillna(0)).cumprod()\n",
      "C:\\Users\\legar\\Desktop\\COMPUTER_SCIENCE\\05_FINANCIAL_SIMULATIONS_APIS\\PORTFOLIO_SIM_PROJECT\\MCForecastTools.py:117: PerformanceWarning: DataFrame is highly fragmented.  This is usually the result of calling `frame.insert` many times, which has poor performance.  Consider joining all columns at once using pd.concat(axis=1) instead. To get a de-fragmented frame, use `newframe = frame.copy()`\n",
      "  portfolio_cumulative_returns[n] = (1 + sim_df.fillna(0)).cumprod()\n",
      "C:\\Users\\legar\\Desktop\\COMPUTER_SCIENCE\\05_FINANCIAL_SIMULATIONS_APIS\\PORTFOLIO_SIM_PROJECT\\MCForecastTools.py:117: PerformanceWarning: DataFrame is highly fragmented.  This is usually the result of calling `frame.insert` many times, which has poor performance.  Consider joining all columns at once using pd.concat(axis=1) instead. To get a de-fragmented frame, use `newframe = frame.copy()`\n",
      "  portfolio_cumulative_returns[n] = (1 + sim_df.fillna(0)).cumprod()\n",
      "C:\\Users\\legar\\Desktop\\COMPUTER_SCIENCE\\05_FINANCIAL_SIMULATIONS_APIS\\PORTFOLIO_SIM_PROJECT\\MCForecastTools.py:117: PerformanceWarning: DataFrame is highly fragmented.  This is usually the result of calling `frame.insert` many times, which has poor performance.  Consider joining all columns at once using pd.concat(axis=1) instead. To get a de-fragmented frame, use `newframe = frame.copy()`\n",
      "  portfolio_cumulative_returns[n] = (1 + sim_df.fillna(0)).cumprod()\n",
      "C:\\Users\\legar\\Desktop\\COMPUTER_SCIENCE\\05_FINANCIAL_SIMULATIONS_APIS\\PORTFOLIO_SIM_PROJECT\\MCForecastTools.py:117: PerformanceWarning: DataFrame is highly fragmented.  This is usually the result of calling `frame.insert` many times, which has poor performance.  Consider joining all columns at once using pd.concat(axis=1) instead. To get a de-fragmented frame, use `newframe = frame.copy()`\n",
      "  portfolio_cumulative_returns[n] = (1 + sim_df.fillna(0)).cumprod()\n",
      "C:\\Users\\legar\\Desktop\\COMPUTER_SCIENCE\\05_FINANCIAL_SIMULATIONS_APIS\\PORTFOLIO_SIM_PROJECT\\MCForecastTools.py:117: PerformanceWarning: DataFrame is highly fragmented.  This is usually the result of calling `frame.insert` many times, which has poor performance.  Consider joining all columns at once using pd.concat(axis=1) instead. To get a de-fragmented frame, use `newframe = frame.copy()`\n",
      "  portfolio_cumulative_returns[n] = (1 + sim_df.fillna(0)).cumprod()\n",
      "C:\\Users\\legar\\Desktop\\COMPUTER_SCIENCE\\05_FINANCIAL_SIMULATIONS_APIS\\PORTFOLIO_SIM_PROJECT\\MCForecastTools.py:117: PerformanceWarning: DataFrame is highly fragmented.  This is usually the result of calling `frame.insert` many times, which has poor performance.  Consider joining all columns at once using pd.concat(axis=1) instead. To get a de-fragmented frame, use `newframe = frame.copy()`\n",
      "  portfolio_cumulative_returns[n] = (1 + sim_df.fillna(0)).cumprod()\n"
     ]
    },
    {
     "name": "stdout",
     "output_type": "stream",
     "text": [
      "Running Monte Carlo simulation number 250.\n"
     ]
    },
    {
     "name": "stderr",
     "output_type": "stream",
     "text": [
      "C:\\Users\\legar\\Desktop\\COMPUTER_SCIENCE\\05_FINANCIAL_SIMULATIONS_APIS\\PORTFOLIO_SIM_PROJECT\\MCForecastTools.py:117: PerformanceWarning: DataFrame is highly fragmented.  This is usually the result of calling `frame.insert` many times, which has poor performance.  Consider joining all columns at once using pd.concat(axis=1) instead. To get a de-fragmented frame, use `newframe = frame.copy()`\n",
      "  portfolio_cumulative_returns[n] = (1 + sim_df.fillna(0)).cumprod()\n",
      "C:\\Users\\legar\\Desktop\\COMPUTER_SCIENCE\\05_FINANCIAL_SIMULATIONS_APIS\\PORTFOLIO_SIM_PROJECT\\MCForecastTools.py:117: PerformanceWarning: DataFrame is highly fragmented.  This is usually the result of calling `frame.insert` many times, which has poor performance.  Consider joining all columns at once using pd.concat(axis=1) instead. To get a de-fragmented frame, use `newframe = frame.copy()`\n",
      "  portfolio_cumulative_returns[n] = (1 + sim_df.fillna(0)).cumprod()\n",
      "C:\\Users\\legar\\Desktop\\COMPUTER_SCIENCE\\05_FINANCIAL_SIMULATIONS_APIS\\PORTFOLIO_SIM_PROJECT\\MCForecastTools.py:117: PerformanceWarning: DataFrame is highly fragmented.  This is usually the result of calling `frame.insert` many times, which has poor performance.  Consider joining all columns at once using pd.concat(axis=1) instead. To get a de-fragmented frame, use `newframe = frame.copy()`\n",
      "  portfolio_cumulative_returns[n] = (1 + sim_df.fillna(0)).cumprod()\n",
      "C:\\Users\\legar\\Desktop\\COMPUTER_SCIENCE\\05_FINANCIAL_SIMULATIONS_APIS\\PORTFOLIO_SIM_PROJECT\\MCForecastTools.py:117: PerformanceWarning: DataFrame is highly fragmented.  This is usually the result of calling `frame.insert` many times, which has poor performance.  Consider joining all columns at once using pd.concat(axis=1) instead. To get a de-fragmented frame, use `newframe = frame.copy()`\n",
      "  portfolio_cumulative_returns[n] = (1 + sim_df.fillna(0)).cumprod()\n",
      "C:\\Users\\legar\\Desktop\\COMPUTER_SCIENCE\\05_FINANCIAL_SIMULATIONS_APIS\\PORTFOLIO_SIM_PROJECT\\MCForecastTools.py:117: PerformanceWarning: DataFrame is highly fragmented.  This is usually the result of calling `frame.insert` many times, which has poor performance.  Consider joining all columns at once using pd.concat(axis=1) instead. To get a de-fragmented frame, use `newframe = frame.copy()`\n",
      "  portfolio_cumulative_returns[n] = (1 + sim_df.fillna(0)).cumprod()\n",
      "C:\\Users\\legar\\Desktop\\COMPUTER_SCIENCE\\05_FINANCIAL_SIMULATIONS_APIS\\PORTFOLIO_SIM_PROJECT\\MCForecastTools.py:117: PerformanceWarning: DataFrame is highly fragmented.  This is usually the result of calling `frame.insert` many times, which has poor performance.  Consider joining all columns at once using pd.concat(axis=1) instead. To get a de-fragmented frame, use `newframe = frame.copy()`\n",
      "  portfolio_cumulative_returns[n] = (1 + sim_df.fillna(0)).cumprod()\n",
      "C:\\Users\\legar\\Desktop\\COMPUTER_SCIENCE\\05_FINANCIAL_SIMULATIONS_APIS\\PORTFOLIO_SIM_PROJECT\\MCForecastTools.py:117: PerformanceWarning: DataFrame is highly fragmented.  This is usually the result of calling `frame.insert` many times, which has poor performance.  Consider joining all columns at once using pd.concat(axis=1) instead. To get a de-fragmented frame, use `newframe = frame.copy()`\n",
      "  portfolio_cumulative_returns[n] = (1 + sim_df.fillna(0)).cumprod()\n",
      "C:\\Users\\legar\\Desktop\\COMPUTER_SCIENCE\\05_FINANCIAL_SIMULATIONS_APIS\\PORTFOLIO_SIM_PROJECT\\MCForecastTools.py:117: PerformanceWarning: DataFrame is highly fragmented.  This is usually the result of calling `frame.insert` many times, which has poor performance.  Consider joining all columns at once using pd.concat(axis=1) instead. To get a de-fragmented frame, use `newframe = frame.copy()`\n",
      "  portfolio_cumulative_returns[n] = (1 + sim_df.fillna(0)).cumprod()\n",
      "C:\\Users\\legar\\Desktop\\COMPUTER_SCIENCE\\05_FINANCIAL_SIMULATIONS_APIS\\PORTFOLIO_SIM_PROJECT\\MCForecastTools.py:117: PerformanceWarning: DataFrame is highly fragmented.  This is usually the result of calling `frame.insert` many times, which has poor performance.  Consider joining all columns at once using pd.concat(axis=1) instead. To get a de-fragmented frame, use `newframe = frame.copy()`\n",
      "  portfolio_cumulative_returns[n] = (1 + sim_df.fillna(0)).cumprod()\n",
      "C:\\Users\\legar\\Desktop\\COMPUTER_SCIENCE\\05_FINANCIAL_SIMULATIONS_APIS\\PORTFOLIO_SIM_PROJECT\\MCForecastTools.py:117: PerformanceWarning: DataFrame is highly fragmented.  This is usually the result of calling `frame.insert` many times, which has poor performance.  Consider joining all columns at once using pd.concat(axis=1) instead. To get a de-fragmented frame, use `newframe = frame.copy()`\n",
      "  portfolio_cumulative_returns[n] = (1 + sim_df.fillna(0)).cumprod()\n",
      "C:\\Users\\legar\\Desktop\\COMPUTER_SCIENCE\\05_FINANCIAL_SIMULATIONS_APIS\\PORTFOLIO_SIM_PROJECT\\MCForecastTools.py:117: PerformanceWarning: DataFrame is highly fragmented.  This is usually the result of calling `frame.insert` many times, which has poor performance.  Consider joining all columns at once using pd.concat(axis=1) instead. To get a de-fragmented frame, use `newframe = frame.copy()`\n",
      "  portfolio_cumulative_returns[n] = (1 + sim_df.fillna(0)).cumprod()\n",
      "C:\\Users\\legar\\Desktop\\COMPUTER_SCIENCE\\05_FINANCIAL_SIMULATIONS_APIS\\PORTFOLIO_SIM_PROJECT\\MCForecastTools.py:117: PerformanceWarning: DataFrame is highly fragmented.  This is usually the result of calling `frame.insert` many times, which has poor performance.  Consider joining all columns at once using pd.concat(axis=1) instead. To get a de-fragmented frame, use `newframe = frame.copy()`\n",
      "  portfolio_cumulative_returns[n] = (1 + sim_df.fillna(0)).cumprod()\n"
     ]
    },
    {
     "name": "stdout",
     "output_type": "stream",
     "text": [
      "Running Monte Carlo simulation number 260.\n"
     ]
    },
    {
     "name": "stderr",
     "output_type": "stream",
     "text": [
      "C:\\Users\\legar\\Desktop\\COMPUTER_SCIENCE\\05_FINANCIAL_SIMULATIONS_APIS\\PORTFOLIO_SIM_PROJECT\\MCForecastTools.py:117: PerformanceWarning: DataFrame is highly fragmented.  This is usually the result of calling `frame.insert` many times, which has poor performance.  Consider joining all columns at once using pd.concat(axis=1) instead. To get a de-fragmented frame, use `newframe = frame.copy()`\n",
      "  portfolio_cumulative_returns[n] = (1 + sim_df.fillna(0)).cumprod()\n",
      "C:\\Users\\legar\\Desktop\\COMPUTER_SCIENCE\\05_FINANCIAL_SIMULATIONS_APIS\\PORTFOLIO_SIM_PROJECT\\MCForecastTools.py:117: PerformanceWarning: DataFrame is highly fragmented.  This is usually the result of calling `frame.insert` many times, which has poor performance.  Consider joining all columns at once using pd.concat(axis=1) instead. To get a de-fragmented frame, use `newframe = frame.copy()`\n",
      "  portfolio_cumulative_returns[n] = (1 + sim_df.fillna(0)).cumprod()\n",
      "C:\\Users\\legar\\Desktop\\COMPUTER_SCIENCE\\05_FINANCIAL_SIMULATIONS_APIS\\PORTFOLIO_SIM_PROJECT\\MCForecastTools.py:117: PerformanceWarning: DataFrame is highly fragmented.  This is usually the result of calling `frame.insert` many times, which has poor performance.  Consider joining all columns at once using pd.concat(axis=1) instead. To get a de-fragmented frame, use `newframe = frame.copy()`\n",
      "  portfolio_cumulative_returns[n] = (1 + sim_df.fillna(0)).cumprod()\n",
      "C:\\Users\\legar\\Desktop\\COMPUTER_SCIENCE\\05_FINANCIAL_SIMULATIONS_APIS\\PORTFOLIO_SIM_PROJECT\\MCForecastTools.py:117: PerformanceWarning: DataFrame is highly fragmented.  This is usually the result of calling `frame.insert` many times, which has poor performance.  Consider joining all columns at once using pd.concat(axis=1) instead. To get a de-fragmented frame, use `newframe = frame.copy()`\n",
      "  portfolio_cumulative_returns[n] = (1 + sim_df.fillna(0)).cumprod()\n",
      "C:\\Users\\legar\\Desktop\\COMPUTER_SCIENCE\\05_FINANCIAL_SIMULATIONS_APIS\\PORTFOLIO_SIM_PROJECT\\MCForecastTools.py:117: PerformanceWarning: DataFrame is highly fragmented.  This is usually the result of calling `frame.insert` many times, which has poor performance.  Consider joining all columns at once using pd.concat(axis=1) instead. To get a de-fragmented frame, use `newframe = frame.copy()`\n",
      "  portfolio_cumulative_returns[n] = (1 + sim_df.fillna(0)).cumprod()\n",
      "C:\\Users\\legar\\Desktop\\COMPUTER_SCIENCE\\05_FINANCIAL_SIMULATIONS_APIS\\PORTFOLIO_SIM_PROJECT\\MCForecastTools.py:117: PerformanceWarning: DataFrame is highly fragmented.  This is usually the result of calling `frame.insert` many times, which has poor performance.  Consider joining all columns at once using pd.concat(axis=1) instead. To get a de-fragmented frame, use `newframe = frame.copy()`\n",
      "  portfolio_cumulative_returns[n] = (1 + sim_df.fillna(0)).cumprod()\n",
      "C:\\Users\\legar\\Desktop\\COMPUTER_SCIENCE\\05_FINANCIAL_SIMULATIONS_APIS\\PORTFOLIO_SIM_PROJECT\\MCForecastTools.py:117: PerformanceWarning: DataFrame is highly fragmented.  This is usually the result of calling `frame.insert` many times, which has poor performance.  Consider joining all columns at once using pd.concat(axis=1) instead. To get a de-fragmented frame, use `newframe = frame.copy()`\n",
      "  portfolio_cumulative_returns[n] = (1 + sim_df.fillna(0)).cumprod()\n",
      "C:\\Users\\legar\\Desktop\\COMPUTER_SCIENCE\\05_FINANCIAL_SIMULATIONS_APIS\\PORTFOLIO_SIM_PROJECT\\MCForecastTools.py:117: PerformanceWarning: DataFrame is highly fragmented.  This is usually the result of calling `frame.insert` many times, which has poor performance.  Consider joining all columns at once using pd.concat(axis=1) instead. To get a de-fragmented frame, use `newframe = frame.copy()`\n",
      "  portfolio_cumulative_returns[n] = (1 + sim_df.fillna(0)).cumprod()\n"
     ]
    },
    {
     "name": "stdout",
     "output_type": "stream",
     "text": [
      "Running Monte Carlo simulation number 270.\n"
     ]
    },
    {
     "name": "stderr",
     "output_type": "stream",
     "text": [
      "C:\\Users\\legar\\Desktop\\COMPUTER_SCIENCE\\05_FINANCIAL_SIMULATIONS_APIS\\PORTFOLIO_SIM_PROJECT\\MCForecastTools.py:117: PerformanceWarning: DataFrame is highly fragmented.  This is usually the result of calling `frame.insert` many times, which has poor performance.  Consider joining all columns at once using pd.concat(axis=1) instead. To get a de-fragmented frame, use `newframe = frame.copy()`\n",
      "  portfolio_cumulative_returns[n] = (1 + sim_df.fillna(0)).cumprod()\n",
      "C:\\Users\\legar\\Desktop\\COMPUTER_SCIENCE\\05_FINANCIAL_SIMULATIONS_APIS\\PORTFOLIO_SIM_PROJECT\\MCForecastTools.py:117: PerformanceWarning: DataFrame is highly fragmented.  This is usually the result of calling `frame.insert` many times, which has poor performance.  Consider joining all columns at once using pd.concat(axis=1) instead. To get a de-fragmented frame, use `newframe = frame.copy()`\n",
      "  portfolio_cumulative_returns[n] = (1 + sim_df.fillna(0)).cumprod()\n",
      "C:\\Users\\legar\\Desktop\\COMPUTER_SCIENCE\\05_FINANCIAL_SIMULATIONS_APIS\\PORTFOLIO_SIM_PROJECT\\MCForecastTools.py:117: PerformanceWarning: DataFrame is highly fragmented.  This is usually the result of calling `frame.insert` many times, which has poor performance.  Consider joining all columns at once using pd.concat(axis=1) instead. To get a de-fragmented frame, use `newframe = frame.copy()`\n",
      "  portfolio_cumulative_returns[n] = (1 + sim_df.fillna(0)).cumprod()\n",
      "C:\\Users\\legar\\Desktop\\COMPUTER_SCIENCE\\05_FINANCIAL_SIMULATIONS_APIS\\PORTFOLIO_SIM_PROJECT\\MCForecastTools.py:117: PerformanceWarning: DataFrame is highly fragmented.  This is usually the result of calling `frame.insert` many times, which has poor performance.  Consider joining all columns at once using pd.concat(axis=1) instead. To get a de-fragmented frame, use `newframe = frame.copy()`\n",
      "  portfolio_cumulative_returns[n] = (1 + sim_df.fillna(0)).cumprod()\n",
      "C:\\Users\\legar\\Desktop\\COMPUTER_SCIENCE\\05_FINANCIAL_SIMULATIONS_APIS\\PORTFOLIO_SIM_PROJECT\\MCForecastTools.py:117: PerformanceWarning: DataFrame is highly fragmented.  This is usually the result of calling `frame.insert` many times, which has poor performance.  Consider joining all columns at once using pd.concat(axis=1) instead. To get a de-fragmented frame, use `newframe = frame.copy()`\n",
      "  portfolio_cumulative_returns[n] = (1 + sim_df.fillna(0)).cumprod()\n",
      "C:\\Users\\legar\\Desktop\\COMPUTER_SCIENCE\\05_FINANCIAL_SIMULATIONS_APIS\\PORTFOLIO_SIM_PROJECT\\MCForecastTools.py:117: PerformanceWarning: DataFrame is highly fragmented.  This is usually the result of calling `frame.insert` many times, which has poor performance.  Consider joining all columns at once using pd.concat(axis=1) instead. To get a de-fragmented frame, use `newframe = frame.copy()`\n",
      "  portfolio_cumulative_returns[n] = (1 + sim_df.fillna(0)).cumprod()\n",
      "C:\\Users\\legar\\Desktop\\COMPUTER_SCIENCE\\05_FINANCIAL_SIMULATIONS_APIS\\PORTFOLIO_SIM_PROJECT\\MCForecastTools.py:117: PerformanceWarning: DataFrame is highly fragmented.  This is usually the result of calling `frame.insert` many times, which has poor performance.  Consider joining all columns at once using pd.concat(axis=1) instead. To get a de-fragmented frame, use `newframe = frame.copy()`\n",
      "  portfolio_cumulative_returns[n] = (1 + sim_df.fillna(0)).cumprod()\n",
      "C:\\Users\\legar\\Desktop\\COMPUTER_SCIENCE\\05_FINANCIAL_SIMULATIONS_APIS\\PORTFOLIO_SIM_PROJECT\\MCForecastTools.py:117: PerformanceWarning: DataFrame is highly fragmented.  This is usually the result of calling `frame.insert` many times, which has poor performance.  Consider joining all columns at once using pd.concat(axis=1) instead. To get a de-fragmented frame, use `newframe = frame.copy()`\n",
      "  portfolio_cumulative_returns[n] = (1 + sim_df.fillna(0)).cumprod()\n",
      "C:\\Users\\legar\\Desktop\\COMPUTER_SCIENCE\\05_FINANCIAL_SIMULATIONS_APIS\\PORTFOLIO_SIM_PROJECT\\MCForecastTools.py:117: PerformanceWarning: DataFrame is highly fragmented.  This is usually the result of calling `frame.insert` many times, which has poor performance.  Consider joining all columns at once using pd.concat(axis=1) instead. To get a de-fragmented frame, use `newframe = frame.copy()`\n",
      "  portfolio_cumulative_returns[n] = (1 + sim_df.fillna(0)).cumprod()\n",
      "C:\\Users\\legar\\Desktop\\COMPUTER_SCIENCE\\05_FINANCIAL_SIMULATIONS_APIS\\PORTFOLIO_SIM_PROJECT\\MCForecastTools.py:117: PerformanceWarning: DataFrame is highly fragmented.  This is usually the result of calling `frame.insert` many times, which has poor performance.  Consider joining all columns at once using pd.concat(axis=1) instead. To get a de-fragmented frame, use `newframe = frame.copy()`\n",
      "  portfolio_cumulative_returns[n] = (1 + sim_df.fillna(0)).cumprod()\n",
      "C:\\Users\\legar\\Desktop\\COMPUTER_SCIENCE\\05_FINANCIAL_SIMULATIONS_APIS\\PORTFOLIO_SIM_PROJECT\\MCForecastTools.py:117: PerformanceWarning: DataFrame is highly fragmented.  This is usually the result of calling `frame.insert` many times, which has poor performance.  Consider joining all columns at once using pd.concat(axis=1) instead. To get a de-fragmented frame, use `newframe = frame.copy()`\n",
      "  portfolio_cumulative_returns[n] = (1 + sim_df.fillna(0)).cumprod()\n",
      "C:\\Users\\legar\\Desktop\\COMPUTER_SCIENCE\\05_FINANCIAL_SIMULATIONS_APIS\\PORTFOLIO_SIM_PROJECT\\MCForecastTools.py:117: PerformanceWarning: DataFrame is highly fragmented.  This is usually the result of calling `frame.insert` many times, which has poor performance.  Consider joining all columns at once using pd.concat(axis=1) instead. To get a de-fragmented frame, use `newframe = frame.copy()`\n",
      "  portfolio_cumulative_returns[n] = (1 + sim_df.fillna(0)).cumprod()\n"
     ]
    },
    {
     "name": "stdout",
     "output_type": "stream",
     "text": [
      "Running Monte Carlo simulation number 280.\n"
     ]
    },
    {
     "name": "stderr",
     "output_type": "stream",
     "text": [
      "C:\\Users\\legar\\Desktop\\COMPUTER_SCIENCE\\05_FINANCIAL_SIMULATIONS_APIS\\PORTFOLIO_SIM_PROJECT\\MCForecastTools.py:117: PerformanceWarning: DataFrame is highly fragmented.  This is usually the result of calling `frame.insert` many times, which has poor performance.  Consider joining all columns at once using pd.concat(axis=1) instead. To get a de-fragmented frame, use `newframe = frame.copy()`\n",
      "  portfolio_cumulative_returns[n] = (1 + sim_df.fillna(0)).cumprod()\n",
      "C:\\Users\\legar\\Desktop\\COMPUTER_SCIENCE\\05_FINANCIAL_SIMULATIONS_APIS\\PORTFOLIO_SIM_PROJECT\\MCForecastTools.py:117: PerformanceWarning: DataFrame is highly fragmented.  This is usually the result of calling `frame.insert` many times, which has poor performance.  Consider joining all columns at once using pd.concat(axis=1) instead. To get a de-fragmented frame, use `newframe = frame.copy()`\n",
      "  portfolio_cumulative_returns[n] = (1 + sim_df.fillna(0)).cumprod()\n",
      "C:\\Users\\legar\\Desktop\\COMPUTER_SCIENCE\\05_FINANCIAL_SIMULATIONS_APIS\\PORTFOLIO_SIM_PROJECT\\MCForecastTools.py:117: PerformanceWarning: DataFrame is highly fragmented.  This is usually the result of calling `frame.insert` many times, which has poor performance.  Consider joining all columns at once using pd.concat(axis=1) instead. To get a de-fragmented frame, use `newframe = frame.copy()`\n",
      "  portfolio_cumulative_returns[n] = (1 + sim_df.fillna(0)).cumprod()\n",
      "C:\\Users\\legar\\Desktop\\COMPUTER_SCIENCE\\05_FINANCIAL_SIMULATIONS_APIS\\PORTFOLIO_SIM_PROJECT\\MCForecastTools.py:117: PerformanceWarning: DataFrame is highly fragmented.  This is usually the result of calling `frame.insert` many times, which has poor performance.  Consider joining all columns at once using pd.concat(axis=1) instead. To get a de-fragmented frame, use `newframe = frame.copy()`\n",
      "  portfolio_cumulative_returns[n] = (1 + sim_df.fillna(0)).cumprod()\n",
      "C:\\Users\\legar\\Desktop\\COMPUTER_SCIENCE\\05_FINANCIAL_SIMULATIONS_APIS\\PORTFOLIO_SIM_PROJECT\\MCForecastTools.py:117: PerformanceWarning: DataFrame is highly fragmented.  This is usually the result of calling `frame.insert` many times, which has poor performance.  Consider joining all columns at once using pd.concat(axis=1) instead. To get a de-fragmented frame, use `newframe = frame.copy()`\n",
      "  portfolio_cumulative_returns[n] = (1 + sim_df.fillna(0)).cumprod()\n",
      "C:\\Users\\legar\\Desktop\\COMPUTER_SCIENCE\\05_FINANCIAL_SIMULATIONS_APIS\\PORTFOLIO_SIM_PROJECT\\MCForecastTools.py:117: PerformanceWarning: DataFrame is highly fragmented.  This is usually the result of calling `frame.insert` many times, which has poor performance.  Consider joining all columns at once using pd.concat(axis=1) instead. To get a de-fragmented frame, use `newframe = frame.copy()`\n",
      "  portfolio_cumulative_returns[n] = (1 + sim_df.fillna(0)).cumprod()\n",
      "C:\\Users\\legar\\Desktop\\COMPUTER_SCIENCE\\05_FINANCIAL_SIMULATIONS_APIS\\PORTFOLIO_SIM_PROJECT\\MCForecastTools.py:117: PerformanceWarning: DataFrame is highly fragmented.  This is usually the result of calling `frame.insert` many times, which has poor performance.  Consider joining all columns at once using pd.concat(axis=1) instead. To get a de-fragmented frame, use `newframe = frame.copy()`\n",
      "  portfolio_cumulative_returns[n] = (1 + sim_df.fillna(0)).cumprod()\n",
      "C:\\Users\\legar\\Desktop\\COMPUTER_SCIENCE\\05_FINANCIAL_SIMULATIONS_APIS\\PORTFOLIO_SIM_PROJECT\\MCForecastTools.py:117: PerformanceWarning: DataFrame is highly fragmented.  This is usually the result of calling `frame.insert` many times, which has poor performance.  Consider joining all columns at once using pd.concat(axis=1) instead. To get a de-fragmented frame, use `newframe = frame.copy()`\n",
      "  portfolio_cumulative_returns[n] = (1 + sim_df.fillna(0)).cumprod()\n"
     ]
    },
    {
     "name": "stdout",
     "output_type": "stream",
     "text": [
      "Running Monte Carlo simulation number 290.\n"
     ]
    },
    {
     "name": "stderr",
     "output_type": "stream",
     "text": [
      "C:\\Users\\legar\\Desktop\\COMPUTER_SCIENCE\\05_FINANCIAL_SIMULATIONS_APIS\\PORTFOLIO_SIM_PROJECT\\MCForecastTools.py:117: PerformanceWarning: DataFrame is highly fragmented.  This is usually the result of calling `frame.insert` many times, which has poor performance.  Consider joining all columns at once using pd.concat(axis=1) instead. To get a de-fragmented frame, use `newframe = frame.copy()`\n",
      "  portfolio_cumulative_returns[n] = (1 + sim_df.fillna(0)).cumprod()\n",
      "C:\\Users\\legar\\Desktop\\COMPUTER_SCIENCE\\05_FINANCIAL_SIMULATIONS_APIS\\PORTFOLIO_SIM_PROJECT\\MCForecastTools.py:117: PerformanceWarning: DataFrame is highly fragmented.  This is usually the result of calling `frame.insert` many times, which has poor performance.  Consider joining all columns at once using pd.concat(axis=1) instead. To get a de-fragmented frame, use `newframe = frame.copy()`\n",
      "  portfolio_cumulative_returns[n] = (1 + sim_df.fillna(0)).cumprod()\n",
      "C:\\Users\\legar\\Desktop\\COMPUTER_SCIENCE\\05_FINANCIAL_SIMULATIONS_APIS\\PORTFOLIO_SIM_PROJECT\\MCForecastTools.py:117: PerformanceWarning: DataFrame is highly fragmented.  This is usually the result of calling `frame.insert` many times, which has poor performance.  Consider joining all columns at once using pd.concat(axis=1) instead. To get a de-fragmented frame, use `newframe = frame.copy()`\n",
      "  portfolio_cumulative_returns[n] = (1 + sim_df.fillna(0)).cumprod()\n",
      "C:\\Users\\legar\\Desktop\\COMPUTER_SCIENCE\\05_FINANCIAL_SIMULATIONS_APIS\\PORTFOLIO_SIM_PROJECT\\MCForecastTools.py:117: PerformanceWarning: DataFrame is highly fragmented.  This is usually the result of calling `frame.insert` many times, which has poor performance.  Consider joining all columns at once using pd.concat(axis=1) instead. To get a de-fragmented frame, use `newframe = frame.copy()`\n",
      "  portfolio_cumulative_returns[n] = (1 + sim_df.fillna(0)).cumprod()\n",
      "C:\\Users\\legar\\Desktop\\COMPUTER_SCIENCE\\05_FINANCIAL_SIMULATIONS_APIS\\PORTFOLIO_SIM_PROJECT\\MCForecastTools.py:117: PerformanceWarning: DataFrame is highly fragmented.  This is usually the result of calling `frame.insert` many times, which has poor performance.  Consider joining all columns at once using pd.concat(axis=1) instead. To get a de-fragmented frame, use `newframe = frame.copy()`\n",
      "  portfolio_cumulative_returns[n] = (1 + sim_df.fillna(0)).cumprod()\n",
      "C:\\Users\\legar\\Desktop\\COMPUTER_SCIENCE\\05_FINANCIAL_SIMULATIONS_APIS\\PORTFOLIO_SIM_PROJECT\\MCForecastTools.py:117: PerformanceWarning: DataFrame is highly fragmented.  This is usually the result of calling `frame.insert` many times, which has poor performance.  Consider joining all columns at once using pd.concat(axis=1) instead. To get a de-fragmented frame, use `newframe = frame.copy()`\n",
      "  portfolio_cumulative_returns[n] = (1 + sim_df.fillna(0)).cumprod()\n",
      "C:\\Users\\legar\\Desktop\\COMPUTER_SCIENCE\\05_FINANCIAL_SIMULATIONS_APIS\\PORTFOLIO_SIM_PROJECT\\MCForecastTools.py:117: PerformanceWarning: DataFrame is highly fragmented.  This is usually the result of calling `frame.insert` many times, which has poor performance.  Consider joining all columns at once using pd.concat(axis=1) instead. To get a de-fragmented frame, use `newframe = frame.copy()`\n",
      "  portfolio_cumulative_returns[n] = (1 + sim_df.fillna(0)).cumprod()\n",
      "C:\\Users\\legar\\Desktop\\COMPUTER_SCIENCE\\05_FINANCIAL_SIMULATIONS_APIS\\PORTFOLIO_SIM_PROJECT\\MCForecastTools.py:117: PerformanceWarning: DataFrame is highly fragmented.  This is usually the result of calling `frame.insert` many times, which has poor performance.  Consider joining all columns at once using pd.concat(axis=1) instead. To get a de-fragmented frame, use `newframe = frame.copy()`\n",
      "  portfolio_cumulative_returns[n] = (1 + sim_df.fillna(0)).cumprod()\n",
      "C:\\Users\\legar\\Desktop\\COMPUTER_SCIENCE\\05_FINANCIAL_SIMULATIONS_APIS\\PORTFOLIO_SIM_PROJECT\\MCForecastTools.py:117: PerformanceWarning: DataFrame is highly fragmented.  This is usually the result of calling `frame.insert` many times, which has poor performance.  Consider joining all columns at once using pd.concat(axis=1) instead. To get a de-fragmented frame, use `newframe = frame.copy()`\n",
      "  portfolio_cumulative_returns[n] = (1 + sim_df.fillna(0)).cumprod()\n",
      "C:\\Users\\legar\\Desktop\\COMPUTER_SCIENCE\\05_FINANCIAL_SIMULATIONS_APIS\\PORTFOLIO_SIM_PROJECT\\MCForecastTools.py:117: PerformanceWarning: DataFrame is highly fragmented.  This is usually the result of calling `frame.insert` many times, which has poor performance.  Consider joining all columns at once using pd.concat(axis=1) instead. To get a de-fragmented frame, use `newframe = frame.copy()`\n",
      "  portfolio_cumulative_returns[n] = (1 + sim_df.fillna(0)).cumprod()\n",
      "C:\\Users\\legar\\Desktop\\COMPUTER_SCIENCE\\05_FINANCIAL_SIMULATIONS_APIS\\PORTFOLIO_SIM_PROJECT\\MCForecastTools.py:117: PerformanceWarning: DataFrame is highly fragmented.  This is usually the result of calling `frame.insert` many times, which has poor performance.  Consider joining all columns at once using pd.concat(axis=1) instead. To get a de-fragmented frame, use `newframe = frame.copy()`\n",
      "  portfolio_cumulative_returns[n] = (1 + sim_df.fillna(0)).cumprod()\n",
      "C:\\Users\\legar\\Desktop\\COMPUTER_SCIENCE\\05_FINANCIAL_SIMULATIONS_APIS\\PORTFOLIO_SIM_PROJECT\\MCForecastTools.py:117: PerformanceWarning: DataFrame is highly fragmented.  This is usually the result of calling `frame.insert` many times, which has poor performance.  Consider joining all columns at once using pd.concat(axis=1) instead. To get a de-fragmented frame, use `newframe = frame.copy()`\n",
      "  portfolio_cumulative_returns[n] = (1 + sim_df.fillna(0)).cumprod()\n"
     ]
    },
    {
     "name": "stdout",
     "output_type": "stream",
     "text": [
      "Running Monte Carlo simulation number 300.\n"
     ]
    },
    {
     "name": "stderr",
     "output_type": "stream",
     "text": [
      "C:\\Users\\legar\\Desktop\\COMPUTER_SCIENCE\\05_FINANCIAL_SIMULATIONS_APIS\\PORTFOLIO_SIM_PROJECT\\MCForecastTools.py:117: PerformanceWarning: DataFrame is highly fragmented.  This is usually the result of calling `frame.insert` many times, which has poor performance.  Consider joining all columns at once using pd.concat(axis=1) instead. To get a de-fragmented frame, use `newframe = frame.copy()`\n",
      "  portfolio_cumulative_returns[n] = (1 + sim_df.fillna(0)).cumprod()\n",
      "C:\\Users\\legar\\Desktop\\COMPUTER_SCIENCE\\05_FINANCIAL_SIMULATIONS_APIS\\PORTFOLIO_SIM_PROJECT\\MCForecastTools.py:117: PerformanceWarning: DataFrame is highly fragmented.  This is usually the result of calling `frame.insert` many times, which has poor performance.  Consider joining all columns at once using pd.concat(axis=1) instead. To get a de-fragmented frame, use `newframe = frame.copy()`\n",
      "  portfolio_cumulative_returns[n] = (1 + sim_df.fillna(0)).cumprod()\n",
      "C:\\Users\\legar\\Desktop\\COMPUTER_SCIENCE\\05_FINANCIAL_SIMULATIONS_APIS\\PORTFOLIO_SIM_PROJECT\\MCForecastTools.py:117: PerformanceWarning: DataFrame is highly fragmented.  This is usually the result of calling `frame.insert` many times, which has poor performance.  Consider joining all columns at once using pd.concat(axis=1) instead. To get a de-fragmented frame, use `newframe = frame.copy()`\n",
      "  portfolio_cumulative_returns[n] = (1 + sim_df.fillna(0)).cumprod()\n",
      "C:\\Users\\legar\\Desktop\\COMPUTER_SCIENCE\\05_FINANCIAL_SIMULATIONS_APIS\\PORTFOLIO_SIM_PROJECT\\MCForecastTools.py:117: PerformanceWarning: DataFrame is highly fragmented.  This is usually the result of calling `frame.insert` many times, which has poor performance.  Consider joining all columns at once using pd.concat(axis=1) instead. To get a de-fragmented frame, use `newframe = frame.copy()`\n",
      "  portfolio_cumulative_returns[n] = (1 + sim_df.fillna(0)).cumprod()\n",
      "C:\\Users\\legar\\Desktop\\COMPUTER_SCIENCE\\05_FINANCIAL_SIMULATIONS_APIS\\PORTFOLIO_SIM_PROJECT\\MCForecastTools.py:117: PerformanceWarning: DataFrame is highly fragmented.  This is usually the result of calling `frame.insert` many times, which has poor performance.  Consider joining all columns at once using pd.concat(axis=1) instead. To get a de-fragmented frame, use `newframe = frame.copy()`\n",
      "  portfolio_cumulative_returns[n] = (1 + sim_df.fillna(0)).cumprod()\n",
      "C:\\Users\\legar\\Desktop\\COMPUTER_SCIENCE\\05_FINANCIAL_SIMULATIONS_APIS\\PORTFOLIO_SIM_PROJECT\\MCForecastTools.py:117: PerformanceWarning: DataFrame is highly fragmented.  This is usually the result of calling `frame.insert` many times, which has poor performance.  Consider joining all columns at once using pd.concat(axis=1) instead. To get a de-fragmented frame, use `newframe = frame.copy()`\n",
      "  portfolio_cumulative_returns[n] = (1 + sim_df.fillna(0)).cumprod()\n",
      "C:\\Users\\legar\\Desktop\\COMPUTER_SCIENCE\\05_FINANCIAL_SIMULATIONS_APIS\\PORTFOLIO_SIM_PROJECT\\MCForecastTools.py:117: PerformanceWarning: DataFrame is highly fragmented.  This is usually the result of calling `frame.insert` many times, which has poor performance.  Consider joining all columns at once using pd.concat(axis=1) instead. To get a de-fragmented frame, use `newframe = frame.copy()`\n",
      "  portfolio_cumulative_returns[n] = (1 + sim_df.fillna(0)).cumprod()\n",
      "C:\\Users\\legar\\Desktop\\COMPUTER_SCIENCE\\05_FINANCIAL_SIMULATIONS_APIS\\PORTFOLIO_SIM_PROJECT\\MCForecastTools.py:117: PerformanceWarning: DataFrame is highly fragmented.  This is usually the result of calling `frame.insert` many times, which has poor performance.  Consider joining all columns at once using pd.concat(axis=1) instead. To get a de-fragmented frame, use `newframe = frame.copy()`\n",
      "  portfolio_cumulative_returns[n] = (1 + sim_df.fillna(0)).cumprod()\n",
      "C:\\Users\\legar\\Desktop\\COMPUTER_SCIENCE\\05_FINANCIAL_SIMULATIONS_APIS\\PORTFOLIO_SIM_PROJECT\\MCForecastTools.py:117: PerformanceWarning: DataFrame is highly fragmented.  This is usually the result of calling `frame.insert` many times, which has poor performance.  Consider joining all columns at once using pd.concat(axis=1) instead. To get a de-fragmented frame, use `newframe = frame.copy()`\n",
      "  portfolio_cumulative_returns[n] = (1 + sim_df.fillna(0)).cumprod()\n",
      "C:\\Users\\legar\\Desktop\\COMPUTER_SCIENCE\\05_FINANCIAL_SIMULATIONS_APIS\\PORTFOLIO_SIM_PROJECT\\MCForecastTools.py:117: PerformanceWarning: DataFrame is highly fragmented.  This is usually the result of calling `frame.insert` many times, which has poor performance.  Consider joining all columns at once using pd.concat(axis=1) instead. To get a de-fragmented frame, use `newframe = frame.copy()`\n",
      "  portfolio_cumulative_returns[n] = (1 + sim_df.fillna(0)).cumprod()\n",
      "C:\\Users\\legar\\Desktop\\COMPUTER_SCIENCE\\05_FINANCIAL_SIMULATIONS_APIS\\PORTFOLIO_SIM_PROJECT\\MCForecastTools.py:117: PerformanceWarning: DataFrame is highly fragmented.  This is usually the result of calling `frame.insert` many times, which has poor performance.  Consider joining all columns at once using pd.concat(axis=1) instead. To get a de-fragmented frame, use `newframe = frame.copy()`\n",
      "  portfolio_cumulative_returns[n] = (1 + sim_df.fillna(0)).cumprod()\n"
     ]
    },
    {
     "name": "stdout",
     "output_type": "stream",
     "text": [
      "Running Monte Carlo simulation number 310.\n"
     ]
    },
    {
     "name": "stderr",
     "output_type": "stream",
     "text": [
      "C:\\Users\\legar\\Desktop\\COMPUTER_SCIENCE\\05_FINANCIAL_SIMULATIONS_APIS\\PORTFOLIO_SIM_PROJECT\\MCForecastTools.py:117: PerformanceWarning: DataFrame is highly fragmented.  This is usually the result of calling `frame.insert` many times, which has poor performance.  Consider joining all columns at once using pd.concat(axis=1) instead. To get a de-fragmented frame, use `newframe = frame.copy()`\n",
      "  portfolio_cumulative_returns[n] = (1 + sim_df.fillna(0)).cumprod()\n",
      "C:\\Users\\legar\\Desktop\\COMPUTER_SCIENCE\\05_FINANCIAL_SIMULATIONS_APIS\\PORTFOLIO_SIM_PROJECT\\MCForecastTools.py:117: PerformanceWarning: DataFrame is highly fragmented.  This is usually the result of calling `frame.insert` many times, which has poor performance.  Consider joining all columns at once using pd.concat(axis=1) instead. To get a de-fragmented frame, use `newframe = frame.copy()`\n",
      "  portfolio_cumulative_returns[n] = (1 + sim_df.fillna(0)).cumprod()\n",
      "C:\\Users\\legar\\Desktop\\COMPUTER_SCIENCE\\05_FINANCIAL_SIMULATIONS_APIS\\PORTFOLIO_SIM_PROJECT\\MCForecastTools.py:117: PerformanceWarning: DataFrame is highly fragmented.  This is usually the result of calling `frame.insert` many times, which has poor performance.  Consider joining all columns at once using pd.concat(axis=1) instead. To get a de-fragmented frame, use `newframe = frame.copy()`\n",
      "  portfolio_cumulative_returns[n] = (1 + sim_df.fillna(0)).cumprod()\n",
      "C:\\Users\\legar\\Desktop\\COMPUTER_SCIENCE\\05_FINANCIAL_SIMULATIONS_APIS\\PORTFOLIO_SIM_PROJECT\\MCForecastTools.py:117: PerformanceWarning: DataFrame is highly fragmented.  This is usually the result of calling `frame.insert` many times, which has poor performance.  Consider joining all columns at once using pd.concat(axis=1) instead. To get a de-fragmented frame, use `newframe = frame.copy()`\n",
      "  portfolio_cumulative_returns[n] = (1 + sim_df.fillna(0)).cumprod()\n",
      "C:\\Users\\legar\\Desktop\\COMPUTER_SCIENCE\\05_FINANCIAL_SIMULATIONS_APIS\\PORTFOLIO_SIM_PROJECT\\MCForecastTools.py:117: PerformanceWarning: DataFrame is highly fragmented.  This is usually the result of calling `frame.insert` many times, which has poor performance.  Consider joining all columns at once using pd.concat(axis=1) instead. To get a de-fragmented frame, use `newframe = frame.copy()`\n",
      "  portfolio_cumulative_returns[n] = (1 + sim_df.fillna(0)).cumprod()\n",
      "C:\\Users\\legar\\Desktop\\COMPUTER_SCIENCE\\05_FINANCIAL_SIMULATIONS_APIS\\PORTFOLIO_SIM_PROJECT\\MCForecastTools.py:117: PerformanceWarning: DataFrame is highly fragmented.  This is usually the result of calling `frame.insert` many times, which has poor performance.  Consider joining all columns at once using pd.concat(axis=1) instead. To get a de-fragmented frame, use `newframe = frame.copy()`\n",
      "  portfolio_cumulative_returns[n] = (1 + sim_df.fillna(0)).cumprod()\n",
      "C:\\Users\\legar\\Desktop\\COMPUTER_SCIENCE\\05_FINANCIAL_SIMULATIONS_APIS\\PORTFOLIO_SIM_PROJECT\\MCForecastTools.py:117: PerformanceWarning: DataFrame is highly fragmented.  This is usually the result of calling `frame.insert` many times, which has poor performance.  Consider joining all columns at once using pd.concat(axis=1) instead. To get a de-fragmented frame, use `newframe = frame.copy()`\n",
      "  portfolio_cumulative_returns[n] = (1 + sim_df.fillna(0)).cumprod()\n"
     ]
    },
    {
     "name": "stdout",
     "output_type": "stream",
     "text": [
      "Running Monte Carlo simulation number 320.\n"
     ]
    },
    {
     "name": "stderr",
     "output_type": "stream",
     "text": [
      "C:\\Users\\legar\\Desktop\\COMPUTER_SCIENCE\\05_FINANCIAL_SIMULATIONS_APIS\\PORTFOLIO_SIM_PROJECT\\MCForecastTools.py:117: PerformanceWarning: DataFrame is highly fragmented.  This is usually the result of calling `frame.insert` many times, which has poor performance.  Consider joining all columns at once using pd.concat(axis=1) instead. To get a de-fragmented frame, use `newframe = frame.copy()`\n",
      "  portfolio_cumulative_returns[n] = (1 + sim_df.fillna(0)).cumprod()\n",
      "C:\\Users\\legar\\Desktop\\COMPUTER_SCIENCE\\05_FINANCIAL_SIMULATIONS_APIS\\PORTFOLIO_SIM_PROJECT\\MCForecastTools.py:117: PerformanceWarning: DataFrame is highly fragmented.  This is usually the result of calling `frame.insert` many times, which has poor performance.  Consider joining all columns at once using pd.concat(axis=1) instead. To get a de-fragmented frame, use `newframe = frame.copy()`\n",
      "  portfolio_cumulative_returns[n] = (1 + sim_df.fillna(0)).cumprod()\n",
      "C:\\Users\\legar\\Desktop\\COMPUTER_SCIENCE\\05_FINANCIAL_SIMULATIONS_APIS\\PORTFOLIO_SIM_PROJECT\\MCForecastTools.py:117: PerformanceWarning: DataFrame is highly fragmented.  This is usually the result of calling `frame.insert` many times, which has poor performance.  Consider joining all columns at once using pd.concat(axis=1) instead. To get a de-fragmented frame, use `newframe = frame.copy()`\n",
      "  portfolio_cumulative_returns[n] = (1 + sim_df.fillna(0)).cumprod()\n",
      "C:\\Users\\legar\\Desktop\\COMPUTER_SCIENCE\\05_FINANCIAL_SIMULATIONS_APIS\\PORTFOLIO_SIM_PROJECT\\MCForecastTools.py:117: PerformanceWarning: DataFrame is highly fragmented.  This is usually the result of calling `frame.insert` many times, which has poor performance.  Consider joining all columns at once using pd.concat(axis=1) instead. To get a de-fragmented frame, use `newframe = frame.copy()`\n",
      "  portfolio_cumulative_returns[n] = (1 + sim_df.fillna(0)).cumprod()\n",
      "C:\\Users\\legar\\Desktop\\COMPUTER_SCIENCE\\05_FINANCIAL_SIMULATIONS_APIS\\PORTFOLIO_SIM_PROJECT\\MCForecastTools.py:117: PerformanceWarning: DataFrame is highly fragmented.  This is usually the result of calling `frame.insert` many times, which has poor performance.  Consider joining all columns at once using pd.concat(axis=1) instead. To get a de-fragmented frame, use `newframe = frame.copy()`\n",
      "  portfolio_cumulative_returns[n] = (1 + sim_df.fillna(0)).cumprod()\n",
      "C:\\Users\\legar\\Desktop\\COMPUTER_SCIENCE\\05_FINANCIAL_SIMULATIONS_APIS\\PORTFOLIO_SIM_PROJECT\\MCForecastTools.py:117: PerformanceWarning: DataFrame is highly fragmented.  This is usually the result of calling `frame.insert` many times, which has poor performance.  Consider joining all columns at once using pd.concat(axis=1) instead. To get a de-fragmented frame, use `newframe = frame.copy()`\n",
      "  portfolio_cumulative_returns[n] = (1 + sim_df.fillna(0)).cumprod()\n",
      "C:\\Users\\legar\\Desktop\\COMPUTER_SCIENCE\\05_FINANCIAL_SIMULATIONS_APIS\\PORTFOLIO_SIM_PROJECT\\MCForecastTools.py:117: PerformanceWarning: DataFrame is highly fragmented.  This is usually the result of calling `frame.insert` many times, which has poor performance.  Consider joining all columns at once using pd.concat(axis=1) instead. To get a de-fragmented frame, use `newframe = frame.copy()`\n",
      "  portfolio_cumulative_returns[n] = (1 + sim_df.fillna(0)).cumprod()\n",
      "C:\\Users\\legar\\Desktop\\COMPUTER_SCIENCE\\05_FINANCIAL_SIMULATIONS_APIS\\PORTFOLIO_SIM_PROJECT\\MCForecastTools.py:117: PerformanceWarning: DataFrame is highly fragmented.  This is usually the result of calling `frame.insert` many times, which has poor performance.  Consider joining all columns at once using pd.concat(axis=1) instead. To get a de-fragmented frame, use `newframe = frame.copy()`\n",
      "  portfolio_cumulative_returns[n] = (1 + sim_df.fillna(0)).cumprod()\n",
      "C:\\Users\\legar\\Desktop\\COMPUTER_SCIENCE\\05_FINANCIAL_SIMULATIONS_APIS\\PORTFOLIO_SIM_PROJECT\\MCForecastTools.py:117: PerformanceWarning: DataFrame is highly fragmented.  This is usually the result of calling `frame.insert` many times, which has poor performance.  Consider joining all columns at once using pd.concat(axis=1) instead. To get a de-fragmented frame, use `newframe = frame.copy()`\n",
      "  portfolio_cumulative_returns[n] = (1 + sim_df.fillna(0)).cumprod()\n",
      "C:\\Users\\legar\\Desktop\\COMPUTER_SCIENCE\\05_FINANCIAL_SIMULATIONS_APIS\\PORTFOLIO_SIM_PROJECT\\MCForecastTools.py:117: PerformanceWarning: DataFrame is highly fragmented.  This is usually the result of calling `frame.insert` many times, which has poor performance.  Consider joining all columns at once using pd.concat(axis=1) instead. To get a de-fragmented frame, use `newframe = frame.copy()`\n",
      "  portfolio_cumulative_returns[n] = (1 + sim_df.fillna(0)).cumprod()\n",
      "C:\\Users\\legar\\Desktop\\COMPUTER_SCIENCE\\05_FINANCIAL_SIMULATIONS_APIS\\PORTFOLIO_SIM_PROJECT\\MCForecastTools.py:117: PerformanceWarning: DataFrame is highly fragmented.  This is usually the result of calling `frame.insert` many times, which has poor performance.  Consider joining all columns at once using pd.concat(axis=1) instead. To get a de-fragmented frame, use `newframe = frame.copy()`\n",
      "  portfolio_cumulative_returns[n] = (1 + sim_df.fillna(0)).cumprod()\n",
      "C:\\Users\\legar\\Desktop\\COMPUTER_SCIENCE\\05_FINANCIAL_SIMULATIONS_APIS\\PORTFOLIO_SIM_PROJECT\\MCForecastTools.py:117: PerformanceWarning: DataFrame is highly fragmented.  This is usually the result of calling `frame.insert` many times, which has poor performance.  Consider joining all columns at once using pd.concat(axis=1) instead. To get a de-fragmented frame, use `newframe = frame.copy()`\n",
      "  portfolio_cumulative_returns[n] = (1 + sim_df.fillna(0)).cumprod()\n"
     ]
    },
    {
     "name": "stdout",
     "output_type": "stream",
     "text": [
      "Running Monte Carlo simulation number 330.\n"
     ]
    },
    {
     "name": "stderr",
     "output_type": "stream",
     "text": [
      "C:\\Users\\legar\\Desktop\\COMPUTER_SCIENCE\\05_FINANCIAL_SIMULATIONS_APIS\\PORTFOLIO_SIM_PROJECT\\MCForecastTools.py:117: PerformanceWarning: DataFrame is highly fragmented.  This is usually the result of calling `frame.insert` many times, which has poor performance.  Consider joining all columns at once using pd.concat(axis=1) instead. To get a de-fragmented frame, use `newframe = frame.copy()`\n",
      "  portfolio_cumulative_returns[n] = (1 + sim_df.fillna(0)).cumprod()\n",
      "C:\\Users\\legar\\Desktop\\COMPUTER_SCIENCE\\05_FINANCIAL_SIMULATIONS_APIS\\PORTFOLIO_SIM_PROJECT\\MCForecastTools.py:117: PerformanceWarning: DataFrame is highly fragmented.  This is usually the result of calling `frame.insert` many times, which has poor performance.  Consider joining all columns at once using pd.concat(axis=1) instead. To get a de-fragmented frame, use `newframe = frame.copy()`\n",
      "  portfolio_cumulative_returns[n] = (1 + sim_df.fillna(0)).cumprod()\n",
      "C:\\Users\\legar\\Desktop\\COMPUTER_SCIENCE\\05_FINANCIAL_SIMULATIONS_APIS\\PORTFOLIO_SIM_PROJECT\\MCForecastTools.py:117: PerformanceWarning: DataFrame is highly fragmented.  This is usually the result of calling `frame.insert` many times, which has poor performance.  Consider joining all columns at once using pd.concat(axis=1) instead. To get a de-fragmented frame, use `newframe = frame.copy()`\n",
      "  portfolio_cumulative_returns[n] = (1 + sim_df.fillna(0)).cumprod()\n",
      "C:\\Users\\legar\\Desktop\\COMPUTER_SCIENCE\\05_FINANCIAL_SIMULATIONS_APIS\\PORTFOLIO_SIM_PROJECT\\MCForecastTools.py:117: PerformanceWarning: DataFrame is highly fragmented.  This is usually the result of calling `frame.insert` many times, which has poor performance.  Consider joining all columns at once using pd.concat(axis=1) instead. To get a de-fragmented frame, use `newframe = frame.copy()`\n",
      "  portfolio_cumulative_returns[n] = (1 + sim_df.fillna(0)).cumprod()\n",
      "C:\\Users\\legar\\Desktop\\COMPUTER_SCIENCE\\05_FINANCIAL_SIMULATIONS_APIS\\PORTFOLIO_SIM_PROJECT\\MCForecastTools.py:117: PerformanceWarning: DataFrame is highly fragmented.  This is usually the result of calling `frame.insert` many times, which has poor performance.  Consider joining all columns at once using pd.concat(axis=1) instead. To get a de-fragmented frame, use `newframe = frame.copy()`\n",
      "  portfolio_cumulative_returns[n] = (1 + sim_df.fillna(0)).cumprod()\n",
      "C:\\Users\\legar\\Desktop\\COMPUTER_SCIENCE\\05_FINANCIAL_SIMULATIONS_APIS\\PORTFOLIO_SIM_PROJECT\\MCForecastTools.py:117: PerformanceWarning: DataFrame is highly fragmented.  This is usually the result of calling `frame.insert` many times, which has poor performance.  Consider joining all columns at once using pd.concat(axis=1) instead. To get a de-fragmented frame, use `newframe = frame.copy()`\n",
      "  portfolio_cumulative_returns[n] = (1 + sim_df.fillna(0)).cumprod()\n",
      "C:\\Users\\legar\\Desktop\\COMPUTER_SCIENCE\\05_FINANCIAL_SIMULATIONS_APIS\\PORTFOLIO_SIM_PROJECT\\MCForecastTools.py:117: PerformanceWarning: DataFrame is highly fragmented.  This is usually the result of calling `frame.insert` many times, which has poor performance.  Consider joining all columns at once using pd.concat(axis=1) instead. To get a de-fragmented frame, use `newframe = frame.copy()`\n",
      "  portfolio_cumulative_returns[n] = (1 + sim_df.fillna(0)).cumprod()\n",
      "C:\\Users\\legar\\Desktop\\COMPUTER_SCIENCE\\05_FINANCIAL_SIMULATIONS_APIS\\PORTFOLIO_SIM_PROJECT\\MCForecastTools.py:117: PerformanceWarning: DataFrame is highly fragmented.  This is usually the result of calling `frame.insert` many times, which has poor performance.  Consider joining all columns at once using pd.concat(axis=1) instead. To get a de-fragmented frame, use `newframe = frame.copy()`\n",
      "  portfolio_cumulative_returns[n] = (1 + sim_df.fillna(0)).cumprod()\n",
      "C:\\Users\\legar\\Desktop\\COMPUTER_SCIENCE\\05_FINANCIAL_SIMULATIONS_APIS\\PORTFOLIO_SIM_PROJECT\\MCForecastTools.py:117: PerformanceWarning: DataFrame is highly fragmented.  This is usually the result of calling `frame.insert` many times, which has poor performance.  Consider joining all columns at once using pd.concat(axis=1) instead. To get a de-fragmented frame, use `newframe = frame.copy()`\n",
      "  portfolio_cumulative_returns[n] = (1 + sim_df.fillna(0)).cumprod()\n",
      "C:\\Users\\legar\\Desktop\\COMPUTER_SCIENCE\\05_FINANCIAL_SIMULATIONS_APIS\\PORTFOLIO_SIM_PROJECT\\MCForecastTools.py:117: PerformanceWarning: DataFrame is highly fragmented.  This is usually the result of calling `frame.insert` many times, which has poor performance.  Consider joining all columns at once using pd.concat(axis=1) instead. To get a de-fragmented frame, use `newframe = frame.copy()`\n",
      "  portfolio_cumulative_returns[n] = (1 + sim_df.fillna(0)).cumprod()\n",
      "C:\\Users\\legar\\Desktop\\COMPUTER_SCIENCE\\05_FINANCIAL_SIMULATIONS_APIS\\PORTFOLIO_SIM_PROJECT\\MCForecastTools.py:117: PerformanceWarning: DataFrame is highly fragmented.  This is usually the result of calling `frame.insert` many times, which has poor performance.  Consider joining all columns at once using pd.concat(axis=1) instead. To get a de-fragmented frame, use `newframe = frame.copy()`\n",
      "  portfolio_cumulative_returns[n] = (1 + sim_df.fillna(0)).cumprod()\n"
     ]
    },
    {
     "name": "stdout",
     "output_type": "stream",
     "text": [
      "Running Monte Carlo simulation number 340.\n"
     ]
    },
    {
     "name": "stderr",
     "output_type": "stream",
     "text": [
      "C:\\Users\\legar\\Desktop\\COMPUTER_SCIENCE\\05_FINANCIAL_SIMULATIONS_APIS\\PORTFOLIO_SIM_PROJECT\\MCForecastTools.py:117: PerformanceWarning: DataFrame is highly fragmented.  This is usually the result of calling `frame.insert` many times, which has poor performance.  Consider joining all columns at once using pd.concat(axis=1) instead. To get a de-fragmented frame, use `newframe = frame.copy()`\n",
      "  portfolio_cumulative_returns[n] = (1 + sim_df.fillna(0)).cumprod()\n",
      "C:\\Users\\legar\\Desktop\\COMPUTER_SCIENCE\\05_FINANCIAL_SIMULATIONS_APIS\\PORTFOLIO_SIM_PROJECT\\MCForecastTools.py:117: PerformanceWarning: DataFrame is highly fragmented.  This is usually the result of calling `frame.insert` many times, which has poor performance.  Consider joining all columns at once using pd.concat(axis=1) instead. To get a de-fragmented frame, use `newframe = frame.copy()`\n",
      "  portfolio_cumulative_returns[n] = (1 + sim_df.fillna(0)).cumprod()\n",
      "C:\\Users\\legar\\Desktop\\COMPUTER_SCIENCE\\05_FINANCIAL_SIMULATIONS_APIS\\PORTFOLIO_SIM_PROJECT\\MCForecastTools.py:117: PerformanceWarning: DataFrame is highly fragmented.  This is usually the result of calling `frame.insert` many times, which has poor performance.  Consider joining all columns at once using pd.concat(axis=1) instead. To get a de-fragmented frame, use `newframe = frame.copy()`\n",
      "  portfolio_cumulative_returns[n] = (1 + sim_df.fillna(0)).cumprod()\n",
      "C:\\Users\\legar\\Desktop\\COMPUTER_SCIENCE\\05_FINANCIAL_SIMULATIONS_APIS\\PORTFOLIO_SIM_PROJECT\\MCForecastTools.py:117: PerformanceWarning: DataFrame is highly fragmented.  This is usually the result of calling `frame.insert` many times, which has poor performance.  Consider joining all columns at once using pd.concat(axis=1) instead. To get a de-fragmented frame, use `newframe = frame.copy()`\n",
      "  portfolio_cumulative_returns[n] = (1 + sim_df.fillna(0)).cumprod()\n",
      "C:\\Users\\legar\\Desktop\\COMPUTER_SCIENCE\\05_FINANCIAL_SIMULATIONS_APIS\\PORTFOLIO_SIM_PROJECT\\MCForecastTools.py:117: PerformanceWarning: DataFrame is highly fragmented.  This is usually the result of calling `frame.insert` many times, which has poor performance.  Consider joining all columns at once using pd.concat(axis=1) instead. To get a de-fragmented frame, use `newframe = frame.copy()`\n",
      "  portfolio_cumulative_returns[n] = (1 + sim_df.fillna(0)).cumprod()\n",
      "C:\\Users\\legar\\Desktop\\COMPUTER_SCIENCE\\05_FINANCIAL_SIMULATIONS_APIS\\PORTFOLIO_SIM_PROJECT\\MCForecastTools.py:117: PerformanceWarning: DataFrame is highly fragmented.  This is usually the result of calling `frame.insert` many times, which has poor performance.  Consider joining all columns at once using pd.concat(axis=1) instead. To get a de-fragmented frame, use `newframe = frame.copy()`\n",
      "  portfolio_cumulative_returns[n] = (1 + sim_df.fillna(0)).cumprod()\n",
      "C:\\Users\\legar\\Desktop\\COMPUTER_SCIENCE\\05_FINANCIAL_SIMULATIONS_APIS\\PORTFOLIO_SIM_PROJECT\\MCForecastTools.py:117: PerformanceWarning: DataFrame is highly fragmented.  This is usually the result of calling `frame.insert` many times, which has poor performance.  Consider joining all columns at once using pd.concat(axis=1) instead. To get a de-fragmented frame, use `newframe = frame.copy()`\n",
      "  portfolio_cumulative_returns[n] = (1 + sim_df.fillna(0)).cumprod()\n",
      "C:\\Users\\legar\\Desktop\\COMPUTER_SCIENCE\\05_FINANCIAL_SIMULATIONS_APIS\\PORTFOLIO_SIM_PROJECT\\MCForecastTools.py:117: PerformanceWarning: DataFrame is highly fragmented.  This is usually the result of calling `frame.insert` many times, which has poor performance.  Consider joining all columns at once using pd.concat(axis=1) instead. To get a de-fragmented frame, use `newframe = frame.copy()`\n",
      "  portfolio_cumulative_returns[n] = (1 + sim_df.fillna(0)).cumprod()\n"
     ]
    },
    {
     "name": "stdout",
     "output_type": "stream",
     "text": [
      "Running Monte Carlo simulation number 350.\n"
     ]
    },
    {
     "name": "stderr",
     "output_type": "stream",
     "text": [
      "C:\\Users\\legar\\Desktop\\COMPUTER_SCIENCE\\05_FINANCIAL_SIMULATIONS_APIS\\PORTFOLIO_SIM_PROJECT\\MCForecastTools.py:117: PerformanceWarning: DataFrame is highly fragmented.  This is usually the result of calling `frame.insert` many times, which has poor performance.  Consider joining all columns at once using pd.concat(axis=1) instead. To get a de-fragmented frame, use `newframe = frame.copy()`\n",
      "  portfolio_cumulative_returns[n] = (1 + sim_df.fillna(0)).cumprod()\n",
      "C:\\Users\\legar\\Desktop\\COMPUTER_SCIENCE\\05_FINANCIAL_SIMULATIONS_APIS\\PORTFOLIO_SIM_PROJECT\\MCForecastTools.py:117: PerformanceWarning: DataFrame is highly fragmented.  This is usually the result of calling `frame.insert` many times, which has poor performance.  Consider joining all columns at once using pd.concat(axis=1) instead. To get a de-fragmented frame, use `newframe = frame.copy()`\n",
      "  portfolio_cumulative_returns[n] = (1 + sim_df.fillna(0)).cumprod()\n",
      "C:\\Users\\legar\\Desktop\\COMPUTER_SCIENCE\\05_FINANCIAL_SIMULATIONS_APIS\\PORTFOLIO_SIM_PROJECT\\MCForecastTools.py:117: PerformanceWarning: DataFrame is highly fragmented.  This is usually the result of calling `frame.insert` many times, which has poor performance.  Consider joining all columns at once using pd.concat(axis=1) instead. To get a de-fragmented frame, use `newframe = frame.copy()`\n",
      "  portfolio_cumulative_returns[n] = (1 + sim_df.fillna(0)).cumprod()\n",
      "C:\\Users\\legar\\Desktop\\COMPUTER_SCIENCE\\05_FINANCIAL_SIMULATIONS_APIS\\PORTFOLIO_SIM_PROJECT\\MCForecastTools.py:117: PerformanceWarning: DataFrame is highly fragmented.  This is usually the result of calling `frame.insert` many times, which has poor performance.  Consider joining all columns at once using pd.concat(axis=1) instead. To get a de-fragmented frame, use `newframe = frame.copy()`\n",
      "  portfolio_cumulative_returns[n] = (1 + sim_df.fillna(0)).cumprod()\n",
      "C:\\Users\\legar\\Desktop\\COMPUTER_SCIENCE\\05_FINANCIAL_SIMULATIONS_APIS\\PORTFOLIO_SIM_PROJECT\\MCForecastTools.py:117: PerformanceWarning: DataFrame is highly fragmented.  This is usually the result of calling `frame.insert` many times, which has poor performance.  Consider joining all columns at once using pd.concat(axis=1) instead. To get a de-fragmented frame, use `newframe = frame.copy()`\n",
      "  portfolio_cumulative_returns[n] = (1 + sim_df.fillna(0)).cumprod()\n",
      "C:\\Users\\legar\\Desktop\\COMPUTER_SCIENCE\\05_FINANCIAL_SIMULATIONS_APIS\\PORTFOLIO_SIM_PROJECT\\MCForecastTools.py:117: PerformanceWarning: DataFrame is highly fragmented.  This is usually the result of calling `frame.insert` many times, which has poor performance.  Consider joining all columns at once using pd.concat(axis=1) instead. To get a de-fragmented frame, use `newframe = frame.copy()`\n",
      "  portfolio_cumulative_returns[n] = (1 + sim_df.fillna(0)).cumprod()\n",
      "C:\\Users\\legar\\Desktop\\COMPUTER_SCIENCE\\05_FINANCIAL_SIMULATIONS_APIS\\PORTFOLIO_SIM_PROJECT\\MCForecastTools.py:117: PerformanceWarning: DataFrame is highly fragmented.  This is usually the result of calling `frame.insert` many times, which has poor performance.  Consider joining all columns at once using pd.concat(axis=1) instead. To get a de-fragmented frame, use `newframe = frame.copy()`\n",
      "  portfolio_cumulative_returns[n] = (1 + sim_df.fillna(0)).cumprod()\n",
      "C:\\Users\\legar\\Desktop\\COMPUTER_SCIENCE\\05_FINANCIAL_SIMULATIONS_APIS\\PORTFOLIO_SIM_PROJECT\\MCForecastTools.py:117: PerformanceWarning: DataFrame is highly fragmented.  This is usually the result of calling `frame.insert` many times, which has poor performance.  Consider joining all columns at once using pd.concat(axis=1) instead. To get a de-fragmented frame, use `newframe = frame.copy()`\n",
      "  portfolio_cumulative_returns[n] = (1 + sim_df.fillna(0)).cumprod()\n",
      "C:\\Users\\legar\\Desktop\\COMPUTER_SCIENCE\\05_FINANCIAL_SIMULATIONS_APIS\\PORTFOLIO_SIM_PROJECT\\MCForecastTools.py:117: PerformanceWarning: DataFrame is highly fragmented.  This is usually the result of calling `frame.insert` many times, which has poor performance.  Consider joining all columns at once using pd.concat(axis=1) instead. To get a de-fragmented frame, use `newframe = frame.copy()`\n",
      "  portfolio_cumulative_returns[n] = (1 + sim_df.fillna(0)).cumprod()\n",
      "C:\\Users\\legar\\Desktop\\COMPUTER_SCIENCE\\05_FINANCIAL_SIMULATIONS_APIS\\PORTFOLIO_SIM_PROJECT\\MCForecastTools.py:117: PerformanceWarning: DataFrame is highly fragmented.  This is usually the result of calling `frame.insert` many times, which has poor performance.  Consider joining all columns at once using pd.concat(axis=1) instead. To get a de-fragmented frame, use `newframe = frame.copy()`\n",
      "  portfolio_cumulative_returns[n] = (1 + sim_df.fillna(0)).cumprod()\n",
      "C:\\Users\\legar\\Desktop\\COMPUTER_SCIENCE\\05_FINANCIAL_SIMULATIONS_APIS\\PORTFOLIO_SIM_PROJECT\\MCForecastTools.py:117: PerformanceWarning: DataFrame is highly fragmented.  This is usually the result of calling `frame.insert` many times, which has poor performance.  Consider joining all columns at once using pd.concat(axis=1) instead. To get a de-fragmented frame, use `newframe = frame.copy()`\n",
      "  portfolio_cumulative_returns[n] = (1 + sim_df.fillna(0)).cumprod()\n",
      "C:\\Users\\legar\\Desktop\\COMPUTER_SCIENCE\\05_FINANCIAL_SIMULATIONS_APIS\\PORTFOLIO_SIM_PROJECT\\MCForecastTools.py:117: PerformanceWarning: DataFrame is highly fragmented.  This is usually the result of calling `frame.insert` many times, which has poor performance.  Consider joining all columns at once using pd.concat(axis=1) instead. To get a de-fragmented frame, use `newframe = frame.copy()`\n",
      "  portfolio_cumulative_returns[n] = (1 + sim_df.fillna(0)).cumprod()\n"
     ]
    },
    {
     "name": "stdout",
     "output_type": "stream",
     "text": [
      "Running Monte Carlo simulation number 360.\n"
     ]
    },
    {
     "name": "stderr",
     "output_type": "stream",
     "text": [
      "C:\\Users\\legar\\Desktop\\COMPUTER_SCIENCE\\05_FINANCIAL_SIMULATIONS_APIS\\PORTFOLIO_SIM_PROJECT\\MCForecastTools.py:117: PerformanceWarning: DataFrame is highly fragmented.  This is usually the result of calling `frame.insert` many times, which has poor performance.  Consider joining all columns at once using pd.concat(axis=1) instead. To get a de-fragmented frame, use `newframe = frame.copy()`\n",
      "  portfolio_cumulative_returns[n] = (1 + sim_df.fillna(0)).cumprod()\n",
      "C:\\Users\\legar\\Desktop\\COMPUTER_SCIENCE\\05_FINANCIAL_SIMULATIONS_APIS\\PORTFOLIO_SIM_PROJECT\\MCForecastTools.py:117: PerformanceWarning: DataFrame is highly fragmented.  This is usually the result of calling `frame.insert` many times, which has poor performance.  Consider joining all columns at once using pd.concat(axis=1) instead. To get a de-fragmented frame, use `newframe = frame.copy()`\n",
      "  portfolio_cumulative_returns[n] = (1 + sim_df.fillna(0)).cumprod()\n",
      "C:\\Users\\legar\\Desktop\\COMPUTER_SCIENCE\\05_FINANCIAL_SIMULATIONS_APIS\\PORTFOLIO_SIM_PROJECT\\MCForecastTools.py:117: PerformanceWarning: DataFrame is highly fragmented.  This is usually the result of calling `frame.insert` many times, which has poor performance.  Consider joining all columns at once using pd.concat(axis=1) instead. To get a de-fragmented frame, use `newframe = frame.copy()`\n",
      "  portfolio_cumulative_returns[n] = (1 + sim_df.fillna(0)).cumprod()\n",
      "C:\\Users\\legar\\Desktop\\COMPUTER_SCIENCE\\05_FINANCIAL_SIMULATIONS_APIS\\PORTFOLIO_SIM_PROJECT\\MCForecastTools.py:117: PerformanceWarning: DataFrame is highly fragmented.  This is usually the result of calling `frame.insert` many times, which has poor performance.  Consider joining all columns at once using pd.concat(axis=1) instead. To get a de-fragmented frame, use `newframe = frame.copy()`\n",
      "  portfolio_cumulative_returns[n] = (1 + sim_df.fillna(0)).cumprod()\n",
      "C:\\Users\\legar\\Desktop\\COMPUTER_SCIENCE\\05_FINANCIAL_SIMULATIONS_APIS\\PORTFOLIO_SIM_PROJECT\\MCForecastTools.py:117: PerformanceWarning: DataFrame is highly fragmented.  This is usually the result of calling `frame.insert` many times, which has poor performance.  Consider joining all columns at once using pd.concat(axis=1) instead. To get a de-fragmented frame, use `newframe = frame.copy()`\n",
      "  portfolio_cumulative_returns[n] = (1 + sim_df.fillna(0)).cumprod()\n",
      "C:\\Users\\legar\\Desktop\\COMPUTER_SCIENCE\\05_FINANCIAL_SIMULATIONS_APIS\\PORTFOLIO_SIM_PROJECT\\MCForecastTools.py:117: PerformanceWarning: DataFrame is highly fragmented.  This is usually the result of calling `frame.insert` many times, which has poor performance.  Consider joining all columns at once using pd.concat(axis=1) instead. To get a de-fragmented frame, use `newframe = frame.copy()`\n",
      "  portfolio_cumulative_returns[n] = (1 + sim_df.fillna(0)).cumprod()\n",
      "C:\\Users\\legar\\Desktop\\COMPUTER_SCIENCE\\05_FINANCIAL_SIMULATIONS_APIS\\PORTFOLIO_SIM_PROJECT\\MCForecastTools.py:117: PerformanceWarning: DataFrame is highly fragmented.  This is usually the result of calling `frame.insert` many times, which has poor performance.  Consider joining all columns at once using pd.concat(axis=1) instead. To get a de-fragmented frame, use `newframe = frame.copy()`\n",
      "  portfolio_cumulative_returns[n] = (1 + sim_df.fillna(0)).cumprod()\n",
      "C:\\Users\\legar\\Desktop\\COMPUTER_SCIENCE\\05_FINANCIAL_SIMULATIONS_APIS\\PORTFOLIO_SIM_PROJECT\\MCForecastTools.py:117: PerformanceWarning: DataFrame is highly fragmented.  This is usually the result of calling `frame.insert` many times, which has poor performance.  Consider joining all columns at once using pd.concat(axis=1) instead. To get a de-fragmented frame, use `newframe = frame.copy()`\n",
      "  portfolio_cumulative_returns[n] = (1 + sim_df.fillna(0)).cumprod()\n"
     ]
    },
    {
     "name": "stdout",
     "output_type": "stream",
     "text": [
      "Running Monte Carlo simulation number 370.\n"
     ]
    },
    {
     "name": "stderr",
     "output_type": "stream",
     "text": [
      "C:\\Users\\legar\\Desktop\\COMPUTER_SCIENCE\\05_FINANCIAL_SIMULATIONS_APIS\\PORTFOLIO_SIM_PROJECT\\MCForecastTools.py:117: PerformanceWarning: DataFrame is highly fragmented.  This is usually the result of calling `frame.insert` many times, which has poor performance.  Consider joining all columns at once using pd.concat(axis=1) instead. To get a de-fragmented frame, use `newframe = frame.copy()`\n",
      "  portfolio_cumulative_returns[n] = (1 + sim_df.fillna(0)).cumprod()\n",
      "C:\\Users\\legar\\Desktop\\COMPUTER_SCIENCE\\05_FINANCIAL_SIMULATIONS_APIS\\PORTFOLIO_SIM_PROJECT\\MCForecastTools.py:117: PerformanceWarning: DataFrame is highly fragmented.  This is usually the result of calling `frame.insert` many times, which has poor performance.  Consider joining all columns at once using pd.concat(axis=1) instead. To get a de-fragmented frame, use `newframe = frame.copy()`\n",
      "  portfolio_cumulative_returns[n] = (1 + sim_df.fillna(0)).cumprod()\n",
      "C:\\Users\\legar\\Desktop\\COMPUTER_SCIENCE\\05_FINANCIAL_SIMULATIONS_APIS\\PORTFOLIO_SIM_PROJECT\\MCForecastTools.py:117: PerformanceWarning: DataFrame is highly fragmented.  This is usually the result of calling `frame.insert` many times, which has poor performance.  Consider joining all columns at once using pd.concat(axis=1) instead. To get a de-fragmented frame, use `newframe = frame.copy()`\n",
      "  portfolio_cumulative_returns[n] = (1 + sim_df.fillna(0)).cumprod()\n",
      "C:\\Users\\legar\\Desktop\\COMPUTER_SCIENCE\\05_FINANCIAL_SIMULATIONS_APIS\\PORTFOLIO_SIM_PROJECT\\MCForecastTools.py:117: PerformanceWarning: DataFrame is highly fragmented.  This is usually the result of calling `frame.insert` many times, which has poor performance.  Consider joining all columns at once using pd.concat(axis=1) instead. To get a de-fragmented frame, use `newframe = frame.copy()`\n",
      "  portfolio_cumulative_returns[n] = (1 + sim_df.fillna(0)).cumprod()\n",
      "C:\\Users\\legar\\Desktop\\COMPUTER_SCIENCE\\05_FINANCIAL_SIMULATIONS_APIS\\PORTFOLIO_SIM_PROJECT\\MCForecastTools.py:117: PerformanceWarning: DataFrame is highly fragmented.  This is usually the result of calling `frame.insert` many times, which has poor performance.  Consider joining all columns at once using pd.concat(axis=1) instead. To get a de-fragmented frame, use `newframe = frame.copy()`\n",
      "  portfolio_cumulative_returns[n] = (1 + sim_df.fillna(0)).cumprod()\n",
      "C:\\Users\\legar\\Desktop\\COMPUTER_SCIENCE\\05_FINANCIAL_SIMULATIONS_APIS\\PORTFOLIO_SIM_PROJECT\\MCForecastTools.py:117: PerformanceWarning: DataFrame is highly fragmented.  This is usually the result of calling `frame.insert` many times, which has poor performance.  Consider joining all columns at once using pd.concat(axis=1) instead. To get a de-fragmented frame, use `newframe = frame.copy()`\n",
      "  portfolio_cumulative_returns[n] = (1 + sim_df.fillna(0)).cumprod()\n",
      "C:\\Users\\legar\\Desktop\\COMPUTER_SCIENCE\\05_FINANCIAL_SIMULATIONS_APIS\\PORTFOLIO_SIM_PROJECT\\MCForecastTools.py:117: PerformanceWarning: DataFrame is highly fragmented.  This is usually the result of calling `frame.insert` many times, which has poor performance.  Consider joining all columns at once using pd.concat(axis=1) instead. To get a de-fragmented frame, use `newframe = frame.copy()`\n",
      "  portfolio_cumulative_returns[n] = (1 + sim_df.fillna(0)).cumprod()\n",
      "C:\\Users\\legar\\Desktop\\COMPUTER_SCIENCE\\05_FINANCIAL_SIMULATIONS_APIS\\PORTFOLIO_SIM_PROJECT\\MCForecastTools.py:117: PerformanceWarning: DataFrame is highly fragmented.  This is usually the result of calling `frame.insert` many times, which has poor performance.  Consider joining all columns at once using pd.concat(axis=1) instead. To get a de-fragmented frame, use `newframe = frame.copy()`\n",
      "  portfolio_cumulative_returns[n] = (1 + sim_df.fillna(0)).cumprod()\n",
      "C:\\Users\\legar\\Desktop\\COMPUTER_SCIENCE\\05_FINANCIAL_SIMULATIONS_APIS\\PORTFOLIO_SIM_PROJECT\\MCForecastTools.py:117: PerformanceWarning: DataFrame is highly fragmented.  This is usually the result of calling `frame.insert` many times, which has poor performance.  Consider joining all columns at once using pd.concat(axis=1) instead. To get a de-fragmented frame, use `newframe = frame.copy()`\n",
      "  portfolio_cumulative_returns[n] = (1 + sim_df.fillna(0)).cumprod()\n",
      "C:\\Users\\legar\\Desktop\\COMPUTER_SCIENCE\\05_FINANCIAL_SIMULATIONS_APIS\\PORTFOLIO_SIM_PROJECT\\MCForecastTools.py:117: PerformanceWarning: DataFrame is highly fragmented.  This is usually the result of calling `frame.insert` many times, which has poor performance.  Consider joining all columns at once using pd.concat(axis=1) instead. To get a de-fragmented frame, use `newframe = frame.copy()`\n",
      "  portfolio_cumulative_returns[n] = (1 + sim_df.fillna(0)).cumprod()\n",
      "C:\\Users\\legar\\Desktop\\COMPUTER_SCIENCE\\05_FINANCIAL_SIMULATIONS_APIS\\PORTFOLIO_SIM_PROJECT\\MCForecastTools.py:117: PerformanceWarning: DataFrame is highly fragmented.  This is usually the result of calling `frame.insert` many times, which has poor performance.  Consider joining all columns at once using pd.concat(axis=1) instead. To get a de-fragmented frame, use `newframe = frame.copy()`\n",
      "  portfolio_cumulative_returns[n] = (1 + sim_df.fillna(0)).cumprod()\n"
     ]
    },
    {
     "name": "stdout",
     "output_type": "stream",
     "text": [
      "Running Monte Carlo simulation number 380.\n"
     ]
    },
    {
     "name": "stderr",
     "output_type": "stream",
     "text": [
      "C:\\Users\\legar\\Desktop\\COMPUTER_SCIENCE\\05_FINANCIAL_SIMULATIONS_APIS\\PORTFOLIO_SIM_PROJECT\\MCForecastTools.py:117: PerformanceWarning: DataFrame is highly fragmented.  This is usually the result of calling `frame.insert` many times, which has poor performance.  Consider joining all columns at once using pd.concat(axis=1) instead. To get a de-fragmented frame, use `newframe = frame.copy()`\n",
      "  portfolio_cumulative_returns[n] = (1 + sim_df.fillna(0)).cumprod()\n",
      "C:\\Users\\legar\\Desktop\\COMPUTER_SCIENCE\\05_FINANCIAL_SIMULATIONS_APIS\\PORTFOLIO_SIM_PROJECT\\MCForecastTools.py:117: PerformanceWarning: DataFrame is highly fragmented.  This is usually the result of calling `frame.insert` many times, which has poor performance.  Consider joining all columns at once using pd.concat(axis=1) instead. To get a de-fragmented frame, use `newframe = frame.copy()`\n",
      "  portfolio_cumulative_returns[n] = (1 + sim_df.fillna(0)).cumprod()\n",
      "C:\\Users\\legar\\Desktop\\COMPUTER_SCIENCE\\05_FINANCIAL_SIMULATIONS_APIS\\PORTFOLIO_SIM_PROJECT\\MCForecastTools.py:117: PerformanceWarning: DataFrame is highly fragmented.  This is usually the result of calling `frame.insert` many times, which has poor performance.  Consider joining all columns at once using pd.concat(axis=1) instead. To get a de-fragmented frame, use `newframe = frame.copy()`\n",
      "  portfolio_cumulative_returns[n] = (1 + sim_df.fillna(0)).cumprod()\n",
      "C:\\Users\\legar\\Desktop\\COMPUTER_SCIENCE\\05_FINANCIAL_SIMULATIONS_APIS\\PORTFOLIO_SIM_PROJECT\\MCForecastTools.py:117: PerformanceWarning: DataFrame is highly fragmented.  This is usually the result of calling `frame.insert` many times, which has poor performance.  Consider joining all columns at once using pd.concat(axis=1) instead. To get a de-fragmented frame, use `newframe = frame.copy()`\n",
      "  portfolio_cumulative_returns[n] = (1 + sim_df.fillna(0)).cumprod()\n",
      "C:\\Users\\legar\\Desktop\\COMPUTER_SCIENCE\\05_FINANCIAL_SIMULATIONS_APIS\\PORTFOLIO_SIM_PROJECT\\MCForecastTools.py:117: PerformanceWarning: DataFrame is highly fragmented.  This is usually the result of calling `frame.insert` many times, which has poor performance.  Consider joining all columns at once using pd.concat(axis=1) instead. To get a de-fragmented frame, use `newframe = frame.copy()`\n",
      "  portfolio_cumulative_returns[n] = (1 + sim_df.fillna(0)).cumprod()\n",
      "C:\\Users\\legar\\Desktop\\COMPUTER_SCIENCE\\05_FINANCIAL_SIMULATIONS_APIS\\PORTFOLIO_SIM_PROJECT\\MCForecastTools.py:117: PerformanceWarning: DataFrame is highly fragmented.  This is usually the result of calling `frame.insert` many times, which has poor performance.  Consider joining all columns at once using pd.concat(axis=1) instead. To get a de-fragmented frame, use `newframe = frame.copy()`\n",
      "  portfolio_cumulative_returns[n] = (1 + sim_df.fillna(0)).cumprod()\n",
      "C:\\Users\\legar\\Desktop\\COMPUTER_SCIENCE\\05_FINANCIAL_SIMULATIONS_APIS\\PORTFOLIO_SIM_PROJECT\\MCForecastTools.py:117: PerformanceWarning: DataFrame is highly fragmented.  This is usually the result of calling `frame.insert` many times, which has poor performance.  Consider joining all columns at once using pd.concat(axis=1) instead. To get a de-fragmented frame, use `newframe = frame.copy()`\n",
      "  portfolio_cumulative_returns[n] = (1 + sim_df.fillna(0)).cumprod()\n",
      "C:\\Users\\legar\\Desktop\\COMPUTER_SCIENCE\\05_FINANCIAL_SIMULATIONS_APIS\\PORTFOLIO_SIM_PROJECT\\MCForecastTools.py:117: PerformanceWarning: DataFrame is highly fragmented.  This is usually the result of calling `frame.insert` many times, which has poor performance.  Consider joining all columns at once using pd.concat(axis=1) instead. To get a de-fragmented frame, use `newframe = frame.copy()`\n",
      "  portfolio_cumulative_returns[n] = (1 + sim_df.fillna(0)).cumprod()\n"
     ]
    },
    {
     "name": "stdout",
     "output_type": "stream",
     "text": [
      "Running Monte Carlo simulation number 390.\n"
     ]
    },
    {
     "name": "stderr",
     "output_type": "stream",
     "text": [
      "C:\\Users\\legar\\Desktop\\COMPUTER_SCIENCE\\05_FINANCIAL_SIMULATIONS_APIS\\PORTFOLIO_SIM_PROJECT\\MCForecastTools.py:117: PerformanceWarning: DataFrame is highly fragmented.  This is usually the result of calling `frame.insert` many times, which has poor performance.  Consider joining all columns at once using pd.concat(axis=1) instead. To get a de-fragmented frame, use `newframe = frame.copy()`\n",
      "  portfolio_cumulative_returns[n] = (1 + sim_df.fillna(0)).cumprod()\n",
      "C:\\Users\\legar\\Desktop\\COMPUTER_SCIENCE\\05_FINANCIAL_SIMULATIONS_APIS\\PORTFOLIO_SIM_PROJECT\\MCForecastTools.py:117: PerformanceWarning: DataFrame is highly fragmented.  This is usually the result of calling `frame.insert` many times, which has poor performance.  Consider joining all columns at once using pd.concat(axis=1) instead. To get a de-fragmented frame, use `newframe = frame.copy()`\n",
      "  portfolio_cumulative_returns[n] = (1 + sim_df.fillna(0)).cumprod()\n",
      "C:\\Users\\legar\\Desktop\\COMPUTER_SCIENCE\\05_FINANCIAL_SIMULATIONS_APIS\\PORTFOLIO_SIM_PROJECT\\MCForecastTools.py:117: PerformanceWarning: DataFrame is highly fragmented.  This is usually the result of calling `frame.insert` many times, which has poor performance.  Consider joining all columns at once using pd.concat(axis=1) instead. To get a de-fragmented frame, use `newframe = frame.copy()`\n",
      "  portfolio_cumulative_returns[n] = (1 + sim_df.fillna(0)).cumprod()\n",
      "C:\\Users\\legar\\Desktop\\COMPUTER_SCIENCE\\05_FINANCIAL_SIMULATIONS_APIS\\PORTFOLIO_SIM_PROJECT\\MCForecastTools.py:117: PerformanceWarning: DataFrame is highly fragmented.  This is usually the result of calling `frame.insert` many times, which has poor performance.  Consider joining all columns at once using pd.concat(axis=1) instead. To get a de-fragmented frame, use `newframe = frame.copy()`\n",
      "  portfolio_cumulative_returns[n] = (1 + sim_df.fillna(0)).cumprod()\n",
      "C:\\Users\\legar\\Desktop\\COMPUTER_SCIENCE\\05_FINANCIAL_SIMULATIONS_APIS\\PORTFOLIO_SIM_PROJECT\\MCForecastTools.py:117: PerformanceWarning: DataFrame is highly fragmented.  This is usually the result of calling `frame.insert` many times, which has poor performance.  Consider joining all columns at once using pd.concat(axis=1) instead. To get a de-fragmented frame, use `newframe = frame.copy()`\n",
      "  portfolio_cumulative_returns[n] = (1 + sim_df.fillna(0)).cumprod()\n",
      "C:\\Users\\legar\\Desktop\\COMPUTER_SCIENCE\\05_FINANCIAL_SIMULATIONS_APIS\\PORTFOLIO_SIM_PROJECT\\MCForecastTools.py:117: PerformanceWarning: DataFrame is highly fragmented.  This is usually the result of calling `frame.insert` many times, which has poor performance.  Consider joining all columns at once using pd.concat(axis=1) instead. To get a de-fragmented frame, use `newframe = frame.copy()`\n",
      "  portfolio_cumulative_returns[n] = (1 + sim_df.fillna(0)).cumprod()\n",
      "C:\\Users\\legar\\Desktop\\COMPUTER_SCIENCE\\05_FINANCIAL_SIMULATIONS_APIS\\PORTFOLIO_SIM_PROJECT\\MCForecastTools.py:117: PerformanceWarning: DataFrame is highly fragmented.  This is usually the result of calling `frame.insert` many times, which has poor performance.  Consider joining all columns at once using pd.concat(axis=1) instead. To get a de-fragmented frame, use `newframe = frame.copy()`\n",
      "  portfolio_cumulative_returns[n] = (1 + sim_df.fillna(0)).cumprod()\n",
      "C:\\Users\\legar\\Desktop\\COMPUTER_SCIENCE\\05_FINANCIAL_SIMULATIONS_APIS\\PORTFOLIO_SIM_PROJECT\\MCForecastTools.py:117: PerformanceWarning: DataFrame is highly fragmented.  This is usually the result of calling `frame.insert` many times, which has poor performance.  Consider joining all columns at once using pd.concat(axis=1) instead. To get a de-fragmented frame, use `newframe = frame.copy()`\n",
      "  portfolio_cumulative_returns[n] = (1 + sim_df.fillna(0)).cumprod()\n",
      "C:\\Users\\legar\\Desktop\\COMPUTER_SCIENCE\\05_FINANCIAL_SIMULATIONS_APIS\\PORTFOLIO_SIM_PROJECT\\MCForecastTools.py:117: PerformanceWarning: DataFrame is highly fragmented.  This is usually the result of calling `frame.insert` many times, which has poor performance.  Consider joining all columns at once using pd.concat(axis=1) instead. To get a de-fragmented frame, use `newframe = frame.copy()`\n",
      "  portfolio_cumulative_returns[n] = (1 + sim_df.fillna(0)).cumprod()\n",
      "C:\\Users\\legar\\Desktop\\COMPUTER_SCIENCE\\05_FINANCIAL_SIMULATIONS_APIS\\PORTFOLIO_SIM_PROJECT\\MCForecastTools.py:117: PerformanceWarning: DataFrame is highly fragmented.  This is usually the result of calling `frame.insert` many times, which has poor performance.  Consider joining all columns at once using pd.concat(axis=1) instead. To get a de-fragmented frame, use `newframe = frame.copy()`\n",
      "  portfolio_cumulative_returns[n] = (1 + sim_df.fillna(0)).cumprod()\n",
      "C:\\Users\\legar\\Desktop\\COMPUTER_SCIENCE\\05_FINANCIAL_SIMULATIONS_APIS\\PORTFOLIO_SIM_PROJECT\\MCForecastTools.py:117: PerformanceWarning: DataFrame is highly fragmented.  This is usually the result of calling `frame.insert` many times, which has poor performance.  Consider joining all columns at once using pd.concat(axis=1) instead. To get a de-fragmented frame, use `newframe = frame.copy()`\n",
      "  portfolio_cumulative_returns[n] = (1 + sim_df.fillna(0)).cumprod()\n"
     ]
    },
    {
     "name": "stdout",
     "output_type": "stream",
     "text": [
      "Running Monte Carlo simulation number 400.\n"
     ]
    },
    {
     "name": "stderr",
     "output_type": "stream",
     "text": [
      "C:\\Users\\legar\\Desktop\\COMPUTER_SCIENCE\\05_FINANCIAL_SIMULATIONS_APIS\\PORTFOLIO_SIM_PROJECT\\MCForecastTools.py:117: PerformanceWarning: DataFrame is highly fragmented.  This is usually the result of calling `frame.insert` many times, which has poor performance.  Consider joining all columns at once using pd.concat(axis=1) instead. To get a de-fragmented frame, use `newframe = frame.copy()`\n",
      "  portfolio_cumulative_returns[n] = (1 + sim_df.fillna(0)).cumprod()\n",
      "C:\\Users\\legar\\Desktop\\COMPUTER_SCIENCE\\05_FINANCIAL_SIMULATIONS_APIS\\PORTFOLIO_SIM_PROJECT\\MCForecastTools.py:117: PerformanceWarning: DataFrame is highly fragmented.  This is usually the result of calling `frame.insert` many times, which has poor performance.  Consider joining all columns at once using pd.concat(axis=1) instead. To get a de-fragmented frame, use `newframe = frame.copy()`\n",
      "  portfolio_cumulative_returns[n] = (1 + sim_df.fillna(0)).cumprod()\n",
      "C:\\Users\\legar\\Desktop\\COMPUTER_SCIENCE\\05_FINANCIAL_SIMULATIONS_APIS\\PORTFOLIO_SIM_PROJECT\\MCForecastTools.py:117: PerformanceWarning: DataFrame is highly fragmented.  This is usually the result of calling `frame.insert` many times, which has poor performance.  Consider joining all columns at once using pd.concat(axis=1) instead. To get a de-fragmented frame, use `newframe = frame.copy()`\n",
      "  portfolio_cumulative_returns[n] = (1 + sim_df.fillna(0)).cumprod()\n",
      "C:\\Users\\legar\\Desktop\\COMPUTER_SCIENCE\\05_FINANCIAL_SIMULATIONS_APIS\\PORTFOLIO_SIM_PROJECT\\MCForecastTools.py:117: PerformanceWarning: DataFrame is highly fragmented.  This is usually the result of calling `frame.insert` many times, which has poor performance.  Consider joining all columns at once using pd.concat(axis=1) instead. To get a de-fragmented frame, use `newframe = frame.copy()`\n",
      "  portfolio_cumulative_returns[n] = (1 + sim_df.fillna(0)).cumprod()\n",
      "C:\\Users\\legar\\Desktop\\COMPUTER_SCIENCE\\05_FINANCIAL_SIMULATIONS_APIS\\PORTFOLIO_SIM_PROJECT\\MCForecastTools.py:117: PerformanceWarning: DataFrame is highly fragmented.  This is usually the result of calling `frame.insert` many times, which has poor performance.  Consider joining all columns at once using pd.concat(axis=1) instead. To get a de-fragmented frame, use `newframe = frame.copy()`\n",
      "  portfolio_cumulative_returns[n] = (1 + sim_df.fillna(0)).cumprod()\n",
      "C:\\Users\\legar\\Desktop\\COMPUTER_SCIENCE\\05_FINANCIAL_SIMULATIONS_APIS\\PORTFOLIO_SIM_PROJECT\\MCForecastTools.py:117: PerformanceWarning: DataFrame is highly fragmented.  This is usually the result of calling `frame.insert` many times, which has poor performance.  Consider joining all columns at once using pd.concat(axis=1) instead. To get a de-fragmented frame, use `newframe = frame.copy()`\n",
      "  portfolio_cumulative_returns[n] = (1 + sim_df.fillna(0)).cumprod()\n",
      "C:\\Users\\legar\\Desktop\\COMPUTER_SCIENCE\\05_FINANCIAL_SIMULATIONS_APIS\\PORTFOLIO_SIM_PROJECT\\MCForecastTools.py:117: PerformanceWarning: DataFrame is highly fragmented.  This is usually the result of calling `frame.insert` many times, which has poor performance.  Consider joining all columns at once using pd.concat(axis=1) instead. To get a de-fragmented frame, use `newframe = frame.copy()`\n",
      "  portfolio_cumulative_returns[n] = (1 + sim_df.fillna(0)).cumprod()\n",
      "C:\\Users\\legar\\Desktop\\COMPUTER_SCIENCE\\05_FINANCIAL_SIMULATIONS_APIS\\PORTFOLIO_SIM_PROJECT\\MCForecastTools.py:117: PerformanceWarning: DataFrame is highly fragmented.  This is usually the result of calling `frame.insert` many times, which has poor performance.  Consider joining all columns at once using pd.concat(axis=1) instead. To get a de-fragmented frame, use `newframe = frame.copy()`\n",
      "  portfolio_cumulative_returns[n] = (1 + sim_df.fillna(0)).cumprod()\n",
      "C:\\Users\\legar\\Desktop\\COMPUTER_SCIENCE\\05_FINANCIAL_SIMULATIONS_APIS\\PORTFOLIO_SIM_PROJECT\\MCForecastTools.py:117: PerformanceWarning: DataFrame is highly fragmented.  This is usually the result of calling `frame.insert` many times, which has poor performance.  Consider joining all columns at once using pd.concat(axis=1) instead. To get a de-fragmented frame, use `newframe = frame.copy()`\n",
      "  portfolio_cumulative_returns[n] = (1 + sim_df.fillna(0)).cumprod()\n",
      "C:\\Users\\legar\\Desktop\\COMPUTER_SCIENCE\\05_FINANCIAL_SIMULATIONS_APIS\\PORTFOLIO_SIM_PROJECT\\MCForecastTools.py:117: PerformanceWarning: DataFrame is highly fragmented.  This is usually the result of calling `frame.insert` many times, which has poor performance.  Consider joining all columns at once using pd.concat(axis=1) instead. To get a de-fragmented frame, use `newframe = frame.copy()`\n",
      "  portfolio_cumulative_returns[n] = (1 + sim_df.fillna(0)).cumprod()\n"
     ]
    },
    {
     "name": "stdout",
     "output_type": "stream",
     "text": [
      "Running Monte Carlo simulation number 410.\n"
     ]
    },
    {
     "name": "stderr",
     "output_type": "stream",
     "text": [
      "C:\\Users\\legar\\Desktop\\COMPUTER_SCIENCE\\05_FINANCIAL_SIMULATIONS_APIS\\PORTFOLIO_SIM_PROJECT\\MCForecastTools.py:117: PerformanceWarning: DataFrame is highly fragmented.  This is usually the result of calling `frame.insert` many times, which has poor performance.  Consider joining all columns at once using pd.concat(axis=1) instead. To get a de-fragmented frame, use `newframe = frame.copy()`\n",
      "  portfolio_cumulative_returns[n] = (1 + sim_df.fillna(0)).cumprod()\n",
      "C:\\Users\\legar\\Desktop\\COMPUTER_SCIENCE\\05_FINANCIAL_SIMULATIONS_APIS\\PORTFOLIO_SIM_PROJECT\\MCForecastTools.py:117: PerformanceWarning: DataFrame is highly fragmented.  This is usually the result of calling `frame.insert` many times, which has poor performance.  Consider joining all columns at once using pd.concat(axis=1) instead. To get a de-fragmented frame, use `newframe = frame.copy()`\n",
      "  portfolio_cumulative_returns[n] = (1 + sim_df.fillna(0)).cumprod()\n",
      "C:\\Users\\legar\\Desktop\\COMPUTER_SCIENCE\\05_FINANCIAL_SIMULATIONS_APIS\\PORTFOLIO_SIM_PROJECT\\MCForecastTools.py:117: PerformanceWarning: DataFrame is highly fragmented.  This is usually the result of calling `frame.insert` many times, which has poor performance.  Consider joining all columns at once using pd.concat(axis=1) instead. To get a de-fragmented frame, use `newframe = frame.copy()`\n",
      "  portfolio_cumulative_returns[n] = (1 + sim_df.fillna(0)).cumprod()\n",
      "C:\\Users\\legar\\Desktop\\COMPUTER_SCIENCE\\05_FINANCIAL_SIMULATIONS_APIS\\PORTFOLIO_SIM_PROJECT\\MCForecastTools.py:117: PerformanceWarning: DataFrame is highly fragmented.  This is usually the result of calling `frame.insert` many times, which has poor performance.  Consider joining all columns at once using pd.concat(axis=1) instead. To get a de-fragmented frame, use `newframe = frame.copy()`\n",
      "  portfolio_cumulative_returns[n] = (1 + sim_df.fillna(0)).cumprod()\n",
      "C:\\Users\\legar\\Desktop\\COMPUTER_SCIENCE\\05_FINANCIAL_SIMULATIONS_APIS\\PORTFOLIO_SIM_PROJECT\\MCForecastTools.py:117: PerformanceWarning: DataFrame is highly fragmented.  This is usually the result of calling `frame.insert` many times, which has poor performance.  Consider joining all columns at once using pd.concat(axis=1) instead. To get a de-fragmented frame, use `newframe = frame.copy()`\n",
      "  portfolio_cumulative_returns[n] = (1 + sim_df.fillna(0)).cumprod()\n",
      "C:\\Users\\legar\\Desktop\\COMPUTER_SCIENCE\\05_FINANCIAL_SIMULATIONS_APIS\\PORTFOLIO_SIM_PROJECT\\MCForecastTools.py:117: PerformanceWarning: DataFrame is highly fragmented.  This is usually the result of calling `frame.insert` many times, which has poor performance.  Consider joining all columns at once using pd.concat(axis=1) instead. To get a de-fragmented frame, use `newframe = frame.copy()`\n",
      "  portfolio_cumulative_returns[n] = (1 + sim_df.fillna(0)).cumprod()\n",
      "C:\\Users\\legar\\Desktop\\COMPUTER_SCIENCE\\05_FINANCIAL_SIMULATIONS_APIS\\PORTFOLIO_SIM_PROJECT\\MCForecastTools.py:117: PerformanceWarning: DataFrame is highly fragmented.  This is usually the result of calling `frame.insert` many times, which has poor performance.  Consider joining all columns at once using pd.concat(axis=1) instead. To get a de-fragmented frame, use `newframe = frame.copy()`\n",
      "  portfolio_cumulative_returns[n] = (1 + sim_df.fillna(0)).cumprod()\n",
      "C:\\Users\\legar\\Desktop\\COMPUTER_SCIENCE\\05_FINANCIAL_SIMULATIONS_APIS\\PORTFOLIO_SIM_PROJECT\\MCForecastTools.py:117: PerformanceWarning: DataFrame is highly fragmented.  This is usually the result of calling `frame.insert` many times, which has poor performance.  Consider joining all columns at once using pd.concat(axis=1) instead. To get a de-fragmented frame, use `newframe = frame.copy()`\n",
      "  portfolio_cumulative_returns[n] = (1 + sim_df.fillna(0)).cumprod()\n",
      "C:\\Users\\legar\\Desktop\\COMPUTER_SCIENCE\\05_FINANCIAL_SIMULATIONS_APIS\\PORTFOLIO_SIM_PROJECT\\MCForecastTools.py:117: PerformanceWarning: DataFrame is highly fragmented.  This is usually the result of calling `frame.insert` many times, which has poor performance.  Consider joining all columns at once using pd.concat(axis=1) instead. To get a de-fragmented frame, use `newframe = frame.copy()`\n",
      "  portfolio_cumulative_returns[n] = (1 + sim_df.fillna(0)).cumprod()\n",
      "C:\\Users\\legar\\Desktop\\COMPUTER_SCIENCE\\05_FINANCIAL_SIMULATIONS_APIS\\PORTFOLIO_SIM_PROJECT\\MCForecastTools.py:117: PerformanceWarning: DataFrame is highly fragmented.  This is usually the result of calling `frame.insert` many times, which has poor performance.  Consider joining all columns at once using pd.concat(axis=1) instead. To get a de-fragmented frame, use `newframe = frame.copy()`\n",
      "  portfolio_cumulative_returns[n] = (1 + sim_df.fillna(0)).cumprod()\n"
     ]
    },
    {
     "name": "stdout",
     "output_type": "stream",
     "text": [
      "Running Monte Carlo simulation number 420.\n"
     ]
    },
    {
     "name": "stderr",
     "output_type": "stream",
     "text": [
      "C:\\Users\\legar\\Desktop\\COMPUTER_SCIENCE\\05_FINANCIAL_SIMULATIONS_APIS\\PORTFOLIO_SIM_PROJECT\\MCForecastTools.py:117: PerformanceWarning: DataFrame is highly fragmented.  This is usually the result of calling `frame.insert` many times, which has poor performance.  Consider joining all columns at once using pd.concat(axis=1) instead. To get a de-fragmented frame, use `newframe = frame.copy()`\n",
      "  portfolio_cumulative_returns[n] = (1 + sim_df.fillna(0)).cumprod()\n",
      "C:\\Users\\legar\\Desktop\\COMPUTER_SCIENCE\\05_FINANCIAL_SIMULATIONS_APIS\\PORTFOLIO_SIM_PROJECT\\MCForecastTools.py:117: PerformanceWarning: DataFrame is highly fragmented.  This is usually the result of calling `frame.insert` many times, which has poor performance.  Consider joining all columns at once using pd.concat(axis=1) instead. To get a de-fragmented frame, use `newframe = frame.copy()`\n",
      "  portfolio_cumulative_returns[n] = (1 + sim_df.fillna(0)).cumprod()\n",
      "C:\\Users\\legar\\Desktop\\COMPUTER_SCIENCE\\05_FINANCIAL_SIMULATIONS_APIS\\PORTFOLIO_SIM_PROJECT\\MCForecastTools.py:117: PerformanceWarning: DataFrame is highly fragmented.  This is usually the result of calling `frame.insert` many times, which has poor performance.  Consider joining all columns at once using pd.concat(axis=1) instead. To get a de-fragmented frame, use `newframe = frame.copy()`\n",
      "  portfolio_cumulative_returns[n] = (1 + sim_df.fillna(0)).cumprod()\n",
      "C:\\Users\\legar\\Desktop\\COMPUTER_SCIENCE\\05_FINANCIAL_SIMULATIONS_APIS\\PORTFOLIO_SIM_PROJECT\\MCForecastTools.py:117: PerformanceWarning: DataFrame is highly fragmented.  This is usually the result of calling `frame.insert` many times, which has poor performance.  Consider joining all columns at once using pd.concat(axis=1) instead. To get a de-fragmented frame, use `newframe = frame.copy()`\n",
      "  portfolio_cumulative_returns[n] = (1 + sim_df.fillna(0)).cumprod()\n",
      "C:\\Users\\legar\\Desktop\\COMPUTER_SCIENCE\\05_FINANCIAL_SIMULATIONS_APIS\\PORTFOLIO_SIM_PROJECT\\MCForecastTools.py:117: PerformanceWarning: DataFrame is highly fragmented.  This is usually the result of calling `frame.insert` many times, which has poor performance.  Consider joining all columns at once using pd.concat(axis=1) instead. To get a de-fragmented frame, use `newframe = frame.copy()`\n",
      "  portfolio_cumulative_returns[n] = (1 + sim_df.fillna(0)).cumprod()\n",
      "C:\\Users\\legar\\Desktop\\COMPUTER_SCIENCE\\05_FINANCIAL_SIMULATIONS_APIS\\PORTFOLIO_SIM_PROJECT\\MCForecastTools.py:117: PerformanceWarning: DataFrame is highly fragmented.  This is usually the result of calling `frame.insert` many times, which has poor performance.  Consider joining all columns at once using pd.concat(axis=1) instead. To get a de-fragmented frame, use `newframe = frame.copy()`\n",
      "  portfolio_cumulative_returns[n] = (1 + sim_df.fillna(0)).cumprod()\n",
      "C:\\Users\\legar\\Desktop\\COMPUTER_SCIENCE\\05_FINANCIAL_SIMULATIONS_APIS\\PORTFOLIO_SIM_PROJECT\\MCForecastTools.py:117: PerformanceWarning: DataFrame is highly fragmented.  This is usually the result of calling `frame.insert` many times, which has poor performance.  Consider joining all columns at once using pd.concat(axis=1) instead. To get a de-fragmented frame, use `newframe = frame.copy()`\n",
      "  portfolio_cumulative_returns[n] = (1 + sim_df.fillna(0)).cumprod()\n",
      "C:\\Users\\legar\\Desktop\\COMPUTER_SCIENCE\\05_FINANCIAL_SIMULATIONS_APIS\\PORTFOLIO_SIM_PROJECT\\MCForecastTools.py:117: PerformanceWarning: DataFrame is highly fragmented.  This is usually the result of calling `frame.insert` many times, which has poor performance.  Consider joining all columns at once using pd.concat(axis=1) instead. To get a de-fragmented frame, use `newframe = frame.copy()`\n",
      "  portfolio_cumulative_returns[n] = (1 + sim_df.fillna(0)).cumprod()\n",
      "C:\\Users\\legar\\Desktop\\COMPUTER_SCIENCE\\05_FINANCIAL_SIMULATIONS_APIS\\PORTFOLIO_SIM_PROJECT\\MCForecastTools.py:117: PerformanceWarning: DataFrame is highly fragmented.  This is usually the result of calling `frame.insert` many times, which has poor performance.  Consider joining all columns at once using pd.concat(axis=1) instead. To get a de-fragmented frame, use `newframe = frame.copy()`\n",
      "  portfolio_cumulative_returns[n] = (1 + sim_df.fillna(0)).cumprod()\n",
      "C:\\Users\\legar\\Desktop\\COMPUTER_SCIENCE\\05_FINANCIAL_SIMULATIONS_APIS\\PORTFOLIO_SIM_PROJECT\\MCForecastTools.py:117: PerformanceWarning: DataFrame is highly fragmented.  This is usually the result of calling `frame.insert` many times, which has poor performance.  Consider joining all columns at once using pd.concat(axis=1) instead. To get a de-fragmented frame, use `newframe = frame.copy()`\n",
      "  portfolio_cumulative_returns[n] = (1 + sim_df.fillna(0)).cumprod()\n",
      "C:\\Users\\legar\\Desktop\\COMPUTER_SCIENCE\\05_FINANCIAL_SIMULATIONS_APIS\\PORTFOLIO_SIM_PROJECT\\MCForecastTools.py:117: PerformanceWarning: DataFrame is highly fragmented.  This is usually the result of calling `frame.insert` many times, which has poor performance.  Consider joining all columns at once using pd.concat(axis=1) instead. To get a de-fragmented frame, use `newframe = frame.copy()`\n",
      "  portfolio_cumulative_returns[n] = (1 + sim_df.fillna(0)).cumprod()\n"
     ]
    },
    {
     "name": "stdout",
     "output_type": "stream",
     "text": [
      "Running Monte Carlo simulation number 430.\n"
     ]
    },
    {
     "name": "stderr",
     "output_type": "stream",
     "text": [
      "C:\\Users\\legar\\Desktop\\COMPUTER_SCIENCE\\05_FINANCIAL_SIMULATIONS_APIS\\PORTFOLIO_SIM_PROJECT\\MCForecastTools.py:117: PerformanceWarning: DataFrame is highly fragmented.  This is usually the result of calling `frame.insert` many times, which has poor performance.  Consider joining all columns at once using pd.concat(axis=1) instead. To get a de-fragmented frame, use `newframe = frame.copy()`\n",
      "  portfolio_cumulative_returns[n] = (1 + sim_df.fillna(0)).cumprod()\n",
      "C:\\Users\\legar\\Desktop\\COMPUTER_SCIENCE\\05_FINANCIAL_SIMULATIONS_APIS\\PORTFOLIO_SIM_PROJECT\\MCForecastTools.py:117: PerformanceWarning: DataFrame is highly fragmented.  This is usually the result of calling `frame.insert` many times, which has poor performance.  Consider joining all columns at once using pd.concat(axis=1) instead. To get a de-fragmented frame, use `newframe = frame.copy()`\n",
      "  portfolio_cumulative_returns[n] = (1 + sim_df.fillna(0)).cumprod()\n",
      "C:\\Users\\legar\\Desktop\\COMPUTER_SCIENCE\\05_FINANCIAL_SIMULATIONS_APIS\\PORTFOLIO_SIM_PROJECT\\MCForecastTools.py:117: PerformanceWarning: DataFrame is highly fragmented.  This is usually the result of calling `frame.insert` many times, which has poor performance.  Consider joining all columns at once using pd.concat(axis=1) instead. To get a de-fragmented frame, use `newframe = frame.copy()`\n",
      "  portfolio_cumulative_returns[n] = (1 + sim_df.fillna(0)).cumprod()\n",
      "C:\\Users\\legar\\Desktop\\COMPUTER_SCIENCE\\05_FINANCIAL_SIMULATIONS_APIS\\PORTFOLIO_SIM_PROJECT\\MCForecastTools.py:117: PerformanceWarning: DataFrame is highly fragmented.  This is usually the result of calling `frame.insert` many times, which has poor performance.  Consider joining all columns at once using pd.concat(axis=1) instead. To get a de-fragmented frame, use `newframe = frame.copy()`\n",
      "  portfolio_cumulative_returns[n] = (1 + sim_df.fillna(0)).cumprod()\n",
      "C:\\Users\\legar\\Desktop\\COMPUTER_SCIENCE\\05_FINANCIAL_SIMULATIONS_APIS\\PORTFOLIO_SIM_PROJECT\\MCForecastTools.py:117: PerformanceWarning: DataFrame is highly fragmented.  This is usually the result of calling `frame.insert` many times, which has poor performance.  Consider joining all columns at once using pd.concat(axis=1) instead. To get a de-fragmented frame, use `newframe = frame.copy()`\n",
      "  portfolio_cumulative_returns[n] = (1 + sim_df.fillna(0)).cumprod()\n",
      "C:\\Users\\legar\\Desktop\\COMPUTER_SCIENCE\\05_FINANCIAL_SIMULATIONS_APIS\\PORTFOLIO_SIM_PROJECT\\MCForecastTools.py:117: PerformanceWarning: DataFrame is highly fragmented.  This is usually the result of calling `frame.insert` many times, which has poor performance.  Consider joining all columns at once using pd.concat(axis=1) instead. To get a de-fragmented frame, use `newframe = frame.copy()`\n",
      "  portfolio_cumulative_returns[n] = (1 + sim_df.fillna(0)).cumprod()\n",
      "C:\\Users\\legar\\Desktop\\COMPUTER_SCIENCE\\05_FINANCIAL_SIMULATIONS_APIS\\PORTFOLIO_SIM_PROJECT\\MCForecastTools.py:117: PerformanceWarning: DataFrame is highly fragmented.  This is usually the result of calling `frame.insert` many times, which has poor performance.  Consider joining all columns at once using pd.concat(axis=1) instead. To get a de-fragmented frame, use `newframe = frame.copy()`\n",
      "  portfolio_cumulative_returns[n] = (1 + sim_df.fillna(0)).cumprod()\n",
      "C:\\Users\\legar\\Desktop\\COMPUTER_SCIENCE\\05_FINANCIAL_SIMULATIONS_APIS\\PORTFOLIO_SIM_PROJECT\\MCForecastTools.py:117: PerformanceWarning: DataFrame is highly fragmented.  This is usually the result of calling `frame.insert` many times, which has poor performance.  Consider joining all columns at once using pd.concat(axis=1) instead. To get a de-fragmented frame, use `newframe = frame.copy()`\n",
      "  portfolio_cumulative_returns[n] = (1 + sim_df.fillna(0)).cumprod()\n",
      "C:\\Users\\legar\\Desktop\\COMPUTER_SCIENCE\\05_FINANCIAL_SIMULATIONS_APIS\\PORTFOLIO_SIM_PROJECT\\MCForecastTools.py:117: PerformanceWarning: DataFrame is highly fragmented.  This is usually the result of calling `frame.insert` many times, which has poor performance.  Consider joining all columns at once using pd.concat(axis=1) instead. To get a de-fragmented frame, use `newframe = frame.copy()`\n",
      "  portfolio_cumulative_returns[n] = (1 + sim_df.fillna(0)).cumprod()\n",
      "C:\\Users\\legar\\Desktop\\COMPUTER_SCIENCE\\05_FINANCIAL_SIMULATIONS_APIS\\PORTFOLIO_SIM_PROJECT\\MCForecastTools.py:117: PerformanceWarning: DataFrame is highly fragmented.  This is usually the result of calling `frame.insert` many times, which has poor performance.  Consider joining all columns at once using pd.concat(axis=1) instead. To get a de-fragmented frame, use `newframe = frame.copy()`\n",
      "  portfolio_cumulative_returns[n] = (1 + sim_df.fillna(0)).cumprod()\n",
      "C:\\Users\\legar\\Desktop\\COMPUTER_SCIENCE\\05_FINANCIAL_SIMULATIONS_APIS\\PORTFOLIO_SIM_PROJECT\\MCForecastTools.py:117: PerformanceWarning: DataFrame is highly fragmented.  This is usually the result of calling `frame.insert` many times, which has poor performance.  Consider joining all columns at once using pd.concat(axis=1) instead. To get a de-fragmented frame, use `newframe = frame.copy()`\n",
      "  portfolio_cumulative_returns[n] = (1 + sim_df.fillna(0)).cumprod()\n"
     ]
    },
    {
     "name": "stdout",
     "output_type": "stream",
     "text": [
      "Running Monte Carlo simulation number 440.\n"
     ]
    },
    {
     "name": "stderr",
     "output_type": "stream",
     "text": [
      "C:\\Users\\legar\\Desktop\\COMPUTER_SCIENCE\\05_FINANCIAL_SIMULATIONS_APIS\\PORTFOLIO_SIM_PROJECT\\MCForecastTools.py:117: PerformanceWarning: DataFrame is highly fragmented.  This is usually the result of calling `frame.insert` many times, which has poor performance.  Consider joining all columns at once using pd.concat(axis=1) instead. To get a de-fragmented frame, use `newframe = frame.copy()`\n",
      "  portfolio_cumulative_returns[n] = (1 + sim_df.fillna(0)).cumprod()\n",
      "C:\\Users\\legar\\Desktop\\COMPUTER_SCIENCE\\05_FINANCIAL_SIMULATIONS_APIS\\PORTFOLIO_SIM_PROJECT\\MCForecastTools.py:117: PerformanceWarning: DataFrame is highly fragmented.  This is usually the result of calling `frame.insert` many times, which has poor performance.  Consider joining all columns at once using pd.concat(axis=1) instead. To get a de-fragmented frame, use `newframe = frame.copy()`\n",
      "  portfolio_cumulative_returns[n] = (1 + sim_df.fillna(0)).cumprod()\n",
      "C:\\Users\\legar\\Desktop\\COMPUTER_SCIENCE\\05_FINANCIAL_SIMULATIONS_APIS\\PORTFOLIO_SIM_PROJECT\\MCForecastTools.py:117: PerformanceWarning: DataFrame is highly fragmented.  This is usually the result of calling `frame.insert` many times, which has poor performance.  Consider joining all columns at once using pd.concat(axis=1) instead. To get a de-fragmented frame, use `newframe = frame.copy()`\n",
      "  portfolio_cumulative_returns[n] = (1 + sim_df.fillna(0)).cumprod()\n",
      "C:\\Users\\legar\\Desktop\\COMPUTER_SCIENCE\\05_FINANCIAL_SIMULATIONS_APIS\\PORTFOLIO_SIM_PROJECT\\MCForecastTools.py:117: PerformanceWarning: DataFrame is highly fragmented.  This is usually the result of calling `frame.insert` many times, which has poor performance.  Consider joining all columns at once using pd.concat(axis=1) instead. To get a de-fragmented frame, use `newframe = frame.copy()`\n",
      "  portfolio_cumulative_returns[n] = (1 + sim_df.fillna(0)).cumprod()\n",
      "C:\\Users\\legar\\Desktop\\COMPUTER_SCIENCE\\05_FINANCIAL_SIMULATIONS_APIS\\PORTFOLIO_SIM_PROJECT\\MCForecastTools.py:117: PerformanceWarning: DataFrame is highly fragmented.  This is usually the result of calling `frame.insert` many times, which has poor performance.  Consider joining all columns at once using pd.concat(axis=1) instead. To get a de-fragmented frame, use `newframe = frame.copy()`\n",
      "  portfolio_cumulative_returns[n] = (1 + sim_df.fillna(0)).cumprod()\n",
      "C:\\Users\\legar\\Desktop\\COMPUTER_SCIENCE\\05_FINANCIAL_SIMULATIONS_APIS\\PORTFOLIO_SIM_PROJECT\\MCForecastTools.py:117: PerformanceWarning: DataFrame is highly fragmented.  This is usually the result of calling `frame.insert` many times, which has poor performance.  Consider joining all columns at once using pd.concat(axis=1) instead. To get a de-fragmented frame, use `newframe = frame.copy()`\n",
      "  portfolio_cumulative_returns[n] = (1 + sim_df.fillna(0)).cumprod()\n",
      "C:\\Users\\legar\\Desktop\\COMPUTER_SCIENCE\\05_FINANCIAL_SIMULATIONS_APIS\\PORTFOLIO_SIM_PROJECT\\MCForecastTools.py:117: PerformanceWarning: DataFrame is highly fragmented.  This is usually the result of calling `frame.insert` many times, which has poor performance.  Consider joining all columns at once using pd.concat(axis=1) instead. To get a de-fragmented frame, use `newframe = frame.copy()`\n",
      "  portfolio_cumulative_returns[n] = (1 + sim_df.fillna(0)).cumprod()\n",
      "C:\\Users\\legar\\Desktop\\COMPUTER_SCIENCE\\05_FINANCIAL_SIMULATIONS_APIS\\PORTFOLIO_SIM_PROJECT\\MCForecastTools.py:117: PerformanceWarning: DataFrame is highly fragmented.  This is usually the result of calling `frame.insert` many times, which has poor performance.  Consider joining all columns at once using pd.concat(axis=1) instead. To get a de-fragmented frame, use `newframe = frame.copy()`\n",
      "  portfolio_cumulative_returns[n] = (1 + sim_df.fillna(0)).cumprod()\n"
     ]
    },
    {
     "name": "stdout",
     "output_type": "stream",
     "text": [
      "Running Monte Carlo simulation number 450.\n"
     ]
    },
    {
     "name": "stderr",
     "output_type": "stream",
     "text": [
      "C:\\Users\\legar\\Desktop\\COMPUTER_SCIENCE\\05_FINANCIAL_SIMULATIONS_APIS\\PORTFOLIO_SIM_PROJECT\\MCForecastTools.py:117: PerformanceWarning: DataFrame is highly fragmented.  This is usually the result of calling `frame.insert` many times, which has poor performance.  Consider joining all columns at once using pd.concat(axis=1) instead. To get a de-fragmented frame, use `newframe = frame.copy()`\n",
      "  portfolio_cumulative_returns[n] = (1 + sim_df.fillna(0)).cumprod()\n",
      "C:\\Users\\legar\\Desktop\\COMPUTER_SCIENCE\\05_FINANCIAL_SIMULATIONS_APIS\\PORTFOLIO_SIM_PROJECT\\MCForecastTools.py:117: PerformanceWarning: DataFrame is highly fragmented.  This is usually the result of calling `frame.insert` many times, which has poor performance.  Consider joining all columns at once using pd.concat(axis=1) instead. To get a de-fragmented frame, use `newframe = frame.copy()`\n",
      "  portfolio_cumulative_returns[n] = (1 + sim_df.fillna(0)).cumprod()\n",
      "C:\\Users\\legar\\Desktop\\COMPUTER_SCIENCE\\05_FINANCIAL_SIMULATIONS_APIS\\PORTFOLIO_SIM_PROJECT\\MCForecastTools.py:117: PerformanceWarning: DataFrame is highly fragmented.  This is usually the result of calling `frame.insert` many times, which has poor performance.  Consider joining all columns at once using pd.concat(axis=1) instead. To get a de-fragmented frame, use `newframe = frame.copy()`\n",
      "  portfolio_cumulative_returns[n] = (1 + sim_df.fillna(0)).cumprod()\n",
      "C:\\Users\\legar\\Desktop\\COMPUTER_SCIENCE\\05_FINANCIAL_SIMULATIONS_APIS\\PORTFOLIO_SIM_PROJECT\\MCForecastTools.py:117: PerformanceWarning: DataFrame is highly fragmented.  This is usually the result of calling `frame.insert` many times, which has poor performance.  Consider joining all columns at once using pd.concat(axis=1) instead. To get a de-fragmented frame, use `newframe = frame.copy()`\n",
      "  portfolio_cumulative_returns[n] = (1 + sim_df.fillna(0)).cumprod()\n",
      "C:\\Users\\legar\\Desktop\\COMPUTER_SCIENCE\\05_FINANCIAL_SIMULATIONS_APIS\\PORTFOLIO_SIM_PROJECT\\MCForecastTools.py:117: PerformanceWarning: DataFrame is highly fragmented.  This is usually the result of calling `frame.insert` many times, which has poor performance.  Consider joining all columns at once using pd.concat(axis=1) instead. To get a de-fragmented frame, use `newframe = frame.copy()`\n",
      "  portfolio_cumulative_returns[n] = (1 + sim_df.fillna(0)).cumprod()\n",
      "C:\\Users\\legar\\Desktop\\COMPUTER_SCIENCE\\05_FINANCIAL_SIMULATIONS_APIS\\PORTFOLIO_SIM_PROJECT\\MCForecastTools.py:117: PerformanceWarning: DataFrame is highly fragmented.  This is usually the result of calling `frame.insert` many times, which has poor performance.  Consider joining all columns at once using pd.concat(axis=1) instead. To get a de-fragmented frame, use `newframe = frame.copy()`\n",
      "  portfolio_cumulative_returns[n] = (1 + sim_df.fillna(0)).cumprod()\n",
      "C:\\Users\\legar\\Desktop\\COMPUTER_SCIENCE\\05_FINANCIAL_SIMULATIONS_APIS\\PORTFOLIO_SIM_PROJECT\\MCForecastTools.py:117: PerformanceWarning: DataFrame is highly fragmented.  This is usually the result of calling `frame.insert` many times, which has poor performance.  Consider joining all columns at once using pd.concat(axis=1) instead. To get a de-fragmented frame, use `newframe = frame.copy()`\n",
      "  portfolio_cumulative_returns[n] = (1 + sim_df.fillna(0)).cumprod()\n",
      "C:\\Users\\legar\\Desktop\\COMPUTER_SCIENCE\\05_FINANCIAL_SIMULATIONS_APIS\\PORTFOLIO_SIM_PROJECT\\MCForecastTools.py:117: PerformanceWarning: DataFrame is highly fragmented.  This is usually the result of calling `frame.insert` many times, which has poor performance.  Consider joining all columns at once using pd.concat(axis=1) instead. To get a de-fragmented frame, use `newframe = frame.copy()`\n",
      "  portfolio_cumulative_returns[n] = (1 + sim_df.fillna(0)).cumprod()\n",
      "C:\\Users\\legar\\Desktop\\COMPUTER_SCIENCE\\05_FINANCIAL_SIMULATIONS_APIS\\PORTFOLIO_SIM_PROJECT\\MCForecastTools.py:117: PerformanceWarning: DataFrame is highly fragmented.  This is usually the result of calling `frame.insert` many times, which has poor performance.  Consider joining all columns at once using pd.concat(axis=1) instead. To get a de-fragmented frame, use `newframe = frame.copy()`\n",
      "  portfolio_cumulative_returns[n] = (1 + sim_df.fillna(0)).cumprod()\n",
      "C:\\Users\\legar\\Desktop\\COMPUTER_SCIENCE\\05_FINANCIAL_SIMULATIONS_APIS\\PORTFOLIO_SIM_PROJECT\\MCForecastTools.py:117: PerformanceWarning: DataFrame is highly fragmented.  This is usually the result of calling `frame.insert` many times, which has poor performance.  Consider joining all columns at once using pd.concat(axis=1) instead. To get a de-fragmented frame, use `newframe = frame.copy()`\n",
      "  portfolio_cumulative_returns[n] = (1 + sim_df.fillna(0)).cumprod()\n",
      "C:\\Users\\legar\\Desktop\\COMPUTER_SCIENCE\\05_FINANCIAL_SIMULATIONS_APIS\\PORTFOLIO_SIM_PROJECT\\MCForecastTools.py:117: PerformanceWarning: DataFrame is highly fragmented.  This is usually the result of calling `frame.insert` many times, which has poor performance.  Consider joining all columns at once using pd.concat(axis=1) instead. To get a de-fragmented frame, use `newframe = frame.copy()`\n",
      "  portfolio_cumulative_returns[n] = (1 + sim_df.fillna(0)).cumprod()\n"
     ]
    },
    {
     "name": "stdout",
     "output_type": "stream",
     "text": [
      "Running Monte Carlo simulation number 460.\n"
     ]
    },
    {
     "name": "stderr",
     "output_type": "stream",
     "text": [
      "C:\\Users\\legar\\Desktop\\COMPUTER_SCIENCE\\05_FINANCIAL_SIMULATIONS_APIS\\PORTFOLIO_SIM_PROJECT\\MCForecastTools.py:117: PerformanceWarning: DataFrame is highly fragmented.  This is usually the result of calling `frame.insert` many times, which has poor performance.  Consider joining all columns at once using pd.concat(axis=1) instead. To get a de-fragmented frame, use `newframe = frame.copy()`\n",
      "  portfolio_cumulative_returns[n] = (1 + sim_df.fillna(0)).cumprod()\n",
      "C:\\Users\\legar\\Desktop\\COMPUTER_SCIENCE\\05_FINANCIAL_SIMULATIONS_APIS\\PORTFOLIO_SIM_PROJECT\\MCForecastTools.py:117: PerformanceWarning: DataFrame is highly fragmented.  This is usually the result of calling `frame.insert` many times, which has poor performance.  Consider joining all columns at once using pd.concat(axis=1) instead. To get a de-fragmented frame, use `newframe = frame.copy()`\n",
      "  portfolio_cumulative_returns[n] = (1 + sim_df.fillna(0)).cumprod()\n",
      "C:\\Users\\legar\\Desktop\\COMPUTER_SCIENCE\\05_FINANCIAL_SIMULATIONS_APIS\\PORTFOLIO_SIM_PROJECT\\MCForecastTools.py:117: PerformanceWarning: DataFrame is highly fragmented.  This is usually the result of calling `frame.insert` many times, which has poor performance.  Consider joining all columns at once using pd.concat(axis=1) instead. To get a de-fragmented frame, use `newframe = frame.copy()`\n",
      "  portfolio_cumulative_returns[n] = (1 + sim_df.fillna(0)).cumprod()\n",
      "C:\\Users\\legar\\Desktop\\COMPUTER_SCIENCE\\05_FINANCIAL_SIMULATIONS_APIS\\PORTFOLIO_SIM_PROJECT\\MCForecastTools.py:117: PerformanceWarning: DataFrame is highly fragmented.  This is usually the result of calling `frame.insert` many times, which has poor performance.  Consider joining all columns at once using pd.concat(axis=1) instead. To get a de-fragmented frame, use `newframe = frame.copy()`\n",
      "  portfolio_cumulative_returns[n] = (1 + sim_df.fillna(0)).cumprod()\n",
      "C:\\Users\\legar\\Desktop\\COMPUTER_SCIENCE\\05_FINANCIAL_SIMULATIONS_APIS\\PORTFOLIO_SIM_PROJECT\\MCForecastTools.py:117: PerformanceWarning: DataFrame is highly fragmented.  This is usually the result of calling `frame.insert` many times, which has poor performance.  Consider joining all columns at once using pd.concat(axis=1) instead. To get a de-fragmented frame, use `newframe = frame.copy()`\n",
      "  portfolio_cumulative_returns[n] = (1 + sim_df.fillna(0)).cumprod()\n",
      "C:\\Users\\legar\\Desktop\\COMPUTER_SCIENCE\\05_FINANCIAL_SIMULATIONS_APIS\\PORTFOLIO_SIM_PROJECT\\MCForecastTools.py:117: PerformanceWarning: DataFrame is highly fragmented.  This is usually the result of calling `frame.insert` many times, which has poor performance.  Consider joining all columns at once using pd.concat(axis=1) instead. To get a de-fragmented frame, use `newframe = frame.copy()`\n",
      "  portfolio_cumulative_returns[n] = (1 + sim_df.fillna(0)).cumprod()\n",
      "C:\\Users\\legar\\Desktop\\COMPUTER_SCIENCE\\05_FINANCIAL_SIMULATIONS_APIS\\PORTFOLIO_SIM_PROJECT\\MCForecastTools.py:117: PerformanceWarning: DataFrame is highly fragmented.  This is usually the result of calling `frame.insert` many times, which has poor performance.  Consider joining all columns at once using pd.concat(axis=1) instead. To get a de-fragmented frame, use `newframe = frame.copy()`\n",
      "  portfolio_cumulative_returns[n] = (1 + sim_df.fillna(0)).cumprod()\n",
      "C:\\Users\\legar\\Desktop\\COMPUTER_SCIENCE\\05_FINANCIAL_SIMULATIONS_APIS\\PORTFOLIO_SIM_PROJECT\\MCForecastTools.py:117: PerformanceWarning: DataFrame is highly fragmented.  This is usually the result of calling `frame.insert` many times, which has poor performance.  Consider joining all columns at once using pd.concat(axis=1) instead. To get a de-fragmented frame, use `newframe = frame.copy()`\n",
      "  portfolio_cumulative_returns[n] = (1 + sim_df.fillna(0)).cumprod()\n"
     ]
    },
    {
     "name": "stdout",
     "output_type": "stream",
     "text": [
      "Running Monte Carlo simulation number 470.\n"
     ]
    },
    {
     "name": "stderr",
     "output_type": "stream",
     "text": [
      "C:\\Users\\legar\\Desktop\\COMPUTER_SCIENCE\\05_FINANCIAL_SIMULATIONS_APIS\\PORTFOLIO_SIM_PROJECT\\MCForecastTools.py:117: PerformanceWarning: DataFrame is highly fragmented.  This is usually the result of calling `frame.insert` many times, which has poor performance.  Consider joining all columns at once using pd.concat(axis=1) instead. To get a de-fragmented frame, use `newframe = frame.copy()`\n",
      "  portfolio_cumulative_returns[n] = (1 + sim_df.fillna(0)).cumprod()\n",
      "C:\\Users\\legar\\Desktop\\COMPUTER_SCIENCE\\05_FINANCIAL_SIMULATIONS_APIS\\PORTFOLIO_SIM_PROJECT\\MCForecastTools.py:117: PerformanceWarning: DataFrame is highly fragmented.  This is usually the result of calling `frame.insert` many times, which has poor performance.  Consider joining all columns at once using pd.concat(axis=1) instead. To get a de-fragmented frame, use `newframe = frame.copy()`\n",
      "  portfolio_cumulative_returns[n] = (1 + sim_df.fillna(0)).cumprod()\n",
      "C:\\Users\\legar\\Desktop\\COMPUTER_SCIENCE\\05_FINANCIAL_SIMULATIONS_APIS\\PORTFOLIO_SIM_PROJECT\\MCForecastTools.py:117: PerformanceWarning: DataFrame is highly fragmented.  This is usually the result of calling `frame.insert` many times, which has poor performance.  Consider joining all columns at once using pd.concat(axis=1) instead. To get a de-fragmented frame, use `newframe = frame.copy()`\n",
      "  portfolio_cumulative_returns[n] = (1 + sim_df.fillna(0)).cumprod()\n",
      "C:\\Users\\legar\\Desktop\\COMPUTER_SCIENCE\\05_FINANCIAL_SIMULATIONS_APIS\\PORTFOLIO_SIM_PROJECT\\MCForecastTools.py:117: PerformanceWarning: DataFrame is highly fragmented.  This is usually the result of calling `frame.insert` many times, which has poor performance.  Consider joining all columns at once using pd.concat(axis=1) instead. To get a de-fragmented frame, use `newframe = frame.copy()`\n",
      "  portfolio_cumulative_returns[n] = (1 + sim_df.fillna(0)).cumprod()\n",
      "C:\\Users\\legar\\Desktop\\COMPUTER_SCIENCE\\05_FINANCIAL_SIMULATIONS_APIS\\PORTFOLIO_SIM_PROJECT\\MCForecastTools.py:117: PerformanceWarning: DataFrame is highly fragmented.  This is usually the result of calling `frame.insert` many times, which has poor performance.  Consider joining all columns at once using pd.concat(axis=1) instead. To get a de-fragmented frame, use `newframe = frame.copy()`\n",
      "  portfolio_cumulative_returns[n] = (1 + sim_df.fillna(0)).cumprod()\n",
      "C:\\Users\\legar\\Desktop\\COMPUTER_SCIENCE\\05_FINANCIAL_SIMULATIONS_APIS\\PORTFOLIO_SIM_PROJECT\\MCForecastTools.py:117: PerformanceWarning: DataFrame is highly fragmented.  This is usually the result of calling `frame.insert` many times, which has poor performance.  Consider joining all columns at once using pd.concat(axis=1) instead. To get a de-fragmented frame, use `newframe = frame.copy()`\n",
      "  portfolio_cumulative_returns[n] = (1 + sim_df.fillna(0)).cumprod()\n",
      "C:\\Users\\legar\\Desktop\\COMPUTER_SCIENCE\\05_FINANCIAL_SIMULATIONS_APIS\\PORTFOLIO_SIM_PROJECT\\MCForecastTools.py:117: PerformanceWarning: DataFrame is highly fragmented.  This is usually the result of calling `frame.insert` many times, which has poor performance.  Consider joining all columns at once using pd.concat(axis=1) instead. To get a de-fragmented frame, use `newframe = frame.copy()`\n",
      "  portfolio_cumulative_returns[n] = (1 + sim_df.fillna(0)).cumprod()\n",
      "C:\\Users\\legar\\Desktop\\COMPUTER_SCIENCE\\05_FINANCIAL_SIMULATIONS_APIS\\PORTFOLIO_SIM_PROJECT\\MCForecastTools.py:117: PerformanceWarning: DataFrame is highly fragmented.  This is usually the result of calling `frame.insert` many times, which has poor performance.  Consider joining all columns at once using pd.concat(axis=1) instead. To get a de-fragmented frame, use `newframe = frame.copy()`\n",
      "  portfolio_cumulative_returns[n] = (1 + sim_df.fillna(0)).cumprod()\n",
      "C:\\Users\\legar\\Desktop\\COMPUTER_SCIENCE\\05_FINANCIAL_SIMULATIONS_APIS\\PORTFOLIO_SIM_PROJECT\\MCForecastTools.py:117: PerformanceWarning: DataFrame is highly fragmented.  This is usually the result of calling `frame.insert` many times, which has poor performance.  Consider joining all columns at once using pd.concat(axis=1) instead. To get a de-fragmented frame, use `newframe = frame.copy()`\n",
      "  portfolio_cumulative_returns[n] = (1 + sim_df.fillna(0)).cumprod()\n",
      "C:\\Users\\legar\\Desktop\\COMPUTER_SCIENCE\\05_FINANCIAL_SIMULATIONS_APIS\\PORTFOLIO_SIM_PROJECT\\MCForecastTools.py:117: PerformanceWarning: DataFrame is highly fragmented.  This is usually the result of calling `frame.insert` many times, which has poor performance.  Consider joining all columns at once using pd.concat(axis=1) instead. To get a de-fragmented frame, use `newframe = frame.copy()`\n",
      "  portfolio_cumulative_returns[n] = (1 + sim_df.fillna(0)).cumprod()\n",
      "C:\\Users\\legar\\Desktop\\COMPUTER_SCIENCE\\05_FINANCIAL_SIMULATIONS_APIS\\PORTFOLIO_SIM_PROJECT\\MCForecastTools.py:117: PerformanceWarning: DataFrame is highly fragmented.  This is usually the result of calling `frame.insert` many times, which has poor performance.  Consider joining all columns at once using pd.concat(axis=1) instead. To get a de-fragmented frame, use `newframe = frame.copy()`\n",
      "  portfolio_cumulative_returns[n] = (1 + sim_df.fillna(0)).cumprod()\n",
      "C:\\Users\\legar\\Desktop\\COMPUTER_SCIENCE\\05_FINANCIAL_SIMULATIONS_APIS\\PORTFOLIO_SIM_PROJECT\\MCForecastTools.py:117: PerformanceWarning: DataFrame is highly fragmented.  This is usually the result of calling `frame.insert` many times, which has poor performance.  Consider joining all columns at once using pd.concat(axis=1) instead. To get a de-fragmented frame, use `newframe = frame.copy()`\n",
      "  portfolio_cumulative_returns[n] = (1 + sim_df.fillna(0)).cumprod()\n"
     ]
    },
    {
     "name": "stdout",
     "output_type": "stream",
     "text": [
      "Running Monte Carlo simulation number 480.\n"
     ]
    },
    {
     "name": "stderr",
     "output_type": "stream",
     "text": [
      "C:\\Users\\legar\\Desktop\\COMPUTER_SCIENCE\\05_FINANCIAL_SIMULATIONS_APIS\\PORTFOLIO_SIM_PROJECT\\MCForecastTools.py:117: PerformanceWarning: DataFrame is highly fragmented.  This is usually the result of calling `frame.insert` many times, which has poor performance.  Consider joining all columns at once using pd.concat(axis=1) instead. To get a de-fragmented frame, use `newframe = frame.copy()`\n",
      "  portfolio_cumulative_returns[n] = (1 + sim_df.fillna(0)).cumprod()\n",
      "C:\\Users\\legar\\Desktop\\COMPUTER_SCIENCE\\05_FINANCIAL_SIMULATIONS_APIS\\PORTFOLIO_SIM_PROJECT\\MCForecastTools.py:117: PerformanceWarning: DataFrame is highly fragmented.  This is usually the result of calling `frame.insert` many times, which has poor performance.  Consider joining all columns at once using pd.concat(axis=1) instead. To get a de-fragmented frame, use `newframe = frame.copy()`\n",
      "  portfolio_cumulative_returns[n] = (1 + sim_df.fillna(0)).cumprod()\n",
      "C:\\Users\\legar\\Desktop\\COMPUTER_SCIENCE\\05_FINANCIAL_SIMULATIONS_APIS\\PORTFOLIO_SIM_PROJECT\\MCForecastTools.py:117: PerformanceWarning: DataFrame is highly fragmented.  This is usually the result of calling `frame.insert` many times, which has poor performance.  Consider joining all columns at once using pd.concat(axis=1) instead. To get a de-fragmented frame, use `newframe = frame.copy()`\n",
      "  portfolio_cumulative_returns[n] = (1 + sim_df.fillna(0)).cumprod()\n",
      "C:\\Users\\legar\\Desktop\\COMPUTER_SCIENCE\\05_FINANCIAL_SIMULATIONS_APIS\\PORTFOLIO_SIM_PROJECT\\MCForecastTools.py:117: PerformanceWarning: DataFrame is highly fragmented.  This is usually the result of calling `frame.insert` many times, which has poor performance.  Consider joining all columns at once using pd.concat(axis=1) instead. To get a de-fragmented frame, use `newframe = frame.copy()`\n",
      "  portfolio_cumulative_returns[n] = (1 + sim_df.fillna(0)).cumprod()\n",
      "C:\\Users\\legar\\Desktop\\COMPUTER_SCIENCE\\05_FINANCIAL_SIMULATIONS_APIS\\PORTFOLIO_SIM_PROJECT\\MCForecastTools.py:117: PerformanceWarning: DataFrame is highly fragmented.  This is usually the result of calling `frame.insert` many times, which has poor performance.  Consider joining all columns at once using pd.concat(axis=1) instead. To get a de-fragmented frame, use `newframe = frame.copy()`\n",
      "  portfolio_cumulative_returns[n] = (1 + sim_df.fillna(0)).cumprod()\n",
      "C:\\Users\\legar\\Desktop\\COMPUTER_SCIENCE\\05_FINANCIAL_SIMULATIONS_APIS\\PORTFOLIO_SIM_PROJECT\\MCForecastTools.py:117: PerformanceWarning: DataFrame is highly fragmented.  This is usually the result of calling `frame.insert` many times, which has poor performance.  Consider joining all columns at once using pd.concat(axis=1) instead. To get a de-fragmented frame, use `newframe = frame.copy()`\n",
      "  portfolio_cumulative_returns[n] = (1 + sim_df.fillna(0)).cumprod()\n",
      "C:\\Users\\legar\\Desktop\\COMPUTER_SCIENCE\\05_FINANCIAL_SIMULATIONS_APIS\\PORTFOLIO_SIM_PROJECT\\MCForecastTools.py:117: PerformanceWarning: DataFrame is highly fragmented.  This is usually the result of calling `frame.insert` many times, which has poor performance.  Consider joining all columns at once using pd.concat(axis=1) instead. To get a de-fragmented frame, use `newframe = frame.copy()`\n",
      "  portfolio_cumulative_returns[n] = (1 + sim_df.fillna(0)).cumprod()\n",
      "C:\\Users\\legar\\Desktop\\COMPUTER_SCIENCE\\05_FINANCIAL_SIMULATIONS_APIS\\PORTFOLIO_SIM_PROJECT\\MCForecastTools.py:117: PerformanceWarning: DataFrame is highly fragmented.  This is usually the result of calling `frame.insert` many times, which has poor performance.  Consider joining all columns at once using pd.concat(axis=1) instead. To get a de-fragmented frame, use `newframe = frame.copy()`\n",
      "  portfolio_cumulative_returns[n] = (1 + sim_df.fillna(0)).cumprod()\n",
      "C:\\Users\\legar\\Desktop\\COMPUTER_SCIENCE\\05_FINANCIAL_SIMULATIONS_APIS\\PORTFOLIO_SIM_PROJECT\\MCForecastTools.py:117: PerformanceWarning: DataFrame is highly fragmented.  This is usually the result of calling `frame.insert` many times, which has poor performance.  Consider joining all columns at once using pd.concat(axis=1) instead. To get a de-fragmented frame, use `newframe = frame.copy()`\n",
      "  portfolio_cumulative_returns[n] = (1 + sim_df.fillna(0)).cumprod()\n",
      "C:\\Users\\legar\\Desktop\\COMPUTER_SCIENCE\\05_FINANCIAL_SIMULATIONS_APIS\\PORTFOLIO_SIM_PROJECT\\MCForecastTools.py:117: PerformanceWarning: DataFrame is highly fragmented.  This is usually the result of calling `frame.insert` many times, which has poor performance.  Consider joining all columns at once using pd.concat(axis=1) instead. To get a de-fragmented frame, use `newframe = frame.copy()`\n",
      "  portfolio_cumulative_returns[n] = (1 + sim_df.fillna(0)).cumprod()\n"
     ]
    },
    {
     "name": "stdout",
     "output_type": "stream",
     "text": [
      "Running Monte Carlo simulation number 490.\n"
     ]
    },
    {
     "name": "stderr",
     "output_type": "stream",
     "text": [
      "C:\\Users\\legar\\Desktop\\COMPUTER_SCIENCE\\05_FINANCIAL_SIMULATIONS_APIS\\PORTFOLIO_SIM_PROJECT\\MCForecastTools.py:117: PerformanceWarning: DataFrame is highly fragmented.  This is usually the result of calling `frame.insert` many times, which has poor performance.  Consider joining all columns at once using pd.concat(axis=1) instead. To get a de-fragmented frame, use `newframe = frame.copy()`\n",
      "  portfolio_cumulative_returns[n] = (1 + sim_df.fillna(0)).cumprod()\n",
      "C:\\Users\\legar\\Desktop\\COMPUTER_SCIENCE\\05_FINANCIAL_SIMULATIONS_APIS\\PORTFOLIO_SIM_PROJECT\\MCForecastTools.py:117: PerformanceWarning: DataFrame is highly fragmented.  This is usually the result of calling `frame.insert` many times, which has poor performance.  Consider joining all columns at once using pd.concat(axis=1) instead. To get a de-fragmented frame, use `newframe = frame.copy()`\n",
      "  portfolio_cumulative_returns[n] = (1 + sim_df.fillna(0)).cumprod()\n",
      "C:\\Users\\legar\\Desktop\\COMPUTER_SCIENCE\\05_FINANCIAL_SIMULATIONS_APIS\\PORTFOLIO_SIM_PROJECT\\MCForecastTools.py:117: PerformanceWarning: DataFrame is highly fragmented.  This is usually the result of calling `frame.insert` many times, which has poor performance.  Consider joining all columns at once using pd.concat(axis=1) instead. To get a de-fragmented frame, use `newframe = frame.copy()`\n",
      "  portfolio_cumulative_returns[n] = (1 + sim_df.fillna(0)).cumprod()\n",
      "C:\\Users\\legar\\Desktop\\COMPUTER_SCIENCE\\05_FINANCIAL_SIMULATIONS_APIS\\PORTFOLIO_SIM_PROJECT\\MCForecastTools.py:117: PerformanceWarning: DataFrame is highly fragmented.  This is usually the result of calling `frame.insert` many times, which has poor performance.  Consider joining all columns at once using pd.concat(axis=1) instead. To get a de-fragmented frame, use `newframe = frame.copy()`\n",
      "  portfolio_cumulative_returns[n] = (1 + sim_df.fillna(0)).cumprod()\n",
      "C:\\Users\\legar\\Desktop\\COMPUTER_SCIENCE\\05_FINANCIAL_SIMULATIONS_APIS\\PORTFOLIO_SIM_PROJECT\\MCForecastTools.py:117: PerformanceWarning: DataFrame is highly fragmented.  This is usually the result of calling `frame.insert` many times, which has poor performance.  Consider joining all columns at once using pd.concat(axis=1) instead. To get a de-fragmented frame, use `newframe = frame.copy()`\n",
      "  portfolio_cumulative_returns[n] = (1 + sim_df.fillna(0)).cumprod()\n",
      "C:\\Users\\legar\\Desktop\\COMPUTER_SCIENCE\\05_FINANCIAL_SIMULATIONS_APIS\\PORTFOLIO_SIM_PROJECT\\MCForecastTools.py:117: PerformanceWarning: DataFrame is highly fragmented.  This is usually the result of calling `frame.insert` many times, which has poor performance.  Consider joining all columns at once using pd.concat(axis=1) instead. To get a de-fragmented frame, use `newframe = frame.copy()`\n",
      "  portfolio_cumulative_returns[n] = (1 + sim_df.fillna(0)).cumprod()\n",
      "C:\\Users\\legar\\Desktop\\COMPUTER_SCIENCE\\05_FINANCIAL_SIMULATIONS_APIS\\PORTFOLIO_SIM_PROJECT\\MCForecastTools.py:117: PerformanceWarning: DataFrame is highly fragmented.  This is usually the result of calling `frame.insert` many times, which has poor performance.  Consider joining all columns at once using pd.concat(axis=1) instead. To get a de-fragmented frame, use `newframe = frame.copy()`\n",
      "  portfolio_cumulative_returns[n] = (1 + sim_df.fillna(0)).cumprod()\n",
      "C:\\Users\\legar\\Desktop\\COMPUTER_SCIENCE\\05_FINANCIAL_SIMULATIONS_APIS\\PORTFOLIO_SIM_PROJECT\\MCForecastTools.py:117: PerformanceWarning: DataFrame is highly fragmented.  This is usually the result of calling `frame.insert` many times, which has poor performance.  Consider joining all columns at once using pd.concat(axis=1) instead. To get a de-fragmented frame, use `newframe = frame.copy()`\n",
      "  portfolio_cumulative_returns[n] = (1 + sim_df.fillna(0)).cumprod()\n"
     ]
    },
    {
     "data": {
      "text/html": [
       "<div>\n",
       "<style scoped>\n",
       "    .dataframe tbody tr th:only-of-type {\n",
       "        vertical-align: middle;\n",
       "    }\n",
       "\n",
       "    .dataframe tbody tr th {\n",
       "        vertical-align: top;\n",
       "    }\n",
       "\n",
       "    .dataframe thead th {\n",
       "        text-align: right;\n",
       "    }\n",
       "</style>\n",
       "<table border=\"1\" class=\"dataframe\">\n",
       "  <thead>\n",
       "    <tr style=\"text-align: right;\">\n",
       "      <th></th>\n",
       "      <th>0</th>\n",
       "      <th>1</th>\n",
       "      <th>2</th>\n",
       "      <th>3</th>\n",
       "      <th>4</th>\n",
       "      <th>5</th>\n",
       "      <th>6</th>\n",
       "      <th>7</th>\n",
       "      <th>8</th>\n",
       "      <th>9</th>\n",
       "      <th>...</th>\n",
       "      <th>490</th>\n",
       "      <th>491</th>\n",
       "      <th>492</th>\n",
       "      <th>493</th>\n",
       "      <th>494</th>\n",
       "      <th>495</th>\n",
       "      <th>496</th>\n",
       "      <th>497</th>\n",
       "      <th>498</th>\n",
       "      <th>499</th>\n",
       "    </tr>\n",
       "  </thead>\n",
       "  <tbody>\n",
       "    <tr>\n",
       "      <th>0</th>\n",
       "      <td>1.000000</td>\n",
       "      <td>1.000000</td>\n",
       "      <td>1.000000</td>\n",
       "      <td>1.000000</td>\n",
       "      <td>1.000000</td>\n",
       "      <td>1.000000</td>\n",
       "      <td>1.000000</td>\n",
       "      <td>1.000000</td>\n",
       "      <td>1.000000</td>\n",
       "      <td>1.000000</td>\n",
       "      <td>...</td>\n",
       "      <td>1.000000</td>\n",
       "      <td>1.000000</td>\n",
       "      <td>1.000000</td>\n",
       "      <td>1.000000</td>\n",
       "      <td>1.000000</td>\n",
       "      <td>1.000000</td>\n",
       "      <td>1.000000</td>\n",
       "      <td>1.000000</td>\n",
       "      <td>1.000000</td>\n",
       "      <td>1.000000</td>\n",
       "    </tr>\n",
       "    <tr>\n",
       "      <th>1</th>\n",
       "      <td>0.993319</td>\n",
       "      <td>0.999050</td>\n",
       "      <td>0.997123</td>\n",
       "      <td>0.993704</td>\n",
       "      <td>0.998150</td>\n",
       "      <td>1.008141</td>\n",
       "      <td>1.001728</td>\n",
       "      <td>1.014646</td>\n",
       "      <td>0.984537</td>\n",
       "      <td>1.011958</td>\n",
       "      <td>...</td>\n",
       "      <td>1.009029</td>\n",
       "      <td>1.012066</td>\n",
       "      <td>0.995389</td>\n",
       "      <td>0.996996</td>\n",
       "      <td>0.995181</td>\n",
       "      <td>1.005504</td>\n",
       "      <td>0.982406</td>\n",
       "      <td>0.995417</td>\n",
       "      <td>0.997860</td>\n",
       "      <td>1.007524</td>\n",
       "    </tr>\n",
       "    <tr>\n",
       "      <th>2</th>\n",
       "      <td>0.987969</td>\n",
       "      <td>0.971663</td>\n",
       "      <td>0.990621</td>\n",
       "      <td>1.000527</td>\n",
       "      <td>0.992212</td>\n",
       "      <td>1.013540</td>\n",
       "      <td>1.001700</td>\n",
       "      <td>1.032615</td>\n",
       "      <td>0.982237</td>\n",
       "      <td>1.019577</td>\n",
       "      <td>...</td>\n",
       "      <td>0.995802</td>\n",
       "      <td>1.016981</td>\n",
       "      <td>1.004798</td>\n",
       "      <td>0.994481</td>\n",
       "      <td>0.989080</td>\n",
       "      <td>1.014136</td>\n",
       "      <td>0.996854</td>\n",
       "      <td>0.997321</td>\n",
       "      <td>0.995542</td>\n",
       "      <td>1.011963</td>\n",
       "    </tr>\n",
       "    <tr>\n",
       "      <th>3</th>\n",
       "      <td>0.986740</td>\n",
       "      <td>0.971945</td>\n",
       "      <td>0.988308</td>\n",
       "      <td>0.990459</td>\n",
       "      <td>0.992819</td>\n",
       "      <td>1.015515</td>\n",
       "      <td>1.009136</td>\n",
       "      <td>1.028617</td>\n",
       "      <td>0.994540</td>\n",
       "      <td>1.018246</td>\n",
       "      <td>...</td>\n",
       "      <td>0.989849</td>\n",
       "      <td>1.016692</td>\n",
       "      <td>1.005531</td>\n",
       "      <td>1.005677</td>\n",
       "      <td>0.987679</td>\n",
       "      <td>1.023705</td>\n",
       "      <td>1.000274</td>\n",
       "      <td>0.998090</td>\n",
       "      <td>0.981007</td>\n",
       "      <td>1.004306</td>\n",
       "    </tr>\n",
       "    <tr>\n",
       "      <th>4</th>\n",
       "      <td>0.979245</td>\n",
       "      <td>0.954862</td>\n",
       "      <td>0.984654</td>\n",
       "      <td>1.002668</td>\n",
       "      <td>0.987676</td>\n",
       "      <td>1.030704</td>\n",
       "      <td>1.026981</td>\n",
       "      <td>1.036703</td>\n",
       "      <td>1.000619</td>\n",
       "      <td>1.028416</td>\n",
       "      <td>...</td>\n",
       "      <td>0.981470</td>\n",
       "      <td>1.016276</td>\n",
       "      <td>1.007835</td>\n",
       "      <td>1.001873</td>\n",
       "      <td>0.997820</td>\n",
       "      <td>1.012326</td>\n",
       "      <td>1.010464</td>\n",
       "      <td>1.001268</td>\n",
       "      <td>0.976095</td>\n",
       "      <td>1.007970</td>\n",
       "    </tr>\n",
       "    <tr>\n",
       "      <th>...</th>\n",
       "      <td>...</td>\n",
       "      <td>...</td>\n",
       "      <td>...</td>\n",
       "      <td>...</td>\n",
       "      <td>...</td>\n",
       "      <td>...</td>\n",
       "      <td>...</td>\n",
       "      <td>...</td>\n",
       "      <td>...</td>\n",
       "      <td>...</td>\n",
       "      <td>...</td>\n",
       "      <td>...</td>\n",
       "      <td>...</td>\n",
       "      <td>...</td>\n",
       "      <td>...</td>\n",
       "      <td>...</td>\n",
       "      <td>...</td>\n",
       "      <td>...</td>\n",
       "      <td>...</td>\n",
       "      <td>...</td>\n",
       "      <td>...</td>\n",
       "    </tr>\n",
       "    <tr>\n",
       "      <th>2516</th>\n",
       "      <td>1.033993</td>\n",
       "      <td>2.620655</td>\n",
       "      <td>1.328080</td>\n",
       "      <td>1.097778</td>\n",
       "      <td>1.651040</td>\n",
       "      <td>2.118863</td>\n",
       "      <td>1.547183</td>\n",
       "      <td>1.851987</td>\n",
       "      <td>1.418965</td>\n",
       "      <td>1.822301</td>\n",
       "      <td>...</td>\n",
       "      <td>0.924827</td>\n",
       "      <td>1.855198</td>\n",
       "      <td>2.320782</td>\n",
       "      <td>1.530744</td>\n",
       "      <td>2.031955</td>\n",
       "      <td>0.870318</td>\n",
       "      <td>1.923606</td>\n",
       "      <td>0.930220</td>\n",
       "      <td>1.754361</td>\n",
       "      <td>0.676517</td>\n",
       "    </tr>\n",
       "    <tr>\n",
       "      <th>2517</th>\n",
       "      <td>1.048149</td>\n",
       "      <td>2.637269</td>\n",
       "      <td>1.341829</td>\n",
       "      <td>1.092847</td>\n",
       "      <td>1.655095</td>\n",
       "      <td>2.131842</td>\n",
       "      <td>1.550852</td>\n",
       "      <td>1.849331</td>\n",
       "      <td>1.411600</td>\n",
       "      <td>1.839442</td>\n",
       "      <td>...</td>\n",
       "      <td>0.920592</td>\n",
       "      <td>1.857711</td>\n",
       "      <td>2.304480</td>\n",
       "      <td>1.531549</td>\n",
       "      <td>2.046859</td>\n",
       "      <td>0.873954</td>\n",
       "      <td>1.940391</td>\n",
       "      <td>0.903514</td>\n",
       "      <td>1.734848</td>\n",
       "      <td>0.684281</td>\n",
       "    </tr>\n",
       "    <tr>\n",
       "      <th>2518</th>\n",
       "      <td>1.063417</td>\n",
       "      <td>2.631114</td>\n",
       "      <td>1.328259</td>\n",
       "      <td>1.098050</td>\n",
       "      <td>1.676535</td>\n",
       "      <td>2.151979</td>\n",
       "      <td>1.541485</td>\n",
       "      <td>1.874089</td>\n",
       "      <td>1.424426</td>\n",
       "      <td>1.865965</td>\n",
       "      <td>...</td>\n",
       "      <td>0.932281</td>\n",
       "      <td>1.875730</td>\n",
       "      <td>2.321358</td>\n",
       "      <td>1.518338</td>\n",
       "      <td>2.036069</td>\n",
       "      <td>0.885315</td>\n",
       "      <td>1.935907</td>\n",
       "      <td>0.909108</td>\n",
       "      <td>1.774101</td>\n",
       "      <td>0.683420</td>\n",
       "    </tr>\n",
       "    <tr>\n",
       "      <th>2519</th>\n",
       "      <td>1.054109</td>\n",
       "      <td>2.601212</td>\n",
       "      <td>1.308346</td>\n",
       "      <td>1.087493</td>\n",
       "      <td>1.674120</td>\n",
       "      <td>2.163333</td>\n",
       "      <td>1.547728</td>\n",
       "      <td>1.886549</td>\n",
       "      <td>1.429652</td>\n",
       "      <td>1.844256</td>\n",
       "      <td>...</td>\n",
       "      <td>0.936984</td>\n",
       "      <td>1.851815</td>\n",
       "      <td>2.347146</td>\n",
       "      <td>1.546717</td>\n",
       "      <td>2.048720</td>\n",
       "      <td>0.889949</td>\n",
       "      <td>1.975390</td>\n",
       "      <td>0.904097</td>\n",
       "      <td>1.760882</td>\n",
       "      <td>0.676441</td>\n",
       "    </tr>\n",
       "    <tr>\n",
       "      <th>2520</th>\n",
       "      <td>1.041450</td>\n",
       "      <td>2.573078</td>\n",
       "      <td>1.306198</td>\n",
       "      <td>1.086319</td>\n",
       "      <td>1.678452</td>\n",
       "      <td>2.181103</td>\n",
       "      <td>1.560385</td>\n",
       "      <td>1.900922</td>\n",
       "      <td>1.438016</td>\n",
       "      <td>1.855621</td>\n",
       "      <td>...</td>\n",
       "      <td>0.944580</td>\n",
       "      <td>1.859964</td>\n",
       "      <td>2.356311</td>\n",
       "      <td>1.547998</td>\n",
       "      <td>2.064334</td>\n",
       "      <td>0.900137</td>\n",
       "      <td>1.984432</td>\n",
       "      <td>0.903077</td>\n",
       "      <td>1.737138</td>\n",
       "      <td>0.681969</td>\n",
       "    </tr>\n",
       "  </tbody>\n",
       "</table>\n",
       "<p>2521 rows × 500 columns</p>\n",
       "</div>"
      ],
      "text/plain": [
       "           0         1         2         3         4         5         6    \\\n",
       "0     1.000000  1.000000  1.000000  1.000000  1.000000  1.000000  1.000000   \n",
       "1     0.993319  0.999050  0.997123  0.993704  0.998150  1.008141  1.001728   \n",
       "2     0.987969  0.971663  0.990621  1.000527  0.992212  1.013540  1.001700   \n",
       "3     0.986740  0.971945  0.988308  0.990459  0.992819  1.015515  1.009136   \n",
       "4     0.979245  0.954862  0.984654  1.002668  0.987676  1.030704  1.026981   \n",
       "...        ...       ...       ...       ...       ...       ...       ...   \n",
       "2516  1.033993  2.620655  1.328080  1.097778  1.651040  2.118863  1.547183   \n",
       "2517  1.048149  2.637269  1.341829  1.092847  1.655095  2.131842  1.550852   \n",
       "2518  1.063417  2.631114  1.328259  1.098050  1.676535  2.151979  1.541485   \n",
       "2519  1.054109  2.601212  1.308346  1.087493  1.674120  2.163333  1.547728   \n",
       "2520  1.041450  2.573078  1.306198  1.086319  1.678452  2.181103  1.560385   \n",
       "\n",
       "           7         8         9    ...       490       491       492  \\\n",
       "0     1.000000  1.000000  1.000000  ...  1.000000  1.000000  1.000000   \n",
       "1     1.014646  0.984537  1.011958  ...  1.009029  1.012066  0.995389   \n",
       "2     1.032615  0.982237  1.019577  ...  0.995802  1.016981  1.004798   \n",
       "3     1.028617  0.994540  1.018246  ...  0.989849  1.016692  1.005531   \n",
       "4     1.036703  1.000619  1.028416  ...  0.981470  1.016276  1.007835   \n",
       "...        ...       ...       ...  ...       ...       ...       ...   \n",
       "2516  1.851987  1.418965  1.822301  ...  0.924827  1.855198  2.320782   \n",
       "2517  1.849331  1.411600  1.839442  ...  0.920592  1.857711  2.304480   \n",
       "2518  1.874089  1.424426  1.865965  ...  0.932281  1.875730  2.321358   \n",
       "2519  1.886549  1.429652  1.844256  ...  0.936984  1.851815  2.347146   \n",
       "2520  1.900922  1.438016  1.855621  ...  0.944580  1.859964  2.356311   \n",
       "\n",
       "           493       494       495       496       497       498       499  \n",
       "0     1.000000  1.000000  1.000000  1.000000  1.000000  1.000000  1.000000  \n",
       "1     0.996996  0.995181  1.005504  0.982406  0.995417  0.997860  1.007524  \n",
       "2     0.994481  0.989080  1.014136  0.996854  0.997321  0.995542  1.011963  \n",
       "3     1.005677  0.987679  1.023705  1.000274  0.998090  0.981007  1.004306  \n",
       "4     1.001873  0.997820  1.012326  1.010464  1.001268  0.976095  1.007970  \n",
       "...        ...       ...       ...       ...       ...       ...       ...  \n",
       "2516  1.530744  2.031955  0.870318  1.923606  0.930220  1.754361  0.676517  \n",
       "2517  1.531549  2.046859  0.873954  1.940391  0.903514  1.734848  0.684281  \n",
       "2518  1.518338  2.036069  0.885315  1.935907  0.909108  1.774101  0.683420  \n",
       "2519  1.546717  2.048720  0.889949  1.975390  0.904097  1.760882  0.676441  \n",
       "2520  1.547998  2.064334  0.900137  1.984432  0.903077  1.737138  0.681969  \n",
       "\n",
       "[2521 rows x 500 columns]"
      ]
     },
     "execution_count": 38,
     "metadata": {},
     "output_type": "execute_result"
    }
   ],
   "source": [
    "# Run the Monte Carlo simulation to forecast 10 years cumulative returns\n",
    "MC_10_df.calc_cumulative_return()"
   ]
  },
  {
   "cell_type": "code",
   "execution_count": 39,
   "metadata": {},
   "outputs": [
    {
     "data": {
      "text/plain": [
       "<AxesSubplot:title={'center':'500 Simulations of Cumulative Portfolio Return Trajectories Over the Next 2520 Trading Days.'}>"
      ]
     },
     "execution_count": 39,
     "metadata": {},
     "output_type": "execute_result"
    },
    {
     "data": {
      "image/png": "[encoded data removed]",
      "text/plain": [
       "<Figure size 640x480 with 1 Axes>"
      ]
     },
     "metadata": {},
     "output_type": "display_data"
    }
   ],
   "source": [
    "# Visualize the 10-year Monte Carlo simulation by creating an\n",
    "# overlay line plot\n",
    "MC_10_df.plot_simulation()"
   ]
  },
  {
   "cell_type": "code",
   "execution_count": 40,
   "metadata": {},
   "outputs": [
    {
     "data": {
      "text/plain": [
       "<AxesSubplot:title={'center':'Distribution of Final Cumuluative Returns Across All 500 Simulations'}, ylabel='Frequency'>"
      ]
     },
     "execution_count": 40,
     "metadata": {},
     "output_type": "execute_result"
    },
    {
     "data": {
      "image/png": "[encoded data removed]",
      "text/plain": [
       "<Figure size 640x480 with 1 Axes>"
      ]
     },
     "metadata": {},
     "output_type": "display_data"
    }
   ],
   "source": [
    "# Visualize the probability distribution of the 10-year Monte Carlo simulation \n",
    "# by plotting a histogram\n",
    "MC_10_df.plot_distribution()"
   ]
  },
  {
   "cell_type": "code",
   "execution_count": 42,
   "metadata": {},
   "outputs": [
    {
     "name": "stdout",
     "output_type": "stream",
     "text": [
      "count           500.000000\n",
      "mean              1.841011\n",
      "std               0.825812\n",
      "min               0.441393\n",
      "25%               1.280105\n",
      "50%               1.694950\n",
      "75%               2.265234\n",
      "max               7.203722\n",
      "95% CI Lower      0.700786\n",
      "95% CI Upper      3.803277\n",
      "Name: 2520, dtype: float64\n"
     ]
    },
    {
     "name": "stderr",
     "output_type": "stream",
     "text": [
      "C:\\Users\\legar\\Desktop\\COMPUTER_SCIENCE\\05_FINANCIAL_SIMULATIONS_APIS\\PORTFOLIO_SIM_PROJECT\\MCForecastTools.py:172: FutureWarning: The series.append method is deprecated and will be removed from pandas in a future version. Use pandas.concat instead.\n",
      "  return metrics.append(ci_series)\n"
     ]
    }
   ],
   "source": [
    "# Generate summary statistics from the 10-year Monte Carlo simulation results\n",
    "# Save the results as a variable\n",
    "MC_10_stats = MC_10_df.summarize_cumulative_return()\n",
    "\n",
    "\n",
    "# Review the 10-year Monte Carlo summary statistics\n",
    "print(MC_10_stats)"
   ]
  },
  {
   "cell_type": "markdown",
   "metadata": {},
   "source": [
    "### Answer the following questions:"
   ]
  },
  {
   "cell_type": "markdown",
   "metadata": {},
   "source": [
    "#### Question: Using the current value of only the stock and bond portion of the member's portfolio and the summary statistics that you generated from the new Monte Carlo simulation, what are the lower and upper bounds for the expected value of the portfolio (with the new weights) with a 95% confidence interval?"
   ]
  },
  {
   "cell_type": "code",
   "execution_count": 43,
   "metadata": {},
   "outputs": [
    {
     "name": "stdout",
     "output_type": "stream",
     "text": [
      "70198.9\n"
     ]
    }
   ],
   "source": [
    "# Print the current balance of the stock and bond portion of the members portfolio\n",
    "print(total_stocks_bonds)"
   ]
  },
  {
   "cell_type": "code",
   "execution_count": 44,
   "metadata": {},
   "outputs": [
    {
     "name": "stdout",
     "output_type": "stream",
     "text": [
      "With a portfolio valuation of $70198.90, and a weighted split of 80% for SPY and 20% for AGG, the lower bound projected return for your portfolio is $49194.44, and the upper bound projected return for your portfolio is $266985.90.\n"
     ]
    }
   ],
   "source": [
    "# Use the lower and upper `95%` confidence intervals to calculate the range of the possible outcomes for the current stock/bond portfolio\n",
    "ci_lower_ten_cumulative_return = MC_10_stats[8] * total_stocks_bonds\n",
    "ci_upper_ten_cumulative_return = MC_10_stats[9] * total_stocks_bonds\n",
    "\n",
    "# Print the result of your calculations\n",
    "print(f'With a portfolio valuation of ${total_stocks_bonds:.2f}, and a weighted split of'\n",
    "      f' 80% for SPY and 20% for AGG, the lower bound projected return for your portfolio is'\n",
    "      f' ${ci_lower_ten_cumulative_return:.2f}, and the upper bound projected return for your'\n",
    "      f' portfolio is ${ci_upper_ten_cumulative_return:.2f}.')"
   ]
  },
  {
   "cell_type": "markdown",
   "metadata": {},
   "source": [
    "#### Question: Will weighting the portfolio more heavily to stocks allow the credit union members to retire after only 10 years?"
   ]
  },
  {
   "cell_type": "raw",
   "metadata": {},
   "source": [
    "**Answer** # YOUR ANSWER HERE"
   ]
  },
  {
   "cell_type": "code",
   "execution_count": null,
   "metadata": {},
   "outputs": [],
   "source": []
  }
 ],
 "metadata": {
  "kernelspec": {
   "display_name": "Python 3 (ipykernel)",
   "language": "python",
   "name": "python3"
  },
  "language_info": {
   "codemirror_mode": {
    "name": "ipython",
    "version": 3
   },
   "file_extension": ".py",
   "mimetype": "text/x-python",
   "name": "python",
   "nbconvert_exporter": "python",
   "pygments_lexer": "ipython3",
   "version": "3.9.13"
  }
 },
 "nbformat": 4,
 "nbformat_minor": 4
}

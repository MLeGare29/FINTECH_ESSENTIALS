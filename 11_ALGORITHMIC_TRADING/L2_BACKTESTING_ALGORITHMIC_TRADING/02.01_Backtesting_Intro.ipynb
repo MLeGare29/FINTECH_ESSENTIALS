{
 "cells": [
  {
   "cell_type": "code",
   "execution_count": 1,
   "id": "4049ae26-041c-4619-9a4e-0e1aab1a6f5d",
   "metadata": {},
   "outputs": [],
   "source": [
    "# INTRODUCTION TO BACKTESTING\n",
    "# Algorithmic trading has become common and widely available across the financial world.\n",
    "# But, we have a potentially enormous number of trading algorithms that use different strategies, make different decisions, and return different results.\n",
    "# So, how does an analyst decide which strategy to incorporate into an algorithm or which trading algorithm to use for a particular portfolio?\n",
    "# We get the answer when we learn that the FinTech world has developed ways to determine the results that an algorithm might produce.\n",
    "# These results include how much a person might gain or lose - and, based on these metrics, which algorithms might be appropriate for a particular portfolio.\n",
    "# The backbone of this determination consists of two factors:\n",
    "    # 1. The investors risk tolerance\n",
    "    # 2. The algorithm's risk/reward characteristics\n",
    "# The RISK TOLERANCE, like the name suggests, is the level of risk that an investor is willing to tolerate.\n",
    "# The RISK/REWARD CHARACTERISTICS are the potential downsides and profitability of the algorithm.\n",
    "# An optimal trading algorithm for a particular portfolio aligns the level of risk that an investor can tolerate with the level of risk that's inherent to the algorithm.\n",
    "# To asses the risk/reward characteristics, we begin by BACKTESTING the algorithm, or evaluating its performance by using historical stock data.\n",
    "# In this lesson, you'll backtest a trading algorithm and then use the backtesting data to quantify the various risk metrics."
   ]
  },
  {
   "cell_type": "code",
   "execution_count": 4,
   "id": "465a1607-d4eb-499f-8703-c2b719efc02a",
   "metadata": {},
   "outputs": [],
   "source": [
    "# WHAT'S AN OPTIMAL TRADING ALGORITHM?\n",
    "# In the investment world, no single trading strategy works for every individual or situation.\n",
    "# Individuals who are more RISK AVERSE want more conservative trading strategies, or those with less potential profit, but also less risk of loss.\n",
    "# By contrast, RISK LOVING individuals are willing to take on more speculative trading strategies, or those with the potential for great profit but also for great loss.\n",
    "# An individual might also feel more risk averse in one situation and more risk loving in another.\n",
    "# For example, you might treat your retirement account differently than the short-term account that you use to fund your day-to-day expenses.\n",
    "# You can take more risk with your retirement account if a long time will elapse until you'll need the funds.\n",
    "# By contrase, if you need the funds from your short-term account to pay the mortgage or rent next month, you won't have time to make up for potential investment losses.\n",
    "# Here is a quick summary of each type of investor, from conservative to aggressive:\n",
    "    # 1. CONSERVATIVE: Primarily focused on capital preservation. Willing to forgo potentially higher returns in exchange for a measure of stability.\n",
    "    # 2. MODERATELY CONSERVATIVE: Willing to accept a small measure of risk in exchange for potentially higher returns, but still primarily focused on protecting the current principal balance.\n",
    "    # 3. MODERATE: Demonstrates an equal interest in reducing risk and providing higher returns.\n",
    "    # 4. MODERATELY AGGRESSIVE: Primarily focused on long-term returns for the portfolio, and willing to accept significant levels of risk to achieve them.\n",
    "    # 5. AGGRESSIVE: Primarily focused on maximizing portfolio returns and performance. The risk level is extremely high, and the loss of capital is likely.\n",
    "# Traditionally, a financial advisor discovers a customer's risk tolerance and then determines a trading strategy that's appropriate or the customer's needs.\n",
    "# We take similar steps for algorithmic trading.\n",
    "# We first evaluate a trading algorithm to determine its risk/reward characteristics.\n",
    "# Based on this information, we then determine whether the algorithm meets our needs.\n",
    "# In the next section, you'll learn how to backtest a trading algorithm.\n",
    "# Later in this lesson, you'll learn how to calculate the portfolio level and the trade level metrics that offer insights into the risk profile of a trading algorithm.\n",
    "# With these skills, you'll be able to quantify the performance of a trading algorithm to verify that it trades within your personal risk tolerance."
   ]
  },
  {
   "cell_type": "code",
   "execution_count": 5,
   "id": "fb69ef71-8ec2-4c2f-8a38-049141092f7d",
   "metadata": {},
   "outputs": [],
   "source": [
    "# ON THE JOB\n",
    "# Risk-averse individuals are often categorized as investors who want low-risk, low-volatility investments, which should gain gradual profits over the long term.\n",
    "# Risk loving individuals are often categorized as investors who want high-risk, high-volatility investments, which should profit from short-term price fluctuations."
   ]
  },
  {
   "cell_type": "code",
   "execution_count": null,
   "id": "3e36f783-2a16-4b6d-b956-bef72c0edb50",
   "metadata": {},
   "outputs": [],
   "source": [
    "# DEEP DIVE\n",
    "# Check out the Investopedia definition of risk/reward ratio. The concept of this ratio informs all decisions in the art of trading:\n",
    "    # https://www.investopedia.com/terms/r/riskrewardratio.asp"
   ]
  }
 ],
 "metadata": {
  "kernelspec": {
   "display_name": "Python 3 (ipykernel)",
   "language": "python",
   "name": "python3"
  },
  "language_info": {
   "codemirror_mode": {
    "name": "ipython",
    "version": 3
   },
   "file_extension": ".py",
   "mimetype": "text/x-python",
   "name": "python",
   "nbconvert_exporter": "python",
   "pygments_lexer": "ipython3",
   "version": "3.9.13"
  }
 },
 "nbformat": 4,
 "nbformat_minor": 5
}

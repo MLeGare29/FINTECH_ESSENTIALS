{
 "cells": [
  {
   "cell_type": "code",
   "execution_count": 1,
   "id": "6bce202b-2707-4e1c-8547-4d71002adc37",
   "metadata": {},
   "outputs": [],
   "source": [
    "# SEARCHING FOR CAREER OPPORTUNITIES:\n",
    "# Searching for career opportunities in trading can prove a bit more chanllenging than searching for opportunities as a data analyst, application developer, or machine learning engineer.\n",
    "# This is because, typically, fewer roles to fill in algorithmic trading exist in FinTech compared to those that are currently in high demand.\n",
    "# However, if you have a passion for algorithmic trading, don't let that stop you.\n",
    "# You can search for roles that include Quantitative Researcher, Trading Analyst, or Trader.\n",
    "# The following subsections describe a few roles, which vary in technical complexity.\n",
    "# However, the common these is that they all require you to know how financial markets work, how to create and backtest investment strategies, and - perhaps more importantly - how to code in Python."
   ]
  },
  {
   "cell_type": "code",
   "execution_count": 2,
   "id": "7bb13627-4605-4c4b-a919-def29aeb1d60",
   "metadata": {},
   "outputs": [],
   "source": [
    "# QUANTITATIVE RESEARCHER\n",
    "# This career title sometimes refers to roles outside of algorithmic trading.\n",
    "# However, algorithmic trading commonly uses this title.\n",
    "# Within algorithmic trading, quantitative researchers work with data (almost always in Python) to create new strategies and backtest them."
   ]
  },
  {
   "cell_type": "code",
   "execution_count": 3,
   "id": "e8ec22b0-0d8d-4e59-95f9-65e45da0f638",
   "metadata": {},
   "outputs": [],
   "source": [
    "# TRADING ANALYST\n",
    "# People often consider this role to be a good way to break into the industr.\n",
    "# This is because it generally requires basic knowledge of financial markets and how they operate, but also working proficiency in a programming language like Python.\n",
    "# Instead of helping to develop code that creates and backtests new trading strategies, a Trading Analyst works with the firm's current strategies.\n",
    "# Specifically, the analyst usually evaluates the risk of these strategies and measures how trading in them might move prices in an adverse way, which is called MARKET IMPACT.\n",
    "# Because a trading analyst gets an excellent overview of the algorithmic trading process, this role offers a good place to start for learning everything you need to know."
   ]
  },
  {
   "cell_type": "code",
   "execution_count": 4,
   "id": "00a4b6bd-6e6c-4aa0-83f8-2f590e8d35e0",
   "metadata": {},
   "outputs": [],
   "source": [
    "# QUANTITATIVE TRADER\n",
    "# This common job title in algorithmic trading exists in the following capacities:\n",
    "    # 1. Big banks, trading anything form stocks to esoteric derivatives.\n",
    "    # 2. Proprietary trading firms - specializing in trading and managing its own money.\n",
    "    # 3. Hedge funds\n",
    "# Some crypto exchanges, seeking to profit from market knowledge and provide exchange services, also periodically hire quantitative traders."
   ]
  },
  {
   "cell_type": "code",
   "execution_count": null,
   "id": "48e368c0-e1b2-4baa-8174-11116433a0b8",
   "metadata": {},
   "outputs": [],
   "source": [
    "# EXPLORE MORE\n",
    "# To learn more about algorithmic trading with Python, review the following resources:\n",
    "    # 1. https://blog.quantinsti.com/python-trading/\n",
    "    # 2. https://github.com/peerchemist/finta\n",
    "    # 3. https://alpaca.markets/algotrading\n",
    "    # 4. https://gbeced.github.io/pyalgotrade/\n",
    "    # 5. https://pypi.org/project/Backtesting/"
   ]
  }
 ],
 "metadata": {
  "kernelspec": {
   "display_name": "Python 3 (ipykernel)",
   "language": "python",
   "name": "python3"
  },
  "language_info": {
   "codemirror_mode": {
    "name": "ipython",
    "version": 3
   },
   "file_extension": ".py",
   "mimetype": "text/x-python",
   "name": "python",
   "nbconvert_exporter": "python",
   "pygments_lexer": "ipython3",
   "version": "3.9.13"
  }
 },
 "nbformat": 4,
 "nbformat_minor": 5
}

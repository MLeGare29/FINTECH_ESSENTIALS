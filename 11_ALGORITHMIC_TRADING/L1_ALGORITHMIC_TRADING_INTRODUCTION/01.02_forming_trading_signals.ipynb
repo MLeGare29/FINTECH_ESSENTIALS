{
 "cells": [
  {
   "cell_type": "code",
   "execution_count": 1,
   "id": "1f23cb9b-3828-4118-b977-e460ffe7e708",
   "metadata": {},
   "outputs": [],
   "source": [
    "# FORMING TRADING SIGNALS\n",
    "# A trading algorithm requires the proper TRADING SIGNALS.\n",
    "# TRADING SIGNALS are poin-in-time indications of when to buy a stock (enter a trade) or sell the stock (exit the trade).\n",
    "# For example, in the case of our simple trading algorithm, we chose to buy MRCS stock when the price of the current day was less than that of the previous day.\n",
    "# That is, the signal to enter the trade occured when the price of the current day was less than that of the previous day.\n",
    "# Such a strategy is appropriate if we assume that the stock price will continue to fluctuate each day.\n",
    "# That is, the price might go up on one day, down the next, and so on.\n",
    "# But, what if the stock price continues to slide?\n",
    "# We don't want to buy the stock if we expect the price to continually decrease in the short term.\n",
    "# To make intelligent trades, we therefore need to form trading signals that can identify underlying price trends and thus refine our trade entry and exit strategies.\n",
    "# To determine which buy adn sell trading signals to deploy in a stock trading algorithm, we need to understand the patterns that are associated with the price movements.\n",
    "# To accomplish this, we'll analyze both the fundamental and technical metrics of stock."
   ]
  },
  {
   "cell_type": "code",
   "execution_count": 2,
   "id": "f265b517-be47-4399-b40f-00df5a1b8b9c",
   "metadata": {},
   "outputs": [],
   "source": [
    "# ON THE JOB\n",
    "# The trading industry has a common saying: The trend is your friend.\n",
    "# This means that one good trade often proves better than many trades in the following scenario:\n",
    "    # The one good trade follows the stock that has a price trening in a consistent direction.\n",
    "# But, the many trades constantly buy and sell a stock because of volatile price changes.\n",
    "# An algorithm that makes many trades (thousands or more) is known as a HIGH-FREQUENCY TRADING ALGORITHM.\n",
    "# We can implement fundamental analysis in algorithmic trading.\n",
    "# But doing so usually requires analyzing three financial statements form a company:\n",
    "    # 1. Income\n",
    "    # 2. Balance sheet\n",
    "    # 3. Cash flow"
   ]
  },
  {
   "cell_type": "code",
   "execution_count": 3,
   "id": "ac94a5b0-348f-492e-99ec-756af7951d7e",
   "metadata": {},
   "outputs": [],
   "source": [
    "# WHAT'S FUNDAMENTAL ANALYSIS VS TECHNICAL ANALYSIS?\n",
    "# We need to understand how a stock price might trend in either the short or long term.\n",
    "# Two schools of thought exist in the investment world for how to do so:\n",
    "    # 1. FUNDAMENTAL ANALYSIS\n",
    "    # 2. TECHNICAL ANALYSIS\n",
    "\n",
    "# FUNDAMENTAL ANALYSIS focuses on the long-term health of a company.\n",
    "# This inclueds its historical cash flow, debt-to-equity ratio, and managament quality.\n",
    "# The healthier the financial outlook for a company, the higher we expect its stock price to trend.\n",
    "\n",
    "# TECHNICAL ANALYSIS focuses on the price action of a company's stock - that is, its behavior as shares are bought and sold.\n",
    "# Because technical analysis is quantitative in nature, algorithmic trading often leans toward this philosophy when determining when to buy or sell.\n",
    "# When using technical analysis, traders often rely on price-derived calculations known as TECHNICAL INDICATORS.\n",
    "# TECHNICAL INDICATORS gauge short-term price trends.\n",
    "# Let's explore the concept of technical indicators and how to use them to identify trading signals in more detail."
   ]
  },
  {
   "cell_type": "code",
   "execution_count": 4,
   "id": "c3cc76d1-1b0a-4f42-b551-d3cde82de08c",
   "metadata": {},
   "outputs": [],
   "source": [
    "# EXPLORING TECHNICAL INDICATORS AND TRADING SIGNALS\n",
    "# Because of the lucrative nature of trading, stock traders have developed many technical indicators that signal when to buy or sell a stock.\n",
    "# Traders can base these indicators on a wide variety of factors, which involve varying amounts of complexity, historical pricing information, and computing power.\n",
    "# One of the modt popular technical indicators - the one we'll focus on in this module - is the simple moving average (SMA).\n",
    "# The SMA calculates the average price of a stock over a rolling period of a specific number of days.\n",
    "# Examples of these periods include 30 days, 50 days, and 200 days.\n",
    "\n",
    "# REWIND \n",
    "# The concept of the rolling average was first introduced back in Module 4, when we examined the risk metrics for a stock.\n",
    "# We used the Pandas rolling function with its `window` parameter, which specifies the number of days for the rolling period.\n",
    "# https://pandas.pydata.org/pandas-docs/stable/reference/api/pandas.DataFrame.rolling.html\n",
    "\n",
    "# Consider using both a long-window SMA (say, for 100 or 200 days) and a short-window SMA (say, for 30 or 50 days).\n",
    "# When the short-window SMA is greater than the long-window SMA, we can assume that the price trend is positive over the short term.\n",
    "# When the opposite is true - when the short-window SMA is less than the long-window SMA - we can likewise assume a negative price trend.\n",
    "# When viewing an SMA plot, you'll notice that points exist where the two SMA lines cross one another.\n",
    "# These CROSSOVER POINTS indicate when the short-term price trend changes.\n",
    "# We consider such changes as opportunities to either enter or exit a trade.\n",
    "# Consider the point on the plot where the short-window SMA crosses below the long-window SMA (that is, where the short-window SMA now has a lower value than the long-window SMA).\n",
    "# That point indicates that the asset price is expected to trend lower, so we should sell our stock before the prices decreases further.\n",
    "# Now, consider the point on the plot where the short-window SMA crosses above the long-window SMA (that is, where the short-window SMA has a higher value than the long-window SMA).\n",
    "# Such a point indicates that the asset price is trending higher, so we should start buying stock before the price increases too much.\n",
    "# These crossover points become the trading signals that define the entry and exit points for our trading algorithm.\n",
    "# This particular strategy is known as DUAL MOVING AVERAGE CROSSOVER (DMAC) trading.\n",
    "# We'll further explore this strategy in the next section."
   ]
  },
  {
   "cell_type": "code",
   "execution_count": null,
   "id": "8af959f3-30ec-484e-ad41-d8e8cd6b9f2a",
   "metadata": {},
   "outputs": [],
   "source": [
    "# DEEP DIVE\n",
    "# Technical indicators can include calculations based on changes in a stock price, like moving averages and standard deviation measures.\n",
    "# They can also include calculations based on concepts like Bollinger bands, fibonacci levels, and the average directional index.\n",
    "# To learn more about these types of indicators, review the following link:\n",
    "    # https://www.ig.com/us/trading-strategies/10-trading-indicators-every-trader-should-know-190604\n",
    "# Check out TRADING VIEW (https://www.tradingview.com/), a free stock-charting platform with a multitude of features.\n",
    "# These include the ability to overlay technical indicators, like 50-day and 200-day moving averages, over the closing prices of a stock.\n",
    "# Visualizations that incorporate technical indicators will assist you in analyzing the current price trend of a stock.\n",
    "# You can then more easily identify your trading signals."
   ]
  }
 ],
 "metadata": {
  "kernelspec": {
   "display_name": "Python 3 (ipykernel)",
   "language": "python",
   "name": "python3"
  },
  "language_info": {
   "codemirror_mode": {
    "name": "ipython",
    "version": 3
   },
   "file_extension": ".py",
   "mimetype": "text/x-python",
   "name": "python",
   "nbconvert_exporter": "python",
   "pygments_lexer": "ipython3",
   "version": "3.9.13"
  }
 },
 "nbformat": 4,
 "nbformat_minor": 5
}

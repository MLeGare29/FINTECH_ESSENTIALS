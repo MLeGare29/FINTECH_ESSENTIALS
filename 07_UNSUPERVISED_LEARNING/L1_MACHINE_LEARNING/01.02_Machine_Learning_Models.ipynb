{
 "cells": [
  {
   "cell_type": "code",
   "execution_count": 1,
   "id": "86f28192-a1be-40cd-8f28-24d57e430299",
   "metadata": {},
   "outputs": [],
   "source": [
    "# CREATING MODELS TO UNDERSTAND THE WORLD\n",
    "# You're probably already familiar with models in the world.\n",
    "# Weather forecasters use numerical and statistical information form past weather data to build models that foreast the next hour, day, or week.\n",
    "# Historically, they might have used mathematics and analyses to manually create those models.\n",
    "# The difference with machine learning is that the algorithms help us build and train our models - however, the core principle remains the same\n",
    "# If wecan use data to build a mathematical model for something in the real world, we can use that model to help us make decision or predictions about new data.\n",
    "# This is how the weather forecasts work.\n",
    "# If we use past data about temperature, humidity, wind, clouds, precipitation, and air pressure to build a weather model, we can use that model to help us figure out the current weather or make guesses about the future weather.\n",
    "# As FinTech professionals, we use machine learning algorithms to model representations of the world around us.\n",
    "# The modelts make predictions or find hidden patterns based on the dat that's available to us.\n",
    "# Some impressive tools are available to help us create the perfect model for almost any application.\n",
    "# Let's explore some of the main categories of models and algorithms that exist in machine learning right now."
   ]
  },
  {
   "cell_type": "code",
   "execution_count": null,
   "id": "9b65d15b-7b5e-411d-92a4-40238d30d9fd",
   "metadata": {},
   "outputs": [],
   "source": [
    "# OVERVIEW OF MACHINE LEARNING MODELS\n",
    "# With the recent advancements in machine learning and AI, some impressive tools have become available for us to use.\n",
    "# In afact, so many exist that we can easily get confused by the terminology and options.\n",
    "# Maybe you've heard of regression, clustering, neural networks, deep learning, or others, but these are different approaches to finding representative models of the world.\n",
    "# Broadly speaking, we can group these types of models into three buckets:\n",
    "    # 1. SUPERVISED LEARNING: The algorithm learns on a labeled dataset, where each example in the dataset is tagged with the answer. This provides an answer key that can be used to evaluate accuracy of the training data.\n",
    "    # 2. UNSUPERVISED LEARNING: The algorithm tries to make sense of an unlabeled dataset by extracting features and patterns on its own.\n",
    "    # 3. REINFORCEMENT LEARNING: The algorithm attempts to find the optimal way to accomplish a goal or complete a task. As the algorithm improves in achieving that goal, it receives a reward.\n",
    "# The lessons in this module explore these thre categories.\n",
    "# The three main models of machine learning and how they generally apply to financial application are as follows:\n",
    "    # 1. SUPERVISED LEARNING: This model has the following categories:\n",
    "        # CLASSIFICATION: This category generally applies to the following financial applications:\n",
    "            # 1. Fraud Detection\n",
    "            # 2. Image Classification\n",
    "            # 3. Customer Retention\n",
    "            # 4. Credit Approval\n",
    "        # REGRESSION: This category generally applies to the following:\n",
    "            # 1. Fraud Detection\n",
    "            # 2. Trend Identification\n",
    "            # 3. Time Series Forecasting\n",
    "    # 2. UNSUPERVISED LEARNING: This model has the following categories:\n",
    "        # DIMENSIONALITY REDUCTION: This category generally applies to the following:\n",
    "            # 1. Feature Discernment\n",
    "            # 2. Structure Discovery\n",
    "            # 3. Big Data Visualization\n",
    "        # CLUSTERING: This category applies to the following:\n",
    "            # 1. Recommended Systems\n",
    "            # 2. Targeted Marketing\n",
    "            # 3. Customer Segmentation\n",
    "    # 3. REINFORCEMENT LEARNING: This category applies to the following:\n",
    "        # 1. Real-Time Decisions\n",
    "        # 2. Venture Funding\n",
    "        # 3. Learning Tasks\n",
    "        # 4. Skill Acquisition\n",
    "        # 5. Algorithmic Trading\n",
    "# The majority of Python libraries for machine learning use a common interface to build and use machine learning models.\n",
    "# In later lessons, we'll discover how to create and use machine learning models in different applications.\n",
    "# In fact, over the next several lessons and modules, we'll learn how to apply machine learning to all the applications that we just listed.\n",
    "# In the next lesson, we'll start our journey into machine learning models by exploring Unsupervised Learning.\n",
    "# We'll apply Unsupervised Learning by clustering and reducing the dimensionality (that is, the complexity) of data."
   ]
  }
 ],
 "metadata": {
  "kernelspec": {
   "display_name": "Python 3 (ipykernel)",
   "language": "python",
   "name": "python3"
  },
  "language_info": {
   "codemirror_mode": {
    "name": "ipython",
    "version": 3
   },
   "file_extension": ".py",
   "mimetype": "text/x-python",
   "name": "python",
   "nbconvert_exporter": "python",
   "pygments_lexer": "ipython3",
   "version": "3.9.13"
  }
 },
 "nbformat": 4,
 "nbformat_minor": 5
}

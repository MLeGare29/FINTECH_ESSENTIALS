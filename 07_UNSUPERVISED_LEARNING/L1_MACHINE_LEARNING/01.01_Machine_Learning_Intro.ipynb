{
 "cells": [
  {
   "cell_type": "code",
   "execution_count": 1,
   "id": "96fc1fb2-4604-4922-8098-8eee36f8ecce",
   "metadata": {},
   "outputs": [],
   "source": [
    "# INTRODUCTION TO MACHINE LEARNING\n",
    "# Machine learning is a type of artificial intelligence that uses algorithms and statistical models to make decisions or predictions about data.\n",
    "# Along with today's computer power, machine learning is changing the financial world faster than ever before.\n",
    "# This is happening especially because of the automation power that provides quicker and more efficient decisions than ever.\n",
    "# Machine learning is disrupting the financial world by detecting fraud in a matter of seconds, predicting stock prices and revenue for the next year, and understanding human languages to offer financial advice via robotic advisors.\n",
    "# In this lesson, you'll learn what machine learning is an dhow to identify machine learning models in finance."
   ]
  },
  {
   "cell_type": "code",
   "execution_count": 2,
   "id": "7dda72d4-fff6-4476-af98-dfb2f98dd876",
   "metadata": {},
   "outputs": [],
   "source": [
    "# THE MYSTICISM OF MACHINE LEARNING\n",
    "# Machine learning has become a buzzword that almost everyone has heard in the tech and FinTech worlds.\n",
    "# Self-driving cars, chatbots, and surprisingly accurate text generators frequently make headlines and news.\n",
    "# Despite the mainstream use of the term, most people still don't know what machine learning really is.\n",
    "# In essence, MACHINE LEARNING is the practice of applying computer algorithms and statistics that can learn from data and then make decisions or predictions about future data.\n",
    "# We've already been writing code that can make decisions by using explicit conditional statements and logic.\n",
    "# Machine learning algorithms learn how to make decisions without needing anyone to program all the logic.\n",
    "# They learn patterns, behavior, and logic on their own directly from the data an then use that knowledge to make decisions and predictions.\n",
    "# If machine learning consists of just computer algorithms and statistics, you might wonder how that differs from the computer programs that you wrote in Python.\n",
    "# The secret is that machine learning algorithms use MODELS - mathematical structures learned form data - to represent their knowledge to the world.\n",
    "# The algorithms learn from the data and then update the models to become more and more accurate at how well they make decisions and predictions."
   ]
  },
  {
   "cell_type": "code",
   "execution_count": 3,
   "id": "5af3d7e4-729d-49af-a19a-951d3c6e1ed2",
   "metadata": {},
   "outputs": [],
   "source": [
    "# WHY IS MACHINE LEARNING ESSENTIAL FOR FINTECH?\n",
    "# The applications for machine learning range widely.\n",
    "# They run the gamut from textual analysis of fraudulent contracts to determining interest rates.\n",
    "# Applications can also determine whether to lend loans or automate trading models. \n",
    "# Let's discuss some applications that heavily use machine learning."
   ]
  },
  {
   "cell_type": "code",
   "execution_count": 5,
   "id": "9c1858e0-3774-4810-8352-ce6929e730c0",
   "metadata": {},
   "outputs": [],
   "source": [
    "# MACHINE LEARNING FOR FINANCIAL ADVISING\n",
    "# One intriguing use of machine learning is replacing the traditional financial advisor with AI.\n",
    "# For example, FinTech companies that automate saving for retirement include Wealthfront, Betterment, and SoFi.\n",
    "# Using machine learning to recommend tailored portfolis and manage the whole process means that customers no longer hav to pay high annual fees to traditional advisors.\n",
    "# And after all, millennials and later generations would rather talk to a screen than a person regarding their finances.\n",
    "# Such automation to reduce consts isn't isolated to FinTech products oriented toward end users, like individuals saving for retirment.\n",
    "# J.P Morgan, for example, has developed a program named COIN.\n",
    "# It uses natural languages processing (NLP) to automatically run due diligence on its commercial credit contract agreements.\n",
    "# These lines of code compress the 360,000 hours of work that humans previously did into seconds."
   ]
  },
  {
   "cell_type": "code",
   "execution_count": 6,
   "id": "c53d5880-c09c-475d-b2dd-3f3ca6fdb44e",
   "metadata": {},
   "outputs": [],
   "source": [
    "# MACHINE LEARNING FOR FORECASTING MARKET RESULTS\n",
    "# We also use machine learning models to forecast financial market results.\n",
    "# These forecasts range from loan evaluation (for example, predicting the default rates on bonds or consumer loans) to high-frequency algorithmic trading in the stock market.\n",
    "# Algorithmic trading that statistical models drive isn't necessarily new.\n",
    "# The quant hedge fund known as Two Sigma Securities, for example, automatically trades more than 300 million shares a day.\n",
    "# The fund has been in business since the early 2000s.\n",
    "# Within the last five years, however, algorithmic trading has come to account for 75% to 80% of all equity trades in the US.\n",
    "# This algorithmic trading includes the variety that decisions involving machine learning drive.\n",
    "# Furthermore, perhaps partly because of their purely virtual beginnings, more cryptocurrency exchanges and trading firms are seeking individuals who can write machine learning code that trades profitably."
   ]
  },
  {
   "cell_type": "code",
   "execution_count": null,
   "id": "6d911d01-6998-4f10-8731-9f6d0105ab27",
   "metadata": {},
   "outputs": [],
   "source": [
    "# MACHINE LEARNING FOR MORE APPLICATIONS\n",
    "# The use of machine learning in FinTech is vast.\n",
    "# More uses that htis lesson hasn't already mentioned include identifying money-laundering and sanctions violations, recognizing satellites for the real-time awareness of trading opportunities in commodities, and predicting customer churn in financial products.\n",
    "# Even the venture capital and private equity industries have begun to experiment with machine learning models to predict the likelihood of start-up success.\n",
    "# As long as something exists to automate or predict, machine learning is there.\n",
    "# The potential applications are mostly unlimited.\n",
    "# Next, we'll find out how models help us understand the world."
   ]
  }
 ],
 "metadata": {
  "kernelspec": {
   "display_name": "Python 3 (ipykernel)",
   "language": "python",
   "name": "python3"
  },
  "language_info": {
   "codemirror_mode": {
    "name": "ipython",
    "version": 3
   },
   "file_extension": ".py",
   "mimetype": "text/x-python",
   "name": "python",
   "nbconvert_exporter": "python",
   "pygments_lexer": "ipython3",
   "version": "3.9.13"
  }
 },
 "nbformat": 4,
 "nbformat_minor": 5
}

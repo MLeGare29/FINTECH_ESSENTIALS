{
 "cells": [
  {
   "cell_type": "code",
   "execution_count": 1,
   "id": "3d779e55-16c6-483a-ada7-4ac7d4bc8888",
   "metadata": {},
   "outputs": [],
   "source": [
    "# INTRODUCTION TO UNSUPERVISED LEARNING\n",
    "# Unsupervised Learning is a machine learning model that is popular in the FinTech industry, including the retail space.\n",
    "# With Unsupervised Learning, algorithms used test data to construct models that categorize relationships among data points.\n",
    "# For example, when you're reviewing a particular item for purchase on a website, Unsupervised Learning algorithms might be used to identify related items that are frequently bought together.\n",
    "# This recognition power for data patterns has broad applications in finance.\n",
    "# For example, Unsupervised Learning can be used to identify CLUSTERS, or related groups, of clients to target with product offerings or market campaigns.\n",
    "# The K-means algorithm is used for marketing use cases because of its ability to segment customers for financial benefits.\n",
    "# In this lesson, you'll apply Unsupervised Learning by using the K-means algorithm to define customer segmenst, or clusters."
   ]
  },
  {
   "cell_type": "code",
   "execution_count": null,
   "id": "bad6c156-7be8-4ee1-9a9a-5c076de13920",
   "metadata": {},
   "outputs": [],
   "source": [
    "# EXPLORING UNLABELED DATA\n",
    "# UNSUPERVISED LEARNING is the area of machine learning that finds interesting patterns in data.\n",
    "# For example, companies like Amazon, Netflix, Google, and Spotify are applying unsupervised learning to provide customized offers or to improve their products and services.\n",
    "# Unsupervised Learning uses UNLABLED DATA, which represents raw information, to find patterns or to group data.\n",
    "# To break this down into steps, the process first interprets the unlabled data, then uses an algorithm to process the data, and finally creates the output of groups by characteristic.\n",
    "# The Unsupervised Learning Pipeline Process is as follows:\n",
    "    # Step 1: Unlabeled Data\n",
    "    # Step 2: Algorithm\n",
    "    # Step 3: Output\n",
    "# Imagine a dataset containing the details of transactons people made every minute spending money online.\n",
    "# From a quantitative perspective, a dataset like that has valuable information, like the price of the items purchased and the total spent on each item.\n",
    "# With this information, we can do financial tasks such as calculating total sales per day or finding the most profitable product.\n",
    "# However, this data might not reveal much about shopping behavior or flag potentially fraudulent transactions.\n",
    "# These kinds of qualitative features exist in the hidden patterns that you can find using Unsupervised Learning.\n",
    "# Unsupervised Learning has two main applications:\n",
    "    # 1. CLUSTERING: This automatically splits a dataset into groups according to a similarity. We can use it for customer segmentation and targeting.\n",
    "    # 2. DIMENSIONALITY REDUCTION: This compresses very large datasets and keeps only the most useful information.\n",
    "# One of the most popular applications of Unsupervised Learning is CUSTOMER SEGMENTATION. \n",
    "# CUSTOMER SEGMENTATION divides the potential customers of a particular market into discrete groups.\n",
    "# In the next section, you'll gain practical experience with this application."
   ]
  }
 ],
 "metadata": {
  "kernelspec": {
   "display_name": "Python 3 (ipykernel)",
   "language": "python",
   "name": "python3"
  },
  "language_info": {
   "codemirror_mode": {
    "name": "ipython",
    "version": 3
   },
   "file_extension": ".py",
   "mimetype": "text/x-python",
   "name": "python",
   "nbconvert_exporter": "python",
   "pygments_lexer": "ipython3",
   "version": "3.9.13"
  }
 },
 "nbformat": 4,
 "nbformat_minor": 5
}

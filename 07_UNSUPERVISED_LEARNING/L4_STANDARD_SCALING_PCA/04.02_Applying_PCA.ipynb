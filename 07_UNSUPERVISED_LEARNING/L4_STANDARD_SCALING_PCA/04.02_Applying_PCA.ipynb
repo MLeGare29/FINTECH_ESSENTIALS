{
 "cells": [
  {
   "cell_type": "code",
   "execution_count": 2,
   "id": "e6c42b20-ed1d-40f0-875e-5dff2535a216",
   "metadata": {},
   "outputs": [],
   "source": [
    "# Import the libraries and dependencies:\n",
    "import pandas as pd\n",
    "from pathlib import Path\n",
    "import hvplot.pandas\n",
    "from sklearn.cluster import KMeans\n",
    "from sklearn.preprocessing import StandardScaler\n",
    "from sklearn.decomposition import PCA"
   ]
  },
  {
   "cell_type": "code",
   "execution_count": 3,
   "id": "03238394-649b-434b-a92e-d54ac92cc036",
   "metadata": {},
   "outputs": [],
   "source": [
    "# APPLYING THE PCA TECHNIQUE\n",
    "# Usually in finance, we deal with datasets containing several columns that describe different features of the data.\n",
    "# Dealing with too many features can slow down an algorithm's execution, especially when we work with large amounts of data.\n",
    "# PRINCIPLE COMPONENT ANALYSIS (PCA) is a statistical technique that we use to speed up machine learning algorithms when too many features, or dimensions, exist.\n",
    "# Depending on the analysis, \"too many\" can be ten, a hundred, or even thousands.\n",
    "# PCA reduces the number of dimensions by transforming a large set of features into a smaller one that contains most of the information in the original, large set.\n",
    "# This technique increases interpretability and minimizes information loss."
   ]
  },
  {
   "cell_type": "code",
   "execution_count": 4,
   "id": "2b8349a5-8d3a-45b7-bbfc-aeaf13e2bee2",
   "metadata": {},
   "outputs": [
    {
     "data": {
      "text/html": [
       "<div>\n",
       "<style scoped>\n",
       "    .dataframe tbody tr th:only-of-type {\n",
       "        vertical-align: middle;\n",
       "    }\n",
       "\n",
       "    .dataframe tbody tr th {\n",
       "        vertical-align: top;\n",
       "    }\n",
       "\n",
       "    .dataframe thead th {\n",
       "        text-align: right;\n",
       "    }\n",
       "</style>\n",
       "<table border=\"1\" class=\"dataframe\">\n",
       "  <thead>\n",
       "    <tr style=\"text-align: right;\">\n",
       "      <th></th>\n",
       "      <th>Age</th>\n",
       "      <th>Annual Income</th>\n",
       "      <th>Spending Score</th>\n",
       "      <th>Credit</th>\n",
       "      <th>Debit</th>\n",
       "    </tr>\n",
       "  </thead>\n",
       "  <tbody>\n",
       "    <tr>\n",
       "      <th>0</th>\n",
       "      <td>-1.424569</td>\n",
       "      <td>-1.738999</td>\n",
       "      <td>-0.434801</td>\n",
       "      <td>1</td>\n",
       "      <td>0</td>\n",
       "    </tr>\n",
       "    <tr>\n",
       "      <th>1</th>\n",
       "      <td>-1.281035</td>\n",
       "      <td>-1.738999</td>\n",
       "      <td>1.195704</td>\n",
       "      <td>1</td>\n",
       "      <td>0</td>\n",
       "    </tr>\n",
       "    <tr>\n",
       "      <th>2</th>\n",
       "      <td>-1.352802</td>\n",
       "      <td>-1.700830</td>\n",
       "      <td>-1.715913</td>\n",
       "      <td>0</td>\n",
       "      <td>1</td>\n",
       "    </tr>\n",
       "    <tr>\n",
       "      <th>3</th>\n",
       "      <td>-1.137502</td>\n",
       "      <td>-1.700830</td>\n",
       "      <td>1.040418</td>\n",
       "      <td>0</td>\n",
       "      <td>1</td>\n",
       "    </tr>\n",
       "    <tr>\n",
       "      <th>4</th>\n",
       "      <td>-0.563369</td>\n",
       "      <td>-1.662660</td>\n",
       "      <td>-0.395980</td>\n",
       "      <td>0</td>\n",
       "      <td>1</td>\n",
       "    </tr>\n",
       "  </tbody>\n",
       "</table>\n",
       "</div>"
      ],
      "text/plain": [
       "        Age  Annual Income  Spending Score  Credit  Debit\n",
       "0 -1.424569      -1.738999       -0.434801       1      0\n",
       "1 -1.281035      -1.738999        1.195704       1      0\n",
       "2 -1.352802      -1.700830       -1.715913       0      1\n",
       "3 -1.137502      -1.700830        1.040418       0      1\n",
       "4 -0.563369      -1.662660       -0.395980       0      1"
      ]
     },
     "metadata": {},
     "output_type": "display_data"
    },
    {
     "data": {
      "text/html": [
       "<div>\n",
       "<style scoped>\n",
       "    .dataframe tbody tr th:only-of-type {\n",
       "        vertical-align: middle;\n",
       "    }\n",
       "\n",
       "    .dataframe tbody tr th {\n",
       "        vertical-align: top;\n",
       "    }\n",
       "\n",
       "    .dataframe thead th {\n",
       "        text-align: right;\n",
       "    }\n",
       "</style>\n",
       "<table border=\"1\" class=\"dataframe\">\n",
       "  <thead>\n",
       "    <tr style=\"text-align: right;\">\n",
       "      <th></th>\n",
       "      <th>Age</th>\n",
       "      <th>Annual Income</th>\n",
       "      <th>Spending Score</th>\n",
       "      <th>Credit</th>\n",
       "      <th>Debit</th>\n",
       "    </tr>\n",
       "  </thead>\n",
       "  <tbody>\n",
       "    <tr>\n",
       "      <th>195</th>\n",
       "      <td>-0.276302</td>\n",
       "      <td>2.268791</td>\n",
       "      <td>1.118061</td>\n",
       "      <td>0</td>\n",
       "      <td>1</td>\n",
       "    </tr>\n",
       "    <tr>\n",
       "      <th>196</th>\n",
       "      <td>0.441365</td>\n",
       "      <td>2.497807</td>\n",
       "      <td>-0.861839</td>\n",
       "      <td>0</td>\n",
       "      <td>1</td>\n",
       "    </tr>\n",
       "    <tr>\n",
       "      <th>197</th>\n",
       "      <td>-0.491602</td>\n",
       "      <td>2.497807</td>\n",
       "      <td>0.923953</td>\n",
       "      <td>1</td>\n",
       "      <td>0</td>\n",
       "    </tr>\n",
       "    <tr>\n",
       "      <th>198</th>\n",
       "      <td>-0.491602</td>\n",
       "      <td>2.917671</td>\n",
       "      <td>-1.250054</td>\n",
       "      <td>1</td>\n",
       "      <td>0</td>\n",
       "    </tr>\n",
       "    <tr>\n",
       "      <th>199</th>\n",
       "      <td>-0.635135</td>\n",
       "      <td>2.917671</td>\n",
       "      <td>1.273347</td>\n",
       "      <td>1</td>\n",
       "      <td>0</td>\n",
       "    </tr>\n",
       "  </tbody>\n",
       "</table>\n",
       "</div>"
      ],
      "text/plain": [
       "          Age  Annual Income  Spending Score  Credit  Debit\n",
       "195 -0.276302       2.268791        1.118061       0      1\n",
       "196  0.441365       2.497807       -0.861839       0      1\n",
       "197 -0.491602       2.497807        0.923953       1      0\n",
       "198 -0.491602       2.917671       -1.250054       1      0\n",
       "199 -0.635135       2.917671        1.273347       1      0"
      ]
     },
     "metadata": {},
     "output_type": "display_data"
    }
   ],
   "source": [
    "# NORMALIZE AND TRANSFORM THE DATA\n",
    "# Before we start applying PCA, we need to normalize and transform our data into numerical values.\n",
    "# As mentioned ealier, we can do this manually or by using `StandardScaler` and `get_dummies` as needed.\n",
    "# For this example, we'll use the preprocessed shopping data that we created earlier.\n",
    "# First, we'll lad that data into a DataFrame:\n",
    "df_shopping = pd.read_csv(\n",
    "    Path('shopping_data_transformed.csv'),\n",
    ")\n",
    "\n",
    "# Display the first and last 5 rows of the DataFrame:\n",
    "display(df_shopping.head())\n",
    "display(df_shopping.tail())"
   ]
  },
  {
   "cell_type": "code",
   "execution_count": 5,
   "id": "0504d1ab-3ee3-4b47-b9db-bf07596b0ef4",
   "metadata": {},
   "outputs": [],
   "source": [
    "# As you can see, this DataFrame has five features:\n",
    "    # 1. Age\n",
    "    # 2. Annual Income\n",
    "    # 3. Spending Score\n",
    "    # 4. Credit\n",
    "    # 5. Debit\n",
    "# With PCA, we can reduce the number of features to increase the interpretability of any plots that we create.\n",
    "# We cn also potentially reduce the processing time of a machine learning algorithm."
   ]
  },
  {
   "cell_type": "code",
   "execution_count": 6,
   "id": "3681050c-464b-406b-86b1-7294f77dbd4a",
   "metadata": {},
   "outputs": [],
   "source": [
    "# REDUCE THE NUMBER OF FEATURES\n",
    "# For this example, we want to reduce the number of features for two purposes:\n",
    "    # 1. To optimize the identification of clusters when we use the K-means algorithm.\n",
    "    # 2. To ease the visualization of the clusters.\n",
    "# Let's use PCA to reduce the number of features from five to two.\n",
    "# First, we need to create a `PCA` model instance and pass it a parameter that specifies a number of the features we want.\n",
    "# We'll use `n_components=2` as the pararmeter:\n",
    "pca = PCA(n_components=2)"
   ]
  },
  {
   "cell_type": "code",
   "execution_count": 8,
   "id": "a88bb91a-c150-49cb-99ee-3ab5e8154c5d",
   "metadata": {},
   "outputs": [
    {
     "name": "stdout",
     "output_type": "stream",
     "text": [
      "[[-0.57572361 -1.68487363]\n",
      " [-1.62359494 -1.72648138]\n",
      " [ 0.27961435 -1.72531425]\n",
      " [-1.51106396 -1.79620462]\n",
      " [-0.09546842 -1.7073466 ]]\n"
     ]
    }
   ],
   "source": [
    "# APPLY DIMENSIONALITY REDUCTION\n",
    "# After creating the PCA model, we apply dimensionality reduction on the preprocessed dataset.\n",
    "# DIMENSIONALITY REDUCTION means reducing the number of columns in a DataFrame yet preserving as much useful information as possible from all the original columns.\n",
    "\n",
    "# Reduce from five to two features using PCA:\n",
    "shopping_pca_data = pca.fit_transform(df_shopping)\n",
    "\n",
    "# Display the sample data:\n",
    "print(shopping_pca_data[:5])"
   ]
  },
  {
   "cell_type": "code",
   "execution_count": 9,
   "id": "6ae5fbc3-b0de-41df-8135-5b82634c2ce6",
   "metadata": {},
   "outputs": [
    {
     "data": {
      "text/plain": [
       "array([0.38132566, 0.28707805])"
      ]
     },
     "execution_count": 9,
     "metadata": {},
     "output_type": "execute_result"
    }
   ],
   "source": [
    "# MEASURE THE AMOUNT OF VARIANCE IN THE PRINCIPLE COMPONENTS\n",
    "# After dimensionality reduction, we have a smaller set of dimensions called PRINCIPLE COMPONENTS.\n",
    "# Each principle component has no particular meaning assigned to it. \n",
    "# With these new components, we were able to reduce the number of variables of the dataset while preserving as much of the information from the original dataset as possible.\n",
    "# We now have two variables, or principle components.\n",
    "\n",
    "# NOTE:\n",
    "# Dimensionality reduction implies a loss of accuracy.\n",
    "# However, the trick is to sacrifice a bit of accuracy for simplicity.\n",
    "# We can more easily explore and visualize smaller datasets.\n",
    "# They ease data analysis and speed up machine learning algorithms without the extra variables in the process.\n",
    "\n",
    "# Data has variability.\n",
    "# And because data ranges up and down, that variation itself contains useful information.\n",
    "# We can find out how much of that information each principle component contains by examining the explained variance of a principle component.\n",
    "# EXPLAINED VARIANCE is the amount of variability in the data that the PCA module has condensed into a single principle component.\n",
    "# We can measure the relative amount of information that one principle component contains compared to another by examining the proportion of explained variance.\n",
    "# To do that, we get the `explained_variance_ratio_` attribute from the `PCA` model:\n",
    "\n",
    "# Retrieve the explained variance:\n",
    "pca.explained_variance_ratio_"
   ]
  },
  {
   "cell_type": "code",
   "execution_count": 10,
   "id": "f64734bb-0c54-418e-89bb-7dacd62c34b8",
   "metadata": {},
   "outputs": [],
   "source": [
    "# After getting the `explained_variance_ratio_` attribute, we can observe that the first principle component contains 38.13% of the variance.\n",
    "# The second principle component contains 28.71% of the variance.\n",
    "# Both components together thus contain 66.84% of the original information."
   ]
  },
  {
   "cell_type": "code",
   "execution_count": 14,
   "id": "112ae025-b1e4-4b77-ba29-4e23533c9275",
   "metadata": {},
   "outputs": [
    {
     "data": {
      "text/html": [
       "<div>\n",
       "<style scoped>\n",
       "    .dataframe tbody tr th:only-of-type {\n",
       "        vertical-align: middle;\n",
       "    }\n",
       "\n",
       "    .dataframe tbody tr th {\n",
       "        vertical-align: top;\n",
       "    }\n",
       "\n",
       "    .dataframe thead th {\n",
       "        text-align: right;\n",
       "    }\n",
       "</style>\n",
       "<table border=\"1\" class=\"dataframe\">\n",
       "  <thead>\n",
       "    <tr style=\"text-align: right;\">\n",
       "      <th></th>\n",
       "      <th>PC1</th>\n",
       "      <th>PC2</th>\n",
       "    </tr>\n",
       "  </thead>\n",
       "  <tbody>\n",
       "    <tr>\n",
       "      <th>0</th>\n",
       "      <td>-0.575724</td>\n",
       "      <td>-1.684874</td>\n",
       "    </tr>\n",
       "    <tr>\n",
       "      <th>1</th>\n",
       "      <td>-1.623595</td>\n",
       "      <td>-1.726481</td>\n",
       "    </tr>\n",
       "    <tr>\n",
       "      <th>2</th>\n",
       "      <td>0.279614</td>\n",
       "      <td>-1.725314</td>\n",
       "    </tr>\n",
       "    <tr>\n",
       "      <th>3</th>\n",
       "      <td>-1.511064</td>\n",
       "      <td>-1.796205</td>\n",
       "    </tr>\n",
       "    <tr>\n",
       "      <th>4</th>\n",
       "      <td>-0.095468</td>\n",
       "      <td>-1.707347</td>\n",
       "    </tr>\n",
       "  </tbody>\n",
       "</table>\n",
       "</div>"
      ],
      "text/plain": [
       "        PC1       PC2\n",
       "0 -0.575724 -1.684874\n",
       "1 -1.623595 -1.726481\n",
       "2  0.279614 -1.725314\n",
       "3 -1.511064 -1.796205\n",
       "4 -0.095468 -1.707347"
      ]
     },
     "execution_count": 14,
     "metadata": {},
     "output_type": "execute_result"
    }
   ],
   "source": [
    "# USE THE PRINCIPLE COMPONENTS TO FIND CLUSTERS\n",
    "# Once we have the principle components, we can create a DataFrame and use it to find clusters using the K-means algorithm.\n",
    "# We start by converting the array of values resulting from our PCA analysis into a DataFrame:\n",
    "df_shopping_pca = pd.DataFrame(\n",
    "    shopping_pca_data,\n",
    "    columns=['PC1', 'PC2']\n",
    ")\n",
    "\n",
    "# Display sample data:\n",
    "df_shopping_pca.head()"
   ]
  },
  {
   "cell_type": "code",
   "execution_count": 15,
   "id": "848d0df0-510d-43a2-b914-670682775ab6",
   "metadata": {},
   "outputs": [
    {
     "data": {
      "text/html": [
       "<div>\n",
       "<style scoped>\n",
       "    .dataframe tbody tr th:only-of-type {\n",
       "        vertical-align: middle;\n",
       "    }\n",
       "\n",
       "    .dataframe tbody tr th {\n",
       "        vertical-align: top;\n",
       "    }\n",
       "\n",
       "    .dataframe thead th {\n",
       "        text-align: right;\n",
       "    }\n",
       "</style>\n",
       "<table border=\"1\" class=\"dataframe\">\n",
       "  <thead>\n",
       "    <tr style=\"text-align: right;\">\n",
       "      <th></th>\n",
       "      <th>PC1</th>\n",
       "      <th>PC2</th>\n",
       "      <th>Customer Segments</th>\n",
       "    </tr>\n",
       "  </thead>\n",
       "  <tbody>\n",
       "    <tr>\n",
       "      <th>0</th>\n",
       "      <td>-0.575724</td>\n",
       "      <td>-1.684874</td>\n",
       "      <td>2</td>\n",
       "    </tr>\n",
       "    <tr>\n",
       "      <th>1</th>\n",
       "      <td>-1.623595</td>\n",
       "      <td>-1.726481</td>\n",
       "      <td>2</td>\n",
       "    </tr>\n",
       "    <tr>\n",
       "      <th>2</th>\n",
       "      <td>0.279614</td>\n",
       "      <td>-1.725314</td>\n",
       "      <td>3</td>\n",
       "    </tr>\n",
       "    <tr>\n",
       "      <th>3</th>\n",
       "      <td>-1.511064</td>\n",
       "      <td>-1.796205</td>\n",
       "      <td>2</td>\n",
       "    </tr>\n",
       "    <tr>\n",
       "      <th>4</th>\n",
       "      <td>-0.095468</td>\n",
       "      <td>-1.707347</td>\n",
       "      <td>2</td>\n",
       "    </tr>\n",
       "  </tbody>\n",
       "</table>\n",
       "</div>"
      ],
      "text/plain": [
       "        PC1       PC2  Customer Segments\n",
       "0 -0.575724 -1.684874                  2\n",
       "1 -1.623595 -1.726481                  2\n",
       "2  0.279614 -1.725314                  3\n",
       "3 -1.511064 -1.796205                  2\n",
       "4 -0.095468 -1.707347                  2"
      ]
     },
     "execution_count": 15,
     "metadata": {},
     "output_type": "execute_result"
    }
   ],
   "source": [
    "# Now, we can call the K-Means algorithm to define our customer segments\n",
    "\n",
    "# Initialize the K-Means model:\n",
    "model = KMeans(n_clusters=4)\n",
    "\n",
    "# Fit the model:\n",
    "model.fit(df_shopping_pca)\n",
    "\n",
    "# Predict the clusters:\n",
    "customer_segments = model.predict(df_shopping_pca)\n",
    "\n",
    "# Create a copy of the original DataFrame:\n",
    "df_shopping_pca_predictions = df_shopping_pca.copy()\n",
    "\n",
    "# Create a new column in the DataFrame with the predicted clusters:\n",
    "df_shopping_pca_predictions['Customer Segments'] = customer_segments\n",
    "\n",
    "# Display sample data:\n",
    "df_shopping_pca_predictions.head()"
   ]
  },
  {
   "cell_type": "code",
   "execution_count": 16,
   "id": "f666db31-bb48-4f78-87ae-eb2e34caaa33",
   "metadata": {},
   "outputs": [],
   "source": [
    "# The resulting output is a DataFrame with three columns:\n",
    "    # 1. Values associated with the first principle component.\n",
    "    # 2. Values associated with the second principle component.\n",
    "    # 3. The customer segment numbers.\n",
    "# Given theat the `n_clusters` value was assigned as 4, the resulting customer segment numbers range from 0 to 3.\n",
    "# Each row applies to a transaction in the original DataFrame.\n",
    "# Note that we ran the K-means algorithm on the PCA data without any issues.\n",
    "# The difference from the previous execution of the algorithm in Lesson2, which used the full number of dimensions (or columns), is that this time, we used the principle componenets to find patterns among the data."
   ]
  },
  {
   "cell_type": "code",
   "execution_count": 18,
   "id": "93715860-026c-4986-8874-979ecbc3c68f",
   "metadata": {},
   "outputs": [
    {
     "data": {},
     "metadata": {},
     "output_type": "display_data"
    },
    {
     "data": {
      "application/vnd.holoviews_exec.v0+json": "",
      "text/html": [
       "<div id='1002'>\n",
       "  <div class=\"bk-root\" id=\"b6863190-ce8f-4475-a20a-b3217cabb712\" data-root-id=\"1002\"></div>\n",
       "</div>\n",
       "<script type=\"application/javascript\">(function(root) {\n",
       "  function embed_document(root) {\n",
       "    var docs_json = {\"e3b9b287-1a98-4970-ad45-802dbb4689d8\":{\"defs\":[{\"extends\":null,\"module\":null,\"name\":\"ReactiveHTML1\",\"overrides\":[],\"properties\":[]},{\"extends\":null,\"module\":null,\"name\":\"FlexBox1\",\"overrides\":[],\"properties\":[{\"default\":\"flex-start\",\"kind\":null,\"name\":\"align_content\"},{\"default\":\"flex-start\",\"kind\":null,\"name\":\"align_items\"},{\"default\":\"row\",\"kind\":null,\"name\":\"flex_direction\"},{\"default\":\"wrap\",\"kind\":null,\"name\":\"flex_wrap\"},{\"default\":\"flex-start\",\"kind\":null,\"name\":\"justify_content\"}]},{\"extends\":null,\"module\":null,\"name\":\"GridStack1\",\"overrides\":[],\"properties\":[{\"default\":\"warn\",\"kind\":null,\"name\":\"mode\"},{\"default\":null,\"kind\":null,\"name\":\"ncols\"},{\"default\":null,\"kind\":null,\"name\":\"nrows\"},{\"default\":true,\"kind\":null,\"name\":\"allow_resize\"},{\"default\":true,\"kind\":null,\"name\":\"allow_drag\"},{\"default\":[],\"kind\":null,\"name\":\"state\"}]},{\"extends\":null,\"module\":null,\"name\":\"click1\",\"overrides\":[],\"properties\":[{\"default\":\"\",\"kind\":null,\"name\":\"terminal_output\"},{\"default\":\"\",\"kind\":null,\"name\":\"debug_name\"},{\"default\":0,\"kind\":null,\"name\":\"clears\"}]},{\"extends\":null,\"module\":null,\"name\":\"NotificationAreaBase1\",\"overrides\":[],\"properties\":[{\"default\":\"bottom-right\",\"kind\":null,\"name\":\"position\"},{\"default\":0,\"kind\":null,\"name\":\"_clear\"}]},{\"extends\":null,\"module\":null,\"name\":\"NotificationArea1\",\"overrides\":[],\"properties\":[{\"default\":[],\"kind\":null,\"name\":\"notifications\"},{\"default\":\"bottom-right\",\"kind\":null,\"name\":\"position\"},{\"default\":0,\"kind\":null,\"name\":\"_clear\"},{\"default\":[{\"background\":\"#ffc107\",\"icon\":{\"className\":\"fas fa-exclamation-triangle\",\"color\":\"white\",\"tagName\":\"i\"},\"type\":\"warning\"},{\"background\":\"#007bff\",\"icon\":{\"className\":\"fas fa-info-circle\",\"color\":\"white\",\"tagName\":\"i\"},\"type\":\"info\"}],\"kind\":null,\"name\":\"types\"}]},{\"extends\":null,\"module\":null,\"name\":\"Notification\",\"overrides\":[],\"properties\":[{\"default\":null,\"kind\":null,\"name\":\"background\"},{\"default\":3000,\"kind\":null,\"name\":\"duration\"},{\"default\":null,\"kind\":null,\"name\":\"icon\"},{\"default\":\"\",\"kind\":null,\"name\":\"message\"},{\"default\":null,\"kind\":null,\"name\":\"notification_type\"},{\"default\":false,\"kind\":null,\"name\":\"_destroyed\"}]},{\"extends\":null,\"module\":null,\"name\":\"TemplateActions1\",\"overrides\":[],\"properties\":[{\"default\":0,\"kind\":null,\"name\":\"open_modal\"},{\"default\":0,\"kind\":null,\"name\":\"close_modal\"}]},{\"extends\":null,\"module\":null,\"name\":\"MaterialTemplateActions1\",\"overrides\":[],\"properties\":[{\"default\":0,\"kind\":null,\"name\":\"open_modal\"},{\"default\":0,\"kind\":null,\"name\":\"close_modal\"}]}],\"roots\":{\"references\":[{\"attributes\":{\"coordinates\":null,\"data_source\":{\"id\":\"1089\"},\"glyph\":{\"id\":\"1092\"},\"group\":null,\"hover_glyph\":null,\"muted_glyph\":{\"id\":\"1094\"},\"nonselection_glyph\":{\"id\":\"1093\"},\"selection_glyph\":{\"id\":\"1112\"},\"view\":{\"id\":\"1096\"}},\"id\":\"1095\",\"type\":\"GlyphRenderer\"},{\"attributes\":{},\"id\":\"1024\",\"type\":\"BasicTicker\"},{\"attributes\":{\"axis\":{\"id\":\"1023\"},\"coordinates\":null,\"dimension\":1,\"grid_line_color\":null,\"group\":null,\"ticker\":null},\"id\":\"1026\",\"type\":\"Grid\"},{\"attributes\":{\"source\":{\"id\":\"1089\"}},\"id\":\"1096\",\"type\":\"CDSView\"},{\"attributes\":{\"label\":{\"value\":\"2\"},\"renderers\":[{\"id\":\"1095\"}]},\"id\":\"1111\",\"type\":\"LegendItem\"},{\"attributes\":{},\"id\":\"1042\",\"type\":\"AllLabels\"},{\"attributes\":{\"data\":{\"Customer_Segments\":[0,0,0,0,0,0,0,0,0,0,0,0,0,0,0,0,0,0,0,0,0,0,0,0,0,0,0,0,0,0,0,0,0,0,0],\"PC1\":{\"__ndarray__\":\"/3//SytC5T8DMeNRZgsBQBB5snDBP/k/LQ3k33Re1D8OOt12Gxr2PzhaqrREj8A/0B9yZDO6AEBukbq25uvXP0xTVeYcMew/T/fVqYVH3T/24TYjSVfyP72+jQ6lSvA/GsOnaq949D/kuR0Ssnz0P5+F3VHnDvI/jAv1/b9q8z+GIyJlNV3QP8PrWlqo5vM/dQujj8kG8D/07jAArSPaP7AHYiyQcvE/3eY0F2ML7z+znQmv4Zf5P16hzVYPH/8/RJ2xkt0fAEAaFz7cP6rTP3KiNfqUKvU/Wmmvpq8r1D9GxDb2BRb2P5HnbTyHJ+0/FFwUeiwi2T9U+UhWPbHqP96b+ekud/M/PMlEaT/m6D8/9R/RXFbePw==\",\"dtype\":\"float64\",\"order\":\"little\",\"shape\":[35]},\"PC2\":{\"__ndarray__\":\"bA6zr1Dw3j9/ih8S9QbhP6o8bZOAieA/UVviW9PZ4T9Jgh8f2nHeP6QsF2T72eI/CniTNPNT4j/yjfZRb7bmP1HyR3HM9+Y/zeTDqQVV5D/GkW7euJjoP3DRhyJn3eQ/in3uMdYj5T9VEtdoOtzoP1sKpPWFuOg/AasYQnUh5j/LYQRvrYnrP4sND78WkfA/k+40fkMX8T8+x14JozTvPxpMFAR8xfE/V6SFXLS68T+tCNWsCtLwP5Cr48Smw/I/QZRCyJ3Y9T8ThDfa6J/1P1OBHW2Wkfg/7LoyUMvQ9j8TgYigvZb4P46AzbY8n/k/Jzzr5Yhb+T8d/GUeUcEAQF+b/rdiDwJAqfAYhZfCA0C3u6dzc/UHQA==\",\"dtype\":\"float64\",\"order\":\"little\",\"shape\":[35]}},\"selected\":{\"id\":\"1047\"},\"selection_policy\":{\"id\":\"1061\"}},\"id\":\"1046\",\"type\":\"ColumnDataSource\"},{\"attributes\":{},\"id\":\"1028\",\"type\":\"PanTool\"},{\"attributes\":{},\"id\":\"1108\",\"type\":\"UnionRenderers\"},{\"attributes\":{},\"id\":\"1029\",\"type\":\"WheelZoomTool\"},{\"attributes\":{\"source\":{\"id\":\"1067\"}},\"id\":\"1074\",\"type\":\"CDSView\"},{\"attributes\":{},\"id\":\"1027\",\"type\":\"SaveTool\"},{\"attributes\":{\"fill_alpha\":{\"value\":0.1},\"fill_color\":{\"value\":\"#fc4f30\"},\"hatch_alpha\":{\"value\":0.1},\"hatch_color\":{\"value\":\"#fc4f30\"},\"line_alpha\":{\"value\":0.1},\"line_color\":{\"value\":\"#fc4f30\"},\"size\":{\"value\":5.477225575051661},\"x\":{\"field\":\"PC2\"},\"y\":{\"field\":\"PC1\"}},\"id\":\"1071\",\"type\":\"Scatter\"},{\"attributes\":{\"overlay\":{\"id\":\"1032\"}},\"id\":\"1030\",\"type\":\"BoxZoomTool\"},{\"attributes\":{},\"id\":\"1031\",\"type\":\"ResetTool\"},{\"attributes\":{\"label\":{\"value\":\"1\"},\"renderers\":[{\"id\":\"1073\"}]},\"id\":\"1087\",\"type\":\"LegendItem\"},{\"attributes\":{\"bottom_units\":\"screen\",\"coordinates\":null,\"fill_alpha\":0.5,\"fill_color\":\"lightgrey\",\"group\":null,\"left_units\":\"screen\",\"level\":\"overlay\",\"line_alpha\":1.0,\"line_color\":\"black\",\"line_dash\":[4,4],\"line_width\":2,\"right_units\":\"screen\",\"syncable\":false,\"top_units\":\"screen\"},\"id\":\"1032\",\"type\":\"BoxAnnotation\"},{\"attributes\":{\"coordinates\":null,\"data_source\":{\"id\":\"1067\"},\"glyph\":{\"id\":\"1070\"},\"group\":null,\"hover_glyph\":null,\"muted_glyph\":{\"id\":\"1072\"},\"nonselection_glyph\":{\"id\":\"1071\"},\"selection_glyph\":{\"id\":\"1088\"},\"view\":{\"id\":\"1074\"}},\"id\":\"1073\",\"type\":\"GlyphRenderer\"},{\"attributes\":{},\"id\":\"1061\",\"type\":\"UnionRenderers\"},{\"attributes\":{\"fill_alpha\":{\"value\":0.2},\"fill_color\":{\"value\":\"#fc4f30\"},\"hatch_alpha\":{\"value\":0.2},\"hatch_color\":{\"value\":\"#fc4f30\"},\"line_alpha\":{\"value\":0.2},\"line_color\":{\"value\":\"#fc4f30\"},\"size\":{\"value\":5.477225575051661},\"x\":{\"field\":\"PC2\"},\"y\":{\"field\":\"PC1\"}},\"id\":\"1072\",\"type\":\"Scatter\"},{\"attributes\":{\"data\":{\"Customer_Segments\":[3,3,3,3,3,3,3,3,3,3,3,3,3,3,3,3,3,3,3,3,3,3,3,3,3,3,3,3,3,3,3,3,3,3,3,3,3,3,3,3,3,3,3,3,3,3,3,3,3,3,3,3,3,3,3,3,3,3,3,3,3,3,3,3,3,3,3,3,3],\"PC1\":{\"__ndarray__\":\"jeCLlzPl0T/TjdKU/5HwP+mBatE2cQVA4h0/u8Q/BED1723QPzT/P3PtyVGMn/A/Pw1qe25uzj/oiikIH7H1PwV2jqSEHNU/QhBCJwy/+T9PtXMYNTb8PxvgvTRtF+o/uv8tGqbS4j/f3LlA73gDQOM2B2hQmgBA8HGSfzsL+D92OZsrEQrxP6gq7eEPV+A/wRc7Nn+v+z9v42ueEQPuP8zKI6eTxfE/ZEmeXSH02j8NCzuSxcbcP6SNHN7Ynuo/f+Ybg4UW5j+nJLAk39LnP81m/5UqSOM/RUCLXc2C+z+lHhzpoQTtP34EBNsu5fc/VmVEOMql9T8PWDei2B3gP3O0lzViXvQ/d5w32JOLyD+7OWDgKy/4PyZRgCbaQvg/p5h5/ryR4z9ydcI7vDjxP4KSCtaZUOw/ekXSRMq88j8vBybQBdjJP6refjeyVcc/FVuN+HuR5j9j+kX8BrzuP3iILEoDRLy/U97uWUbX+z/rRGa4TevfPyNJZYDlieQ/dFzL4+Ah4j+1dGmid37kP9cn46pL2/Q/evO1qPOf4T9WqPpJ0erSP/GJsl54VN0/SNzeN4+05z8ZbnSSpO7gP373VNMbxfM/MmjcGiwK2j+lFDvejVT1P+ktidy00u0/Ojz+TjyP+z/rf1ihZcD3P7nzE3DiMPU/jlXLqDkcwT//nGZc7+r1P/KaSAn2ocw/y7gokgJP6D+0H71IfN3UPwNbYTwTisc/\",\"dtype\":\"float64\",\"order\":\"little\",\"shape\":[69]},\"PC2\":{\"__ndarray__\":\"V5tzHuOa+79Epu3hJwr6v6rtt7U83va/W2vlEiP89r80v91Q43D4vyLuGvGVDve/gkdfLdi0+L+7ELnekyf1v9kxrbYNC/W/Ik+zrDaC9b9wy18teabzv66IoLkrKvS/PGqBYtmn8782UX0OTUnwv5qR3n6BP+2/OV+68I258L+AFca4f1Twv9JI0+EjmO2/4MvT9alV678PearKB0Tnvww2A1nYn+q/GWbICeVG6r9g66Wsz8nnvwSwCwacs+K/XSi0LapJ5r9RhOJsd53iv7ZRXYO0MeW/23UmnJKL4L8xvFPoHrbdv3mWEzEcz9y/09XTajze4L+ZVwuau7Xhv8ccZ6cIQdi/Z+LLmQqz4L/NmxHCRfDev4t90zfucNW/xFw0AQQN3r/SEyKvL+Lav0LS1tG8W9u/Mbh2QlGCw7+tolSD8NDSv1Amt++RLce/t4awn7ey0b/2Xc07cmzEv3S4qL3if8i/Xoogdxc1wb/KOkoi2xzSvwGJL5VCa8W/+IG2EtTZxb8MgYWjPEnAv4EE6MQBlrK/CZg6C0F/rT/gJRQDs2Suv77vSKEg/Ky/6k6j9JVhuj+T8qlBpcmVP94PCh7NSMM/4TzcJRJYwD+/XtjU3vW0P95fTgdFf8c/FeGhl/KByj8ylxcCF3XJPw78BE2Rusg/jVZjjVJztj9+lTzH+JrEP0Z9k5Ciqb8/Dh8/eHIbzD+mGiipogXKPzqBZdW/GMo/\",\"dtype\":\"float64\",\"order\":\"little\",\"shape\":[69]}},\"selected\":{\"id\":\"1114\"},\"selection_policy\":{\"id\":\"1134\"}},\"id\":\"1113\",\"type\":\"ColumnDataSource\"},{\"attributes\":{\"angle\":{\"value\":0.0},\"fill_alpha\":{\"value\":1.0},\"fill_color\":{\"value\":\"#6d904f\"},\"hatch_alpha\":{\"value\":1.0},\"hatch_color\":{\"value\":\"#6d904f\"},\"hatch_scale\":{\"value\":12.0},\"hatch_weight\":{\"value\":1.0},\"line_alpha\":{\"value\":1.0},\"line_cap\":{\"value\":\"butt\"},\"line_color\":{\"value\":\"#6d904f\"},\"line_dash\":{\"value\":[]},\"line_dash_offset\":{\"value\":0},\"line_join\":{\"value\":\"bevel\"},\"line_width\":{\"value\":1},\"marker\":{\"value\":\"circle\"},\"size\":{\"value\":5.477225575051661},\"x\":{\"field\":\"PC2\"},\"y\":{\"field\":\"PC1\"}},\"id\":\"1138\",\"type\":\"Scatter\"},{\"attributes\":{\"fill_color\":{\"value\":\"#30a2da\"},\"hatch_color\":{\"value\":\"#30a2da\"},\"line_color\":{\"value\":\"#30a2da\"},\"size\":{\"value\":5.477225575051661},\"x\":{\"field\":\"PC2\"},\"y\":{\"field\":\"PC1\"}},\"id\":\"1049\",\"type\":\"Scatter\"},{\"attributes\":{\"axis_label\":\"PC1\",\"coordinates\":null,\"formatter\":{\"id\":\"1044\"},\"group\":null,\"major_label_policy\":{\"id\":\"1045\"},\"ticker\":{\"id\":\"1024\"}},\"id\":\"1023\",\"type\":\"LinearAxis\"},{\"attributes\":{},\"id\":\"1084\",\"type\":\"UnionRenderers\"},{\"attributes\":{\"tools\":[{\"id\":\"1006\"},{\"id\":\"1027\"},{\"id\":\"1028\"},{\"id\":\"1029\"},{\"id\":\"1030\"},{\"id\":\"1031\"}]},\"id\":\"1033\",\"type\":\"Toolbar\"},{\"attributes\":{\"children\":[{\"id\":\"1003\"},{\"id\":\"1010\"},{\"id\":\"1155\"}],\"margin\":[0,0,0,0],\"name\":\"Row00946\",\"tags\":[\"embedded\"]},\"id\":\"1002\",\"type\":\"Row\"},{\"attributes\":{\"fill_alpha\":{\"value\":0.2},\"fill_color\":{\"value\":\"#30a2da\"},\"hatch_alpha\":{\"value\":0.2},\"hatch_color\":{\"value\":\"#30a2da\"},\"line_alpha\":{\"value\":0.2},\"line_color\":{\"value\":\"#30a2da\"},\"size\":{\"value\":5.477225575051661},\"x\":{\"field\":\"PC2\"},\"y\":{\"field\":\"PC1\"}},\"id\":\"1051\",\"type\":\"Scatter\"},{\"attributes\":{\"margin\":[5,5,5,5],\"name\":\"HSpacer00951\",\"sizing_mode\":\"stretch_width\"},\"id\":\"1155\",\"type\":\"Spacer\"},{\"attributes\":{\"angle\":{\"value\":0.0},\"fill_alpha\":{\"value\":1.0},\"fill_color\":{\"value\":\"#e5ae38\"},\"hatch_alpha\":{\"value\":1.0},\"hatch_color\":{\"value\":\"#e5ae38\"},\"hatch_scale\":{\"value\":12.0},\"hatch_weight\":{\"value\":1.0},\"line_alpha\":{\"value\":1.0},\"line_cap\":{\"value\":\"butt\"},\"line_color\":{\"value\":\"#e5ae38\"},\"line_dash\":{\"value\":[]},\"line_dash_offset\":{\"value\":0},\"line_join\":{\"value\":\"bevel\"},\"line_width\":{\"value\":1},\"marker\":{\"value\":\"circle\"},\"size\":{\"value\":5.477225575051661},\"x\":{\"field\":\"PC2\"},\"y\":{\"field\":\"PC1\"}},\"id\":\"1112\",\"type\":\"Scatter\"},{\"attributes\":{\"margin\":[5,5,5,5],\"name\":\"HSpacer00950\",\"sizing_mode\":\"stretch_width\"},\"id\":\"1003\",\"type\":\"Spacer\"},{\"attributes\":{\"label\":{\"value\":\"3\"},\"renderers\":[{\"id\":\"1119\"}]},\"id\":\"1137\",\"type\":\"LegendItem\"},{\"attributes\":{\"coordinates\":null,\"data_source\":{\"id\":\"1113\"},\"glyph\":{\"id\":\"1116\"},\"group\":null,\"hover_glyph\":null,\"muted_glyph\":{\"id\":\"1118\"},\"nonselection_glyph\":{\"id\":\"1117\"},\"selection_glyph\":{\"id\":\"1138\"},\"view\":{\"id\":\"1120\"}},\"id\":\"1119\",\"type\":\"GlyphRenderer\"},{\"attributes\":{},\"id\":\"1015\",\"type\":\"LinearScale\"},{\"attributes\":{\"angle\":{\"value\":0.0},\"fill_alpha\":{\"value\":1.0},\"fill_color\":{\"value\":\"#fc4f30\"},\"hatch_alpha\":{\"value\":1.0},\"hatch_color\":{\"value\":\"#fc4f30\"},\"hatch_scale\":{\"value\":12.0},\"hatch_weight\":{\"value\":1.0},\"line_alpha\":{\"value\":1.0},\"line_cap\":{\"value\":\"butt\"},\"line_color\":{\"value\":\"#fc4f30\"},\"line_dash\":{\"value\":[]},\"line_dash_offset\":{\"value\":0},\"line_join\":{\"value\":\"bevel\"},\"line_width\":{\"value\":1},\"marker\":{\"value\":\"circle\"},\"size\":{\"value\":5.477225575051661},\"x\":{\"field\":\"PC2\"},\"y\":{\"field\":\"PC1\"}},\"id\":\"1088\",\"type\":\"Scatter\"},{\"attributes\":{\"end\":3.200179987458619,\"reset_end\":3.200179987458619,\"reset_start\":-2.0015354977820965,\"start\":-2.0015354977820965,\"tags\":[[[\"PC2\",\"PC2\",null]]]},\"id\":\"1004\",\"type\":\"Range1d\"},{\"attributes\":{\"callback\":null,\"renderers\":[{\"id\":\"1052\"},{\"id\":\"1073\"},{\"id\":\"1095\"},{\"id\":\"1119\"}],\"tags\":[\"hv_created\"],\"tooltips\":[[\"Customer Segments\",\"@{Customer_Segments}\"],[\"PC2\",\"@{PC2}\"],[\"PC1\",\"@{PC1}\"]]},\"id\":\"1006\",\"type\":\"HoverTool\"},{\"attributes\":{\"coordinates\":null,\"data_source\":{\"id\":\"1046\"},\"glyph\":{\"id\":\"1049\"},\"group\":null,\"hover_glyph\":null,\"muted_glyph\":{\"id\":\"1051\"},\"nonselection_glyph\":{\"id\":\"1050\"},\"selection_glyph\":{\"id\":\"1066\"},\"view\":{\"id\":\"1053\"}},\"id\":\"1052\",\"type\":\"GlyphRenderer\"},{\"attributes\":{},\"id\":\"1134\",\"type\":\"UnionRenderers\"},{\"attributes\":{},\"id\":\"1044\",\"type\":\"BasicTickFormatter\"},{\"attributes\":{\"fill_alpha\":{\"value\":0.2},\"fill_color\":{\"value\":\"#e5ae38\"},\"hatch_alpha\":{\"value\":0.2},\"hatch_color\":{\"value\":\"#e5ae38\"},\"line_alpha\":{\"value\":0.2},\"line_color\":{\"value\":\"#e5ae38\"},\"size\":{\"value\":5.477225575051661},\"x\":{\"field\":\"PC2\"},\"y\":{\"field\":\"PC1\"}},\"id\":\"1094\",\"type\":\"Scatter\"},{\"attributes\":{\"end\":3.1586374288080474,\"reset_end\":3.1586374288080474,\"reset_start\":-2.5816476567210196,\"start\":-2.5816476567210196,\"tags\":[[[\"PC1\",\"PC1\",null]]]},\"id\":\"1005\",\"type\":\"Range1d\"},{\"attributes\":{\"source\":{\"id\":\"1113\"}},\"id\":\"1120\",\"type\":\"CDSView\"},{\"attributes\":{},\"id\":\"1045\",\"type\":\"AllLabels\"},{\"attributes\":{},\"id\":\"1017\",\"type\":\"LinearScale\"},{\"attributes\":{\"fill_alpha\":{\"value\":0.1},\"fill_color\":{\"value\":\"#6d904f\"},\"hatch_alpha\":{\"value\":0.1},\"hatch_color\":{\"value\":\"#6d904f\"},\"line_alpha\":{\"value\":0.1},\"line_color\":{\"value\":\"#6d904f\"},\"size\":{\"value\":5.477225575051661},\"x\":{\"field\":\"PC2\"},\"y\":{\"field\":\"PC1\"}},\"id\":\"1117\",\"type\":\"Scatter\"},{\"attributes\":{\"angle\":{\"value\":0.0},\"fill_alpha\":{\"value\":1.0},\"fill_color\":{\"value\":\"#30a2da\"},\"hatch_alpha\":{\"value\":1.0},\"hatch_color\":{\"value\":\"#30a2da\"},\"hatch_scale\":{\"value\":12.0},\"hatch_weight\":{\"value\":1.0},\"line_alpha\":{\"value\":1.0},\"line_cap\":{\"value\":\"butt\"},\"line_color\":{\"value\":\"#30a2da\"},\"line_dash\":{\"value\":[]},\"line_dash_offset\":{\"value\":0},\"line_join\":{\"value\":\"bevel\"},\"line_width\":{\"value\":1},\"marker\":{\"value\":\"circle\"},\"size\":{\"value\":5.477225575051661},\"x\":{\"field\":\"PC2\"},\"y\":{\"field\":\"PC1\"}},\"id\":\"1066\",\"type\":\"Scatter\"},{\"attributes\":{\"fill_color\":{\"value\":\"#6d904f\"},\"hatch_color\":{\"value\":\"#6d904f\"},\"line_color\":{\"value\":\"#6d904f\"},\"size\":{\"value\":5.477225575051661},\"x\":{\"field\":\"PC2\"},\"y\":{\"field\":\"PC1\"}},\"id\":\"1116\",\"type\":\"Scatter\"},{\"attributes\":{\"label\":{\"value\":\"0\"},\"renderers\":[{\"id\":\"1052\"}]},\"id\":\"1065\",\"type\":\"LegendItem\"},{\"attributes\":{\"source\":{\"id\":\"1046\"}},\"id\":\"1053\",\"type\":\"CDSView\"},{\"attributes\":{\"fill_alpha\":{\"value\":0.2},\"fill_color\":{\"value\":\"#6d904f\"},\"hatch_alpha\":{\"value\":0.2},\"hatch_color\":{\"value\":\"#6d904f\"},\"line_alpha\":{\"value\":0.2},\"line_color\":{\"value\":\"#6d904f\"},\"size\":{\"value\":5.477225575051661},\"x\":{\"field\":\"PC2\"},\"y\":{\"field\":\"PC1\"}},\"id\":\"1118\",\"type\":\"Scatter\"},{\"attributes\":{},\"id\":\"1068\",\"type\":\"Selection\"},{\"attributes\":{\"fill_alpha\":{\"value\":0.1},\"fill_color\":{\"value\":\"#30a2da\"},\"hatch_alpha\":{\"value\":0.1},\"hatch_color\":{\"value\":\"#30a2da\"},\"line_alpha\":{\"value\":0.1},\"line_color\":{\"value\":\"#30a2da\"},\"size\":{\"value\":5.477225575051661},\"x\":{\"field\":\"PC2\"},\"y\":{\"field\":\"PC1\"}},\"id\":\"1050\",\"type\":\"Scatter\"},{\"attributes\":{\"data\":{\"Customer_Segments\":[2,2,2,2,2,2,2,2,2,2,2,2,2,2,2,2,2,2,2,2,2,2,2,2,2,2,2,2,2,2,2,2,2,2,2,2,2],\"PC1\":{\"__ndarray__\":\"ufvm7VNs4r/ZDo2wPvr5v5MBN2hRLfi/gjqxRp5wuL9qAdSfppL4v58l5tCiqv+/N8D1ao1k8L+JUN7b6Cn4v6Ykb/eTdve/pgEB+4Jp+L9BTXv0XF30v667ihlf0ve/ZPSc9d5z879ah4r81Tztv3r3PuPlP/S/gykcwgnM2L8i3+hkpN38v7a2bHduYfi/0pUgAYrTAMBPfppKUvT7vxz5TluUMPG/YmHhmrw7+r8WWowvJur8v0rHREBzfua/WljnUVKq8r/JZve6FcPgv1TcV7/QStK/S/cDKGihx79lboDSPN3evzwtEOigjuC/f6STYCeN5L/Q/0gCOPXwv5j73kX+kPO/gT90sLrB8r8tFa/uFBnSv+XpYWx8Sey/QrHW45Tz8b8=\",\"dtype\":\"float64\",\"order\":\"little\",\"shape\":[37]},\"PC2\":{\"__ndarray__\":\"VM6rDT71+r9V6anwqp/7v/hnJA9Bvfy/sFUuqkpR+785ROMVISP8v5rDi36Vz/u/YQb/ZrCq+r+pyYIrJQL7v18kj21dSPq/HIzEmVyG+L99c74eGL73v9yS757djvi/vYr3MYbr9b8yUoGwFSz1v8nbgkbai/O/+kRI+fsM87+1ffuYHQD1v5TwbsqBM/S/tQRRwAzu8L/9Atk7CIPyv1WileQCj/G/5A1c7P7/77/CE5wLWH/rv+9v35SWlOy/qSaK6KAK7b/5WuiZLBPrv4HIhbT1z+q/MMNjEii46r9EVkxehSDlvyOMa5Hveee/P7j1ihbp47+/aeAX273gv36cMJgY+9y/LJcO9krj3L+MRGCg6Rvhv45FJyQ/y9S/gGrs7qxR1b8=\",\"dtype\":\"float64\",\"order\":\"little\",\"shape\":[37]}},\"selected\":{\"id\":\"1090\"},\"selection_policy\":{\"id\":\"1108\"}},\"id\":\"1089\",\"type\":\"ColumnDataSource\"},{\"attributes\":{\"coordinates\":null,\"group\":null,\"text_color\":\"black\",\"text_font_size\":\"12pt\"},\"id\":\"1011\",\"type\":\"Title\"},{\"attributes\":{},\"id\":\"1047\",\"type\":\"Selection\"},{\"attributes\":{},\"id\":\"1114\",\"type\":\"Selection\"},{\"attributes\":{},\"id\":\"1090\",\"type\":\"Selection\"},{\"attributes\":{\"fill_color\":{\"value\":\"#fc4f30\"},\"hatch_color\":{\"value\":\"#fc4f30\"},\"line_color\":{\"value\":\"#fc4f30\"},\"size\":{\"value\":5.477225575051661},\"x\":{\"field\":\"PC2\"},\"y\":{\"field\":\"PC1\"}},\"id\":\"1070\",\"type\":\"Scatter\"},{\"attributes\":{\"below\":[{\"id\":\"1019\"}],\"center\":[{\"id\":\"1022\"},{\"id\":\"1026\"}],\"height\":300,\"left\":[{\"id\":\"1023\"}],\"margin\":[5,5,5,5],\"min_border_bottom\":10,\"min_border_left\":10,\"min_border_right\":10,\"min_border_top\":10,\"renderers\":[{\"id\":\"1052\"},{\"id\":\"1073\"},{\"id\":\"1095\"},{\"id\":\"1119\"}],\"right\":[{\"id\":\"1064\"}],\"sizing_mode\":\"fixed\",\"title\":{\"id\":\"1011\"},\"toolbar\":{\"id\":\"1033\"},\"width\":700,\"x_range\":{\"id\":\"1004\"},\"x_scale\":{\"id\":\"1015\"},\"y_range\":{\"id\":\"1005\"},\"y_scale\":{\"id\":\"1017\"}},\"id\":\"1010\",\"subtype\":\"Figure\",\"type\":\"Plot\"},{\"attributes\":{\"click_policy\":\"mute\",\"coordinates\":null,\"group\":null,\"items\":[{\"id\":\"1065\"},{\"id\":\"1087\"},{\"id\":\"1111\"},{\"id\":\"1137\"}],\"location\":[0,0],\"title\":\"Customer Segments\"},\"id\":\"1064\",\"type\":\"Legend\"},{\"attributes\":{\"fill_alpha\":{\"value\":0.1},\"fill_color\":{\"value\":\"#e5ae38\"},\"hatch_alpha\":{\"value\":0.1},\"hatch_color\":{\"value\":\"#e5ae38\"},\"line_alpha\":{\"value\":0.1},\"line_color\":{\"value\":\"#e5ae38\"},\"size\":{\"value\":5.477225575051661},\"x\":{\"field\":\"PC2\"},\"y\":{\"field\":\"PC1\"}},\"id\":\"1093\",\"type\":\"Scatter\"},{\"attributes\":{},\"id\":\"1020\",\"type\":\"BasicTicker\"},{\"attributes\":{\"axis_label\":\"PC2\",\"coordinates\":null,\"formatter\":{\"id\":\"1041\"},\"group\":null,\"major_label_policy\":{\"id\":\"1042\"},\"ticker\":{\"id\":\"1020\"}},\"id\":\"1019\",\"type\":\"LinearAxis\"},{\"attributes\":{},\"id\":\"1041\",\"type\":\"BasicTickFormatter\"},{\"attributes\":{\"axis\":{\"id\":\"1019\"},\"coordinates\":null,\"grid_line_color\":null,\"group\":null,\"ticker\":null},\"id\":\"1022\",\"type\":\"Grid\"},{\"attributes\":{\"data\":{\"Customer_Segments\":[1,1,1,1,1,1,1,1,1,1,1,1,1,1,1,1,1,1,1,1,1,1,1,1,1,1,1,1,1,1,1,1,1,1,1,1,1,1,1,1,1,1,1,1,1,1,1,1,1,1,1,1,1,1,1,1,1,1,1],\"PC1\":{\"__ndarray__\":\"CktanbYW5r98NPkbllbwv8u+4k24q+G/mXGV2qHm578x9SA2QfzEv8UIFMUX3ee/mtYak7JY5L/doPQYGMPrv/FtvyU3CuO/wa/S/e5Y579YRldJZSfnv3VDNywaefK/na/3EAnm6r/4tixqQbTwv+/irqIdxfC/j02B/NbX5r9HpB/qvezKv1AiQyMwE/G/4BNgIqTV0b+e5XerR/7yv+qlAzxvEPK/Ehswt3Db5b/lolqM6TzkvxECkcvRTdS/CZ0CVCtq8L95gV5e4n/5vyX7+UDi6u2/miA/799S67+1fQ8+8sL3v2OONgQ9etW/jQCiUmy09r++reVBg8z8v/3TRiG/CfG/1dDQ+Z/m9L+0eJyBXPTvv6cWuO/VKOq/ogT2HSGt+78Q1B5xp270v+yPTu5XPvK/FYyCElx097/EC5//tkL6vwQssPeZ2+y/mxKCUPei+b++BC02T9XlvwzjTsR0aPO/17ZWb2Zf9L8zomkEdiz4v8GeG3l6nfG/ndnIbVNz9L8koAKsHMX2v0F0WMMoGfq//ACQ4N20+7/tw8vz2q3wv4eKVabHPPO/2HQyGa/x7r9v+N1A73v0v+XCre3l0/G/iX7hbHKq8L+q8CCb+Xz2vw==\",\"dtype\":\"float64\",\"order\":\"little\",\"shape\":[59]},\"PC2\":{\"__ndarray__\":\"5pOlVG+Yyr9s9OAKqJTLv+skmXIlKcW/pMdv2tTGj7+MTZk2+Layv9PTlT6QCJQ/4/l7pLK+tr+VA9z11CKsP2CTpRRgl4K/+NjlP7NnuD+jKWFgcraKvxuz+hE3KIM/XHAaJOvaxT/nBIl0ER63P62JQoxd8rY/6XRBQQ5L0j+sij8jTOHQPw+Ba5/Q5tU/bL72cCaz0z/rhS/dFDDRP67CP3sJl9o/USEAUbjC2z+iJiLzhdrbP1Az06DPadg/3PbjIyV21j9uu/XoR47XPw6VQMlAGuA/n75r0N6h2z+2Ikv1i9vhPwGwaMtkAuE/TuSbyN4z3z89NuBNJvjjP7MofPxFQuE/jAYn4s2z5T/m5ZVFrQDmP7nHTrHJr+I/FNXrOQC84T9m4KzaNT/iP49t7R2fauI/ubHh4l0/4z8CX483SW/lP3BT5n3zJOs/+nc3GhKL6z+uf41v0rzwPy0EHuPscPA/ClJ0m7tW8D+UY4W/cSTuP4Ru/33BIPE/K92LL9//8z+UaTAxvJf0PyItzV7vGPU/VUrHMSNq9z/H23fzmBP5P9cGbHxJWvg/xkmxEvGH+D8dNPbmfGH+Pyc9wH3vYgFAInKBAlwjBECfb43waWIHQA==\",\"dtype\":\"float64\",\"order\":\"little\",\"shape\":[59]}},\"selected\":{\"id\":\"1068\"},\"selection_policy\":{\"id\":\"1084\"}},\"id\":\"1067\",\"type\":\"ColumnDataSource\"},{\"attributes\":{\"fill_color\":{\"value\":\"#e5ae38\"},\"hatch_color\":{\"value\":\"#e5ae38\"},\"line_color\":{\"value\":\"#e5ae38\"},\"size\":{\"value\":5.477225575051661},\"x\":{\"field\":\"PC2\"},\"y\":{\"field\":\"PC1\"}},\"id\":\"1092\",\"type\":\"Scatter\"}],\"root_ids\":[\"1002\"]},\"title\":\"Bokeh Application\",\"version\":\"2.4.3\"}};\n",
       "    var render_items = [{\"docid\":\"e3b9b287-1a98-4970-ad45-802dbb4689d8\",\"root_ids\":[\"1002\"],\"roots\":{\"1002\":\"b6863190-ce8f-4475-a20a-b3217cabb712\"}}];\n",
       "    root.Bokeh.embed.embed_items_notebook(docs_json, render_items);\n",
       "  }\n",
       "  if (root.Bokeh !== undefined && root.Bokeh.Panel !== undefined) {\n",
       "    embed_document(root);\n",
       "  } else {\n",
       "    var attempts = 0;\n",
       "    var timer = setInterval(function(root) {\n",
       "      if (root.Bokeh !== undefined && root.Bokeh.Panel !== undefined) {\n",
       "        clearInterval(timer);\n",
       "        embed_document(root);\n",
       "      } else if (document.readyState == \"complete\") {\n",
       "        attempts++;\n",
       "        if (attempts > 200) {\n",
       "          clearInterval(timer);\n",
       "          console.log(\"Bokeh: ERROR: Unable to run BokehJS code because BokehJS library is missing\");\n",
       "        }\n",
       "      }\n",
       "    }, 25, root)\n",
       "  }\n",
       "})(window);</script>"
      ],
      "text/plain": [
       ":NdOverlay   [Customer Segments]\n",
       "   :Scatter   [PC2]   (PC1)"
      ]
     },
     "execution_count": 18,
     "metadata": {
      "application/vnd.holoviews_exec.v0+json": {
       "id": "1002"
      }
     },
     "output_type": "execute_result"
    }
   ],
   "source": [
    "# VISUALIZE THE CLUSTERS\n",
    "# Let's create a scatter plot to visualize the customer segments:\n",
    "\n",
    "# Create a scatter plot to visualize the clusters:\n",
    "df_shopping_pca_predictions.hvplot.scatter(\n",
    "    x='PC2',\n",
    "    y='PC1',\n",
    "    by='Customer Segments'\n",
    ")"
   ]
  },
  {
   "cell_type": "code",
   "execution_count": null,
   "id": "5d4cf37d-d0c9-43fd-a8ad-789e71ba424e",
   "metadata": {},
   "outputs": [],
   "source": [
    "# Despite some accuracy loss because of dimensionality reduction, the plot groups the four customer segments.\n",
    "# However, they're a little easier to visualize this time, as compared to the plot generated from the K-means algorithm in Lesson 2.\n",
    "# This is because we now have only two features.\n",
    "# The first feature, or principle component (PC1) runs along the y-axis, and the second feature (PC2) runs along the x-axis.\n",
    "# We just walked through an example of dimensionality reduction by apllying a technique called PCA.\n",
    "# This was useful because it allowed us to shrink the number of variables used in the K-Means algorithm, yet without sacrificing much in terms of accuracy."
   ]
  }
 ],
 "metadata": {
  "kernelspec": {
   "display_name": "Python 3 (ipykernel)",
   "language": "python",
   "name": "python3"
  },
  "language_info": {
   "codemirror_mode": {
    "name": "ipython",
    "version": 3
   },
   "file_extension": ".py",
   "mimetype": "text/x-python",
   "name": "python",
   "nbconvert_exporter": "python",
   "pygments_lexer": "ipython3",
   "version": "3.9.13"
  }
 },
 "nbformat": 4,
 "nbformat_minor": 5
}

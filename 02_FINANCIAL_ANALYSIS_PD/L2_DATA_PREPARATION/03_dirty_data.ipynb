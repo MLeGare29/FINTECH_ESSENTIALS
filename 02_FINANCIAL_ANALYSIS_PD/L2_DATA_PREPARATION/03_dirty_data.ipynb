{
 "cells": [
  {
   "cell_type": "code",
   "execution_count": 1,
   "id": "d7cf0455-c22e-437a-9a8a-b08a4650b991",
   "metadata": {},
   "outputs": [],
   "source": [
    "# HANDLING DIRTY DATA\n",
    "# Now that missing and duplicate data have been covered, we'll turn our sights to other common problems with datasets.\n",
    "# Sometimes, datasets have other types of dirty data, which is a loose term for erronous data.\n",
    "# Besides missing and duplicated data, dirty data can include the following: \n",
    "    # Typos\n",
    "    # Misplaced data\n",
    "    # Mixed datatypes\n",
    "    # Incorrect symbols or punctuation\n",
    "# All these errors need to be fixed in preparation for analysis."
   ]
  },
  {
   "cell_type": "code",
   "execution_count": 2,
   "id": "08b59fc2-7b34-4f63-9e36-fa0d44629211",
   "metadata": {},
   "outputs": [
    {
     "data": {
      "text/html": [
       "<div>\n",
       "<style scoped>\n",
       "    .dataframe tbody tr th:only-of-type {\n",
       "        vertical-align: middle;\n",
       "    }\n",
       "\n",
       "    .dataframe tbody tr th {\n",
       "        vertical-align: top;\n",
       "    }\n",
       "\n",
       "    .dataframe thead th {\n",
       "        text-align: right;\n",
       "    }\n",
       "</style>\n",
       "<table border=\"1\" class=\"dataframe\">\n",
       "  <thead>\n",
       "    <tr style=\"text-align: right;\">\n",
       "      <th></th>\n",
       "      <th>prices_usd</th>\n",
       "    </tr>\n",
       "  </thead>\n",
       "  <tbody>\n",
       "    <tr>\n",
       "      <th>0</th>\n",
       "      <td>$0.53</td>\n",
       "    </tr>\n",
       "    <tr>\n",
       "      <th>1</th>\n",
       "      <td>$0.65</td>\n",
       "    </tr>\n",
       "    <tr>\n",
       "      <th>2</th>\n",
       "      <td>0.22</td>\n",
       "    </tr>\n",
       "  </tbody>\n",
       "</table>\n",
       "</div>"
      ],
      "text/plain": [
       "  prices_usd\n",
       "0      $0.53\n",
       "1      $0.65\n",
       "2       0.22"
      ]
     },
     "metadata": {},
     "output_type": "display_data"
    },
    {
     "data": {
      "text/plain": [
       "prices_usd    object\n",
       "dtype: object"
      ]
     },
     "metadata": {},
     "output_type": "display_data"
    }
   ],
   "source": [
    "# IDENTIFY MESSY TEXT DATA\n",
    "# While it's a financial analysts dream to work with large datasets full of numbers, reality is that data often contains text fields as well.\n",
    "# Names, emails, comments, symbols, and other text values might prove relevant to the analysis.\n",
    "# So we need tools and techniques to clean and prepare any messy text.\n",
    "# In the following example, we'll focus on the influence of currency symbols.\n",
    "# When such symbols are present, it is as a string, therefore the numeric values no longer act as numbers, therefore are incalculable.\n",
    "# We will apply techniques to removing currency symbols:\n",
    "\n",
    "# Import library\n",
    "import pandas as pd\n",
    "\n",
    "prices = pd.DataFrame({\n",
    "    \"prices_usd\": [\"$0.53\", \"$0.65\", \"0.22\"]\n",
    "})\n",
    "display(prices)\n",
    "display(prices.dtypes)\n",
    "\n",
    "# The code creates the `prices` DataFrame with three values in the `prices_usd` column.\n",
    "# The first two include the dollar sign, however the last does not.\n",
    "# The values that contain the currency symbol can't convert to numerical data types such as `float` or `int`.\n",
    "# They are string objects or, `object` data types, therefore, calculations such as `sum()` and `mean()` won't work.\n",
    "# As displayed, using the `dtypes` function displays the type of data type Pandas assigns to the elements in the DataFrame that have the currency symbol."
   ]
  },
  {
   "cell_type": "code",
   "execution_count": 7,
   "id": "1a55ac5c-10d2-4d56-b695-15e1249cc2a5",
   "metadata": {},
   "outputs": [
    {
     "name": "stderr",
     "output_type": "stream",
     "text": [
      "C:\\Users\\legar\\AppData\\Local\\Temp\\ipykernel_10116\\1419158172.py:6: FutureWarning: The default value of regex will change from True to False in a future version. In addition, single character regular expressions will *not* be treated as literal strings when regex=True.\n",
      "  prices.loc[:, 'prices_usd'] = prices.loc[:, 'prices_usd'].str.replace(\"$\", \"\")\n"
     ]
    },
    {
     "data": {
      "text/html": [
       "<div>\n",
       "<style scoped>\n",
       "    .dataframe tbody tr th:only-of-type {\n",
       "        vertical-align: middle;\n",
       "    }\n",
       "\n",
       "    .dataframe tbody tr th {\n",
       "        vertical-align: top;\n",
       "    }\n",
       "\n",
       "    .dataframe thead th {\n",
       "        text-align: right;\n",
       "    }\n",
       "</style>\n",
       "<table border=\"1\" class=\"dataframe\">\n",
       "  <thead>\n",
       "    <tr style=\"text-align: right;\">\n",
       "      <th></th>\n",
       "      <th>prices_usd</th>\n",
       "    </tr>\n",
       "  </thead>\n",
       "  <tbody>\n",
       "    <tr>\n",
       "      <th>0</th>\n",
       "      <td>0.53</td>\n",
       "    </tr>\n",
       "    <tr>\n",
       "      <th>1</th>\n",
       "      <td>0.65</td>\n",
       "    </tr>\n",
       "    <tr>\n",
       "      <th>2</th>\n",
       "      <td>0.22</td>\n",
       "    </tr>\n",
       "  </tbody>\n",
       "</table>\n",
       "</div>"
      ],
      "text/plain": [
       "  prices_usd\n",
       "0       0.53\n",
       "1       0.65\n",
       "2       0.22"
      ]
     },
     "metadata": {},
     "output_type": "display_data"
    },
    {
     "data": {
      "text/plain": [
       "prices_usd    object\n",
       "dtype: object"
      ]
     },
     "metadata": {},
     "output_type": "display_data"
    }
   ],
   "source": [
    "# REMOVE SYMBOLS FROM DATA\n",
    "# To remove the dollar sign, we'll use a Pandas trick, calling the `str.replace()` function.\n",
    "# This will replace each currency string with an empty string, represented by two quotations `\"\"`.\n",
    "# To replace the values, we will use the `loc` or `iloc` functions to specify the column.\n",
    "    # Though we only have one column, using `loc` or `iloc` is a best practice.\n",
    "prices.loc[:, 'prices_usd'] = prices.loc[:, 'prices_usd'].str.replace(\"$\", \"\")\n",
    "display(prices)\n",
    "display(prices.dtypes)\n",
    "\n",
    "# The `str.replace()` function accepts two arguments:\n",
    "    # 1. The string we need to search for, which is the \"$\"\n",
    "    # 2. The string we are replacing it with, which is the empty string.\n",
    "# Now that we've removed the currency symbol, the next step it to convert the `object` data type into a numerical data type."
   ]
  },
  {
   "cell_type": "code",
   "execution_count": 9,
   "id": "848dc154-3520-436a-8813-74fe5d1da2c5",
   "metadata": {},
   "outputs": [
    {
     "data": {
      "text/plain": [
       "prices_usd    float64\n",
       "dtype: object"
      ]
     },
     "execution_count": 9,
     "metadata": {},
     "output_type": "execute_result"
    }
   ],
   "source": [
    "# CONVERT A TEXT DATA TYPE TO A NUMERICAL DATA TYPE\n",
    "# Removing the currency symbols from the data left us with a string representation of our numbers.\n",
    "# Now we can use the Pandas function `astype()` to convert strings into numbers.\n",
    "# The `astype()` function accepts an argument for the numerical type that we want to convert the data to.\n",
    "# The two most common conversion arguments are the following:\n",
    "    # 1. `float` - For numbers with decimals.\n",
    "    # 2. 'int' -  For whole numbers.\n",
    "# Because financial datasets often deal with currencies or prices, the `float` data type tends to be the one of choice:\n",
    "prices.loc[:, 'prices_usd'] = prices.loc[:, 'prices_usd'].astype(\"float\")\n",
    "prices.dtypes\n",
    "\n",
    "# as you can see the data type of the values in the `prices_usd` column is now a `float64` data type."
   ]
  },
  {
   "cell_type": "code",
   "execution_count": null,
   "id": "5debcb60-aaf0-4443-9c88-a0679628d9dc",
   "metadata": {},
   "outputs": [],
   "source": []
  }
 ],
 "metadata": {
  "kernelspec": {
   "display_name": "Python 3 (ipykernel)",
   "language": "python",
   "name": "python3"
  },
  "language_info": {
   "codemirror_mode": {
    "name": "ipython",
    "version": 3
   },
   "file_extension": ".py",
   "mimetype": "text/x-python",
   "name": "python",
   "nbconvert_exporter": "python",
   "pygments_lexer": "ipython3",
   "version": "3.9.13"
  }
 },
 "nbformat": 4,
 "nbformat_minor": 5
}

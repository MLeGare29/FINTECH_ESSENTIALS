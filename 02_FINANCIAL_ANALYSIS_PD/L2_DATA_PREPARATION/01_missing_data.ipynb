{
 "cells": [
  {
   "cell_type": "code",
   "execution_count": 1,
   "id": "5c059786-bfe7-4c75-9870-70f2f0cad9ed",
   "metadata": {},
   "outputs": [],
   "source": [
    "# INTRO TO DATA PREPARATION\n",
    "# Have you ever worked on a spreadsheet that's full of errors such as typos, missing data, or duplicated data?\n",
    "# These are examples of DIRTY DATA, which is the scourge of financial analysis.\n",
    "# Working with flawed data leads to flawed analysis. \n",
    "# It's essential to prepare and clean any dataset before you analyze it.\n",
    "# Pandas has built-in functions that allows analysts to accomplish this."
   ]
  },
  {
   "cell_type": "code",
   "execution_count": 4,
   "id": "9973f640-9a69-4307-8f0a-8a2b29dadbc1",
   "metadata": {},
   "outputs": [
    {
     "data": {
      "text/html": [
       "<div>\n",
       "<style scoped>\n",
       "    .dataframe tbody tr th:only-of-type {\n",
       "        vertical-align: middle;\n",
       "    }\n",
       "\n",
       "    .dataframe tbody tr th {\n",
       "        vertical-align: top;\n",
       "    }\n",
       "\n",
       "    .dataframe thead th {\n",
       "        text-align: right;\n",
       "    }\n",
       "</style>\n",
       "<table border=\"1\" class=\"dataframe\">\n",
       "  <thead>\n",
       "    <tr style=\"text-align: right;\">\n",
       "      <th></th>\n",
       "      <th>Item Number</th>\n",
       "      <th>Price</th>\n",
       "      <th>Quantity</th>\n",
       "    </tr>\n",
       "  </thead>\n",
       "  <tbody>\n",
       "    <tr>\n",
       "      <th>0</th>\n",
       "      <td>2468</td>\n",
       "      <td>2.99</td>\n",
       "      <td>250</td>\n",
       "    </tr>\n",
       "    <tr>\n",
       "      <th>1</th>\n",
       "      <td>1357</td>\n",
       "      <td>NaN</td>\n",
       "      <td>300</td>\n",
       "    </tr>\n",
       "    <tr>\n",
       "      <th>2</th>\n",
       "      <td>9753</td>\n",
       "      <td>3.47</td>\n",
       "      <td>350</td>\n",
       "    </tr>\n",
       "  </tbody>\n",
       "</table>\n",
       "</div>"
      ],
      "text/plain": [
       "   Item Number  Price   Quantity\n",
       "0         2468    2.99       250\n",
       "1         1357     NaN       300\n",
       "2         9753    3.47       350"
      ]
     },
     "execution_count": 4,
     "metadata": {},
     "output_type": "execute_result"
    }
   ],
   "source": [
    "# MISSING DATA\n",
    "# Analysts commonly encounter the problem of missing data.\n",
    "# Missing data can result from a human or computer error or even from a real-world event, like the market closing.\n",
    "# Before you start any analysis, you need to handle the missing values to avoid erroneous visualizations or incorrect calculations.\n",
    "# Pandas represents missing values by using a data type known as `NaN.\n",
    "# `NaN` stands for Not a Number. You can think of it as a placeholder for missing data.\n",
    "# The most important benefit of the NaN datatype is that we can use it with specific Pandas functions.\n",
    "# With these functions, we can identify the missing values and then either remove or replace them.\n",
    "# Let's start with an example CSV file that has missing values:\n",
    "\n",
    "import pandas as pd\n",
    "from pathlib import Path\n",
    "\n",
    "items_df = pd.read_csv(Path('items.csv'))\n",
    "items_df"
   ]
  },
  {
   "cell_type": "code",
   "execution_count": 8,
   "id": "77d337c2-539b-457d-a544-baf2679f620a",
   "metadata": {},
   "outputs": [
    {
     "data": {
      "text/html": [
       "<div>\n",
       "<style scoped>\n",
       "    .dataframe tbody tr th:only-of-type {\n",
       "        vertical-align: middle;\n",
       "    }\n",
       "\n",
       "    .dataframe tbody tr th {\n",
       "        vertical-align: top;\n",
       "    }\n",
       "\n",
       "    .dataframe thead th {\n",
       "        text-align: right;\n",
       "    }\n",
       "</style>\n",
       "<table border=\"1\" class=\"dataframe\">\n",
       "  <thead>\n",
       "    <tr style=\"text-align: right;\">\n",
       "      <th></th>\n",
       "      <th>Item Number</th>\n",
       "      <th>Price</th>\n",
       "      <th>Quantity</th>\n",
       "    </tr>\n",
       "  </thead>\n",
       "  <tbody>\n",
       "    <tr>\n",
       "      <th>0</th>\n",
       "      <td>False</td>\n",
       "      <td>False</td>\n",
       "      <td>False</td>\n",
       "    </tr>\n",
       "    <tr>\n",
       "      <th>1</th>\n",
       "      <td>False</td>\n",
       "      <td>True</td>\n",
       "      <td>False</td>\n",
       "    </tr>\n",
       "    <tr>\n",
       "      <th>2</th>\n",
       "      <td>False</td>\n",
       "      <td>False</td>\n",
       "      <td>False</td>\n",
       "    </tr>\n",
       "  </tbody>\n",
       "</table>\n",
       "</div>"
      ],
      "text/plain": [
       "   Item Number  Price   Quantity\n",
       "0        False   False     False\n",
       "1        False    True     False\n",
       "2        False   False     False"
      ]
     },
     "metadata": {},
     "output_type": "display_data"
    },
    {
     "data": {
      "text/plain": [
       "Item Number    0\n",
       "Price          1\n",
       "Quantity       0\n",
       "dtype: int64"
      ]
     },
     "metadata": {},
     "output_type": "display_data"
    },
    {
     "data": {
      "text/plain": [
       "Item Number    0.000000\n",
       "Price          0.333333\n",
       "Quantity       0.000000\n",
       "dtype: float64"
      ]
     },
     "metadata": {},
     "output_type": "display_data"
    }
   ],
   "source": [
    "# FINDING MISSING DATA\n",
    "# One of the best tools for finding missing, or null, values is the `isnull` function.\n",
    "# This function returns `True` if it finds NaN values in the DataFrame and `False` otherwise.\n",
    "# As you can see in the cell before, in index 1 of the Price column, there is a NaN.\n",
    "# When we run the `isnull()` function, we'll get a `True` output for that spot and `False` in the others:\n",
    "display(items_df.isnull())\n",
    "display(items_df.isnull().sum())\n",
    "display(items_df.isnull().mean())\n",
    "\n",
    "# Now that we see the price column has a value missing, we can use that to decide how to handle the missing values.\n",
    "# Additionally, we can add the function `sum()` to display how many NaN values are present in the DataFrame.\n",
    "# We can also use the `mean()` function to determine the percentage of missing values in each column. \n",
    "\n",
    "# *NOTE* On the job, when deleting missing values, it's important to be awar of how much data you need for your analysis.\n",
    "# That is, make sure not to delet too much data if doing so will affect your calculations or overall analysis.\n",
    "# Statisticians might have set guidelines, but most analysts build an intuition for this type of decision-making. "
   ]
  },
  {
   "cell_type": "code",
   "execution_count": 9,
   "id": "52a43318-b5b3-4a3f-bad3-1fd42936556a",
   "metadata": {},
   "outputs": [],
   "source": [
    "# HANDLING MISSING DATA\n",
    "# We can handle missing values one of two ways:\n",
    "    # 1. By removing, or `dropping` them.\n",
    "    # 2. By replacing, or `filling` them."
   ]
  },
  {
   "cell_type": "code",
   "execution_count": 15,
   "id": "7ead4a31-113d-4cf8-997b-9a13839999c5",
   "metadata": {},
   "outputs": [
    {
     "data": {
      "text/html": [
       "<div>\n",
       "<style scoped>\n",
       "    .dataframe tbody tr th:only-of-type {\n",
       "        vertical-align: middle;\n",
       "    }\n",
       "\n",
       "    .dataframe tbody tr th {\n",
       "        vertical-align: top;\n",
       "    }\n",
       "\n",
       "    .dataframe thead th {\n",
       "        text-align: right;\n",
       "    }\n",
       "</style>\n",
       "<table border=\"1\" class=\"dataframe\">\n",
       "  <thead>\n",
       "    <tr style=\"text-align: right;\">\n",
       "      <th></th>\n",
       "      <th>AAPL</th>\n",
       "      <th>GOOG</th>\n",
       "    </tr>\n",
       "  </thead>\n",
       "  <tbody>\n",
       "    <tr>\n",
       "      <th>0</th>\n",
       "      <td>0.50</td>\n",
       "      <td>0.45</td>\n",
       "    </tr>\n",
       "    <tr>\n",
       "      <th>1</th>\n",
       "      <td>NaN</td>\n",
       "      <td>0.63</td>\n",
       "    </tr>\n",
       "    <tr>\n",
       "      <th>2</th>\n",
       "      <td>0.62</td>\n",
       "      <td>0.55</td>\n",
       "    </tr>\n",
       "  </tbody>\n",
       "</table>\n",
       "</div>"
      ],
      "text/plain": [
       "   AAPL  GOOG\n",
       "0  0.50  0.45\n",
       "1   NaN  0.63\n",
       "2  0.62  0.55"
      ]
     },
     "metadata": {},
     "output_type": "display_data"
    },
    {
     "data": {
      "text/html": [
       "<div>\n",
       "<style scoped>\n",
       "    .dataframe tbody tr th:only-of-type {\n",
       "        vertical-align: middle;\n",
       "    }\n",
       "\n",
       "    .dataframe tbody tr th {\n",
       "        vertical-align: top;\n",
       "    }\n",
       "\n",
       "    .dataframe thead th {\n",
       "        text-align: right;\n",
       "    }\n",
       "</style>\n",
       "<table border=\"1\" class=\"dataframe\">\n",
       "  <thead>\n",
       "    <tr style=\"text-align: right;\">\n",
       "      <th></th>\n",
       "      <th>AAPL</th>\n",
       "      <th>GOOG</th>\n",
       "    </tr>\n",
       "  </thead>\n",
       "  <tbody>\n",
       "    <tr>\n",
       "      <th>0</th>\n",
       "      <td>0.50</td>\n",
       "      <td>0.45</td>\n",
       "    </tr>\n",
       "    <tr>\n",
       "      <th>2</th>\n",
       "      <td>0.62</td>\n",
       "      <td>0.55</td>\n",
       "    </tr>\n",
       "  </tbody>\n",
       "</table>\n",
       "</div>"
      ],
      "text/plain": [
       "   AAPL  GOOG\n",
       "0  0.50  0.45\n",
       "2  0.62  0.55"
      ]
     },
     "metadata": {},
     "output_type": "display_data"
    }
   ],
   "source": [
    "# DROP MISSING DATA\n",
    "# The first way to deal with missing data is to drop any rows that have missing values.\n",
    "# This option is best for large datasets where dropping some rows won't affect the overall analysis.\n",
    "# To drop rows of data that have missing values, we use the `dropna()` function\n",
    "# The following code imports the Pandas NumPy libraries and then creates a `daily_returns` DataFrame containing Apple and Google stock data:\n",
    "import pandas as pd\n",
    "import numpy as np\n",
    "\n",
    "daily_returns = pd.DataFrame({\n",
    "    \"AAPL\": [0.5, np.nan, 0.62],\n",
    "    \"GOOG\": [0.45, 0.63, 0.55]\n",
    "})\n",
    "display(daily_returns)\n",
    "\n",
    "# We see that `AAPL` is missing a value in index position 1, now we can use the `dropna()` function to remove the NaN value:\n",
    "new_returns = daily_returns.dropna()\n",
    "display(new_returns)\n",
    "\n",
    "# As you can see, the NaN value and the entire row is gone and only two rows remain.\n",
    "# However, the fact that `dropna()` has just thrown away a third of our data can't be ignored.\n",
    "# This example works for demonstrative purposes, but it's hard to imagine this scenario not skewing some aspect of your analysis.\n",
    "# This is especially true in professional settings where every piece of data counts.\n",
    "# With that in mind, this is where filling the data can be an alternative option."
   ]
  },
  {
   "cell_type": "code",
   "execution_count": 19,
   "id": "3b6b1215-2cce-46c0-b54d-e627dd66942d",
   "metadata": {},
   "outputs": [
    {
     "data": {
      "text/html": [
       "<div>\n",
       "<style scoped>\n",
       "    .dataframe tbody tr th:only-of-type {\n",
       "        vertical-align: middle;\n",
       "    }\n",
       "\n",
       "    .dataframe tbody tr th {\n",
       "        vertical-align: top;\n",
       "    }\n",
       "\n",
       "    .dataframe thead th {\n",
       "        text-align: right;\n",
       "    }\n",
       "</style>\n",
       "<table border=\"1\" class=\"dataframe\">\n",
       "  <thead>\n",
       "    <tr style=\"text-align: right;\">\n",
       "      <th></th>\n",
       "      <th>AAPL</th>\n",
       "      <th>GOOG</th>\n",
       "    </tr>\n",
       "  </thead>\n",
       "  <tbody>\n",
       "    <tr>\n",
       "      <th>0</th>\n",
       "      <td>0.50</td>\n",
       "      <td>0.45</td>\n",
       "    </tr>\n",
       "    <tr>\n",
       "      <th>1</th>\n",
       "      <td>NaN</td>\n",
       "      <td>0.63</td>\n",
       "    </tr>\n",
       "    <tr>\n",
       "      <th>2</th>\n",
       "      <td>0.62</td>\n",
       "      <td>0.55</td>\n",
       "    </tr>\n",
       "  </tbody>\n",
       "</table>\n",
       "</div>"
      ],
      "text/plain": [
       "   AAPL  GOOG\n",
       "0  0.50  0.45\n",
       "1   NaN  0.63\n",
       "2  0.62  0.55"
      ]
     },
     "metadata": {},
     "output_type": "display_data"
    },
    {
     "data": {
      "text/html": [
       "<div>\n",
       "<style scoped>\n",
       "    .dataframe tbody tr th:only-of-type {\n",
       "        vertical-align: middle;\n",
       "    }\n",
       "\n",
       "    .dataframe tbody tr th {\n",
       "        vertical-align: top;\n",
       "    }\n",
       "\n",
       "    .dataframe thead th {\n",
       "        text-align: right;\n",
       "    }\n",
       "</style>\n",
       "<table border=\"1\" class=\"dataframe\">\n",
       "  <thead>\n",
       "    <tr style=\"text-align: right;\">\n",
       "      <th></th>\n",
       "      <th>AAPL</th>\n",
       "      <th>GOOG</th>\n",
       "    </tr>\n",
       "  </thead>\n",
       "  <tbody>\n",
       "    <tr>\n",
       "      <th>0</th>\n",
       "      <td>0.50</td>\n",
       "      <td>0.45</td>\n",
       "    </tr>\n",
       "    <tr>\n",
       "      <th>1</th>\n",
       "      <td>0.00</td>\n",
       "      <td>0.63</td>\n",
       "    </tr>\n",
       "    <tr>\n",
       "      <th>2</th>\n",
       "      <td>0.62</td>\n",
       "      <td>0.55</td>\n",
       "    </tr>\n",
       "  </tbody>\n",
       "</table>\n",
       "</div>"
      ],
      "text/plain": [
       "   AAPL  GOOG\n",
       "0  0.50  0.45\n",
       "1  0.00  0.63\n",
       "2  0.62  0.55"
      ]
     },
     "metadata": {},
     "output_type": "display_data"
    },
    {
     "data": {
      "text/html": [
       "<div>\n",
       "<style scoped>\n",
       "    .dataframe tbody tr th:only-of-type {\n",
       "        vertical-align: middle;\n",
       "    }\n",
       "\n",
       "    .dataframe tbody tr th {\n",
       "        vertical-align: top;\n",
       "    }\n",
       "\n",
       "    .dataframe thead th {\n",
       "        text-align: right;\n",
       "    }\n",
       "</style>\n",
       "<table border=\"1\" class=\"dataframe\">\n",
       "  <thead>\n",
       "    <tr style=\"text-align: right;\">\n",
       "      <th></th>\n",
       "      <th>AAPL</th>\n",
       "      <th>GOOG</th>\n",
       "    </tr>\n",
       "  </thead>\n",
       "  <tbody>\n",
       "    <tr>\n",
       "      <th>0</th>\n",
       "      <td>0.50</td>\n",
       "      <td>0.45</td>\n",
       "    </tr>\n",
       "    <tr>\n",
       "      <th>1</th>\n",
       "      <td>0.56</td>\n",
       "      <td>0.63</td>\n",
       "    </tr>\n",
       "    <tr>\n",
       "      <th>2</th>\n",
       "      <td>0.62</td>\n",
       "      <td>0.55</td>\n",
       "    </tr>\n",
       "  </tbody>\n",
       "</table>\n",
       "</div>"
      ],
      "text/plain": [
       "   AAPL  GOOG\n",
       "0  0.50  0.45\n",
       "1  0.56  0.63\n",
       "2  0.62  0.55"
      ]
     },
     "metadata": {},
     "output_type": "display_data"
    },
    {
     "data": {
      "text/plain": [
       "0    0.50\n",
       "1    0.00\n",
       "2    0.62\n",
       "Name: AAPL, dtype: float64"
      ]
     },
     "metadata": {},
     "output_type": "display_data"
    },
    {
     "data": {
      "text/plain": [
       "0"
      ]
     },
     "metadata": {},
     "output_type": "display_data"
    }
   ],
   "source": [
    "# FILL MISSING DATA\n",
    "# When dropping data isn't an option, financial analysts sometimes fill the missing data with specific values that they can account for in the analysis.\n",
    "# The three most common replacement values are the following:\n",
    "    # \"Unknown\"\n",
    "    # 0\n",
    "    # `mean()`\n",
    "# There are pros and cons for each of these values, so you'll have to be discerning when choosing the best replacement for your particular problem.\n",
    "# Maybe you want to flag values with \"Unkown\".\n",
    "# Or you might want to replace a missing number with either zero or the average value in that column.\n",
    "# These choices are up to you as the analyst.\n",
    "# To fill NaN values, use the `fillna()` function.\n",
    "\n",
    "# Replace the NaNs with \"Unknown\".\n",
    "daily_returns.fillna(\"Unknown\")\n",
    "display(daily_returns)\n",
    "\n",
    "# Replace the NaNs with 0.\n",
    "zero_fill_returns = daily_returns.fillna(0)\n",
    "display(zero_fill_returns)\n",
    "\n",
    "# Replace the NaNs with the column average\n",
    "mean_returns = daily_returns.fillna(daily_returns.mean())\n",
    "display(mean_returns)\n",
    "\n",
    "# You can also use the `fillna()` function on a single column, giving you control over which values are replaced.\n",
    "# This is where the `loc` and `iloc` functions come into play.\n",
    "# For example, if you wanted to replace the NaN value in the AAPL column with 0 and not touch the GOOG column:\n",
    "aapl_edited_returns = daily_returns.loc[:, \"AAPL\"] \n",
    "aapl_returns = aapl_edited_returns.fillna(0)\n",
    "display(aapl_returns)\n",
    "display(aapl_returns.isnull().sum())"
   ]
  }
 ],
 "metadata": {
  "kernelspec": {
   "display_name": "Python 3 (ipykernel)",
   "language": "python",
   "name": "python3"
  },
  "language_info": {
   "codemirror_mode": {
    "name": "ipython",
    "version": 3
   },
   "file_extension": ".py",
   "mimetype": "text/x-python",
   "name": "python",
   "nbconvert_exporter": "python",
   "pygments_lexer": "ipython3",
   "version": "3.9.13"
  }
 },
 "nbformat": 4,
 "nbformat_minor": 5
}

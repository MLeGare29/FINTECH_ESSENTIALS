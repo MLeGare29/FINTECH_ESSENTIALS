{
 "cells": [
  {
   "cell_type": "code",
   "execution_count": 1,
   "id": "deba82de-6194-4942-9d38-347e466ebcec",
   "metadata": {},
   "outputs": [],
   "source": [
    "# HANDLING DUPLICATED DATA\n",
    "# While legitimate reasons may exist for keeping duplicated data, it's more common to remove it.\n",
    "# Keeping duplicated data might skew data aggregations by inflating numbers, or could create other problems during analysis.\n",
    "# In this section, you'll learn how to identify and drop duplicated data."
   ]
  },
  {
   "cell_type": "code",
   "execution_count": 1,
   "id": "524294f7-86b2-48ca-b68c-098ff1f22719",
   "metadata": {},
   "outputs": [
    {
     "data": {
      "text/html": [
       "<div>\n",
       "<style scoped>\n",
       "    .dataframe tbody tr th:only-of-type {\n",
       "        vertical-align: middle;\n",
       "    }\n",
       "\n",
       "    .dataframe tbody tr th {\n",
       "        vertical-align: top;\n",
       "    }\n",
       "\n",
       "    .dataframe thead th {\n",
       "        text-align: right;\n",
       "    }\n",
       "</style>\n",
       "<table border=\"1\" class=\"dataframe\">\n",
       "  <thead>\n",
       "    <tr style=\"text-align: right;\">\n",
       "      <th></th>\n",
       "      <th>Best Actors</th>\n",
       "    </tr>\n",
       "  </thead>\n",
       "  <tbody>\n",
       "    <tr>\n",
       "      <th>0</th>\n",
       "      <td>Sam Jackson</td>\n",
       "    </tr>\n",
       "    <tr>\n",
       "      <th>1</th>\n",
       "      <td>Halle Berry</td>\n",
       "    </tr>\n",
       "    <tr>\n",
       "      <th>2</th>\n",
       "      <td>Halle Berry</td>\n",
       "    </tr>\n",
       "    <tr>\n",
       "      <th>3</th>\n",
       "      <td>Eddie Murphy</td>\n",
       "    </tr>\n",
       "  </tbody>\n",
       "</table>\n",
       "</div>"
      ],
      "text/plain": [
       "    Best Actors\n",
       "0   Sam Jackson\n",
       "1   Halle Berry\n",
       "2   Halle Berry\n",
       "3  Eddie Murphy"
      ]
     },
     "metadata": {},
     "output_type": "display_data"
    },
    {
     "data": {
      "text/plain": [
       "0    False\n",
       "1    False\n",
       "2     True\n",
       "3    False\n",
       "dtype: bool"
      ]
     },
     "metadata": {},
     "output_type": "display_data"
    },
    {
     "data": {
      "text/plain": [
       "1"
      ]
     },
     "metadata": {},
     "output_type": "display_data"
    }
   ],
   "source": [
    "# FIND DUPLICATES\n",
    "# Pandas refers to the `duplicated` function to identify duplicate rows in a DataFrame.\n",
    "\n",
    "# Import libraries\n",
    "import pandas as pd\n",
    "\n",
    "# Create a DataFrame of actors called `best_actors_df`, record Halle Berry twice.\n",
    "best_actors_df = pd.DataFrame({\n",
    "    \"Best Actors\": [\"Sam Jackson\", \"Halle Berry\", \"Halle Berry\", \"Eddie Murphy\"]\n",
    "})\n",
    "# Display the results of `best_actors_df\n",
    "display(best_actors_df)\n",
    "# Display the duplicates with `duplicated()` function\n",
    "display(best_actors_df.duplicated())\n",
    "# Display the sum of the duplicated values\n",
    "display(best_actors_df.duplicated().sum())\n",
    "\n",
    "# As you can see, the output displays Halle Berry twice.\n",
    "# When checking using the `duplicated()` function, this will return a `True` output for any duplicates.\n",
    "# Obviously, the sum will reflect the amount of duplicates within the DataFrame."
   ]
  },
  {
   "cell_type": "code",
   "execution_count": 2,
   "id": "a34237b9-32b9-4f63-a71d-6c8c63685d20",
   "metadata": {},
   "outputs": [
    {
     "data": {
      "text/html": [
       "<div>\n",
       "<style scoped>\n",
       "    .dataframe tbody tr th:only-of-type {\n",
       "        vertical-align: middle;\n",
       "    }\n",
       "\n",
       "    .dataframe tbody tr th {\n",
       "        vertical-align: top;\n",
       "    }\n",
       "\n",
       "    .dataframe thead th {\n",
       "        text-align: right;\n",
       "    }\n",
       "</style>\n",
       "<table border=\"1\" class=\"dataframe\">\n",
       "  <thead>\n",
       "    <tr style=\"text-align: right;\">\n",
       "      <th></th>\n",
       "      <th>Best Actors</th>\n",
       "    </tr>\n",
       "  </thead>\n",
       "  <tbody>\n",
       "    <tr>\n",
       "      <th>0</th>\n",
       "      <td>Sam Jackson</td>\n",
       "    </tr>\n",
       "    <tr>\n",
       "      <th>1</th>\n",
       "      <td>Halle Berry</td>\n",
       "    </tr>\n",
       "    <tr>\n",
       "      <th>3</th>\n",
       "      <td>Eddie Murphy</td>\n",
       "    </tr>\n",
       "  </tbody>\n",
       "</table>\n",
       "</div>"
      ],
      "text/plain": [
       "    Best Actors\n",
       "0   Sam Jackson\n",
       "1   Halle Berry\n",
       "3  Eddie Murphy"
      ]
     },
     "execution_count": 2,
     "metadata": {},
     "output_type": "execute_result"
    }
   ],
   "source": [
    "# DROP DUPLICATES\n",
    "# The `drop_duplicates()` function removes duplicate rows:\n",
    "best_actors_df = best_actors_df.drop_duplicates()\n",
    "best_actors_df"
   ]
  }
 ],
 "metadata": {
  "kernelspec": {
   "display_name": "Python 3 (ipykernel)",
   "language": "python",
   "name": "python3"
  },
  "language_info": {
   "codemirror_mode": {
    "name": "ipython",
    "version": 3
   },
   "file_extension": ".py",
   "mimetype": "text/x-python",
   "name": "python",
   "nbconvert_exporter": "python",
   "pygments_lexer": "ipython3",
   "version": "3.9.13"
  }
 },
 "nbformat": 4,
 "nbformat_minor": 5
}

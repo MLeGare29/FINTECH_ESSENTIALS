{
 "cells": [
  {
   "cell_type": "code",
   "execution_count": 1,
   "id": "f0a73ff2-a8db-474f-8c15-47f40b50bd46",
   "metadata": {},
   "outputs": [],
   "source": [
    "# INTRODUCTION TO RESOLVING IMBALANCED CLASSES\n",
    "# IMBALACED CLASSES present us with a common classification problem.\n",
    "# This occurs when the size of one class greatly exceeds that of the other class.\n",
    "# As we found in the previous lesson, if someone works for a credit card company and wants to detect fraud transactions, they'll have many more transactions that aren't fraud than transactions that are.\n",
    "# In this case, the size of the 'not fraud' class greatly exceeds that of the 'fraud' class.\n",
    "# One approach to solving the imbalanced class problem involves RESAMPLING.\n",
    "# RESAMPLING is a way to artificially balance the classes that the model gets during training.\n",
    "# This helps the model avoid hyperfocusing on the larger class and can improve the predictions for the smaller class.\n",
    "# Three types of resampling techniques exist:\n",
    "    # 1. Oversampling\n",
    "    # 2. Undersampling\n",
    "    # 3. Combination sampling\n",
    "# In this lesson we'll discuss all three, but focus on oversampling."
   ]
  },
  {
   "cell_type": "code",
   "execution_count": null,
   "id": "aa4a4110-32ac-426d-80e2-bc8b5f2f7828",
   "metadata": {},
   "outputs": [],
   "source": [
    "# TYPES OF RESAMPLING\n",
    "# In this lesson, we'll address imbalanced classes with resampling techniques.\n",
    "# Most of these techniques fall into the following two categories: \n",
    "    # 1. OVERSAMPLING: Creating more instances of a class label, usually for the smaller class.\n",
    "    # 2. UNDERSAMPLING: Creating fewer instances of a class label, usually for the larger class.\n",
    "# We can do both oversampling and undersampling before choosing a model, like logistic regression.\n",
    "# If we have imbalanced classes, doing this step in advance can improve the predictive performance of the model.\n",
    "# In a later lesson, we'll learn about models that have resampling built in.\n",
    "# Various oversampling, undersampling, and combination sampling techniques exist:\n",
    "    # 1. OVERSAMPLING TECHNIQUES:\n",
    "        # Random oversampling\n",
    "        # Synthetic minority oversampling technique (SMOTE)\n",
    "    # 2. UNDERSAMPLING TECHNIQUES:\n",
    "        # Random undersampling\n",
    "        # Cluster centroid\n",
    "    # 3. COMBINATION SAMPLING TECHNIQUE:\n",
    "        # SMOTE & EDITED NEAREST NEIGHBORS (ENN), or SMOTEENN\n",
    "# By resampling our data, we have the chance to create better performing machine learning models.\n",
    "# And, the more resampling techniques we have, the better our chances are of identifying one that works will for our current data.\n",
    "# In this lesson, we'll cover oversampling and go over random oversampling in detail."
   ]
  }
 ],
 "metadata": {
  "kernelspec": {
   "display_name": "Python 3 (ipykernel)",
   "language": "python",
   "name": "python3"
  },
  "language_info": {
   "codemirror_mode": {
    "name": "ipython",
    "version": 3
   },
   "file_extension": ".py",
   "mimetype": "text/x-python",
   "name": "python",
   "nbconvert_exporter": "python",
   "pygments_lexer": "ipython3",
   "version": "3.9.13"
  }
 },
 "nbformat": 4,
 "nbformat_minor": 5
}

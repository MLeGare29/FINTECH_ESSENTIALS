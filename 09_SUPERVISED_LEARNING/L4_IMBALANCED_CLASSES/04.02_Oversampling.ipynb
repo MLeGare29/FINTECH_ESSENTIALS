{
 "cells": [
  {
   "cell_type": "code",
   "execution_count": 1,
   "id": "affec34e-205f-405d-98df-c031d0ab0004",
   "metadata": {},
   "outputs": [],
   "source": [
    "# Import the libraries and dependencies:\n",
    "import pandas as pd\n",
    "from pathlib import Path\n",
    "import matplotlib.pyplot as plt"
   ]
  },
  {
   "cell_type": "code",
   "execution_count": 2,
   "id": "0c23c8ea-4b3a-49da-8b1e-e905c093b2ae",
   "metadata": {},
   "outputs": [],
   "source": [
    "# OVERSAMPLING\n",
    "# As mentioned earlier, the term IMBALANCED CLASSES means that the existing classes in a dataset aren't equally represented.\n",
    "# We discussed a fraud detection scenario as an example,.\n",
    "# In this case, a large number of credit card transactions are legitimate, and only a small number are fraud.\n",
    "# Say that out of 100,000 transactions, 50 are fraud, and the rest are legitimate.\n",
    "# The pronounced imbalance between the classes can cause machine learning models to have a bias toward the larger class.\n",
    "# The model will then excel at predicting the transactions that aren't fraud compared to those that are fraud.\n",
    "# This is a problem if the goal is to detect fraudulent transactions.\n",
    "# In such a case, even a model that blindly classifies every transaction an not fraud will achieve great accuracy.\n",
    "# As we learned earlier, one strategy to deal with imbalanced classes is to use the appropriate metrics to evaluate the model's performance, such as precision and recall.\n",
    "\n",
    "# REWIND\n",
    "# The precision calculates the number of false positives that the model produced relative to the total number of instances.\n",
    "# The recall calculates the ratio of the known values from the testing dataset to the values that the model failed to predict.\n",
    "\n",
    "# Another strategy is to use OVERSAMPLING. \n",
    "# The idea is this: If one class doesn't have enough instances in the training se, we'll choose more instances from that class to do the training.\n",
    "# In fact, we'll resample enough of the original instances to make the size of the smaller class equal to the size of the larger class in the training set."
   ]
  },
  {
   "cell_type": "code",
   "execution_count": 13,
   "id": "067d1af0-7143-4c9c-acf4-96a08010d793",
   "metadata": {},
   "outputs": [],
   "source": [
    "# RANDOM OVERSAMPLING\n",
    "# In RANDOM OVERSAMPLING, we randomly select instances of the minority class and add them to the training set until we've balanced the majority and minority classes.\n",
    "\n",
    "# NOTE:\n",
    "# In the machine learning field, people often refer to the larger class as the MAJORITY class and to the smaller class as the MINORITY class.\n",
    "\n",
    "# Consider an example dataset.\n",
    "# It has usage statistics that include the number of times customers have downloaded a popular mobile payments app.\n",
    "# The total number of downloads is 650, but we can divide them as follows:\n",
    "    # 1. Of these data points, 600 represent customers who downloaded the app but didn't use it for any transaction.\n",
    "    # 2. An additional 50 data points represent customers who downloaded the app and then used it to make a payment.\n",
    "# Customer usage statistics commonly present this type of situation - which has imbalanced classes.\n",
    "# That is, a much smaller number of people actively engage with the product than the full sample of people that have encountered the product.\n",
    "# To balance the classes via random oversampling, we go through the following steps, which the sections to follow explain how to implement using Python:\n",
    "    # 1. Read the data.\n",
    "    # 2. Visualize the data.\n",
    "    # 3. Split the data into training and testing sets.\n",
    "    # 4. Count the label ('y') values using the value_counts function.\n",
    "    # 5. Based on label value count, oversample the data.\n",
    "    # 6. Fit a logic regression model.\n",
    "    # 7. Make predictions.\n",
    "    # 8. Evaluate the model."
   ]
  },
  {
   "cell_type": "code",
   "execution_count": 14,
   "id": "fe8202d5-33dd-4688-a52c-1b8f32338253",
   "metadata": {},
   "outputs": [
    {
     "data": {
      "text/html": [
       "<div>\n",
       "<style scoped>\n",
       "    .dataframe tbody tr th:only-of-type {\n",
       "        vertical-align: middle;\n",
       "    }\n",
       "\n",
       "    .dataframe tbody tr th {\n",
       "        vertical-align: top;\n",
       "    }\n",
       "\n",
       "    .dataframe thead th {\n",
       "        text-align: right;\n",
       "    }\n",
       "</style>\n",
       "<table border=\"1\" class=\"dataframe\">\n",
       "  <thead>\n",
       "    <tr style=\"text-align: right;\">\n",
       "      <th></th>\n",
       "      <th>Download Date</th>\n",
       "      <th>Download Location</th>\n",
       "      <th>y</th>\n",
       "    </tr>\n",
       "  </thead>\n",
       "  <tbody>\n",
       "    <tr>\n",
       "      <th>0</th>\n",
       "      <td>3.368873</td>\n",
       "      <td>6.174326</td>\n",
       "      <td>0</td>\n",
       "    </tr>\n",
       "    <tr>\n",
       "      <th>1</th>\n",
       "      <td>-3.091484</td>\n",
       "      <td>0.052052</td>\n",
       "      <td>0</td>\n",
       "    </tr>\n",
       "    <tr>\n",
       "      <th>2</th>\n",
       "      <td>2.240576</td>\n",
       "      <td>1.259282</td>\n",
       "      <td>0</td>\n",
       "    </tr>\n",
       "    <tr>\n",
       "      <th>3</th>\n",
       "      <td>6.809486</td>\n",
       "      <td>5.390839</td>\n",
       "      <td>0</td>\n",
       "    </tr>\n",
       "    <tr>\n",
       "      <th>4</th>\n",
       "      <td>-3.557147</td>\n",
       "      <td>-0.667529</td>\n",
       "      <td>0</td>\n",
       "    </tr>\n",
       "  </tbody>\n",
       "</table>\n",
       "</div>"
      ],
      "text/plain": [
       "   Download Date  Download Location  y\n",
       "0       3.368873           6.174326  0\n",
       "1      -3.091484           0.052052  0\n",
       "2       2.240576           1.259282  0\n",
       "3       6.809486           5.390839  0\n",
       "4      -3.557147          -0.667529  0"
      ]
     },
     "metadata": {},
     "output_type": "display_data"
    },
    {
     "data": {
      "text/html": [
       "<div>\n",
       "<style scoped>\n",
       "    .dataframe tbody tr th:only-of-type {\n",
       "        vertical-align: middle;\n",
       "    }\n",
       "\n",
       "    .dataframe tbody tr th {\n",
       "        vertical-align: top;\n",
       "    }\n",
       "\n",
       "    .dataframe thead th {\n",
       "        text-align: right;\n",
       "    }\n",
       "</style>\n",
       "<table border=\"1\" class=\"dataframe\">\n",
       "  <thead>\n",
       "    <tr style=\"text-align: right;\">\n",
       "      <th></th>\n",
       "      <th>Download Date</th>\n",
       "      <th>Download Location</th>\n",
       "      <th>y</th>\n",
       "    </tr>\n",
       "  </thead>\n",
       "  <tbody>\n",
       "    <tr>\n",
       "      <th>645</th>\n",
       "      <td>-9.353526</td>\n",
       "      <td>2.167014</td>\n",
       "      <td>0</td>\n",
       "    </tr>\n",
       "    <tr>\n",
       "      <th>646</th>\n",
       "      <td>-1.855451</td>\n",
       "      <td>3.262719</td>\n",
       "      <td>0</td>\n",
       "    </tr>\n",
       "    <tr>\n",
       "      <th>647</th>\n",
       "      <td>0.488071</td>\n",
       "      <td>1.371498</td>\n",
       "      <td>0</td>\n",
       "    </tr>\n",
       "    <tr>\n",
       "      <th>648</th>\n",
       "      <td>4.074942</td>\n",
       "      <td>4.157977</td>\n",
       "      <td>0</td>\n",
       "    </tr>\n",
       "    <tr>\n",
       "      <th>649</th>\n",
       "      <td>-2.810130</td>\n",
       "      <td>1.951418</td>\n",
       "      <td>0</td>\n",
       "    </tr>\n",
       "  </tbody>\n",
       "</table>\n",
       "</div>"
      ],
      "text/plain": [
       "     Download Date  Download Location  y\n",
       "645      -9.353526           2.167014  0\n",
       "646      -1.855451           3.262719  0\n",
       "647       0.488071           1.371498  0\n",
       "648       4.074942           4.157977  0\n",
       "649      -2.810130           1.951418  0"
      ]
     },
     "metadata": {},
     "output_type": "display_data"
    }
   ],
   "source": [
    "# READ THE DATA\n",
    "# First, we read the features data and hte labels into a DataFrame. \n",
    "# The features data contains each user's download data and location.\n",
    "# The labels data represents whether each user ultimately used the app for a transaction, 1 being yes, and 0 being no.\n",
    "\n",
    "# NOTE\n",
    "# Keep in mind that instead of using `features` and `labels` for the variable names, we'll use X for features and y for the class label.\n",
    "# Machine learning code commonly does this.\n",
    "# Remember: X is uppercase because the features data usually has multiple columns.\n",
    "# By contrast, 1 is lowercase because we rarely predict more than one column at a time.\n",
    "\n",
    "app_df = pd.read_csv(\n",
    "    Path('app_stats.csv'),\n",
    ")\n",
    "\n",
    "display(app_df.head())\n",
    "display(app_df.tail())"
   ]
  },
  {
   "cell_type": "code",
   "execution_count": 15,
   "id": "35dc1e75-72cc-4c19-afaa-36b79fa7517a",
   "metadata": {},
   "outputs": [
    {
     "data": {
      "image/png": "[encoded data removed]",
      "text/plain": [
       "<Figure size 640x480 with 1 Axes>"
      ]
     },
     "metadata": {},
     "output_type": "display_data"
    }
   ],
   "source": [
    "plt.scatter(\n",
    "    # Put the user download data along the x-axis\n",
    "    x=app_df['Download Date'],\n",
    "    # Put the user download location along the y-axis\n",
    "    y=app_df['Download Location'],\n",
    "    # Plot the binary y variable as the color\n",
    "    c=app_df['y']\n",
    ")\n",
    "\n",
    "# Show the plot\n",
    "plt.show()"
   ]
  },
  {
   "cell_type": "code",
   "execution_count": 16,
   "id": "de185053-e392-4edc-a8c0-9c3d356dc1cd",
   "metadata": {},
   "outputs": [],
   "source": [
    "# BREAKDOWN\n",
    "# The visualization confirms the class imbalance.\n",
    "# The purple data points represent the people that downloaded the app but didn't use it.\n",
    "# The yellow data points represent the people that downloaded the app then make a transaction.\n",
    "# The purple data points clearly outnumber that of the yellow, which means more people downloaded the app, but didn't use it.\n",
    "# Furthermore, the two classes don't appear to be as distinct as in some of the earlier examples.\n",
    "# That is, the colors somewhat overlap at their margins.\n",
    "# Based on our features, this means that some of these customers seem like they could be classified either way.\n",
    "# In addition to our imbalanced classes, this ambiguity presents challenges for our model."
   ]
  },
  {
   "cell_type": "code",
   "execution_count": 17,
   "id": "2c71a187-ef4b-4c6a-bdd3-2521fd57e77a",
   "metadata": {},
   "outputs": [],
   "source": [
    "# SPLIT THE DATA INTO TRAINING AND TESTING SETS\n",
    "# Before we begin fitting the model, we split the data into training and testing sets:\n",
    "\n",
    "# Import the module:\n",
    "from sklearn.model_selection import train_test_split\n",
    "\n",
    "# Separate the label, or y from the features:\n",
    "y = app_df['y']\n",
    "\n",
    "# Drop the y column to separate the features:\n",
    "X = app_df.drop(columns='y')\n",
    "\n",
    "# Split the data:\n",
    "X_train, X_test, y_train, y_test = train_test_split(X, y, random_state=1)"
   ]
  },
  {
   "cell_type": "code",
   "execution_count": 18,
   "id": "6d6a3b42-3c23-4afd-92f2-8f787d97c498",
   "metadata": {},
   "outputs": [
    {
     "data": {
      "text/plain": [
       "0    448\n",
       "1     39\n",
       "Name: y, dtype: int64"
      ]
     },
     "execution_count": 8,
     "metadata": {},
     "output_type": "execute_result"
    }
   ],
   "source": [
    "# Next, we can check the class imbalance by counting the classes that appear in our training data.\n",
    "# To do this, we can use the `value_counts` function:\n",
    "\n",
    "# Count the distinct values:\n",
    "y_train.value_counts()"
   ]
  },
  {
   "cell_type": "code",
   "execution_count": 19,
   "id": "aa0a6267-c2f9-4aa0-b5d6-2dc388601a8f",
   "metadata": {},
   "outputs": [],
   "source": [
    "# BREAKDOWN\n",
    "# We find that the majority class label has 448 instances, whereas the minority one has only 39.\n",
    "# However, we want an equal representation of both classes in the training data.\n",
    "# To achieve this, we can use a model that's capable of oversampling the underrepresented class.\n",
    "# This creates a set of training data by choosing values from both classes.\n",
    "# However, with oversampling, it chooses the underrepresented class multiple times to increase the number of times that the model gets it during training."
   ]
  },
  {
   "cell_type": "code",
   "execution_count": 20,
   "id": "946b09a4-6e7d-452c-a759-826ad2b56119",
   "metadata": {},
   "outputs": [],
   "source": [
    "# OVERSAMPLING THE DATA\n",
    "# To oversample the data, we use a new library named imbalanced-learn, or imblearn.\n",
    "# This library of tools can help us fix imbalanced classes.\n",
    "# It has several models and custom evaluation metrics to make it easier to create, train, and evaluate models with imbalanced classes.\n",
    "# For our example, we use the `RandomOverSampler` function to oversample the data:\n",
    "\n",
    "# Import the Imbalanced Learn RandomOverSampler module:\n",
    "from imblearn.over_sampling import RandomOverSampler\n",
    "\n",
    "# Create a RandomOverSampler instance:\n",
    "random_oversampler = RandomOverSampler(random_state=1)\n",
    "\n",
    "# Resample the data:\n",
    "X_resampled, y_resampled = random_oversampler.fit_resample(X_train, y_train)"
   ]
  },
  {
   "cell_type": "code",
   "execution_count": 22,
   "id": "4c53b729-1cb4-4bd5-bb15-ecc342aacd4b",
   "metadata": {},
   "outputs": [
    {
     "data": {
      "text/plain": [
       "0    448\n",
       "1    448\n",
       "Name: y, dtype: int64"
      ]
     },
     "execution_count": 11,
     "metadata": {},
     "output_type": "execute_result"
    }
   ],
   "source": [
    "# BREAKDOWN\n",
    "# Let's break down what's happening:\n",
    "    # 1. An instance of `RandomOverSampler` is instantiated as `random_oversampler`.\n",
    "    # 2. The training data (X_train, y_train) is resampled via the `fit_sample` function.\n",
    "    # 3. The results are named `X_resampled` and `y_resampled`.\n",
    "# We can now check the value counts of the resampled labels.\n",
    "# Once the data has been oversampled and both labels have a value of 448, then we can move to choosing and fitting the model.\n",
    "\n",
    "# Count the distinct values:\n",
    "y_resampled.value_counts()"
   ]
  },
  {
   "cell_type": "code",
   "execution_count": 23,
   "id": "02b1e362-4c2c-43e9-a94a-073db86f78fc",
   "metadata": {},
   "outputs": [
    {
     "data": {
      "text/plain": [
       "LogisticRegression()"
      ]
     },
     "execution_count": 12,
     "metadata": {},
     "output_type": "execute_result"
    }
   ],
   "source": [
    "# FIT A LOGISITIC REGRESSION MODEL\n",
    "# With our resampled dataset available, we can now carry out the familiar pipeline:\n",
    "    # 1. Choose the model\n",
    "    # 2. Fit the model\n",
    "    # 3. Make predictions\n",
    "    # 4. Evaluate the model's performance\n",
    "# Specifically, we'll evaluate how well it predicts the most engaged app users.\n",
    "# For this example, we'll use a logistic regression model.\n",
    "# However, its worth pointing out that we could use an alternative machine learning model with this data.\n",
    "\n",
    "# Import the module:\n",
    "from sklearn.linear_model import LogisticRegression\n",
    "\n",
    "# Declare a logistic regression model:\n",
    "model = LogisticRegression()\n",
    "\n",
    "# fit the model:\n",
    "model.fit(X_resampled, y_resampled)"
   ]
  },
  {
   "cell_type": "code",
   "execution_count": 25,
   "id": "ff505a1c-3094-40fb-8122-234dba57c0d8",
   "metadata": {},
   "outputs": [
    {
     "name": "stdout",
     "output_type": "stream",
     "text": [
      "[[131  21]\n",
      " [  1  10]]\n"
     ]
    }
   ],
   "source": [
    "# MAKE PREDICTIONS\n",
    "# We have the model make predictions, and we then generate a confusion matrix with the results.\n",
    "\n",
    "# Import the module:\n",
    "from sklearn.metrics import confusion_matrix\n",
    "\n",
    "# Predict the labels for the testing features:\n",
    "y_pred = model.predict(X_test)\n",
    "\n",
    "# Pring the confusion matrix:\n",
    "print(confusion_matrix(y_test, y_pred))"
   ]
  },
  {
   "cell_type": "code",
   "execution_count": 28,
   "id": "9de66c48-13b4-4e2f-94fc-e536be992777",
   "metadata": {},
   "outputs": [
    {
     "name": "stdout",
     "output_type": "stream",
     "text": [
      "0.8854665071770335\n"
     ]
    }
   ],
   "source": [
    "# EVALUATE THE MODEL\n",
    "# To calculate the accuracy score of the model, we use the `balanced_accuracy_score` module.\n",
    "# This is similar to the `accuracy_score` module that we used earlier.\n",
    "# But, `balanced_accuracy_score` does a better job of evaluating imbalanced classes.\n",
    "\n",
    "# Import the module:\n",
    "from sklearn.metrics import balanced_accuracy_score\n",
    "\n",
    "# Print the accuracy score:\n",
    "print(balanced_accuracy_score(y_test, y_pred))"
   ]
  },
  {
   "cell_type": "code",
   "execution_count": 17,
   "id": "e4bf845b-7d18-4e41-82a5-7d89e0dc3d04",
   "metadata": {},
   "outputs": [
    {
     "name": "stdout",
     "output_type": "stream",
     "text": [
      "                   pre       rec       spe        f1       geo       iba       sup\n",
      "\n",
      "          0       0.99      0.86      0.91      0.92      0.89      0.78       152\n",
      "          1       0.32      0.91      0.86      0.48      0.89      0.79        11\n",
      "\n",
      "avg / total       0.95      0.87      0.91      0.89      0.89      0.78       163\n",
      "\n"
     ]
    }
   ],
   "source": [
    "# BREAKDOWN\n",
    "# We find that the accuracy score is high at 88%.\n",
    "# But as we've found before, this number can be misleading, especially in an imbalanced dataset.\n",
    "# Let's examine the classification report to further assess the results.\n",
    "# We use the `classification_report_imbalanced` module to do so.\n",
    "# This is similar to the `classification_report` module we used earlier, except that it has additional metrics for imbalanced classes.\n",
    "\n",
    "# Import the module:\n",
    "from imblearn.metrics import classification_report_imbalanced\n",
    "\n",
    "# Print the imbalanced classification report:\n",
    "print(classification_report_imbalanced(y_test, y_pred))"
   ]
  },
  {
   "cell_type": "code",
   "execution_count": 18,
   "id": "b442af34-d006-4db6-b76f-c66db574ee8a",
   "metadata": {},
   "outputs": [],
   "source": [
    "# DEEP DIVE\n",
    "# You can read more about the additional metrics in the report link at the imblearn documentation page:\n",
    "    # https://imbalanced-learn.org/dev/references/metrics.html"
   ]
  },
  {
   "cell_type": "code",
   "execution_count": 19,
   "id": "6cac82cd-d1e1-44de-99d3-457b8320087b",
   "metadata": {},
   "outputs": [],
   "source": [
    "# BREAKDOWN \n",
    "# Let's examine a few numbers in this classification report.\n",
    "# If you think the of the classification report as a dashboard for this model's performance, the following results will stand out:\n",
    "    # 1. The precision is very high for the 0 class and very low for the 1 class. We see this with the F1 score as well.\n",
    "# Here's one way to think about this: For every 100 predictions that the model made that user will make a payment, only 32 did so.\n",
    "# But the model does better with the less-engaged users.\n",
    "# That is, for every 100 predictions that a user will download but not use the app, 99 were correct.\n",
    "    # 2. The recall for the 0 and 1 classes almost match.\n",
    "        # Remember the definition for this metric: of all the actual 0 and 1 values, how many did the model get right?\n",
    "        # First, note that the testing dataset had 11 actual values. (We can find that number in the 'sup' column, which stands for 'support').\n",
    "        # This means that this model is correctly predicted 10 of them (0.91 x 11).\n",
    "        # By accurately identifying 91% of all the users who actually made a payment via the app, the model did a fairly good job.        "
   ]
  },
  {
   "cell_type": "code",
   "execution_count": 25,
   "id": "5c5240db-8672-4440-9148-38fe0ffec3fa",
   "metadata": {},
   "outputs": [
    {
     "name": "stdout",
     "output_type": "stream",
     "text": [
      "0    448\n",
      "1     39\n",
      "Name: y, dtype: int64\n",
      "0.8854665071770335\n",
      "0.5843301435406698\n",
      "[[150   2]\n",
      " [  9   2]]\n",
      "              precision    recall  f1-score   support\n",
      "\n",
      "           0       0.94      0.99      0.96       152\n",
      "           1       0.50      0.18      0.27        11\n",
      "\n",
      "    accuracy                           0.93       163\n",
      "   macro avg       0.72      0.58      0.62       163\n",
      "weighted avg       0.91      0.93      0.92       163\n",
      "\n",
      "                   pre       rec       spe        f1       geo       iba       sup\n",
      "\n",
      "          0       0.99      0.86      0.91      0.92      0.89      0.78       152\n",
      "          1       0.32      0.91      0.86      0.48      0.89      0.79        11\n",
      "\n",
      "avg / total       0.95      0.87      0.91      0.89      0.89      0.78       163\n",
      "\n"
     ]
    }
   ],
   "source": [
    "# COMPARE THE RESULTS\n",
    "# For a final point of examination, let's compare the results from the logistic regression model that used oversampling with the logistic regression model that used only the original imbalanced dataset.\n",
    "\n",
    "# Import the libraries and dependencies:\n",
    "from sklearn.metrics import classification_report\n",
    "from sklearn.metrics import confusion_matrix\n",
    "\n",
    "# Print the value count:\n",
    "print(y_train.value_counts())\n",
    "\n",
    "# Fit the training data to the LogisticRegression model using the original dataset:\n",
    "model.fit(X_train, y_train)\n",
    "\n",
    "# Generate the training predictions of the original dataset:\n",
    "training_predictions = model.predict(X_train)\n",
    "\n",
    "# Generate the testing predictions of the original dataset:\n",
    "testing_predictions = model.predict(X_test)\n",
    "\n",
    "# Print the balanced accuracy scores:\n",
    "print(balanced_accuracy_score(y_test, y_pred))\n",
    "print(balanced_accuracy_score(y_test, testing_predictions))\n",
    "\n",
    "# Create the confusion_matrices for the original dataset:\n",
    "training_matrix = confusion_matrix(y_train, training_predictions)\n",
    "testing_matrix = confusion_matrix(y_test, testing_predictions)\n",
    "\n",
    "# Display the confusion matrices:\n",
    "print(testing_matrix)\n",
    "\n",
    "# Create the classification reports:\n",
    "training_report = classification_report(y_train, training_predictions)\n",
    "testing_report = classification_report(y_test, testing_predictions)\n",
    "\n",
    "# Display the classification reports for the original dataset and for the imbalanced dataset:\n",
    "print(testing_report)\n",
    "print(classification_report_imbalanced(y_test, y_pred))"
   ]
  },
  {
   "cell_type": "code",
   "execution_count": 26,
   "id": "140d4e12-b857-4846-af43-ced31674c02a",
   "metadata": {},
   "outputs": [],
   "source": [
    "# Notice that the balanced accuracy score is 58.4% for the original dataset.\n",
    "# Comparing that to the balanced accuracy score of 88.5% of the oversampled data, we can observe the obvious boost.\n",
    "# However, this can be misleading.\n",
    "# Now let's compare how the two models did with the preceison for class 1.\n",
    "# The model that used the imbalanced data produced a precision 50%.\n",
    "# The model that used the oversampled data produced a precision of 32%.\n",
    "# So, the logisitc regression model that used the original imbalanced data did slightly better at making predictions for class 1.\n",
    "# Finally, let's compare how the two models did with the recall for the 1 class.\n",
    "# The model that used the imbalanced data produced a recall of 18%.\n",
    "# While the oversampled data model produced a recall of 91%.\n",
    "# So, the model that used the oversampled data was dramatically more accurate at predicting who would both download and use the application."
   ]
  },
  {
   "cell_type": "code",
   "execution_count": null,
   "id": "e9e5c8eb-b338-4474-bdf0-4bfa60c6a7cf",
   "metadata": {},
   "outputs": [],
   "source": [
    "# CONCLUSION\n",
    "# Taken together, what does this all mean?\n",
    "# The answer comes if we think about what oversampling does: It artificially increases the number of instances in the minority class.\n",
    "# In this case, it increases the frequency of the 1 values.\n",
    "# That trains the model to tend to correctly predict all the true 1 values (to have a higher recall).\n",
    "# But, this happens at the expense of tending to overestimate the frequency of the 1 values (to have a lower precision).\n",
    "# We have this constant tradeoff when dealing with classification problems.\n",
    "# Whether we should oversample the minority class depends on what matters most in our context.\n",
    "# If not correctly identifying power users of the app (that is, not correctly classifying a 1 value) costs us the first valuable customers, we might want to oversample the minority class.\n",
    "# But it it's the other way around - that is, if flaggin too many users as potential revenue generators will cost the company in advertising or customer retention dollars - we might want to avoid oversampling.\n",
    "\n",
    "# NOTE\n",
    "# Don't worry about memorizing everything in the classification report.\n",
    "# Reading a classification report with more ease comes with practice.\n",
    "# And you'll have plenty of chances to examine classification reports again."
   ]
  }
 ],
 "metadata": {
  "kernelspec": {
   "display_name": "Python 3 (ipykernel)",
   "language": "python",
   "name": "python3"
  },
  "language_info": {
   "codemirror_mode": {
    "name": "ipython",
    "version": 3
   },
   "file_extension": ".py",
   "mimetype": "text/x-python",
   "name": "python",
   "nbconvert_exporter": "python",
   "pygments_lexer": "ipython3",
   "version": "3.9.13"
  }
 },
 "nbformat": 4,
 "nbformat_minor": 5
}

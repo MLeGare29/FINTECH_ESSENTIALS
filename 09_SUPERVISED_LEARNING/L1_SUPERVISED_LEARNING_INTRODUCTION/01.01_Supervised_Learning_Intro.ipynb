{
 "cells": [
  {
   "cell_type": "code",
   "execution_count": 1,
   "id": "674ffcfc-438a-4937-b85f-07edbac713e9",
   "metadata": {},
   "outputs": [],
   "source": [
    "# INTRODUCTION TO SUPERVISED LEARNING\n",
    "# In earlier lessons, we showed the importance of measuring risk when making financial decisions.\n",
    "# We used risk metrics and analytics to make decisions about the market, investments, and even retirement portfolios.\n",
    "# Financial risk is a serious concern in other areas of finance too, such as credit, lending, and insurance.\n",
    "# Because many factors relate to risk, we need better tools to consider various components for making predictions about the future.\n",
    "# In face, FinTech companies have moved beyond traditional risk analytics and are starting to use machine learning to model and predict risk.\n",
    "# In this lesson, you'll learn about the field of machine learning called SUPERVISED LEARNING.\n",
    "# Supervised Learning trains an algorithm to learn based on a labeled dataset, where each item in the dataset is tagged with the answer.\n",
    "# This provides an answer key that you can use to evaluate the accuracy of the training data.\n",
    "# Supervised learning can consider multiple factors and known past outcomes to make predictions about future outcomes, such as financial risk.\n",
    "# By the end of this lesson, you'll be able to define supervised learning and explain how FinTech can use it.\n",
    "# You'll also compare and contrast regression and classification.\n",
    "# Finally, you'll describe the model-fit-predict patter that is used to create, train, and use machine learning model."
   ]
  },
  {
   "cell_type": "code",
   "execution_count": 2,
   "id": "9c4c6f81-e56c-4de8-86da-eb01dfe07f37",
   "metadata": {},
   "outputs": [],
   "source": [
    "# WHAT IS SUPERVISED LEARNING?\n",
    "# We typically divide machine learning into three main categories:\n",
    "    # 1. Supervised Learning\n",
    "    # 2. Unsupervised Learning\n",
    "    # 3. Reinforcement Learning\n",
    "# As previously explained, we can use unsupervised learning for knowledge discovery and clustering.\n",
    "# By contrast, supervised learning can learn from the data and the expected outcomes that you choose to feed into it.\n",
    "# If you supply the data and the expected outcome together, the model can learn how to make predictions for new pieces of data that have similar features.\n",
    "# You SUPERVISE the model's learning by feeding it carefully selected data with known outcomes that the model can use to make the most accurate predictions that are possible.\n",
    "# For example, assume that you have a dataset of high risk vs low risk loans and the factors that led to those results.\n",
    "# You can use that information to improve the model's predictive capability.\n",
    "# That is, models can oftern learn from their mistakes.\n",
    "# If a model's prediction is slightly off, it can adjust itself to become even better the next time that it gets that data.\n",
    "# And once trained, a supervised learning model can predict the outcome of a new piece of data, such as a new consumer loan."
   ]
  },
  {
   "cell_type": "code",
   "execution_count": 3,
   "id": "11a44db9-59e1-45a2-8669-14da50f5fa8a",
   "metadata": {},
   "outputs": [],
   "source": [
    "# REGRESSION AND CLASSIFICATION\n",
    "# While we often broadly divide machine learning into supervised learning, unsupervised learning, and reinforcement learning, we can further divide supervised learning into two types of algorithms:\n",
    "    # 1. Regression\n",
    "    # 2. Classification"
   ]
  },
  {
   "cell_type": "code",
   "execution_count": 4,
   "id": "3c421eb1-084a-41f0-a155-b466f703fa87",
   "metadata": {},
   "outputs": [],
   "source": [
    "# REGRESSION\n",
    "# We use REGRESSION algorithms to model and predict continuous variables.\n",
    "# For example, say that we want to predict a person's weight.\n",
    "# Weight is a continuous variable, because it can be any number.\n",
    "# We can use regression to predict a person's weight based on factors like height, age, and exercise duration.\n",
    "# In finance, we can use regression to predict prices, dividends, rates, or any other continuous variables."
   ]
  },
  {
   "cell_type": "code",
   "execution_count": 5,
   "id": "378b7c1f-0ee0-4e82-b323-148cd08baec9",
   "metadata": {},
   "outputs": [],
   "source": [
    "# CLASSIFICATION\n",
    "# Conversely, we use CLASSIFICATION algorithms to predict discrete outcomes.\n",
    "# For example, say that we want to use a person's traits, such as age, income, and geographic location to predict how the person will vot on a particular issue.\n",
    "# The outcome is finite, with two possibilities in this case - whether the person will vote Yes or No.\n",
    "# The classification model wll try to learn patterns form the data and, if successful, gain the ability to make accurate predictions for new voters.\n",
    "# In finance, we can use classification to predict any discrete outcome, such as:\n",
    "    # 1. Buy vs. sell\n",
    "    # 2. High risk vs. low risk\n",
    "    # 3. Fraud vs. not fraud"
   ]
  },
  {
   "cell_type": "code",
   "execution_count": 6,
   "id": "cded0d31-a140-4578-8fbb-a681a734b796",
   "metadata": {},
   "outputs": [],
   "source": [
    "# REGRESSION VS CLASSIFICATION\n",
    "# Let's visualize the distinction between regression and classification.\n",
    "# Regression is defining the general trend that works for the whole dataset.\n",
    "# With classification, we want to classify the dataset into distinct groups."
   ]
  },
  {
   "cell_type": "code",
   "execution_count": 7,
   "id": "41cfdecd-6a2a-4b06-9dcb-bbccbaddc3d2",
   "metadata": {},
   "outputs": [],
   "source": [
    "# MODEL-FIT-PREDICT PIPELINE\n",
    "# Regardless of whether we use a regression or classification model, we create most supervised learning models by following a basic pattern: Model-fit-predict.\n",
    "# In this three-stage pattern, we present a machine learning algorithm with data (model stage).\n",
    "# The algorithm learns form this data (the fit stage).\n",
    "# This forms a predictive model (the predict stage).\n",
    "# A PREDICTIVE MODEL is simply the resulting model, where the algorithm has mathematically adjusted itself so that it can tarnslate a new set of inputs to the correct output."
   ]
  },
  {
   "cell_type": "code",
   "execution_count": 9,
   "id": "25978f3a-7337-48bc-befd-ec58af70330f",
   "metadata": {},
   "outputs": [],
   "source": [
    "# MODEL\n",
    "# A machine learning model mathematically represents something in the real world.\n",
    "# A model starts as untrained - that is, we haven't yet adjusted it to make sense of the data.\n",
    "# You can think of an untrained model as a mathematical ball of clay that's ready to be shaped to the data."
   ]
  },
  {
   "cell_type": "code",
   "execution_count": 10,
   "id": "41a637de-19c3-4d35-a2c6-d5d5445e0a3d",
   "metadata": {},
   "outputs": [],
   "source": [
    "# FIT\n",
    "# The fit stage (known as the training stage) is when we fit the model to the data.\n",
    "# In the mathematical ball-of-clay analogy, we adjust the model so that it matches patterns in the data.\n",
    "# Recall that in our time series forecasting, the Prophet tool built a model that matched the time series components of the data.\n",
    "# We could then use that model to forecast the values that future data might have.\n",
    "# The fit stage of supervised learning works the same way.\n",
    "# This  is when the model starts to learn how to adjust (or train) itself to make predictions matching the data that we give it."
   ]
  },
  {
   "cell_type": "code",
   "execution_count": null,
   "id": "b507333c-a36c-4720-83c6-b7b3aa883028",
   "metadata": {},
   "outputs": [],
   "source": [
    "# PREDICT\n",
    "# Once the model has been fit, or trained, to the data, we can use the trained model to predict new data.\n",
    "# If we give the model new data that's similar enough to the data that it's gotten before, it can predict the outcome for that data."
   ]
  }
 ],
 "metadata": {
  "kernelspec": {
   "display_name": "Python 3 (ipykernel)",
   "language": "python",
   "name": "python3"
  },
  "language_info": {
   "codemirror_mode": {
    "name": "ipython",
    "version": 3
   },
   "file_extension": ".py",
   "mimetype": "text/x-python",
   "name": "python",
   "nbconvert_exporter": "python",
   "pygments_lexer": "ipython3",
   "version": "3.9.13"
  }
 },
 "nbformat": 4,
 "nbformat_minor": 5
}

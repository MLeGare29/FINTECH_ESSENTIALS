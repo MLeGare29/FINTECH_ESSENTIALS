{
 "cells": [
  {
   "cell_type": "code",
   "execution_count": 1,
   "id": "3df981f7-d3a2-4b48-afe9-16216bebf155",
   "metadata": {},
   "outputs": [],
   "source": [
    "# SKILLS TO LIST FOR RESUME\n",
    "# In this module you created, trained, and evaluated supervised classification models.\n",
    "# As part of all that, you've learned what supervised learning is and how it can be used in finance.\n",
    "# Here are the following skills to add to your resume and LinkedIn:\n",
    "    # 1. Classification and Regression\n",
    "    # 2. Machine Learning with Python"
   ]
  },
  {
   "cell_type": "code",
   "execution_count": 2,
   "id": "59620174-bb9e-4fa0-a659-ccc42b3e561d",
   "metadata": {},
   "outputs": [],
   "source": [
    "# SUPERVISED LEARNING AND FINTECH ROLES:\n",
    "# Many job roles exist in FinTech, and not all of therm require you to build the types of models that you learned in this module.\n",
    "# Still, most FinTech firms use these supervised learning techniques in one form or another to solve business and technical problems.\n",
    "# If you want to pursue a job that involves analyzing data, building and evaluating predictive models, and then applying them to solve real-world problems, there are many opportunities that require you to do that.\n",
    "# The examples include the following:\n",
    "    # 1. Data Analyst\n",
    "    # 2. Data Scientist\n",
    "    # 3. Machine Learning Developer or Machine Learning Engineer\n",
    "    # 4. Business Analyst\n",
    "    # 5. Client Analyst or Sales Analyst"
   ]
  },
  {
   "cell_type": "code",
   "execution_count": 3,
   "id": "fe84359d-f6bc-46d1-86bb-12ef16cc8335",
   "metadata": {},
   "outputs": [],
   "source": [
    "# DATA ANALYST\n",
    "# A data analyst often has many data roles, including building machine learning models.\n",
    "# Their job is to build insights from data.\n",
    "# This ranges from:\n",
    "    # 1. Reading in the data (often via SQL) \n",
    "    # 2. Visualizing the data \n",
    "    # 3. Predicting the future values of the data by using machine learning models"
   ]
  },
  {
   "cell_type": "code",
   "execution_count": 4,
   "id": "13838254-bb23-4445-b06b-6e980dcb9599",
   "metadata": {},
   "outputs": [],
   "source": [
    "# DATA SCIENTIST \n",
    "# A data scientist is like a data analyst but often focuses more exclusively on building and applying machine learning models.\n",
    "# This job involves constantly running experiments on data to identify patterns or make useful predictions.\n",
    "# Often, individuals start as data analysts and then show an aptitiude or interest in modeling.\n",
    "# They can use that experience to break into a role as a data scientist."
   ]
  },
  {
   "cell_type": "code",
   "execution_count": 5,
   "id": "9a693498-d48d-469b-85f9-e86bad42d24b",
   "metadata": {},
   "outputs": [],
   "source": [
    "# MACHINE LEARNING DEVELOPER OR MACHINE LEARNING ENGINEER\n",
    "# A machine learning developer/engineer does work that's similar to that of a data scientist.\n",
    "# But, this person also spends much time building data pipelines.\n",
    "# DATA PIPELINES automatically pull, clea, merge, and assemble data into many tables for many uses.\n",
    "# These uses range from:\n",
    "    # 1. Financial reporting\n",
    "    # 2. Predicting customer behavior\n",
    "    # 3. Posting data on internal company dashboards\n",
    "# Basically, these uses include anything that need analysis.\n",
    "# Machine learning developers and engineers build and maintain these data pipelines.\n",
    "# But like data scientists, they also generate insights form this data."
   ]
  },
  {
   "cell_type": "code",
   "execution_count": 6,
   "id": "0af5e320-0be2-4cce-91e1-6d5e001a09b6",
   "metadata": {},
   "outputs": [],
   "source": [
    "# BUSINESS ANALYST\n",
    "# A business analyst combines the qualitative aspects of business strategy to answer questions such as:\n",
    "    # 1. What product segement should we grow?\n",
    "    # 2. What's our brand strategy\n",
    "# A business analyst uses quantitative measurements that pursuing those strategies requires.\n",
    "# That is, business analysts spend their days making business decisions, but they use data to support those decisions.\n",
    "# This often means that business analysts need to visualize various forms of data and conduct explanatory analyses on that data.\n",
    "# Occasionally, they also need to build models for predicting and understanding data, such as the classification and regression models learned in this module."
   ]
  },
  {
   "cell_type": "code",
   "execution_count": null,
   "id": "84c4e974-ba63-45f0-8dae-9ad1e06448c4",
   "metadata": {},
   "outputs": [],
   "source": [
    "# CLIENT ANALYST OR SALES ANALYST\n",
    "#  The client/sales analyst resembles the business analyst but tends to focus on one aspect of the business.\n",
    "# The job of a client analyst, for example, often revolves around identifying which customers engage the most with a product or discovering how to increase customer use and retention.\n",
    "# A sales analyst engages in similar activities, but this job title often implies more engagement with customers.\n",
    "# For example, this person might build models to identify which customers are most likely to stop using the product.\n",
    "# They then follow up with these customers and engage with them to find out if anything can be improved to keep them as customers."
   ]
  }
 ],
 "metadata": {
  "kernelspec": {
   "display_name": "Python 3 (ipykernel)",
   "language": "python",
   "name": "python3"
  },
  "language_info": {
   "codemirror_mode": {
    "name": "ipython",
    "version": 3
   },
   "file_extension": ".py",
   "mimetype": "text/x-python",
   "name": "python",
   "nbconvert_exporter": "python",
   "pygments_lexer": "ipython3",
   "version": "3.9.13"
  }
 },
 "nbformat": 4,
 "nbformat_minor": 5
}

{
 "cells": [
  {
   "cell_type": "code",
   "execution_count": 1,
   "id": "7c8bdd38-948f-4d3e-b16f-1d847985b426",
   "metadata": {},
   "outputs": [],
   "source": [
    "# GETTING STARTED\n",
    "# For this module, you need to add the imbalance-learn and PyDotPlus libraries to your `dev` environment.\n",
    "# The imbalance-learn library has models that were developed specifically to deal with class imbalance.\n",
    "# You'll use PyDotPlus to plot a decision tree."
   ]
  },
  {
   "cell_type": "code",
   "execution_count": 2,
   "id": "78839ef5-6088-4008-b7d5-e520063cb1e5",
   "metadata": {},
   "outputs": [],
   "source": [
    "# INSTALL IMBALANCE-LEARN\n",
    "    # 1. Open a GitBash terminal windo and then activate your `dev` virtual environment.\n",
    "        # conda activate dev\n",
    "    # 2. Install imbalance-learn by running the following command:\n",
    "        # conda install -c conda-forge imbalanced-learn\n",
    "    # 3. Verify the installation by running the following command:\n",
    "        # conda list imbalanced-learn"
   ]
  },
  {
   "cell_type": "code",
   "execution_count": null,
   "id": "5cafce5b-1986-4e1a-be89-f2df81842af3",
   "metadata": {},
   "outputs": [],
   "source": [
    "# INSTALL PYDOTPLUS\n",
    "    # 1. Once your `dev` environment is active, install PyDotPlus by running the following:\n",
    "        # conda install -c conda-forge pydotplus\n",
    "    # 2. Verify the installation by running the following command:\n",
    "        # conda list pydotplus"
   ]
  }
 ],
 "metadata": {
  "kernelspec": {
   "display_name": "Python 3 (ipykernel)",
   "language": "python",
   "name": "python3"
  },
  "language_info": {
   "codemirror_mode": {
    "name": "ipython",
    "version": 3
   },
   "file_extension": ".py",
   "mimetype": "text/x-python",
   "name": "python",
   "nbconvert_exporter": "python",
   "pygments_lexer": "ipython3",
   "version": "3.9.13"
  }
 },
 "nbformat": 4,
 "nbformat_minor": 5
}

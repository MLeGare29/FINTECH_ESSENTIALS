{
 "cells": [
  {
   "cell_type": "code",
   "execution_count": 1,
   "id": "3a877b70-e589-45b0-a120-666718350a33",
   "metadata": {},
   "outputs": [],
   "source": [
    "# INSTALLATIONS\n",
    "\n",
    "# The tools needed for Module 7 are the following:\n",
    "    # 1. SQLAlchemy\n",
    "    # 2. Voila    "
   ]
  },
  {
   "cell_type": "code",
   "execution_count": 2,
   "id": "bb44c47a-dc94-4e77-9b38-d32ebf007c2f",
   "metadata": {},
   "outputs": [],
   "source": [
    "# INSTALLING SQLALCHEMY\n",
    "    # 1. Activate the Conda dev the environment.\n",
    "    # 2. Run the command `pip install SQLAlchemy`.\n",
    "    # 3. When the installation completes, confirm by running the command: `conda list sqlalchemy`."
   ]
  },
  {
   "cell_type": "code",
   "execution_count": null,
   "id": "576af4af-f92d-497e-9d20-54979ef853e4",
   "metadata": {},
   "outputs": [],
   "source": [
    "# INSTALLING VOILA\n",
    "# With Voila, you can convert a Jupyter notebook into a live webpage.\n",
    "    # 1. Activate the Conda dev environment.\n",
    "    # 2. Run the command: `conda install -c conda-forge voila`.\n",
    "    # 3. Confirm the installation by running the following command: `conda list voila`."
   ]
  }
 ],
 "metadata": {
  "kernelspec": {
   "display_name": "Python 3 (ipykernel)",
   "language": "python",
   "name": "python3"
  },
  "language_info": {
   "codemirror_mode": {
    "name": "ipython",
    "version": 3
   },
   "file_extension": ".py",
   "mimetype": "text/x-python",
   "name": "python",
   "nbconvert_exporter": "python",
   "pygments_lexer": "ipython3",
   "version": "3.9.13"
  }
 },
 "nbformat": 4,
 "nbformat_minor": 5
}

{
 "cells": [
  {
   "cell_type": "code",
   "execution_count": 1,
   "id": "6c23635b-1610-48ab-85d7-297aac027b7d",
   "metadata": {},
   "outputs": [],
   "source": [
    "# GETTING STARTED:\n",
    "# The tools you'll need for this module are the following:\n",
    "    # 1. hvPLot\n",
    "    # 2. GeoViews"
   ]
  },
  {
   "cell_type": "code",
   "execution_count": null,
   "id": "102c250f-91e6-4ca1-b859-054f573da5a4",
   "metadata": {},
   "outputs": [],
   "source": [
    "# INSTALL THE PYVIZ ECOSYSTEM\n",
    "# PyViz is a Python visualization package that provides a single platform for accessing multiple visualization libraries.\n",
    "# Two of the libraries are hvPlot and GeoViews.\n",
    "# To install PyViz and its dependencies in your Conda `dev` environment, complete the following:\n",
    "    # 1. From your terminal, log into your Conda `dev` environment.\n",
    "    # 2. Install PyViz packages by using the `conda install` command as follows:\n",
    "        # | conda install -c pyviz hvplot geoviews |\n",
    "    # 3. Confirm the installation of all the PyViz packages by running the following commands:\n",
    "        # | conda list hvplot |\n",
    "        # | conda list geoviews |"
   ]
  }
 ],
 "metadata": {
  "kernelspec": {
   "display_name": "Python 3 (ipykernel)",
   "language": "python",
   "name": "python3"
  },
  "language_info": {
   "codemirror_mode": {
    "name": "ipython",
    "version": 3
   },
   "file_extension": ".py",
   "mimetype": "text/x-python",
   "name": "python",
   "nbconvert_exporter": "python",
   "pygments_lexer": "ipython3",
   "version": "3.9.13"
  }
 },
 "nbformat": 4,
 "nbformat_minor": 5
}

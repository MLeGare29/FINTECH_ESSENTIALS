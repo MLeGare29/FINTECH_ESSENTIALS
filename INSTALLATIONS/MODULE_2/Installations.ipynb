{
 "cells": [
  {
   "cell_type": "code",
   "execution_count": 1,
   "id": "d8156866-035c-4eda-9e2f-810578680f18",
   "metadata": {},
   "outputs": [],
   "source": [
    "# INSTALL PYTHON FIRE\n",
    "    # pip install fire"
   ]
  },
  {
   "cell_type": "code",
   "execution_count": null,
   "id": "5e3fe751-c2c1-4f09-a0a9-308429dcda89",
   "metadata": {},
   "outputs": [],
   "source": [
    "# INSTALL QUESTIONARY\n",
    "    # pip install questionary"
   ]
  }
 ],
 "metadata": {
  "kernelspec": {
   "display_name": "Python 3 (ipykernel)",
   "language": "python",
   "name": "python3"
  },
  "language_info": {
   "codemirror_mode": {
    "name": "ipython",
    "version": 3
   },
   "file_extension": ".py",
   "mimetype": "text/x-python",
   "name": "python",
   "nbconvert_exporter": "python",
   "pygments_lexer": "ipython3",
   "version": "3.9.13"
  }
 },
 "nbformat": 4,
 "nbformat_minor": 5
}

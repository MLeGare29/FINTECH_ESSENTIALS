{
 "cells": [
  {
   "cell_type": "code",
   "execution_count": 1,
   "id": "1a90c127-73de-42cc-8376-bc2282448ab3",
   "metadata": {},
   "outputs": [],
   "source": [
    "# LEGAL DISCLAIMER:\n",
    "\n",
    "\n",
    "# The content contained in the FinTech Boot Camp (the “Course”) is for informational purposes only. You should not construe any such information or other material provided pursuant to the Course (the “Materials”) as investment, financial, tax, legal or other advice. The Materials are not investment advice and any observations concerning any security, trading algorithm or investment strategy provided in the Course is not a recommendation to buy, sell or hold such investment or security or to make any other investment decisions. edX Boot Camps LLC, its parent, subsidiaries, and affiliates (“edX”) do not provide any advice regarding the nature, potential value, risk or suitability of any particular investment strategy, trading algorithm, transaction, security or investment. Any use of the Materials, and any decisions made in reliance thereon, including any trading or investment decisions or strategies, are made at your own risk. You should seek the advice of a competent, licensed professional if you require investment, trading or other advice. No employee, agent or representative of edX is authorized to provide any professional advice in connection with the Course and any such advice, if given, is in violation of edX's policies, is unauthorized and may not be relied upon. Nothing contained in the Materials constitutes a solicitation, recommendation, endorsement, or offer by edX or any third party service provider to buy or sell any securities or other financial instruments in this or in in any other jurisdiction whether or not such solicitation or offer would be unlawful under the securities laws of such jurisdiction.\n"
   ]
  },
  {
   "cell_type": "code",
   "execution_count": null,
   "id": "c2df0af0-6a15-47af-aaee-3c27fb4a2e2b",
   "metadata": {},
   "outputs": [],
   "source": [
    "# In this module, you'll use the following libraries:\n",
    "    # 1. Pandas\n",
    "    # 2. NumPy\n",
    "    # 3. hvPlot\n",
    "    # 4. Matplotlib\n",
    "    # 5. scikit-learn"
   ]
  }
 ],
 "metadata": {
  "kernelspec": {
   "display_name": "Python 3 (ipykernel)",
   "language": "python",
   "name": "python3"
  },
  "language_info": {
   "codemirror_mode": {
    "name": "ipython",
    "version": 3
   },
   "file_extension": ".py",
   "mimetype": "text/x-python",
   "name": "python",
   "nbconvert_exporter": "python",
   "pygments_lexer": "ipython3",
   "version": "3.9.13"
  }
 },
 "nbformat": 4,
 "nbformat_minor": 5
}

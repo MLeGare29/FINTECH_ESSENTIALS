{
 "cells": [
  {
   "cell_type": "code",
   "execution_count": 1,
   "id": "6451ec04-9013-41b1-9311-210cc64f85ec",
   "metadata": {},
   "outputs": [],
   "source": [
    "# GETTING STARTED\n",
    "# You'll need to install the following tools for this module:\n",
    "    # 1. TensorFlow 2.0 (https://www.tensorflow.org/)\n",
    "    # 2. Keras (https://keras.io/about/)"
   ]
  },
  {
   "cell_type": "code",
   "execution_count": null,
   "id": "4940675c-b28a-4dc0-b869-10898e95e6a7",
   "metadata": {},
   "outputs": [],
   "source": [
    "# TENSORFLOW\n",
    "# The TensorFlow 2.0 library has several dependencies, which should already be installed in the default Conda environment.\n",
    "     # pip install --upgrade tensorflow"
   ]
  }
 ],
 "metadata": {
  "kernelspec": {
   "display_name": "Python 3 (ipykernel)",
   "language": "python",
   "name": "python3"
  },
  "language_info": {
   "codemirror_mode": {
    "name": "ipython",
    "version": 3
   },
   "file_extension": ".py",
   "mimetype": "text/x-python",
   "name": "python",
   "nbconvert_exporter": "python",
   "pygments_lexer": "ipython3",
   "version": "3.9.13"
  }
 },
 "nbformat": 4,
 "nbformat_minor": 5
}

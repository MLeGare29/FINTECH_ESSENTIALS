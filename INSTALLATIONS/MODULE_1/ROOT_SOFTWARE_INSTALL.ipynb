{
 "cells": [
  {
   "cell_type": "code",
   "execution_count": 1,
   "id": "7dcf11e9-9003-4c55-8a55-d567eb35a8f0",
   "metadata": {},
   "outputs": [],
   "source": [
    "# GETTING STARTED:\n",
    "# In order to run the lessons within this COMPUTER_SCIENCE Folder, you will need to install the following:\n",
    "    # 1. Git Bash (Windows) or Terminal (macOS)\n",
    "    # 2. Python\n",
    "    # 3. Anaconda/conda\n",
    "    # 4. Visual Studio Code (only for first two modules - Jupyter will be the primary platform)\n",
    "    # 5. GitHub - SSH Keys"
   ]
  },
  {
   "cell_type": "code",
   "execution_count": 2,
   "id": "a6ed8ebe-a5f9-41be-94d8-9c0c273b5864",
   "metadata": {},
   "outputs": [],
   "source": [
    "# GIT BASH AND TERMINAL\n",
    "# Git Bash (Windows) and Terminal (macOS) offer a CLI, or COMMAND LINE INTERFACE.\n",
    "# A CLI is used for working with the files and folders on your computer.\n",
    "# You can think of the CLI like Windows Explorer without visuals - it's just a text box.\n",
    "# Command lines are used because they can be faster and more effective than your operating system's GRAPHICAL USER INTERFACE (GUI)."
   ]
  },
  {
   "cell_type": "code",
   "execution_count": 3,
   "id": "31cce9de-82d2-4522-8f96-6b7c2698f638",
   "metadata": {},
   "outputs": [],
   "source": [
    "# GIT BASH\n",
    "# Since I am using a Windows OS, I will be installing Git Bash.\n",
    "# Git Bash is a tool for helping us navigate computer files and folders.\n",
    "# It must be used for these lessons opposed to the Windows terminal or PowerShell.\n",
    "# Here are the steps for downloading Git Bash on a Windows computer:\n",
    "    # 1. Go to the Git downloads page. Select the download for Windows\n",
    "    # 2. Select 'On the Desktop'. This will save Git Bash to your desktop \n",
    "        # (Make sure it's not saved on the cloud, such as OneDrive!)\n",
    "        # Once this executable file is downloaded, open it up in order to see the next steps\n",
    "    # 3. Select 'Git from the command line and also from 3rd-party software'.\n",
    "    # 4. Select 'Checkout as-is, commit Unix-styly line endings'.\n",
    "    # 5. Select 'Use Windows default console window'."
   ]
  },
  {
   "cell_type": "code",
   "execution_count": 4,
   "id": "ad8ecea4-3c21-442c-83e9-44543a7f7ae4",
   "metadata": {},
   "outputs": [],
   "source": [
    "# TERMINAL\n",
    "# If you're using macOS, you'll endter your command line code using Terminal.\n",
    "# This is built in for Mac computers, so you don't need to install anything.\n",
    "# To access Terminal, follow these steps:\n",
    "    # 1. Press the Command key and the spacebar to open Spotlight Search.\n",
    "    # 2. Type 'terminal' into the search and then press Enter.\n",
    "# A box should pop up and this means that you're in Terminal."
   ]
  },
  {
   "cell_type": "code",
   "execution_count": 5,
   "id": "bbe06567-101c-467e-ae38-082df2bea0dc",
   "metadata": {},
   "outputs": [],
   "source": [
    "# PYTHON, ANACONDA, AND CONDA\n",
    "# Anaconda is a free, open-source software environment that consists of Python and several related libraries which include:\n",
    "    # 1. Pandas\n",
    "    # 2. NumPy\n",
    "    # 3. SciPy\n",
    "# At a high level, Anaconda provides the tools you need to develop, test, run, and present your Python projects.\n",
    "# One of Anaconda's software packages includes conda, which we'll set up later.\n",
    "# conda assists witht the installation and configuration of Anaconda related programs.\n",
    "# The next section will walk you through Python, Anaconda, and conda installation on Windows and macOS."
   ]
  },
  {
   "cell_type": "code",
   "execution_count": 6,
   "id": "5c1de7d9-4044-4bec-8d4d-83e33e977f8c",
   "metadata": {},
   "outputs": [],
   "source": [
    "# INSTALL ANACONDA WITH PYTHON 3.7+ for Windows\n",
    "    # 1. Navigate to Anaconda's installation page.\n",
    "    # 2. From the left-hand menu, under Anaconda Individual Edition, click the appropriate option for you Operating system.\n",
    "    # 3. Follow the steps on the screen to complete the installation.\n",
    "    # 4. When the download is complete, follow the installation instructions provided by the install wizard.\n",
    "        # CAUTION: For all Windows users - If prompted, do NOT check the box to set your PATH environment variable or to register Anaconda as your default for Python 3.7!    "
   ]
  },
  {
   "cell_type": "code",
   "execution_count": 7,
   "id": "301843bf-1246-4767-a9e4-1e28ab86488a",
   "metadata": {},
   "outputs": [],
   "source": [
    "# SET UP YOU PYTHON VIRTUAL ENVIRONMENT - INSTALLING CONDA\n",
    "# Creating a virtual environment is a common practice for programmers.\n",
    "# A VIRTUAL ENVIRONMENT is an isolated, working copy of the coding environment that programmers use to install different versions of software packages for specific projects.\n",
    "# Some projects may require the latest versions of software, and some may require older versions.\n",
    "# In other words, a virtual environment is like a toolshed with tools you need to use for specific activities.\n",
    "# We'll create a virtual environment that includes the modules and packages we need for Python projects.\n",
    "# Once downloaded, all the tools within the environment will be at your disposal whenever you need them.\n",
    "# We'll use conda to set up the virtual environment.\n",
    "# Conda is a package manager application that quickly installs, runs, and updates packages and their dependencies.\n",
    "# It allows you to easily set up and switch between environments on your local computer.\n",
    "# Conda is included in all versions of Anaconda.\n",
    "# To install the conda virtual environment, follow these steps:\n",
    "    # 1. Open Git Bash or Terminal\n",
    "    # 2. *Windows users: type | conda init bash | in Git Bash.\n",
    "        # *macOS users: If you're running an OS version ealier than 10.15 OR running 10.15 with a bash terminal environment, type | conda init bash |.\n",
    "        # If you're funning versions 10.15 or later AND running the `zsh` environment, type | conda init zsh |\n",
    "    # 3. Close and reopen Git Bash or Terminal for the change to take effect.\n",
    "    # 4. Type | conda --version | at the command prompt to check the conda version that's installed.\n",
    "    # 5. Update conda by running the update command | conda update conda |. If a new version is available, accept the update by typing 'y'.\n",
    "    # 6. To create the conda virtual environment, type the following: | conda create -n dev python=3.7 anaconda |\n",
    "        # When prompted, choose 'y' to proceed. \n",
    "    # 7. In the Git Bash terminal, type | conda init bash | to ready the terminal for the environments.\n",
    "        # Close and reopen Git Bash, and enter | conda activate dev | to activate the dev environment.\n",
    "        # The command prompt should now reflect the new environment with the (dev) tag"
   ]
  },
  {
   "cell_type": "code",
   "execution_count": 8,
   "id": "a33aad23-5ba9-4e25-bc0e-2ced7312f59e",
   "metadata": {},
   "outputs": [],
   "source": [
    "# INSTALL VISUAL STUDIO CODE (VSCODE)\n",
    "# Visual Studio Code, or VS Code, is an integrated development environment (IDE) you'll use to write and run your Python code in the first two modules.\n",
    "# Alternatively, for me, preferably, you can also use Jupyter Lab and the Jupyter Lab terminal to write and run your code.\n",
    "    # Jupyter Lab will be used exclusively in many of the later modules, so getting a solid grasp of it is not required, but recommended. \n",
    "    # However, VSCode will work for now, as instructions for accessing Jupyter Lab aren't until Module 3.\n",
    "# In the install page for VSCode, install the 64-bit version\n",
    "\n",
    "# IMPORTANT:\n",
    "# Be careful not to confuse a VIRTUAL ENVIRONMENT and an INTEGRATED DEVELOPMENT ENVIRONMENT.\n",
    "# These are two different things.\n",
    "# An IDE is a tool that helps you write code. \n",
    "# Virtual environments have more to do with where you run code and what code you have access to."
   ]
  },
  {
   "cell_type": "code",
   "execution_count": null,
   "id": "cded9bcb-522e-4b6b-a652-19e7e7eda54c",
   "metadata": {},
   "outputs": [],
   "source": [
    "# GITHUB & SSH KEYS\n",
    "# To complete the following steps, you'll need to sign up for a GitHub account if you haven't already.\n",
    "    # 1. Open Bash\n",
    "    # 2. To make sure you don't already have a set of keys on your computer, type the following in Bash:\n",
    "        # | ls -al ~/.ssh |\n",
    "        # If no keys pop up, move on to step 3.\n",
    "        # If keys do pop up, check that none of them are listed under `id_rsa`.\n",
    "        # If you find a key with a matching name, you can eigher overwrite it by following the next steps or use the same key referenced in Step 8.\n",
    "        # If you decide not to overwrite it, you'll need to remember the password tied to your key.\n",
    "    # 3. Enter the following command along with your email to generate your keys:\n",
    "        # | ssh-keygen -t rsa -b 4096 -C \"YOUREMAIL@PLACEHERE.NET\" |\n",
    "    # 4. When prompted to enter a file to save the key, press Enter, and then enter a passphrase for your key\n",
    "        # NOTE: You shouldn't see any characters appear in the window while typing the password.\n",
    "    # 5. Link your key to your machin using a tool called the ssh-agent. \n",
    "        # Run the following command in Bash to test whether the ssh-agent is running on your machine:\n",
    "        # | eval \"$(ssh-agent -s)\" |\n",
    "    # 6. Run the following command: | ssh-add ~/.ssh/id_rsa |\n",
    "    # 7. Then when prompted, enter the passphrase you chose for your key.\n",
    "    # 8. To add the key to GitHub, copy the key to your clipboard by entering:\n",
    "        # | clip < ~/.ssh/id_rsa.pub |\n",
    "            # You shouldn't see any kind of message when you run this command, if you do, make sure you entered it correctly.\n",
    "            # NOTE: Do not copy anything else to our clipboard until all the steps are completed. Otherwise you'll need to enter the copy command again.\n",
    "    # 9. Go to GitHub's SSH key settings and click 'New SSH key'.\n",
    "    # 10. When the form pops up, enter a name for your computer in the Title input. In the Key input, paste the SSH key you copied in Step 8.\n",
    "    # 11. To add GitHub to your computer's list of acceptable SSH hosts, type:\n",
    "        # | ssh -T git@github.com |\n",
    "            # You should see an RSA fingerprint in your window. Enter 'yes' only if it matches: SHA256:nTHbh6kXUpJWG17E1IGOCsRomTxdCARLvKw6E5SY8\n",
    "    "
   ]
  }
 ],
 "metadata": {
  "kernelspec": {
   "display_name": "Python 3 (ipykernel)",
   "language": "python",
   "name": "python3"
  },
  "language_info": {
   "codemirror_mode": {
    "name": "ipython",
    "version": 3
   },
   "file_extension": ".py",
   "mimetype": "text/x-python",
   "name": "python",
   "nbconvert_exporter": "python",
   "pygments_lexer": "ipython3",
   "version": "3.9.13"
  }
 },
 "nbformat": 4,
 "nbformat_minor": 5
}

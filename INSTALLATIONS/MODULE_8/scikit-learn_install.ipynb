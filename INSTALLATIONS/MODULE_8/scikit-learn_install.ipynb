{
 "cells": [
  {
   "cell_type": "code",
   "execution_count": 1,
   "id": "08c7a440-fc57-4e22-9561-bc737509db83",
   "metadata": {},
   "outputs": [],
   "source": [
    "# INSTALLATION GUIDE:\n",
    "# In this module, you'll use JupyterLab and the following Python libraries:\n",
    "    # 1. scikit-learn\n",
    "    # 2. hvPlot\n",
    "# The scikit-learn library is automatically installed with Anaconda.\n",
    "# And you've worked with hvPlot in previous modules.\n",
    "# However, it's good practice to confirm that they are installed in your Conda dev environment."
   ]
  },
  {
   "cell_type": "code",
   "execution_count": 2,
   "id": "3244639c-268f-452d-b232-2f188a003b39",
   "metadata": {},
   "outputs": [],
   "source": [
    "# CONFIRM THE SCIKIT-LEARN AND HVPLOT INSTALLATIONS\n",
    "    # 1. Activate your Conda `dev` environment (if it isn't already), by running the command:\n",
    "        # conda activate dev\n",
    "    # 2. When the environment is active, run the following in your terminal:\n",
    "        # conda list scikit-learn\n",
    "        # conda list hvplot"
   ]
  },
  {
   "cell_type": "code",
   "execution_count": 3,
   "id": "6113ae69-8557-418b-8691-0b7a152bfad9",
   "metadata": {},
   "outputs": [],
   "source": [
    "# INSTALL SCIKIT-LEARN\n",
    "# If your terminal doesn't display scikit-learn and you need to install it, input the following code:\n",
    "    # pip install -U scikit-learn"
   ]
  },
  {
   "cell_type": "code",
   "execution_count": null,
   "id": "69b96fe2-fc97-4686-83c8-4791e02def10",
   "metadata": {},
   "outputs": [],
   "source": [
    "# INSTALL HVPLOT\n",
    "    # conda install -c pyviz hvplot"
   ]
  }
 ],
 "metadata": {
  "kernelspec": {
   "display_name": "Python 3 (ipykernel)",
   "language": "python",
   "name": "python3"
  },
  "language_info": {
   "codemirror_mode": {
    "name": "ipython",
    "version": 3
   },
   "file_extension": ".py",
   "mimetype": "text/x-python",
   "name": "python",
   "nbconvert_exporter": "python",
   "pygments_lexer": "ipython3",
   "version": "3.9.13"
  }
 },
 "nbformat": 4,
 "nbformat_minor": 5
}

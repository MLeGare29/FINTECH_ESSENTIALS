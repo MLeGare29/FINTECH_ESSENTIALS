{
 "cells": [
  {
   "cell_type": "code",
   "execution_count": 1,
   "id": "58ed8bd5-526f-424c-9d24-1111496ad2d2",
   "metadata": {},
   "outputs": [],
   "source": [
    "# INTRODUCTION TO TIME SERIES FORECASTING \n",
    "# The financial world widely uses time series forecasting.\n",
    "# This is because of its origins in the mathematics and statistics space.\n",
    "# People sometimes refer to time series forecasting as a statistical tool, but much overlap exists between statistical tools and machine learning models.\n",
    "# People tend to use both to solve similar problems.\n",
    "# As you leanred before, time series analysis involves analyzing time series data to identify meaningful patterns in data.\n",
    "# TIME SERIES FORECASTING involves using a model that's based on historical data to predict future values in the same time series.\n",
    "# In this lesson, you'll perform time series forecasting by creating models to predict the future."
   ]
  },
  {
   "cell_type": "code",
   "execution_count": 2,
   "id": "057553d5-ef9c-4996-884f-a6d3cbc42052",
   "metadata": {},
   "outputs": [],
   "source": [
    "# AUTOMATING TIME SERIES FORECASTING\n",
    "# Time series forcasting can prove challenging.\n",
    "# This is because numerous statistical techniques exist for us to use and because external factors can impact the typical behavior of the patterns.\n",
    "# Holidays, breaking news, and special events - such as the Olympics - are examples of external factors that can affect the behavior of time series data.\n",
    "# External factors, like weather holidays, impact a time series and sometimes introduce noise.\n",
    "# NOISE is information in the data that is essentially meaningless and distracts from the overall trend, or signal, of the data.\n",
    "# Noise acts as another independent variable in our models.\n",
    "# And some statistical techniques manually reduce it.\n",
    "# However, dealing with noise reduction adds more complexity to time series analysis.\n",
    "# Adjusting our models for it can prove time consuming."
   ]
  },
  {
   "cell_type": "code",
   "execution_count": 3,
   "id": "a3989ac0-4e91-48c6-9ca3-2cdddd82ca4f",
   "metadata": {},
   "outputs": [],
   "source": [
    "# FOCUSING ON RESULTS ANALYSIS AND DECISION MAKING WITH PROPHET\n",
    "# Wouldn't it be terrific to have a tool to speed up our time series modeling and forecasting?\n",
    "# Meet PROPHET, an open-source library for time series forecasting that Facebook developed to analyze their data.\n",
    "# Prophet forecasts not only the growth of the social network, but also its technological infrastructure demand, services revenue, and fraudulent activity.\n",
    "# Prophet automates the process of time series forecasting, allowing you as a FinTech professional to focus on a business problem.\n",
    "# It also tests and forecasts as many scenarios as you identify.\n",
    "# Thanks to the forecasting automation of Prophet, you can use it to simplify your time series analysis.\n",
    "# It deals with noise, holidays, or special events, and time series decomposition - allowing you to work more efficiently.\n",
    "# In the next section, we will use Prophet in collaboration with Google Colab, to automate time series forcasting in a business scenario.\n",
    "# In the scenario, you'll contribute to reducing the impact of climate change by demonstrating the money earned over time through the use of solar panels."
   ]
  },
  {
   "cell_type": "code",
   "execution_count": null,
   "id": "9f2ed1b4-0463-43a0-a8a5-de9443254ea4",
   "metadata": {},
   "outputs": [],
   "source": [
    "# TO FOLLOW THIS LESSON ON GOOGLE COLAB, FOLLOW THE LINK BELOW:\n",
    "    # https://colab.research.google.com/drive/1z1DJdnuI3JFer8FwyxWM7byGOSn86Tol#scrollTo=Z5Epv7vIj6gt"
   ]
  }
 ],
 "metadata": {
  "kernelspec": {
   "display_name": "Python 3 (ipykernel)",
   "language": "python",
   "name": "python3"
  },
  "language_info": {
   "codemirror_mode": {
    "name": "ipython",
    "version": 3
   },
   "file_extension": ".py",
   "mimetype": "text/x-python",
   "name": "python",
   "nbconvert_exporter": "python",
   "pygments_lexer": "ipython3",
   "version": "3.9.13"
  }
 },
 "nbformat": 4,
 "nbformat_minor": 5
}

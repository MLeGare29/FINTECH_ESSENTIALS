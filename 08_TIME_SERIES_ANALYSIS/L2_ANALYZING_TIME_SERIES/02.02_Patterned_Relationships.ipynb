{
 "cells": [
  {
   "cell_type": "code",
   "execution_count": 6,
   "id": "41fa5583-9426-4199-88f4-f3d25da93764",
   "metadata": {},
   "outputs": [
    {
     "data": {
      "text/html": [
       "<div>\n",
       "<style scoped>\n",
       "    .dataframe tbody tr th:only-of-type {\n",
       "        vertical-align: middle;\n",
       "    }\n",
       "\n",
       "    .dataframe tbody tr th {\n",
       "        vertical-align: top;\n",
       "    }\n",
       "\n",
       "    .dataframe thead th {\n",
       "        text-align: right;\n",
       "    }\n",
       "</style>\n",
       "<table border=\"1\" class=\"dataframe\">\n",
       "  <thead>\n",
       "    <tr style=\"text-align: right;\">\n",
       "      <th></th>\n",
       "      <th>inventory</th>\n",
       "      <th>homes_sold</th>\n",
       "      <th>median_sale_price</th>\n",
       "    </tr>\n",
       "    <tr>\n",
       "      <th>period_end_date</th>\n",
       "      <th></th>\n",
       "      <th></th>\n",
       "      <th></th>\n",
       "    </tr>\n",
       "  </thead>\n",
       "  <tbody>\n",
       "    <tr>\n",
       "      <th>2020-01-01</th>\n",
       "      <td>1250798</td>\n",
       "      <td>377964</td>\n",
       "      <td>289000</td>\n",
       "    </tr>\n",
       "    <tr>\n",
       "      <th>2020-02-01</th>\n",
       "      <td>1265253</td>\n",
       "      <td>405992</td>\n",
       "      <td>294000</td>\n",
       "    </tr>\n",
       "    <tr>\n",
       "      <th>2020-03-01</th>\n",
       "      <td>1316823</td>\n",
       "      <td>507324</td>\n",
       "      <td>303000</td>\n",
       "    </tr>\n",
       "    <tr>\n",
       "      <th>2020-04-01</th>\n",
       "      <td>1297460</td>\n",
       "      <td>436855</td>\n",
       "      <td>304000</td>\n",
       "    </tr>\n",
       "    <tr>\n",
       "      <th>2020-05-01</th>\n",
       "      <td>1289500</td>\n",
       "      <td>421351</td>\n",
       "      <td>299000</td>\n",
       "    </tr>\n",
       "  </tbody>\n",
       "</table>\n",
       "</div>"
      ],
      "text/plain": [
       "                 inventory  homes_sold  median_sale_price\n",
       "period_end_date                                          \n",
       "2020-01-01         1250798      377964             289000\n",
       "2020-02-01         1265253      405992             294000\n",
       "2020-03-01         1316823      507324             303000\n",
       "2020-04-01         1297460      436855             304000\n",
       "2020-05-01         1289500      421351             299000"
      ]
     },
     "metadata": {},
     "output_type": "display_data"
    },
    {
     "data": {},
     "metadata": {},
     "output_type": "display_data"
    },
    {
     "data": {
      "application/vnd.holoviews_exec.v0+json": "",
      "text/html": [
       "<div id='1512'>\n",
       "  <div class=\"bk-root\" id=\"bb352d50-c05b-408a-a70c-ada53a3bd19c\" data-root-id=\"1512\"></div>\n",
       "</div>\n",
       "<script type=\"application/javascript\">(function(root) {\n",
       "  function embed_document(root) {\n",
       "    var docs_json = {\"2180fe35-fbae-4599-8303-cc467833d4e2\":{\"defs\":[{\"extends\":null,\"module\":null,\"name\":\"ReactiveHTML1\",\"overrides\":[],\"properties\":[]},{\"extends\":null,\"module\":null,\"name\":\"FlexBox1\",\"overrides\":[],\"properties\":[{\"default\":\"flex-start\",\"kind\":null,\"name\":\"align_content\"},{\"default\":\"flex-start\",\"kind\":null,\"name\":\"align_items\"},{\"default\":\"row\",\"kind\":null,\"name\":\"flex_direction\"},{\"default\":\"wrap\",\"kind\":null,\"name\":\"flex_wrap\"},{\"default\":\"flex-start\",\"kind\":null,\"name\":\"justify_content\"}]},{\"extends\":null,\"module\":null,\"name\":\"GridStack1\",\"overrides\":[],\"properties\":[{\"default\":\"warn\",\"kind\":null,\"name\":\"mode\"},{\"default\":null,\"kind\":null,\"name\":\"ncols\"},{\"default\":null,\"kind\":null,\"name\":\"nrows\"},{\"default\":true,\"kind\":null,\"name\":\"allow_resize\"},{\"default\":true,\"kind\":null,\"name\":\"allow_drag\"},{\"default\":[],\"kind\":null,\"name\":\"state\"}]},{\"extends\":null,\"module\":null,\"name\":\"click1\",\"overrides\":[],\"properties\":[{\"default\":\"\",\"kind\":null,\"name\":\"terminal_output\"},{\"default\":\"\",\"kind\":null,\"name\":\"debug_name\"},{\"default\":0,\"kind\":null,\"name\":\"clears\"}]},{\"extends\":null,\"module\":null,\"name\":\"NotificationAreaBase1\",\"overrides\":[],\"properties\":[{\"default\":\"bottom-right\",\"kind\":null,\"name\":\"position\"},{\"default\":0,\"kind\":null,\"name\":\"_clear\"}]},{\"extends\":null,\"module\":null,\"name\":\"NotificationArea1\",\"overrides\":[],\"properties\":[{\"default\":[],\"kind\":null,\"name\":\"notifications\"},{\"default\":\"bottom-right\",\"kind\":null,\"name\":\"position\"},{\"default\":0,\"kind\":null,\"name\":\"_clear\"},{\"default\":[{\"background\":\"#ffc107\",\"icon\":{\"className\":\"fas fa-exclamation-triangle\",\"color\":\"white\",\"tagName\":\"i\"},\"type\":\"warning\"},{\"background\":\"#007bff\",\"icon\":{\"className\":\"fas fa-info-circle\",\"color\":\"white\",\"tagName\":\"i\"},\"type\":\"info\"}],\"kind\":null,\"name\":\"types\"}]},{\"extends\":null,\"module\":null,\"name\":\"Notification\",\"overrides\":[],\"properties\":[{\"default\":null,\"kind\":null,\"name\":\"background\"},{\"default\":3000,\"kind\":null,\"name\":\"duration\"},{\"default\":null,\"kind\":null,\"name\":\"icon\"},{\"default\":\"\",\"kind\":null,\"name\":\"message\"},{\"default\":null,\"kind\":null,\"name\":\"notification_type\"},{\"default\":false,\"kind\":null,\"name\":\"_destroyed\"}]},{\"extends\":null,\"module\":null,\"name\":\"TemplateActions1\",\"overrides\":[],\"properties\":[{\"default\":0,\"kind\":null,\"name\":\"open_modal\"},{\"default\":0,\"kind\":null,\"name\":\"close_modal\"}]},{\"extends\":null,\"module\":null,\"name\":\"MaterialTemplateActions1\",\"overrides\":[],\"properties\":[{\"default\":0,\"kind\":null,\"name\":\"open_modal\"},{\"default\":0,\"kind\":null,\"name\":\"close_modal\"}]}],\"roots\":{\"references\":[{\"attributes\":{\"format\":\"%0f\"},\"id\":\"1548\",\"type\":\"PrintfTickFormatter\"},{\"attributes\":{\"children\":[{\"id\":\"1513\"},{\"id\":\"1518\"},{\"id\":\"1645\"}],\"margin\":[0,0,0,0],\"name\":\"Row01186\",\"tags\":[\"embedded\"]},\"id\":\"1512\",\"type\":\"Row\"},{\"attributes\":{\"line_color\":\"#30a2da\",\"line_width\":2,\"x\":{\"field\":\"period_end_date\"},\"y\":{\"field\":\"value\"}},\"id\":\"1560\",\"type\":\"Line\"},{\"attributes\":{},\"id\":\"1571\",\"type\":\"UnionRenderers\"},{\"attributes\":{\"end\":2349287.9,\"reset_end\":2349287.9,\"reset_start\":117469.09999999998,\"start\":117469.09999999998,\"tags\":[[[\"value\",\"value\",null]]]},\"id\":\"1515\",\"type\":\"Range1d\"},{\"attributes\":{},\"id\":\"1558\",\"type\":\"Selection\"},{\"attributes\":{\"data\":{\"Variable\":[\"inventory\",\"inventory\",\"inventory\",\"inventory\",\"inventory\",\"inventory\",\"inventory\",\"inventory\",\"inventory\",\"inventory\",\"inventory\",\"inventory\",\"inventory\",\"inventory\",\"inventory\",\"inventory\",\"inventory\",\"inventory\",\"inventory\",\"inventory\",\"inventory\",\"inventory\",\"inventory\",\"inventory\",\"inventory\",\"inventory\",\"inventory\",\"inventory\",\"inventory\",\"inventory\",\"inventory\",\"inventory\",\"inventory\",\"inventory\",\"inventory\",\"inventory\",\"inventory\",\"inventory\",\"inventory\",\"inventory\",\"inventory\",\"inventory\",\"inventory\",\"inventory\",\"inventory\",\"inventory\",\"inventory\",\"inventory\",\"inventory\",\"inventory\",\"inventory\",\"inventory\",\"inventory\",\"inventory\",\"inventory\",\"inventory\",\"inventory\",\"inventory\",\"inventory\",\"inventory\",\"inventory\",\"inventory\",\"inventory\",\"inventory\",\"inventory\",\"inventory\",\"inventory\",\"inventory\",\"inventory\",\"inventory\",\"inventory\",\"inventory\",\"inventory\",\"inventory\",\"inventory\",\"inventory\",\"inventory\",\"inventory\",\"inventory\",\"inventory\",\"inventory\",\"inventory\",\"inventory\",\"inventory\",\"inventory\",\"inventory\",\"inventory\",\"inventory\",\"inventory\",\"inventory\",\"inventory\",\"inventory\",\"inventory\",\"inventory\",\"inventory\",\"inventory\",\"inventory\",\"inventory\",\"inventory\",\"inventory\",\"inventory\",\"inventory\",\"inventory\"],\"period_end_date\":{\"__ndarray__\":\"AABAX2NTc0IAAADmuFxzQgAAQDizZnNCAADAJFtwc0IAAAB3VXpzQgAAgGP9g3NCAADAtfeNc0IAAAAI8pdzQgAAgPSZoXNCAADARpSrc0IAAEAzPLVzQgAAgIU2v3NCAADA1zDJc0IAAMD4M9JzQgAAAEsu3HNCAACAN9blc0IAAMCJ0O9zQgAAQHZ4+XNCAACAyHIDdEIAAMAabQ10QgAAQAcVF3RCAACAWQ8hdEIAAABGtyp0QgAAQJixNHRCAACA6qs+dEIAAIALr0d0QgAAwF2pUXRCAABASlFbdEIAAICcS2V0QgAAAInzbnRCAABA2+14dEIAAIAt6IJ0QgAAABqQjHRCAABAbIqWdEIAAMBYMqB0QgAAAKssqnRCAABA/Sa0dEIAAEAeKr10QgAAgHAkx3RCAAAAXczQdEIAAECvxtp0QgAAwJtu5HRCAAAA7mjudEIAAEBAY/h0QgAAwCwLAnVCAAAAfwUMdUIAAIBrrRV1QgAAwL2nH3VCAAAAEKIpdUIAAMCW9zJ1QgAAAOnxPHVCAACA1ZlGdUIAAMAnlFB1QgAAQBQ8WnVCAACAZjZkdUIAAMC4MG51QgAAQKXYd3VCAACA99KBdUIAAADkeot1QgAAQDZ1lXVCAACAiG+fdUIAAICpcqh1QgAAwPtssnVCAABA6BS8dUIAAIA6D8Z1QgAAACe3z3VCAABAebHZdUIAAIDLq+N1QgAAALhT7XVCAABACk73dUIAAMD29QB2QgAAAEnwCnZCAABAm+oUdkIAAEC87R12QgAAgA7oJ3ZCAAAA+48xdkIAAEBNijt2QgAAwDkyRXZCAAAAjCxPdkIAAEDeJll2QgAAwMrOYnZCAAAAHclsdkIAAIAJcXZ2QgAAwFtrgHZCAAAArmWKdkIAAADPaJN2QgAAQCFjnXZCAADADQundkIAAABgBbF2QgAAgEytunZCAADAnqfEdkIAAADxoc52QgAAgN1J2HZCAADAL0TidkIAAEAc7Ot2QgAAgG7m9XZCAADAwOD/dkIAAIBHNgl3QgAAwJkwE3dCAABAhtgcd0IAAIDY0iZ3QgAAAMV6MHdCAABAF3U6d0I=\",\"dtype\":\"float64\",\"order\":\"little\",\"shape\":[103]},\"value\":[2078931,2120173,2155803,2163303,2145658,2109202,2048712,2010080,1936114,1823542,1666931,1680276,1715241,1758071,1842873,1911782,1953106,1983624,1984408,1990299,1963663,1863258,1698019,1713791,1748964,1820559,1889755,1963564,2040323,2114760,2104706,2090802,2030677,1905627,1734475,1738614,1751581,1811084,1925430,2011729,2047119,2062443,2032207,2002245,1930467,1803188,1615706,1604314,1639331,1719652,1793818,1831656,1871580,1890218,1850571,1830744,1746324,1611721,1426958,1415212,1446179,1522912,1586017,1645405,1704387,1716298,1696710,1676769,1606239,1479362,1299249,1286362,1327008,1385696,1465347,1570615,1645582,1668224,1691330,1711008,1679657,1577743,1406298,1421187,1439784,1494395,1563284,1657511,1696761,1681451,1660309,1651469,1598498,1459546,1260286,1250798,1265253,1316823,1297460,1289500,1219863,1165359,1066903]},\"selected\":{\"id\":\"1558\"},\"selection_policy\":{\"id\":\"1571\"}},\"id\":\"1557\",\"type\":\"ColumnDataSource\"},{\"attributes\":{\"coordinates\":null,\"data_source\":{\"id\":\"1557\"},\"glyph\":{\"id\":\"1560\"},\"group\":null,\"hover_glyph\":null,\"muted_glyph\":{\"id\":\"1562\"},\"nonselection_glyph\":{\"id\":\"1561\"},\"selection_glyph\":{\"id\":\"1588\"},\"view\":{\"id\":\"1564\"}},\"id\":\"1563\",\"type\":\"GlyphRenderer\"},{\"attributes\":{},\"id\":\"1523\",\"type\":\"LinearScale\"},{\"attributes\":{\"below\":[{\"id\":\"1527\"}],\"center\":[{\"id\":\"1530\"},{\"id\":\"1534\"}],\"height\":300,\"left\":[{\"id\":\"1531\"}],\"margin\":[5,5,5,5],\"min_border_bottom\":10,\"min_border_left\":10,\"min_border_right\":10,\"min_border_top\":10,\"renderers\":[{\"id\":\"1563\"},{\"id\":\"1595\"}],\"right\":[{\"id\":\"1586\"}],\"sizing_mode\":\"fixed\",\"title\":{\"id\":\"1519\"},\"toolbar\":{\"id\":\"1541\"},\"width\":700,\"x_range\":{\"id\":\"1514\"},\"x_scale\":{\"id\":\"1523\"},\"y_range\":{\"id\":\"1515\"},\"y_scale\":{\"id\":\"1525\"}},\"id\":\"1518\",\"subtype\":\"Figure\",\"type\":\"Plot\"},{\"attributes\":{\"line_alpha\":0.2,\"line_color\":\"#fc4f30\",\"line_width\":2,\"x\":{\"field\":\"period_end_date\"},\"y\":{\"field\":\"value\"}},\"id\":\"1594\",\"type\":\"Line\"},{\"attributes\":{\"callback\":null,\"formatters\":{\"@{period_end_date}\":\"datetime\"},\"renderers\":[{\"id\":\"1563\"},{\"id\":\"1595\"}],\"tags\":[\"hv_created\"],\"tooltips\":[[\"Variable\",\"@{Variable}\"],[\"period_end_date\",\"@{period_end_date}{%F %T}\"],[\"value\",\"@{value}\"]]},\"id\":\"1516\",\"type\":\"HoverTool\"},{\"attributes\":{\"line_color\":\"#30a2da\",\"line_width\":2,\"x\":{\"field\":\"period_end_date\"},\"y\":{\"field\":\"value\"}},\"id\":\"1588\",\"type\":\"Line\"},{\"attributes\":{\"axis_label\":\"\",\"coordinates\":null,\"formatter\":{\"id\":\"1548\"},\"group\":null,\"major_label_policy\":{\"id\":\"1554\"},\"ticker\":{\"id\":\"1532\"}},\"id\":\"1531\",\"type\":\"LinearAxis\"},{\"attributes\":{},\"id\":\"1550\",\"type\":\"DatetimeTickFormatter\"},{\"attributes\":{},\"id\":\"1551\",\"type\":\"AllLabels\"},{\"attributes\":{\"line_alpha\":0.1,\"line_color\":\"#fc4f30\",\"line_width\":2,\"x\":{\"field\":\"period_end_date\"},\"y\":{\"field\":\"value\"}},\"id\":\"1593\",\"type\":\"Line\"},{\"attributes\":{\"coordinates\":null,\"group\":null,\"text_color\":\"black\",\"text_font_size\":\"12pt\"},\"id\":\"1519\",\"type\":\"Title\"},{\"attributes\":{\"num_minor_ticks\":5,\"tickers\":[{\"id\":\"1574\"},{\"id\":\"1575\"},{\"id\":\"1576\"},{\"id\":\"1577\"},{\"id\":\"1578\"},{\"id\":\"1579\"},{\"id\":\"1580\"},{\"id\":\"1581\"},{\"id\":\"1582\"},{\"id\":\"1583\"},{\"id\":\"1584\"},{\"id\":\"1585\"}]},\"id\":\"1528\",\"type\":\"DatetimeTicker\"},{\"attributes\":{\"axis\":{\"id\":\"1527\"},\"coordinates\":null,\"grid_line_color\":null,\"group\":null,\"ticker\":null},\"id\":\"1530\",\"type\":\"Grid\"},{\"attributes\":{\"line_color\":\"#fc4f30\",\"line_width\":2,\"x\":{\"field\":\"period_end_date\"},\"y\":{\"field\":\"value\"}},\"id\":\"1592\",\"type\":\"Line\"},{\"attributes\":{\"axis_label\":\"period_end_date\",\"coordinates\":null,\"formatter\":{\"id\":\"1550\"},\"group\":null,\"major_label_policy\":{\"id\":\"1551\"},\"ticker\":{\"id\":\"1528\"}},\"id\":\"1527\",\"type\":\"DatetimeAxis\"},{\"attributes\":{\"mantissas\":[1,2,5],\"max_interval\":500.0,\"num_minor_ticks\":0},\"id\":\"1574\",\"type\":\"AdaptiveTicker\"},{\"attributes\":{},\"id\":\"1525\",\"type\":\"LinearScale\"},{\"attributes\":{},\"id\":\"1554\",\"type\":\"AllLabels\"},{\"attributes\":{},\"id\":\"1536\",\"type\":\"PanTool\"},{\"attributes\":{\"source\":{\"id\":\"1589\"}},\"id\":\"1596\",\"type\":\"CDSView\"},{\"attributes\":{\"line_color\":\"#fc4f30\",\"line_width\":2,\"x\":{\"field\":\"period_end_date\"},\"y\":{\"field\":\"value\"}},\"id\":\"1621\",\"type\":\"Line\"},{\"attributes\":{\"base\":60,\"mantissas\":[1,2,5,10,15,20,30],\"max_interval\":1800000.0,\"min_interval\":1000.0,\"num_minor_ticks\":0},\"id\":\"1575\",\"type\":\"AdaptiveTicker\"},{\"attributes\":{},\"id\":\"1590\",\"type\":\"Selection\"},{\"attributes\":{\"click_policy\":\"mute\",\"coordinates\":null,\"group\":null,\"items\":[{\"id\":\"1587\"},{\"id\":\"1620\"}],\"location\":[0,0],\"title\":\"Variable\"},\"id\":\"1586\",\"type\":\"Legend\"},{\"attributes\":{\"base\":24,\"mantissas\":[1,2,4,6,8,12],\"max_interval\":43200000.0,\"min_interval\":3600000.0,\"num_minor_ticks\":0},\"id\":\"1576\",\"type\":\"AdaptiveTicker\"},{\"attributes\":{},\"id\":\"1585\",\"type\":\"YearsTicker\"},{\"attributes\":{\"axis\":{\"id\":\"1531\"},\"coordinates\":null,\"dimension\":1,\"grid_line_color\":null,\"group\":null,\"ticker\":null},\"id\":\"1534\",\"type\":\"Grid\"},{\"attributes\":{\"coordinates\":null,\"data_source\":{\"id\":\"1589\"},\"glyph\":{\"id\":\"1592\"},\"group\":null,\"hover_glyph\":null,\"muted_glyph\":{\"id\":\"1594\"},\"nonselection_glyph\":{\"id\":\"1593\"},\"selection_glyph\":{\"id\":\"1621\"},\"view\":{\"id\":\"1596\"}},\"id\":\"1595\",\"type\":\"GlyphRenderer\"},{\"attributes\":{},\"id\":\"1532\",\"type\":\"BasicTicker\"},{\"attributes\":{\"months\":[0,1,2,3,4,5,6,7,8,9,10,11]},\"id\":\"1581\",\"type\":\"MonthsTicker\"},{\"attributes\":{\"label\":{\"value\":\"homes_sold\"},\"renderers\":[{\"id\":\"1595\"}]},\"id\":\"1620\",\"type\":\"LegendItem\"},{\"attributes\":{\"margin\":[5,5,5,5],\"name\":\"HSpacer01191\",\"sizing_mode\":\"stretch_width\"},\"id\":\"1645\",\"type\":\"Spacer\"},{\"attributes\":{},\"id\":\"1537\",\"type\":\"WheelZoomTool\"},{\"attributes\":{\"end\":1596240000000.0,\"reset_end\":1596240000000.0,\"reset_start\":1328054400000.0,\"start\":1328054400000.0,\"tags\":[[[\"period_end_date\",\"period_end_date\",null]]]},\"id\":\"1514\",\"type\":\"Range1d\"},{\"attributes\":{\"line_alpha\":0.1,\"line_color\":\"#30a2da\",\"line_width\":2,\"x\":{\"field\":\"period_end_date\"},\"y\":{\"field\":\"value\"}},\"id\":\"1561\",\"type\":\"Line\"},{\"attributes\":{\"days\":[1,2,3,4,5,6,7,8,9,10,11,12,13,14,15,16,17,18,19,20,21,22,23,24,25,26,27,28,29,30,31]},\"id\":\"1577\",\"type\":\"DaysTicker\"},{\"attributes\":{\"days\":[1,4,7,10,13,16,19,22,25,28]},\"id\":\"1578\",\"type\":\"DaysTicker\"},{\"attributes\":{\"days\":[1,15]},\"id\":\"1580\",\"type\":\"DaysTicker\"},{\"attributes\":{\"days\":[1,8,15,22]},\"id\":\"1579\",\"type\":\"DaysTicker\"},{\"attributes\":{},\"id\":\"1535\",\"type\":\"SaveTool\"},{\"attributes\":{\"data\":{\"Variable\":[\"homes_sold\",\"homes_sold\",\"homes_sold\",\"homes_sold\",\"homes_sold\",\"homes_sold\",\"homes_sold\",\"homes_sold\",\"homes_sold\",\"homes_sold\",\"homes_sold\",\"homes_sold\",\"homes_sold\",\"homes_sold\",\"homes_sold\",\"homes_sold\",\"homes_sold\",\"homes_sold\",\"homes_sold\",\"homes_sold\",\"homes_sold\",\"homes_sold\",\"homes_sold\",\"homes_sold\",\"homes_sold\",\"homes_sold\",\"homes_sold\",\"homes_sold\",\"homes_sold\",\"homes_sold\",\"homes_sold\",\"homes_sold\",\"homes_sold\",\"homes_sold\",\"homes_sold\",\"homes_sold\",\"homes_sold\",\"homes_sold\",\"homes_sold\",\"homes_sold\",\"homes_sold\",\"homes_sold\",\"homes_sold\",\"homes_sold\",\"homes_sold\",\"homes_sold\",\"homes_sold\",\"homes_sold\",\"homes_sold\",\"homes_sold\",\"homes_sold\",\"homes_sold\",\"homes_sold\",\"homes_sold\",\"homes_sold\",\"homes_sold\",\"homes_sold\",\"homes_sold\",\"homes_sold\",\"homes_sold\",\"homes_sold\",\"homes_sold\",\"homes_sold\",\"homes_sold\",\"homes_sold\",\"homes_sold\",\"homes_sold\",\"homes_sold\",\"homes_sold\",\"homes_sold\",\"homes_sold\",\"homes_sold\",\"homes_sold\",\"homes_sold\",\"homes_sold\",\"homes_sold\",\"homes_sold\",\"homes_sold\",\"homes_sold\",\"homes_sold\",\"homes_sold\",\"homes_sold\",\"homes_sold\",\"homes_sold\",\"homes_sold\",\"homes_sold\",\"homes_sold\",\"homes_sold\",\"homes_sold\",\"homes_sold\",\"homes_sold\",\"homes_sold\",\"homes_sold\",\"homes_sold\",\"homes_sold\",\"homes_sold\",\"homes_sold\",\"homes_sold\",\"homes_sold\",\"homes_sold\",\"homes_sold\",\"homes_sold\",\"homes_sold\"],\"period_end_date\":{\"__ndarray__\":\"AABAX2NTc0IAAADmuFxzQgAAQDizZnNCAADAJFtwc0IAAAB3VXpzQgAAgGP9g3NCAADAtfeNc0IAAAAI8pdzQgAAgPSZoXNCAADARpSrc0IAAEAzPLVzQgAAgIU2v3NCAADA1zDJc0IAAMD4M9JzQgAAAEsu3HNCAACAN9blc0IAAMCJ0O9zQgAAQHZ4+XNCAACAyHIDdEIAAMAabQ10QgAAQAcVF3RCAACAWQ8hdEIAAABGtyp0QgAAQJixNHRCAACA6qs+dEIAAIALr0d0QgAAwF2pUXRCAABASlFbdEIAAICcS2V0QgAAAInzbnRCAABA2+14dEIAAIAt6IJ0QgAAABqQjHRCAABAbIqWdEIAAMBYMqB0QgAAAKssqnRCAABA/Sa0dEIAAEAeKr10QgAAgHAkx3RCAAAAXczQdEIAAECvxtp0QgAAwJtu5HRCAAAA7mjudEIAAEBAY/h0QgAAwCwLAnVCAAAAfwUMdUIAAIBrrRV1QgAAwL2nH3VCAAAAEKIpdUIAAMCW9zJ1QgAAAOnxPHVCAACA1ZlGdUIAAMAnlFB1QgAAQBQ8WnVCAACAZjZkdUIAAMC4MG51QgAAQKXYd3VCAACA99KBdUIAAADkeot1QgAAQDZ1lXVCAACAiG+fdUIAAICpcqh1QgAAwPtssnVCAABA6BS8dUIAAIA6D8Z1QgAAACe3z3VCAABAebHZdUIAAIDLq+N1QgAAALhT7XVCAABACk73dUIAAMD29QB2QgAAAEnwCnZCAABAm+oUdkIAAEC87R12QgAAgA7oJ3ZCAAAA+48xdkIAAEBNijt2QgAAwDkyRXZCAAAAjCxPdkIAAEDeJll2QgAAwMrOYnZCAAAAHclsdkIAAIAJcXZ2QgAAwFtrgHZCAAAArmWKdkIAAADPaJN2QgAAQCFjnXZCAADADQundkIAAABgBbF2QgAAgEytunZCAADAnqfEdkIAAADxoc52QgAAgN1J2HZCAADAL0TidkIAAEAc7Ot2QgAAgG7m9XZCAADAwOD/dkIAAIBHNgl3QgAAwJkwE3dCAABAhtgcd0IAAIDY0iZ3QgAAAMV6MHdCAABAF3U6d0I=\",\"dtype\":\"float64\",\"order\":\"little\",\"shape\":[103]},\"value\":[304737,394034,404927,464281,487959,451243,485480,392397,423079,398471,391200,311458,322111,419901,459989,534797,526615,548495,537397,448002,447647,384211,408673,303454,310918,392509,444227,507516,542753,534616,514686,469975,480451,378599,445766,309723,336264,459391,496899,545672,633602,624705,564118,525632,496814,393948,489030,341903,365754,486821,526883,591629,661162,584704,614179,552047,502638,476043,497955,361174,369326,534054,516942,631410,692914,592302,629131,535338,526858,495462,499650,366414,377871,520689,544884,633938,670694,623847,640299,499189,528733,479668,445037,336063,374990,490722,550804,647282,624623,636452,627929,532688,543858,480575,511937,377964,405992,507324,436855,421351,587635,700733,652878]},\"selected\":{\"id\":\"1590\"},\"selection_policy\":{\"id\":\"1605\"}},\"id\":\"1589\",\"type\":\"ColumnDataSource\"},{\"attributes\":{\"months\":[0,6]},\"id\":\"1584\",\"type\":\"MonthsTicker\"},{\"attributes\":{\"line_alpha\":0.2,\"line_color\":\"#30a2da\",\"line_width\":2,\"x\":{\"field\":\"period_end_date\"},\"y\":{\"field\":\"value\"}},\"id\":\"1562\",\"type\":\"Line\"},{\"attributes\":{\"overlay\":{\"id\":\"1540\"}},\"id\":\"1538\",\"type\":\"BoxZoomTool\"},{\"attributes\":{},\"id\":\"1605\",\"type\":\"UnionRenderers\"},{\"attributes\":{\"source\":{\"id\":\"1557\"}},\"id\":\"1564\",\"type\":\"CDSView\"},{\"attributes\":{},\"id\":\"1539\",\"type\":\"ResetTool\"},{\"attributes\":{\"months\":[0,2,4,6,8,10]},\"id\":\"1582\",\"type\":\"MonthsTicker\"},{\"attributes\":{\"months\":[0,4,8]},\"id\":\"1583\",\"type\":\"MonthsTicker\"},{\"attributes\":{\"bottom_units\":\"screen\",\"coordinates\":null,\"fill_alpha\":0.5,\"fill_color\":\"lightgrey\",\"group\":null,\"left_units\":\"screen\",\"level\":\"overlay\",\"line_alpha\":1.0,\"line_color\":\"black\",\"line_dash\":[4,4],\"line_width\":2,\"right_units\":\"screen\",\"syncable\":false,\"top_units\":\"screen\"},\"id\":\"1540\",\"type\":\"BoxAnnotation\"},{\"attributes\":{\"margin\":[5,5,5,5],\"name\":\"HSpacer01190\",\"sizing_mode\":\"stretch_width\"},\"id\":\"1513\",\"type\":\"Spacer\"},{\"attributes\":{\"tools\":[{\"id\":\"1516\"},{\"id\":\"1535\"},{\"id\":\"1536\"},{\"id\":\"1537\"},{\"id\":\"1538\"},{\"id\":\"1539\"}]},\"id\":\"1541\",\"type\":\"Toolbar\"},{\"attributes\":{\"label\":{\"value\":\"inventory\"},\"renderers\":[{\"id\":\"1563\"}]},\"id\":\"1587\",\"type\":\"LegendItem\"}],\"root_ids\":[\"1512\"]},\"title\":\"Bokeh Application\",\"version\":\"2.4.3\"}};\n",
       "    var render_items = [{\"docid\":\"2180fe35-fbae-4599-8303-cc467833d4e2\",\"root_ids\":[\"1512\"],\"roots\":{\"1512\":\"bb352d50-c05b-408a-a70c-ada53a3bd19c\"}}];\n",
       "    root.Bokeh.embed.embed_items_notebook(docs_json, render_items);\n",
       "  }\n",
       "  if (root.Bokeh !== undefined && root.Bokeh.Panel !== undefined) {\n",
       "    embed_document(root);\n",
       "  } else {\n",
       "    var attempts = 0;\n",
       "    var timer = setInterval(function(root) {\n",
       "      if (root.Bokeh !== undefined && root.Bokeh.Panel !== undefined) {\n",
       "        clearInterval(timer);\n",
       "        embed_document(root);\n",
       "      } else if (document.readyState == \"complete\") {\n",
       "        attempts++;\n",
       "        if (attempts > 200) {\n",
       "          clearInterval(timer);\n",
       "          console.log(\"Bokeh: ERROR: Unable to run BokehJS code because BokehJS library is missing\");\n",
       "        }\n",
       "      }\n",
       "    }, 25, root)\n",
       "  }\n",
       "})(window);</script>"
      ],
      "text/plain": [
       ":NdOverlay   [Variable]\n",
       "   :Curve   [period_end_date]   (value)"
      ]
     },
     "execution_count": 6,
     "metadata": {
      "application/vnd.holoviews_exec.v0+json": {
       "id": "1512"
      }
     },
     "output_type": "execute_result"
    }
   ],
   "source": [
    "# Import the libraries and dependencies:\n",
    "import pandas as pd\n",
    "from pathlib import Path\n",
    "import hvplot.pandas\n",
    "import numpy as np\n",
    "\n",
    "# Read the national-home-sales.csv file into a DataFrame:\n",
    "df_home_sales = pd.read_csv(\n",
    "    Path('national-home-sales.csv'),\n",
    "    index_col='period_end_date',\n",
    "    parse_dates=True,\n",
    "    infer_datetime_format=True\n",
    ")\n",
    "\n",
    "# Review the DataFrame:\n",
    "display(df_home_sales.head())\n",
    "df_home_sales[['inventory', 'homes_sold']].hvplot().opts(yformatter='%0f')"
   ]
  },
  {
   "cell_type": "code",
   "execution_count": 7,
   "id": "91aa7290-4b43-47f9-8ca5-1982b5172f6a",
   "metadata": {},
   "outputs": [],
   "source": [
    "# IDENTIFYING PATTERNED RELATIONSHIPS\n",
    "# When analyzing time series, finding seasonal patterns is just one part of the job.\n",
    "# Another important task is to identify any relationships between time series patterns.\n",
    "# By doing so, we can better understand the time series behavior and identify predictable relationships.\n",
    "# Let's examine the time series of home inventory and homes sold from a different perspective.\n",
    "# To start, recall our first plot of this dataset in the previous lesson.\n",
    "# After exmaining both series on the plot, we can infer a relationship between them.\n",
    "# While the number of homes sold increases, the inventory decreases.\n",
    "# However, you might want to quantitatively verify this relationship.\n",
    "# We can use correlation to do so."
   ]
  },
  {
   "cell_type": "code",
   "execution_count": 8,
   "id": "dfc30089-87e1-424d-9e13-06ad61860b28",
   "metadata": {},
   "outputs": [
    {
     "data": {
      "text/html": [
       "<div>\n",
       "<style scoped>\n",
       "    .dataframe tbody tr th:only-of-type {\n",
       "        vertical-align: middle;\n",
       "    }\n",
       "\n",
       "    .dataframe tbody tr th {\n",
       "        vertical-align: top;\n",
       "    }\n",
       "\n",
       "    .dataframe thead th {\n",
       "        text-align: right;\n",
       "    }\n",
       "</style>\n",
       "<table border=\"1\" class=\"dataframe\">\n",
       "  <thead>\n",
       "    <tr style=\"text-align: right;\">\n",
       "      <th></th>\n",
       "      <th>inventory</th>\n",
       "      <th>homes_sold</th>\n",
       "    </tr>\n",
       "  </thead>\n",
       "  <tbody>\n",
       "    <tr>\n",
       "      <th>inventory</th>\n",
       "      <td>1.000000</td>\n",
       "      <td>-0.006937</td>\n",
       "    </tr>\n",
       "    <tr>\n",
       "      <th>homes_sold</th>\n",
       "      <td>-0.006937</td>\n",
       "      <td>1.000000</td>\n",
       "    </tr>\n",
       "  </tbody>\n",
       "</table>\n",
       "</div>"
      ],
      "text/plain": [
       "            inventory  homes_sold\n",
       "inventory    1.000000   -0.006937\n",
       "homes_sold  -0.006937    1.000000"
      ]
     },
     "execution_count": 8,
     "metadata": {},
     "output_type": "execute_result"
    }
   ],
   "source": [
    "# ANALYZING DATA CORRELATIONS\n",
    "# In statistics, a CORRELATION defines the relationship between two or more variables, whether casual or not.\n",
    "# We can use Pandas to compute a correlation by using the `corr` function as follows:\n",
    "\n",
    "# Compute the correlation between 'inventory' and 'homes_sold':\n",
    "df_home_sales_corr = df_home_sales[['inventory', 'homes_sold']].corr()\n",
    "\n",
    "# Review the correlation between the inventory and homes_sold:\n",
    "df_home_sales_corr"
   ]
  },
  {
   "cell_type": "code",
   "execution_count": 9,
   "id": "03272c66-d89c-48df-896a-26e6bbc91df0",
   "metadata": {},
   "outputs": [],
   "source": [
    "# Notice that the DataFrame has two columns for the inventory and the homes sold.\n",
    "# And, it has two rows for the inventory and the homes sold.\n",
    "# Each numerical value indicates the correlation between these variables.\n",
    "# The value of correlation ranges fro -1 to +1. \n",
    "# A positive value implies both variables have an increasing (or direct) relationship as both variables increase over time.\n",
    "# In contrast, a negative value implies a decreasing (or inverse) relationship - because as one variable increases, the other decreases.\n",
    "# The closer the correlation is to either -1 or +1, the stronger the correlation is between the two variables.\n",
    "# From our correlation, we can observe the following: Although the inventory and the homes sold seem to have decreasing relationship (the more homes that are for sale at any time, the fewer homes that actually seem to sell), the correlation at -0.006937 isn't strong.\n",
    "# This indicates that no predictable relationship exists between these two factors.\n",
    "# Correlations are so helpful.\n",
    "# However, be aware that a correlaltion doesn't provide enough information to infer the relationship between two variables.\n",
    "# Statisticians say that a correlation does not imply causation.\n",
    "# It means that you can't assume causation from only a correlation value.\n",
    "# You will need a good deal of information to determine causation between factors, including expertise in the field and extensive testing, which will likely include the ability to control for other related factors.\n",
    "# Remember that a correlation evaluates how much two variables move together?\n",
    "# You can apply correlations to the analysis of stocks, too.\n",
    "# In the next activity, you'll use the code for computing correlations in the same way.\n",
    "# But, the interpetation will differ a bit.\n",
    "# That's because going forward, you'll use correlations to identify the relationships between current observations and FUTURE values.\n",
    "# This differs from identifying the relationships that you've examined so far, which involved variables that were measured at the same time."
   ]
  },
  {
   "cell_type": "code",
   "execution_count": null,
   "id": "037a103d-98cd-449b-a609-bcc5025c03ee",
   "metadata": {},
   "outputs": [],
   "source": [
    "# ON THE JOB\n",
    "# Correlation is a useful statistical tool, because it can indicate a predictive relationship that we can capitalize on in practice.\n",
    "# For example, a natural gas supplier might deliver more gas on cold days based on the correlation between gas consumption and weather.\n",
    "# This is because extreme weather might cuase people to consume more gas for heating."
   ]
  }
 ],
 "metadata": {
  "kernelspec": {
   "display_name": "Python 3 (ipykernel)",
   "language": "python",
   "name": "python3"
  },
  "language_info": {
   "codemirror_mode": {
    "name": "ipython",
    "version": 3
   },
   "file_extension": ".py",
   "mimetype": "text/x-python",
   "name": "python",
   "nbconvert_exporter": "python",
   "pygments_lexer": "ipython3",
   "version": "3.9.13"
  }
 },
 "nbformat": 4,
 "nbformat_minor": 5
}

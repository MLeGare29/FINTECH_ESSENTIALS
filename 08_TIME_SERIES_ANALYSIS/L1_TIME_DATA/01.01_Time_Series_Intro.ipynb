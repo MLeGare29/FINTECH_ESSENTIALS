{
 "cells": [
  {
   "cell_type": "code",
   "execution_count": 1,
   "id": "25607577-d1eb-48e6-9b64-c93ff0254a4f",
   "metadata": {},
   "outputs": [],
   "source": [
    "# THE IMPORTANCE OF TIME IN FINANCE\n",
    "# Our lives are surrounded by the results of decision that we make at particular times.\n",
    "# In fact, it seems that time has a remarkable effect on our lives.\n",
    "# For example, it might lead us to buy warm clothes in the winter or search for the perfect vacation spot in the summer.\n",
    "# Time impacts not only our behavior, but also how the financial world works.\n",
    "# For example, when you make an investment or deposit money in your savings account, the value of the money can increase over time.\n",
    "# Time is so important in finance that we need to learn how to manipulate, analyze, and understand data that's measured over time.\n",
    "# This type of data is called TIME SERIES DATA.\n",
    "# In this lesson, you'll learn about the intricacies of manipulating time series data with Python and Pandas.\n",
    "# By learning about the advanced capabilities regarding time data in Python and Pandas, you'll be able to analyze and work with data that's from all kinds of sources and in all kinds of formats.\n",
    "# You'll then be able to build more sophisticated time series models, including ones that can make predictions across time frequencies or time zones."
   ]
  },
  {
   "cell_type": "code",
   "execution_count": 2,
   "id": "262af2a8-7335-4ac9-9bb4-19e0d503a5a2",
   "metadata": {},
   "outputs": [],
   "source": [
    "# ASPECTS OF TIME DATA\n",
    "# Time plays a role in almost every financial risk analysis. \n",
    "# For example, analysts ask question about the following:\n",
    "    # 1. The closing prices on various stock exchanges around the globe.\n",
    "    # 2. Aggregating the daily revenue for a firm that has sales in different countries or regions.\n",
    "    # 3. Forecasting cryptocurrency prices.\n",
    "# We therefore need tools for working with dates and times.\n",
    "# To model and predict future events in time, we need the proficiency to handle everythng that relates to time data.\n",
    "# Because financial markets stay active all around the world and thus at all hours of the day, we need the ability to convert time zones.\n",
    "# To recognize patterns in time data, we need the ability to resample our data, converting hourly data to daily data or daily data to weekly data.\n",
    "# In this lesson, you'll learn how to complete these types of necessary tasks."
   ]
  },
  {
   "cell_type": "code",
   "execution_count": 3,
   "id": "eb1eb232-e97f-4911-aa95-56987363bef0",
   "metadata": {},
   "outputs": [],
   "source": [
    "# USING PANDAS TO WORK WITH TIME DATA\n",
    "# The concept of data and time in a programming language can be complicated.\n",
    "# This is especially true when we consider the globe with its various time zones and levels of granularity.\n",
    "# These levels range from daily data all the way down to data measured at the microsecond.\n",
    "# Also, many ways exist to format and store dates and times on computers.\n",
    "# As you learned in previous modules, Python and Pandas supply functions that make it easier to work with dates and time in a DataFrame.\n",
    "# These functions do so through `datetime` objects.\n",
    "# As it turns out, working with `datetime` objects will also ease working with time series models.\n",
    "# Throughout this lesson, you'll apply the intricacies of manipulating time data with Python and Pandas to your analyses."
   ]
  }
 ],
 "metadata": {
  "kernelspec": {
   "display_name": "Python 3 (ipykernel)",
   "language": "python",
   "name": "python3"
  },
  "language_info": {
   "codemirror_mode": {
    "name": "ipython",
    "version": 3
   },
   "file_extension": ".py",
   "mimetype": "text/x-python",
   "name": "python",
   "nbconvert_exporter": "python",
   "pygments_lexer": "ipython3",
   "version": "3.9.13"
  }
 },
 "nbformat": 4,
 "nbformat_minor": 5
}

{
 "cells": [
  {
   "cell_type": "code",
   "execution_count": 29,
   "id": "9a0ed5dd-f9bb-44df-bcb4-b17d4d94fed6",
   "metadata": {},
   "outputs": [],
   "source": [
    "# Import the dependencies and libraries:\n",
    "import pandas as pd\n",
    "from pathlib import Path"
   ]
  },
  {
   "cell_type": "code",
   "execution_count": 30,
   "id": "61ff1960-cf18-4034-aaf4-3d6adb9c106d",
   "metadata": {},
   "outputs": [
    {
     "data": {
      "text/html": [
       "<div>\n",
       "<style scoped>\n",
       "    .dataframe tbody tr th:only-of-type {\n",
       "        vertical-align: middle;\n",
       "    }\n",
       "\n",
       "    .dataframe tbody tr th {\n",
       "        vertical-align: top;\n",
       "    }\n",
       "\n",
       "    .dataframe thead th {\n",
       "        text-align: right;\n",
       "    }\n",
       "</style>\n",
       "<table border=\"1\" class=\"dataframe\">\n",
       "  <thead>\n",
       "    <tr style=\"text-align: right;\">\n",
       "      <th></th>\n",
       "      <th>time</th>\n",
       "      <th>close</th>\n",
       "    </tr>\n",
       "  </thead>\n",
       "  <tbody>\n",
       "    <tr>\n",
       "      <th>0</th>\n",
       "      <td>2019-01-02 12:45:00+00:00</td>\n",
       "      <td>246.16</td>\n",
       "    </tr>\n",
       "    <tr>\n",
       "      <th>1</th>\n",
       "      <td>2019-01-02 13:00:00+00:00</td>\n",
       "      <td>246.15</td>\n",
       "    </tr>\n",
       "    <tr>\n",
       "      <th>2</th>\n",
       "      <td>2019-01-02 13:15:00+00:00</td>\n",
       "      <td>245.50</td>\n",
       "    </tr>\n",
       "    <tr>\n",
       "      <th>3</th>\n",
       "      <td>2019-01-02 13:30:00+00:00</td>\n",
       "      <td>245.71</td>\n",
       "    </tr>\n",
       "    <tr>\n",
       "      <th>4</th>\n",
       "      <td>2019-01-02 13:45:00+00:00</td>\n",
       "      <td>245.76</td>\n",
       "    </tr>\n",
       "  </tbody>\n",
       "</table>\n",
       "</div>"
      ],
      "text/plain": [
       "                        time   close\n",
       "0  2019-01-02 12:45:00+00:00  246.16\n",
       "1  2019-01-02 13:00:00+00:00  246.15\n",
       "2  2019-01-02 13:15:00+00:00  245.50\n",
       "3  2019-01-02 13:30:00+00:00  245.71\n",
       "4  2019-01-02 13:45:00+00:00  245.76"
      ]
     },
     "metadata": {},
     "output_type": "display_data"
    },
    {
     "data": {
      "text/html": [
       "<div>\n",
       "<style scoped>\n",
       "    .dataframe tbody tr th:only-of-type {\n",
       "        vertical-align: middle;\n",
       "    }\n",
       "\n",
       "    .dataframe tbody tr th {\n",
       "        vertical-align: top;\n",
       "    }\n",
       "\n",
       "    .dataframe thead th {\n",
       "        text-align: right;\n",
       "    }\n",
       "</style>\n",
       "<table border=\"1\" class=\"dataframe\">\n",
       "  <thead>\n",
       "    <tr style=\"text-align: right;\">\n",
       "      <th></th>\n",
       "      <th>time</th>\n",
       "      <th>close</th>\n",
       "    </tr>\n",
       "  </thead>\n",
       "  <tbody>\n",
       "    <tr>\n",
       "      <th>9323</th>\n",
       "      <td>2019-12-30 20:30:00+00:00</td>\n",
       "      <td>321.10</td>\n",
       "    </tr>\n",
       "    <tr>\n",
       "      <th>9324</th>\n",
       "      <td>2019-12-30 20:45:00+00:00</td>\n",
       "      <td>321.12</td>\n",
       "    </tr>\n",
       "    <tr>\n",
       "      <th>9325</th>\n",
       "      <td>2019-12-30 21:00:00+00:00</td>\n",
       "      <td>321.23</td>\n",
       "    </tr>\n",
       "    <tr>\n",
       "      <th>9326</th>\n",
       "      <td>2019-12-30 21:30:00+00:00</td>\n",
       "      <td>321.23</td>\n",
       "    </tr>\n",
       "    <tr>\n",
       "      <th>9327</th>\n",
       "      <td>2019-12-30 21:45:00+00:00</td>\n",
       "      <td>321.20</td>\n",
       "    </tr>\n",
       "  </tbody>\n",
       "</table>\n",
       "</div>"
      ],
      "text/plain": [
       "                           time   close\n",
       "9323  2019-12-30 20:30:00+00:00  321.10\n",
       "9324  2019-12-30 20:45:00+00:00  321.12\n",
       "9325  2019-12-30 21:00:00+00:00  321.23\n",
       "9326  2019-12-30 21:30:00+00:00  321.23\n",
       "9327  2019-12-30 21:45:00+00:00  321.20"
      ]
     },
     "metadata": {},
     "output_type": "display_data"
    }
   ],
   "source": [
    "# IMPORT S&P 500 DATA\n",
    "# A common example of time series data in the FinTech space involves the stock market.\n",
    "# This is because we can measure the price of each stock at specific intervals throughout the trading day.\n",
    "# Such as every minute, hour, or day - the latter of which gives us the closing price.\n",
    "# We'll analyze the S&P 500, which is the index of the top 500 public stocks in the United States.\n",
    "\n",
    "# Read the S&P 500 CSV data into a DataFrame:\n",
    "sp500_df = pd.read_csv(\n",
    "    Path('sp500.csv')\n",
    ")\n",
    "\n",
    "# Display the first and last five rows of data:\n",
    "display(sp500_df.head())\n",
    "display(sp500_df.tail())"
   ]
  },
  {
   "cell_type": "code",
   "execution_count": 31,
   "id": "e73f9470-da50-46f2-bf28-4f7d4930a8b2",
   "metadata": {},
   "outputs": [
    {
     "data": {
      "text/plain": [
       "time      object\n",
       "close    float64\n",
       "dtype: object"
      ]
     },
     "execution_count": 31,
     "metadata": {},
     "output_type": "execute_result"
    }
   ],
   "source": [
    "# Now let's examine the data types of the data that we just read using the `dtypes` function:\n",
    "sp500_df.dtypes"
   ]
  },
  {
   "cell_type": "code",
   "execution_count": 32,
   "id": "8c6aedc7-de83-4bc0-b406-8919080a7178",
   "metadata": {},
   "outputs": [],
   "source": [
    "# Notice that the output states that the time column is an `object` data type. Why is that?\n",
    "# These functions will read the data and time values contained in the 'time' column as generic strings and not work as intended.\n",
    "# Because we want to do complex calculations with our date and time information, let's start converting them.\n",
    "\n",
    "# ON THE JOB:\n",
    "# As a FinTech professional, you'll encounter business scenarios thata have a global impact.\n",
    "# In these scenarios, data will come from different countries or regions and have different formats.\n",
    "# Because of the importance of time in financial decisions, the ability to deal with the different formats of dates and times is a crucial skill that can save you time and money."
   ]
  },
  {
   "cell_type": "code",
   "execution_count": 33,
   "id": "909ab7c1-6629-4dc2-930a-911b73ff8f3d",
   "metadata": {},
   "outputs": [
    {
     "data": {
      "text/plain": [
       "'2019-01-02 12:45:00+00:00'"
      ]
     },
     "execution_count": 33,
     "metadata": {},
     "output_type": "execute_result"
    }
   ],
   "source": [
    "# WORK WITH DATETIME OBJECTS\n",
    "# Python has many types of data structures for storing time data.\n",
    "# Python considers dates and times to have the following elements:\n",
    "    # 1. The date, which includes the year, month, and day.\n",
    "    # 2. The time, which includes the hour, minute, and second.\n",
    "    # 3. The time zone.\n",
    "# Thus, a `date` object stores the year, month, and day.\n",
    "# A `time` object stores the hour, minute, second, and sometimes, the time zone.\n",
    "# A `datetime` object stores both a `date` and a `time` object.\n",
    "# The `datetime` format is the most common one that you'll work with.\n",
    "# To demonstrate how this format appears, the following code block shoes one of these objects in our data:\n",
    "\n",
    "# Reviewing the time value from index position 0:\n",
    "sp500_df['time'][0]"
   ]
  },
  {
   "cell_type": "code",
   "execution_count": 34,
   "id": "88ff1be0-0925-4495-afae-9c4cc7322470",
   "metadata": {},
   "outputs": [],
   "source": [
    "# The value of the output has a lot of date and time information, so let's break it down.\n",
    "# First, the year, month, and day seem clear.\n",
    "# Then, we can observe the hour, minute, and second.\n",
    "# Finally, the value has a plus sign followed by '00:00'."
   ]
  },
  {
   "cell_type": "code",
   "execution_count": 35,
   "id": "3d061ad7-5e26-413a-b36e-21ecb27577e7",
   "metadata": {},
   "outputs": [],
   "source": [
    "# WHAT'S COORDINATED UNIVERSAL TIME?\n",
    "# It turns out that a time standard exists that anyone in the world can use to standardize an exact moment in time - regardless of the location.\n",
    "# This is called COORDINATED UNIVERSAL TIME (UTC).\n",
    "# It's a global time standard that doesn't adjust for daylight savings time, which differentiates it from Greenwich Mean Time (GMT).\n",
    "# Whenever a timestamp includes a plus sign or a minus sing, it refers to the time zone information.\n",
    "# Specifically, a plus sign or minus sign is followed by the number of hours that we need to add or subtract from the UTC to get the correct time zone.\n",
    "# Common time zones for stock data inclue `-05:00` for New York in standard time and `-04:00` for New York in daylight savings time.\n",
    "# Note that the UTC time standard also matches London's time zone at `+00:00`."
   ]
  },
  {
   "cell_type": "code",
   "execution_count": 36,
   "id": "47c902b8-fd87-4413-99fc-0b0734d248c4",
   "metadata": {},
   "outputs": [
    {
     "data": {
      "text/plain": [
       "Timestamp('2024-01-22 18:01:55.441611')"
      ]
     },
     "execution_count": 36,
     "metadata": {},
     "output_type": "execute_result"
    }
   ],
   "source": [
    "# USE PANDAS FOR DATETIME OBJECTS\n",
    "# With Pandas, we can use `datetime` objects to do mathematical and other programming operations on dates and times.\n",
    "# For example, we can get today's date (and the current time) by running the following function.\n",
    "\n",
    "# Getting the current date and time:\n",
    "pd.to_datetime('today')"
   ]
  },
  {
   "cell_type": "code",
   "execution_count": 37,
   "id": "c9660198-0417-4b27-a2f5-65621bbff2e8",
   "metadata": {},
   "outputs": [],
   "source": [
    "# Calling the `to_datetime` function and passing it a parameter of 'today' returns an object called `Timestamp`, which contains the following:\n",
    "    # 1. The `date` and `time` information of the user's current date in the form of year-month-day.\n",
    "    # 2. the time in the format of hours-minutes-seconds-miliseconds.\n",
    "\n",
    "# NOTE:\n",
    "# Timestamp is the Pandas equivalent of Python's `datetime` object.\n",
    "# It's used for entries that make up the Pandas `datetimeindex` and other time oriented data structures.\n",
    "\n",
    "# We often find this function convenient, for example, whn we want to use an API to pull financial market data that ranges from a particular time in the past to today."
   ]
  },
  {
   "cell_type": "code",
   "execution_count": 38,
   "id": "5940dfd1-b8b1-4802-81ed-59e1d619fbf1",
   "metadata": {},
   "outputs": [
    {
     "name": "stdout",
     "output_type": "stream",
     "text": [
      "<class 'pandas.core.frame.DataFrame'>\n",
      "RangeIndex: 9328 entries, 0 to 9327\n",
      "Data columns (total 2 columns):\n",
      " #   Column  Non-Null Count  Dtype              \n",
      "---  ------  --------------  -----              \n",
      " 0   time    9328 non-null   datetime64[ns, UTC]\n",
      " 1   close   9328 non-null   float64            \n",
      "dtypes: datetime64[ns, UTC](1), float64(1)\n",
      "memory usage: 145.9 KB\n"
     ]
    },
    {
     "data": {
      "text/plain": [
       "None"
      ]
     },
     "metadata": {},
     "output_type": "display_data"
    }
   ],
   "source": [
    "# USE THE TIME-RELATED FUNCTIONS\n",
    "# Now that we understand the format of our time series, we can use the `pd.to_datetime` function to conver the 'time' column of our S&P 500 data to a `datetime` Series.\n",
    "# We can then use various time-related functions such as `pd.date_range`, which allows us to generate dates spanning a specific period.\n",
    "# Let's convert our series to a `datetime` version:\n",
    "\n",
    "# Transform the time column to a datetime data type:\n",
    "sp500_df['time'] = pd.to_datetime(\n",
    "    sp500_df['time'],\n",
    "    infer_datetime_format=True,\n",
    "    utc=True\n",
    ")\n",
    "\n",
    "# Verify the datatype transformation using the info function:\n",
    "display(sp500_df.info())"
   ]
  },
  {
   "cell_type": "code",
   "execution_count": 39,
   "id": "25522b7e-e3bd-44ef-bd93-e352c3526c7d",
   "metadata": {},
   "outputs": [],
   "source": [
    "# The preceding code calls the `pd.to_datetime` function, which accepts three parameters:\n",
    "    # 1. The series that we want to convert.\n",
    "    # 2. The `infer_datetime_format` parameter: As with the `read_csv` function, this parameter tells Pandas whether to guess the format of the time data.\n",
    "    # 3. the `utc` parameter: We set `utc=True` because we know that the time zone in our data has the UTC format.\n",
    "    \n",
    "# NOTE:\n",
    "# After running this oce, you should observe in the output that the time series has the `datetime64[ns, UTC]` data type.\n",
    "# The `64` in the `datetime` name might seem mysterious, but it just relates to the way that the data is stored - That is, in a 64-bit format.\n",
    "\n",
    "# After we transform the 'time' column in our S&P 500 DataFrame, every value in this series has the `datetime` data type.\n",
    "# We then have access to all the native features that `datetime` provieds.\n",
    "# For example, we can do arithmetic operations on dates.\n",
    "# We can also use the convenient Pandas time series functions, such as querying data by using date ranges."
   ]
  },
  {
   "cell_type": "code",
   "execution_count": 40,
   "id": "aa6cfb0c-10ce-4aee-8e45-5cf8514c1438",
   "metadata": {},
   "outputs": [
    {
     "name": "stdout",
     "output_type": "stream",
     "text": [
      "<class 'pandas.core.frame.DataFrame'>\n",
      "RangeIndex: 9328 entries, 0 to 9327\n",
      "Data columns (total 2 columns):\n",
      " #   Column  Non-Null Count  Dtype                     \n",
      "---  ------  --------------  -----                     \n",
      " 0   time    9328 non-null   datetime64[ns, US/Eastern]\n",
      " 1   close   9328 non-null   float64                   \n",
      "dtypes: datetime64[ns, US/Eastern](1), float64(1)\n",
      "memory usage: 145.9 KB\n"
     ]
    }
   ],
   "source": [
    "# CONVERT UTC DATA TO A SPECIFIC TIME ZONE\n",
    "# One of the most relevant stock markets is based in New York's Eastern Time Zone.\n",
    "# So let's convert our time series to that time zone.\n",
    "# Then, we can make a bit more sense about how the S&P 500 behaves.\n",
    "# Because the 'time' column in our DataFrame already has a `datetime` format, we can use the Pandas `dt.tz_convert` function to convert the series to the `US/Eastern` time zone.\n",
    "\n",
    "# Convert the time column to the US/Eastern timezone:\n",
    "sp500_df['time'] = sp500_df['time'].dt.tz_convert('US/Eastern')\n",
    "\n",
    "# Verify the data type transformation using the info function:\n",
    "sp500_df.info()"
   ]
  },
  {
   "cell_type": "code",
   "execution_count": 43,
   "id": "37abcce8-533f-4126-8523-2d7a68d1c261",
   "metadata": {},
   "outputs": [
    {
     "data": {
      "text/html": [
       "<div>\n",
       "<style scoped>\n",
       "    .dataframe tbody tr th:only-of-type {\n",
       "        vertical-align: middle;\n",
       "    }\n",
       "\n",
       "    .dataframe tbody tr th {\n",
       "        vertical-align: top;\n",
       "    }\n",
       "\n",
       "    .dataframe thead th {\n",
       "        text-align: right;\n",
       "    }\n",
       "</style>\n",
       "<table border=\"1\" class=\"dataframe\">\n",
       "  <thead>\n",
       "    <tr style=\"text-align: right;\">\n",
       "      <th></th>\n",
       "      <th>time</th>\n",
       "      <th>close</th>\n",
       "    </tr>\n",
       "  </thead>\n",
       "  <tbody>\n",
       "    <tr>\n",
       "      <th>0</th>\n",
       "      <td>2019-01-02 07:45:00-05:00</td>\n",
       "      <td>246.16</td>\n",
       "    </tr>\n",
       "    <tr>\n",
       "      <th>1</th>\n",
       "      <td>2019-01-02 08:00:00-05:00</td>\n",
       "      <td>246.15</td>\n",
       "    </tr>\n",
       "    <tr>\n",
       "      <th>2</th>\n",
       "      <td>2019-01-02 08:15:00-05:00</td>\n",
       "      <td>245.50</td>\n",
       "    </tr>\n",
       "    <tr>\n",
       "      <th>3</th>\n",
       "      <td>2019-01-02 08:30:00-05:00</td>\n",
       "      <td>245.71</td>\n",
       "    </tr>\n",
       "    <tr>\n",
       "      <th>4</th>\n",
       "      <td>2019-01-02 08:45:00-05:00</td>\n",
       "      <td>245.76</td>\n",
       "    </tr>\n",
       "  </tbody>\n",
       "</table>\n",
       "</div>"
      ],
      "text/plain": [
       "                       time   close\n",
       "0 2019-01-02 07:45:00-05:00  246.16\n",
       "1 2019-01-02 08:00:00-05:00  246.15\n",
       "2 2019-01-02 08:15:00-05:00  245.50\n",
       "3 2019-01-02 08:30:00-05:00  245.71\n",
       "4 2019-01-02 08:45:00-05:00  245.76"
      ]
     },
     "metadata": {},
     "output_type": "display_data"
    },
    {
     "data": {
      "text/html": [
       "<div>\n",
       "<style scoped>\n",
       "    .dataframe tbody tr th:only-of-type {\n",
       "        vertical-align: middle;\n",
       "    }\n",
       "\n",
       "    .dataframe tbody tr th {\n",
       "        vertical-align: top;\n",
       "    }\n",
       "\n",
       "    .dataframe thead th {\n",
       "        text-align: right;\n",
       "    }\n",
       "</style>\n",
       "<table border=\"1\" class=\"dataframe\">\n",
       "  <thead>\n",
       "    <tr style=\"text-align: right;\">\n",
       "      <th></th>\n",
       "      <th>time</th>\n",
       "      <th>close</th>\n",
       "    </tr>\n",
       "  </thead>\n",
       "  <tbody>\n",
       "    <tr>\n",
       "      <th>9323</th>\n",
       "      <td>2019-12-30 15:30:00-05:00</td>\n",
       "      <td>321.10</td>\n",
       "    </tr>\n",
       "    <tr>\n",
       "      <th>9324</th>\n",
       "      <td>2019-12-30 15:45:00-05:00</td>\n",
       "      <td>321.12</td>\n",
       "    </tr>\n",
       "    <tr>\n",
       "      <th>9325</th>\n",
       "      <td>2019-12-30 16:00:00-05:00</td>\n",
       "      <td>321.23</td>\n",
       "    </tr>\n",
       "    <tr>\n",
       "      <th>9326</th>\n",
       "      <td>2019-12-30 16:30:00-05:00</td>\n",
       "      <td>321.23</td>\n",
       "    </tr>\n",
       "    <tr>\n",
       "      <th>9327</th>\n",
       "      <td>2019-12-30 16:45:00-05:00</td>\n",
       "      <td>321.20</td>\n",
       "    </tr>\n",
       "  </tbody>\n",
       "</table>\n",
       "</div>"
      ],
      "text/plain": [
       "                          time   close\n",
       "9323 2019-12-30 15:30:00-05:00  321.10\n",
       "9324 2019-12-30 15:45:00-05:00  321.12\n",
       "9325 2019-12-30 16:00:00-05:00  321.23\n",
       "9326 2019-12-30 16:30:00-05:00  321.23\n",
       "9327 2019-12-30 16:45:00-05:00  321.20"
      ]
     },
     "metadata": {},
     "output_type": "display_data"
    }
   ],
   "source": [
    "# In the preceding output, note that the format of the 'time' column in our `datetime` data now uses the `US/Eastern` time zone.\n",
    "# Review the DataFrame with the new timezone information:\n",
    "display(sp500_df.head())\n",
    "display(sp500_df.tail())"
   ]
  },
  {
   "cell_type": "code",
   "execution_count": null,
   "id": "52954232-78f4-4be5-83b4-06d7f127a2fc",
   "metadata": {},
   "outputs": [],
   "source": [
    "# We can now more easily interpret this time data - because we converted it to have the proper time zone and format that we need to parse it."
   ]
  }
 ],
 "metadata": {
  "kernelspec": {
   "display_name": "Python 3 (ipykernel)",
   "language": "python",
   "name": "python3"
  },
  "language_info": {
   "codemirror_mode": {
    "name": "ipython",
    "version": 3
   },
   "file_extension": ".py",
   "mimetype": "text/x-python",
   "name": "python",
   "nbconvert_exporter": "python",
   "pygments_lexer": "ipython3",
   "version": "3.9.13"
  }
 },
 "nbformat": 4,
 "nbformat_minor": 5
}
